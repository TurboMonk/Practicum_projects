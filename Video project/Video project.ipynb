{
 "cells": [
  {
   "cell_type": "markdown",
   "metadata": {
    "id": "u98L9TgH0eMk"
   },
   "source": [
    "# Разработка A/B-тестирования и анализ результатов"
   ]
  },
  {
   "cell_type": "markdown",
   "metadata": {
    "id": "LJBRALHs0eMf"
   },
   "source": [
    "## Описание данных\n",
    "\n",
    "Предосталенны три таблицы:\n",
    "\n",
    "- `sessions_project_history.csv` — таблица с историческими данными по сессиям пользователей на период с 2025-08-15 по 2025-09-23. Путь к файлу: `/datasets/sessions_project_history.csv`.\n",
    "\n",
    "- `sessions_project_test_part.csv` — таблица с данными за первый день проведения A/B-теста, то есть за 2025-10-14. Путь к файлу: `/datasets/sessions_project_test_part.csv`.\n",
    "\n",
    "- `sessions_project_test.csv` — таблица с данными за весь период проведения A/B-теста, то есть с 2025-10-14 по 2025-11-02. Путь к файлу: `/datasets/sessions_project_test.csv`."
   ]
  },
  {
   "cell_type": "markdown",
   "metadata": {
    "id": "UpOucjID0eMl"
   },
   "source": [
    "### Работа с историческими данными (EDA)"
   ]
  },
  {
   "cell_type": "code",
   "execution_count": 1,
   "metadata": {
    "id": "6TPR2-1RPboT",
    "scrolled": true
   },
   "outputs": [
    {
     "data": {
      "text/html": [
       "<div>\n",
       "<style scoped>\n",
       "    .dataframe tbody tr th:only-of-type {\n",
       "        vertical-align: middle;\n",
       "    }\n",
       "\n",
       "    .dataframe tbody tr th {\n",
       "        vertical-align: top;\n",
       "    }\n",
       "\n",
       "    .dataframe thead th {\n",
       "        text-align: right;\n",
       "    }\n",
       "</style>\n",
       "<table border=\"1\" class=\"dataframe\">\n",
       "  <thead>\n",
       "    <tr style=\"text-align: right;\">\n",
       "      <th></th>\n",
       "      <th>user_id</th>\n",
       "      <th>session_id</th>\n",
       "      <th>session_date</th>\n",
       "      <th>session_start_ts</th>\n",
       "      <th>install_date</th>\n",
       "      <th>session_number</th>\n",
       "      <th>registration_flag</th>\n",
       "      <th>page_counter</th>\n",
       "      <th>region</th>\n",
       "      <th>device</th>\n",
       "    </tr>\n",
       "  </thead>\n",
       "  <tbody>\n",
       "    <tr>\n",
       "      <th>0</th>\n",
       "      <td>E302123B7000BFE4</td>\n",
       "      <td>F9AF61A0C2023832</td>\n",
       "      <td>2025-08-15</td>\n",
       "      <td>2025-08-15 17:47:35</td>\n",
       "      <td>2025-08-15</td>\n",
       "      <td>1</td>\n",
       "      <td>0</td>\n",
       "      <td>3</td>\n",
       "      <td>CIS</td>\n",
       "      <td>iPhone</td>\n",
       "    </tr>\n",
       "    <tr>\n",
       "      <th>1</th>\n",
       "      <td>2530F72E221829FB</td>\n",
       "      <td>85003A206CBDAC6F</td>\n",
       "      <td>2025-08-15</td>\n",
       "      <td>2025-08-15 16:42:14</td>\n",
       "      <td>2025-08-15</td>\n",
       "      <td>1</td>\n",
       "      <td>0</td>\n",
       "      <td>4</td>\n",
       "      <td>MENA</td>\n",
       "      <td>Android</td>\n",
       "    </tr>\n",
       "    <tr>\n",
       "      <th>2</th>\n",
       "      <td>876E020A4FC512F5</td>\n",
       "      <td>3677423E49D72DEE</td>\n",
       "      <td>2025-08-15</td>\n",
       "      <td>2025-08-15 12:30:00</td>\n",
       "      <td>2025-08-15</td>\n",
       "      <td>1</td>\n",
       "      <td>0</td>\n",
       "      <td>4</td>\n",
       "      <td>EU</td>\n",
       "      <td>PC</td>\n",
       "    </tr>\n",
       "    <tr>\n",
       "      <th>3</th>\n",
       "      <td>2640B349E1D81584</td>\n",
       "      <td>956B45F5915CA225</td>\n",
       "      <td>2025-08-15</td>\n",
       "      <td>2025-08-15 15:31:31</td>\n",
       "      <td>2025-08-15</td>\n",
       "      <td>1</td>\n",
       "      <td>0</td>\n",
       "      <td>4</td>\n",
       "      <td>CIS</td>\n",
       "      <td>Android</td>\n",
       "    </tr>\n",
       "    <tr>\n",
       "      <th>4</th>\n",
       "      <td>94E1CBFAEF1F5EE9</td>\n",
       "      <td>83BF0DA35F9F1F40</td>\n",
       "      <td>2025-08-15</td>\n",
       "      <td>2025-08-15 21:33:53</td>\n",
       "      <td>2025-08-15</td>\n",
       "      <td>1</td>\n",
       "      <td>0</td>\n",
       "      <td>3</td>\n",
       "      <td>CIS</td>\n",
       "      <td>Android</td>\n",
       "    </tr>\n",
       "  </tbody>\n",
       "</table>\n",
       "</div>"
      ],
      "text/plain": [
       "            user_id        session_id session_date     session_start_ts  \\\n",
       "0  E302123B7000BFE4  F9AF61A0C2023832   2025-08-15  2025-08-15 17:47:35   \n",
       "1  2530F72E221829FB  85003A206CBDAC6F   2025-08-15  2025-08-15 16:42:14   \n",
       "2  876E020A4FC512F5  3677423E49D72DEE   2025-08-15  2025-08-15 12:30:00   \n",
       "3  2640B349E1D81584  956B45F5915CA225   2025-08-15  2025-08-15 15:31:31   \n",
       "4  94E1CBFAEF1F5EE9  83BF0DA35F9F1F40   2025-08-15  2025-08-15 21:33:53   \n",
       "\n",
       "  install_date  session_number  registration_flag  page_counter region  \\\n",
       "0   2025-08-15               1                  0             3    CIS   \n",
       "1   2025-08-15               1                  0             4   MENA   \n",
       "2   2025-08-15               1                  0             4     EU   \n",
       "3   2025-08-15               1                  0             4    CIS   \n",
       "4   2025-08-15               1                  0             3    CIS   \n",
       "\n",
       "    device  \n",
       "0   iPhone  \n",
       "1  Android  \n",
       "2       PC  \n",
       "3  Android  \n",
       "4  Android  "
      ]
     },
     "execution_count": 1,
     "metadata": {},
     "output_type": "execute_result"
    }
   ],
   "source": [
    "import pandas as pd\n",
    "import matplotlib.pyplot as plt\n",
    "from statsmodels.stats.power import NormalIndPower\n",
    "from math import ceil\n",
    "from scipy import stats as st\n",
    "import statsmodels.api as sm\n",
    "\n",
    "sessions_history = pd.read_csv('https://code.s3.yandex.net/datasets/sessions_project_history.csv')\n",
    "sessions_history.head()"
   ]
  },
  {
   "cell_type": "code",
   "execution_count": 2,
   "metadata": {
    "id": "PWZO9vTIPbPN",
    "scrolled": true
   },
   "outputs": [
    {
     "data": {
      "text/html": [
       "<div>\n",
       "<style scoped>\n",
       "    .dataframe tbody tr th:only-of-type {\n",
       "        vertical-align: middle;\n",
       "    }\n",
       "\n",
       "    .dataframe tbody tr th {\n",
       "        vertical-align: top;\n",
       "    }\n",
       "\n",
       "    .dataframe thead th {\n",
       "        text-align: right;\n",
       "    }\n",
       "</style>\n",
       "<table border=\"1\" class=\"dataframe\">\n",
       "  <thead>\n",
       "    <tr style=\"text-align: right;\">\n",
       "      <th></th>\n",
       "      <th>user_id</th>\n",
       "      <th>session_id</th>\n",
       "      <th>session_date</th>\n",
       "      <th>session_start_ts</th>\n",
       "      <th>install_date</th>\n",
       "      <th>session_number</th>\n",
       "      <th>registration_flag</th>\n",
       "      <th>page_counter</th>\n",
       "      <th>region</th>\n",
       "      <th>device</th>\n",
       "    </tr>\n",
       "  </thead>\n",
       "  <tbody>\n",
       "    <tr>\n",
       "      <th>115558</th>\n",
       "      <td>10E0DEFC1ABDBBE0</td>\n",
       "      <td>B8F0423BBFFCF5DC</td>\n",
       "      <td>2025-08-14</td>\n",
       "      <td>2025-08-14 13:57:39</td>\n",
       "      <td>2025-08-14</td>\n",
       "      <td>1</td>\n",
       "      <td>0</td>\n",
       "      <td>4</td>\n",
       "      <td>CIS</td>\n",
       "      <td>Android</td>\n",
       "    </tr>\n",
       "    <tr>\n",
       "      <th>191751</th>\n",
       "      <td>10E0DEFC1ABDBBE0</td>\n",
       "      <td>87CA2FA549473837</td>\n",
       "      <td>2025-08-15</td>\n",
       "      <td>2025-08-15 16:42:10</td>\n",
       "      <td>2025-08-14</td>\n",
       "      <td>2</td>\n",
       "      <td>0</td>\n",
       "      <td>3</td>\n",
       "      <td>CIS</td>\n",
       "      <td>Android</td>\n",
       "    </tr>\n",
       "    <tr>\n",
       "      <th>239370</th>\n",
       "      <td>10E0DEFC1ABDBBE0</td>\n",
       "      <td>4ADD8011DCDCE318</td>\n",
       "      <td>2025-08-16</td>\n",
       "      <td>2025-08-16 19:53:21</td>\n",
       "      <td>2025-08-14</td>\n",
       "      <td>3</td>\n",
       "      <td>0</td>\n",
       "      <td>3</td>\n",
       "      <td>CIS</td>\n",
       "      <td>Android</td>\n",
       "    </tr>\n",
       "    <tr>\n",
       "      <th>274629</th>\n",
       "      <td>10E0DEFC1ABDBBE0</td>\n",
       "      <td>DF0FD0E09BF1F3D7</td>\n",
       "      <td>2025-08-17</td>\n",
       "      <td>2025-08-17 15:03:43</td>\n",
       "      <td>2025-08-14</td>\n",
       "      <td>4</td>\n",
       "      <td>0</td>\n",
       "      <td>1</td>\n",
       "      <td>CIS</td>\n",
       "      <td>Android</td>\n",
       "    </tr>\n",
       "    <tr>\n",
       "      <th>302501</th>\n",
       "      <td>10E0DEFC1ABDBBE0</td>\n",
       "      <td>3C221774B4DE6885</td>\n",
       "      <td>2025-08-18</td>\n",
       "      <td>2025-08-18 17:29:14</td>\n",
       "      <td>2025-08-14</td>\n",
       "      <td>5</td>\n",
       "      <td>0</td>\n",
       "      <td>4</td>\n",
       "      <td>CIS</td>\n",
       "      <td>Android</td>\n",
       "    </tr>\n",
       "    <tr>\n",
       "      <th>325557</th>\n",
       "      <td>10E0DEFC1ABDBBE0</td>\n",
       "      <td>031BD7A67048105B</td>\n",
       "      <td>2025-08-19</td>\n",
       "      <td>2025-08-19 13:23:55</td>\n",
       "      <td>2025-08-14</td>\n",
       "      <td>6</td>\n",
       "      <td>0</td>\n",
       "      <td>2</td>\n",
       "      <td>CIS</td>\n",
       "      <td>Android</td>\n",
       "    </tr>\n",
       "    <tr>\n",
       "      <th>345336</th>\n",
       "      <td>10E0DEFC1ABDBBE0</td>\n",
       "      <td>FF4315CF4AD4B100</td>\n",
       "      <td>2025-08-20</td>\n",
       "      <td>2025-08-20 19:31:54</td>\n",
       "      <td>2025-08-14</td>\n",
       "      <td>7</td>\n",
       "      <td>0</td>\n",
       "      <td>2</td>\n",
       "      <td>CIS</td>\n",
       "      <td>Android</td>\n",
       "    </tr>\n",
       "    <tr>\n",
       "      <th>377532</th>\n",
       "      <td>10E0DEFC1ABDBBE0</td>\n",
       "      <td>4045FEA0747203B4</td>\n",
       "      <td>2025-08-22</td>\n",
       "      <td>2025-08-22 17:54:13</td>\n",
       "      <td>2025-08-14</td>\n",
       "      <td>8</td>\n",
       "      <td>0</td>\n",
       "      <td>2</td>\n",
       "      <td>CIS</td>\n",
       "      <td>Android</td>\n",
       "    </tr>\n",
       "    <tr>\n",
       "      <th>403538</th>\n",
       "      <td>10E0DEFC1ABDBBE0</td>\n",
       "      <td>344B086C421C7F37</td>\n",
       "      <td>2025-08-24</td>\n",
       "      <td>2025-08-24 14:46:13</td>\n",
       "      <td>2025-08-14</td>\n",
       "      <td>9</td>\n",
       "      <td>0</td>\n",
       "      <td>2</td>\n",
       "      <td>CIS</td>\n",
       "      <td>Android</td>\n",
       "    </tr>\n",
       "    <tr>\n",
       "      <th>414743</th>\n",
       "      <td>10E0DEFC1ABDBBE0</td>\n",
       "      <td>054F20BA371E4C9D</td>\n",
       "      <td>2025-08-25</td>\n",
       "      <td>2025-08-25 18:36:41</td>\n",
       "      <td>2025-08-14</td>\n",
       "      <td>10</td>\n",
       "      <td>0</td>\n",
       "      <td>3</td>\n",
       "      <td>CIS</td>\n",
       "      <td>Android</td>\n",
       "    </tr>\n",
       "  </tbody>\n",
       "</table>\n",
       "</div>"
      ],
      "text/plain": [
       "                 user_id        session_id session_date     session_start_ts  \\\n",
       "115558  10E0DEFC1ABDBBE0  B8F0423BBFFCF5DC   2025-08-14  2025-08-14 13:57:39   \n",
       "191751  10E0DEFC1ABDBBE0  87CA2FA549473837   2025-08-15  2025-08-15 16:42:10   \n",
       "239370  10E0DEFC1ABDBBE0  4ADD8011DCDCE318   2025-08-16  2025-08-16 19:53:21   \n",
       "274629  10E0DEFC1ABDBBE0  DF0FD0E09BF1F3D7   2025-08-17  2025-08-17 15:03:43   \n",
       "302501  10E0DEFC1ABDBBE0  3C221774B4DE6885   2025-08-18  2025-08-18 17:29:14   \n",
       "325557  10E0DEFC1ABDBBE0  031BD7A67048105B   2025-08-19  2025-08-19 13:23:55   \n",
       "345336  10E0DEFC1ABDBBE0  FF4315CF4AD4B100   2025-08-20  2025-08-20 19:31:54   \n",
       "377532  10E0DEFC1ABDBBE0  4045FEA0747203B4   2025-08-22  2025-08-22 17:54:13   \n",
       "403538  10E0DEFC1ABDBBE0  344B086C421C7F37   2025-08-24  2025-08-24 14:46:13   \n",
       "414743  10E0DEFC1ABDBBE0  054F20BA371E4C9D   2025-08-25  2025-08-25 18:36:41   \n",
       "\n",
       "       install_date  session_number  registration_flag  page_counter region  \\\n",
       "115558   2025-08-14               1                  0             4    CIS   \n",
       "191751   2025-08-14               2                  0             3    CIS   \n",
       "239370   2025-08-14               3                  0             3    CIS   \n",
       "274629   2025-08-14               4                  0             1    CIS   \n",
       "302501   2025-08-14               5                  0             4    CIS   \n",
       "325557   2025-08-14               6                  0             2    CIS   \n",
       "345336   2025-08-14               7                  0             2    CIS   \n",
       "377532   2025-08-14               8                  0             2    CIS   \n",
       "403538   2025-08-14               9                  0             2    CIS   \n",
       "414743   2025-08-14              10                  0             3    CIS   \n",
       "\n",
       "         device  \n",
       "115558  Android  \n",
       "191751  Android  \n",
       "239370  Android  \n",
       "274629  Android  \n",
       "302501  Android  \n",
       "325557  Android  \n",
       "345336  Android  \n",
       "377532  Android  \n",
       "403538  Android  \n",
       "414743  Android  "
      ]
     },
     "execution_count": 2,
     "metadata": {},
     "output_type": "execute_result"
    }
   ],
   "source": [
    "uni_sessions = sessions_history.groupby('user_id')['session_id'].nunique().sort_values(ascending = False).reset_index()\n",
    "sessions_history[sessions_history['user_id'] == uni_sessions.iloc[0]['user_id']]"
   ]
  },
  {
   "cell_type": "markdown",
   "metadata": {
    "id": "CmcGpJTP0eMq"
   },
   "source": [
    "#### Анализ числа регистраций\n",
    "Одна из важнейших метрик продукта — число зарегистрированных пользователей. Используя исторические данные, визуализируем, как менялось число регистраций в приложении за время его существования."
   ]
  },
  {
   "cell_type": "code",
   "execution_count": 3,
   "metadata": {},
   "outputs": [
    {
     "data": {
      "image/png": "[encoded data removed]",
      "text/plain": [
       "<Figure size 1152x432 with 2 Axes>"
      ]
     },
     "metadata": {
      "needs_background": "light"
     },
     "output_type": "display_data"
    }
   ],
   "source": [
    "users = sessions_history.groupby('session_date').agg({'user_id': 'nunique', 'registration_flag': 'sum'})\n",
    "\n",
    "fig, axs = plt.subplots(1, 2, figsize=(16, 6))\n",
    "\n",
    "users.plot(kind='line',\n",
    "           grid=True,\n",
    "           legend=True,\n",
    "           title='Общее число пользователей по дням',\n",
    "           xlabel='Дата',\n",
    "           ylabel='Количество пользователей',\n",
    "           ax=axs[0])\n",
    "\n",
    "users_rat = users['registration_flag'] / users['user_id']\n",
    "users_rat.plot(kind='line',\n",
    "               grid=True,\n",
    "               legend=True,\n",
    "               title='Доля зарегистрированных пользователей',\n",
    "               xlabel='Дата',\n",
    "               ylabel='Доля пользователей',\n",
    "               ax=axs[1])\n",
    "\n",
    "plt.tight_layout()\n",
    "plt.show()"
   ]
  },
  {
   "cell_type": "markdown",
   "metadata": {
    "id": "UR7D7RhF0eMr"
   },
   "source": [
    "#### Анализ числа просмотренных страниц\n",
    "Другая важная метрика продукта — число просмотренных страниц в приложении. Чем больше страниц просмотрено, тем сильнее пользователь увлечён контентом, а значит, выше шансы на то, что он зарегистрируется и оплатит подписку."
   ]
  },
  {
   "cell_type": "code",
   "execution_count": 4,
   "metadata": {
    "id": "cb6hPlVzPaSf",
    "scrolled": false
   },
   "outputs": [
    {
     "data": {
      "text/plain": [
       "<AxesSubplot:title={'center':'Соотношение просмотренных страниц по сессиям'}, xlabel='Количество страниц', ylabel='Количество сессий'>"
      ]
     },
     "execution_count": 4,
     "metadata": {},
     "output_type": "execute_result"
    },
    {
     "data": {
      "image/png": "[encoded data removed]",
      "text/plain": [
       "<Figure size 720x432 with 1 Axes>"
      ]
     },
     "metadata": {
      "needs_background": "light"
     },
     "output_type": "display_data"
    }
   ],
   "source": [
    "list_session = sessions_history.groupby('page_counter')['session_id'].count()\n",
    "\n",
    "list_session.plot(kind = 'bar',\n",
    "                  figsize=(10, 6),\n",
    "                  title = 'Соотношение просмотренных страниц по сессиям',\n",
    "                  xlabel = 'Количество страниц',\n",
    "                  ylabel = 'Количество сессий')"
   ]
  },
  {
   "cell_type": "markdown",
   "metadata": {
    "id": "xDltSpVP0eMr"
   },
   "source": [
    "#### Доля пользователей, просмотревших более четырёх страниц\n",
    "Продуктовая команда продукта считает, что сессии, в рамках которых пользователь просмотрел 4 и более страниц, говорят об удовлетворённости контентом и алгоритмами рекомендаций. Этот показатель является важной прокси-метрикой для продукта."
   ]
  },
  {
   "cell_type": "code",
   "execution_count": 5,
   "metadata": {
    "id": "iygaPfixPYMW"
   },
   "outputs": [
    {
     "data": {
      "text/plain": [
       "<AxesSubplot:title={'center':'Доля успешных сессий'}, xlabel='session_date'>"
      ]
     },
     "execution_count": 5,
     "metadata": {},
     "output_type": "execute_result"
    },
    {
     "data": {
      "image/png": "[encoded data removed]",
      "text/plain": [
       "<Figure size 864x576 with 1 Axes>"
      ]
     },
     "metadata": {
      "needs_background": "light"
     },
     "output_type": "display_data"
    }
   ],
   "source": [
    "def category_session (i):\n",
    "    if i >= 4:\n",
    "        return 1\n",
    "    else:\n",
    "        return 0\n",
    "    \n",
    "sessions_history['good_session'] = sessions_history['page_counter'].apply(category_session)\n",
    "\n",
    "rate_good_sessions = sessions_history.groupby('session_date').agg({'session_id': 'count', 'good_session': 'sum'})\n",
    "rate_good_sessions = rate_good_sessions['good_session'] / rate_good_sessions['session_id']\n",
    "\n",
    "rate_good_sessions.plot(kind = 'line',\n",
    "                  figsize=(12, 8),\n",
    "                  grid=True,\n",
    "                  title = 'Доля успешных сессий')"
   ]
  },
  {
   "cell_type": "markdown",
   "metadata": {
    "id": "21JcG77Y0eMt"
   },
   "source": [
    "### Подготовка к тесту\n",
    "При планировании теста необходимо проделать несколько важных шагов:\n",
    "\n",
    "- Определиться с целевой метрикой.\n",
    "\n",
    "- Рассчитать необходимый размер выборки.\n",
    "\n",
    "- Исходя из текущих значений трафика, рассчитать необходимую длительность проведения теста."
   ]
  },
  {
   "cell_type": "markdown",
   "metadata": {
    "id": "uzaeln270eMt"
   },
   "source": [
    "#### Расчёт размера выборки"
   ]
  },
  {
   "cell_type": "code",
   "execution_count": 6,
   "metadata": {
    "id": "zSxJyPGPNdaI"
   },
   "outputs": [
    {
     "name": "stdout",
     "output_type": "stream",
     "text": [
      "Необходимый размер выборки для каждой группы: 17441\n"
     ]
    }
   ],
   "source": [
    "# Задаём параметры\n",
    "alpha = 0.05  # Уровень значимости\n",
    "beta = 0.2  # Ошибка второго рода, часто 1 - мощность\n",
    "power = 0.8  # Мощность теста\n",
    "mde = 0.03  # Минимальный детектируемый эффект\n",
    "\n",
    "# Инициализируем класс NormalIndPower\n",
    "power_analysis = NormalIndPower()\n",
    "\n",
    "# Рассчитываем размер выборки\n",
    "sample_size = power_analysis.solve_power(\n",
    "    effect_size = mde,\n",
    "    power = power,\n",
    "    alpha = alpha,\n",
    "    ratio = 1 # Равномерное распределение выборок\n",
    ")\n",
    "\n",
    "print(f\"Необходимый размер выборки для каждой группы: {int(sample_size)}\")"
   ]
  },
  {
   "cell_type": "markdown",
   "metadata": {
    "id": "qLEv4RoV0eMu"
   },
   "source": [
    "#### Расчёт длительности A/B-теста\n",
    "\n",
    "Рассчитаем длительность теста используя данные о количестве пользователей в каждой выборке и среднем количестве пользователей приложения. "
   ]
  },
  {
   "cell_type": "code",
   "execution_count": 7,
   "metadata": {
    "id": "KZDRbryDOGHa"
   },
   "outputs": [
    {
     "name": "stdout",
     "output_type": "stream",
     "text": [
      "Рассчитанная длительность A/B-теста при текущем уровне трафика в 9907 пользователей в день составит 4 дней\n"
     ]
    }
   ],
   "source": [
    "# Среднее количество пользователей приложения в день по историческим данным\n",
    "avg_daily_users = int(users['user_id'].mean())\n",
    "\n",
    "# Рассчитываем длительность теста в днях как отношение размера выборки к среднему числу пользователей\n",
    "test_duration = ceil(int(sample_size*2) / avg_daily_users)\n",
    "\n",
    "print(f\"Рассчитанная длительность A/B-теста при текущем уровне трафика в {avg_daily_users} пользователей в день составит {test_duration} дней\")"
   ]
  },
  {
   "cell_type": "markdown",
   "metadata": {
    "id": "ZuvtAdha0eMv"
   },
   "source": [
    "### Мониторинг А/В-теста"
   ]
  },
  {
   "cell_type": "code",
   "execution_count": 8,
   "metadata": {
    "id": "G1bqIzDJOUiz"
   },
   "outputs": [
    {
     "name": "stdout",
     "output_type": "stream",
     "text": [
      "0    1477\n",
      "1    1466\n",
      "Name: user_id, dtype: int64\n",
      "\n",
      "Процентная разница в количестве пользователей в группах A и B: 0    0.74\n",
      "dtype: float64\n"
     ]
    },
    {
     "data": {
      "text/plain": [
       "<AxesSubplot:title={'center':'Пользователи групп А/В'}>"
      ]
     },
     "execution_count": 8,
     "metadata": {},
     "output_type": "execute_result"
    },
    {
     "data": {
      "image/png": "[encoded data removed]",
      "text/plain": [
       "<Figure size 720x432 with 1 Axes>"
      ]
     },
     "metadata": {
      "needs_background": "light"
     },
     "output_type": "display_data"
    }
   ],
   "source": [
    "sessions_test_part = pd.read_csv('https://code.s3.yandex.net/datasets/sessions_project_test_part.csv')\n",
    "\n",
    "group_users_d = sessions_test_part.groupby(['session_date', 'test_group'])['user_id'].nunique().reset_index()\n",
    "\n",
    "pivot_users = group_users_d.pivot(index='session_date', columns='test_group', values='user_id').reset_index()\n",
    "\n",
    "persent_diff =round(100 * (pivot_users['A'] - pivot_users['B']) / pivot_users['A'], 2)\n",
    "\n",
    "print(group_users_d['user_id'])\n",
    "print()\n",
    "print(f\"Процентная разница в количестве пользователей в группах A и B: {persent_diff}\") \n",
    "#Прошу подскажите как красиво оформить % разницу без индекса и подписи dtype (reset_index не помог:С)\n",
    "\n",
    "pivot_users.plot(kind = 'bar', figsize=(10, 6), grid=True, title = 'Пользователи групп А/В',legend=True)"
   ]
  },
  {
   "cell_type": "markdown",
   "metadata": {
    "id": "sgpNY5bv0eM0"
   },
   "source": [
    "#### Проверка пересечений пользователей"
   ]
  },
  {
   "cell_type": "code",
   "execution_count": 9,
   "metadata": {
    "id": "E72ozN9FOX1u"
   },
   "outputs": [
    {
     "name": "stdout",
     "output_type": "stream",
     "text": [
      "[]\n"
     ]
    }
   ],
   "source": [
    "a_group = sessions_test_part[sessions_test_part['test_group'] == 'A']['user_id']\n",
    "b_group = sessions_test_part[sessions_test_part['test_group'] == 'B']['user_id']\n",
    "\n",
    "intersection = list(set(a_group) & set(b_group))\n",
    "print(intersection) "
   ]
  },
  {
   "cell_type": "code",
   "execution_count": 10,
   "metadata": {},
   "outputs": [
    {
     "data": {
      "text/plain": [
       "user_id\n",
       "00079359B9D3C6F7    1\n",
       "ADC2E1E1158CFBB2    1\n",
       "ADCEEDAD20F4782F    1\n",
       "ADDCDDC883993FA6    1\n",
       "AE072C4F9B473BCD    1\n",
       "                   ..\n",
       "54C3FA4C32B6ABBA    1\n",
       "54F28A45A5E77DB8    1\n",
       "54FF42B690A9B2E5    1\n",
       "55529D5E3198D24D    1\n",
       "FFFCDE7746148710    1\n",
       "Name: test_group, Length: 2943, dtype: int64"
      ]
     },
     "execution_count": 10,
     "metadata": {},
     "output_type": "execute_result"
    }
   ],
   "source": [
    "# Как то так?\n",
    "uni_group = sessions_test_part.groupby('user_id')['test_group'].nunique().sort_values(ascending = False)\n",
    "uni_group"
   ]
  },
  {
   "cell_type": "markdown",
   "metadata": {
    "id": "6RvkNLrg0eM1"
   },
   "source": [
    "#### Равномерность разделения пользователей по устройствам\n",
    "Убедимся что пользователи равномерно распределены по всем доступным категориальным переменным — типам устройства и регионам."
   ]
  },
  {
   "cell_type": "code",
   "execution_count": 11,
   "metadata": {
    "id": "x_IP6PUNPWHC"
   },
   "outputs": [
    {
     "name": "stderr",
     "output_type": "stream",
     "text": [
      "/tmp/ipykernel_560/190469305.py:6: SettingWithCopyWarning: \n",
      "A value is trying to be set on a copy of a slice from a DataFrame.\n",
      "Try using .loc[row_indexer,col_indexer] = value instead\n",
      "\n",
      "See the caveats in the documentation: https://pandas.pydata.org/pandas-docs/stable/user_guide/indexing.html#returning-a-view-versus-a-copy\n",
      "  device_group_a['rate_device'] = round(device_group_a['user_id'] / device_group_a['user_id'].sum(), 2)\n",
      "/tmp/ipykernel_560/190469305.py:7: SettingWithCopyWarning: \n",
      "A value is trying to be set on a copy of a slice from a DataFrame.\n",
      "Try using .loc[row_indexer,col_indexer] = value instead\n",
      "\n",
      "See the caveats in the documentation: https://pandas.pydata.org/pandas-docs/stable/user_guide/indexing.html#returning-a-view-versus-a-copy\n",
      "  device_group_b['rate_device'] = round(device_group_b['user_id'] / device_group_b['user_id'].sum(), 2)\n"
     ]
    },
    {
     "data": {
      "image/png": "[encoded data removed]",
      "text/plain": [
       "<Figure size 720x864 with 2 Axes>"
      ]
     },
     "metadata": {
      "needs_background": "light"
     },
     "output_type": "display_data"
    }
   ],
   "source": [
    "device_group = sessions_test_part.groupby(['test_group', 'device'])['user_id'].nunique().reset_index()\n",
    "\n",
    "device_group_a = device_group[device_group['test_group'] == 'A']\n",
    "device_group_b = device_group[device_group['test_group'] == 'B']\n",
    "\n",
    "device_group_a['rate_device'] = round(device_group_a['user_id'] / device_group_a['user_id'].sum(), 2)\n",
    "device_group_b['rate_device'] = round(device_group_b['user_id'] / device_group_b['user_id'].sum(), 2)\n",
    "\n",
    "pivot_device_a = device_group_a.pivot(index='test_group', columns='device', values='rate_device').reset_index()\n",
    "pivot_device_b = device_group_b.pivot(index='test_group', columns='device', values='rate_device').reset_index()\n",
    "\n",
    "\n",
    "fig, axs = plt.subplots(2, 1, figsize=(10, 12))\n",
    "\n",
    "pivot_device_a.plot(kind = 'bar',\n",
    "                    grid=True, \n",
    "                    legend=True, \n",
    "                    x='test_group',                     \n",
    "                    rot=0,\n",
    "                    ax=axs[0],\n",
    "                    title='Доля устройств в группе А')\n",
    "\n",
    "pivot_device_b.plot(kind = 'bar',\n",
    "                    grid=True, \n",
    "                    legend=True, \n",
    "                    x='test_group', \n",
    "                    rot=0,\n",
    "                    ax=axs[1],\n",
    "                    title='Доля устройств в группе B')\n",
    "# Очень хотел подписать значения внутри столбцов и отсортировать их по убыванию, не получилось сделать это без ошибок. Подскажите как это сделать?\n",
    "plt.tight_layout()\n",
    "plt.show()"
   ]
  },
  {
   "cell_type": "markdown",
   "metadata": {
    "id": "gAgmP6vo0eM1"
   },
   "source": [
    "#### Равномерность распределения пользователей по регионам\n",
    "Убедимся, что пользователи равномерно распределены по регионам."
   ]
  },
  {
   "cell_type": "code",
   "execution_count": 12,
   "metadata": {
    "id": "3hAq-FG4OdYM"
   },
   "outputs": [
    {
     "name": "stderr",
     "output_type": "stream",
     "text": [
      "/tmp/ipykernel_560/295266176.py:6: SettingWithCopyWarning: \n",
      "A value is trying to be set on a copy of a slice from a DataFrame.\n",
      "Try using .loc[row_indexer,col_indexer] = value instead\n",
      "\n",
      "See the caveats in the documentation: https://pandas.pydata.org/pandas-docs/stable/user_guide/indexing.html#returning-a-view-versus-a-copy\n",
      "  region_group_a['rate_region'] = round(region_group_a['user_id'] / region_group_a['user_id'].sum(), 2)\n",
      "/tmp/ipykernel_560/295266176.py:7: SettingWithCopyWarning: \n",
      "A value is trying to be set on a copy of a slice from a DataFrame.\n",
      "Try using .loc[row_indexer,col_indexer] = value instead\n",
      "\n",
      "See the caveats in the documentation: https://pandas.pydata.org/pandas-docs/stable/user_guide/indexing.html#returning-a-view-versus-a-copy\n",
      "  region_group_b['rate_region'] = round(region_group_b['user_id'] / region_group_b['user_id'].sum(), 2)\n"
     ]
    },
    {
     "data": {
      "image/png": "[encoded data removed]",
      "text/plain": [
       "<Figure size 720x864 with 2 Axes>"
      ]
     },
     "metadata": {},
     "output_type": "display_data"
    }
   ],
   "source": [
    "region_group = sessions_test_part.groupby(['test_group', 'region'])['user_id'].nunique().reset_index()\n",
    "\n",
    "region_group_a = region_group[region_group['test_group'] == 'A']\n",
    "region_group_b = region_group[region_group['test_group'] == 'B']\n",
    "\n",
    "region_group_a['rate_region'] = round(region_group_a['user_id'] / region_group_a['user_id'].sum(), 2)\n",
    "region_group_b['rate_region'] = round(region_group_b['user_id'] / region_group_b['user_id'].sum(), 2)\n",
    "\n",
    "pivot_region_a = region_group_a.pivot(index='test_group', columns='region', values='rate_region').reset_index()\n",
    "pivot_region_b = region_group_a.pivot(index='test_group', columns='region', values='rate_region').reset_index()\n",
    "\n",
    "\n",
    "fig, axs = plt.subplots(2, 1, figsize=(10, 12))\n",
    "\n",
    "axs[0].pie(region_group_a['rate_region'], \n",
    "            labels=region_group_a['region'], \n",
    "            autopct='%1.1f%%', \n",
    "            startangle=90)\n",
    "axs[0].set_title('Доля регионов в группе A')\n",
    "\n",
    "# Построение круговой диаграммы для группы B\n",
    "axs[1].pie(region_group_b['rate_region'], \n",
    "            labels=region_group_b['region'], \n",
    "            autopct='%1.1f%%', \n",
    "            startangle=90)\n",
    "axs[1].set_title('Доля регионов в группе B')\n",
    "\n",
    "plt.tight_layout()\n",
    "plt.show()"
   ]
  },
  {
   "cell_type": "markdown",
   "metadata": {
    "id": "dDELHlAcOi8d"
   },
   "source": [
    "Выводы по итогам анализа:\n",
    "- Разница в количестве пользователей в группах 11 человек в процентном соотношении это составляет 0.74%\n",
    "- По результатам проверки группы не содержат одинаковых пользователей → группы независимы.\n",
    "- Распределение групп по девайсам неравномерное, преобладает платформа Android, наименьше количество пользователей используют Mac.\n",
    "- Распределение пользователей среди двух групп равное: CIS - 44%; MENA - 41%. Наименьшее количество пользователей из региона EU - 15%.\n",
    "\n",
    "Группы сопоставимы и между ними нет статистически значимых различий, пользователи распределены равномерно. Тест проходит корректно."
   ]
  },
  {
   "cell_type": "markdown",
   "metadata": {
    "id": "JVve-YBB0eM2"
   },
   "source": [
    "#### Получение результатов теста и подсчёт основной метрики"
   ]
  },
  {
   "cell_type": "code",
   "execution_count": 13,
   "metadata": {
    "id": "EqRlwMtKPTir"
   },
   "outputs": [
    {
     "data": {
      "text/html": [
       "<div>\n",
       "<style scoped>\n",
       "    .dataframe tbody tr th:only-of-type {\n",
       "        vertical-align: middle;\n",
       "    }\n",
       "\n",
       "    .dataframe tbody tr th {\n",
       "        vertical-align: top;\n",
       "    }\n",
       "\n",
       "    .dataframe thead th {\n",
       "        text-align: right;\n",
       "    }\n",
       "</style>\n",
       "<table border=\"1\" class=\"dataframe\">\n",
       "  <thead>\n",
       "    <tr style=\"text-align: right;\">\n",
       "      <th></th>\n",
       "      <th>user_id</th>\n",
       "      <th>session_id</th>\n",
       "      <th>session_date</th>\n",
       "      <th>session_start_ts</th>\n",
       "      <th>install_date</th>\n",
       "      <th>session_number</th>\n",
       "      <th>registration_flag</th>\n",
       "      <th>page_counter</th>\n",
       "      <th>region</th>\n",
       "      <th>device</th>\n",
       "      <th>test_group</th>\n",
       "      <th>good_session</th>\n",
       "    </tr>\n",
       "  </thead>\n",
       "  <tbody>\n",
       "    <tr>\n",
       "      <th>0</th>\n",
       "      <td>6DAE3B3654DA738E</td>\n",
       "      <td>C69249E26E58F6E2</td>\n",
       "      <td>2025-10-26</td>\n",
       "      <td>2025-10-26 18:15:05</td>\n",
       "      <td>2025-10-16</td>\n",
       "      <td>3</td>\n",
       "      <td>0</td>\n",
       "      <td>3</td>\n",
       "      <td>MENA</td>\n",
       "      <td>Android</td>\n",
       "      <td>A</td>\n",
       "      <td>0</td>\n",
       "    </tr>\n",
       "    <tr>\n",
       "      <th>1</th>\n",
       "      <td>0A3FE5D1DD59110A</td>\n",
       "      <td>66D66D7C9F5181B7</td>\n",
       "      <td>2025-10-21</td>\n",
       "      <td>2025-10-21 17:04:53</td>\n",
       "      <td>2025-10-15</td>\n",
       "      <td>2</td>\n",
       "      <td>1</td>\n",
       "      <td>2</td>\n",
       "      <td>CIS</td>\n",
       "      <td>Android</td>\n",
       "      <td>B</td>\n",
       "      <td>0</td>\n",
       "    </tr>\n",
       "    <tr>\n",
       "      <th>2</th>\n",
       "      <td>2041F1D7AA740B88</td>\n",
       "      <td>50DE51D42215E74C</td>\n",
       "      <td>2025-10-23</td>\n",
       "      <td>2025-10-23 17:39:29</td>\n",
       "      <td>2025-10-19</td>\n",
       "      <td>3</td>\n",
       "      <td>0</td>\n",
       "      <td>2</td>\n",
       "      <td>MENA</td>\n",
       "      <td>Android</td>\n",
       "      <td>A</td>\n",
       "      <td>0</td>\n",
       "    </tr>\n",
       "    <tr>\n",
       "      <th>3</th>\n",
       "      <td>43D7585009168086</td>\n",
       "      <td>5763C0C353C22263</td>\n",
       "      <td>2025-10-24</td>\n",
       "      <td>2025-10-24 15:01:57</td>\n",
       "      <td>2025-10-18</td>\n",
       "      <td>4</td>\n",
       "      <td>0</td>\n",
       "      <td>1</td>\n",
       "      <td>CIS</td>\n",
       "      <td>iPhone</td>\n",
       "      <td>B</td>\n",
       "      <td>0</td>\n",
       "    </tr>\n",
       "    <tr>\n",
       "      <th>4</th>\n",
       "      <td>15AD68B14D62D88C</td>\n",
       "      <td>B1AD09F93C1053BC</td>\n",
       "      <td>2025-10-17</td>\n",
       "      <td>2025-10-17 17:34:39</td>\n",
       "      <td>2025-10-17</td>\n",
       "      <td>1</td>\n",
       "      <td>0</td>\n",
       "      <td>2</td>\n",
       "      <td>MENA</td>\n",
       "      <td>Android</td>\n",
       "      <td>B</td>\n",
       "      <td>0</td>\n",
       "    </tr>\n",
       "  </tbody>\n",
       "</table>\n",
       "</div>"
      ],
      "text/plain": [
       "            user_id        session_id session_date     session_start_ts  \\\n",
       "0  6DAE3B3654DA738E  C69249E26E58F6E2   2025-10-26  2025-10-26 18:15:05   \n",
       "1  0A3FE5D1DD59110A  66D66D7C9F5181B7   2025-10-21  2025-10-21 17:04:53   \n",
       "2  2041F1D7AA740B88  50DE51D42215E74C   2025-10-23  2025-10-23 17:39:29   \n",
       "3  43D7585009168086  5763C0C353C22263   2025-10-24  2025-10-24 15:01:57   \n",
       "4  15AD68B14D62D88C  B1AD09F93C1053BC   2025-10-17  2025-10-17 17:34:39   \n",
       "\n",
       "  install_date  session_number  registration_flag  page_counter region  \\\n",
       "0   2025-10-16               3                  0             3   MENA   \n",
       "1   2025-10-15               2                  1             2    CIS   \n",
       "2   2025-10-19               3                  0             2   MENA   \n",
       "3   2025-10-18               4                  0             1    CIS   \n",
       "4   2025-10-17               1                  0             2   MENA   \n",
       "\n",
       "    device test_group  good_session  \n",
       "0  Android          A             0  \n",
       "1  Android          B             0  \n",
       "2  Android          A             0  \n",
       "3   iPhone          B             0  \n",
       "4  Android          B             0  "
      ]
     },
     "execution_count": 13,
     "metadata": {},
     "output_type": "execute_result"
    }
   ],
   "source": [
    "sessions_test = pd.read_csv('https://code.s3.yandex.net/datasets/sessions_project_test.csv')\n",
    "\n",
    "def category_session (i):\n",
    "    if i >= 4:\n",
    "        return 1\n",
    "    else:\n",
    "        return 0\n",
    "    \n",
    "sessions_test['good_session'] = sessions_test['page_counter'].apply(category_session)\n",
    "sessions_test.head()"
   ]
  },
  {
   "cell_type": "markdown",
   "metadata": {
    "id": "aeYhrMYy0eM2"
   },
   "source": [
    "#### Проверка корректности результатов теста\n",
    "\n",
    "Прежде чем приступать к анализу ключевых продуктовых метрик, необходимо убедиться, что тест проведён корректно."
   ]
  },
  {
   "cell_type": "code",
   "execution_count": 14,
   "metadata": {
    "id": "5NUlcltkTTSU"
   },
   "outputs": [
    {
     "name": "stdout",
     "output_type": "stream",
     "text": [
      "p-значение: 0.938219304859116\n",
      "Не отвергаем нулевую гипотезу: различия не статистически значимы.\n"
     ]
    }
   ],
   "source": [
    "group_session = sessions_test.groupby(['session_date', 'test_group'])['session_id'].nunique().reset_index()\n",
    "\n",
    "a_group_session = group_session['session_id'][group_session['test_group'] == 'A']\n",
    "b_group_session = group_session['session_id'][group_session['test_group'] == 'B']\n",
    "\n",
    "alpha = 0.05\n",
    "\n",
    "results = st.ttest_ind(\n",
    "    a_group_session, \n",
    "    b_group_session,\n",
    "    alternative='two-sided'\n",
    ")\n",
    "\n",
    "print('p-значение:', results.pvalue)\n",
    "\n",
    "if results.pvalue < alpha:\n",
    "    print('Отвергаем нулевую гипотезу: различия статистически значимы.')\n",
    "else:\n",
    "    print('Не отвергаем нулевую гипотезу: различия не статистически значимы.')"
   ]
  },
  {
   "cell_type": "markdown",
   "metadata": {
    "id": "7kwRxzg70eM3"
   },
   "source": [
    "#### Сравнение доли успешных сессий"
   ]
  },
  {
   "cell_type": "code",
   "execution_count": 15,
   "metadata": {
    "id": "Uku-V1CpPRCz"
   },
   "outputs": [
    {
     "name": "stdout",
     "output_type": "stream",
     "text": [
      "0    0.307723\n",
      "1    0.318290\n",
      "Name: rate, dtype: float64\n",
      "\n",
      "Разница в rate между A и B: -0.010566571724179463\n"
     ]
    }
   ],
   "source": [
    "good_sessions = sessions_test.groupby('test_group').agg({'session_id': 'count', 'good_session': 'sum'})\n",
    "\n",
    "good_sessions['rate'] = good_sessions['good_session'] / good_sessions['session_id']\n",
    "good_sessions = good_sessions.reset_index()\n",
    "\n",
    "rate_a = good_sessions.loc[good_sessions['test_group'] == 'A', 'rate'].values[0]\n",
    "rate_b = good_sessions.loc[good_sessions['test_group'] == 'B', 'rate'].values[0]\n",
    "diff_rate = rate_a - rate_b\n",
    "\n",
    "print(good_sessions['rate'])\n",
    "print()\n",
    "print(f\"Разница в rate между A и B: {diff_rate}\")"
   ]
  },
  {
   "cell_type": "markdown",
   "metadata": {
    "id": "9fMFuja10eM4"
   },
   "source": [
    "#### Измерение статистической значимости изменения ключевой метрики"
   ]
  },
  {
   "cell_type": "code",
   "execution_count": 16,
   "metadata": {
    "id": "gFvhRGwlPLS0"
   },
   "outputs": [
    {
     "name": "stdout",
     "output_type": "stream",
     "text": [
      "Z-статистика: -3.602684259949491, p-значение: 0.0003149479976072246\n",
      "Отвергаем нулевую гипотезу: различия статистически значимы.\n"
     ]
    }
   ],
   "source": [
    "success_A = good_sessions.loc[good_sessions['test_group'] == 'A', 'good_session'].values[0]\n",
    "total_A = good_sessions.loc[good_sessions['test_group'] == 'A', 'session_id'].values[0]\n",
    "\n",
    "success_B = good_sessions.loc[good_sessions['test_group'] == 'B', 'good_session'].values[0]\n",
    "total_B = good_sessions.loc[good_sessions['test_group'] == 'B', 'session_id'].values[0]\n",
    "\n",
    "z_stat, p_value = sm.stats.proportions_ztest([success_A, success_B], [total_A, total_B])\n",
    "\n",
    "print(f\"Z-статистика: {z_stat}, p-значение: {p_value}\")\n",
    "\n",
    "if p_value < alpha:\n",
    "    print('Отвергаем нулевую гипотезу: различия статистически значимы.')\n",
    "else:\n",
    "    print('Не отвергаем нулевую гипотезу: различия не статистически значимы.')"
   ]
  },
  {
   "cell_type": "markdown",
   "metadata": {
    "id": "GnJrkY9Q63zS"
   },
   "source": [
    "#### Вывод по результатам A/B-эксперимента"
   ]
  },
  {
   "cell_type": "markdown",
   "metadata": {
    "id": "rri8KRIgPMrW"
   },
   "source": [
    "Период проведения эксперимента с 2025-10-14 по 2025-11-02 (20 дней).\n",
    "Задействовано 2943 пользователя:\n",
    "- Группа А - 1477 человек \n",
    "- Группа В - 1466 человек\n",
    "\n",
    "По результатам эксперимента внедрение нового алгоритма показало рост успешных сессий в тестовой группе на 1,1%.\n",
    "Z-тест дал p-value = 0.0003 это говорит о статистической значимости изменений.\n",
    "По итогам эксперимента внедрение нововведение целесообразно."
   ]
  }
 ],
 "metadata": {
  "ExecuteTimeLog": [
   {
    "duration": 408,
    "start_time": "2025-06-04T04:11:22.733Z"
   },
   {
    "duration": 2163,
    "start_time": "2025-06-04T04:12:02.804Z"
   },
   {
    "duration": 627,
    "start_time": "2025-06-04T04:15:56.800Z"
   },
   {
    "duration": 598,
    "start_time": "2025-06-04T04:16:35.879Z"
   },
   {
    "duration": 629,
    "start_time": "2025-06-04T04:16:42.263Z"
   },
   {
    "duration": 613,
    "start_time": "2025-06-04T04:16:55.087Z"
   },
   {
    "duration": 579,
    "start_time": "2025-06-04T04:20:29.123Z"
   },
   {
    "duration": 605,
    "start_time": "2025-06-04T04:22:15.467Z"
   },
   {
    "duration": 105,
    "start_time": "2025-06-04T04:24:18.895Z"
   },
   {
    "duration": 667,
    "start_time": "2025-06-04T04:24:24.039Z"
   },
   {
    "duration": 645,
    "start_time": "2025-06-04T04:24:38.239Z"
   },
   {
    "duration": 190,
    "start_time": "2025-06-04T04:43:56.706Z"
   },
   {
    "duration": 853,
    "start_time": "2025-06-04T04:49:43.349Z"
   },
   {
    "duration": 386,
    "start_time": "2025-06-04T04:49:55.788Z"
   },
   {
    "duration": 388,
    "start_time": "2025-06-04T04:53:34.408Z"
   },
   {
    "duration": 459,
    "start_time": "2025-06-04T04:54:00.143Z"
   },
   {
    "duration": 420,
    "start_time": "2025-06-04T04:54:21.183Z"
   },
   {
    "duration": 365,
    "start_time": "2025-06-04T04:54:30.647Z"
   },
   {
    "duration": 364,
    "start_time": "2025-06-04T04:56:53.381Z"
   },
   {
    "duration": 359,
    "start_time": "2025-06-04T04:57:05.341Z"
   },
   {
    "duration": 328,
    "start_time": "2025-06-04T05:00:33.946Z"
   },
   {
    "duration": 375,
    "start_time": "2025-06-04T05:04:48.592Z"
   },
   {
    "duration": 337,
    "start_time": "2025-06-04T05:04:54.383Z"
   },
   {
    "duration": 132,
    "start_time": "2025-06-04T05:08:09.524Z"
   },
   {
    "duration": 364,
    "start_time": "2025-06-04T05:08:12.892Z"
   },
   {
    "duration": 96,
    "start_time": "2025-06-04T05:09:05.787Z"
   },
   {
    "duration": 355,
    "start_time": "2025-06-04T05:09:10.194Z"
   },
   {
    "duration": 356,
    "start_time": "2025-06-04T05:09:19.355Z"
   },
   {
    "duration": 370,
    "start_time": "2025-06-04T05:09:25.883Z"
   },
   {
    "duration": 150,
    "start_time": "2025-06-04T05:11:06.977Z"
   },
   {
    "duration": 431,
    "start_time": "2025-06-04T05:11:12.985Z"
   },
   {
    "duration": 368,
    "start_time": "2025-06-04T05:11:34.721Z"
   },
   {
    "duration": 364,
    "start_time": "2025-06-04T05:12:16.792Z"
   },
   {
    "duration": 360,
    "start_time": "2025-06-04T05:12:20.424Z"
   },
   {
    "duration": 379,
    "start_time": "2025-06-04T05:13:32.544Z"
   },
   {
    "duration": 365,
    "start_time": "2025-06-04T05:14:56.959Z"
   },
   {
    "duration": 377,
    "start_time": "2025-06-04T05:15:04.390Z"
   },
   {
    "duration": 380,
    "start_time": "2025-06-04T05:16:41.604Z"
   },
   {
    "duration": 385,
    "start_time": "2025-06-04T05:17:25.669Z"
   },
   {
    "duration": 379,
    "start_time": "2025-06-04T05:18:34.787Z"
   },
   {
    "duration": 378,
    "start_time": "2025-06-04T05:19:04.154Z"
   },
   {
    "duration": 450,
    "start_time": "2025-06-04T05:19:14.721Z"
   },
   {
    "duration": 325,
    "start_time": "2025-06-04T05:19:34.762Z"
   },
   {
    "duration": 330,
    "start_time": "2025-06-04T05:19:40.098Z"
   },
   {
    "duration": 368,
    "start_time": "2025-06-04T05:19:58.169Z"
   },
   {
    "duration": 391,
    "start_time": "2025-06-04T05:21:23.656Z"
   },
   {
    "duration": 388,
    "start_time": "2025-06-04T05:21:40.416Z"
   },
   {
    "duration": 390,
    "start_time": "2025-06-04T05:21:54.464Z"
   },
   {
    "duration": 2537,
    "start_time": "2025-06-04T05:22:12.557Z"
   },
   {
    "duration": 671,
    "start_time": "2025-06-04T05:22:15.096Z"
   },
   {
    "duration": 680,
    "start_time": "2025-06-04T05:22:15.772Z"
   },
   {
    "duration": 647,
    "start_time": "2025-06-04T05:22:16.454Z"
   },
   {
    "duration": 0,
    "start_time": "2025-06-04T05:22:17.102Z"
   },
   {
    "duration": 397,
    "start_time": "2025-06-04T05:22:30.223Z"
   },
   {
    "duration": 393,
    "start_time": "2025-06-04T05:22:36.823Z"
   },
   {
    "duration": 387,
    "start_time": "2025-06-04T05:23:44.430Z"
   },
   {
    "duration": 396,
    "start_time": "2025-06-04T05:23:55.989Z"
   },
   {
    "duration": 406,
    "start_time": "2025-06-04T05:27:09.306Z"
   },
   {
    "duration": 408,
    "start_time": "2025-06-04T05:27:17.722Z"
   },
   {
    "duration": 522,
    "start_time": "2025-06-04T05:28:02.234Z"
   },
   {
    "duration": 415,
    "start_time": "2025-06-04T05:28:31.186Z"
   },
   {
    "duration": 2740,
    "start_time": "2025-06-04T05:28:48.306Z"
   },
   {
    "duration": 714,
    "start_time": "2025-06-04T05:28:51.047Z"
   },
   {
    "duration": 744,
    "start_time": "2025-06-04T05:28:51.762Z"
   },
   {
    "duration": 633,
    "start_time": "2025-06-04T05:28:52.508Z"
   },
   {
    "duration": 0,
    "start_time": "2025-06-04T05:28:53.143Z"
   },
   {
    "duration": 487,
    "start_time": "2025-06-04T05:29:47.120Z"
   },
   {
    "duration": 500,
    "start_time": "2025-06-04T05:30:00.144Z"
   },
   {
    "duration": 417,
    "start_time": "2025-06-04T05:30:15.464Z"
   },
   {
    "duration": 400,
    "start_time": "2025-06-04T05:30:25.088Z"
   },
   {
    "duration": 509,
    "start_time": "2025-06-04T05:30:46.303Z"
   },
   {
    "duration": 427,
    "start_time": "2025-06-04T05:31:11.703Z"
   },
   {
    "duration": 482,
    "start_time": "2025-06-04T05:31:34.359Z"
   },
   {
    "duration": 420,
    "start_time": "2025-06-04T05:32:13.366Z"
   },
   {
    "duration": 441,
    "start_time": "2025-06-04T05:32:40.533Z"
   },
   {
    "duration": 493,
    "start_time": "2025-06-04T05:32:53.781Z"
   },
   {
    "duration": 405,
    "start_time": "2025-06-04T05:33:03.757Z"
   },
   {
    "duration": 421,
    "start_time": "2025-06-04T05:34:53.699Z"
   },
   {
    "duration": 425,
    "start_time": "2025-06-04T05:35:11.514Z"
   },
   {
    "duration": 549,
    "start_time": "2025-06-04T05:35:23.571Z"
   },
   {
    "duration": 524,
    "start_time": "2025-06-04T05:35:34.074Z"
   },
   {
    "duration": 500,
    "start_time": "2025-06-04T05:35:38.722Z"
   },
   {
    "duration": 425,
    "start_time": "2025-06-04T05:37:21.944Z"
   },
   {
    "duration": 400,
    "start_time": "2025-06-04T05:38:15.784Z"
   },
   {
    "duration": 391,
    "start_time": "2025-06-04T05:38:19.032Z"
   },
   {
    "duration": 409,
    "start_time": "2025-06-04T05:38:49.471Z"
   },
   {
    "duration": 646,
    "start_time": "2025-06-04T05:43:35.355Z"
   },
   {
    "duration": 776,
    "start_time": "2025-06-04T05:44:08.201Z"
   },
   {
    "duration": 678,
    "start_time": "2025-06-04T05:44:15.225Z"
   },
   {
    "duration": 647,
    "start_time": "2025-06-04T05:45:54.168Z"
   },
   {
    "duration": 2619,
    "start_time": "2025-06-04T05:48:38.167Z"
   },
   {
    "duration": 699,
    "start_time": "2025-06-04T05:48:40.788Z"
   },
   {
    "duration": 949,
    "start_time": "2025-06-04T05:48:41.489Z"
   },
   {
    "duration": 643,
    "start_time": "2025-06-04T05:48:42.439Z"
   },
   {
    "duration": 0,
    "start_time": "2025-06-04T05:48:43.084Z"
   },
   {
    "duration": 2588,
    "start_time": "2025-06-04T06:03:05.531Z"
   },
   {
    "duration": 729,
    "start_time": "2025-06-04T06:03:08.122Z"
   },
   {
    "duration": 974,
    "start_time": "2025-06-04T06:03:08.852Z"
   },
   {
    "duration": 580,
    "start_time": "2025-06-04T06:03:37.707Z"
   },
   {
    "duration": 0,
    "start_time": "2025-06-04T06:03:38.289Z"
   },
   {
    "duration": 0,
    "start_time": "2025-06-04T06:03:38.292Z"
   },
   {
    "duration": 2598,
    "start_time": "2025-06-04T06:04:01.147Z"
   },
   {
    "duration": 719,
    "start_time": "2025-06-04T06:04:03.747Z"
   },
   {
    "duration": 975,
    "start_time": "2025-06-04T06:04:04.472Z"
   },
   {
    "duration": 46,
    "start_time": "2025-06-04T06:04:05.449Z"
   },
   {
    "duration": 585,
    "start_time": "2025-06-04T06:04:05.497Z"
   },
   {
    "duration": 0,
    "start_time": "2025-06-04T06:04:06.084Z"
   },
   {
    "duration": 194,
    "start_time": "2025-06-04T06:10:08.785Z"
   },
   {
    "duration": 1581,
    "start_time": "2025-06-04T06:12:22.774Z"
   },
   {
    "duration": 86,
    "start_time": "2025-06-04T06:15:56.010Z"
   },
   {
    "duration": 131,
    "start_time": "2025-06-04T06:16:29.058Z"
   },
   {
    "duration": 88,
    "start_time": "2025-06-04T06:16:54.865Z"
   },
   {
    "duration": 152,
    "start_time": "2025-06-04T06:21:08.917Z"
   },
   {
    "duration": 201,
    "start_time": "2025-06-04T06:21:16.020Z"
   },
   {
    "duration": 177,
    "start_time": "2025-06-04T06:21:24.733Z"
   },
   {
    "duration": 247,
    "start_time": "2025-06-04T06:29:45.158Z"
   },
   {
    "duration": 249,
    "start_time": "2025-06-04T06:29:47.516Z"
   },
   {
    "duration": 241,
    "start_time": "2025-06-04T06:29:49.661Z"
   },
   {
    "duration": 247,
    "start_time": "2025-06-04T06:31:34.356Z"
   },
   {
    "duration": 246,
    "start_time": "2025-06-04T06:31:37.428Z"
   },
   {
    "duration": 239,
    "start_time": "2025-06-04T06:31:48.499Z"
   },
   {
    "duration": 385,
    "start_time": "2025-06-04T06:32:59.227Z"
   },
   {
    "duration": 406,
    "start_time": "2025-06-04T06:33:17.962Z"
   },
   {
    "duration": 3439,
    "start_time": "2025-06-04T11:13:28.649Z"
   },
   {
    "duration": 766,
    "start_time": "2025-06-04T11:13:32.090Z"
   },
   {
    "duration": 1082,
    "start_time": "2025-06-04T11:13:32.858Z"
   },
   {
    "duration": 238,
    "start_time": "2025-06-04T11:13:33.942Z"
   },
   {
    "duration": 387,
    "start_time": "2025-06-04T11:13:34.186Z"
   },
   {
    "duration": 542,
    "start_time": "2025-06-04T11:13:34.583Z"
   },
   {
    "duration": 89,
    "start_time": "2025-06-04T11:13:35.127Z"
   },
   {
    "duration": 172,
    "start_time": "2025-06-04T11:25:08.951Z"
   },
   {
    "duration": 5,
    "start_time": "2025-06-04T11:27:36.515Z"
   },
   {
    "duration": 5,
    "start_time": "2025-06-04T11:27:48.122Z"
   },
   {
    "duration": 4,
    "start_time": "2025-06-04T11:28:13.794Z"
   },
   {
    "duration": 2484,
    "start_time": "2025-06-05T03:31:02.671Z"
   },
   {
    "duration": 747,
    "start_time": "2025-06-05T03:31:05.158Z"
   },
   {
    "duration": 1354,
    "start_time": "2025-06-05T03:31:05.907Z"
   },
   {
    "duration": 241,
    "start_time": "2025-06-05T03:31:07.263Z"
   },
   {
    "duration": 394,
    "start_time": "2025-06-05T03:31:07.508Z"
   },
   {
    "duration": 551,
    "start_time": "2025-06-05T03:31:07.904Z"
   },
   {
    "duration": 6,
    "start_time": "2025-06-05T03:31:08.457Z"
   },
   {
    "duration": 103,
    "start_time": "2025-06-05T04:31:34.388Z"
   },
   {
    "duration": 49,
    "start_time": "2025-06-05T04:33:54.754Z"
   },
   {
    "duration": 55,
    "start_time": "2025-06-05T04:34:07.457Z"
   },
   {
    "duration": 54,
    "start_time": "2025-06-05T04:34:18.969Z"
   },
   {
    "duration": 69,
    "start_time": "2025-06-05T04:34:25.592Z"
   },
   {
    "duration": 1623,
    "start_time": "2025-06-05T05:02:14.488Z"
   },
   {
    "duration": 1279,
    "start_time": "2025-06-05T05:02:30.718Z"
   },
   {
    "duration": 51,
    "start_time": "2025-06-05T05:04:03.332Z"
   },
   {
    "duration": 59,
    "start_time": "2025-06-05T05:04:06.804Z"
   },
   {
    "duration": 1478,
    "start_time": "2025-06-05T05:04:37.556Z"
   },
   {
    "duration": 1557,
    "start_time": "2025-06-05T05:05:10.451Z"
   },
   {
    "duration": 49,
    "start_time": "2025-06-05T05:05:16.907Z"
   },
   {
    "duration": 1394,
    "start_time": "2025-06-05T05:05:28.452Z"
   },
   {
    "duration": 42,
    "start_time": "2025-06-05T05:05:33.355Z"
   },
   {
    "duration": 52,
    "start_time": "2025-06-05T05:05:41.779Z"
   },
   {
    "duration": 49,
    "start_time": "2025-06-05T05:06:03.210Z"
   },
   {
    "duration": 52,
    "start_time": "2025-06-05T05:06:27.322Z"
   },
   {
    "duration": 57,
    "start_time": "2025-06-05T05:06:37.522Z"
   },
   {
    "duration": 53,
    "start_time": "2025-06-05T05:06:44.194Z"
   },
   {
    "duration": 98,
    "start_time": "2025-06-05T05:07:12.003Z"
   },
   {
    "duration": 66,
    "start_time": "2025-06-05T05:07:40.017Z"
   },
   {
    "duration": 75,
    "start_time": "2025-06-05T05:08:03.736Z"
   },
   {
    "duration": 49,
    "start_time": "2025-06-05T05:08:53.024Z"
   },
   {
    "duration": 53,
    "start_time": "2025-06-05T05:09:23.975Z"
   },
   {
    "duration": 54,
    "start_time": "2025-06-05T05:17:07.047Z"
   },
   {
    "duration": 88,
    "start_time": "2025-06-05T05:24:34.149Z"
   },
   {
    "duration": 51,
    "start_time": "2025-06-05T05:25:39.182Z"
   },
   {
    "duration": 113,
    "start_time": "2025-06-05T05:32:03.847Z"
   },
   {
    "duration": 54,
    "start_time": "2025-06-05T05:32:21.985Z"
   },
   {
    "duration": 49,
    "start_time": "2025-06-05T05:37:58.338Z"
   },
   {
    "duration": 50,
    "start_time": "2025-06-05T05:38:22.793Z"
   },
   {
    "duration": 59,
    "start_time": "2025-06-05T05:52:37.116Z"
   },
   {
    "duration": 109,
    "start_time": "2025-06-05T05:54:41.722Z"
   },
   {
    "duration": 61,
    "start_time": "2025-06-05T05:54:50.963Z"
   },
   {
    "duration": 212,
    "start_time": "2025-06-05T05:56:40.856Z"
   },
   {
    "duration": 63,
    "start_time": "2025-06-05T05:59:37.943Z"
   },
   {
    "duration": 269,
    "start_time": "2025-06-05T05:59:42.309Z"
   },
   {
    "duration": 221,
    "start_time": "2025-06-05T06:00:12.813Z"
   },
   {
    "duration": 260,
    "start_time": "2025-06-05T06:00:47.132Z"
   },
   {
    "duration": 247,
    "start_time": "2025-06-05T06:00:53.883Z"
   },
   {
    "duration": 302,
    "start_time": "2025-06-05T06:01:19.556Z"
   },
   {
    "duration": 232,
    "start_time": "2025-06-05T06:01:50.654Z"
   },
   {
    "duration": 69,
    "start_time": "2025-06-05T06:02:57.747Z"
   },
   {
    "duration": 73,
    "start_time": "2025-06-05T06:03:44.001Z"
   },
   {
    "duration": 206,
    "start_time": "2025-06-05T06:03:53.881Z"
   },
   {
    "duration": 222,
    "start_time": "2025-06-05T06:04:39.065Z"
   },
   {
    "duration": 239,
    "start_time": "2025-06-05T06:04:44.121Z"
   },
   {
    "duration": 242,
    "start_time": "2025-06-05T06:05:05.576Z"
   },
   {
    "duration": 212,
    "start_time": "2025-06-05T06:05:14.855Z"
   },
   {
    "duration": 207,
    "start_time": "2025-06-05T06:05:40.751Z"
   },
   {
    "duration": 234,
    "start_time": "2025-06-05T06:05:57.488Z"
   },
   {
    "duration": 212,
    "start_time": "2025-06-05T06:06:20.183Z"
   },
   {
    "duration": 219,
    "start_time": "2025-06-05T06:06:45.974Z"
   },
   {
    "duration": 240,
    "start_time": "2025-06-05T06:07:36.847Z"
   },
   {
    "duration": 21,
    "start_time": "2025-06-05T06:17:31.733Z"
   },
   {
    "duration": 9,
    "start_time": "2025-06-05T06:17:41.171Z"
   },
   {
    "duration": 8,
    "start_time": "2025-06-05T06:17:43.884Z"
   },
   {
    "duration": 328,
    "start_time": "2025-06-05T06:17:55.491Z"
   },
   {
    "duration": 21,
    "start_time": "2025-06-05T06:18:01.906Z"
   },
   {
    "duration": 26,
    "start_time": "2025-06-05T06:45:20.704Z"
   },
   {
    "duration": 6,
    "start_time": "2025-06-05T06:45:59.462Z"
   },
   {
    "duration": 9,
    "start_time": "2025-06-05T06:46:18.837Z"
   },
   {
    "duration": 25,
    "start_time": "2025-06-05T06:46:41.582Z"
   },
   {
    "duration": 12,
    "start_time": "2025-06-05T06:46:53.205Z"
   },
   {
    "duration": 12,
    "start_time": "2025-06-05T06:47:26.957Z"
   },
   {
    "duration": 17,
    "start_time": "2025-06-05T06:49:16.699Z"
   },
   {
    "duration": 19,
    "start_time": "2025-06-05T06:49:29.645Z"
   },
   {
    "duration": 20,
    "start_time": "2025-06-05T06:49:44.620Z"
   },
   {
    "duration": 21,
    "start_time": "2025-06-05T06:49:54.481Z"
   },
   {
    "duration": 22,
    "start_time": "2025-06-05T06:50:12.972Z"
   },
   {
    "duration": 20,
    "start_time": "2025-06-05T06:50:25.940Z"
   },
   {
    "duration": 11,
    "start_time": "2025-06-05T06:50:50.012Z"
   },
   {
    "duration": 19,
    "start_time": "2025-06-05T06:50:54.028Z"
   },
   {
    "duration": 16,
    "start_time": "2025-06-05T06:51:28.236Z"
   },
   {
    "duration": 14,
    "start_time": "2025-06-05T06:51:41.842Z"
   },
   {
    "duration": 24,
    "start_time": "2025-06-05T06:52:17.394Z"
   },
   {
    "duration": 16,
    "start_time": "2025-06-05T06:52:32.722Z"
   },
   {
    "duration": 24,
    "start_time": "2025-06-05T06:52:53.833Z"
   },
   {
    "duration": 27,
    "start_time": "2025-06-05T06:53:04.130Z"
   },
   {
    "duration": 20,
    "start_time": "2025-06-05T06:53:16.617Z"
   },
   {
    "duration": 198,
    "start_time": "2025-06-05T06:57:08.844Z"
   },
   {
    "duration": 75,
    "start_time": "2025-06-05T06:57:49.900Z"
   },
   {
    "duration": 1449,
    "start_time": "2025-06-05T08:41:12.317Z"
   },
   {
    "duration": 1587,
    "start_time": "2025-06-05T08:41:33.029Z"
   },
   {
    "duration": 1329,
    "start_time": "2025-06-05T08:41:42.716Z"
   },
   {
    "duration": 1437,
    "start_time": "2025-06-05T08:41:59.387Z"
   },
   {
    "duration": 17,
    "start_time": "2025-06-05T08:42:04.923Z"
   },
   {
    "duration": 21,
    "start_time": "2025-06-05T08:42:38.994Z"
   },
   {
    "duration": 175,
    "start_time": "2025-06-05T08:43:03.226Z"
   },
   {
    "duration": 178,
    "start_time": "2025-06-05T08:43:42.842Z"
   },
   {
    "duration": 183,
    "start_time": "2025-06-05T08:49:15.588Z"
   },
   {
    "duration": 186,
    "start_time": "2025-06-05T08:49:20.252Z"
   },
   {
    "duration": 183,
    "start_time": "2025-06-05T08:49:23.716Z"
   },
   {
    "duration": 212,
    "start_time": "2025-06-05T08:50:05.868Z"
   },
   {
    "duration": 194,
    "start_time": "2025-06-05T08:52:09.273Z"
   },
   {
    "duration": 15,
    "start_time": "2025-06-05T08:55:05.918Z"
   },
   {
    "duration": 9,
    "start_time": "2025-06-05T08:57:56.002Z"
   },
   {
    "duration": 14,
    "start_time": "2025-06-05T08:58:03.620Z"
   },
   {
    "duration": 16,
    "start_time": "2025-06-05T08:59:47.890Z"
   },
   {
    "duration": 17,
    "start_time": "2025-06-05T08:59:57.835Z"
   },
   {
    "duration": 20,
    "start_time": "2025-06-05T09:00:35.058Z"
   },
   {
    "duration": 172,
    "start_time": "2025-06-05T09:01:35.801Z"
   },
   {
    "duration": 194,
    "start_time": "2025-06-05T09:02:09.832Z"
   },
   {
    "duration": 157,
    "start_time": "2025-06-05T09:02:26.992Z"
   },
   {
    "duration": 87,
    "start_time": "2025-06-05T09:02:46.079Z"
   },
   {
    "duration": 171,
    "start_time": "2025-06-05T09:02:51.623Z"
   },
   {
    "duration": 202,
    "start_time": "2025-06-05T09:03:26.213Z"
   },
   {
    "duration": 308,
    "start_time": "2025-06-05T09:03:47.861Z"
   },
   {
    "duration": 1341,
    "start_time": "2025-06-05T09:04:06.238Z"
   },
   {
    "duration": 188,
    "start_time": "2025-06-05T09:04:16.453Z"
   },
   {
    "duration": 177,
    "start_time": "2025-06-05T09:04:35.525Z"
   },
   {
    "duration": 22,
    "start_time": "2025-06-05T09:05:42.605Z"
   },
   {
    "duration": 23,
    "start_time": "2025-06-05T09:06:01.108Z"
   },
   {
    "duration": 183,
    "start_time": "2025-06-05T09:06:06.292Z"
   },
   {
    "duration": 153,
    "start_time": "2025-06-05T09:06:52.314Z"
   },
   {
    "duration": 189,
    "start_time": "2025-06-05T09:07:29.347Z"
   },
   {
    "duration": 186,
    "start_time": "2025-06-05T09:07:49.897Z"
   },
   {
    "duration": 186,
    "start_time": "2025-06-05T09:07:56.074Z"
   },
   {
    "duration": 20,
    "start_time": "2025-06-05T09:08:51.608Z"
   },
   {
    "duration": 179,
    "start_time": "2025-06-05T09:09:00.856Z"
   },
   {
    "duration": 170,
    "start_time": "2025-06-05T09:09:11.649Z"
   },
   {
    "duration": 23,
    "start_time": "2025-06-05T09:09:43.096Z"
   },
   {
    "duration": 22,
    "start_time": "2025-06-05T09:10:01.104Z"
   },
   {
    "duration": 174,
    "start_time": "2025-06-05T09:10:29.231Z"
   },
   {
    "duration": 174,
    "start_time": "2025-06-05T09:10:44.960Z"
   },
   {
    "duration": 180,
    "start_time": "2025-06-05T09:11:36.462Z"
   },
   {
    "duration": 17,
    "start_time": "2025-06-05T09:12:18.781Z"
   },
   {
    "duration": 178,
    "start_time": "2025-06-05T09:12:30.149Z"
   },
   {
    "duration": 26,
    "start_time": "2025-06-05T09:13:04.933Z"
   },
   {
    "duration": 187,
    "start_time": "2025-06-05T09:13:12.005Z"
   },
   {
    "duration": 198,
    "start_time": "2025-06-05T09:17:19.064Z"
   },
   {
    "duration": 201,
    "start_time": "2025-06-05T09:17:38.537Z"
   },
   {
    "duration": 34,
    "start_time": "2025-06-05T09:18:24.928Z"
   },
   {
    "duration": 185,
    "start_time": "2025-06-05T09:18:28.663Z"
   },
   {
    "duration": 445,
    "start_time": "2025-06-05T09:29:21.765Z"
   },
   {
    "duration": 310,
    "start_time": "2025-06-05T09:29:32.109Z"
   },
   {
    "duration": 373,
    "start_time": "2025-06-05T09:29:52.396Z"
   },
   {
    "duration": 307,
    "start_time": "2025-06-05T09:29:57.900Z"
   },
   {
    "duration": 428,
    "start_time": "2025-06-05T09:30:00.525Z"
   },
   {
    "duration": 309,
    "start_time": "2025-06-05T09:30:03.684Z"
   },
   {
    "duration": 457,
    "start_time": "2025-06-05T09:30:36.907Z"
   },
   {
    "duration": 413,
    "start_time": "2025-06-05T09:31:02.755Z"
   },
   {
    "duration": 412,
    "start_time": "2025-06-05T09:31:13.618Z"
   },
   {
    "duration": 524,
    "start_time": "2025-06-05T09:31:24.115Z"
   },
   {
    "duration": 419,
    "start_time": "2025-06-05T09:31:33.898Z"
   },
   {
    "duration": 689,
    "start_time": "2025-06-05T09:31:38.474Z"
   },
   {
    "duration": 467,
    "start_time": "2025-06-05T09:32:16.097Z"
   },
   {
    "duration": 17,
    "start_time": "2025-06-05T09:43:48.157Z"
   },
   {
    "duration": 14,
    "start_time": "2025-06-05T09:44:29.452Z"
   },
   {
    "duration": 13,
    "start_time": "2025-06-05T09:45:10.556Z"
   },
   {
    "duration": 22,
    "start_time": "2025-06-05T09:47:18.100Z"
   },
   {
    "duration": 1051,
    "start_time": "2025-06-05T09:49:39.041Z"
   },
   {
    "duration": 18,
    "start_time": "2025-06-05T09:50:08.489Z"
   },
   {
    "duration": 19,
    "start_time": "2025-06-05T09:50:17.608Z"
   },
   {
    "duration": 481,
    "start_time": "2025-06-05T09:51:04.561Z"
   },
   {
    "duration": 1408,
    "start_time": "2025-06-05T09:52:21.384Z"
   },
   {
    "duration": 535,
    "start_time": "2025-06-05T09:52:40.111Z"
   },
   {
    "duration": 486,
    "start_time": "2025-06-05T09:53:37.470Z"
   },
   {
    "duration": 478,
    "start_time": "2025-06-05T09:56:01.892Z"
   },
   {
    "duration": 431,
    "start_time": "2025-06-05T09:57:09.498Z"
   },
   {
    "duration": 254,
    "start_time": "2025-06-05T09:57:45.090Z"
   },
   {
    "duration": 362,
    "start_time": "2025-06-05T09:58:36.026Z"
   },
   {
    "duration": 244,
    "start_time": "2025-06-05T10:00:37.280Z"
   },
   {
    "duration": 332,
    "start_time": "2025-06-05T10:02:59.885Z"
   },
   {
    "duration": 2582,
    "start_time": "2025-06-05T10:03:54.156Z"
   },
   {
    "duration": 687,
    "start_time": "2025-06-05T10:03:56.740Z"
   },
   {
    "duration": 987,
    "start_time": "2025-06-05T10:03:57.437Z"
   },
   {
    "duration": 226,
    "start_time": "2025-06-05T10:03:58.425Z"
   },
   {
    "duration": 395,
    "start_time": "2025-06-05T10:03:58.653Z"
   },
   {
    "duration": 514,
    "start_time": "2025-06-05T10:03:59.050Z"
   },
   {
    "duration": 4,
    "start_time": "2025-06-05T10:03:59.566Z"
   },
   {
    "duration": 340,
    "start_time": "2025-06-05T10:03:59.572Z"
   },
   {
    "duration": 8,
    "start_time": "2025-06-05T10:03:59.914Z"
   },
   {
    "duration": 517,
    "start_time": "2025-06-05T10:03:59.936Z"
   },
   {
    "duration": 384,
    "start_time": "2025-06-05T10:04:00.455Z"
   },
   {
    "duration": 248,
    "start_time": "2025-06-05T10:46:08.212Z"
   },
   {
    "duration": 202,
    "start_time": "2025-06-05T10:47:02.418Z"
   },
   {
    "duration": 47,
    "start_time": "2025-06-06T07:53:25.130Z"
   },
   {
    "duration": 2247,
    "start_time": "2025-06-06T07:53:30.234Z"
   },
   {
    "duration": 553,
    "start_time": "2025-06-06T07:53:32.483Z"
   },
   {
    "duration": 1075,
    "start_time": "2025-06-06T07:53:33.037Z"
   },
   {
    "duration": 198,
    "start_time": "2025-06-06T07:53:34.115Z"
   },
   {
    "duration": 314,
    "start_time": "2025-06-06T07:53:34.316Z"
   },
   {
    "duration": 439,
    "start_time": "2025-06-06T07:53:34.635Z"
   },
   {
    "duration": 6,
    "start_time": "2025-06-06T07:53:35.075Z"
   },
   {
    "duration": 182,
    "start_time": "2025-06-06T07:53:35.082Z"
   },
   {
    "duration": 7,
    "start_time": "2025-06-06T07:53:35.265Z"
   },
   {
    "duration": 441,
    "start_time": "2025-06-06T07:53:35.273Z"
   },
   {
    "duration": 295,
    "start_time": "2025-06-06T07:53:35.715Z"
   },
   {
    "duration": 396,
    "start_time": "2025-06-06T07:53:36.012Z"
   },
   {
    "duration": 444,
    "start_time": "2025-06-06T07:54:03.890Z"
   },
   {
    "duration": 36,
    "start_time": "2025-06-06T08:09:52.531Z"
   },
   {
    "duration": 40,
    "start_time": "2025-06-06T08:09:56.874Z"
   },
   {
    "duration": 1323,
    "start_time": "2025-06-06T08:19:49.097Z"
   },
   {
    "duration": 1256,
    "start_time": "2025-06-06T08:20:08.361Z"
   },
   {
    "duration": 39,
    "start_time": "2025-06-06T08:20:31.257Z"
   },
   {
    "duration": 1273,
    "start_time": "2025-06-06T08:20:47.544Z"
   },
   {
    "duration": 49,
    "start_time": "2025-06-06T08:21:16.224Z"
   },
   {
    "duration": 41,
    "start_time": "2025-06-06T08:21:20.488Z"
   },
   {
    "duration": 49,
    "start_time": "2025-06-06T08:22:30.967Z"
   },
   {
    "duration": 50,
    "start_time": "2025-06-06T08:22:53.142Z"
   },
   {
    "duration": 48,
    "start_time": "2025-06-06T08:23:13.118Z"
   },
   {
    "duration": 41,
    "start_time": "2025-06-06T08:24:38.820Z"
   },
   {
    "duration": 40,
    "start_time": "2025-06-06T08:26:29.387Z"
   },
   {
    "duration": 27,
    "start_time": "2025-06-06T08:49:36.787Z"
   },
   {
    "duration": 1199,
    "start_time": "2025-06-06T08:52:22.040Z"
   },
   {
    "duration": 1408,
    "start_time": "2025-06-06T08:52:35.568Z"
   },
   {
    "duration": 26,
    "start_time": "2025-06-06T08:53:02.791Z"
   },
   {
    "duration": 1222,
    "start_time": "2025-06-06T08:53:15.735Z"
   },
   {
    "duration": 1313,
    "start_time": "2025-06-06T08:53:22.399Z"
   },
   {
    "duration": 24,
    "start_time": "2025-06-06T08:54:00.502Z"
   },
   {
    "duration": 1200,
    "start_time": "2025-06-06T08:54:06.815Z"
   },
   {
    "duration": 18,
    "start_time": "2025-06-06T08:55:31.733Z"
   },
   {
    "duration": 19,
    "start_time": "2025-06-06T08:56:35.252Z"
   },
   {
    "duration": 18,
    "start_time": "2025-06-06T08:56:44.059Z"
   },
   {
    "duration": 1311,
    "start_time": "2025-06-06T09:00:37.993Z"
   },
   {
    "duration": 3345,
    "start_time": "2025-06-06T09:01:25.575Z"
   },
   {
    "duration": 22,
    "start_time": "2025-06-06T09:01:34.958Z"
   },
   {
    "duration": 20,
    "start_time": "2025-06-06T09:01:51.118Z"
   },
   {
    "duration": 23,
    "start_time": "2025-06-06T09:02:07.199Z"
   },
   {
    "duration": 22,
    "start_time": "2025-06-06T09:02:27.453Z"
   },
   {
    "duration": 24,
    "start_time": "2025-06-06T09:02:34.685Z"
   },
   {
    "duration": 30,
    "start_time": "2025-06-06T09:13:17.115Z"
   },
   {
    "duration": 23,
    "start_time": "2025-06-06T09:13:25.915Z"
   },
   {
    "duration": 20,
    "start_time": "2025-06-06T09:13:50.891Z"
   },
   {
    "duration": 19,
    "start_time": "2025-06-06T09:14:04.280Z"
   },
   {
    "duration": 19,
    "start_time": "2025-06-06T09:14:28.715Z"
   },
   {
    "duration": 11,
    "start_time": "2025-06-06T09:23:56.593Z"
   },
   {
    "duration": 262,
    "start_time": "2025-06-06T09:24:09.033Z"
   },
   {
    "duration": 7,
    "start_time": "2025-06-06T09:24:56.640Z"
   },
   {
    "duration": 190,
    "start_time": "2025-06-06T09:31:35.066Z"
   },
   {
    "duration": 177,
    "start_time": "2025-06-06T09:31:51.050Z"
   },
   {
    "duration": 182,
    "start_time": "2025-06-06T09:32:25.825Z"
   },
   {
    "duration": 51,
    "start_time": "2025-06-06T16:32:52.119Z"
   },
   {
    "duration": 2358,
    "start_time": "2025-06-06T16:32:59.422Z"
   },
   {
    "duration": 679,
    "start_time": "2025-06-06T16:33:01.783Z"
   },
   {
    "duration": 1015,
    "start_time": "2025-06-06T16:33:02.463Z"
   },
   {
    "duration": 223,
    "start_time": "2025-06-06T16:33:03.480Z"
   },
   {
    "duration": 403,
    "start_time": "2025-06-06T16:33:03.708Z"
   },
   {
    "duration": 527,
    "start_time": "2025-06-06T16:33:04.113Z"
   },
   {
    "duration": 5,
    "start_time": "2025-06-06T16:33:04.641Z"
   },
   {
    "duration": 216,
    "start_time": "2025-06-06T16:33:04.647Z"
   },
   {
    "duration": 7,
    "start_time": "2025-06-06T16:33:04.865Z"
   },
   {
    "duration": 156,
    "start_time": "2025-06-06T16:33:04.873Z"
   },
   {
    "duration": 0,
    "start_time": "2025-06-06T16:33:05.031Z"
   },
   {
    "duration": 0,
    "start_time": "2025-06-06T16:33:05.032Z"
   },
   {
    "duration": 0,
    "start_time": "2025-06-06T16:33:05.033Z"
   },
   {
    "duration": 0,
    "start_time": "2025-06-06T16:33:05.035Z"
   },
   {
    "duration": 0,
    "start_time": "2025-06-06T16:33:05.036Z"
   },
   {
    "duration": 0,
    "start_time": "2025-06-06T16:33:05.037Z"
   },
   {
    "duration": 499,
    "start_time": "2025-06-06T16:33:17.700Z"
   },
   {
    "duration": 9,
    "start_time": "2025-06-06T16:33:18.691Z"
   },
   {
    "duration": 9,
    "start_time": "2025-06-06T16:33:20.101Z"
   },
   {
    "duration": 8,
    "start_time": "2025-06-06T16:34:55.654Z"
   },
   {
    "duration": 8,
    "start_time": "2025-06-06T16:34:56.320Z"
   },
   {
    "duration": 2266,
    "start_time": "2025-06-06T16:35:55.863Z"
   },
   {
    "duration": 720,
    "start_time": "2025-06-06T16:35:58.131Z"
   },
   {
    "duration": 1048,
    "start_time": "2025-06-06T16:35:58.853Z"
   },
   {
    "duration": 231,
    "start_time": "2025-06-06T16:35:59.904Z"
   },
   {
    "duration": 417,
    "start_time": "2025-06-06T16:36:00.138Z"
   },
   {
    "duration": 526,
    "start_time": "2025-06-06T16:36:00.557Z"
   },
   {
    "duration": 5,
    "start_time": "2025-06-06T16:36:01.085Z"
   },
   {
    "duration": 253,
    "start_time": "2025-06-06T16:36:01.092Z"
   },
   {
    "duration": 8,
    "start_time": "2025-06-06T16:36:01.347Z"
   },
   {
    "duration": 571,
    "start_time": "2025-06-06T16:36:01.356Z"
   },
   {
    "duration": 391,
    "start_time": "2025-06-06T16:36:01.930Z"
   },
   {
    "duration": 519,
    "start_time": "2025-06-06T16:36:02.323Z"
   },
   {
    "duration": 48,
    "start_time": "2025-06-06T16:36:02.844Z"
   },
   {
    "duration": 51,
    "start_time": "2025-06-06T16:36:02.907Z"
   },
   {
    "duration": 326,
    "start_time": "2025-06-06T16:36:02.960Z"
   },
   {
    "duration": 2361,
    "start_time": "2025-06-06T16:39:03.535Z"
   },
   {
    "duration": 745,
    "start_time": "2025-06-06T16:39:05.897Z"
   },
   {
    "duration": 1034,
    "start_time": "2025-06-06T16:39:06.643Z"
   },
   {
    "duration": 229,
    "start_time": "2025-06-06T16:39:07.679Z"
   },
   {
    "duration": 391,
    "start_time": "2025-06-06T16:39:07.918Z"
   },
   {
    "duration": 523,
    "start_time": "2025-06-06T16:39:08.312Z"
   },
   {
    "duration": 5,
    "start_time": "2025-06-06T16:39:08.837Z"
   },
   {
    "duration": 211,
    "start_time": "2025-06-06T16:39:08.843Z"
   },
   {
    "duration": 7,
    "start_time": "2025-06-06T16:39:09.055Z"
   },
   {
    "duration": 491,
    "start_time": "2025-06-06T16:39:09.065Z"
   },
   {
    "duration": 359,
    "start_time": "2025-06-06T16:39:09.557Z"
   },
   {
    "duration": 573,
    "start_time": "2025-06-06T16:39:09.918Z"
   },
   {
    "duration": 58,
    "start_time": "2025-06-06T16:39:10.492Z"
   },
   {
    "duration": 22,
    "start_time": "2025-06-06T16:39:10.551Z"
   },
   {
    "duration": 307,
    "start_time": "2025-06-06T16:39:10.575Z"
   },
   {
    "duration": 3719,
    "start_time": "2025-06-09T03:39:07.556Z"
   },
   {
    "duration": 679,
    "start_time": "2025-06-09T03:39:11.278Z"
   },
   {
    "duration": 813,
    "start_time": "2025-06-09T03:39:11.960Z"
   },
   {
    "duration": 201,
    "start_time": "2025-06-09T03:39:12.775Z"
   },
   {
    "duration": 384,
    "start_time": "2025-06-09T03:39:12.978Z"
   },
   {
    "duration": 18,
    "start_time": "2025-06-09T03:39:13.364Z"
   },
   {
    "duration": 4,
    "start_time": "2025-06-09T03:39:13.384Z"
   },
   {
    "duration": 292,
    "start_time": "2025-06-09T03:39:13.390Z"
   },
   {
    "duration": 8,
    "start_time": "2025-06-09T03:39:13.684Z"
   },
   {
    "duration": 468,
    "start_time": "2025-06-09T03:39:13.694Z"
   },
   {
    "duration": 319,
    "start_time": "2025-06-09T03:39:14.164Z"
   },
   {
    "duration": 743,
    "start_time": "2025-06-09T03:39:14.484Z"
   },
   {
    "duration": 60,
    "start_time": "2025-06-09T03:39:15.228Z"
   },
   {
    "duration": 23,
    "start_time": "2025-06-09T03:39:15.291Z"
   },
   {
    "duration": 8,
    "start_time": "2025-06-09T03:39:15.316Z"
   },
   {
    "duration": 292,
    "start_time": "2025-06-09T03:42:32.969Z"
   },
   {
    "duration": 228,
    "start_time": "2025-06-09T03:42:43.168Z"
   },
   {
    "duration": 231,
    "start_time": "2025-06-09T03:42:48.400Z"
   },
   {
    "duration": 10,
    "start_time": "2025-06-09T03:43:02.784Z"
   },
   {
    "duration": 5,
    "start_time": "2025-06-09T03:46:43.237Z"
   },
   {
    "duration": 482,
    "start_time": "2025-06-09T03:50:24.562Z"
   },
   {
    "duration": 445,
    "start_time": "2025-06-09T03:50:59.505Z"
   },
   {
    "duration": 34,
    "start_time": "2025-06-09T03:51:10.608Z"
   },
   {
    "duration": 475,
    "start_time": "2025-06-09T03:51:13.944Z"
   },
   {
    "duration": 322,
    "start_time": "2025-06-09T03:52:43.495Z"
   },
   {
    "duration": 485,
    "start_time": "2025-06-09T03:57:51.280Z"
   },
   {
    "duration": 714,
    "start_time": "2025-06-09T03:58:18.990Z"
   },
   {
    "duration": 691,
    "start_time": "2025-06-09T03:58:29.735Z"
   },
   {
    "duration": 701,
    "start_time": "2025-06-09T03:58:39.375Z"
   },
   {
    "duration": 721,
    "start_time": "2025-06-09T03:58:46.310Z"
   },
   {
    "duration": 703,
    "start_time": "2025-06-09T03:58:52.734Z"
   },
   {
    "duration": 709,
    "start_time": "2025-06-09T03:58:56.910Z"
   },
   {
    "duration": 799,
    "start_time": "2025-06-09T03:59:02.094Z"
   },
   {
    "duration": 45,
    "start_time": "2025-06-09T08:43:21.046Z"
   },
   {
    "duration": 3437,
    "start_time": "2025-06-09T08:43:33.683Z"
   },
   {
    "duration": 568,
    "start_time": "2025-06-09T08:43:37.122Z"
   },
   {
    "duration": 645,
    "start_time": "2025-06-09T08:43:37.691Z"
   },
   {
    "duration": 195,
    "start_time": "2025-06-09T08:43:38.338Z"
   },
   {
    "duration": 328,
    "start_time": "2025-06-09T08:43:38.535Z"
   },
   {
    "duration": 14,
    "start_time": "2025-06-09T08:43:38.864Z"
   },
   {
    "duration": 40,
    "start_time": "2025-06-09T08:43:38.879Z"
   },
   {
    "duration": 261,
    "start_time": "2025-06-09T08:43:38.920Z"
   },
   {
    "duration": 7,
    "start_time": "2025-06-09T08:43:39.183Z"
   },
   {
    "duration": 9,
    "start_time": "2025-06-09T08:43:39.192Z"
   },
   {
    "duration": 428,
    "start_time": "2025-06-09T08:43:39.203Z"
   },
   {
    "duration": 8,
    "start_time": "2025-06-09T08:43:39.634Z"
   },
   {
    "duration": 9,
    "start_time": "2025-06-09T08:43:39.644Z"
   },
   {
    "duration": 321,
    "start_time": "2025-06-09T08:43:39.655Z"
   },
   {
    "duration": 493,
    "start_time": "2025-06-09T08:43:39.977Z"
   },
   {
    "duration": 43,
    "start_time": "2025-06-09T08:43:40.471Z"
   },
   {
    "duration": 81,
    "start_time": "2025-06-09T08:43:40.515Z"
   },
   {
    "duration": 16,
    "start_time": "2025-06-09T08:43:40.598Z"
   },
   {
    "duration": 8,
    "start_time": "2025-06-09T08:44:15.060Z"
   },
   {
    "duration": 8,
    "start_time": "2025-06-09T08:44:15.403Z"
   },
   {
    "duration": 297,
    "start_time": "2025-06-09T08:44:32.500Z"
   },
   {
    "duration": 3135,
    "start_time": "2025-06-09T08:45:28.100Z"
   },
   {
    "duration": 569,
    "start_time": "2025-06-09T08:45:31.237Z"
   },
   {
    "duration": 611,
    "start_time": "2025-06-09T08:45:31.808Z"
   },
   {
    "duration": 183,
    "start_time": "2025-06-09T08:45:32.420Z"
   },
   {
    "duration": 341,
    "start_time": "2025-06-09T08:45:32.605Z"
   },
   {
    "duration": 15,
    "start_time": "2025-06-09T08:45:32.948Z"
   },
   {
    "duration": 4,
    "start_time": "2025-06-09T08:45:32.964Z"
   },
   {
    "duration": 259,
    "start_time": "2025-06-09T08:45:32.970Z"
   },
   {
    "duration": 9,
    "start_time": "2025-06-09T08:45:33.231Z"
   },
   {
    "duration": 10,
    "start_time": "2025-06-09T08:45:33.242Z"
   },
   {
    "duration": 456,
    "start_time": "2025-06-09T08:45:33.254Z"
   },
   {
    "duration": 282,
    "start_time": "2025-06-09T08:45:33.712Z"
   },
   {
    "duration": 481,
    "start_time": "2025-06-09T08:45:33.996Z"
   },
   {
    "duration": 43,
    "start_time": "2025-06-09T08:45:34.479Z"
   },
   {
    "duration": 88,
    "start_time": "2025-06-09T08:45:34.535Z"
   },
   {
    "duration": 10,
    "start_time": "2025-06-09T08:45:34.624Z"
   }
  ],
  "colab": {
   "provenance": []
  },
  "kernelspec": {
   "display_name": "Python 3 (ipykernel)",
   "language": "python",
   "name": "python3"
  },
  "language_info": {
   "codemirror_mode": {
    "name": "ipython",
    "version": 3
   },
   "file_extension": ".py",
   "mimetype": "text/x-python",
   "name": "python",
   "nbconvert_exporter": "python",
   "pygments_lexer": "ipython3",
   "version": "3.9.5"
  },
  "toc": {
   "base_numbering": 1,
   "nav_menu": {},
   "number_sections": true,
   "sideBar": true,
   "skip_h1_title": true,
   "title_cell": "Table of Contents",
   "title_sidebar": "Contents",
   "toc_cell": false,
   "toc_position": {},
   "toc_section_display": true,
   "toc_window_display": false
  }
 },
 "nbformat": 4,
 "nbformat_minor": 1
}

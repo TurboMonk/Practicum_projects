{
 "cells": [
  {
   "cell_type": "markdown",
   "metadata": {
    "id": "LMuaGIE3lGcr"
   },
   "source": [
    "# Проект: Исследовательский анализ сервиса по продаже билетов и проверка гипотез\n",
    "\n",
    "- Автор: Шепелев А.Д.\n",
    "- Дата: 04.07.2025"
   ]
  },
  {
   "cell_type": "markdown",
   "metadata": {},
   "source": [
    "### Цели и задачи проекта\n",
    "\n",
    "**Цель:** Подготовка данных и проведение исследовательского анализа с проверкой нескольких гипотез.\n",
    "\n",
    "**Задачи**\n",
    "1. Загрузить данные и ознакомиться с содержимым.\n",
    "2. Провести предобработку данных с предварительным исследованием.\n",
    "3. Провести исследовательский анализ данных.\n",
    "4. Сформулировать выводы по проведённому анализу.\n",
    "5. Проверить гипотезы.\n",
    "6. Сформулировать выводы по результатам проверки.\n",
    "\n",
    "### Данные\n",
    "\n",
    "Для анализа предоставлены следующие данные:\n",
    "\n",
    "- `final_tickets_orders_df.csv`\n",
    "- `final_tickets_events_df.csv`\n",
    "- `final_tickets_tenge_df.csv`\n",
    "\n",
    "#### Описание датасета `final_tickets_orders_df.csv`\n",
    "\n",
    "Содержит информацию обо всех заказах билетов, совершённых с двух типов устройств — мобильных и стационарных:\n",
    "\n",
    "- `order_id` — уникальный идентификатор заказа;\n",
    "- `user_id` — уникальный идентификатор пользователя;\n",
    "- `created_dt_msk` — дата создания заказа (московское время);\n",
    "- `created_ts_msk` — дата и время создания заказа (московское время);\n",
    "- `event_id` — идентификатор мероприятия из таблицы `events`;\n",
    "- `cinema_circuit` — сеть кинотеатров. Если не применимо, то здесь будет значение `нет`;\n",
    "- `age_limit` — возрастное ограничение мероприятия;\n",
    "- `currency_code` — валюта оплаты;\n",
    "- `device_type_canonical` —  тип устройства, с которого был оформлен заказ;\n",
    "- `revenue` — выручка от заказа;\n",
    "- `service_name` — название билетного оператора;\n",
    "- `tickets_count` — количество купленных билетов;\n",
    "- `total` — общая сумма заказа;\n",
    "- `days_since_prev` — количество дней с предыдущей покупки для каждого пользователя.\n",
    "\n",
    "\n",
    "#### Описание датасета `final_tickets_events_df.csv`\n",
    "\n",
    "Содержит информацию о событиях, включая город и регион события, а также информацию о площадке проведения мероприятия:\n",
    "\n",
    "- `event_id` — уникальный идентификатор мероприятия;\n",
    "- `event_name` — название мероприятия;\n",
    "- `event_type_description` — описание типа мероприятия;\n",
    "- `event_type_main` — основной тип мероприятия;\n",
    "- `organizers` — организаторы мероприятия;\n",
    "- `region_name` — название региона;\n",
    "- `city_name` — название города;\n",
    "- `venue_id` — уникальный идентификатор площадки;\n",
    "- `venue_name` —  название площадки;\n",
    "- `venue_address` — адрес площадки.\n",
    "\n",
    "#### Описание датасета `final_tickets_tenge_df.csv`\n",
    "\n",
    "Содержит информацию о курсе тенге к российскому рублю за 2024 год:\n",
    "\n",
    "- `nominal` — номинал (100 тенге);\n",
    "- `data` — дата;\n",
    "- `curs` — курс тенге к рублю;\n",
    "- `cdx` — обозначение валюты.\n",
    "\n",
    "### Структура проекта\n",
    "\n",
    "1. Знакомство с данными: загрузка предобработка.\n",
    "2. Исследовательский анализ.\n",
    "3. Проверка гипотез.\n",
    "4. Итоговый вывод и рекомендации.\n",
    "---"
   ]
  },
  {
   "cell_type": "markdown",
   "metadata": {},
   "source": [
    "## Знакомство с данными: загрузка и первичная предобработка"
   ]
  },
  {
   "cell_type": "code",
   "execution_count": 1,
   "metadata": {},
   "outputs": [
    {
     "name": "stdout",
     "output_type": "stream",
     "text": [
      "Collecting numpy==1.23\n",
      "  Downloading numpy-1.23.0-cp39-cp39-manylinux_2_17_x86_64.manylinux2014_x86_64.whl (17.1 MB)\n",
      "\u001b[K     |████████████████████████████████| 17.1 MB 1.4 MB/s eta 0:00:01\n",
      "\u001b[?25hInstalling collected packages: numpy\n",
      "  Attempting uninstall: numpy\n",
      "    Found existing installation: numpy 1.21.1\n",
      "    Uninstalling numpy-1.21.1:\n",
      "      Successfully uninstalled numpy-1.21.1\n",
      "\u001b[31mERROR: pip's dependency resolver does not currently take into account all the packages that are installed. This behaviour is the source of the following dependency conflicts.\n",
      "numba 0.56.0 requires numpy<1.23,>=1.18, but you have numpy 1.23.0 which is incompatible.\u001b[0m\n",
      "Successfully installed numpy-1.23.0\n"
     ]
    }
   ],
   "source": [
    "!pip install numpy==1.23"
   ]
  },
  {
   "cell_type": "code",
   "execution_count": 2,
   "metadata": {},
   "outputs": [],
   "source": [
    "# Импортируем необходимые библиотеки\n",
    "\n",
    "import pandas as pd\n",
    "import seaborn as sns\n",
    "import matplotlib.pyplot as plt\n",
    "from statsmodels.stats.power import NormalIndPower\n",
    "from statsmodels.stats.proportion import proportion_effectsize\n",
    "from math import ceil\n",
    "from scipy import stats as st\n",
    "from scipy.stats import mannwhitneyu\n",
    "import statsmodels.api as sm"
   ]
  },
  {
   "cell_type": "code",
   "execution_count": 3,
   "metadata": {},
   "outputs": [],
   "source": [
    "# Загружаем данные в переменные\n",
    "\n",
    "df_orders = pd.read_csv('https://code.s3.yandex.net/datasets/final_tickets_orders_df.csv')\n",
    "df_events = pd.read_csv('https://code.s3.yandex.net/datasets/final_tickets_events_df.csv')\n",
    "df_tenge = pd.read_csv('https://code.s3.yandex.net/datasets/final_tickets_tenge_df.csv')"
   ]
  },
  {
   "cell_type": "code",
   "execution_count": 4,
   "metadata": {},
   "outputs": [
    {
     "name": "stdout",
     "output_type": "stream",
     "text": [
      "<class 'pandas.core.frame.DataFrame'>\n",
      "RangeIndex: 290849 entries, 0 to 290848\n",
      "Data columns (total 14 columns):\n",
      " #   Column                 Non-Null Count   Dtype  \n",
      "---  ------                 --------------   -----  \n",
      " 0   order_id               290849 non-null  int64  \n",
      " 1   user_id                290849 non-null  object \n",
      " 2   created_dt_msk         290849 non-null  object \n",
      " 3   created_ts_msk         290849 non-null  object \n",
      " 4   event_id               290849 non-null  int64  \n",
      " 5   cinema_circuit         290849 non-null  object \n",
      " 6   age_limit              290849 non-null  int64  \n",
      " 7   currency_code          290849 non-null  object \n",
      " 8   device_type_canonical  290849 non-null  object \n",
      " 9   revenue                290849 non-null  float64\n",
      " 10  service_name           290849 non-null  object \n",
      " 11  tickets_count          290849 non-null  int64  \n",
      " 12  total                  290849 non-null  float64\n",
      " 13  days_since_prev        268909 non-null  float64\n",
      "dtypes: float64(3), int64(4), object(7)\n",
      "memory usage: 31.1+ MB\n"
     ]
    }
   ],
   "source": [
    "df_orders.info()"
   ]
  },
  {
   "cell_type": "code",
   "execution_count": 5,
   "metadata": {},
   "outputs": [
    {
     "data": {
      "text/html": [
       "<div>\n",
       "<style scoped>\n",
       "    .dataframe tbody tr th:only-of-type {\n",
       "        vertical-align: middle;\n",
       "    }\n",
       "\n",
       "    .dataframe tbody tr th {\n",
       "        vertical-align: top;\n",
       "    }\n",
       "\n",
       "    .dataframe thead th {\n",
       "        text-align: right;\n",
       "    }\n",
       "</style>\n",
       "<table border=\"1\" class=\"dataframe\">\n",
       "  <thead>\n",
       "    <tr style=\"text-align: right;\">\n",
       "      <th></th>\n",
       "      <th>order_id</th>\n",
       "      <th>user_id</th>\n",
       "      <th>created_dt_msk</th>\n",
       "      <th>created_ts_msk</th>\n",
       "      <th>event_id</th>\n",
       "      <th>cinema_circuit</th>\n",
       "      <th>age_limit</th>\n",
       "      <th>currency_code</th>\n",
       "      <th>device_type_canonical</th>\n",
       "      <th>revenue</th>\n",
       "      <th>service_name</th>\n",
       "      <th>tickets_count</th>\n",
       "      <th>total</th>\n",
       "      <th>days_since_prev</th>\n",
       "    </tr>\n",
       "  </thead>\n",
       "  <tbody>\n",
       "    <tr>\n",
       "      <th>0</th>\n",
       "      <td>4359165</td>\n",
       "      <td>0002849b70a3ce2</td>\n",
       "      <td>2024-08-20</td>\n",
       "      <td>2024-08-20 16:08:03</td>\n",
       "      <td>169230</td>\n",
       "      <td>нет</td>\n",
       "      <td>16</td>\n",
       "      <td>rub</td>\n",
       "      <td>mobile</td>\n",
       "      <td>1521.94</td>\n",
       "      <td>Край билетов</td>\n",
       "      <td>4</td>\n",
       "      <td>10870.99</td>\n",
       "      <td>NaN</td>\n",
       "    </tr>\n",
       "    <tr>\n",
       "      <th>1</th>\n",
       "      <td>7965605</td>\n",
       "      <td>0005ca5e93f2cf4</td>\n",
       "      <td>2024-07-23</td>\n",
       "      <td>2024-07-23 18:36:24</td>\n",
       "      <td>237325</td>\n",
       "      <td>нет</td>\n",
       "      <td>0</td>\n",
       "      <td>rub</td>\n",
       "      <td>mobile</td>\n",
       "      <td>289.45</td>\n",
       "      <td>Мой билет</td>\n",
       "      <td>2</td>\n",
       "      <td>2067.51</td>\n",
       "      <td>NaN</td>\n",
       "    </tr>\n",
       "    <tr>\n",
       "      <th>2</th>\n",
       "      <td>7292370</td>\n",
       "      <td>0005ca5e93f2cf4</td>\n",
       "      <td>2024-10-06</td>\n",
       "      <td>2024-10-06 13:56:02</td>\n",
       "      <td>578454</td>\n",
       "      <td>нет</td>\n",
       "      <td>0</td>\n",
       "      <td>rub</td>\n",
       "      <td>mobile</td>\n",
       "      <td>1258.57</td>\n",
       "      <td>За билетом!</td>\n",
       "      <td>4</td>\n",
       "      <td>13984.16</td>\n",
       "      <td>75.0</td>\n",
       "    </tr>\n",
       "    <tr>\n",
       "      <th>3</th>\n",
       "      <td>1139875</td>\n",
       "      <td>000898990054619</td>\n",
       "      <td>2024-07-13</td>\n",
       "      <td>2024-07-13 19:40:48</td>\n",
       "      <td>387271</td>\n",
       "      <td>нет</td>\n",
       "      <td>0</td>\n",
       "      <td>rub</td>\n",
       "      <td>mobile</td>\n",
       "      <td>8.49</td>\n",
       "      <td>Лови билет!</td>\n",
       "      <td>2</td>\n",
       "      <td>212.28</td>\n",
       "      <td>NaN</td>\n",
       "    </tr>\n",
       "    <tr>\n",
       "      <th>4</th>\n",
       "      <td>972400</td>\n",
       "      <td>000898990054619</td>\n",
       "      <td>2024-10-04</td>\n",
       "      <td>2024-10-04 22:33:15</td>\n",
       "      <td>509453</td>\n",
       "      <td>нет</td>\n",
       "      <td>18</td>\n",
       "      <td>rub</td>\n",
       "      <td>mobile</td>\n",
       "      <td>1390.41</td>\n",
       "      <td>Билеты без проблем</td>\n",
       "      <td>3</td>\n",
       "      <td>10695.43</td>\n",
       "      <td>83.0</td>\n",
       "    </tr>\n",
       "  </tbody>\n",
       "</table>\n",
       "</div>"
      ],
      "text/plain": [
       "   order_id          user_id created_dt_msk       created_ts_msk  event_id  \\\n",
       "0   4359165  0002849b70a3ce2     2024-08-20  2024-08-20 16:08:03    169230   \n",
       "1   7965605  0005ca5e93f2cf4     2024-07-23  2024-07-23 18:36:24    237325   \n",
       "2   7292370  0005ca5e93f2cf4     2024-10-06  2024-10-06 13:56:02    578454   \n",
       "3   1139875  000898990054619     2024-07-13  2024-07-13 19:40:48    387271   \n",
       "4    972400  000898990054619     2024-10-04  2024-10-04 22:33:15    509453   \n",
       "\n",
       "  cinema_circuit  age_limit currency_code device_type_canonical  revenue  \\\n",
       "0            нет         16           rub                mobile  1521.94   \n",
       "1            нет          0           rub                mobile   289.45   \n",
       "2            нет          0           rub                mobile  1258.57   \n",
       "3            нет          0           rub                mobile     8.49   \n",
       "4            нет         18           rub                mobile  1390.41   \n",
       "\n",
       "         service_name  tickets_count     total  days_since_prev  \n",
       "0        Край билетов              4  10870.99              NaN  \n",
       "1           Мой билет              2   2067.51              NaN  \n",
       "2         За билетом!              4  13984.16             75.0  \n",
       "3         Лови билет!              2    212.28              NaN  \n",
       "4  Билеты без проблем              3  10695.43             83.0  "
      ]
     },
     "execution_count": 5,
     "metadata": {},
     "output_type": "execute_result"
    }
   ],
   "source": [
    "df_orders.head()"
   ]
  },
  {
   "cell_type": "markdown",
   "metadata": {},
   "source": [
    "По первичной оценке данные `df_orders` соответствуют названию столбцов. Пропущенные значения присутствуют только в столбце `days_since_prev`, но их наличие информативно предусмотрено. Типы данных корректны, при необходимости столбцы `created_dt_msk` и `created_ts_msk` можно перевести в формат для работы с датами."
   ]
  },
  {
   "cell_type": "code",
   "execution_count": 6,
   "metadata": {},
   "outputs": [
    {
     "name": "stdout",
     "output_type": "stream",
     "text": [
      "<class 'pandas.core.frame.DataFrame'>\n",
      "RangeIndex: 22427 entries, 0 to 22426\n",
      "Data columns (total 11 columns):\n",
      " #   Column                  Non-Null Count  Dtype \n",
      "---  ------                  --------------  ----- \n",
      " 0   event_id                22427 non-null  int64 \n",
      " 1   event_name              22427 non-null  object\n",
      " 2   event_type_description  22427 non-null  object\n",
      " 3   event_type_main         22427 non-null  object\n",
      " 4   organizers              22427 non-null  object\n",
      " 5   region_name             22427 non-null  object\n",
      " 6   city_name               22427 non-null  object\n",
      " 7   city_id                 22427 non-null  int64 \n",
      " 8   venue_id                22427 non-null  int64 \n",
      " 9   venue_name              22427 non-null  object\n",
      " 10  venue_address           22427 non-null  object\n",
      "dtypes: int64(3), object(8)\n",
      "memory usage: 1.9+ MB\n"
     ]
    }
   ],
   "source": [
    "df_events.info()"
   ]
  },
  {
   "cell_type": "code",
   "execution_count": 7,
   "metadata": {},
   "outputs": [
    {
     "data": {
      "text/html": [
       "<div>\n",
       "<style scoped>\n",
       "    .dataframe tbody tr th:only-of-type {\n",
       "        vertical-align: middle;\n",
       "    }\n",
       "\n",
       "    .dataframe tbody tr th {\n",
       "        vertical-align: top;\n",
       "    }\n",
       "\n",
       "    .dataframe thead th {\n",
       "        text-align: right;\n",
       "    }\n",
       "</style>\n",
       "<table border=\"1\" class=\"dataframe\">\n",
       "  <thead>\n",
       "    <tr style=\"text-align: right;\">\n",
       "      <th></th>\n",
       "      <th>event_id</th>\n",
       "      <th>event_name</th>\n",
       "      <th>event_type_description</th>\n",
       "      <th>event_type_main</th>\n",
       "      <th>organizers</th>\n",
       "      <th>region_name</th>\n",
       "      <th>city_name</th>\n",
       "      <th>city_id</th>\n",
       "      <th>venue_id</th>\n",
       "      <th>venue_name</th>\n",
       "      <th>venue_address</th>\n",
       "    </tr>\n",
       "  </thead>\n",
       "  <tbody>\n",
       "    <tr>\n",
       "      <th>0</th>\n",
       "      <td>4436</td>\n",
       "      <td>e4f26fba-da77-4c61-928a-6c3e434d793f</td>\n",
       "      <td>спектакль</td>\n",
       "      <td>театр</td>\n",
       "      <td>№4893</td>\n",
       "      <td>Североярская область</td>\n",
       "      <td>Озёрск</td>\n",
       "      <td>2</td>\n",
       "      <td>1600</td>\n",
       "      <td>Кладбище искусств \"Проблема\" и партнеры</td>\n",
       "      <td>наб. Загородная, д. 785</td>\n",
       "    </tr>\n",
       "    <tr>\n",
       "      <th>1</th>\n",
       "      <td>5785</td>\n",
       "      <td>5cc08a60-fdea-4186-9bb2-bffc3603fb77</td>\n",
       "      <td>спектакль</td>\n",
       "      <td>театр</td>\n",
       "      <td>№1931</td>\n",
       "      <td>Светополянский округ</td>\n",
       "      <td>Глиноград</td>\n",
       "      <td>54</td>\n",
       "      <td>2196</td>\n",
       "      <td>Лекции по искусству \"Свет\" Групп</td>\n",
       "      <td>ул. Ягодная, д. 942</td>\n",
       "    </tr>\n",
       "    <tr>\n",
       "      <th>2</th>\n",
       "      <td>8817</td>\n",
       "      <td>8e379a89-3a10-4811-ba06-ec22ebebe989</td>\n",
       "      <td>спектакль</td>\n",
       "      <td>театр</td>\n",
       "      <td>№4896</td>\n",
       "      <td>Североярская область</td>\n",
       "      <td>Озёрск</td>\n",
       "      <td>2</td>\n",
       "      <td>4043</td>\n",
       "      <td>Кинокомитет \"Золотая\" Инк</td>\n",
       "      <td>ш. Коммуны, д. 92 стр. 6</td>\n",
       "    </tr>\n",
       "    <tr>\n",
       "      <th>3</th>\n",
       "      <td>8849</td>\n",
       "      <td>682e3129-6a32-4952-9d8a-ef7f60d4c247</td>\n",
       "      <td>спектакль</td>\n",
       "      <td>театр</td>\n",
       "      <td>№4960</td>\n",
       "      <td>Каменевский регион</td>\n",
       "      <td>Глиногорск</td>\n",
       "      <td>213</td>\n",
       "      <td>1987</td>\n",
       "      <td>Выставка ремесел \"Свет\" Лтд</td>\n",
       "      <td>пер. Набережный, д. 35</td>\n",
       "    </tr>\n",
       "    <tr>\n",
       "      <th>4</th>\n",
       "      <td>8850</td>\n",
       "      <td>d6e99176-c77f-4af0-9222-07c571f6c624</td>\n",
       "      <td>спектакль</td>\n",
       "      <td>театр</td>\n",
       "      <td>№4770</td>\n",
       "      <td>Лесодальний край</td>\n",
       "      <td>Родниковец</td>\n",
       "      <td>55</td>\n",
       "      <td>4230</td>\n",
       "      <td>Фестивальный проект \"Листья\" Групп</td>\n",
       "      <td>пер. Проезжий, д. 9</td>\n",
       "    </tr>\n",
       "  </tbody>\n",
       "</table>\n",
       "</div>"
      ],
      "text/plain": [
       "   event_id                            event_name event_type_description  \\\n",
       "0      4436  e4f26fba-da77-4c61-928a-6c3e434d793f              спектакль   \n",
       "1      5785  5cc08a60-fdea-4186-9bb2-bffc3603fb77              спектакль   \n",
       "2      8817  8e379a89-3a10-4811-ba06-ec22ebebe989              спектакль   \n",
       "3      8849  682e3129-6a32-4952-9d8a-ef7f60d4c247              спектакль   \n",
       "4      8850  d6e99176-c77f-4af0-9222-07c571f6c624              спектакль   \n",
       "\n",
       "  event_type_main organizers           region_name   city_name  city_id  \\\n",
       "0           театр      №4893  Североярская область      Озёрск        2   \n",
       "1           театр      №1931  Светополянский округ   Глиноград       54   \n",
       "2           театр      №4896  Североярская область      Озёрск        2   \n",
       "3           театр      №4960    Каменевский регион  Глиногорск      213   \n",
       "4           театр      №4770      Лесодальний край  Родниковец       55   \n",
       "\n",
       "   venue_id                               venue_name             venue_address  \n",
       "0      1600  Кладбище искусств \"Проблема\" и партнеры   наб. Загородная, д. 785  \n",
       "1      2196         Лекции по искусству \"Свет\" Групп       ул. Ягодная, д. 942  \n",
       "2      4043                Кинокомитет \"Золотая\" Инк  ш. Коммуны, д. 92 стр. 6  \n",
       "3      1987              Выставка ремесел \"Свет\" Лтд    пер. Набережный, д. 35  \n",
       "4      4230       Фестивальный проект \"Листья\" Групп       пер. Проезжий, д. 9  "
      ]
     },
     "execution_count": 7,
     "metadata": {},
     "output_type": "execute_result"
    }
   ],
   "source": [
    "df_events.head()"
   ]
  },
  {
   "cell_type": "markdown",
   "metadata": {},
   "source": [
    "По первичной оценке данные `df_events` соответствуют названию столбцов. Типы данных корректны. Пропущенные значения отсутствуют."
   ]
  },
  {
   "cell_type": "code",
   "execution_count": 8,
   "metadata": {},
   "outputs": [
    {
     "name": "stdout",
     "output_type": "stream",
     "text": [
      "<class 'pandas.core.frame.DataFrame'>\n",
      "RangeIndex: 357 entries, 0 to 356\n",
      "Data columns (total 4 columns):\n",
      " #   Column   Non-Null Count  Dtype  \n",
      "---  ------   --------------  -----  \n",
      " 0   data     357 non-null    object \n",
      " 1   nominal  357 non-null    int64  \n",
      " 2   curs     357 non-null    float64\n",
      " 3   cdx      357 non-null    object \n",
      "dtypes: float64(1), int64(1), object(2)\n",
      "memory usage: 11.3+ KB\n"
     ]
    }
   ],
   "source": [
    "df_tenge.info()"
   ]
  },
  {
   "cell_type": "code",
   "execution_count": 9,
   "metadata": {
    "scrolled": true
   },
   "outputs": [
    {
     "data": {
      "text/html": [
       "<div>\n",
       "<style scoped>\n",
       "    .dataframe tbody tr th:only-of-type {\n",
       "        vertical-align: middle;\n",
       "    }\n",
       "\n",
       "    .dataframe tbody tr th {\n",
       "        vertical-align: top;\n",
       "    }\n",
       "\n",
       "    .dataframe thead th {\n",
       "        text-align: right;\n",
       "    }\n",
       "</style>\n",
       "<table border=\"1\" class=\"dataframe\">\n",
       "  <thead>\n",
       "    <tr style=\"text-align: right;\">\n",
       "      <th></th>\n",
       "      <th>data</th>\n",
       "      <th>nominal</th>\n",
       "      <th>curs</th>\n",
       "      <th>cdx</th>\n",
       "    </tr>\n",
       "  </thead>\n",
       "  <tbody>\n",
       "    <tr>\n",
       "      <th>0</th>\n",
       "      <td>2024-01-10</td>\n",
       "      <td>100</td>\n",
       "      <td>19.9391</td>\n",
       "      <td>kzt</td>\n",
       "    </tr>\n",
       "    <tr>\n",
       "      <th>1</th>\n",
       "      <td>2024-01-11</td>\n",
       "      <td>100</td>\n",
       "      <td>19.7255</td>\n",
       "      <td>kzt</td>\n",
       "    </tr>\n",
       "    <tr>\n",
       "      <th>2</th>\n",
       "      <td>2024-01-12</td>\n",
       "      <td>100</td>\n",
       "      <td>19.5839</td>\n",
       "      <td>kzt</td>\n",
       "    </tr>\n",
       "    <tr>\n",
       "      <th>3</th>\n",
       "      <td>2024-01-13</td>\n",
       "      <td>100</td>\n",
       "      <td>19.4501</td>\n",
       "      <td>kzt</td>\n",
       "    </tr>\n",
       "    <tr>\n",
       "      <th>4</th>\n",
       "      <td>2024-01-14</td>\n",
       "      <td>100</td>\n",
       "      <td>19.4501</td>\n",
       "      <td>kzt</td>\n",
       "    </tr>\n",
       "  </tbody>\n",
       "</table>\n",
       "</div>"
      ],
      "text/plain": [
       "         data  nominal     curs  cdx\n",
       "0  2024-01-10      100  19.9391  kzt\n",
       "1  2024-01-11      100  19.7255  kzt\n",
       "2  2024-01-12      100  19.5839  kzt\n",
       "3  2024-01-13      100  19.4501  kzt\n",
       "4  2024-01-14      100  19.4501  kzt"
      ]
     },
     "execution_count": 9,
     "metadata": {},
     "output_type": "execute_result"
    }
   ],
   "source": [
    "df_tenge.head()"
   ]
  },
  {
   "cell_type": "markdown",
   "metadata": {},
   "source": [
    "По первичной оценке данные `df_tenge` соответствуют названию столбцов. Типы данных корректны, при необходимости столбец `data` можно перевести в формат для работы с датами. Пропущенные значения отсутствуют.\n",
    "\n",
    "Данные предоставны хорошего качества. На этапе предобработки проведём проверку на дубликаты."
   ]
  },
  {
   "cell_type": "markdown",
   "metadata": {},
   "source": [
    "## Предобработка данных и подготовка их к исследованию"
   ]
  },
  {
   "cell_type": "code",
   "execution_count": 10,
   "metadata": {
    "scrolled": true
   },
   "outputs": [
    {
     "name": "stdout",
     "output_type": "stream",
     "text": [
      "['mobile' 'desktop']\n",
      "\n",
      "[16  0 18 12  6]\n",
      "\n",
      "['Край билетов' 'Мой билет' 'За билетом!' 'Лови билет!'\n",
      " 'Билеты без проблем' 'Облачко' 'Лучшие билеты' 'Прачечная' 'Быстробилет'\n",
      " 'Дом культуры' 'Весь в билетах' 'Билеты в руки' 'Тебе билет!'\n",
      " 'Show_ticket' 'Городской дом культуры' 'Яблоко' 'Билет по телефону'\n",
      " 'Выступления.ру' 'Росбилет' 'Шоу начинается!' 'Мир касс' 'Восьмёрка'\n",
      " 'Телебилет' 'Crazy ticket!' 'Реестр' 'Быстрый кассир' 'КарандашРУ'\n",
      " 'Радио ticket' 'Дырокол' 'Вперёд!' 'Кино билет' 'Цвет и билет' 'Зе Бест!'\n",
      " 'Тех билет' 'Лимоны' 'Билеты в интернете']\n"
     ]
    }
   ],
   "source": [
    "# Проверим уникальные значения категориальных данных датасета orders\n",
    "print(df_orders['device_type_canonical'].unique())\n",
    "print()\n",
    "print(df_orders['age_limit'].unique())\n",
    "print()\n",
    "print(df_orders['service_name'].unique())"
   ]
  },
  {
   "cell_type": "code",
   "execution_count": 11,
   "metadata": {
    "scrolled": true
   },
   "outputs": [
    {
     "name": "stdout",
     "output_type": "stream",
     "text": [
      "['спектакль' 'балет' 'мюзикл' 'опера' 'концерт' 'шоу' 'ёлка'\n",
      " 'цирковое шоу' 'событие' 'фестиваль' 'спортивное мероприятие' 'выставка'\n",
      " 'спорт' 'оперетта' 'экскурсия' 'рок-мюзикл' 'музыкальный спектакль'\n",
      " 'снегурочка' 'подарок' 'кукольный спектакль']\n",
      "\n",
      "['театр' 'концерты' 'ёлки' 'другое' 'стендап' 'выставки' 'спорт']\n",
      "\n",
      "['Североярская область' 'Светополянский округ' 'Каменевский регион'\n",
      " 'Лесодальний край' 'Медовская область' 'Широковская область'\n",
      " 'Тепляковская область' 'Травяная область' 'Зоринский регион'\n",
      " 'Серебринская область' 'Яблоневская область' 'Глиногорская область'\n",
      " 'Речиновская область' 'Озернинский край' 'Горицветская область'\n",
      " 'Солнечнореченская область' 'Травиницкий округ' 'Солнечноземская область'\n",
      " 'Ключеводский округ' 'Островная область' 'Луговая область'\n",
      " 'Каменноозёрный край' 'Лесостепной край' 'Зеленоградский округ'\n",
      " 'Поленовский край' 'Лугоградская область' 'Синегорский регион'\n",
      " 'Малиновая область' 'Речицкая область' 'Дальнеземская область'\n",
      " 'Заречная область' 'Североозёрский округ' 'Дальнезорский край'\n",
      " 'Малиновоярский округ' 'Сосновская область' 'Златопольский округ'\n",
      " 'Ягодиновская область' 'Берестовский округ' 'Золотоключевской край'\n",
      " 'Каменноярский край' 'Голубевский округ' 'Боровлянский край'\n",
      " 'Тихореченская область' 'Миропольская область' 'Радужнопольский край'\n",
      " 'Белоярская область' 'Горноземский регион' 'Горностепной регион'\n",
      " 'Верхоречная область' 'Каменичская область' 'Крутоводская область'\n",
      " 'Нежинская область' 'Верховинская область' 'Речицкий регион'\n",
      " 'Дубравная область' 'Вишнёвский край' 'Озернопольская область'\n",
      " 'Тихогорская область' 'Залесский край' 'Чистогорская область'\n",
      " 'Кристаловская область' 'Радужногорская область' 'Яснопольский округ'\n",
      " 'Серебряноярский округ' 'Североключевской округ' 'Шанырский регион'\n",
      " 'Берёзовская область' 'Крутоводский регион' 'Каменополянский округ'\n",
      " 'Ветренский регион' 'Лесоярская область' 'Тихолесский край'\n",
      " 'Островогорский округ' 'Ручейковский край' 'Лесополянская область'\n",
      " 'Светолесский край' 'Сосноводолинская область' 'Лесноярский край'\n",
      " 'Теплоозёрский округ' 'Кристальная область' 'Верхозёрский край']\n",
      "\n",
      "['Озёрск' 'Глиноград' 'Глиногорск' 'Родниковец' 'Радужсвет' 'Радужнополье'\n",
      " 'Горнодолинск' 'Родниковск' 'Луговинск' 'Озёрчане' 'Светополье'\n",
      " 'Теплоозеро' 'Дальнесветск' 'Лесоярич' 'Островецк' 'Озёрово' 'Сосновечин'\n",
      " 'Ягодиновка' 'Родниковецк' 'Глинополье' 'Акбасты' 'Лесоводск' 'Синеводов'\n",
      " 'Ордакент' 'Крутовинск' 'Шаныртау' 'Дальнозолотск' 'Кристалевск'\n",
      " 'Вишнёво' 'Тихоярск' 'Сарыжар' 'Радужанов' 'Теплоозёрск' 'Каменевский'\n",
      " 'Островополь' 'Кенесар' 'Рощино' 'Верховино' 'Сосновогорец' 'Дальнозерск'\n",
      " 'Солчелуг' 'Дальнополин' 'Кумсай' 'Каменосветск' 'Речинцево' 'Светогория'\n",
      " 'Поленоозёрово' 'Поляногорье' 'Дальнесоснов' 'Заречиновка' 'Радужнояр'\n",
      " 'Каменский' 'Речевинец' 'Ордасай' 'Песковино' 'Медовецк' 'Акбастау'\n",
      " 'Луговаярово' 'Травяниново' 'Каражол' 'Глиногорь' 'Дальнесветин'\n",
      " 'Горнополец' 'Травогород' 'Серебрянка' 'Сосноград' 'Малиновец'\n",
      " 'Никольянов' 'Каменёвка' 'Синегориново' 'Солнечегорск' 'Горнополянск'\n",
      " 'Серебровино' 'Каменозолото' 'Светочистенск' 'Родничанск' 'Вишнёвогорск'\n",
      " 'Глинянск' 'Луговинец' 'Луговское' 'Ручейник' 'Зареченец' 'Березиноск'\n",
      " 'Каменевовск' 'Лесоярово' 'Жаркентай' 'Лугоград' 'Миролесье'\n",
      " 'Глинозолото' 'Ручейковск' 'Ясноград' 'Радужинск' 'Зелёнаярово'\n",
      " 'Медвежанск' 'Солнечнёвка' 'Чистогорье' 'Солнечеполье' 'Поляновск'\n",
      " 'Травяночистск' 'Зеленолесье' 'Островенск' 'Речепольск' 'Серебровка'\n",
      " 'Северобережье' 'Беловодск' 'Яблоневое' 'Горнополяровск' 'Тихолесьевск'\n",
      " 'Речинск' 'Ключевополье' 'Леснойск' 'Буркиттау' 'Кристалинск'\n",
      " 'Кристаловец' 'Ключевогорск' 'Шынгысай' 'Дальнолесье' 'Зеленополец'\n",
      " 'Лесозолотск' 'Поленосветск' 'Зоречанск' 'Ручейный' 'Тихолесье'\n",
      " 'Зореполин' 'Тихозорин' 'Широковка' 'Глинолес' 'Серебринск' 'Светополь'\n",
      " 'Речиноград' 'Златопольск' 'Алтынсай' 'Лесореченск' 'Кристаловка'\n",
      " 'Родинсветск' 'Желтоксан' 'Водниково' 'Златоозёрово' 'Тогусжол'\n",
      " 'Поленосвет' 'Глинополянск' 'Песчанская' 'Тихоречка' 'Нежинск'\n",
      " 'Боровлянск' 'Солнечеград' 'Крутово' 'Заречнаярово' 'Каменояр' 'Яблонецк'\n",
      " 'Мироярово' 'Озёриново' 'Заречинск' 'Травяниково' 'Кызылжол' 'Лесогорск'\n",
      " 'Каменодолин' 'Лесинск' 'Малиноворск' 'Соловьёвка' 'Кокжар' 'Речичанск'\n",
      " 'Островярово' 'Тихосветск' 'Солнечёвино' 'Ташбулак' 'Поленовичи'\n",
      " 'Каменогорье' 'Поленовино' 'Острововск' 'Горнополье' 'Светоречин'\n",
      " 'Медвежиновск' 'Речное' 'Ягодиноск' 'Горяново' 'Шынартас' 'Горноград'\n",
      " 'Травогорск' 'Белоярск' 'Теплоград' 'Поленояр' 'Горноставинск'\n",
      " 'Ясногорец' 'Медовино' 'Бережанка' 'Желтау' 'Тулебайск' 'Поленоград'\n",
      " 'Березиногорск' 'Каражар' 'Берёзодальн' 'Лесозерск' 'Северогорск'\n",
      " 'Вишнёводск' 'Крутоводск' 'Ветеринск' 'Тепляровск' 'Каменевск' 'Заречник'\n",
      " 'Коксуйск' 'Берёзогорск' 'Горнополёк' 'Кристалин' 'Зелёново' 'Тихоозёрск'\n",
      " 'Северополье' 'Гореловск' 'Бозарык' 'Зеленополье' 'Озёроярск'\n",
      " 'Солнечелесье' 'Лесочистка' 'Верхозолотск' 'Долиновка' 'Кумсары'\n",
      " 'Жетисайск' 'Поленолесье' 'Тепляковск' 'Берестовец' 'Лугиново'\n",
      " 'Яснолесье' 'Лесогорич' 'Ручейновинск' 'Ключеград' 'Синеводск'\n",
      " 'Зеленогорье' 'Байкуль' 'Бурьяново' 'Заречнинск' 'Дальнозелен' 'Ягодинск'\n",
      " 'Глинозорь' 'Островской' 'Песчанец' 'Островсков' 'Голубино' 'Зеленополин'\n",
      " 'Берёзовка' 'Ручьевино' 'Сарытау' 'Солнечеводск' 'Заречийск' 'Светозорск'\n",
      " 'Долиновск' 'Ключевинск' 'Берёзополье' 'Сереброяр' 'Островозёров'\n",
      " 'Лесогорский' 'Яблоневск' 'Айкольск' 'Светозолотск' 'Кристальевка'\n",
      " 'Полянск' 'Североград' 'Байтерековск' 'Златоречье' 'Байсары' 'Берёзиново'\n",
      " 'Радугорь' 'Ягодиноград' 'Сосновецк' 'Шалкартау' 'Яблоновец' 'Травянский'\n",
      " 'Поленовец' 'Зеленоградовск' 'Озёряновск' 'Ключеводск' 'Нуртас'\n",
      " 'Озёречин' 'Зоревичск' 'Горнолуг' 'Крутоводинск' 'Медвежник' 'Реченск'\n",
      " 'Чистояр' 'Карасуй' 'Крутовичи' 'Светоярич' 'Глинореч' 'Малиновинск'\n",
      " 'Яснополянск' 'Ясносветск' 'Светлоярск' 'Златополье' 'Златоречинск'\n",
      " 'Ясногородин' 'Березовцево' 'Радужнаярова' 'Талдысай' 'Кристолесье'\n",
      " 'Травино' 'Берёзоречье' 'Нивинск' 'Берестяград' 'Зелёнояр' 'Светочистка'\n",
      " 'Верхоозёров' 'Ясновский' 'Сосновогорск' 'Сарыбулак' 'Ручейницк'\n",
      " 'Лесополин' 'Радужовинск' 'Горицветск' 'Поляноречинск' 'Сосновинск'\n",
      " 'Акжолтау' 'Синеполинск' 'Зориново' 'Малиновецк' 'Светоярчик' 'Берёзореч'\n",
      " 'Желкаин' 'Глинополин' 'Тастай' 'Горнолесье' 'Лесодолинск' 'Каменичи'\n",
      " 'Лесоярка' 'Алтынкала' 'Зоревец' 'Лесиново' 'Заречка' 'Тихогорово'\n",
      " 'Каменогорский' 'Мироград' 'Тиходеревск' 'Малиновочист' 'Голубевск'\n",
      " 'Ключезолотск' 'Светозёринск' 'Верховка' 'Светоярово' 'Луновка'\n",
      " 'Радужновка' 'Озёроград' 'Карасуйск' 'Верхозорье' 'Бережанск'\n",
      " 'Дальнеград' 'Солнечейск' 'Реченогор' 'Ягодино' 'Синегорск' 'Ягодинец'\n",
      " 'Мирополь' 'Миросветск' 'Айсуак' 'Ягодинска']\n"
     ]
    }
   ],
   "source": [
    "# Проверим уникальные значения категориальных данных датасета events\n",
    "print(df_events['event_type_description'].unique())\n",
    "print()\n",
    "print(df_events['event_type_main'].unique())\n",
    "print()\n",
    "print(df_events['region_name'].unique())\n",
    "print()\n",
    "print(df_events['city_name'].unique())"
   ]
  },
  {
   "cell_type": "markdown",
   "metadata": {},
   "source": [
    "Значения обозначающие пропуски в данных или отстутствие значений не обнаруженно."
   ]
  },
  {
   "cell_type": "code",
   "execution_count": 12,
   "metadata": {},
   "outputs": [
    {
     "data": {
      "text/html": [
       "<div>\n",
       "<style scoped>\n",
       "    .dataframe tbody tr th:only-of-type {\n",
       "        vertical-align: middle;\n",
       "    }\n",
       "\n",
       "    .dataframe tbody tr th {\n",
       "        vertical-align: top;\n",
       "    }\n",
       "\n",
       "    .dataframe thead th {\n",
       "        text-align: right;\n",
       "    }\n",
       "</style>\n",
       "<table border=\"1\" class=\"dataframe\">\n",
       "  <thead>\n",
       "    <tr style=\"text-align: right;\">\n",
       "      <th></th>\n",
       "      <th>count</th>\n",
       "      <th>mean</th>\n",
       "      <th>std</th>\n",
       "      <th>min</th>\n",
       "      <th>25%</th>\n",
       "      <th>50%</th>\n",
       "      <th>75%</th>\n",
       "      <th>max</th>\n",
       "    </tr>\n",
       "    <tr>\n",
       "      <th>currency_code</th>\n",
       "      <th></th>\n",
       "      <th></th>\n",
       "      <th></th>\n",
       "      <th></th>\n",
       "      <th></th>\n",
       "      <th></th>\n",
       "      <th></th>\n",
       "      <th></th>\n",
       "    </tr>\n",
       "  </thead>\n",
       "  <tbody>\n",
       "    <tr>\n",
       "      <th>kzt</th>\n",
       "      <td>5069.0</td>\n",
       "      <td>4995.206767</td>\n",
       "      <td>4916.752776</td>\n",
       "      <td>0.00</td>\n",
       "      <td>518.1000</td>\n",
       "      <td>3698.83</td>\n",
       "      <td>7397.66</td>\n",
       "      <td>26425.86</td>\n",
       "    </tr>\n",
       "    <tr>\n",
       "      <th>rub</th>\n",
       "      <td>285780.0</td>\n",
       "      <td>547.568333</td>\n",
       "      <td>871.524559</td>\n",
       "      <td>-90.76</td>\n",
       "      <td>113.8275</td>\n",
       "      <td>346.10</td>\n",
       "      <td>791.70</td>\n",
       "      <td>81174.54</td>\n",
       "    </tr>\n",
       "  </tbody>\n",
       "</table>\n",
       "</div>"
      ],
      "text/plain": [
       "                  count         mean          std    min       25%      50%  \\\n",
       "currency_code                                                                 \n",
       "kzt              5069.0  4995.206767  4916.752776   0.00  518.1000  3698.83   \n",
       "rub            285780.0   547.568333   871.524559 -90.76  113.8275   346.10   \n",
       "\n",
       "                   75%       max  \n",
       "currency_code                     \n",
       "kzt            7397.66  26425.86  \n",
       "rub             791.70  81174.54  "
      ]
     },
     "execution_count": 12,
     "metadata": {},
     "output_type": "execute_result"
    }
   ],
   "source": [
    "# Выведем осноные статистические данные\n",
    "df_orders.groupby('currency_code')['revenue'].describe()"
   ]
  },
  {
   "cell_type": "code",
   "execution_count": 13,
   "metadata": {},
   "outputs": [
    {
     "data": {
      "image/png": "[encoded data removed]",
      "text/plain": [
       "<Figure size 864x432 with 1 Axes>"
      ]
     },
     "metadata": {
      "needs_background": "light"
     },
     "output_type": "display_data"
    },
    {
     "data": {
      "image/png": "[encoded data removed]",
      "text/plain": [
       "<Figure size 864x432 with 1 Axes>"
      ]
     },
     "metadata": {
      "needs_background": "light"
     },
     "output_type": "display_data"
    }
   ],
   "source": [
    "# Построим коробчатую диаграмму\n",
    "plt.figure(figsize=(12, 6))\n",
    "sns.boxplot(x='currency_code', y='revenue', data=df_orders)\n",
    "plt.title('Распределение выручки от типа валюты')\n",
    "plt.show()\n",
    "\n",
    "# Построим гистограмму\n",
    "plt.figure(figsize=(12, 6))\n",
    "sns.histplot(data=df_orders, x='revenue', hue='currency_code', element='step', stat='density', common_norm=False)\n",
    "plt.title('Гистограмма выручки от типа валюты')\n",
    "plt.show()"
   ]
  },
  {
   "cell_type": "markdown",
   "metadata": {},
   "source": [
    "По выручке в рублях видны большие выбросы, как видно из диаграммы размаха, так же об этом свидетельствует отклонение среднего значения от медианы. В тенге же выбросы так же присутствуют, и большее распределение значений. "
   ]
  },
  {
   "cell_type": "code",
   "execution_count": 14,
   "metadata": {},
   "outputs": [
    {
     "data": {
      "text/html": [
       "<div>\n",
       "<style scoped>\n",
       "    .dataframe tbody tr th:only-of-type {\n",
       "        vertical-align: middle;\n",
       "    }\n",
       "\n",
       "    .dataframe tbody tr th {\n",
       "        vertical-align: top;\n",
       "    }\n",
       "\n",
       "    .dataframe thead th {\n",
       "        text-align: right;\n",
       "    }\n",
       "</style>\n",
       "<table border=\"1\" class=\"dataframe\">\n",
       "  <thead>\n",
       "    <tr style=\"text-align: right;\">\n",
       "      <th></th>\n",
       "      <th>count</th>\n",
       "      <th>mean</th>\n",
       "      <th>std</th>\n",
       "      <th>min</th>\n",
       "      <th>25%</th>\n",
       "      <th>50%</th>\n",
       "      <th>75%</th>\n",
       "      <th>max</th>\n",
       "    </tr>\n",
       "    <tr>\n",
       "      <th>currency_code</th>\n",
       "      <th></th>\n",
       "      <th></th>\n",
       "      <th></th>\n",
       "      <th></th>\n",
       "      <th></th>\n",
       "      <th></th>\n",
       "      <th></th>\n",
       "      <th></th>\n",
       "    </tr>\n",
       "  </thead>\n",
       "  <tbody>\n",
       "    <tr>\n",
       "      <th>kzt</th>\n",
       "      <td>5069.0</td>\n",
       "      <td>2.762872</td>\n",
       "      <td>1.115558</td>\n",
       "      <td>1.0</td>\n",
       "      <td>2.0</td>\n",
       "      <td>3.0</td>\n",
       "      <td>4.0</td>\n",
       "      <td>6.0</td>\n",
       "    </tr>\n",
       "    <tr>\n",
       "      <th>rub</th>\n",
       "      <td>285780.0</td>\n",
       "      <td>2.754077</td>\n",
       "      <td>1.171419</td>\n",
       "      <td>1.0</td>\n",
       "      <td>2.0</td>\n",
       "      <td>3.0</td>\n",
       "      <td>4.0</td>\n",
       "      <td>57.0</td>\n",
       "    </tr>\n",
       "  </tbody>\n",
       "</table>\n",
       "</div>"
      ],
      "text/plain": [
       "                  count      mean       std  min  25%  50%  75%   max\n",
       "currency_code                                                        \n",
       "kzt              5069.0  2.762872  1.115558  1.0  2.0  3.0  4.0   6.0\n",
       "rub            285780.0  2.754077  1.171419  1.0  2.0  3.0  4.0  57.0"
      ]
     },
     "execution_count": 14,
     "metadata": {},
     "output_type": "execute_result"
    }
   ],
   "source": [
    "# Выведем осноные статистические данные\n",
    "df_orders.groupby('currency_code')['tickets_count'].describe()"
   ]
  },
  {
   "cell_type": "code",
   "execution_count": 15,
   "metadata": {},
   "outputs": [
    {
     "data": {
      "image/png": "[encoded data removed]",
      "text/plain": [
       "<Figure size 864x432 with 1 Axes>"
      ]
     },
     "metadata": {
      "needs_background": "light"
     },
     "output_type": "display_data"
    },
    {
     "data": {
      "image/png": "[encoded data removed]",
      "text/plain": [
       "<Figure size 864x432 with 1 Axes>"
      ]
     },
     "metadata": {
      "needs_background": "light"
     },
     "output_type": "display_data"
    }
   ],
   "source": [
    "# Построим коробчатую диаграмму\n",
    "plt.figure(figsize=(12, 6))\n",
    "sns.boxplot(x='currency_code', y='tickets_count', data=df_orders)\n",
    "plt.title('Распределение выручки от типа валюты')\n",
    "plt.show()\n",
    "\n",
    "# Построим гистограмму\n",
    "plt.figure(figsize=(12, 6))\n",
    "sns.histplot(data=df_orders, x='tickets_count', hue='currency_code', element='step', stat='density', common_norm=False)\n",
    "plt.title('Гистограмма выручки от типа валюты')\n",
    "plt.show()"
   ]
  },
  {
   "cell_type": "markdown",
   "metadata": {},
   "source": [
    "По количеству билетов данные между валютами совпадают, за исключением выбросов в валюте рубль."
   ]
  },
  {
   "cell_type": "code",
   "execution_count": 16,
   "metadata": {},
   "outputs": [],
   "source": [
    "# Отфильтруем данные от выбросов\n",
    "\n",
    "df_orders_r = df_orders[df_orders['currency_code'] == 'rub']\n",
    "df_orders_t = df_orders[df_orders['currency_code'] == 'kzt']"
   ]
  },
  {
   "cell_type": "code",
   "execution_count": 17,
   "metadata": {},
   "outputs": [],
   "source": [
    "perc_99_r = df_orders_r['revenue'].quantile(0.99)\n",
    "perc_99_k = df_orders_t['revenue'].quantile(0.99)\n",
    "perc_99_t = df_orders_r['tickets_count'].quantile(0.99)\n",
    "\n",
    "df_orders_r = df_orders_r[(df_orders_r['revenue'] <= perc_99_r) & (df_orders_r['tickets_count'] <= perc_99_t)]\n",
    "df_orders_t = df_orders_t[df_orders_t['revenue'] <= perc_99_k]"
   ]
  },
  {
   "cell_type": "code",
   "execution_count": 18,
   "metadata": {},
   "outputs": [
    {
     "name": "stdout",
     "output_type": "stream",
     "text": [
      "<class 'pandas.core.frame.DataFrame'>\n",
      "Int64Index: 282742 entries, 0 to 290848\n",
      "Data columns (total 14 columns):\n",
      " #   Column                 Non-Null Count   Dtype  \n",
      "---  ------                 --------------   -----  \n",
      " 0   order_id               282742 non-null  int64  \n",
      " 1   user_id                282742 non-null  object \n",
      " 2   created_dt_msk         282742 non-null  object \n",
      " 3   created_ts_msk         282742 non-null  object \n",
      " 4   event_id               282742 non-null  int64  \n",
      " 5   cinema_circuit         282742 non-null  object \n",
      " 6   age_limit              282742 non-null  int64  \n",
      " 7   currency_code          282742 non-null  object \n",
      " 8   device_type_canonical  282742 non-null  object \n",
      " 9   revenue                282742 non-null  float64\n",
      " 10  service_name           282742 non-null  object \n",
      " 11  tickets_count          282742 non-null  int64  \n",
      " 12  total                  282742 non-null  float64\n",
      " 13  days_since_prev        261881 non-null  float64\n",
      "dtypes: float64(3), int64(4), object(7)\n",
      "memory usage: 32.4+ MB\n"
     ]
    }
   ],
   "source": [
    "df_orders_r.info()"
   ]
  },
  {
   "cell_type": "code",
   "execution_count": 19,
   "metadata": {
    "scrolled": false
   },
   "outputs": [
    {
     "name": "stdout",
     "output_type": "stream",
     "text": [
      "<class 'pandas.core.frame.DataFrame'>\n",
      "Int64Index: 5040 entries, 73 to 290727\n",
      "Data columns (total 14 columns):\n",
      " #   Column                 Non-Null Count  Dtype  \n",
      "---  ------                 --------------  -----  \n",
      " 0   order_id               5040 non-null   int64  \n",
      " 1   user_id                5040 non-null   object \n",
      " 2   created_dt_msk         5040 non-null   object \n",
      " 3   created_ts_msk         5040 non-null   object \n",
      " 4   event_id               5040 non-null   int64  \n",
      " 5   cinema_circuit         5040 non-null   object \n",
      " 6   age_limit              5040 non-null   int64  \n",
      " 7   currency_code          5040 non-null   object \n",
      " 8   device_type_canonical  5040 non-null   object \n",
      " 9   revenue                5040 non-null   float64\n",
      " 10  service_name           5040 non-null   object \n",
      " 11  tickets_count          5040 non-null   int64  \n",
      " 12  total                  5040 non-null   float64\n",
      " 13  days_since_prev        4179 non-null   float64\n",
      "dtypes: float64(3), int64(4), object(7)\n",
      "memory usage: 590.6+ KB\n"
     ]
    }
   ],
   "source": [
    "df_orders_t.info()"
   ]
  },
  {
   "cell_type": "code",
   "execution_count": 20,
   "metadata": {
    "scrolled": true
   },
   "outputs": [
    {
     "name": "stdout",
     "output_type": "stream",
     "text": [
      "Количество явных дубликатов в датасете df_orders_r: 0\n",
      "Количество явных дубликатов в датасете df_orders_t: 0\n",
      "Количество явных дубликатов в датасете df_events: 0\n",
      "Количество явных дубликатов в датасете df_tenge: 0\n"
     ]
    }
   ],
   "source": [
    "# Проверим датасеты на явные дубликаты\n",
    "print(f\"Количество явных дубликатов в датасете df_orders_r: {df_orders_r.duplicated().sum()}\")\n",
    "print(f\"Количество явных дубликатов в датасете df_orders_t: {df_orders_t.duplicated().sum()}\")\n",
    "print(f\"Количество явных дубликатов в датасете df_events: {df_events.duplicated().sum()}\")\n",
    "print(f\"Количество явных дубликатов в датасете df_tenge: {df_tenge.duplicated().sum()}\")"
   ]
  },
  {
   "cell_type": "code",
   "execution_count": 21,
   "metadata": {},
   "outputs": [
    {
     "name": "stdout",
     "output_type": "stream",
     "text": [
      "Количество дубликатов в датасете check_df_r без учёта order_id: 30\n",
      "Количество дубликатов в датасете check_df_t без учёта order_id: 0\n"
     ]
    }
   ],
   "source": [
    "# Проверим датасет на наличие похожих операций исключая id заказа\n",
    "\n",
    "check_df_r = df_orders_r\n",
    "check_df_t = df_orders_t\n",
    "\n",
    "check_df_r = check_df_r.duplicated(subset=['user_id', 'created_dt_msk', 'created_ts_msk', 'event_id', 'cinema_circuit', 'age_limit', 'currency_code', 'device_type_canonical', 'revenue', 'service_name', 'tickets_count', 'total', 'days_since_prev']).sum()\n",
    "check_df_t = check_df_t.duplicated(subset=['user_id', 'created_dt_msk', 'created_ts_msk', 'event_id', 'cinema_circuit', 'age_limit', 'currency_code', 'device_type_canonical', 'revenue', 'service_name', 'tickets_count', 'total', 'days_since_prev']).sum()\n",
    "\n",
    "print(f\"Количество дубликатов в датасете check_df_r без учёта order_id: {check_df_r}\")\n",
    "print(f\"Количество дубликатов в датасете check_df_t без учёта order_id: {check_df_t}\")"
   ]
  },
  {
   "cell_type": "markdown",
   "metadata": {},
   "source": [
    "В check_df_r обнаруженно 30 дубликатов, вероятно всего система зарегистировала одну операцию под разными id заказа. Удалим лишние данные."
   ]
  },
  {
   "cell_type": "code",
   "execution_count": 22,
   "metadata": {
    "scrolled": false
   },
   "outputs": [],
   "source": [
    "# Удаляем дубликаты\n",
    "df_orders_r = df_orders_r.drop_duplicates(subset=['user_id', 'created_dt_msk', 'created_ts_msk', 'event_id', 'cinema_circuit', 'age_limit', 'currency_code', 'device_type_canonical', 'revenue', 'service_name', 'tickets_count', 'total', 'days_since_prev'],keep='first')"
   ]
  },
  {
   "cell_type": "code",
   "execution_count": 23,
   "metadata": {},
   "outputs": [
    {
     "name": "stdout",
     "output_type": "stream",
     "text": [
      "Количество удаленных строк: 3097\n",
      "Процент удаленных строк: 1.06%\n"
     ]
    }
   ],
   "source": [
    "# Посчитаем количество удалённых строк\n",
    "count_rub = len(df_orders_r)\n",
    "count_kzt = len(df_orders_t)\n",
    "count_orders = len(df_orders)\n",
    "\n",
    "count_total = count_rub + count_kzt\n",
    "\n",
    "removed_count = count_orders - count_total\n",
    "\n",
    "# Процент удаленных строк\n",
    "diff = (removed_count / count_orders) * 100\n",
    "\n",
    "# Вывод результатов\n",
    "print(f\"Количество удаленных строк: {removed_count}\")\n",
    "print(f\"Процент удаленных строк: {diff:.2f}%\")"
   ]
  },
  {
   "cell_type": "markdown",
   "metadata": {},
   "source": [
    "По итогам фильтрации было удалено 3097 строк, что составляет 1.06% от общего датасета"
   ]
  },
  {
   "cell_type": "code",
   "execution_count": 24,
   "metadata": {},
   "outputs": [],
   "source": [
    "# Преобразуем типы данных в подходящие для работы\n",
    "df_orders_r['created_dt_msk'] = df_orders_r['created_dt_msk'].astype('datetime64[ns]')\n",
    "df_orders_r['created_ts_msk'] = df_orders_r['created_ts_msk'].astype('datetime64[ns]')\n",
    "\n",
    "df_orders_t['created_dt_msk'] = df_orders_t['created_dt_msk'].astype('datetime64[ns]')\n",
    "df_orders_t['created_ts_msk'] = df_orders_t['created_ts_msk'].astype('datetime64[ns]')\n",
    "\n",
    "df_tenge['data'] = df_tenge['data'].astype('datetime64[ns]')\n",
    "\n",
    "# Оптимизируем размерность данных\n",
    "df_orders_r['order_id'] = pd.to_numeric(df_orders_r['order_id'], downcast='integer')\n",
    "df_orders_r['event_id'] = pd.to_numeric(df_orders_r['event_id'], downcast='integer')\n",
    "df_orders_r['age_limit'] = pd.to_numeric(df_orders_r['age_limit'], downcast='integer')\n",
    "df_orders_r['revenue'] = pd.to_numeric(df_orders_r['revenue'], downcast='float')\n",
    "df_orders_r['tickets_count'] = pd.to_numeric(df_orders_r['tickets_count'], downcast='integer')\n",
    "df_orders_r['total'] = pd.to_numeric(df_orders_r['total'], downcast='float')\n",
    "df_orders_r['days_since_prev'] = pd.to_numeric(df_orders_r['days_since_prev'], downcast='float')\n",
    "\n",
    "df_orders_t['order_id'] = pd.to_numeric(df_orders_t['order_id'], downcast='integer')\n",
    "df_orders_t['event_id'] = pd.to_numeric(df_orders_t['event_id'], downcast='integer')\n",
    "df_orders_t['age_limit'] = pd.to_numeric(df_orders_t['age_limit'], downcast='integer')\n",
    "df_orders_t['revenue'] = pd.to_numeric(df_orders_t['revenue'], downcast='float')\n",
    "df_orders_t['tickets_count'] = pd.to_numeric(df_orders_t['tickets_count'], downcast='integer')\n",
    "df_orders_t['total'] = pd.to_numeric(df_orders_t['total'], downcast='float')\n",
    "df_orders_t['days_since_prev'] = pd.to_numeric(df_orders_t['days_since_prev'], downcast='float')\n",
    "\n",
    "df_events['event_id'] = pd.to_numeric(df_events['event_id'], downcast='integer')\n",
    "df_events['city_id'] = pd.to_numeric(df_events['city_id'], downcast='integer')\n",
    "df_events['venue_id'] = pd.to_numeric(df_events['venue_id'], downcast='integer')\n",
    "\n",
    "df_tenge['nominal'] = pd.to_numeric(df_tenge['nominal'], downcast='integer')\n",
    "df_tenge['curs'] = pd.to_numeric(df_tenge['curs'], downcast='float')"
   ]
  },
  {
   "cell_type": "code",
   "execution_count": 25,
   "metadata": {},
   "outputs": [
    {
     "name": "stdout",
     "output_type": "stream",
     "text": [
      "<class 'pandas.core.frame.DataFrame'>\n",
      "Int64Index: 282712 entries, 0 to 290848\n",
      "Data columns (total 14 columns):\n",
      " #   Column                 Non-Null Count   Dtype         \n",
      "---  ------                 --------------   -----         \n",
      " 0   order_id               282712 non-null  int32         \n",
      " 1   user_id                282712 non-null  object        \n",
      " 2   created_dt_msk         282712 non-null  datetime64[ns]\n",
      " 3   created_ts_msk         282712 non-null  datetime64[ns]\n",
      " 4   event_id               282712 non-null  int32         \n",
      " 5   cinema_circuit         282712 non-null  object        \n",
      " 6   age_limit              282712 non-null  int8          \n",
      " 7   currency_code          282712 non-null  object        \n",
      " 8   device_type_canonical  282712 non-null  object        \n",
      " 9   revenue                282712 non-null  float32       \n",
      " 10  service_name           282712 non-null  object        \n",
      " 11  tickets_count          282712 non-null  int8          \n",
      " 12  total                  282712 non-null  float32       \n",
      " 13  days_since_prev        261851 non-null  float32       \n",
      "dtypes: datetime64[ns](2), float32(3), int32(2), int8(2), object(5)\n",
      "memory usage: 23.2+ MB\n"
     ]
    }
   ],
   "source": [
    "df_orders_r.info()"
   ]
  },
  {
   "cell_type": "code",
   "execution_count": 26,
   "metadata": {},
   "outputs": [
    {
     "name": "stdout",
     "output_type": "stream",
     "text": [
      "<class 'pandas.core.frame.DataFrame'>\n",
      "Int64Index: 5040 entries, 73 to 290727\n",
      "Data columns (total 14 columns):\n",
      " #   Column                 Non-Null Count  Dtype         \n",
      "---  ------                 --------------  -----         \n",
      " 0   order_id               5040 non-null   int32         \n",
      " 1   user_id                5040 non-null   object        \n",
      " 2   created_dt_msk         5040 non-null   datetime64[ns]\n",
      " 3   created_ts_msk         5040 non-null   datetime64[ns]\n",
      " 4   event_id               5040 non-null   int32         \n",
      " 5   cinema_circuit         5040 non-null   object        \n",
      " 6   age_limit              5040 non-null   int8          \n",
      " 7   currency_code          5040 non-null   object        \n",
      " 8   device_type_canonical  5040 non-null   object        \n",
      " 9   revenue                5040 non-null   float32       \n",
      " 10  service_name           5040 non-null   object        \n",
      " 11  tickets_count          5040 non-null   int8          \n",
      " 12  total                  5040 non-null   float32       \n",
      " 13  days_since_prev        4179 non-null   float32       \n",
      "dtypes: datetime64[ns](2), float32(3), int32(2), int8(2), object(5)\n",
      "memory usage: 423.3+ KB\n"
     ]
    }
   ],
   "source": [
    "df_orders_t.info()"
   ]
  },
  {
   "cell_type": "code",
   "execution_count": 27,
   "metadata": {},
   "outputs": [
    {
     "name": "stdout",
     "output_type": "stream",
     "text": [
      "<class 'pandas.core.frame.DataFrame'>\n",
      "RangeIndex: 22427 entries, 0 to 22426\n",
      "Data columns (total 11 columns):\n",
      " #   Column                  Non-Null Count  Dtype \n",
      "---  ------                  --------------  ----- \n",
      " 0   event_id                22427 non-null  int32 \n",
      " 1   event_name              22427 non-null  object\n",
      " 2   event_type_description  22427 non-null  object\n",
      " 3   event_type_main         22427 non-null  object\n",
      " 4   organizers              22427 non-null  object\n",
      " 5   region_name             22427 non-null  object\n",
      " 6   city_name               22427 non-null  object\n",
      " 7   city_id                 22427 non-null  int32 \n",
      " 8   venue_id                22427 non-null  int16 \n",
      " 9   venue_name              22427 non-null  object\n",
      " 10  venue_address           22427 non-null  object\n",
      "dtypes: int16(1), int32(2), object(8)\n",
      "memory usage: 1.6+ MB\n"
     ]
    }
   ],
   "source": [
    "df_events.info()"
   ]
  },
  {
   "cell_type": "code",
   "execution_count": 28,
   "metadata": {},
   "outputs": [
    {
     "name": "stdout",
     "output_type": "stream",
     "text": [
      "<class 'pandas.core.frame.DataFrame'>\n",
      "RangeIndex: 357 entries, 0 to 356\n",
      "Data columns (total 4 columns):\n",
      " #   Column   Non-Null Count  Dtype         \n",
      "---  ------   --------------  -----         \n",
      " 0   data     357 non-null    datetime64[ns]\n",
      " 1   nominal  357 non-null    int8          \n",
      " 2   curs     357 non-null    float32       \n",
      " 3   cdx      357 non-null    object        \n",
      "dtypes: datetime64[ns](1), float32(1), int8(1), object(1)\n",
      "memory usage: 7.4+ KB\n"
     ]
    }
   ],
   "source": [
    "df_tenge.info()"
   ]
  },
  {
   "cell_type": "markdown",
   "metadata": {},
   "source": [
    "Столбцы с информацией о датах и времени приведены к удобному формату для работы. Разрядность числовых данных оптимизирована."
   ]
  },
  {
   "cell_type": "code",
   "execution_count": 29,
   "metadata": {},
   "outputs": [
    {
     "data": {
      "text/html": [
       "<div>\n",
       "<style scoped>\n",
       "    .dataframe tbody tr th:only-of-type {\n",
       "        vertical-align: middle;\n",
       "    }\n",
       "\n",
       "    .dataframe tbody tr th {\n",
       "        vertical-align: top;\n",
       "    }\n",
       "\n",
       "    .dataframe thead th {\n",
       "        text-align: right;\n",
       "    }\n",
       "</style>\n",
       "<table border=\"1\" class=\"dataframe\">\n",
       "  <thead>\n",
       "    <tr style=\"text-align: right;\">\n",
       "      <th></th>\n",
       "      <th>order_id</th>\n",
       "      <th>user_id</th>\n",
       "      <th>created_dt_msk</th>\n",
       "      <th>created_ts_msk</th>\n",
       "      <th>event_id</th>\n",
       "      <th>cinema_circuit</th>\n",
       "      <th>age_limit</th>\n",
       "      <th>currency_code</th>\n",
       "      <th>device_type_canonical</th>\n",
       "      <th>revenue</th>\n",
       "      <th>service_name</th>\n",
       "      <th>tickets_count</th>\n",
       "      <th>total</th>\n",
       "      <th>days_since_prev</th>\n",
       "      <th>revenue_rub</th>\n",
       "    </tr>\n",
       "  </thead>\n",
       "  <tbody>\n",
       "    <tr>\n",
       "      <th>0</th>\n",
       "      <td>7850214</td>\n",
       "      <td>0033403583a55ed</td>\n",
       "      <td>2024-09-17</td>\n",
       "      <td>2024-09-17 16:52:06</td>\n",
       "      <td>559919</td>\n",
       "      <td>нет</td>\n",
       "      <td>6</td>\n",
       "      <td>kzt</td>\n",
       "      <td>mobile</td>\n",
       "      <td>518.099976</td>\n",
       "      <td>Билеты без проблем</td>\n",
       "      <td>4</td>\n",
       "      <td>10361.969727</td>\n",
       "      <td>20.0</td>\n",
       "      <td>98.50</td>\n",
       "    </tr>\n",
       "    <tr>\n",
       "      <th>1</th>\n",
       "      <td>8634925</td>\n",
       "      <td>0040e12d70fae81</td>\n",
       "      <td>2024-09-02</td>\n",
       "      <td>2024-09-02 19:49:14</td>\n",
       "      <td>559476</td>\n",
       "      <td>нет</td>\n",
       "      <td>6</td>\n",
       "      <td>kzt</td>\n",
       "      <td>desktop</td>\n",
       "      <td>347.179993</td>\n",
       "      <td>Билеты без проблем</td>\n",
       "      <td>3</td>\n",
       "      <td>6943.609863</td>\n",
       "      <td>39.0</td>\n",
       "      <td>65.73</td>\n",
       "    </tr>\n",
       "    <tr>\n",
       "      <th>2</th>\n",
       "      <td>7625522</td>\n",
       "      <td>0054b38b2653e6e</td>\n",
       "      <td>2024-09-09</td>\n",
       "      <td>2024-09-09 18:06:04</td>\n",
       "      <td>559582</td>\n",
       "      <td>нет</td>\n",
       "      <td>6</td>\n",
       "      <td>kzt</td>\n",
       "      <td>mobile</td>\n",
       "      <td>328.769989</td>\n",
       "      <td>Билеты без проблем</td>\n",
       "      <td>4</td>\n",
       "      <td>10959.070312</td>\n",
       "      <td>NaN</td>\n",
       "      <td>61.15</td>\n",
       "    </tr>\n",
       "    <tr>\n",
       "      <th>3</th>\n",
       "      <td>5227657</td>\n",
       "      <td>01370a0e9c1a7d5</td>\n",
       "      <td>2024-06-04</td>\n",
       "      <td>2024-06-04 13:28:17</td>\n",
       "      <td>533803</td>\n",
       "      <td>нет</td>\n",
       "      <td>16</td>\n",
       "      <td>kzt</td>\n",
       "      <td>desktop</td>\n",
       "      <td>7397.660156</td>\n",
       "      <td>Мой билет</td>\n",
       "      <td>4</td>\n",
       "      <td>123294.320312</td>\n",
       "      <td>1.0</td>\n",
       "      <td>1478.30</td>\n",
       "    </tr>\n",
       "    <tr>\n",
       "      <th>4</th>\n",
       "      <td>2229782</td>\n",
       "      <td>01370a0e9c1a7d5</td>\n",
       "      <td>2024-06-04</td>\n",
       "      <td>2024-06-04 13:17:35</td>\n",
       "      <td>533803</td>\n",
       "      <td>нет</td>\n",
       "      <td>16</td>\n",
       "      <td>kzt</td>\n",
       "      <td>mobile</td>\n",
       "      <td>3698.830078</td>\n",
       "      <td>Мой билет</td>\n",
       "      <td>2</td>\n",
       "      <td>61647.160156</td>\n",
       "      <td>0.0</td>\n",
       "      <td>739.15</td>\n",
       "    </tr>\n",
       "    <tr>\n",
       "      <th>...</th>\n",
       "      <td>...</td>\n",
       "      <td>...</td>\n",
       "      <td>...</td>\n",
       "      <td>...</td>\n",
       "      <td>...</td>\n",
       "      <td>...</td>\n",
       "      <td>...</td>\n",
       "      <td>...</td>\n",
       "      <td>...</td>\n",
       "      <td>...</td>\n",
       "      <td>...</td>\n",
       "      <td>...</td>\n",
       "      <td>...</td>\n",
       "      <td>...</td>\n",
       "      <td>...</td>\n",
       "    </tr>\n",
       "    <tr>\n",
       "      <th>287747</th>\n",
       "      <td>368620</td>\n",
       "      <td>fffcd3dde79eb2c</td>\n",
       "      <td>2024-10-27</td>\n",
       "      <td>2024-10-27 18:00:57</td>\n",
       "      <td>33189</td>\n",
       "      <td>нет</td>\n",
       "      <td>6</td>\n",
       "      <td>rub</td>\n",
       "      <td>mobile</td>\n",
       "      <td>965.570007</td>\n",
       "      <td>Весь в билетах</td>\n",
       "      <td>4</td>\n",
       "      <td>9655.730469</td>\n",
       "      <td>0.0</td>\n",
       "      <td>965.57</td>\n",
       "    </tr>\n",
       "    <tr>\n",
       "      <th>287748</th>\n",
       "      <td>368562</td>\n",
       "      <td>fffcd3dde79eb2c</td>\n",
       "      <td>2024-10-27</td>\n",
       "      <td>2024-10-27 17:53:53</td>\n",
       "      <td>33189</td>\n",
       "      <td>нет</td>\n",
       "      <td>6</td>\n",
       "      <td>rub</td>\n",
       "      <td>mobile</td>\n",
       "      <td>1448.359985</td>\n",
       "      <td>Весь в билетах</td>\n",
       "      <td>6</td>\n",
       "      <td>14483.599609</td>\n",
       "      <td>0.0</td>\n",
       "      <td>1448.36</td>\n",
       "    </tr>\n",
       "    <tr>\n",
       "      <th>287749</th>\n",
       "      <td>8473772</td>\n",
       "      <td>fffcd3dde79eb2c</td>\n",
       "      <td>2024-10-30</td>\n",
       "      <td>2024-10-30 13:37:43</td>\n",
       "      <td>205231</td>\n",
       "      <td>нет</td>\n",
       "      <td>16</td>\n",
       "      <td>rub</td>\n",
       "      <td>desktop</td>\n",
       "      <td>178.949997</td>\n",
       "      <td>Прачечная</td>\n",
       "      <td>2</td>\n",
       "      <td>4473.740234</td>\n",
       "      <td>3.0</td>\n",
       "      <td>178.95</td>\n",
       "    </tr>\n",
       "    <tr>\n",
       "      <th>287750</th>\n",
       "      <td>5526067</td>\n",
       "      <td>fffeeb3c120cf0b</td>\n",
       "      <td>2024-09-24</td>\n",
       "      <td>2024-09-24 10:07:42</td>\n",
       "      <td>454526</td>\n",
       "      <td>нет</td>\n",
       "      <td>18</td>\n",
       "      <td>rub</td>\n",
       "      <td>desktop</td>\n",
       "      <td>661.530029</td>\n",
       "      <td>Билеты без проблем</td>\n",
       "      <td>2</td>\n",
       "      <td>6615.339844</td>\n",
       "      <td>NaN</td>\n",
       "      <td>661.53</td>\n",
       "    </tr>\n",
       "    <tr>\n",
       "      <th>287751</th>\n",
       "      <td>813654</td>\n",
       "      <td>ffff00725179321</td>\n",
       "      <td>2024-09-25</td>\n",
       "      <td>2024-09-25 15:12:40</td>\n",
       "      <td>284965</td>\n",
       "      <td>нет</td>\n",
       "      <td>16</td>\n",
       "      <td>rub</td>\n",
       "      <td>mobile</td>\n",
       "      <td>802.250000</td>\n",
       "      <td>Мой билет</td>\n",
       "      <td>2</td>\n",
       "      <td>8913.919922</td>\n",
       "      <td>NaN</td>\n",
       "      <td>802.25</td>\n",
       "    </tr>\n",
       "  </tbody>\n",
       "</table>\n",
       "<p>287752 rows × 15 columns</p>\n",
       "</div>"
      ],
      "text/plain": [
       "        order_id          user_id created_dt_msk      created_ts_msk  \\\n",
       "0        7850214  0033403583a55ed     2024-09-17 2024-09-17 16:52:06   \n",
       "1        8634925  0040e12d70fae81     2024-09-02 2024-09-02 19:49:14   \n",
       "2        7625522  0054b38b2653e6e     2024-09-09 2024-09-09 18:06:04   \n",
       "3        5227657  01370a0e9c1a7d5     2024-06-04 2024-06-04 13:28:17   \n",
       "4        2229782  01370a0e9c1a7d5     2024-06-04 2024-06-04 13:17:35   \n",
       "...          ...              ...            ...                 ...   \n",
       "287747    368620  fffcd3dde79eb2c     2024-10-27 2024-10-27 18:00:57   \n",
       "287748    368562  fffcd3dde79eb2c     2024-10-27 2024-10-27 17:53:53   \n",
       "287749   8473772  fffcd3dde79eb2c     2024-10-30 2024-10-30 13:37:43   \n",
       "287750   5526067  fffeeb3c120cf0b     2024-09-24 2024-09-24 10:07:42   \n",
       "287751    813654  ffff00725179321     2024-09-25 2024-09-25 15:12:40   \n",
       "\n",
       "        event_id cinema_circuit  age_limit currency_code  \\\n",
       "0         559919            нет          6           kzt   \n",
       "1         559476            нет          6           kzt   \n",
       "2         559582            нет          6           kzt   \n",
       "3         533803            нет         16           kzt   \n",
       "4         533803            нет         16           kzt   \n",
       "...          ...            ...        ...           ...   \n",
       "287747     33189            нет          6           rub   \n",
       "287748     33189            нет          6           rub   \n",
       "287749    205231            нет         16           rub   \n",
       "287750    454526            нет         18           rub   \n",
       "287751    284965            нет         16           rub   \n",
       "\n",
       "       device_type_canonical      revenue        service_name  tickets_count  \\\n",
       "0                     mobile   518.099976  Билеты без проблем              4   \n",
       "1                    desktop   347.179993  Билеты без проблем              3   \n",
       "2                     mobile   328.769989  Билеты без проблем              4   \n",
       "3                    desktop  7397.660156           Мой билет              4   \n",
       "4                     mobile  3698.830078           Мой билет              2   \n",
       "...                      ...          ...                 ...            ...   \n",
       "287747                mobile   965.570007      Весь в билетах              4   \n",
       "287748                mobile  1448.359985      Весь в билетах              6   \n",
       "287749               desktop   178.949997           Прачечная              2   \n",
       "287750               desktop   661.530029  Билеты без проблем              2   \n",
       "287751                mobile   802.250000           Мой билет              2   \n",
       "\n",
       "                total  days_since_prev  revenue_rub  \n",
       "0        10361.969727             20.0        98.50  \n",
       "1         6943.609863             39.0        65.73  \n",
       "2        10959.070312              NaN        61.15  \n",
       "3       123294.320312              1.0      1478.30  \n",
       "4        61647.160156              0.0       739.15  \n",
       "...               ...              ...          ...  \n",
       "287747    9655.730469              0.0       965.57  \n",
       "287748   14483.599609              0.0      1448.36  \n",
       "287749    4473.740234              3.0       178.95  \n",
       "287750    6615.339844              NaN       661.53  \n",
       "287751    8913.919922              NaN       802.25  \n",
       "\n",
       "[287752 rows x 15 columns]"
      ]
     },
     "execution_count": 29,
     "metadata": {},
     "output_type": "execute_result"
    }
   ],
   "source": [
    "# Приведём выручку к единой валюте\n",
    "\n",
    "df_orders = df_orders_t.append(df_orders_r)\n",
    "df_merged = df_orders.merge(df_tenge, left_on='created_dt_msk', right_on='data', how='left')\n",
    "\n",
    "def convert_revenue(row):\n",
    "    if row['currency_code'] == 'rub':\n",
    "        return round((row['revenue']),2)\n",
    "    elif row['currency_code'] == 'kzt':\n",
    "        return round((row['revenue'] * row['curs'] / row['nominal']), 2)\n",
    "    \n",
    "df_merged['revenue_rub'] = df_merged.apply(convert_revenue, axis=1)\n",
    "\n",
    "df_orders = df_merged[['order_id', 'user_id', 'created_dt_msk', 'created_ts_msk', 'event_id',\n",
    "                       'cinema_circuit', 'age_limit', 'currency_code', 'device_type_canonical',\n",
    "                       'revenue', 'service_name', 'tickets_count', 'total', 'days_since_prev', 'revenue_rub']]\n",
    "df_orders"
   ]
  },
  {
   "cell_type": "code",
   "execution_count": 30,
   "metadata": {},
   "outputs": [
    {
     "name": "stderr",
     "output_type": "stream",
     "text": [
      "/tmp/ipykernel_109/1425420398.py:6: SettingWithCopyWarning: \n",
      "A value is trying to be set on a copy of a slice from a DataFrame.\n",
      "Try using .loc[row_indexer,col_indexer] = value instead\n",
      "\n",
      "See the caveats in the documentation: https://pandas.pydata.org/pandas-docs/stable/user_guide/indexing.html#returning-a-view-versus-a-copy\n",
      "  df_orders['one_ticket_revenue_rub'] = df_orders.apply(one_ticket_revenue, axis=1)\n"
     ]
    },
    {
     "data": {
      "text/html": [
       "<div>\n",
       "<style scoped>\n",
       "    .dataframe tbody tr th:only-of-type {\n",
       "        vertical-align: middle;\n",
       "    }\n",
       "\n",
       "    .dataframe tbody tr th {\n",
       "        vertical-align: top;\n",
       "    }\n",
       "\n",
       "    .dataframe thead th {\n",
       "        text-align: right;\n",
       "    }\n",
       "</style>\n",
       "<table border=\"1\" class=\"dataframe\">\n",
       "  <thead>\n",
       "    <tr style=\"text-align: right;\">\n",
       "      <th></th>\n",
       "      <th>order_id</th>\n",
       "      <th>user_id</th>\n",
       "      <th>created_dt_msk</th>\n",
       "      <th>created_ts_msk</th>\n",
       "      <th>event_id</th>\n",
       "      <th>cinema_circuit</th>\n",
       "      <th>age_limit</th>\n",
       "      <th>currency_code</th>\n",
       "      <th>device_type_canonical</th>\n",
       "      <th>revenue</th>\n",
       "      <th>service_name</th>\n",
       "      <th>tickets_count</th>\n",
       "      <th>total</th>\n",
       "      <th>days_since_prev</th>\n",
       "      <th>revenue_rub</th>\n",
       "      <th>one_ticket_revenue_rub</th>\n",
       "    </tr>\n",
       "  </thead>\n",
       "  <tbody>\n",
       "    <tr>\n",
       "      <th>0</th>\n",
       "      <td>7850214</td>\n",
       "      <td>0033403583a55ed</td>\n",
       "      <td>2024-09-17</td>\n",
       "      <td>2024-09-17 16:52:06</td>\n",
       "      <td>559919</td>\n",
       "      <td>нет</td>\n",
       "      <td>6</td>\n",
       "      <td>kzt</td>\n",
       "      <td>mobile</td>\n",
       "      <td>518.099976</td>\n",
       "      <td>Билеты без проблем</td>\n",
       "      <td>4</td>\n",
       "      <td>10361.969727</td>\n",
       "      <td>20.0</td>\n",
       "      <td>98.50</td>\n",
       "      <td>24.625000</td>\n",
       "    </tr>\n",
       "    <tr>\n",
       "      <th>1</th>\n",
       "      <td>8634925</td>\n",
       "      <td>0040e12d70fae81</td>\n",
       "      <td>2024-09-02</td>\n",
       "      <td>2024-09-02 19:49:14</td>\n",
       "      <td>559476</td>\n",
       "      <td>нет</td>\n",
       "      <td>6</td>\n",
       "      <td>kzt</td>\n",
       "      <td>desktop</td>\n",
       "      <td>347.179993</td>\n",
       "      <td>Билеты без проблем</td>\n",
       "      <td>3</td>\n",
       "      <td>6943.609863</td>\n",
       "      <td>39.0</td>\n",
       "      <td>65.73</td>\n",
       "      <td>21.910000</td>\n",
       "    </tr>\n",
       "    <tr>\n",
       "      <th>2</th>\n",
       "      <td>7625522</td>\n",
       "      <td>0054b38b2653e6e</td>\n",
       "      <td>2024-09-09</td>\n",
       "      <td>2024-09-09 18:06:04</td>\n",
       "      <td>559582</td>\n",
       "      <td>нет</td>\n",
       "      <td>6</td>\n",
       "      <td>kzt</td>\n",
       "      <td>mobile</td>\n",
       "      <td>328.769989</td>\n",
       "      <td>Билеты без проблем</td>\n",
       "      <td>4</td>\n",
       "      <td>10959.070312</td>\n",
       "      <td>NaN</td>\n",
       "      <td>61.15</td>\n",
       "      <td>15.287500</td>\n",
       "    </tr>\n",
       "    <tr>\n",
       "      <th>3</th>\n",
       "      <td>5227657</td>\n",
       "      <td>01370a0e9c1a7d5</td>\n",
       "      <td>2024-06-04</td>\n",
       "      <td>2024-06-04 13:28:17</td>\n",
       "      <td>533803</td>\n",
       "      <td>нет</td>\n",
       "      <td>16</td>\n",
       "      <td>kzt</td>\n",
       "      <td>desktop</td>\n",
       "      <td>7397.660156</td>\n",
       "      <td>Мой билет</td>\n",
       "      <td>4</td>\n",
       "      <td>123294.320312</td>\n",
       "      <td>1.0</td>\n",
       "      <td>1478.30</td>\n",
       "      <td>369.575000</td>\n",
       "    </tr>\n",
       "    <tr>\n",
       "      <th>4</th>\n",
       "      <td>2229782</td>\n",
       "      <td>01370a0e9c1a7d5</td>\n",
       "      <td>2024-06-04</td>\n",
       "      <td>2024-06-04 13:17:35</td>\n",
       "      <td>533803</td>\n",
       "      <td>нет</td>\n",
       "      <td>16</td>\n",
       "      <td>kzt</td>\n",
       "      <td>mobile</td>\n",
       "      <td>3698.830078</td>\n",
       "      <td>Мой билет</td>\n",
       "      <td>2</td>\n",
       "      <td>61647.160156</td>\n",
       "      <td>0.0</td>\n",
       "      <td>739.15</td>\n",
       "      <td>369.575000</td>\n",
       "    </tr>\n",
       "    <tr>\n",
       "      <th>...</th>\n",
       "      <td>...</td>\n",
       "      <td>...</td>\n",
       "      <td>...</td>\n",
       "      <td>...</td>\n",
       "      <td>...</td>\n",
       "      <td>...</td>\n",
       "      <td>...</td>\n",
       "      <td>...</td>\n",
       "      <td>...</td>\n",
       "      <td>...</td>\n",
       "      <td>...</td>\n",
       "      <td>...</td>\n",
       "      <td>...</td>\n",
       "      <td>...</td>\n",
       "      <td>...</td>\n",
       "      <td>...</td>\n",
       "    </tr>\n",
       "    <tr>\n",
       "      <th>287747</th>\n",
       "      <td>368620</td>\n",
       "      <td>fffcd3dde79eb2c</td>\n",
       "      <td>2024-10-27</td>\n",
       "      <td>2024-10-27 18:00:57</td>\n",
       "      <td>33189</td>\n",
       "      <td>нет</td>\n",
       "      <td>6</td>\n",
       "      <td>rub</td>\n",
       "      <td>mobile</td>\n",
       "      <td>965.570007</td>\n",
       "      <td>Весь в билетах</td>\n",
       "      <td>4</td>\n",
       "      <td>9655.730469</td>\n",
       "      <td>0.0</td>\n",
       "      <td>965.57</td>\n",
       "      <td>241.392500</td>\n",
       "    </tr>\n",
       "    <tr>\n",
       "      <th>287748</th>\n",
       "      <td>368562</td>\n",
       "      <td>fffcd3dde79eb2c</td>\n",
       "      <td>2024-10-27</td>\n",
       "      <td>2024-10-27 17:53:53</td>\n",
       "      <td>33189</td>\n",
       "      <td>нет</td>\n",
       "      <td>6</td>\n",
       "      <td>rub</td>\n",
       "      <td>mobile</td>\n",
       "      <td>1448.359985</td>\n",
       "      <td>Весь в билетах</td>\n",
       "      <td>6</td>\n",
       "      <td>14483.599609</td>\n",
       "      <td>0.0</td>\n",
       "      <td>1448.36</td>\n",
       "      <td>241.393333</td>\n",
       "    </tr>\n",
       "    <tr>\n",
       "      <th>287749</th>\n",
       "      <td>8473772</td>\n",
       "      <td>fffcd3dde79eb2c</td>\n",
       "      <td>2024-10-30</td>\n",
       "      <td>2024-10-30 13:37:43</td>\n",
       "      <td>205231</td>\n",
       "      <td>нет</td>\n",
       "      <td>16</td>\n",
       "      <td>rub</td>\n",
       "      <td>desktop</td>\n",
       "      <td>178.949997</td>\n",
       "      <td>Прачечная</td>\n",
       "      <td>2</td>\n",
       "      <td>4473.740234</td>\n",
       "      <td>3.0</td>\n",
       "      <td>178.95</td>\n",
       "      <td>89.475000</td>\n",
       "    </tr>\n",
       "    <tr>\n",
       "      <th>287750</th>\n",
       "      <td>5526067</td>\n",
       "      <td>fffeeb3c120cf0b</td>\n",
       "      <td>2024-09-24</td>\n",
       "      <td>2024-09-24 10:07:42</td>\n",
       "      <td>454526</td>\n",
       "      <td>нет</td>\n",
       "      <td>18</td>\n",
       "      <td>rub</td>\n",
       "      <td>desktop</td>\n",
       "      <td>661.530029</td>\n",
       "      <td>Билеты без проблем</td>\n",
       "      <td>2</td>\n",
       "      <td>6615.339844</td>\n",
       "      <td>NaN</td>\n",
       "      <td>661.53</td>\n",
       "      <td>330.765000</td>\n",
       "    </tr>\n",
       "    <tr>\n",
       "      <th>287751</th>\n",
       "      <td>813654</td>\n",
       "      <td>ffff00725179321</td>\n",
       "      <td>2024-09-25</td>\n",
       "      <td>2024-09-25 15:12:40</td>\n",
       "      <td>284965</td>\n",
       "      <td>нет</td>\n",
       "      <td>16</td>\n",
       "      <td>rub</td>\n",
       "      <td>mobile</td>\n",
       "      <td>802.250000</td>\n",
       "      <td>Мой билет</td>\n",
       "      <td>2</td>\n",
       "      <td>8913.919922</td>\n",
       "      <td>NaN</td>\n",
       "      <td>802.25</td>\n",
       "      <td>401.125000</td>\n",
       "    </tr>\n",
       "  </tbody>\n",
       "</table>\n",
       "<p>287752 rows × 16 columns</p>\n",
       "</div>"
      ],
      "text/plain": [
       "        order_id          user_id created_dt_msk      created_ts_msk  \\\n",
       "0        7850214  0033403583a55ed     2024-09-17 2024-09-17 16:52:06   \n",
       "1        8634925  0040e12d70fae81     2024-09-02 2024-09-02 19:49:14   \n",
       "2        7625522  0054b38b2653e6e     2024-09-09 2024-09-09 18:06:04   \n",
       "3        5227657  01370a0e9c1a7d5     2024-06-04 2024-06-04 13:28:17   \n",
       "4        2229782  01370a0e9c1a7d5     2024-06-04 2024-06-04 13:17:35   \n",
       "...          ...              ...            ...                 ...   \n",
       "287747    368620  fffcd3dde79eb2c     2024-10-27 2024-10-27 18:00:57   \n",
       "287748    368562  fffcd3dde79eb2c     2024-10-27 2024-10-27 17:53:53   \n",
       "287749   8473772  fffcd3dde79eb2c     2024-10-30 2024-10-30 13:37:43   \n",
       "287750   5526067  fffeeb3c120cf0b     2024-09-24 2024-09-24 10:07:42   \n",
       "287751    813654  ffff00725179321     2024-09-25 2024-09-25 15:12:40   \n",
       "\n",
       "        event_id cinema_circuit  age_limit currency_code  \\\n",
       "0         559919            нет          6           kzt   \n",
       "1         559476            нет          6           kzt   \n",
       "2         559582            нет          6           kzt   \n",
       "3         533803            нет         16           kzt   \n",
       "4         533803            нет         16           kzt   \n",
       "...          ...            ...        ...           ...   \n",
       "287747     33189            нет          6           rub   \n",
       "287748     33189            нет          6           rub   \n",
       "287749    205231            нет         16           rub   \n",
       "287750    454526            нет         18           rub   \n",
       "287751    284965            нет         16           rub   \n",
       "\n",
       "       device_type_canonical      revenue        service_name  tickets_count  \\\n",
       "0                     mobile   518.099976  Билеты без проблем              4   \n",
       "1                    desktop   347.179993  Билеты без проблем              3   \n",
       "2                     mobile   328.769989  Билеты без проблем              4   \n",
       "3                    desktop  7397.660156           Мой билет              4   \n",
       "4                     mobile  3698.830078           Мой билет              2   \n",
       "...                      ...          ...                 ...            ...   \n",
       "287747                mobile   965.570007      Весь в билетах              4   \n",
       "287748                mobile  1448.359985      Весь в билетах              6   \n",
       "287749               desktop   178.949997           Прачечная              2   \n",
       "287750               desktop   661.530029  Билеты без проблем              2   \n",
       "287751                mobile   802.250000           Мой билет              2   \n",
       "\n",
       "                total  days_since_prev  revenue_rub  one_ticket_revenue_rub  \n",
       "0        10361.969727             20.0        98.50               24.625000  \n",
       "1         6943.609863             39.0        65.73               21.910000  \n",
       "2        10959.070312              NaN        61.15               15.287500  \n",
       "3       123294.320312              1.0      1478.30              369.575000  \n",
       "4        61647.160156              0.0       739.15              369.575000  \n",
       "...               ...              ...          ...                     ...  \n",
       "287747    9655.730469              0.0       965.57              241.392500  \n",
       "287748   14483.599609              0.0      1448.36              241.393333  \n",
       "287749    4473.740234              3.0       178.95               89.475000  \n",
       "287750    6615.339844              NaN       661.53              330.765000  \n",
       "287751    8913.919922              NaN       802.25              401.125000  \n",
       "\n",
       "[287752 rows x 16 columns]"
      ]
     },
     "execution_count": 30,
     "metadata": {},
     "output_type": "execute_result"
    }
   ],
   "source": [
    "# Рассчитаем выручку с продажи одного билета\n",
    "\n",
    "def one_ticket_revenue(row):\n",
    "    return row['revenue_rub'] / row['tickets_count']\n",
    "\n",
    "df_orders['one_ticket_revenue_rub'] = df_orders.apply(one_ticket_revenue, axis=1)\n",
    "df_orders"
   ]
  },
  {
   "cell_type": "code",
   "execution_count": 31,
   "metadata": {},
   "outputs": [
    {
     "name": "stderr",
     "output_type": "stream",
     "text": [
      "/tmp/ipykernel_109/2998651634.py:3: SettingWithCopyWarning: \n",
      "A value is trying to be set on a copy of a slice from a DataFrame.\n",
      "Try using .loc[row_indexer,col_indexer] = value instead\n",
      "\n",
      "See the caveats in the documentation: https://pandas.pydata.org/pandas-docs/stable/user_guide/indexing.html#returning-a-view-versus-a-copy\n",
      "  df_orders['month'] = df_orders['created_dt_msk'].dt.month\n"
     ]
    },
    {
     "data": {
      "text/html": [
       "<div>\n",
       "<style scoped>\n",
       "    .dataframe tbody tr th:only-of-type {\n",
       "        vertical-align: middle;\n",
       "    }\n",
       "\n",
       "    .dataframe tbody tr th {\n",
       "        vertical-align: top;\n",
       "    }\n",
       "\n",
       "    .dataframe thead th {\n",
       "        text-align: right;\n",
       "    }\n",
       "</style>\n",
       "<table border=\"1\" class=\"dataframe\">\n",
       "  <thead>\n",
       "    <tr style=\"text-align: right;\">\n",
       "      <th></th>\n",
       "      <th>order_id</th>\n",
       "      <th>user_id</th>\n",
       "      <th>created_dt_msk</th>\n",
       "      <th>created_ts_msk</th>\n",
       "      <th>event_id</th>\n",
       "      <th>cinema_circuit</th>\n",
       "      <th>age_limit</th>\n",
       "      <th>currency_code</th>\n",
       "      <th>device_type_canonical</th>\n",
       "      <th>revenue</th>\n",
       "      <th>service_name</th>\n",
       "      <th>tickets_count</th>\n",
       "      <th>total</th>\n",
       "      <th>days_since_prev</th>\n",
       "      <th>revenue_rub</th>\n",
       "      <th>one_ticket_revenue_rub</th>\n",
       "      <th>month</th>\n",
       "    </tr>\n",
       "  </thead>\n",
       "  <tbody>\n",
       "    <tr>\n",
       "      <th>0</th>\n",
       "      <td>7850214</td>\n",
       "      <td>0033403583a55ed</td>\n",
       "      <td>2024-09-17</td>\n",
       "      <td>2024-09-17 16:52:06</td>\n",
       "      <td>559919</td>\n",
       "      <td>нет</td>\n",
       "      <td>6</td>\n",
       "      <td>kzt</td>\n",
       "      <td>mobile</td>\n",
       "      <td>518.099976</td>\n",
       "      <td>Билеты без проблем</td>\n",
       "      <td>4</td>\n",
       "      <td>10361.969727</td>\n",
       "      <td>20.0</td>\n",
       "      <td>98.50</td>\n",
       "      <td>24.6250</td>\n",
       "      <td>9</td>\n",
       "    </tr>\n",
       "    <tr>\n",
       "      <th>1</th>\n",
       "      <td>8634925</td>\n",
       "      <td>0040e12d70fae81</td>\n",
       "      <td>2024-09-02</td>\n",
       "      <td>2024-09-02 19:49:14</td>\n",
       "      <td>559476</td>\n",
       "      <td>нет</td>\n",
       "      <td>6</td>\n",
       "      <td>kzt</td>\n",
       "      <td>desktop</td>\n",
       "      <td>347.179993</td>\n",
       "      <td>Билеты без проблем</td>\n",
       "      <td>3</td>\n",
       "      <td>6943.609863</td>\n",
       "      <td>39.0</td>\n",
       "      <td>65.73</td>\n",
       "      <td>21.9100</td>\n",
       "      <td>9</td>\n",
       "    </tr>\n",
       "    <tr>\n",
       "      <th>2</th>\n",
       "      <td>7625522</td>\n",
       "      <td>0054b38b2653e6e</td>\n",
       "      <td>2024-09-09</td>\n",
       "      <td>2024-09-09 18:06:04</td>\n",
       "      <td>559582</td>\n",
       "      <td>нет</td>\n",
       "      <td>6</td>\n",
       "      <td>kzt</td>\n",
       "      <td>mobile</td>\n",
       "      <td>328.769989</td>\n",
       "      <td>Билеты без проблем</td>\n",
       "      <td>4</td>\n",
       "      <td>10959.070312</td>\n",
       "      <td>NaN</td>\n",
       "      <td>61.15</td>\n",
       "      <td>15.2875</td>\n",
       "      <td>9</td>\n",
       "    </tr>\n",
       "    <tr>\n",
       "      <th>3</th>\n",
       "      <td>5227657</td>\n",
       "      <td>01370a0e9c1a7d5</td>\n",
       "      <td>2024-06-04</td>\n",
       "      <td>2024-06-04 13:28:17</td>\n",
       "      <td>533803</td>\n",
       "      <td>нет</td>\n",
       "      <td>16</td>\n",
       "      <td>kzt</td>\n",
       "      <td>desktop</td>\n",
       "      <td>7397.660156</td>\n",
       "      <td>Мой билет</td>\n",
       "      <td>4</td>\n",
       "      <td>123294.320312</td>\n",
       "      <td>1.0</td>\n",
       "      <td>1478.30</td>\n",
       "      <td>369.5750</td>\n",
       "      <td>6</td>\n",
       "    </tr>\n",
       "    <tr>\n",
       "      <th>4</th>\n",
       "      <td>2229782</td>\n",
       "      <td>01370a0e9c1a7d5</td>\n",
       "      <td>2024-06-04</td>\n",
       "      <td>2024-06-04 13:17:35</td>\n",
       "      <td>533803</td>\n",
       "      <td>нет</td>\n",
       "      <td>16</td>\n",
       "      <td>kzt</td>\n",
       "      <td>mobile</td>\n",
       "      <td>3698.830078</td>\n",
       "      <td>Мой билет</td>\n",
       "      <td>2</td>\n",
       "      <td>61647.160156</td>\n",
       "      <td>0.0</td>\n",
       "      <td>739.15</td>\n",
       "      <td>369.5750</td>\n",
       "      <td>6</td>\n",
       "    </tr>\n",
       "  </tbody>\n",
       "</table>\n",
       "</div>"
      ],
      "text/plain": [
       "   order_id          user_id created_dt_msk      created_ts_msk  event_id  \\\n",
       "0   7850214  0033403583a55ed     2024-09-17 2024-09-17 16:52:06    559919   \n",
       "1   8634925  0040e12d70fae81     2024-09-02 2024-09-02 19:49:14    559476   \n",
       "2   7625522  0054b38b2653e6e     2024-09-09 2024-09-09 18:06:04    559582   \n",
       "3   5227657  01370a0e9c1a7d5     2024-06-04 2024-06-04 13:28:17    533803   \n",
       "4   2229782  01370a0e9c1a7d5     2024-06-04 2024-06-04 13:17:35    533803   \n",
       "\n",
       "  cinema_circuit  age_limit currency_code device_type_canonical      revenue  \\\n",
       "0            нет          6           kzt                mobile   518.099976   \n",
       "1            нет          6           kzt               desktop   347.179993   \n",
       "2            нет          6           kzt                mobile   328.769989   \n",
       "3            нет         16           kzt               desktop  7397.660156   \n",
       "4            нет         16           kzt                mobile  3698.830078   \n",
       "\n",
       "         service_name  tickets_count          total  days_since_prev  \\\n",
       "0  Билеты без проблем              4   10361.969727             20.0   \n",
       "1  Билеты без проблем              3    6943.609863             39.0   \n",
       "2  Билеты без проблем              4   10959.070312              NaN   \n",
       "3           Мой билет              4  123294.320312              1.0   \n",
       "4           Мой билет              2   61647.160156              0.0   \n",
       "\n",
       "   revenue_rub  one_ticket_revenue_rub  month  \n",
       "0        98.50                 24.6250      9  \n",
       "1        65.73                 21.9100      9  \n",
       "2        61.15                 15.2875      9  \n",
       "3      1478.30                369.5750      6  \n",
       "4       739.15                369.5750      6  "
      ]
     },
     "execution_count": 31,
     "metadata": {},
     "output_type": "execute_result"
    }
   ],
   "source": [
    "# Выделим месяц для каждого заказа\n",
    "\n",
    "df_orders['month'] = df_orders['created_dt_msk'].dt.month\n",
    "df_orders.head()"
   ]
  },
  {
   "cell_type": "code",
   "execution_count": 32,
   "metadata": {},
   "outputs": [
    {
     "name": "stderr",
     "output_type": "stream",
     "text": [
      "/tmp/ipykernel_109/3810587242.py:13: SettingWithCopyWarning: \n",
      "A value is trying to be set on a copy of a slice from a DataFrame.\n",
      "Try using .loc[row_indexer,col_indexer] = value instead\n",
      "\n",
      "See the caveats in the documentation: https://pandas.pydata.org/pandas-docs/stable/user_guide/indexing.html#returning-a-view-versus-a-copy\n",
      "  df_orders['season'] = df_orders.apply(season, axis=1)\n"
     ]
    },
    {
     "data": {
      "text/html": [
       "<div>\n",
       "<style scoped>\n",
       "    .dataframe tbody tr th:only-of-type {\n",
       "        vertical-align: middle;\n",
       "    }\n",
       "\n",
       "    .dataframe tbody tr th {\n",
       "        vertical-align: top;\n",
       "    }\n",
       "\n",
       "    .dataframe thead th {\n",
       "        text-align: right;\n",
       "    }\n",
       "</style>\n",
       "<table border=\"1\" class=\"dataframe\">\n",
       "  <thead>\n",
       "    <tr style=\"text-align: right;\">\n",
       "      <th></th>\n",
       "      <th>order_id</th>\n",
       "      <th>user_id</th>\n",
       "      <th>created_dt_msk</th>\n",
       "      <th>created_ts_msk</th>\n",
       "      <th>event_id</th>\n",
       "      <th>cinema_circuit</th>\n",
       "      <th>age_limit</th>\n",
       "      <th>currency_code</th>\n",
       "      <th>device_type_canonical</th>\n",
       "      <th>revenue</th>\n",
       "      <th>service_name</th>\n",
       "      <th>tickets_count</th>\n",
       "      <th>total</th>\n",
       "      <th>days_since_prev</th>\n",
       "      <th>revenue_rub</th>\n",
       "      <th>one_ticket_revenue_rub</th>\n",
       "      <th>month</th>\n",
       "      <th>season</th>\n",
       "    </tr>\n",
       "  </thead>\n",
       "  <tbody>\n",
       "    <tr>\n",
       "      <th>0</th>\n",
       "      <td>7850214</td>\n",
       "      <td>0033403583a55ed</td>\n",
       "      <td>2024-09-17</td>\n",
       "      <td>2024-09-17 16:52:06</td>\n",
       "      <td>559919</td>\n",
       "      <td>нет</td>\n",
       "      <td>6</td>\n",
       "      <td>kzt</td>\n",
       "      <td>mobile</td>\n",
       "      <td>518.099976</td>\n",
       "      <td>Билеты без проблем</td>\n",
       "      <td>4</td>\n",
       "      <td>10361.969727</td>\n",
       "      <td>20.0</td>\n",
       "      <td>98.50</td>\n",
       "      <td>24.6250</td>\n",
       "      <td>9</td>\n",
       "      <td>осень</td>\n",
       "    </tr>\n",
       "    <tr>\n",
       "      <th>1</th>\n",
       "      <td>8634925</td>\n",
       "      <td>0040e12d70fae81</td>\n",
       "      <td>2024-09-02</td>\n",
       "      <td>2024-09-02 19:49:14</td>\n",
       "      <td>559476</td>\n",
       "      <td>нет</td>\n",
       "      <td>6</td>\n",
       "      <td>kzt</td>\n",
       "      <td>desktop</td>\n",
       "      <td>347.179993</td>\n",
       "      <td>Билеты без проблем</td>\n",
       "      <td>3</td>\n",
       "      <td>6943.609863</td>\n",
       "      <td>39.0</td>\n",
       "      <td>65.73</td>\n",
       "      <td>21.9100</td>\n",
       "      <td>9</td>\n",
       "      <td>осень</td>\n",
       "    </tr>\n",
       "    <tr>\n",
       "      <th>2</th>\n",
       "      <td>7625522</td>\n",
       "      <td>0054b38b2653e6e</td>\n",
       "      <td>2024-09-09</td>\n",
       "      <td>2024-09-09 18:06:04</td>\n",
       "      <td>559582</td>\n",
       "      <td>нет</td>\n",
       "      <td>6</td>\n",
       "      <td>kzt</td>\n",
       "      <td>mobile</td>\n",
       "      <td>328.769989</td>\n",
       "      <td>Билеты без проблем</td>\n",
       "      <td>4</td>\n",
       "      <td>10959.070312</td>\n",
       "      <td>NaN</td>\n",
       "      <td>61.15</td>\n",
       "      <td>15.2875</td>\n",
       "      <td>9</td>\n",
       "      <td>осень</td>\n",
       "    </tr>\n",
       "    <tr>\n",
       "      <th>3</th>\n",
       "      <td>5227657</td>\n",
       "      <td>01370a0e9c1a7d5</td>\n",
       "      <td>2024-06-04</td>\n",
       "      <td>2024-06-04 13:28:17</td>\n",
       "      <td>533803</td>\n",
       "      <td>нет</td>\n",
       "      <td>16</td>\n",
       "      <td>kzt</td>\n",
       "      <td>desktop</td>\n",
       "      <td>7397.660156</td>\n",
       "      <td>Мой билет</td>\n",
       "      <td>4</td>\n",
       "      <td>123294.320312</td>\n",
       "      <td>1.0</td>\n",
       "      <td>1478.30</td>\n",
       "      <td>369.5750</td>\n",
       "      <td>6</td>\n",
       "      <td>лето</td>\n",
       "    </tr>\n",
       "    <tr>\n",
       "      <th>4</th>\n",
       "      <td>2229782</td>\n",
       "      <td>01370a0e9c1a7d5</td>\n",
       "      <td>2024-06-04</td>\n",
       "      <td>2024-06-04 13:17:35</td>\n",
       "      <td>533803</td>\n",
       "      <td>нет</td>\n",
       "      <td>16</td>\n",
       "      <td>kzt</td>\n",
       "      <td>mobile</td>\n",
       "      <td>3698.830078</td>\n",
       "      <td>Мой билет</td>\n",
       "      <td>2</td>\n",
       "      <td>61647.160156</td>\n",
       "      <td>0.0</td>\n",
       "      <td>739.15</td>\n",
       "      <td>369.5750</td>\n",
       "      <td>6</td>\n",
       "      <td>лето</td>\n",
       "    </tr>\n",
       "  </tbody>\n",
       "</table>\n",
       "</div>"
      ],
      "text/plain": [
       "   order_id          user_id created_dt_msk      created_ts_msk  event_id  \\\n",
       "0   7850214  0033403583a55ed     2024-09-17 2024-09-17 16:52:06    559919   \n",
       "1   8634925  0040e12d70fae81     2024-09-02 2024-09-02 19:49:14    559476   \n",
       "2   7625522  0054b38b2653e6e     2024-09-09 2024-09-09 18:06:04    559582   \n",
       "3   5227657  01370a0e9c1a7d5     2024-06-04 2024-06-04 13:28:17    533803   \n",
       "4   2229782  01370a0e9c1a7d5     2024-06-04 2024-06-04 13:17:35    533803   \n",
       "\n",
       "  cinema_circuit  age_limit currency_code device_type_canonical      revenue  \\\n",
       "0            нет          6           kzt                mobile   518.099976   \n",
       "1            нет          6           kzt               desktop   347.179993   \n",
       "2            нет          6           kzt                mobile   328.769989   \n",
       "3            нет         16           kzt               desktop  7397.660156   \n",
       "4            нет         16           kzt                mobile  3698.830078   \n",
       "\n",
       "         service_name  tickets_count          total  days_since_prev  \\\n",
       "0  Билеты без проблем              4   10361.969727             20.0   \n",
       "1  Билеты без проблем              3    6943.609863             39.0   \n",
       "2  Билеты без проблем              4   10959.070312              NaN   \n",
       "3           Мой билет              4  123294.320312              1.0   \n",
       "4           Мой билет              2   61647.160156              0.0   \n",
       "\n",
       "   revenue_rub  one_ticket_revenue_rub  month season  \n",
       "0        98.50                 24.6250      9  осень  \n",
       "1        65.73                 21.9100      9  осень  \n",
       "2        61.15                 15.2875      9  осень  \n",
       "3      1478.30                369.5750      6   лето  \n",
       "4       739.15                369.5750      6   лето  "
      ]
     },
     "execution_count": 32,
     "metadata": {},
     "output_type": "execute_result"
    }
   ],
   "source": [
    "# Добавим столбец с информацией о сезоне\n",
    "\n",
    "def season (row):\n",
    "    if row['month'] == 12 or row['month'] <=2:\n",
    "        return 'зима'\n",
    "    elif 2 < row['month'] <= 5:\n",
    "        return 'весна'\n",
    "    elif 5 < row['month'] <= 8:\n",
    "        return 'лето'\n",
    "    elif 8 < row['month'] <= 11:\n",
    "        return 'осень'\n",
    "    \n",
    "df_orders['season'] = df_orders.apply(season, axis=1)\n",
    "df_orders.head()"
   ]
  },
  {
   "cell_type": "markdown",
   "metadata": {},
   "source": [
    "Итоги предобработки:\n",
    "- Из датасета df_orders было удалено 3097 строк, что составляет 1.06% от общего датасета.\n",
    "    - Произведена фильтрация от выбросов;\n",
    "    - Удалены явные дубликаты (исключая столбец order_id).\n",
    "- Во всех датасетах столбцы с информацией о датах и времени приведены к удобному формату для работы.\n",
    "- Во всех датасетах оптимизирована разрядность числовых данных.\n",
    "\n",
    "В датасет df_orders добавлены столбцы:\n",
    "- `revenue_rub` - выручка приведённая к рублям (в соответствии курсу)\n",
    "- `one_ticket_revenue_rub` - выручка с продажи одного билета\n",
    "- `month` - месяц оформления заказа\n",
    "- `season` - сезон"
   ]
  },
  {
   "cell_type": "markdown",
   "metadata": {},
   "source": [
    "## Исследовательский анализ данных\n",
    "\n",
    "### Анализ распределения заказов по сегментам и их сезонные изменения"
   ]
  },
  {
   "cell_type": "code",
   "execution_count": 33,
   "metadata": {},
   "outputs": [
    {
     "data": {
      "image/png": "[encoded data removed]",
      "text/plain": [
       "<Figure size 720x432 with 1 Axes>"
      ]
     },
     "metadata": {
      "needs_background": "light"
     },
     "output_type": "display_data"
    }
   ],
   "source": [
    "# Найдём количество заказов для каждого месяца\n",
    "df_monthly = df_orders.groupby('month')['order_id'].count().reset_index()\n",
    "\n",
    "# Построим визуализацию по полученным данным\n",
    "fig, ax = plt.subplots(figsize=(10, 6))\n",
    "\n",
    "df_monthly.sort_values(by='month').plot(\n",
    "    kind='bar',\n",
    "    x='month',\n",
    "    y='order_id',\n",
    "    ax=ax,\n",
    "    rot=0,\n",
    "    legend=False,\n",
    "    title='Количество заказов по месяцам')\n",
    "\n",
    "ax.set_xlabel('Месяц')\n",
    "ax.set_ylabel('Количество заказов')\n",
    "ax.grid()\n",
    "\n",
    "plt.show()"
   ]
  },
  {
   "cell_type": "markdown",
   "metadata": {},
   "source": [
    "По графику видно увеличение количества заказов от июня к октябрю."
   ]
  },
  {
   "cell_type": "code",
   "execution_count": 34,
   "metadata": {},
   "outputs": [],
   "source": [
    "#Объединим датасеты для дальнейшей работы\n",
    "df_full = df_orders.merge(df_events, on='event_id', how='left')"
   ]
  },
  {
   "cell_type": "code",
   "execution_count": 35,
   "metadata": {},
   "outputs": [],
   "source": [
    "#Сгруппируем данные в долях по типу устройства\n",
    "df_device_group = df_full.groupby(['season', 'device_type_canonical']).size().reset_index(name='order_count')\n",
    "device_total = df_device_group.groupby('season')['order_count'].transform('sum')\n",
    "df_device_group['rate'] = (df_device_group['order_count'] / device_total).round(2)\n",
    "df_device_group = df_device_group.pivot_table(index='device_type_canonical', columns='season', values='rate')\n",
    "\n",
    "#Сгруппируем данные в долях по категории мероприятия\n",
    "df_event_cat_group = df_full.groupby(['season', 'event_type_main']).size().reset_index(name='order_count')\n",
    "event_cat_total = df_event_cat_group.groupby('season')['order_count'].transform('sum')\n",
    "df_event_cat_group['rate'] = (df_event_cat_group['order_count'] / event_cat_total).round(2)\n",
    "df_event_cat_group = df_event_cat_group.pivot_table(index='event_type_main', columns='season', values='rate')\n",
    "\n",
    "#Сгруппируем данные в долях по возрастному рейтингу\n",
    "df_age_group = df_full.groupby(['season', 'age_limit']).size().reset_index(name='order_count')\n",
    "age_total = df_age_group.groupby('season')['order_count'].transform('sum')\n",
    "df_age_group['rate'] = (df_age_group['order_count'] / age_total).round(2)\n",
    "df_age_group = df_age_group.pivot_table(index='age_limit', columns='season', values='rate')"
   ]
  },
  {
   "cell_type": "code",
   "execution_count": 36,
   "metadata": {},
   "outputs": [
    {
     "data": {
      "image/png": "[encoded data removed]",
      "text/plain": [
       "<Figure size 864x576 with 1 Axes>"
      ]
     },
     "metadata": {
      "needs_background": "light"
     },
     "output_type": "display_data"
    }
   ],
   "source": [
    "ax = df_device_group.plot(kind='bar',  \n",
    "                rot=0, \n",
    "                legend=True, \n",
    "                title=f'Распределение заказов по типу устройства',\n",
    "                figsize=(12, 8))\n",
    "\n",
    "# Добавление подписей данных\n",
    "for p in ax.patches:\n",
    "    height = p.get_height() \n",
    "    x = p.get_x()            \n",
    "    width = p.get_width()   \n",
    "\n",
    "    # Добавление текста: (значение, координата x, координата y)\n",
    "    # x + width / 2 - это середина полосы, y + height + 0.01 - немного выше столбца\n",
    "    ax.annotate(f'{height:.2f}', (x + width / 2, height + 0.01), ha='center', va='bottom')\n",
    "\n",
    "ax.set_ylim(0,0.9)\n",
    "plt.xlabel('Тип устройства')\n",
    "plt.ylabel('Доля по сезону')\n",
    "plt.grid()\n",
    "\n",
    "plt.show()"
   ]
  },
  {
   "cell_type": "code",
   "execution_count": 37,
   "metadata": {},
   "outputs": [
    {
     "data": {
      "image/png": "[encoded data removed]",
      "text/plain": [
       "<Figure size 864x576 with 1 Axes>"
      ]
     },
     "metadata": {
      "needs_background": "light"
     },
     "output_type": "display_data"
    }
   ],
   "source": [
    "ax = df_event_cat_group.plot(kind='barh',  \n",
    "                rot=0, \n",
    "                legend=True, \n",
    "                title=f'Распределение заказов по категории мероприятия',\n",
    "                figsize=(12, 8))\n",
    "\n",
    "# Добавление подписей данных\n",
    "for p in ax.patches:\n",
    "    width = p.get_width()    # Получение ширины полосы (значения)\n",
    "    y = p.get_y()            # Получение координаты y полосы\n",
    "    height = p.get_height()  # Получение высоты полосы\n",
    "\n",
    "    # Добавление текста: (значение, координата x, координата y)\n",
    "    # x - это значение полосы, y + height / 2 - это середина полосы\n",
    "    ax.annotate(f'{width:.2f}', (width, y + height / 2), ha='left', va='center')\n",
    "\n",
    "\n",
    "plt.xlabel('Доля по сезону')\n",
    "plt.ylabel('Категория мероприятия')\n",
    "plt.grid()\n",
    "\n",
    "plt.show()"
   ]
  },
  {
   "cell_type": "code",
   "execution_count": 38,
   "metadata": {},
   "outputs": [
    {
     "data": {
      "image/png": "[encoded data removed]",
      "text/plain": [
       "<Figure size 864x576 with 1 Axes>"
      ]
     },
     "metadata": {
      "needs_background": "light"
     },
     "output_type": "display_data"
    }
   ],
   "source": [
    "ax = df_age_group.plot(kind='barh',  \n",
    "                rot=0, \n",
    "                legend=True, \n",
    "                title=f'Распределение заказов по возрастным ограничениям',\n",
    "                figsize=(12, 8))\n",
    "\n",
    "# Добавление подписей данных\n",
    "for p in ax.patches:\n",
    "    width = p.get_width()    # Получение ширины полосы (значения)\n",
    "    y = p.get_y()            # Получение координаты y полосы\n",
    "    height = p.get_height()  # Получение высоты полосы\n",
    "\n",
    "    # Добавление текста: (значение, координата x, координата y)\n",
    "    # x - это значение полосы, y + height / 2 - это середина полосы\n",
    "    ax.annotate(f'{width:.2f}', (width, y + height / 2), ha='left', va='center')\n",
    "\n",
    "plt.xlabel('Доля по сезону')\n",
    "plt.ylabel('Возрастная категория')\n",
    "plt.grid()\n",
    "\n",
    "plt.show()"
   ]
  },
  {
   "cell_type": "code",
   "execution_count": 39,
   "metadata": {},
   "outputs": [
    {
     "data": {
      "image/png": "[encoded data removed]",
      "text/plain": [
       "<Figure size 864x576 with 1 Axes>"
      ]
     },
     "metadata": {
      "needs_background": "light"
     },
     "output_type": "display_data"
    }
   ],
   "source": [
    "ax = df_age_group.plot(kind='barh',\n",
    "                        rot=0,\n",
    "                        legend=True,\n",
    "                        title='Распределение заказов по возрастным ограничениям',\n",
    "                        figsize=(12, 8))\n",
    "\n",
    "# Добавление подписей данных\n",
    "for p in ax.patches:\n",
    "    width = p.get_width()    # Получение ширины полосы (значения)\n",
    "    y = p.get_y()            # Получение координаты y полосы\n",
    "    height = p.get_height()  # Получение высоты полосы\n",
    "\n",
    "    # Добавление текста: (значение, координата x, координата y)\n",
    "    # x - это значение полосы, y + height / 2 - это середина полосы\n",
    "    ax.annotate(f'{width:.2f}', (width, y + height / 2), ha='left', va='center')\n",
    "\n",
    "plt.xlabel('Доля по сезону')\n",
    "plt.ylabel('Возрастная категория')\n",
    "plt.grid(True)"
   ]
  },
  {
   "cell_type": "code",
   "execution_count": 40,
   "metadata": {},
   "outputs": [],
   "source": [
    "#Сгруппируем данные в долях по возрастному рейтингу\n",
    "df_one_ticket_group = df_full.groupby(['event_type_main', 'season'])['one_ticket_revenue_rub'].mean().reset_index(name='one_ticket_mean')\n",
    "df_one_ticket = df_full.groupby('event_type_main')['one_ticket_revenue_rub'].mean().reset_index(name='one_ticket_mean')\n",
    "\n",
    "summer_group = df_one_ticket_group.loc[df_one_ticket_group['season'] == 'лето', 'one_ticket_mean'].values\n",
    "autumn_group = df_one_ticket_group.loc[df_one_ticket_group['season'] == 'осень', 'one_ticket_mean'].values\n",
    "\n",
    "df_one_ticket['change_rat'] = (100 * (autumn_group - summer_group) / autumn_group).round(2)"
   ]
  },
  {
   "cell_type": "code",
   "execution_count": 41,
   "metadata": {},
   "outputs": [
    {
     "data": {
      "image/png": "[encoded data removed]",
      "text/plain": [
       "<Figure size 864x576 with 1 Axes>"
      ]
     },
     "metadata": {
      "needs_background": "light"
     },
     "output_type": "display_data"
    }
   ],
   "source": [
    "#Визуализируем полученные данные\n",
    "colors = ['green' if x > 0 else 'red' for x in df_one_ticket['change_rat']]\n",
    "\n",
    "df_one_ticket.plot(kind='bar',  \n",
    "                rot=0,\n",
    "                x = 'event_type_main',\n",
    "                y = 'change_rat',\n",
    "                color = colors,\n",
    "                legend=True,\n",
    "                title=f'Относительное изменение средней выручки одного билета осени к лету',\n",
    "                figsize=(12, 8))\n",
    "\n",
    "plt.xlabel('Категория мероприятия')\n",
    "plt.ylabel('Процентное отношение (%)')\n",
    "plt.grid()\n",
    "\n",
    "plt.show()"
   ]
  },
  {
   "cell_type": "markdown",
   "metadata": {},
   "source": [
    "Прослеживается увеличение количества заказов от июня к октябрю. По типу мероприятия видно увеличение заказов по многим типам, уменьшается для фестивалей, цирков, экскурсий. Некоторые мероприятия проходили исключетельно в конкретный сезон. Увеличились заказы так же по всем типам устройств. Тенденция на увеличение заметна для всех категорий мероприятия, наблюдается увеличение заказов в каждой категории, особенно выделяются мероприятия ёлки и спорт. В категориях ограничения по возрасту видно увеличение заказов по всем категориям, кроме 18+. Однако средняя выручка за один билет снижается для каждой категории мероприятия, повышение только для выставок и стендапов."
   ]
  },
  {
   "cell_type": "markdown",
   "metadata": {},
   "source": [
    "### Осенняя активность пользователей"
   ]
  },
  {
   "cell_type": "code",
   "execution_count": 42,
   "metadata": {},
   "outputs": [
    {
     "data": {
      "text/html": [
       "<div>\n",
       "<style scoped>\n",
       "    .dataframe tbody tr th:only-of-type {\n",
       "        vertical-align: middle;\n",
       "    }\n",
       "\n",
       "    .dataframe tbody tr th {\n",
       "        vertical-align: top;\n",
       "    }\n",
       "\n",
       "    .dataframe thead th {\n",
       "        text-align: right;\n",
       "    }\n",
       "</style>\n",
       "<table border=\"1\" class=\"dataframe\">\n",
       "  <thead>\n",
       "    <tr style=\"text-align: right;\">\n",
       "      <th></th>\n",
       "      <th>created_dt_msk</th>\n",
       "      <th>orders_count</th>\n",
       "      <th>DAU</th>\n",
       "      <th>one_ticket_revenue_rub</th>\n",
       "      <th>mean_orders</th>\n",
       "    </tr>\n",
       "  </thead>\n",
       "  <tbody>\n",
       "    <tr>\n",
       "      <th>0</th>\n",
       "      <td>2024-09-01</td>\n",
       "      <td>1327</td>\n",
       "      <td>564</td>\n",
       "      <td>200.168718</td>\n",
       "      <td>2.35</td>\n",
       "    </tr>\n",
       "    <tr>\n",
       "      <th>1</th>\n",
       "      <td>2024-09-02</td>\n",
       "      <td>1380</td>\n",
       "      <td>574</td>\n",
       "      <td>189.464638</td>\n",
       "      <td>2.40</td>\n",
       "    </tr>\n",
       "    <tr>\n",
       "      <th>2</th>\n",
       "      <td>2024-09-03</td>\n",
       "      <td>5111</td>\n",
       "      <td>778</td>\n",
       "      <td>80.130105</td>\n",
       "      <td>6.57</td>\n",
       "    </tr>\n",
       "    <tr>\n",
       "      <th>3</th>\n",
       "      <td>2024-09-04</td>\n",
       "      <td>1772</td>\n",
       "      <td>684</td>\n",
       "      <td>177.714554</td>\n",
       "      <td>2.59</td>\n",
       "    </tr>\n",
       "    <tr>\n",
       "      <th>4</th>\n",
       "      <td>2024-09-05</td>\n",
       "      <td>1940</td>\n",
       "      <td>739</td>\n",
       "      <td>189.763039</td>\n",
       "      <td>2.63</td>\n",
       "    </tr>\n",
       "  </tbody>\n",
       "</table>\n",
       "</div>"
      ],
      "text/plain": [
       "  created_dt_msk  orders_count  DAU  one_ticket_revenue_rub  mean_orders\n",
       "0     2024-09-01          1327  564              200.168718         2.35\n",
       "1     2024-09-02          1380  574              189.464638         2.40\n",
       "2     2024-09-03          5111  778               80.130105         6.57\n",
       "3     2024-09-04          1772  684              177.714554         2.59\n",
       "4     2024-09-05          1940  739              189.763039         2.63"
      ]
     },
     "execution_count": 42,
     "metadata": {},
     "output_type": "execute_result"
    }
   ],
   "source": [
    "# Подготовим датасет с данными по осени\n",
    "df_autumn = df_orders[df_orders['season'] == 'осень']\n",
    "\n",
    "autumn_grouped = df_autumn.groupby('created_dt_msk').agg({'order_id': 'count', 'user_id': 'nunique', 'one_ticket_revenue_rub': 'mean'}).rename(columns={'order_id': 'orders_count', 'user_id': 'DAU'}).reset_index()\n",
    "autumn_grouped['mean_orders'] = (autumn_grouped['orders_count'] / autumn_grouped['DAU']).round(2)\n",
    "autumn_grouped.head()"
   ]
  },
  {
   "cell_type": "code",
   "execution_count": 43,
   "metadata": {},
   "outputs": [
    {
     "data": {
      "image/png": "[encoded data removed]",
      "text/plain": [
       "<Figure size 1008x432 with 1 Axes>"
      ]
     },
     "metadata": {
      "needs_background": "light"
     },
     "output_type": "display_data"
    }
   ],
   "source": [
    "#Визуализируем общее число заказов по дням\n",
    "autumn_grouped.plot(kind='line',\n",
    "                    x='created_dt_msk',\n",
    "                    y='orders_count',\n",
    "                  subplots=True,\n",
    "                  sharex=True,\n",
    "                  sharey=False,\n",
    "                  figsize=(14,6),\n",
    "                  marker='o',\n",
    "                  grid = True,\n",
    "                  legend=False,\n",
    "                  title='Общее число заказов по дням',\n",
    "                  xlabel='Дата',\n",
    "                  ylabel='Количество заказов')\n",
    "\n",
    "plt.show()"
   ]
  },
  {
   "cell_type": "code",
   "execution_count": 44,
   "metadata": {},
   "outputs": [
    {
     "data": {
      "image/png": "[encoded data removed]",
      "text/plain": [
       "<Figure size 1008x432 with 1 Axes>"
      ]
     },
     "metadata": {
      "needs_background": "light"
     },
     "output_type": "display_data"
    }
   ],
   "source": [
    "#Визуализируем DAU по дням\n",
    "autumn_grouped.plot(kind='line',\n",
    "                    x='created_dt_msk',\n",
    "                    y='DAU',\n",
    "                    subplots=True,\n",
    "                    sharex=True,\n",
    "                    color='green',\n",
    "                    sharey=False,\n",
    "                    figsize=(14,6),\n",
    "                    marker='o',\n",
    "                    grid = True,\n",
    "                    legend=False,\n",
    "                    title='DAU',\n",
    "                    xlabel='Дата',\n",
    "                    ylabel='Количество пользователей')\n",
    "\n",
    "plt.show()"
   ]
  },
  {
   "cell_type": "code",
   "execution_count": 45,
   "metadata": {},
   "outputs": [
    {
     "data": {
      "image/png": "[encoded data removed]",
      "text/plain": [
       "<Figure size 1008x432 with 1 Axes>"
      ]
     },
     "metadata": {
      "needs_background": "light"
     },
     "output_type": "display_data"
    }
   ],
   "source": [
    "#Визуализируем среднее число заказов на пользователя по дням\n",
    "autumn_grouped.plot(kind='line',\n",
    "                    x='created_dt_msk',\n",
    "                    y='one_ticket_revenue_rub',\n",
    "                    subplots=True,\n",
    "                    sharex=True,\n",
    "                    color='red',\n",
    "                    sharey=False,\n",
    "                    figsize=(14,6),\n",
    "                    marker='o',\n",
    "                    grid = True,\n",
    "                    legend=False,\n",
    "                    title='Среднее число заказов на пользователя',\n",
    "                    xlabel='Дата',\n",
    "                    ylabel='Среднее число заказов')\n",
    "\n",
    "plt.show()"
   ]
  },
  {
   "cell_type": "code",
   "execution_count": 46,
   "metadata": {},
   "outputs": [
    {
     "data": {
      "image/png": "[encoded data removed]",
      "text/plain": [
       "<Figure size 1008x432 with 1 Axes>"
      ]
     },
     "metadata": {
      "needs_background": "light"
     },
     "output_type": "display_data"
    }
   ],
   "source": [
    "#Визуализируем среднюю стоимость одного билета по дням\n",
    "autumn_grouped.plot(kind='line',\n",
    "                    x='created_dt_msk',\n",
    "                    y='mean_orders',\n",
    "                    subplots=True,\n",
    "                    sharex=True,\n",
    "                    color='orange',\n",
    "                    sharey=False,\n",
    "                    figsize=(14,6),\n",
    "                    marker='o',\n",
    "                    grid = True,\n",
    "                    legend=False,\n",
    "                    title='Средняя стоимость одного билета',\n",
    "                    xlabel='Дата',\n",
    "                    ylabel='Средняя стоимость билета')\n",
    "\n",
    "plt.show()"
   ]
  },
  {
   "cell_type": "code",
   "execution_count": 47,
   "metadata": {},
   "outputs": [
    {
     "data": {
      "text/html": [
       "<div>\n",
       "<style scoped>\n",
       "    .dataframe tbody tr th:only-of-type {\n",
       "        vertical-align: middle;\n",
       "    }\n",
       "\n",
       "    .dataframe tbody tr th {\n",
       "        vertical-align: top;\n",
       "    }\n",
       "\n",
       "    .dataframe thead th {\n",
       "        text-align: right;\n",
       "    }\n",
       "</style>\n",
       "<table border=\"1\" class=\"dataframe\">\n",
       "  <thead>\n",
       "    <tr style=\"text-align: right;\">\n",
       "      <th></th>\n",
       "      <th>week_day</th>\n",
       "      <th>orders_count</th>\n",
       "      <th>DAU</th>\n",
       "      <th>one_ticket_revenue_rub</th>\n",
       "      <th>mean_orders</th>\n",
       "    </tr>\n",
       "  </thead>\n",
       "  <tbody>\n",
       "    <tr>\n",
       "      <th>1</th>\n",
       "      <td>Monday</td>\n",
       "      <td>21504</td>\n",
       "      <td>7683</td>\n",
       "      <td>184.391911</td>\n",
       "      <td>2.778889</td>\n",
       "    </tr>\n",
       "    <tr>\n",
       "      <th>5</th>\n",
       "      <td>Tuesday</td>\n",
       "      <td>31468</td>\n",
       "      <td>8407</td>\n",
       "      <td>156.515716</td>\n",
       "      <td>3.721111</td>\n",
       "    </tr>\n",
       "    <tr>\n",
       "      <th>6</th>\n",
       "      <td>Wednesday</td>\n",
       "      <td>22868</td>\n",
       "      <td>8306</td>\n",
       "      <td>185.280126</td>\n",
       "      <td>2.753333</td>\n",
       "    </tr>\n",
       "    <tr>\n",
       "      <th>4</th>\n",
       "      <td>Thursday</td>\n",
       "      <td>27153</td>\n",
       "      <td>8658</td>\n",
       "      <td>181.834715</td>\n",
       "      <td>3.062222</td>\n",
       "    </tr>\n",
       "    <tr>\n",
       "      <th>0</th>\n",
       "      <td>Friday</td>\n",
       "      <td>24804</td>\n",
       "      <td>8179</td>\n",
       "      <td>185.216985</td>\n",
       "      <td>3.000000</td>\n",
       "    </tr>\n",
       "    <tr>\n",
       "      <th>2</th>\n",
       "      <td>Saturday</td>\n",
       "      <td>21327</td>\n",
       "      <td>7684</td>\n",
       "      <td>192.338129</td>\n",
       "      <td>2.761250</td>\n",
       "    </tr>\n",
       "    <tr>\n",
       "      <th>3</th>\n",
       "      <td>Sunday</td>\n",
       "      <td>19383</td>\n",
       "      <td>7402</td>\n",
       "      <td>197.592176</td>\n",
       "      <td>2.597778</td>\n",
       "    </tr>\n",
       "  </tbody>\n",
       "</table>\n",
       "</div>"
      ],
      "text/plain": [
       "    week_day  orders_count   DAU  one_ticket_revenue_rub  mean_orders\n",
       "1     Monday         21504  7683              184.391911     2.778889\n",
       "5    Tuesday         31468  8407              156.515716     3.721111\n",
       "6  Wednesday         22868  8306              185.280126     2.753333\n",
       "4   Thursday         27153  8658              181.834715     3.062222\n",
       "0     Friday         24804  8179              185.216985     3.000000\n",
       "2   Saturday         21327  7684              192.338129     2.761250\n",
       "3     Sunday         19383  7402              197.592176     2.597778"
      ]
     },
     "execution_count": 47,
     "metadata": {},
     "output_type": "execute_result"
    }
   ],
   "source": [
    "#Добавим новый столбец с названием дня недели\n",
    "autumn_grouped['week_day'] = autumn_grouped['created_dt_msk'].dt.day_name()\n",
    "\n",
    "day_group = autumn_grouped.groupby('week_day').agg({'orders_count': 'sum',\n",
    "                                                    'DAU': 'sum',\n",
    "                                                    'one_ticket_revenue_rub': 'mean',\n",
    "                                                    'mean_orders': 'mean'}).reset_index()\n",
    "\n",
    "days_order = ['Monday', 'Tuesday', 'Wednesday', 'Thursday', 'Friday', 'Saturday', 'Sunday']\n",
    "day_group['week_day'] = pd.Categorical(day_group['week_day'], categories=days_order, ordered=True)\n",
    "day_group = day_group.sort_values('week_day')\n",
    "\n",
    "day_group"
   ]
  },
  {
   "cell_type": "code",
   "execution_count": 48,
   "metadata": {},
   "outputs": [
    {
     "data": {
      "image/png": "[encoded data removed]",
      "text/plain": [
       "<Figure size 864x576 with 1 Axes>"
      ]
     },
     "metadata": {
      "needs_background": "light"
     },
     "output_type": "display_data"
    }
   ],
   "source": [
    "day_group.plot(kind='bar',\n",
    "               x='week_day',\n",
    "               y='orders_count',\n",
    "                rot=0, \n",
    "                legend=True, \n",
    "                title=f'Общее количество заказов по дням недели',\n",
    "                figsize=(12, 8))\n",
    "\n",
    "plt.xlabel('День недели')\n",
    "plt.ylabel('Общее количество заказов')\n",
    "plt.grid()\n",
    "\n",
    "plt.show()"
   ]
  },
  {
   "cell_type": "code",
   "execution_count": 49,
   "metadata": {},
   "outputs": [
    {
     "data": {
      "image/png": "[encoded data removed]",
      "text/plain": [
       "<Figure size 864x576 with 1 Axes>"
      ]
     },
     "metadata": {
      "needs_background": "light"
     },
     "output_type": "display_data"
    }
   ],
   "source": [
    "day_group.plot(kind='bar',\n",
    "               x='week_day',\n",
    "               y='DAU',\n",
    "                rot=0, \n",
    "                legend=True, \n",
    "                title=f'DAU по дням недели',\n",
    "                figsize=(12, 8))\n",
    "\n",
    "plt.xlabel('День недели')\n",
    "plt.ylabel('DAU')\n",
    "plt.grid()\n",
    "\n",
    "plt.show()"
   ]
  },
  {
   "cell_type": "code",
   "execution_count": 50,
   "metadata": {},
   "outputs": [
    {
     "data": {
      "image/png": "[encoded data removed]",
      "text/plain": [
       "<Figure size 864x576 with 1 Axes>"
      ]
     },
     "metadata": {
      "needs_background": "light"
     },
     "output_type": "display_data"
    }
   ],
   "source": [
    "day_group.plot(kind='bar',\n",
    "               x='week_day',\n",
    "               y='one_ticket_revenue_rub',\n",
    "                rot=0, \n",
    "                legend=True, \n",
    "                title=f'Средняя стоимость билета по дням недели',\n",
    "                figsize=(12, 8))\n",
    "\n",
    "plt.xlabel('День недели')\n",
    "plt.ylabel('Средняя стоимость билета')\n",
    "plt.grid()\n",
    "\n",
    "plt.show()"
   ]
  },
  {
   "cell_type": "code",
   "execution_count": 51,
   "metadata": {},
   "outputs": [
    {
     "data": {
      "image/png": "[encoded data removed]",
      "text/plain": [
       "<Figure size 864x576 with 1 Axes>"
      ]
     },
     "metadata": {
      "needs_background": "light"
     },
     "output_type": "display_data"
    }
   ],
   "source": [
    "day_group.plot(kind='bar',\n",
    "               x='week_day',\n",
    "               y='mean_orders',\n",
    "                rot=0, \n",
    "                legend=True, \n",
    "                title=f'Среднее количество заказов на пользователя по дням недели',\n",
    "                figsize=(12, 8))\n",
    "\n",
    "plt.xlabel('День недели')\n",
    "plt.ylabel('Среднее количество заказов на пользователя')\n",
    "plt.grid()\n",
    "\n",
    "plt.show()"
   ]
  },
  {
   "cell_type": "markdown",
   "metadata": {},
   "source": [
    "Общее количество заказов:\n",
    "- С четверга к воскресенью видна тендениция на снижение;\n",
    "- Максимальное значение во вторник;\n",
    "- Минимальное значение в воскресение;\n",
    "\n",
    "DAU:\n",
    "- С четверга к воскресенью видна тендениция на снижение;\n",
    "- Максимальное значение в четверг;\n",
    "- Минимальное в воскресение.\n",
    "\n",
    "Средняя стоимость билета:\n",
    "- С четверга до воскресенья есть тенденция на повышение;\n",
    "- Минимальное значение во вторник;\n",
    "- Максимальное значение в воскресение.\n",
    "\n",
    "Среднее число заказов на пользователя:\n",
    "- Тенденция на понижение от четверга к воскрению;\n",
    "- Максимальное значение во вторник;\n",
    "- Минимальное значение в воскресение.\n",
    "\n",
    "Видны большие выбросы 03.09.2024 и 01.10.2024 обе даты являются вторником, что значительно повлияло на результирующие данные. Видно снижение активности пользователей к воскресению и повышение активности в четверг."
   ]
  },
  {
   "cell_type": "markdown",
   "metadata": {},
   "source": [
    "### Популярные события и партнёры"
   ]
  },
  {
   "cell_type": "code",
   "execution_count": 52,
   "metadata": {
    "scrolled": true
   },
   "outputs": [
    {
     "data": {
      "text/html": [
       "<div>\n",
       "<style scoped>\n",
       "    .dataframe tbody tr th:only-of-type {\n",
       "        vertical-align: middle;\n",
       "    }\n",
       "\n",
       "    .dataframe tbody tr th {\n",
       "        vertical-align: top;\n",
       "    }\n",
       "\n",
       "    .dataframe thead th {\n",
       "        text-align: right;\n",
       "    }\n",
       "</style>\n",
       "<table border=\"1\" class=\"dataframe\">\n",
       "  <thead>\n",
       "    <tr style=\"text-align: right;\">\n",
       "      <th></th>\n",
       "      <th>event_id</th>\n",
       "      <th>order_id</th>\n",
       "      <th>events_prop</th>\n",
       "      <th>orders_prop</th>\n",
       "    </tr>\n",
       "    <tr>\n",
       "      <th>region_name</th>\n",
       "      <th></th>\n",
       "      <th></th>\n",
       "      <th></th>\n",
       "      <th></th>\n",
       "    </tr>\n",
       "  </thead>\n",
       "  <tbody>\n",
       "    <tr>\n",
       "      <th>Каменевский регион</th>\n",
       "      <td>3910</td>\n",
       "      <td>46669</td>\n",
       "      <td>0.25</td>\n",
       "      <td>0.28</td>\n",
       "    </tr>\n",
       "    <tr>\n",
       "      <th>Североярская область</th>\n",
       "      <td>2610</td>\n",
       "      <td>20655</td>\n",
       "      <td>0.16</td>\n",
       "      <td>0.12</td>\n",
       "    </tr>\n",
       "    <tr>\n",
       "      <th>Медовская область</th>\n",
       "      <td>369</td>\n",
       "      <td>12042</td>\n",
       "      <td>0.02</td>\n",
       "      <td>0.07</td>\n",
       "    </tr>\n",
       "    <tr>\n",
       "      <th>Широковская область</th>\n",
       "      <td>803</td>\n",
       "      <td>8715</td>\n",
       "      <td>0.05</td>\n",
       "      <td>0.05</td>\n",
       "    </tr>\n",
       "    <tr>\n",
       "      <th>Озернинский край</th>\n",
       "      <td>296</td>\n",
       "      <td>7478</td>\n",
       "      <td>0.02</td>\n",
       "      <td>0.04</td>\n",
       "    </tr>\n",
       "    <tr>\n",
       "      <th>Светополянский округ</th>\n",
       "      <td>764</td>\n",
       "      <td>4778</td>\n",
       "      <td>0.05</td>\n",
       "      <td>0.03</td>\n",
       "    </tr>\n",
       "    <tr>\n",
       "      <th>Серебринская область</th>\n",
       "      <td>456</td>\n",
       "      <td>4467</td>\n",
       "      <td>0.03</td>\n",
       "      <td>0.03</td>\n",
       "    </tr>\n",
       "    <tr>\n",
       "      <th>Солнечноземская область</th>\n",
       "      <td>403</td>\n",
       "      <td>4228</td>\n",
       "      <td>0.03</td>\n",
       "      <td>0.03</td>\n",
       "    </tr>\n",
       "    <tr>\n",
       "      <th>Малиновоярский округ</th>\n",
       "      <td>137</td>\n",
       "      <td>4412</td>\n",
       "      <td>0.01</td>\n",
       "      <td>0.03</td>\n",
       "    </tr>\n",
       "    <tr>\n",
       "      <th>Горицветская область</th>\n",
       "      <td>406</td>\n",
       "      <td>3230</td>\n",
       "      <td>0.03</td>\n",
       "      <td>0.02</td>\n",
       "    </tr>\n",
       "    <tr>\n",
       "      <th>Речиновская область</th>\n",
       "      <td>529</td>\n",
       "      <td>3564</td>\n",
       "      <td>0.03</td>\n",
       "      <td>0.02</td>\n",
       "    </tr>\n",
       "    <tr>\n",
       "      <th>Яблоневская область</th>\n",
       "      <td>432</td>\n",
       "      <td>4198</td>\n",
       "      <td>0.03</td>\n",
       "      <td>0.02</td>\n",
       "    </tr>\n",
       "    <tr>\n",
       "      <th>Солнечнореченская область</th>\n",
       "      <td>295</td>\n",
       "      <td>2886</td>\n",
       "      <td>0.02</td>\n",
       "      <td>0.02</td>\n",
       "    </tr>\n",
       "    <tr>\n",
       "      <th>Лугоградская область</th>\n",
       "      <td>182</td>\n",
       "      <td>2986</td>\n",
       "      <td>0.01</td>\n",
       "      <td>0.02</td>\n",
       "    </tr>\n",
       "    <tr>\n",
       "      <th>Тепляковская область</th>\n",
       "      <td>419</td>\n",
       "      <td>2485</td>\n",
       "      <td>0.03</td>\n",
       "      <td>0.01</td>\n",
       "    </tr>\n",
       "  </tbody>\n",
       "</table>\n",
       "</div>"
      ],
      "text/plain": [
       "                           event_id  order_id  events_prop  orders_prop\n",
       "region_name                                                            \n",
       "Каменевский регион             3910     46669         0.25         0.28\n",
       "Североярская область           2610     20655         0.16         0.12\n",
       "Медовская область               369     12042         0.02         0.07\n",
       "Широковская область             803      8715         0.05         0.05\n",
       "Озернинский край                296      7478         0.02         0.04\n",
       "Светополянский округ            764      4778         0.05         0.03\n",
       "Серебринская область            456      4467         0.03         0.03\n",
       "Солнечноземская область         403      4228         0.03         0.03\n",
       "Малиновоярский округ            137      4412         0.01         0.03\n",
       "Горицветская область            406      3230         0.03         0.02\n",
       "Речиновская область             529      3564         0.03         0.02\n",
       "Яблоневская область             432      4198         0.03         0.02\n",
       "Солнечнореченская область       295      2886         0.02         0.02\n",
       "Лугоградская область            182      2986         0.01         0.02\n",
       "Тепляковская область            419      2485         0.03         0.01"
      ]
     },
     "execution_count": 52,
     "metadata": {},
     "output_type": "execute_result"
    }
   ],
   "source": [
    "#Построим таблицу с распределением заказов и мероприятий по регионам\n",
    "df_regions = df_full[df_full['season'] == 'осень'].groupby('region_name').agg({'event_id': 'nunique', 'order_id': 'count'})\n",
    "\n",
    "regions_events = df_regions['event_id'].sum()\n",
    "regions_orders = df_regions['order_id'].sum()\n",
    "\n",
    "df_regions['events_prop'] = (df_regions['event_id'] / regions_events).round(2)\n",
    "df_regions['orders_prop'] = (df_regions['order_id'] / regions_orders).round(2)\n",
    "\n",
    "df_regions.sort_values(by=['orders_prop', 'events_prop'], ascending=False).head(15)"
   ]
  },
  {
   "cell_type": "code",
   "execution_count": 53,
   "metadata": {
    "scrolled": true
   },
   "outputs": [
    {
     "data": {
      "text/html": [
       "<div>\n",
       "<style scoped>\n",
       "    .dataframe tbody tr th:only-of-type {\n",
       "        vertical-align: middle;\n",
       "    }\n",
       "\n",
       "    .dataframe tbody tr th {\n",
       "        vertical-align: top;\n",
       "    }\n",
       "\n",
       "    .dataframe thead th {\n",
       "        text-align: right;\n",
       "    }\n",
       "</style>\n",
       "<table border=\"1\" class=\"dataframe\">\n",
       "  <thead>\n",
       "    <tr style=\"text-align: right;\">\n",
       "      <th></th>\n",
       "      <th>event_id</th>\n",
       "      <th>order_id</th>\n",
       "      <th>revenue_rub</th>\n",
       "      <th>events_prop</th>\n",
       "      <th>orders_prop</th>\n",
       "      <th>revenue_prop</th>\n",
       "    </tr>\n",
       "    <tr>\n",
       "      <th>service_name</th>\n",
       "      <th></th>\n",
       "      <th></th>\n",
       "      <th></th>\n",
       "      <th></th>\n",
       "      <th></th>\n",
       "      <th></th>\n",
       "    </tr>\n",
       "  </thead>\n",
       "  <tbody>\n",
       "    <tr>\n",
       "      <th>Билеты без проблем</th>\n",
       "      <td>2844</td>\n",
       "      <td>32319</td>\n",
       "      <td>12049772.89</td>\n",
       "      <td>0.16</td>\n",
       "      <td>0.19</td>\n",
       "      <td>0.15</td>\n",
       "    </tr>\n",
       "    <tr>\n",
       "      <th>Лови билет!</th>\n",
       "      <td>3616</td>\n",
       "      <td>25788</td>\n",
       "      <td>10375964.65</td>\n",
       "      <td>0.21</td>\n",
       "      <td>0.15</td>\n",
       "      <td>0.13</td>\n",
       "    </tr>\n",
       "    <tr>\n",
       "      <th>Билеты в руки</th>\n",
       "      <td>2471</td>\n",
       "      <td>25731</td>\n",
       "      <td>7611798.89</td>\n",
       "      <td>0.14</td>\n",
       "      <td>0.15</td>\n",
       "      <td>0.09</td>\n",
       "    </tr>\n",
       "    <tr>\n",
       "      <th>Мой билет</th>\n",
       "      <td>1003</td>\n",
       "      <td>19398</td>\n",
       "      <td>10833981.65</td>\n",
       "      <td>0.06</td>\n",
       "      <td>0.12</td>\n",
       "      <td>0.13</td>\n",
       "    </tr>\n",
       "    <tr>\n",
       "      <th>Облачко</th>\n",
       "      <td>1409</td>\n",
       "      <td>15478</td>\n",
       "      <td>10611051.69</td>\n",
       "      <td>0.08</td>\n",
       "      <td>0.09</td>\n",
       "      <td>0.13</td>\n",
       "    </tr>\n",
       "    <tr>\n",
       "      <th>Лучшие билеты</th>\n",
       "      <td>1397</td>\n",
       "      <td>12438</td>\n",
       "      <td>1672790.03</td>\n",
       "      <td>0.08</td>\n",
       "      <td>0.07</td>\n",
       "      <td>0.02</td>\n",
       "    </tr>\n",
       "    <tr>\n",
       "      <th>Весь в билетах</th>\n",
       "      <td>599</td>\n",
       "      <td>9406</td>\n",
       "      <td>9325570.66</td>\n",
       "      <td>0.03</td>\n",
       "      <td>0.06</td>\n",
       "      <td>0.11</td>\n",
       "    </tr>\n",
       "    <tr>\n",
       "      <th>Прачечная</th>\n",
       "      <td>728</td>\n",
       "      <td>5798</td>\n",
       "      <td>2548310.47</td>\n",
       "      <td>0.04</td>\n",
       "      <td>0.03</td>\n",
       "      <td>0.03</td>\n",
       "    </tr>\n",
       "    <tr>\n",
       "      <th>Тебе билет!</th>\n",
       "      <td>859</td>\n",
       "      <td>3749</td>\n",
       "      <td>2137900.34</td>\n",
       "      <td>0.05</td>\n",
       "      <td>0.02</td>\n",
       "      <td>0.03</td>\n",
       "    </tr>\n",
       "    <tr>\n",
       "      <th>Яблоко</th>\n",
       "      <td>537</td>\n",
       "      <td>3473</td>\n",
       "      <td>2763332.31</td>\n",
       "      <td>0.03</td>\n",
       "      <td>0.02</td>\n",
       "      <td>0.03</td>\n",
       "    </tr>\n",
       "    <tr>\n",
       "      <th>Край билетов</th>\n",
       "      <td>193</td>\n",
       "      <td>2996</td>\n",
       "      <td>3016152.23</td>\n",
       "      <td>0.01</td>\n",
       "      <td>0.02</td>\n",
       "      <td>0.04</td>\n",
       "    </tr>\n",
       "    <tr>\n",
       "      <th>Городской дом культуры</th>\n",
       "      <td>289</td>\n",
       "      <td>1738</td>\n",
       "      <td>1054292.87</td>\n",
       "      <td>0.02</td>\n",
       "      <td>0.01</td>\n",
       "      <td>0.01</td>\n",
       "    </tr>\n",
       "    <tr>\n",
       "      <th>Дом культуры</th>\n",
       "      <td>191</td>\n",
       "      <td>1737</td>\n",
       "      <td>1633088.03</td>\n",
       "      <td>0.01</td>\n",
       "      <td>0.01</td>\n",
       "      <td>0.02</td>\n",
       "    </tr>\n",
       "    <tr>\n",
       "      <th>За билетом!</th>\n",
       "      <td>200</td>\n",
       "      <td>1738</td>\n",
       "      <td>1200925.26</td>\n",
       "      <td>0.01</td>\n",
       "      <td>0.01</td>\n",
       "      <td>0.01</td>\n",
       "    </tr>\n",
       "    <tr>\n",
       "      <th>Быстробилет</th>\n",
       "      <td>133</td>\n",
       "      <td>1162</td>\n",
       "      <td>929493.20</td>\n",
       "      <td>0.01</td>\n",
       "      <td>0.01</td>\n",
       "      <td>0.01</td>\n",
       "    </tr>\n",
       "    <tr>\n",
       "      <th>Show_ticket</th>\n",
       "      <td>204</td>\n",
       "      <td>1300</td>\n",
       "      <td>906167.06</td>\n",
       "      <td>0.01</td>\n",
       "      <td>0.01</td>\n",
       "      <td>0.01</td>\n",
       "    </tr>\n",
       "    <tr>\n",
       "      <th>Мир касс</th>\n",
       "      <td>131</td>\n",
       "      <td>983</td>\n",
       "      <td>821765.16</td>\n",
       "      <td>0.01</td>\n",
       "      <td>0.01</td>\n",
       "      <td>0.01</td>\n",
       "    </tr>\n",
       "    <tr>\n",
       "      <th>Выступления.ру</th>\n",
       "      <td>79</td>\n",
       "      <td>917</td>\n",
       "      <td>606630.12</td>\n",
       "      <td>0.00</td>\n",
       "      <td>0.01</td>\n",
       "      <td>0.01</td>\n",
       "    </tr>\n",
       "    <tr>\n",
       "      <th>Crazy ticket!</th>\n",
       "      <td>178</td>\n",
       "      <td>550</td>\n",
       "      <td>319451.55</td>\n",
       "      <td>0.01</td>\n",
       "      <td>0.00</td>\n",
       "      <td>0.00</td>\n",
       "    </tr>\n",
       "    <tr>\n",
       "      <th>Восьмёрка</th>\n",
       "      <td>92</td>\n",
       "      <td>390</td>\n",
       "      <td>238422.40</td>\n",
       "      <td>0.01</td>\n",
       "      <td>0.00</td>\n",
       "      <td>0.00</td>\n",
       "    </tr>\n",
       "    <tr>\n",
       "      <th>Шоу начинается!</th>\n",
       "      <td>11</td>\n",
       "      <td>406</td>\n",
       "      <td>405148.16</td>\n",
       "      <td>0.00</td>\n",
       "      <td>0.00</td>\n",
       "      <td>0.00</td>\n",
       "    </tr>\n",
       "    <tr>\n",
       "      <th>Росбилет</th>\n",
       "      <td>41</td>\n",
       "      <td>182</td>\n",
       "      <td>268650.32</td>\n",
       "      <td>0.00</td>\n",
       "      <td>0.00</td>\n",
       "      <td>0.00</td>\n",
       "    </tr>\n",
       "    <tr>\n",
       "      <th>Телебилет</th>\n",
       "      <td>12</td>\n",
       "      <td>206</td>\n",
       "      <td>113377.05</td>\n",
       "      <td>0.00</td>\n",
       "      <td>0.00</td>\n",
       "      <td>0.00</td>\n",
       "    </tr>\n",
       "    <tr>\n",
       "      <th>Дырокол</th>\n",
       "      <td>2</td>\n",
       "      <td>62</td>\n",
       "      <td>88888.88</td>\n",
       "      <td>0.00</td>\n",
       "      <td>0.00</td>\n",
       "      <td>0.00</td>\n",
       "    </tr>\n",
       "    <tr>\n",
       "      <th>Радио ticket</th>\n",
       "      <td>7</td>\n",
       "      <td>322</td>\n",
       "      <td>44719.95</td>\n",
       "      <td>0.00</td>\n",
       "      <td>0.00</td>\n",
       "      <td>0.00</td>\n",
       "    </tr>\n",
       "    <tr>\n",
       "      <th>Билет по телефону</th>\n",
       "      <td>10</td>\n",
       "      <td>50</td>\n",
       "      <td>37807.82</td>\n",
       "      <td>0.00</td>\n",
       "      <td>0.00</td>\n",
       "      <td>0.00</td>\n",
       "    </tr>\n",
       "    <tr>\n",
       "      <th>Кино билет</th>\n",
       "      <td>1</td>\n",
       "      <td>48</td>\n",
       "      <td>15872.25</td>\n",
       "      <td>0.00</td>\n",
       "      <td>0.00</td>\n",
       "      <td>0.00</td>\n",
       "    </tr>\n",
       "    <tr>\n",
       "      <th>Вперёд!</th>\n",
       "      <td>21</td>\n",
       "      <td>38</td>\n",
       "      <td>14540.02</td>\n",
       "      <td>0.00</td>\n",
       "      <td>0.00</td>\n",
       "      <td>0.00</td>\n",
       "    </tr>\n",
       "    <tr>\n",
       "      <th>КарандашРУ</th>\n",
       "      <td>28</td>\n",
       "      <td>69</td>\n",
       "      <td>13689.57</td>\n",
       "      <td>0.00</td>\n",
       "      <td>0.00</td>\n",
       "      <td>0.00</td>\n",
       "    </tr>\n",
       "    <tr>\n",
       "      <th>Реестр</th>\n",
       "      <td>4</td>\n",
       "      <td>15</td>\n",
       "      <td>12696.10</td>\n",
       "      <td>0.00</td>\n",
       "      <td>0.00</td>\n",
       "      <td>0.00</td>\n",
       "    </tr>\n",
       "    <tr>\n",
       "      <th>Быстрый кассир</th>\n",
       "      <td>1</td>\n",
       "      <td>8</td>\n",
       "      <td>7780.71</td>\n",
       "      <td>0.00</td>\n",
       "      <td>0.00</td>\n",
       "      <td>0.00</td>\n",
       "    </tr>\n",
       "    <tr>\n",
       "      <th>Тех билет</th>\n",
       "      <td>2</td>\n",
       "      <td>5</td>\n",
       "      <td>1722.63</td>\n",
       "      <td>0.00</td>\n",
       "      <td>0.00</td>\n",
       "      <td>0.00</td>\n",
       "    </tr>\n",
       "    <tr>\n",
       "      <th>Билеты в интернете</th>\n",
       "      <td>1</td>\n",
       "      <td>4</td>\n",
       "      <td>548.23</td>\n",
       "      <td>0.00</td>\n",
       "      <td>0.00</td>\n",
       "      <td>0.00</td>\n",
       "    </tr>\n",
       "    <tr>\n",
       "      <th>Лимоны</th>\n",
       "      <td>1</td>\n",
       "      <td>1</td>\n",
       "      <td>119.93</td>\n",
       "      <td>0.00</td>\n",
       "      <td>0.00</td>\n",
       "      <td>0.00</td>\n",
       "    </tr>\n",
       "    <tr>\n",
       "      <th>Зе Бест!</th>\n",
       "      <td>1</td>\n",
       "      <td>2</td>\n",
       "      <td>30.01</td>\n",
       "      <td>0.00</td>\n",
       "      <td>0.00</td>\n",
       "      <td>0.00</td>\n",
       "    </tr>\n",
       "  </tbody>\n",
       "</table>\n",
       "</div>"
      ],
      "text/plain": [
       "                        event_id  order_id  revenue_rub  events_prop  \\\n",
       "service_name                                                           \n",
       "Билеты без проблем          2844     32319  12049772.89         0.16   \n",
       "Лови билет!                 3616     25788  10375964.65         0.21   \n",
       "Билеты в руки               2471     25731   7611798.89         0.14   \n",
       "Мой билет                   1003     19398  10833981.65         0.06   \n",
       "Облачко                     1409     15478  10611051.69         0.08   \n",
       "Лучшие билеты               1397     12438   1672790.03         0.08   \n",
       "Весь в билетах               599      9406   9325570.66         0.03   \n",
       "Прачечная                    728      5798   2548310.47         0.04   \n",
       "Тебе билет!                  859      3749   2137900.34         0.05   \n",
       "Яблоко                       537      3473   2763332.31         0.03   \n",
       "Край билетов                 193      2996   3016152.23         0.01   \n",
       "Городской дом культуры       289      1738   1054292.87         0.02   \n",
       "Дом культуры                 191      1737   1633088.03         0.01   \n",
       "За билетом!                  200      1738   1200925.26         0.01   \n",
       "Быстробилет                  133      1162    929493.20         0.01   \n",
       "Show_ticket                  204      1300    906167.06         0.01   \n",
       "Мир касс                     131       983    821765.16         0.01   \n",
       "Выступления.ру                79       917    606630.12         0.00   \n",
       "Crazy ticket!                178       550    319451.55         0.01   \n",
       "Восьмёрка                     92       390    238422.40         0.01   \n",
       "Шоу начинается!               11       406    405148.16         0.00   \n",
       "Росбилет                      41       182    268650.32         0.00   \n",
       "Телебилет                     12       206    113377.05         0.00   \n",
       "Дырокол                        2        62     88888.88         0.00   \n",
       "Радио ticket                   7       322     44719.95         0.00   \n",
       "Билет по телефону             10        50     37807.82         0.00   \n",
       "Кино билет                     1        48     15872.25         0.00   \n",
       "Вперёд!                       21        38     14540.02         0.00   \n",
       "КарандашРУ                    28        69     13689.57         0.00   \n",
       "Реестр                         4        15     12696.10         0.00   \n",
       "Быстрый кассир                 1         8      7780.71         0.00   \n",
       "Тех билет                      2         5      1722.63         0.00   \n",
       "Билеты в интернете             1         4       548.23         0.00   \n",
       "Лимоны                         1         1       119.93         0.00   \n",
       "Зе Бест!                       1         2        30.01         0.00   \n",
       "\n",
       "                        orders_prop  revenue_prop  \n",
       "service_name                                       \n",
       "Билеты без проблем             0.19          0.15  \n",
       "Лови билет!                    0.15          0.13  \n",
       "Билеты в руки                  0.15          0.09  \n",
       "Мой билет                      0.12          0.13  \n",
       "Облачко                        0.09          0.13  \n",
       "Лучшие билеты                  0.07          0.02  \n",
       "Весь в билетах                 0.06          0.11  \n",
       "Прачечная                      0.03          0.03  \n",
       "Тебе билет!                    0.02          0.03  \n",
       "Яблоко                         0.02          0.03  \n",
       "Край билетов                   0.02          0.04  \n",
       "Городской дом культуры         0.01          0.01  \n",
       "Дом культуры                   0.01          0.02  \n",
       "За билетом!                    0.01          0.01  \n",
       "Быстробилет                    0.01          0.01  \n",
       "Show_ticket                    0.01          0.01  \n",
       "Мир касс                       0.01          0.01  \n",
       "Выступления.ру                 0.01          0.01  \n",
       "Crazy ticket!                  0.00          0.00  \n",
       "Восьмёрка                      0.00          0.00  \n",
       "Шоу начинается!                0.00          0.00  \n",
       "Росбилет                       0.00          0.00  \n",
       "Телебилет                      0.00          0.00  \n",
       "Дырокол                        0.00          0.00  \n",
       "Радио ticket                   0.00          0.00  \n",
       "Билет по телефону              0.00          0.00  \n",
       "Кино билет                     0.00          0.00  \n",
       "Вперёд!                        0.00          0.00  \n",
       "КарандашРУ                     0.00          0.00  \n",
       "Реестр                         0.00          0.00  \n",
       "Быстрый кассир                 0.00          0.00  \n",
       "Тех билет                      0.00          0.00  \n",
       "Билеты в интернете             0.00          0.00  \n",
       "Лимоны                         0.00          0.00  \n",
       "Зе Бест!                       0.00          0.00  "
      ]
     },
     "execution_count": 53,
     "metadata": {},
     "output_type": "execute_result"
    }
   ],
   "source": [
    "#Построим таблицу с распределением заказов и мероприятий по сервисам\n",
    "df_service = df_full[df_full['season'] == 'осень'].groupby('service_name').agg({'event_id': 'nunique','order_id': 'count', 'revenue_rub': 'sum'})\n",
    "\n",
    "service_events = df_service['event_id'].sum()\n",
    "service_orders = df_service['order_id'].sum()\n",
    "service_revenue = df_service['revenue_rub'].sum()\n",
    "\n",
    "df_service['events_prop'] = (df_service['event_id'] / service_events).round(2)\n",
    "df_service['orders_prop'] = (df_service['order_id'] / service_orders).round(2)\n",
    "df_service['revenue_prop'] = (df_service['revenue_rub'] / service_revenue).round(2)\n",
    "\n",
    "df_service.sort_values(by=['orders_prop', 'events_prop', 'revenue_rub'], ascending=False)"
   ]
  },
  {
   "cell_type": "markdown",
   "metadata": {},
   "source": [
    "Явные лидеры из регионов по заказам и разнообразию событий каменевский регион и североярская область. На эти области приходится основная часть заказов и мероприятий ~0.45. Оставашаяся часть распределена по регионам, однако  Широковская область, медовская область и озернинский край выделяются большей долей заказов и мероприятий от остального распределения ~0.05.\n",
    "\n",
    "Среди сервисов явные лидеры \"Билеты без проблем\", \"Лови билет\", \"Билеты в руки\", \"Мои билет\". Эти сервисы имеют значительную долю заказов от всего распределения >0.1. Оставшаяся доля заказов распределена по другим сервисам неравномерно, видно постепенное снижение заказов и мероприятий. По доле выручки фавориты \"Билеты без проблем\", \"Лови билет\", \"Мои билет\" и \"Облачко\" > 0.1."
   ]
  },
  {
   "cell_type": "markdown",
   "metadata": {},
   "source": [
    "## Статистический анализ данных\n",
    "\n",
    "Коллеги из продуктового отдела хотят отдельно проверить несколько гипотез относительно активности пользователей мобильных и стационарных устройств. Проверим две гипотезы, которые предполагают большую активность пользователей мобильных устройств:\n",
    "- Среднее количество заказов на одного пользователя мобильного приложения выше по сравнению с пользователями стационарных устройств.\n",
    "- Среднее время между заказами пользователей мобильных приложений выше по сравнению с пользователями стационарных устройств."
   ]
  },
  {
   "cell_type": "markdown",
   "metadata": {},
   "source": [
    "### Проверка гипотезы о количестве заказов"
   ]
  },
  {
   "cell_type": "code",
   "execution_count": 54,
   "metadata": {},
   "outputs": [
    {
     "name": "stdout",
     "output_type": "stream",
     "text": [
      "  device_type_canonical  order_id\n",
      "0               desktop  7.038422\n",
      "1                mobile  9.464293\n"
     ]
    }
   ],
   "source": [
    "# Подготовим датасет с количеством заказов\n",
    "order_per_user = df_orders[df_orders['season'] == 'осень'].groupby(['user_id','device_type_canonical'])['order_id'].count().reset_index()\n",
    "avg_order = order_per_user.groupby('device_type_canonical')['order_id'].mean().reset_index()\n",
    "\n",
    "print(avg_order)"
   ]
  },
  {
   "cell_type": "code",
   "execution_count": 55,
   "metadata": {},
   "outputs": [
    {
     "data": {
      "text/html": [
       "<div>\n",
       "<style scoped>\n",
       "    .dataframe tbody tr th:only-of-type {\n",
       "        vertical-align: middle;\n",
       "    }\n",
       "\n",
       "    .dataframe tbody tr th {\n",
       "        vertical-align: top;\n",
       "    }\n",
       "\n",
       "    .dataframe thead th {\n",
       "        text-align: right;\n",
       "    }\n",
       "</style>\n",
       "<table border=\"1\" class=\"dataframe\">\n",
       "  <thead>\n",
       "    <tr style=\"text-align: right;\">\n",
       "      <th></th>\n",
       "      <th>count</th>\n",
       "      <th>mean</th>\n",
       "      <th>std</th>\n",
       "      <th>min</th>\n",
       "      <th>25%</th>\n",
       "      <th>50%</th>\n",
       "      <th>75%</th>\n",
       "      <th>max</th>\n",
       "    </tr>\n",
       "    <tr>\n",
       "      <th>device_type_canonical</th>\n",
       "      <th></th>\n",
       "      <th></th>\n",
       "      <th></th>\n",
       "      <th></th>\n",
       "      <th></th>\n",
       "      <th></th>\n",
       "      <th></th>\n",
       "      <th></th>\n",
       "    </tr>\n",
       "  </thead>\n",
       "  <tbody>\n",
       "    <tr>\n",
       "      <th>desktop</th>\n",
       "      <td>4867.0</td>\n",
       "      <td>7.038422</td>\n",
       "      <td>35.873430</td>\n",
       "      <td>1.0</td>\n",
       "      <td>1.0</td>\n",
       "      <td>2.0</td>\n",
       "      <td>4.0</td>\n",
       "      <td>1492.0</td>\n",
       "    </tr>\n",
       "    <tr>\n",
       "      <th>mobile</th>\n",
       "      <td>14185.0</td>\n",
       "      <td>9.464293</td>\n",
       "      <td>68.042699</td>\n",
       "      <td>1.0</td>\n",
       "      <td>1.0</td>\n",
       "      <td>2.0</td>\n",
       "      <td>5.0</td>\n",
       "      <td>4335.0</td>\n",
       "    </tr>\n",
       "  </tbody>\n",
       "</table>\n",
       "</div>"
      ],
      "text/plain": [
       "                         count      mean        std  min  25%  50%  75%  \\\n",
       "device_type_canonical                                                     \n",
       "desktop                 4867.0  7.038422  35.873430  1.0  1.0  2.0  4.0   \n",
       "mobile                 14185.0  9.464293  68.042699  1.0  1.0  2.0  5.0   \n",
       "\n",
       "                          max  \n",
       "device_type_canonical          \n",
       "desktop                1492.0  \n",
       "mobile                 4335.0  "
      ]
     },
     "execution_count": 55,
     "metadata": {},
     "output_type": "execute_result"
    }
   ],
   "source": [
    "order_per_user.groupby('device_type_canonical')['order_id'].describe()"
   ]
  },
  {
   "cell_type": "code",
   "execution_count": 56,
   "metadata": {},
   "outputs": [
    {
     "data": {
      "image/png": "[encoded data removed]",
      "text/plain": [
       "<Figure size 864x432 with 1 Axes>"
      ]
     },
     "metadata": {
      "needs_background": "light"
     },
     "output_type": "display_data"
    },
    {
     "data": {
      "image/png": "[encoded data removed]",
      "text/plain": [
       "<Figure size 864x432 with 1 Axes>"
      ]
     },
     "metadata": {
      "needs_background": "light"
     },
     "output_type": "display_data"
    }
   ],
   "source": [
    "# Построим коробчатую диаграмму\n",
    "plt.figure(figsize=(12, 6))\n",
    "sns.boxplot(x='device_type_canonical', y='order_id', data=order_per_user)\n",
    "plt.title('Распределение заказов')\n",
    "plt.show()\n",
    "\n",
    "# Построим гистограмму\n",
    "plt.figure(figsize=(12, 6))\n",
    "sns.histplot(data=order_per_user, x='order_id', hue='device_type_canonical', element='step', stat='density', common_norm=False)\n",
    "plt.title('Гистограмма заказов')\n",
    "plt.show()"
   ]
  },
  {
   "cell_type": "markdown",
   "metadata": {},
   "source": [
    "- Данные имеют ненормальное распределение и выбросы;\n",
    "- Выборки являются независимыми.\n",
    "\n",
    "Для проверки гипотезы нам подойдёт тест Манна-Уитни. Тест не требует, чтобы данные имели нормальное распределение и основан на ранжировании данных, что делает его устойчивым к выбросам."
   ]
  },
  {
   "cell_type": "markdown",
   "metadata": {},
   "source": [
    "Сформулируем гипотезу:\n",
    "- Нулевая гипотеза H₀: μмоб <= μстац среднее количество заказов на одного пользователя с мобильных устройств не больше, чем со стационарных.\n",
    "\n",
    "- Альтернативная гипотеза H₁:  μмоб > μстац среднее количество заказов на одного пользователя с мобильных устройств больше, чем со стационарных."
   ]
  },
  {
   "cell_type": "code",
   "execution_count": 57,
   "metadata": {},
   "outputs": [
    {
     "name": "stdout",
     "output_type": "stream",
     "text": [
      "p-value: 3.284403609147025e-07\n",
      "Отвергаем нулевую гипотезу: среднее количество заказов на одного пользователя мобильного приложения выше.\n"
     ]
    }
   ],
   "source": [
    "mobile_orders = order_per_user[order_per_user['device_type_canonical'] == 'mobile']['order_id']\n",
    "desktop_orders = order_per_user[order_per_user['device_type_canonical'] == 'desktop']['order_id']\n",
    "\n",
    "stat, p_value = mannwhitneyu(mobile_orders, desktop_orders, alternative='greater')\n",
    "\n",
    "print(f'p-value: {p_value}')\n",
    "\n",
    "alpha = 0.05  \n",
    "\n",
    "if p_value < alpha:\n",
    "    print(\"Отвергаем нулевую гипотезу: среднее количество заказов на одного пользователя мобильного приложения выше.\")\n",
    "else:\n",
    "    print(\"Не удалось отвергнуть нулевую гипотезу: нет достаточных оснований считать, что среднее количество заказов на одного пользователя мобильного приложения выше.\")"
   ]
  },
  {
   "cell_type": "markdown",
   "metadata": {},
   "source": [
    "### Проверка гипотезы о среднем времени между заказами "
   ]
  },
  {
   "cell_type": "code",
   "execution_count": 58,
   "metadata": {},
   "outputs": [],
   "source": [
    "# Подготовим датасет\n",
    "\n",
    "mobile_users = df_orders[(df_orders['season'] == 'осень') & (df_orders['device_type_canonical'] == 'mobile')]\n",
    "desktop_users = df_orders[(df_orders['season'] == 'осень') & (df_orders['device_type_canonical'] == 'desktop')]"
   ]
  },
  {
   "cell_type": "code",
   "execution_count": 59,
   "metadata": {},
   "outputs": [
    {
     "name": "stdout",
     "output_type": "stream",
     "text": [
      "count    127269.000000\n",
      "mean          3.777896\n",
      "std          13.380329\n",
      "min           0.000000\n",
      "25%           0.000000\n",
      "50%           0.000000\n",
      "75%           1.000000\n",
      "max         148.000000\n",
      "Name: days_since_prev, dtype: float64\n",
      "\n",
      "count    32899.000000\n",
      "mean         3.027478\n",
      "std         12.100916\n",
      "min          0.000000\n",
      "25%          0.000000\n",
      "50%          0.000000\n",
      "75%          1.000000\n",
      "max        146.000000\n",
      "Name: days_since_prev, dtype: float64\n"
     ]
    }
   ],
   "source": [
    "print(mobile_users['days_since_prev'].describe())\n",
    "print()\n",
    "print(desktop_users['days_since_prev'].describe())"
   ]
  },
  {
   "cell_type": "code",
   "execution_count": 60,
   "metadata": {},
   "outputs": [],
   "source": [
    "df_check = df_orders[df_orders['season'] == 'осень'].groupby(['device_type_canonical', 'user_id'])['days_since_prev'].sum().reset_index()"
   ]
  },
  {
   "cell_type": "code",
   "execution_count": 61,
   "metadata": {},
   "outputs": [
    {
     "data": {
      "image/png": "[encoded data removed]",
      "text/plain": [
       "<Figure size 864x432 with 1 Axes>"
      ]
     },
     "metadata": {
      "needs_background": "light"
     },
     "output_type": "display_data"
    },
    {
     "data": {
      "image/png": "[encoded data removed]",
      "text/plain": [
       "<Figure size 864x432 with 1 Axes>"
      ]
     },
     "metadata": {
      "needs_background": "light"
     },
     "output_type": "display_data"
    }
   ],
   "source": [
    "# Построим коробчатую диаграмму\n",
    "plt.figure(figsize=(12, 6))\n",
    "sns.boxplot(x='device_type_canonical', y='days_since_prev', data=df_check)\n",
    "plt.title('Распределение заказов')\n",
    "plt.show()\n",
    "\n",
    "# Построим гистограмму\n",
    "plt.figure(figsize=(12, 6))\n",
    "sns.histplot(data=df_check, x='days_since_prev', hue='device_type_canonical', element='step', stat='density', common_norm=False)\n",
    "plt.title('Гистограмма заказов')\n",
    "plt.show()"
   ]
  },
  {
   "cell_type": "markdown",
   "metadata": {},
   "source": [
    "Для проверки гипотезы нам подойдёт тест Манна-Уитни:\n",
    "- Мы имеем данные с ненормальным распределением;\n",
    "- Данные имеют выбросы;\n",
    "- Тест не требует, чтобы данные имели нормальное распределение;\n",
    "- Тест основан на ранжировании данных, что делает его устойчивым к выбросам.\n",
    "\n",
    "Сформулируем гипотезу:\n",
    "- Нулевая гипотеза H₀: μмоб <= μстац среднее время между заказами пользователей с мобильных устройств не больше, чем со стационарных.\n",
    "\n",
    "- Альтернативная гипотеза H₁:  μмоб > μстац среднее время между заказами пользователей с мобильных устройств больше, чем со стационарных."
   ]
  },
  {
   "cell_type": "code",
   "execution_count": 62,
   "metadata": {},
   "outputs": [
    {
     "name": "stdout",
     "output_type": "stream",
     "text": [
      "p-value: 4.952340896091131e-92\n",
      "Отвергаем нулевую гипотезу: среднее количество заказов на одного пользователя мобильного приложения выше.\n"
     ]
    }
   ],
   "source": [
    "mobile_days = mobile_users['days_since_prev'].dropna()\n",
    "desktop_days = desktop_users['days_since_prev'].dropna()\n",
    "\n",
    "stat, p_value = mannwhitneyu(mobile_days, desktop_days, alternative='greater')\n",
    "\n",
    "print(f'p-value: {p_value}')\n",
    "\n",
    "alpha = 0.05  \n",
    "\n",
    "if p_value < alpha:\n",
    "    print(\"Отвергаем нулевую гипотезу: среднее количество заказов на одного пользователя мобильного приложения выше.\")\n",
    "else:\n",
    "    print(\"Не удалось отвергнуть нулевую гипотезу: нет достаточных оснований считать, что среднее количество заказов на одного пользователя мобильного приложения выше.\")"
   ]
  },
  {
   "cell_type": "markdown",
   "metadata": {},
   "source": [
    "По результатам t-теста для двух независимых выборок и стандартным уровнем значимости - 0.05 получено значение p-value: 3.28е-7 - для первой гипотезы; 4,95е-92 - для второй гипотезы. Для двух гипотез подтвердились альтернативные гипотезы."
   ]
  },
  {
   "cell_type": "markdown",
   "metadata": {},
   "source": [
    "## Общий вывод и рекомендации\n",
    "\n",
    "Предоставленые данные для анализа:\n",
    "- `final_tickets_orders_df.csv` - информация обо всех заказах билетов;\n",
    "- `final_tickets_events_df.csv` - информация о событиях;\n",
    "- `final_tickets_tenge_df.csv` - информация о курсе тенге к российскому рублю за 2024 год.\n",
    "\n",
    "Полученные данные хорошего качества, результаты предобработки:\n",
    "- Удалено 3097 строк из датасета df_orders, что составляет 1.06% от общего датасета;\n",
    "- Столбцы с информацией о датах и времени приведены к удобному формату для работы;\n",
    "- Оптимизирована разрядность числовых данных.\n",
    "\n",
    "Выводы исследовательского анализа о сезонности:\n",
    "- Явное увеличение количества заказов от июня к октябрю;\n",
    "- Самое популярное мероприятие - концерт;\n",
    "- К осени видно увеличение заказов по многим типам мероприятия, уменьшается для фестивалей, цирков, экскурсий;\n",
    "- Для всех типов устройств к осеннему сезону заказы увеличиваются;\n",
    "- Тенденция на увеличение заметна для всех категорий мероприятия, наблюдается увеличение заказов в каждой категории, особенно выделяются мероприятия ёлки и спорт;\n",
    "- В категориях ограничения по возрасту видно увеличение заказов по всем категориям, кроме 18+.\n",
    "- Средняя выручка за один билет снижается для каждой категории мероприятия, повышение только для выставок и стендапов.\n",
    "\n",
    "Выводы исследовательского анализа о недельной цикличности:\n",
    "- Для ключевых метрик видна тенденция на снижение от четверга к воскресению. Кроме средней стоимости билета, для неё тенденция обратная.\n",
    "- Большие выбросы 03.09.2024 и 01.10.2024 обе даты являются вторником, что значительно повлияло на результирующие данные.\n",
    "- Пользовательская активность увеличивается от воскресенья к четвергу и уменьшается от четверга к воскресению.\n",
    "\n",
    "Лидер из регионов по количеству заказов и мероприятий - Каменевский регион.\n",
    "\n",
    "Лидер среди платформ по количеству заказов - \"Билеты без проблем\".\n",
    "\n",
    "Результаты проверки гипотез:\n",
    "- Гипотеза - среднее количество заказов на одного пользователя мобильного приложения выше по сравнению с пользователями стационарных устройств. При статистическом анализе дала значение p-value - 3.28е-7 при стандартном уровне значимости 0.05, что подтверждает гипотезу;\n",
    "- Гипотеза - среднее время между заказами пользователей мобильных приложений выше по сравнению с пользователями стационарных устройств. При статистическом анализе дала значение p-value - 4,95е-92 при стандартном уровне значимости 0.05, что подтверждает гипотезу;\n",
    "\n",
    "Рекомендации:\n",
    "- Стоит провести дополнительный анализ причин выбросов повышения спроса для 03.09.2024 и 01.10.2024.\n",
    "- Провести дополнительный анализ о причинах осенней сезонности повышения заказов.\n",
    "- Стоит обратить внимание на недельную цикличность для выявления возможностей адаптации сервиса под неё."
   ]
  }
 ],
 "metadata": {
  "ExecuteTimeLog": [
   {
    "duration": 111,
    "start_time": "2025-07-04T03:15:47.926Z"
   },
   {
    "duration": 97,
    "start_time": "2025-07-04T03:15:52.500Z"
   },
   {
    "duration": 1662,
    "start_time": "2025-07-04T03:58:04.677Z"
   },
   {
    "duration": 1879,
    "start_time": "2025-07-04T03:59:40.337Z"
   },
   {
    "duration": 103,
    "start_time": "2025-07-04T04:28:56.365Z"
   },
   {
    "duration": 19,
    "start_time": "2025-07-04T04:29:02.837Z"
   },
   {
    "duration": 1455,
    "start_time": "2025-07-04T04:29:33.851Z"
   },
   {
    "duration": 2526,
    "start_time": "2025-07-04T04:29:35.308Z"
   },
   {
    "duration": 97,
    "start_time": "2025-07-04T04:29:37.836Z"
   },
   {
    "duration": 25,
    "start_time": "2025-07-04T04:29:37.935Z"
   },
   {
    "duration": 41,
    "start_time": "2025-07-04T04:29:37.962Z"
   },
   {
    "duration": 11,
    "start_time": "2025-07-04T04:29:38.012Z"
   },
   {
    "duration": 34,
    "start_time": "2025-07-04T04:29:38.025Z"
   },
   {
    "duration": 25,
    "start_time": "2025-07-04T04:29:38.061Z"
   },
   {
    "duration": 133,
    "start_time": "2025-07-04T05:13:46.224Z"
   },
   {
    "duration": 22,
    "start_time": "2025-07-04T05:13:51.880Z"
   },
   {
    "duration": 44,
    "start_time": "2025-07-04T05:17:11.389Z"
   },
   {
    "duration": 1601,
    "start_time": "2025-07-04T05:19:26.634Z"
   },
   {
    "duration": 12,
    "start_time": "2025-07-04T05:19:47.314Z"
   },
   {
    "duration": 72,
    "start_time": "2025-07-04T05:41:24.686Z"
   },
   {
    "duration": 857,
    "start_time": "2025-07-04T05:43:00.389Z"
   },
   {
    "duration": 837,
    "start_time": "2025-07-04T05:44:23.499Z"
   },
   {
    "duration": 62,
    "start_time": "2025-07-04T05:44:25.666Z"
   },
   {
    "duration": 18,
    "start_time": "2025-07-04T06:05:35.110Z"
   },
   {
    "duration": 12,
    "start_time": "2025-07-04T06:05:47.478Z"
   },
   {
    "duration": 1456,
    "start_time": "2025-07-04T06:06:00.532Z"
   },
   {
    "duration": 2026,
    "start_time": "2025-07-04T06:06:01.990Z"
   },
   {
    "duration": 112,
    "start_time": "2025-07-04T06:06:04.019Z"
   },
   {
    "duration": 19,
    "start_time": "2025-07-04T06:06:04.133Z"
   },
   {
    "duration": 30,
    "start_time": "2025-07-04T06:06:04.155Z"
   },
   {
    "duration": 12,
    "start_time": "2025-07-04T06:06:04.187Z"
   },
   {
    "duration": 12,
    "start_time": "2025-07-04T06:06:04.200Z"
   },
   {
    "duration": 30,
    "start_time": "2025-07-04T06:06:04.214Z"
   },
   {
    "duration": 54,
    "start_time": "2025-07-04T06:06:04.246Z"
   },
   {
    "duration": 11,
    "start_time": "2025-07-04T06:06:04.302Z"
   },
   {
    "duration": 144,
    "start_time": "2025-07-04T06:06:04.315Z"
   },
   {
    "duration": 802,
    "start_time": "2025-07-04T06:06:04.460Z"
   },
   {
    "duration": 53,
    "start_time": "2025-07-04T06:06:05.272Z"
   },
   {
    "duration": 796,
    "start_time": "2025-07-04T06:06:05.328Z"
   },
   {
    "duration": 151,
    "start_time": "2025-07-04T06:06:06.126Z"
   },
   {
    "duration": 12,
    "start_time": "2025-07-04T06:09:01.291Z"
   },
   {
    "duration": 14,
    "start_time": "2025-07-04T06:11:50.633Z"
   },
   {
    "duration": 11,
    "start_time": "2025-07-04T06:11:53.335Z"
   },
   {
    "duration": 11,
    "start_time": "2025-07-04T06:12:02.648Z"
   },
   {
    "duration": 1458,
    "start_time": "2025-07-04T06:12:29.147Z"
   },
   {
    "duration": 1841,
    "start_time": "2025-07-04T06:12:30.608Z"
   },
   {
    "duration": 116,
    "start_time": "2025-07-04T06:12:32.451Z"
   },
   {
    "duration": 20,
    "start_time": "2025-07-04T06:12:32.571Z"
   },
   {
    "duration": 21,
    "start_time": "2025-07-04T06:12:32.593Z"
   },
   {
    "duration": 20,
    "start_time": "2025-07-04T06:12:32.616Z"
   },
   {
    "duration": 43,
    "start_time": "2025-07-04T06:12:32.638Z"
   },
   {
    "duration": 13,
    "start_time": "2025-07-04T06:12:32.683Z"
   },
   {
    "duration": 47,
    "start_time": "2025-07-04T06:12:32.697Z"
   },
   {
    "duration": 28,
    "start_time": "2025-07-04T06:12:32.746Z"
   },
   {
    "duration": 96,
    "start_time": "2025-07-04T06:12:32.776Z"
   },
   {
    "duration": 838,
    "start_time": "2025-07-04T06:12:32.874Z"
   },
   {
    "duration": 68,
    "start_time": "2025-07-04T06:12:33.715Z"
   },
   {
    "duration": 821,
    "start_time": "2025-07-04T06:12:33.786Z"
   },
   {
    "duration": 16,
    "start_time": "2025-07-04T06:12:34.609Z"
   },
   {
    "duration": 1453,
    "start_time": "2025-07-04T06:15:52.953Z"
   },
   {
    "duration": 1815,
    "start_time": "2025-07-04T06:15:54.408Z"
   },
   {
    "duration": 131,
    "start_time": "2025-07-04T06:15:56.225Z"
   },
   {
    "duration": 22,
    "start_time": "2025-07-04T06:15:56.358Z"
   },
   {
    "duration": 17,
    "start_time": "2025-07-04T06:15:56.383Z"
   },
   {
    "duration": 11,
    "start_time": "2025-07-04T06:15:56.402Z"
   },
   {
    "duration": 10,
    "start_time": "2025-07-04T06:15:56.415Z"
   },
   {
    "duration": 24,
    "start_time": "2025-07-04T06:15:56.427Z"
   },
   {
    "duration": 74,
    "start_time": "2025-07-04T06:15:56.453Z"
   },
   {
    "duration": 12,
    "start_time": "2025-07-04T06:15:56.529Z"
   },
   {
    "duration": 72,
    "start_time": "2025-07-04T06:15:56.571Z"
   },
   {
    "duration": 840,
    "start_time": "2025-07-04T06:15:56.645Z"
   },
   {
    "duration": 57,
    "start_time": "2025-07-04T06:15:57.488Z"
   },
   {
    "duration": 831,
    "start_time": "2025-07-04T06:15:57.548Z"
   },
   {
    "duration": 99,
    "start_time": "2025-07-04T06:15:58.381Z"
   },
   {
    "duration": 140,
    "start_time": "2025-07-04T06:19:01.226Z"
   },
   {
    "duration": 17,
    "start_time": "2025-07-04T06:22:39.566Z"
   },
   {
    "duration": 95,
    "start_time": "2025-07-04T06:22:41.309Z"
   },
   {
    "duration": 181,
    "start_time": "2025-07-04T06:29:26.360Z"
   },
   {
    "duration": 180,
    "start_time": "2025-07-04T06:32:05.518Z"
   },
   {
    "duration": 176,
    "start_time": "2025-07-04T06:32:15.077Z"
   },
   {
    "duration": 376,
    "start_time": "2025-07-04T06:32:44.412Z"
   },
   {
    "duration": 369,
    "start_time": "2025-07-04T06:34:03.004Z"
   },
   {
    "duration": 392,
    "start_time": "2025-07-04T06:34:12.171Z"
   },
   {
    "duration": 195,
    "start_time": "2025-07-04T06:35:53.769Z"
   },
   {
    "duration": 183,
    "start_time": "2025-07-04T06:35:58.289Z"
   },
   {
    "duration": 200,
    "start_time": "2025-07-04T06:36:03.090Z"
   },
   {
    "duration": 188,
    "start_time": "2025-07-04T06:36:13.001Z"
   },
   {
    "duration": 185,
    "start_time": "2025-07-04T06:36:19.272Z"
   },
   {
    "duration": 5,
    "start_time": "2025-07-04T06:49:46.469Z"
   },
   {
    "duration": 15,
    "start_time": "2025-07-04T08:14:57.847Z"
   },
   {
    "duration": 12,
    "start_time": "2025-07-04T08:15:05.367Z"
   },
   {
    "duration": 310,
    "start_time": "2025-07-04T08:15:18.543Z"
   },
   {
    "duration": 308,
    "start_time": "2025-07-04T08:16:10.590Z"
   },
   {
    "duration": 302,
    "start_time": "2025-07-04T08:16:26.726Z"
   },
   {
    "duration": 312,
    "start_time": "2025-07-04T08:16:43.390Z"
   },
   {
    "duration": 337,
    "start_time": "2025-07-04T08:18:27.772Z"
   },
   {
    "duration": 322,
    "start_time": "2025-07-04T08:18:36.988Z"
   },
   {
    "duration": 333,
    "start_time": "2025-07-04T08:19:03.876Z"
   },
   {
    "duration": 86,
    "start_time": "2025-07-04T08:31:03.191Z"
   },
   {
    "duration": 1503,
    "start_time": "2025-07-04T08:36:10.972Z"
   },
   {
    "duration": 1929,
    "start_time": "2025-07-04T08:36:12.477Z"
   },
   {
    "duration": 107,
    "start_time": "2025-07-04T08:36:14.408Z"
   },
   {
    "duration": 25,
    "start_time": "2025-07-04T08:36:14.517Z"
   },
   {
    "duration": 38,
    "start_time": "2025-07-04T08:36:14.545Z"
   },
   {
    "duration": 12,
    "start_time": "2025-07-04T08:36:14.585Z"
   },
   {
    "duration": 90,
    "start_time": "2025-07-04T08:36:14.599Z"
   },
   {
    "duration": 17,
    "start_time": "2025-07-04T08:36:14.691Z"
   },
   {
    "duration": 48,
    "start_time": "2025-07-04T08:36:14.710Z"
   },
   {
    "duration": 17,
    "start_time": "2025-07-04T08:36:14.761Z"
   },
   {
    "duration": 71,
    "start_time": "2025-07-04T08:36:14.780Z"
   },
   {
    "duration": 841,
    "start_time": "2025-07-04T08:36:14.853Z"
   },
   {
    "duration": 53,
    "start_time": "2025-07-04T08:36:15.696Z"
   },
   {
    "duration": 826,
    "start_time": "2025-07-04T08:36:15.752Z"
   },
   {
    "duration": 149,
    "start_time": "2025-07-04T08:36:16.580Z"
   },
   {
    "duration": 107,
    "start_time": "2025-07-04T08:36:16.731Z"
   },
   {
    "duration": 14,
    "start_time": "2025-07-04T08:36:16.840Z"
   },
   {
    "duration": 4,
    "start_time": "2025-07-04T08:36:16.872Z"
   },
   {
    "duration": 342,
    "start_time": "2025-07-04T08:36:16.878Z"
   },
   {
    "duration": 201,
    "start_time": "2025-07-04T08:36:17.221Z"
   },
   {
    "duration": 393,
    "start_time": "2025-07-04T08:37:27.833Z"
   },
   {
    "duration": 1460,
    "start_time": "2025-07-04T08:37:35.448Z"
   },
   {
    "duration": 1955,
    "start_time": "2025-07-04T08:37:36.910Z"
   },
   {
    "duration": 97,
    "start_time": "2025-07-04T08:37:38.867Z"
   },
   {
    "duration": 20,
    "start_time": "2025-07-04T08:37:38.971Z"
   },
   {
    "duration": 19,
    "start_time": "2025-07-04T08:37:38.994Z"
   },
   {
    "duration": 36,
    "start_time": "2025-07-04T08:37:39.015Z"
   },
   {
    "duration": 12,
    "start_time": "2025-07-04T08:37:39.053Z"
   },
   {
    "duration": 23,
    "start_time": "2025-07-04T08:37:39.072Z"
   },
   {
    "duration": 45,
    "start_time": "2025-07-04T08:37:39.097Z"
   },
   {
    "duration": 12,
    "start_time": "2025-07-04T08:37:39.143Z"
   },
   {
    "duration": 100,
    "start_time": "2025-07-04T08:37:39.156Z"
   },
   {
    "duration": 801,
    "start_time": "2025-07-04T08:37:39.258Z"
   },
   {
    "duration": 67,
    "start_time": "2025-07-04T08:37:40.061Z"
   },
   {
    "duration": 830,
    "start_time": "2025-07-04T08:37:40.132Z"
   },
   {
    "duration": 140,
    "start_time": "2025-07-04T08:37:40.964Z"
   },
   {
    "duration": 102,
    "start_time": "2025-07-04T08:37:41.106Z"
   },
   {
    "duration": 14,
    "start_time": "2025-07-04T08:37:41.210Z"
   },
   {
    "duration": 49,
    "start_time": "2025-07-04T08:37:41.225Z"
   },
   {
    "duration": 344,
    "start_time": "2025-07-04T08:37:41.276Z"
   },
   {
    "duration": 439,
    "start_time": "2025-07-04T08:37:41.622Z"
   },
   {
    "duration": 1529,
    "start_time": "2025-07-04T08:39:36.415Z"
   },
   {
    "duration": 1770,
    "start_time": "2025-07-04T08:39:37.946Z"
   },
   {
    "duration": 101,
    "start_time": "2025-07-04T08:39:39.717Z"
   },
   {
    "duration": 18,
    "start_time": "2025-07-04T08:39:39.820Z"
   },
   {
    "duration": 19,
    "start_time": "2025-07-04T08:39:39.840Z"
   },
   {
    "duration": 11,
    "start_time": "2025-07-04T08:39:39.872Z"
   },
   {
    "duration": 10,
    "start_time": "2025-07-04T08:39:39.885Z"
   },
   {
    "duration": 8,
    "start_time": "2025-07-04T08:39:39.896Z"
   },
   {
    "duration": 79,
    "start_time": "2025-07-04T08:39:39.905Z"
   },
   {
    "duration": 12,
    "start_time": "2025-07-04T08:39:39.985Z"
   },
   {
    "duration": 88,
    "start_time": "2025-07-04T08:39:39.998Z"
   },
   {
    "duration": 795,
    "start_time": "2025-07-04T08:39:40.088Z"
   },
   {
    "duration": 53,
    "start_time": "2025-07-04T08:39:40.885Z"
   },
   {
    "duration": 824,
    "start_time": "2025-07-04T08:39:40.942Z"
   },
   {
    "duration": 137,
    "start_time": "2025-07-04T08:39:41.772Z"
   },
   {
    "duration": 103,
    "start_time": "2025-07-04T08:39:41.911Z"
   },
   {
    "duration": 14,
    "start_time": "2025-07-04T08:39:42.015Z"
   },
   {
    "duration": 7,
    "start_time": "2025-07-04T08:39:42.031Z"
   },
   {
    "duration": 462,
    "start_time": "2025-07-04T08:39:42.040Z"
   },
   {
    "duration": 310,
    "start_time": "2025-07-04T08:39:42.503Z"
   },
   {
    "duration": 15,
    "start_time": "2025-07-04T08:47:43.798Z"
   },
   {
    "duration": 103,
    "start_time": "2025-07-04T08:47:46.590Z"
   },
   {
    "duration": 1600,
    "start_time": "2025-07-04T08:50:42.209Z"
   },
   {
    "duration": 1829,
    "start_time": "2025-07-04T08:50:43.811Z"
   },
   {
    "duration": 105,
    "start_time": "2025-07-04T08:50:45.642Z"
   },
   {
    "duration": 25,
    "start_time": "2025-07-04T08:50:45.748Z"
   },
   {
    "duration": 19,
    "start_time": "2025-07-04T08:50:45.775Z"
   },
   {
    "duration": 13,
    "start_time": "2025-07-04T08:50:45.796Z"
   },
   {
    "duration": 14,
    "start_time": "2025-07-04T08:50:45.810Z"
   },
   {
    "duration": 21,
    "start_time": "2025-07-04T08:50:45.826Z"
   },
   {
    "duration": 66,
    "start_time": "2025-07-04T08:50:45.849Z"
   },
   {
    "duration": 13,
    "start_time": "2025-07-04T08:50:45.917Z"
   },
   {
    "duration": 97,
    "start_time": "2025-07-04T08:50:45.932Z"
   },
   {
    "duration": 849,
    "start_time": "2025-07-04T08:50:46.032Z"
   },
   {
    "duration": 53,
    "start_time": "2025-07-04T08:50:46.883Z"
   },
   {
    "duration": 834,
    "start_time": "2025-07-04T08:50:46.939Z"
   },
   {
    "duration": 138,
    "start_time": "2025-07-04T08:50:47.775Z"
   },
   {
    "duration": 106,
    "start_time": "2025-07-04T08:50:47.915Z"
   },
   {
    "duration": 15,
    "start_time": "2025-07-04T08:50:48.023Z"
   },
   {
    "duration": 19,
    "start_time": "2025-07-04T08:50:48.040Z"
   },
   {
    "duration": 375,
    "start_time": "2025-07-04T08:50:48.060Z"
   },
   {
    "duration": 143,
    "start_time": "2025-07-04T08:50:48.437Z"
   },
   {
    "duration": 0,
    "start_time": "2025-07-04T08:50:48.582Z"
   },
   {
    "duration": 1,
    "start_time": "2025-07-04T08:50:48.582Z"
   },
   {
    "duration": 1455,
    "start_time": "2025-07-04T08:50:57.603Z"
   },
   {
    "duration": 3222,
    "start_time": "2025-07-04T08:50:59.060Z"
   },
   {
    "duration": 116,
    "start_time": "2025-07-04T08:51:02.284Z"
   },
   {
    "duration": 20,
    "start_time": "2025-07-04T08:51:02.402Z"
   },
   {
    "duration": 80,
    "start_time": "2025-07-04T08:51:02.425Z"
   },
   {
    "duration": 20,
    "start_time": "2025-07-04T08:51:02.507Z"
   },
   {
    "duration": 38,
    "start_time": "2025-07-04T08:51:02.529Z"
   },
   {
    "duration": 26,
    "start_time": "2025-07-04T08:51:02.569Z"
   },
   {
    "duration": 55,
    "start_time": "2025-07-04T08:51:02.597Z"
   },
   {
    "duration": 12,
    "start_time": "2025-07-04T08:51:02.654Z"
   },
   {
    "duration": 72,
    "start_time": "2025-07-04T08:51:02.668Z"
   },
   {
    "duration": 871,
    "start_time": "2025-07-04T08:51:02.741Z"
   },
   {
    "duration": 74,
    "start_time": "2025-07-04T08:51:03.614Z"
   },
   {
    "duration": 814,
    "start_time": "2025-07-04T08:51:03.691Z"
   },
   {
    "duration": 140,
    "start_time": "2025-07-04T08:51:04.507Z"
   },
   {
    "duration": 103,
    "start_time": "2025-07-04T08:51:04.649Z"
   },
   {
    "duration": 23,
    "start_time": "2025-07-04T08:51:04.754Z"
   },
   {
    "duration": 23,
    "start_time": "2025-07-04T08:51:04.779Z"
   },
   {
    "duration": 370,
    "start_time": "2025-07-04T08:51:04.803Z"
   },
   {
    "duration": 307,
    "start_time": "2025-07-04T08:51:05.175Z"
   },
   {
    "duration": 142,
    "start_time": "2025-07-04T08:51:05.484Z"
   },
   {
    "duration": 11,
    "start_time": "2025-07-04T08:57:08.940Z"
   },
   {
    "duration": 1439,
    "start_time": "2025-07-04T08:59:23.181Z"
   },
   {
    "duration": 2514,
    "start_time": "2025-07-04T08:59:24.622Z"
   },
   {
    "duration": 101,
    "start_time": "2025-07-04T08:59:27.138Z"
   },
   {
    "duration": 33,
    "start_time": "2025-07-04T08:59:27.240Z"
   },
   {
    "duration": 20,
    "start_time": "2025-07-04T08:59:27.276Z"
   },
   {
    "duration": 30,
    "start_time": "2025-07-04T08:59:27.298Z"
   },
   {
    "duration": 16,
    "start_time": "2025-07-04T08:59:27.330Z"
   },
   {
    "duration": 10,
    "start_time": "2025-07-04T08:59:27.348Z"
   },
   {
    "duration": 53,
    "start_time": "2025-07-04T08:59:27.359Z"
   },
   {
    "duration": 12,
    "start_time": "2025-07-04T08:59:27.414Z"
   },
   {
    "duration": 93,
    "start_time": "2025-07-04T08:59:27.428Z"
   },
   {
    "duration": 811,
    "start_time": "2025-07-04T08:59:27.522Z"
   },
   {
    "duration": 67,
    "start_time": "2025-07-04T08:59:28.334Z"
   },
   {
    "duration": 800,
    "start_time": "2025-07-04T08:59:28.404Z"
   },
   {
    "duration": 137,
    "start_time": "2025-07-04T08:59:29.206Z"
   },
   {
    "duration": 97,
    "start_time": "2025-07-04T08:59:29.345Z"
   },
   {
    "duration": 13,
    "start_time": "2025-07-04T08:59:29.444Z"
   },
   {
    "duration": 4,
    "start_time": "2025-07-04T08:59:29.472Z"
   },
   {
    "duration": 341,
    "start_time": "2025-07-04T08:59:29.478Z"
   },
   {
    "duration": 292,
    "start_time": "2025-07-04T08:59:29.820Z"
   },
   {
    "duration": 133,
    "start_time": "2025-07-04T08:59:30.113Z"
   },
   {
    "duration": 1486,
    "start_time": "2025-07-04T09:02:34.041Z"
   },
   {
    "duration": 3184,
    "start_time": "2025-07-04T09:02:35.529Z"
   },
   {
    "duration": 106,
    "start_time": "2025-07-04T09:02:38.715Z"
   },
   {
    "duration": 21,
    "start_time": "2025-07-04T09:02:38.823Z"
   },
   {
    "duration": 37,
    "start_time": "2025-07-04T09:02:38.847Z"
   },
   {
    "duration": 12,
    "start_time": "2025-07-04T09:02:38.886Z"
   },
   {
    "duration": 15,
    "start_time": "2025-07-04T09:02:38.900Z"
   },
   {
    "duration": 14,
    "start_time": "2025-07-04T09:02:38.916Z"
   },
   {
    "duration": 67,
    "start_time": "2025-07-04T09:02:38.932Z"
   },
   {
    "duration": 13,
    "start_time": "2025-07-04T09:02:39.001Z"
   },
   {
    "duration": 89,
    "start_time": "2025-07-04T09:02:39.017Z"
   },
   {
    "duration": 798,
    "start_time": "2025-07-04T09:02:39.108Z"
   },
   {
    "duration": 65,
    "start_time": "2025-07-04T09:02:39.908Z"
   },
   {
    "duration": 778,
    "start_time": "2025-07-04T09:02:39.975Z"
   },
   {
    "duration": 140,
    "start_time": "2025-07-04T09:02:40.755Z"
   },
   {
    "duration": 110,
    "start_time": "2025-07-04T09:02:40.897Z"
   },
   {
    "duration": 14,
    "start_time": "2025-07-04T09:02:41.009Z"
   },
   {
    "duration": 4,
    "start_time": "2025-07-04T09:02:41.025Z"
   },
   {
    "duration": 352,
    "start_time": "2025-07-04T09:02:41.031Z"
   },
   {
    "duration": 298,
    "start_time": "2025-07-04T09:02:41.385Z"
   },
   {
    "duration": 413,
    "start_time": "2025-07-04T09:02:41.685Z"
   },
   {
    "duration": 326,
    "start_time": "2025-07-04T09:03:04.887Z"
   },
   {
    "duration": 351,
    "start_time": "2025-07-04T09:03:10.768Z"
   },
   {
    "duration": 1510,
    "start_time": "2025-07-04T09:04:27.440Z"
   },
   {
    "duration": 2301,
    "start_time": "2025-07-04T09:04:28.952Z"
   },
   {
    "duration": 102,
    "start_time": "2025-07-04T09:04:31.255Z"
   },
   {
    "duration": 26,
    "start_time": "2025-07-04T09:04:31.359Z"
   },
   {
    "duration": 90,
    "start_time": "2025-07-04T09:04:31.387Z"
   },
   {
    "duration": 12,
    "start_time": "2025-07-04T09:04:31.480Z"
   },
   {
    "duration": 14,
    "start_time": "2025-07-04T09:04:31.494Z"
   },
   {
    "duration": 171,
    "start_time": "2025-07-04T09:04:31.510Z"
   },
   {
    "duration": 64,
    "start_time": "2025-07-04T09:04:31.683Z"
   },
   {
    "duration": 51,
    "start_time": "2025-07-04T09:04:31.749Z"
   },
   {
    "duration": 74,
    "start_time": "2025-07-04T09:04:31.802Z"
   },
   {
    "duration": 830,
    "start_time": "2025-07-04T09:04:31.878Z"
   },
   {
    "duration": 70,
    "start_time": "2025-07-04T09:04:32.710Z"
   },
   {
    "duration": 788,
    "start_time": "2025-07-04T09:04:32.783Z"
   },
   {
    "duration": 134,
    "start_time": "2025-07-04T09:04:33.573Z"
   },
   {
    "duration": 102,
    "start_time": "2025-07-04T09:04:33.709Z"
   },
   {
    "duration": 13,
    "start_time": "2025-07-04T09:04:33.813Z"
   },
   {
    "duration": 360,
    "start_time": "2025-07-04T09:04:33.828Z"
   },
   {
    "duration": 275,
    "start_time": "2025-07-04T09:04:34.190Z"
   },
   {
    "duration": 293,
    "start_time": "2025-07-04T09:04:34.467Z"
   },
   {
    "duration": 10,
    "start_time": "2025-07-04T09:04:34.761Z"
   },
   {
    "duration": 134,
    "start_time": "2025-07-04T09:27:26.969Z"
   },
   {
    "duration": 998,
    "start_time": "2025-07-04T09:38:27.057Z"
   },
   {
    "duration": 1362,
    "start_time": "2025-07-04T09:39:14.032Z"
   },
   {
    "duration": 1877,
    "start_time": "2025-07-04T09:39:15.396Z"
   },
   {
    "duration": 98,
    "start_time": "2025-07-04T09:39:17.275Z"
   },
   {
    "duration": 17,
    "start_time": "2025-07-04T09:39:17.375Z"
   },
   {
    "duration": 24,
    "start_time": "2025-07-04T09:39:17.394Z"
   },
   {
    "duration": 12,
    "start_time": "2025-07-04T09:39:17.419Z"
   },
   {
    "duration": 28,
    "start_time": "2025-07-04T09:39:17.433Z"
   },
   {
    "duration": 8,
    "start_time": "2025-07-04T09:39:17.471Z"
   },
   {
    "duration": 46,
    "start_time": "2025-07-04T09:39:17.480Z"
   },
   {
    "duration": 52,
    "start_time": "2025-07-04T09:39:17.527Z"
   },
   {
    "duration": 79,
    "start_time": "2025-07-04T09:39:17.581Z"
   },
   {
    "duration": 809,
    "start_time": "2025-07-04T09:39:17.662Z"
   },
   {
    "duration": 51,
    "start_time": "2025-07-04T09:39:18.473Z"
   },
   {
    "duration": 801,
    "start_time": "2025-07-04T09:39:18.526Z"
   },
   {
    "duration": 132,
    "start_time": "2025-07-04T09:39:19.329Z"
   },
   {
    "duration": 98,
    "start_time": "2025-07-04T09:39:19.463Z"
   },
   {
    "duration": 20,
    "start_time": "2025-07-04T09:39:19.563Z"
   },
   {
    "duration": 357,
    "start_time": "2025-07-04T09:39:19.585Z"
   },
   {
    "duration": 294,
    "start_time": "2025-07-04T09:39:19.944Z"
   },
   {
    "duration": 313,
    "start_time": "2025-07-04T09:39:20.240Z"
   },
   {
    "duration": 5,
    "start_time": "2025-07-04T09:39:20.555Z"
   },
   {
    "duration": 194,
    "start_time": "2025-07-04T09:39:20.561Z"
   },
   {
    "duration": 1379,
    "start_time": "2025-07-04T09:43:24.127Z"
   },
   {
    "duration": 1887,
    "start_time": "2025-07-04T09:43:25.508Z"
   },
   {
    "duration": 105,
    "start_time": "2025-07-04T09:43:27.397Z"
   },
   {
    "duration": 20,
    "start_time": "2025-07-04T09:43:27.503Z"
   },
   {
    "duration": 33,
    "start_time": "2025-07-04T09:43:27.525Z"
   },
   {
    "duration": 56,
    "start_time": "2025-07-04T09:43:27.560Z"
   },
   {
    "duration": 27,
    "start_time": "2025-07-04T09:43:27.618Z"
   },
   {
    "duration": 33,
    "start_time": "2025-07-04T09:43:27.647Z"
   },
   {
    "duration": 56,
    "start_time": "2025-07-04T09:43:27.681Z"
   },
   {
    "duration": 55,
    "start_time": "2025-07-04T09:43:27.738Z"
   },
   {
    "duration": 153,
    "start_time": "2025-07-04T09:43:27.795Z"
   },
   {
    "duration": 798,
    "start_time": "2025-07-04T09:43:27.950Z"
   },
   {
    "duration": 60,
    "start_time": "2025-07-04T09:43:28.749Z"
   },
   {
    "duration": 789,
    "start_time": "2025-07-04T09:43:28.811Z"
   },
   {
    "duration": 132,
    "start_time": "2025-07-04T09:43:29.602Z"
   },
   {
    "duration": 96,
    "start_time": "2025-07-04T09:43:29.736Z"
   },
   {
    "duration": 30,
    "start_time": "2025-07-04T09:43:29.834Z"
   },
   {
    "duration": 400,
    "start_time": "2025-07-04T09:43:29.866Z"
   },
   {
    "duration": 285,
    "start_time": "2025-07-04T09:43:30.272Z"
   },
   {
    "duration": 317,
    "start_time": "2025-07-04T09:43:30.559Z"
   },
   {
    "duration": 6,
    "start_time": "2025-07-04T09:43:30.878Z"
   },
   {
    "duration": 198,
    "start_time": "2025-07-04T09:43:30.886Z"
   },
   {
    "duration": 1489,
    "start_time": "2025-07-04T09:44:31.504Z"
   },
   {
    "duration": 1794,
    "start_time": "2025-07-04T09:44:32.996Z"
   },
   {
    "duration": 100,
    "start_time": "2025-07-04T09:44:34.792Z"
   },
   {
    "duration": 20,
    "start_time": "2025-07-04T09:44:34.893Z"
   },
   {
    "duration": 19,
    "start_time": "2025-07-04T09:44:34.916Z"
   },
   {
    "duration": 93,
    "start_time": "2025-07-04T09:44:34.937Z"
   },
   {
    "duration": 33,
    "start_time": "2025-07-04T09:44:35.032Z"
   },
   {
    "duration": 11,
    "start_time": "2025-07-04T09:44:35.068Z"
   },
   {
    "duration": 61,
    "start_time": "2025-07-04T09:44:35.081Z"
   },
   {
    "duration": 13,
    "start_time": "2025-07-04T09:44:35.144Z"
   },
   {
    "duration": 90,
    "start_time": "2025-07-04T09:44:35.159Z"
   },
   {
    "duration": 791,
    "start_time": "2025-07-04T09:44:35.251Z"
   },
   {
    "duration": 58,
    "start_time": "2025-07-04T09:44:36.044Z"
   },
   {
    "duration": 772,
    "start_time": "2025-07-04T09:44:36.105Z"
   },
   {
    "duration": 133,
    "start_time": "2025-07-04T09:44:36.879Z"
   },
   {
    "duration": 99,
    "start_time": "2025-07-04T09:44:37.014Z"
   },
   {
    "duration": 14,
    "start_time": "2025-07-04T09:44:37.114Z"
   },
   {
    "duration": 344,
    "start_time": "2025-07-04T09:44:37.129Z"
   },
   {
    "duration": 272,
    "start_time": "2025-07-04T09:44:37.475Z"
   },
   {
    "duration": 306,
    "start_time": "2025-07-04T09:44:37.749Z"
   },
   {
    "duration": 4,
    "start_time": "2025-07-04T09:44:38.057Z"
   },
   {
    "duration": 183,
    "start_time": "2025-07-04T09:44:38.071Z"
   },
   {
    "duration": 72,
    "start_time": "2025-07-04T09:44:38.256Z"
   },
   {
    "duration": 13,
    "start_time": "2025-07-04T09:44:38.330Z"
   },
   {
    "duration": 41,
    "start_time": "2025-07-04T09:44:38.344Z"
   },
   {
    "duration": 15,
    "start_time": "2025-07-04T09:44:38.387Z"
   },
   {
    "duration": 5679,
    "start_time": "2025-07-04T10:07:24.738Z"
   },
   {
    "duration": 2024,
    "start_time": "2025-07-04T10:16:55.300Z"
   },
   {
    "duration": 108,
    "start_time": "2025-07-04T10:19:08.339Z"
   },
   {
    "duration": 4234,
    "start_time": "2025-07-04T10:19:11.258Z"
   },
   {
    "duration": 1393,
    "start_time": "2025-07-04T10:19:26.284Z"
   },
   {
    "duration": 3249,
    "start_time": "2025-07-04T10:19:27.680Z"
   },
   {
    "duration": 125,
    "start_time": "2025-07-04T10:19:30.931Z"
   },
   {
    "duration": 33,
    "start_time": "2025-07-04T10:19:31.057Z"
   },
   {
    "duration": 19,
    "start_time": "2025-07-04T10:19:31.092Z"
   },
   {
    "duration": 14,
    "start_time": "2025-07-04T10:19:31.113Z"
   },
   {
    "duration": 45,
    "start_time": "2025-07-04T10:19:31.129Z"
   },
   {
    "duration": 24,
    "start_time": "2025-07-04T10:19:31.178Z"
   },
   {
    "duration": 110,
    "start_time": "2025-07-04T10:19:31.204Z"
   },
   {
    "duration": 12,
    "start_time": "2025-07-04T10:19:31.316Z"
   },
   {
    "duration": 99,
    "start_time": "2025-07-04T10:19:31.330Z"
   },
   {
    "duration": 887,
    "start_time": "2025-07-04T10:19:31.431Z"
   },
   {
    "duration": 67,
    "start_time": "2025-07-04T10:19:32.320Z"
   },
   {
    "duration": 804,
    "start_time": "2025-07-04T10:19:32.390Z"
   },
   {
    "duration": 140,
    "start_time": "2025-07-04T10:19:33.196Z"
   },
   {
    "duration": 108,
    "start_time": "2025-07-04T10:19:33.338Z"
   },
   {
    "duration": 30,
    "start_time": "2025-07-04T10:19:33.448Z"
   },
   {
    "duration": 362,
    "start_time": "2025-07-04T10:19:33.481Z"
   },
   {
    "duration": 319,
    "start_time": "2025-07-04T10:19:33.845Z"
   },
   {
    "duration": 320,
    "start_time": "2025-07-04T10:19:34.171Z"
   },
   {
    "duration": 4,
    "start_time": "2025-07-04T10:19:34.493Z"
   },
   {
    "duration": 198,
    "start_time": "2025-07-04T10:19:34.499Z"
   },
   {
    "duration": 80,
    "start_time": "2025-07-04T10:19:34.699Z"
   },
   {
    "duration": 14,
    "start_time": "2025-07-04T10:19:34.780Z"
   },
   {
    "duration": 23,
    "start_time": "2025-07-04T10:19:34.796Z"
   },
   {
    "duration": 28,
    "start_time": "2025-07-04T10:19:34.821Z"
   },
   {
    "duration": 5459,
    "start_time": "2025-07-04T10:19:34.850Z"
   },
   {
    "duration": 4378,
    "start_time": "2025-07-04T10:19:40.311Z"
   },
   {
    "duration": 68,
    "start_time": "2025-07-07T02:53:04.244Z"
   },
   {
    "duration": 1611,
    "start_time": "2025-07-07T02:53:14.377Z"
   },
   {
    "duration": 3421,
    "start_time": "2025-07-07T02:53:15.989Z"
   },
   {
    "duration": 101,
    "start_time": "2025-07-07T02:53:19.412Z"
   },
   {
    "duration": 18,
    "start_time": "2025-07-07T02:53:19.514Z"
   },
   {
    "duration": 47,
    "start_time": "2025-07-07T02:53:19.535Z"
   },
   {
    "duration": 37,
    "start_time": "2025-07-07T02:53:19.583Z"
   },
   {
    "duration": 13,
    "start_time": "2025-07-07T02:53:19.622Z"
   },
   {
    "duration": 7,
    "start_time": "2025-07-07T02:53:19.637Z"
   },
   {
    "duration": 43,
    "start_time": "2025-07-07T02:53:19.646Z"
   },
   {
    "duration": 12,
    "start_time": "2025-07-07T02:53:19.691Z"
   },
   {
    "duration": 116,
    "start_time": "2025-07-07T02:53:19.704Z"
   },
   {
    "duration": 790,
    "start_time": "2025-07-07T02:53:19.822Z"
   },
   {
    "duration": 60,
    "start_time": "2025-07-07T02:53:20.613Z"
   },
   {
    "duration": 861,
    "start_time": "2025-07-07T02:53:20.676Z"
   },
   {
    "duration": 155,
    "start_time": "2025-07-07T02:53:21.539Z"
   },
   {
    "duration": 101,
    "start_time": "2025-07-07T02:53:21.696Z"
   },
   {
    "duration": 13,
    "start_time": "2025-07-07T02:53:21.798Z"
   },
   {
    "duration": 346,
    "start_time": "2025-07-07T02:53:21.812Z"
   },
   {
    "duration": 293,
    "start_time": "2025-07-07T02:53:22.159Z"
   },
   {
    "duration": 300,
    "start_time": "2025-07-07T02:53:22.458Z"
   },
   {
    "duration": 4,
    "start_time": "2025-07-07T02:53:22.760Z"
   },
   {
    "duration": 214,
    "start_time": "2025-07-07T02:53:22.766Z"
   },
   {
    "duration": 79,
    "start_time": "2025-07-07T02:53:22.982Z"
   },
   {
    "duration": 13,
    "start_time": "2025-07-07T02:53:23.063Z"
   },
   {
    "duration": 33,
    "start_time": "2025-07-07T02:53:23.077Z"
   },
   {
    "duration": 10,
    "start_time": "2025-07-07T02:53:23.111Z"
   },
   {
    "duration": 5383,
    "start_time": "2025-07-07T02:53:23.123Z"
   },
   {
    "duration": 4321,
    "start_time": "2025-07-07T02:53:28.508Z"
   },
   {
    "duration": 39,
    "start_time": "2025-07-07T02:53:32.830Z"
   },
   {
    "duration": 1446,
    "start_time": "2025-07-07T02:53:51.151Z"
   },
   {
    "duration": 1965,
    "start_time": "2025-07-07T02:53:52.599Z"
   },
   {
    "duration": 109,
    "start_time": "2025-07-07T02:53:54.565Z"
   },
   {
    "duration": 19,
    "start_time": "2025-07-07T02:53:54.676Z"
   },
   {
    "duration": 104,
    "start_time": "2025-07-07T02:53:54.697Z"
   },
   {
    "duration": 11,
    "start_time": "2025-07-07T02:53:54.803Z"
   },
   {
    "duration": 10,
    "start_time": "2025-07-07T02:53:54.817Z"
   },
   {
    "duration": 8,
    "start_time": "2025-07-07T02:53:54.828Z"
   },
   {
    "duration": 46,
    "start_time": "2025-07-07T02:53:54.838Z"
   },
   {
    "duration": 11,
    "start_time": "2025-07-07T02:53:54.885Z"
   },
   {
    "duration": 85,
    "start_time": "2025-07-07T02:53:54.898Z"
   },
   {
    "duration": 786,
    "start_time": "2025-07-07T02:53:54.985Z"
   },
   {
    "duration": 62,
    "start_time": "2025-07-07T02:53:55.772Z"
   },
   {
    "duration": 766,
    "start_time": "2025-07-07T02:53:55.838Z"
   },
   {
    "duration": 132,
    "start_time": "2025-07-07T02:53:56.605Z"
   },
   {
    "duration": 101,
    "start_time": "2025-07-07T02:53:56.739Z"
   },
   {
    "duration": 20,
    "start_time": "2025-07-07T02:53:56.841Z"
   },
   {
    "duration": 348,
    "start_time": "2025-07-07T02:53:56.863Z"
   },
   {
    "duration": 288,
    "start_time": "2025-07-07T02:53:57.213Z"
   },
   {
    "duration": 322,
    "start_time": "2025-07-07T02:53:57.503Z"
   },
   {
    "duration": 5,
    "start_time": "2025-07-07T02:53:57.827Z"
   },
   {
    "duration": 187,
    "start_time": "2025-07-07T02:53:57.834Z"
   },
   {
    "duration": 79,
    "start_time": "2025-07-07T02:53:58.023Z"
   },
   {
    "duration": 61,
    "start_time": "2025-07-07T02:53:58.104Z"
   },
   {
    "duration": 17,
    "start_time": "2025-07-07T02:53:58.167Z"
   },
   {
    "duration": 10,
    "start_time": "2025-07-07T02:53:58.185Z"
   },
   {
    "duration": 5456,
    "start_time": "2025-07-07T02:53:58.197Z"
   },
   {
    "duration": 4415,
    "start_time": "2025-07-07T02:54:03.658Z"
   },
   {
    "duration": 39,
    "start_time": "2025-07-07T02:54:08.075Z"
   },
   {
    "duration": 126,
    "start_time": "2025-07-07T03:14:22.247Z"
   },
   {
    "duration": 6205,
    "start_time": "2025-07-07T03:14:34.774Z"
   },
   {
    "duration": 1363,
    "start_time": "2025-07-07T03:15:02.569Z"
   },
   {
    "duration": 3525,
    "start_time": "2025-07-07T03:15:03.935Z"
   },
   {
    "duration": 109,
    "start_time": "2025-07-07T03:15:07.462Z"
   },
   {
    "duration": 19,
    "start_time": "2025-07-07T03:15:07.573Z"
   },
   {
    "duration": 18,
    "start_time": "2025-07-07T03:15:07.594Z"
   },
   {
    "duration": 76,
    "start_time": "2025-07-07T03:15:07.613Z"
   },
   {
    "duration": 15,
    "start_time": "2025-07-07T03:15:07.690Z"
   },
   {
    "duration": 22,
    "start_time": "2025-07-07T03:15:07.706Z"
   },
   {
    "duration": 58,
    "start_time": "2025-07-07T03:15:07.730Z"
   },
   {
    "duration": 11,
    "start_time": "2025-07-07T03:15:07.791Z"
   },
   {
    "duration": 95,
    "start_time": "2025-07-07T03:15:07.804Z"
   },
   {
    "duration": 779,
    "start_time": "2025-07-07T03:15:07.900Z"
   },
   {
    "duration": 51,
    "start_time": "2025-07-07T03:15:08.681Z"
   },
   {
    "duration": 767,
    "start_time": "2025-07-07T03:15:08.734Z"
   },
   {
    "duration": 129,
    "start_time": "2025-07-07T03:15:09.502Z"
   },
   {
    "duration": 101,
    "start_time": "2025-07-07T03:15:09.632Z"
   },
   {
    "duration": 24,
    "start_time": "2025-07-07T03:15:09.734Z"
   },
   {
    "duration": 328,
    "start_time": "2025-07-07T03:15:09.759Z"
   },
   {
    "duration": 284,
    "start_time": "2025-07-07T03:15:10.089Z"
   },
   {
    "duration": 306,
    "start_time": "2025-07-07T03:15:10.375Z"
   },
   {
    "duration": 4,
    "start_time": "2025-07-07T03:15:10.683Z"
   },
   {
    "duration": 190,
    "start_time": "2025-07-07T03:15:10.689Z"
   },
   {
    "duration": 77,
    "start_time": "2025-07-07T03:15:10.881Z"
   },
   {
    "duration": 13,
    "start_time": "2025-07-07T03:15:10.960Z"
   },
   {
    "duration": 21,
    "start_time": "2025-07-07T03:15:10.975Z"
   },
   {
    "duration": 9,
    "start_time": "2025-07-07T03:15:10.998Z"
   },
   {
    "duration": 5427,
    "start_time": "2025-07-07T03:15:11.008Z"
   },
   {
    "duration": 4342,
    "start_time": "2025-07-07T03:15:16.437Z"
   },
   {
    "duration": 39,
    "start_time": "2025-07-07T03:15:20.781Z"
   },
   {
    "duration": 6283,
    "start_time": "2025-07-07T03:15:20.822Z"
   },
   {
    "duration": 125,
    "start_time": "2025-07-07T04:03:33.229Z"
   },
   {
    "duration": 12,
    "start_time": "2025-07-07T04:03:39.078Z"
   },
   {
    "duration": 17,
    "start_time": "2025-07-07T04:04:15.829Z"
   },
   {
    "duration": 15,
    "start_time": "2025-07-07T04:04:34.165Z"
   },
   {
    "duration": 143,
    "start_time": "2025-07-07T04:08:08.659Z"
   },
   {
    "duration": 179,
    "start_time": "2025-07-07T04:17:19.264Z"
   },
   {
    "duration": 239,
    "start_time": "2025-07-07T04:17:44.784Z"
   },
   {
    "duration": 34,
    "start_time": "2025-07-07T04:18:15.927Z"
   },
   {
    "duration": 209,
    "start_time": "2025-07-07T04:18:22.416Z"
   },
   {
    "duration": 189,
    "start_time": "2025-07-07T04:18:41.287Z"
   },
   {
    "duration": 203,
    "start_time": "2025-07-07T04:18:54.055Z"
   },
   {
    "duration": 204,
    "start_time": "2025-07-07T04:19:54.334Z"
   },
   {
    "duration": 204,
    "start_time": "2025-07-07T04:20:39.285Z"
   },
   {
    "duration": 206,
    "start_time": "2025-07-07T04:20:59.205Z"
   },
   {
    "duration": 444,
    "start_time": "2025-07-07T04:23:30.267Z"
   },
   {
    "duration": 455,
    "start_time": "2025-07-07T04:24:06.850Z"
   },
   {
    "duration": 462,
    "start_time": "2025-07-07T04:24:22.355Z"
   },
   {
    "duration": 443,
    "start_time": "2025-07-07T04:25:08.465Z"
   },
   {
    "duration": 492,
    "start_time": "2025-07-07T04:25:38.216Z"
   },
   {
    "duration": 466,
    "start_time": "2025-07-07T04:25:53.016Z"
   },
   {
    "duration": 206,
    "start_time": "2025-07-07T04:31:16.179Z"
   },
   {
    "duration": 423,
    "start_time": "2025-07-07T04:31:52.386Z"
   },
   {
    "duration": 220,
    "start_time": "2025-07-07T04:32:21.138Z"
   },
   {
    "duration": 215,
    "start_time": "2025-07-07T04:32:49.138Z"
   },
   {
    "duration": 420,
    "start_time": "2025-07-07T04:32:59.729Z"
   },
   {
    "duration": 1482,
    "start_time": "2025-07-07T04:50:03.731Z"
   },
   {
    "duration": 3578,
    "start_time": "2025-07-07T04:50:05.216Z"
   },
   {
    "duration": 105,
    "start_time": "2025-07-07T04:50:08.795Z"
   },
   {
    "duration": 18,
    "start_time": "2025-07-07T04:50:08.902Z"
   },
   {
    "duration": 17,
    "start_time": "2025-07-07T04:50:08.921Z"
   },
   {
    "duration": 113,
    "start_time": "2025-07-07T04:50:08.957Z"
   },
   {
    "duration": 15,
    "start_time": "2025-07-07T04:50:09.072Z"
   },
   {
    "duration": 8,
    "start_time": "2025-07-07T04:50:09.088Z"
   },
   {
    "duration": 60,
    "start_time": "2025-07-07T04:50:09.098Z"
   },
   {
    "duration": 42,
    "start_time": "2025-07-07T04:50:09.161Z"
   },
   {
    "duration": 68,
    "start_time": "2025-07-07T04:50:09.204Z"
   },
   {
    "duration": 800,
    "start_time": "2025-07-07T04:50:09.274Z"
   },
   {
    "duration": 50,
    "start_time": "2025-07-07T04:50:10.075Z"
   },
   {
    "duration": 770,
    "start_time": "2025-07-07T04:50:10.127Z"
   },
   {
    "duration": 132,
    "start_time": "2025-07-07T04:50:10.898Z"
   },
   {
    "duration": 106,
    "start_time": "2025-07-07T04:50:11.032Z"
   },
   {
    "duration": 21,
    "start_time": "2025-07-07T04:50:11.140Z"
   },
   {
    "duration": 434,
    "start_time": "2025-07-07T04:50:11.163Z"
   },
   {
    "duration": 304,
    "start_time": "2025-07-07T04:50:11.599Z"
   },
   {
    "duration": 303,
    "start_time": "2025-07-07T04:50:11.905Z"
   },
   {
    "duration": 5,
    "start_time": "2025-07-07T04:50:12.209Z"
   },
   {
    "duration": 189,
    "start_time": "2025-07-07T04:50:12.216Z"
   },
   {
    "duration": 78,
    "start_time": "2025-07-07T04:50:12.407Z"
   },
   {
    "duration": 13,
    "start_time": "2025-07-07T04:50:12.486Z"
   },
   {
    "duration": 20,
    "start_time": "2025-07-07T04:50:12.501Z"
   },
   {
    "duration": 39,
    "start_time": "2025-07-07T04:50:12.523Z"
   },
   {
    "duration": 5535,
    "start_time": "2025-07-07T04:50:12.564Z"
   },
   {
    "duration": 4405,
    "start_time": "2025-07-07T04:50:18.102Z"
   },
   {
    "duration": 49,
    "start_time": "2025-07-07T04:50:22.509Z"
   },
   {
    "duration": 6403,
    "start_time": "2025-07-07T04:50:22.559Z"
   },
   {
    "duration": 155,
    "start_time": "2025-07-07T04:50:28.963Z"
   },
   {
    "duration": 234,
    "start_time": "2025-07-07T04:50:29.119Z"
   },
   {
    "duration": 490,
    "start_time": "2025-07-07T04:50:29.358Z"
   },
   {
    "duration": 1408,
    "start_time": "2025-07-07T04:52:14.900Z"
   },
   {
    "duration": 3320,
    "start_time": "2025-07-07T04:52:16.311Z"
   },
   {
    "duration": 100,
    "start_time": "2025-07-07T04:52:19.633Z"
   },
   {
    "duration": 25,
    "start_time": "2025-07-07T04:52:19.734Z"
   },
   {
    "duration": 18,
    "start_time": "2025-07-07T04:52:19.761Z"
   },
   {
    "duration": 12,
    "start_time": "2025-07-07T04:52:19.781Z"
   },
   {
    "duration": 42,
    "start_time": "2025-07-07T04:52:19.794Z"
   },
   {
    "duration": 25,
    "start_time": "2025-07-07T04:52:19.838Z"
   },
   {
    "duration": 53,
    "start_time": "2025-07-07T04:52:19.864Z"
   },
   {
    "duration": 12,
    "start_time": "2025-07-07T04:52:19.918Z"
   },
   {
    "duration": 153,
    "start_time": "2025-07-07T04:52:19.931Z"
   },
   {
    "duration": 788,
    "start_time": "2025-07-07T04:52:20.085Z"
   },
   {
    "duration": 52,
    "start_time": "2025-07-07T04:52:20.875Z"
   },
   {
    "duration": 823,
    "start_time": "2025-07-07T04:52:20.930Z"
   },
   {
    "duration": 140,
    "start_time": "2025-07-07T04:52:21.754Z"
   },
   {
    "duration": 100,
    "start_time": "2025-07-07T04:52:21.895Z"
   },
   {
    "duration": 13,
    "start_time": "2025-07-07T04:52:21.996Z"
   },
   {
    "duration": 343,
    "start_time": "2025-07-07T04:52:22.010Z"
   },
   {
    "duration": 282,
    "start_time": "2025-07-07T04:52:22.358Z"
   },
   {
    "duration": 306,
    "start_time": "2025-07-07T04:52:22.642Z"
   },
   {
    "duration": 10,
    "start_time": "2025-07-07T04:52:22.949Z"
   },
   {
    "duration": 250,
    "start_time": "2025-07-07T04:52:22.961Z"
   },
   {
    "duration": 72,
    "start_time": "2025-07-07T04:52:23.213Z"
   },
   {
    "duration": 30,
    "start_time": "2025-07-07T04:52:23.287Z"
   },
   {
    "duration": 32,
    "start_time": "2025-07-07T04:52:23.319Z"
   },
   {
    "duration": 30,
    "start_time": "2025-07-07T04:52:23.353Z"
   },
   {
    "duration": 5584,
    "start_time": "2025-07-07T04:52:23.385Z"
   },
   {
    "duration": 4544,
    "start_time": "2025-07-07T04:52:28.971Z"
   },
   {
    "duration": 52,
    "start_time": "2025-07-07T04:52:33.517Z"
   },
   {
    "duration": 6528,
    "start_time": "2025-07-07T04:52:33.571Z"
   },
   {
    "duration": 143,
    "start_time": "2025-07-07T04:52:40.101Z"
   },
   {
    "duration": 186,
    "start_time": "2025-07-07T04:52:40.245Z"
   },
   {
    "duration": 57,
    "start_time": "2025-07-07T04:52:40.433Z"
   },
   {
    "duration": 256,
    "start_time": "2025-07-07T04:52:40.492Z"
   },
   {
    "duration": 49,
    "start_time": "2025-07-07T04:54:29.899Z"
   },
   {
    "duration": 162,
    "start_time": "2025-07-07T04:55:53.225Z"
   },
   {
    "duration": 49,
    "start_time": "2025-07-07T04:56:00.073Z"
   },
   {
    "duration": 85,
    "start_time": "2025-07-07T04:56:50.096Z"
   },
   {
    "duration": 223,
    "start_time": "2025-07-07T04:57:14.336Z"
   },
   {
    "duration": 253,
    "start_time": "2025-07-07T04:58:13.551Z"
   },
   {
    "duration": 56,
    "start_time": "2025-07-07T04:58:27.255Z"
   },
   {
    "duration": 200,
    "start_time": "2025-07-07T04:58:42.910Z"
   },
   {
    "duration": 190,
    "start_time": "2025-07-07T05:13:00.457Z"
   },
   {
    "duration": 1469,
    "start_time": "2025-07-07T05:17:26.247Z"
   },
   {
    "duration": 3590,
    "start_time": "2025-07-07T05:17:27.719Z"
   },
   {
    "duration": 100,
    "start_time": "2025-07-07T05:17:31.311Z"
   },
   {
    "duration": 18,
    "start_time": "2025-07-07T05:17:31.413Z"
   },
   {
    "duration": 32,
    "start_time": "2025-07-07T05:17:31.434Z"
   },
   {
    "duration": 12,
    "start_time": "2025-07-07T05:17:31.468Z"
   },
   {
    "duration": 11,
    "start_time": "2025-07-07T05:17:31.481Z"
   },
   {
    "duration": 9,
    "start_time": "2025-07-07T05:17:31.494Z"
   },
   {
    "duration": 86,
    "start_time": "2025-07-07T05:17:31.505Z"
   },
   {
    "duration": 17,
    "start_time": "2025-07-07T05:17:31.596Z"
   },
   {
    "duration": 102,
    "start_time": "2025-07-07T05:17:31.615Z"
   },
   {
    "duration": 791,
    "start_time": "2025-07-07T05:17:31.719Z"
   },
   {
    "duration": 58,
    "start_time": "2025-07-07T05:17:32.512Z"
   },
   {
    "duration": 762,
    "start_time": "2025-07-07T05:17:32.573Z"
   },
   {
    "duration": 132,
    "start_time": "2025-07-07T05:17:33.336Z"
   },
   {
    "duration": 104,
    "start_time": "2025-07-07T05:17:33.470Z"
   },
   {
    "duration": 13,
    "start_time": "2025-07-07T05:17:33.576Z"
   },
   {
    "duration": 382,
    "start_time": "2025-07-07T05:17:33.591Z"
   },
   {
    "duration": 286,
    "start_time": "2025-07-07T05:17:33.974Z"
   },
   {
    "duration": 302,
    "start_time": "2025-07-07T05:17:34.262Z"
   },
   {
    "duration": 4,
    "start_time": "2025-07-07T05:17:34.566Z"
   },
   {
    "duration": 214,
    "start_time": "2025-07-07T05:17:34.573Z"
   },
   {
    "duration": 86,
    "start_time": "2025-07-07T05:17:34.788Z"
   },
   {
    "duration": 79,
    "start_time": "2025-07-07T05:17:34.876Z"
   },
   {
    "duration": 18,
    "start_time": "2025-07-07T05:17:34.956Z"
   },
   {
    "duration": 11,
    "start_time": "2025-07-07T05:17:34.976Z"
   },
   {
    "duration": 5439,
    "start_time": "2025-07-07T05:17:34.989Z"
   },
   {
    "duration": 4365,
    "start_time": "2025-07-07T05:17:40.430Z"
   },
   {
    "duration": 40,
    "start_time": "2025-07-07T05:17:44.797Z"
   },
   {
    "duration": 6226,
    "start_time": "2025-07-07T05:17:44.839Z"
   },
   {
    "duration": 151,
    "start_time": "2025-07-07T05:17:51.066Z"
   },
   {
    "duration": 377,
    "start_time": "2025-07-07T05:17:51.219Z"
   },
   {
    "duration": 350,
    "start_time": "2025-07-07T05:17:51.601Z"
   },
   {
    "duration": 190,
    "start_time": "2025-07-07T05:17:51.957Z"
   },
   {
    "duration": 210,
    "start_time": "2025-07-07T05:17:52.149Z"
   },
   {
    "duration": 185,
    "start_time": "2025-07-07T05:17:52.360Z"
   },
   {
    "duration": 1428,
    "start_time": "2025-07-07T05:19:46.864Z"
   },
   {
    "duration": 1972,
    "start_time": "2025-07-07T05:19:48.294Z"
   },
   {
    "duration": 103,
    "start_time": "2025-07-07T05:19:50.268Z"
   },
   {
    "duration": 18,
    "start_time": "2025-07-07T05:19:50.372Z"
   },
   {
    "duration": 28,
    "start_time": "2025-07-07T05:19:50.392Z"
   },
   {
    "duration": 14,
    "start_time": "2025-07-07T05:19:50.422Z"
   },
   {
    "duration": 27,
    "start_time": "2025-07-07T05:19:50.437Z"
   },
   {
    "duration": 85,
    "start_time": "2025-07-07T05:19:50.465Z"
   },
   {
    "duration": 74,
    "start_time": "2025-07-07T05:19:50.552Z"
   },
   {
    "duration": 12,
    "start_time": "2025-07-07T05:19:50.627Z"
   },
   {
    "duration": 79,
    "start_time": "2025-07-07T05:19:50.641Z"
   },
   {
    "duration": 814,
    "start_time": "2025-07-07T05:19:50.722Z"
   },
   {
    "duration": 81,
    "start_time": "2025-07-07T05:19:51.538Z"
   },
   {
    "duration": 775,
    "start_time": "2025-07-07T05:19:51.627Z"
   },
   {
    "duration": 131,
    "start_time": "2025-07-07T05:19:52.404Z"
   },
   {
    "duration": 114,
    "start_time": "2025-07-07T05:19:52.536Z"
   },
   {
    "duration": 15,
    "start_time": "2025-07-07T05:19:52.651Z"
   },
   {
    "duration": 339,
    "start_time": "2025-07-07T05:19:52.668Z"
   },
   {
    "duration": 282,
    "start_time": "2025-07-07T05:19:53.008Z"
   },
   {
    "duration": 290,
    "start_time": "2025-07-07T05:19:53.292Z"
   },
   {
    "duration": 4,
    "start_time": "2025-07-07T05:19:53.584Z"
   },
   {
    "duration": 194,
    "start_time": "2025-07-07T05:19:53.590Z"
   },
   {
    "duration": 83,
    "start_time": "2025-07-07T05:19:53.786Z"
   },
   {
    "duration": 13,
    "start_time": "2025-07-07T05:19:53.871Z"
   },
   {
    "duration": 31,
    "start_time": "2025-07-07T05:19:53.886Z"
   },
   {
    "duration": 19,
    "start_time": "2025-07-07T05:19:53.918Z"
   },
   {
    "duration": 5409,
    "start_time": "2025-07-07T05:19:53.938Z"
   },
   {
    "duration": 4356,
    "start_time": "2025-07-07T05:19:59.348Z"
   },
   {
    "duration": 53,
    "start_time": "2025-07-07T05:20:03.706Z"
   },
   {
    "duration": 6144,
    "start_time": "2025-07-07T05:20:03.761Z"
   },
   {
    "duration": 160,
    "start_time": "2025-07-07T05:20:09.907Z"
   },
   {
    "duration": 362,
    "start_time": "2025-07-07T05:20:10.068Z"
   },
   {
    "duration": 339,
    "start_time": "2025-07-07T05:20:10.432Z"
   },
   {
    "duration": 191,
    "start_time": "2025-07-07T05:20:10.772Z"
   },
   {
    "duration": 283,
    "start_time": "2025-07-07T05:20:10.965Z"
   },
   {
    "duration": 210,
    "start_time": "2025-07-07T05:20:11.250Z"
   },
   {
    "duration": 183,
    "start_time": "2025-07-07T06:00:17.803Z"
   },
   {
    "duration": 45,
    "start_time": "2025-07-07T06:00:28.505Z"
   },
   {
    "duration": 102,
    "start_time": "2025-07-07T06:01:02.825Z"
   },
   {
    "duration": 87,
    "start_time": "2025-07-07T06:01:28.113Z"
   },
   {
    "duration": 57,
    "start_time": "2025-07-07T06:03:36.223Z"
   },
   {
    "duration": 48,
    "start_time": "2025-07-07T06:04:22.790Z"
   },
   {
    "duration": 55,
    "start_time": "2025-07-07T06:04:43.469Z"
   },
   {
    "duration": 55,
    "start_time": "2025-07-07T06:05:21.045Z"
   },
   {
    "duration": 67,
    "start_time": "2025-07-07T06:07:26.979Z"
   },
   {
    "duration": 10,
    "start_time": "2025-07-07T06:08:26.355Z"
   },
   {
    "duration": 74,
    "start_time": "2025-07-07T06:08:42.954Z"
   },
   {
    "duration": 10,
    "start_time": "2025-07-07T06:08:44.979Z"
   },
   {
    "duration": 78,
    "start_time": "2025-07-07T06:09:42.457Z"
   },
   {
    "duration": 13,
    "start_time": "2025-07-07T06:09:59.665Z"
   },
   {
    "duration": 81,
    "start_time": "2025-07-07T06:10:02.249Z"
   },
   {
    "duration": 9,
    "start_time": "2025-07-07T06:10:05.048Z"
   },
   {
    "duration": 89,
    "start_time": "2025-07-07T06:11:01.112Z"
   },
   {
    "duration": 66,
    "start_time": "2025-07-07T06:11:11.968Z"
   },
   {
    "duration": 69,
    "start_time": "2025-07-07T06:11:16.688Z"
   },
   {
    "duration": 6,
    "start_time": "2025-07-07T06:11:59.063Z"
   },
   {
    "duration": 91,
    "start_time": "2025-07-07T06:15:25.364Z"
   },
   {
    "duration": 15,
    "start_time": "2025-07-07T06:15:35.827Z"
   },
   {
    "duration": 10,
    "start_time": "2025-07-07T06:16:58.906Z"
   },
   {
    "duration": 18,
    "start_time": "2025-07-07T06:17:18.033Z"
   },
   {
    "duration": 200,
    "start_time": "2025-07-07T06:17:37.729Z"
   },
   {
    "duration": 194,
    "start_time": "2025-07-07T06:17:54.449Z"
   },
   {
    "duration": 185,
    "start_time": "2025-07-07T06:18:20.800Z"
   },
   {
    "duration": 186,
    "start_time": "2025-07-07T06:20:00.775Z"
   },
   {
    "duration": 200,
    "start_time": "2025-07-07T06:22:13.084Z"
   },
   {
    "duration": 1416,
    "start_time": "2025-07-07T06:23:25.339Z"
   },
   {
    "duration": 2045,
    "start_time": "2025-07-07T06:23:26.759Z"
   },
   {
    "duration": 112,
    "start_time": "2025-07-07T06:23:28.806Z"
   },
   {
    "duration": 17,
    "start_time": "2025-07-07T06:23:28.920Z"
   },
   {
    "duration": 52,
    "start_time": "2025-07-07T06:23:28.939Z"
   },
   {
    "duration": 10,
    "start_time": "2025-07-07T06:23:28.993Z"
   },
   {
    "duration": 13,
    "start_time": "2025-07-07T06:23:29.005Z"
   },
   {
    "duration": 9,
    "start_time": "2025-07-07T06:23:29.020Z"
   },
   {
    "duration": 79,
    "start_time": "2025-07-07T06:23:29.030Z"
   },
   {
    "duration": 12,
    "start_time": "2025-07-07T06:23:29.111Z"
   },
   {
    "duration": 83,
    "start_time": "2025-07-07T06:23:29.125Z"
   },
   {
    "duration": 884,
    "start_time": "2025-07-07T06:23:29.210Z"
   },
   {
    "duration": 50,
    "start_time": "2025-07-07T06:23:30.096Z"
   },
   {
    "duration": 816,
    "start_time": "2025-07-07T06:23:30.161Z"
   },
   {
    "duration": 140,
    "start_time": "2025-07-07T06:23:30.979Z"
   },
   {
    "duration": 111,
    "start_time": "2025-07-07T06:23:31.122Z"
   },
   {
    "duration": 23,
    "start_time": "2025-07-07T06:23:31.235Z"
   },
   {
    "duration": 466,
    "start_time": "2025-07-07T06:23:31.260Z"
   },
   {
    "duration": 284,
    "start_time": "2025-07-07T06:23:31.727Z"
   },
   {
    "duration": 292,
    "start_time": "2025-07-07T06:23:32.012Z"
   },
   {
    "duration": 4,
    "start_time": "2025-07-07T06:23:32.306Z"
   },
   {
    "duration": 247,
    "start_time": "2025-07-07T06:23:32.312Z"
   },
   {
    "duration": 85,
    "start_time": "2025-07-07T06:23:32.561Z"
   },
   {
    "duration": 94,
    "start_time": "2025-07-07T06:23:32.647Z"
   },
   {
    "duration": 23,
    "start_time": "2025-07-07T06:23:32.743Z"
   },
   {
    "duration": 17,
    "start_time": "2025-07-07T06:23:32.769Z"
   },
   {
    "duration": 5411,
    "start_time": "2025-07-07T06:23:32.788Z"
   },
   {
    "duration": 1993,
    "start_time": "2025-07-07T06:23:38.200Z"
   },
   {
    "duration": 0,
    "start_time": "2025-07-07T06:23:40.195Z"
   },
   {
    "duration": 0,
    "start_time": "2025-07-07T06:23:40.196Z"
   },
   {
    "duration": 0,
    "start_time": "2025-07-07T06:23:40.197Z"
   },
   {
    "duration": 0,
    "start_time": "2025-07-07T06:23:40.198Z"
   },
   {
    "duration": 0,
    "start_time": "2025-07-07T06:23:40.199Z"
   },
   {
    "duration": 0,
    "start_time": "2025-07-07T06:23:40.200Z"
   },
   {
    "duration": 0,
    "start_time": "2025-07-07T06:23:40.201Z"
   },
   {
    "duration": 0,
    "start_time": "2025-07-07T06:23:40.202Z"
   },
   {
    "duration": 0,
    "start_time": "2025-07-07T06:23:40.203Z"
   },
   {
    "duration": 0,
    "start_time": "2025-07-07T06:23:40.204Z"
   },
   {
    "duration": 1503,
    "start_time": "2025-07-07T06:24:22.646Z"
   },
   {
    "duration": 3350,
    "start_time": "2025-07-07T06:24:24.152Z"
   },
   {
    "duration": 102,
    "start_time": "2025-07-07T06:24:27.503Z"
   },
   {
    "duration": 19,
    "start_time": "2025-07-07T06:24:27.607Z"
   },
   {
    "duration": 36,
    "start_time": "2025-07-07T06:24:27.629Z"
   },
   {
    "duration": 16,
    "start_time": "2025-07-07T06:24:27.667Z"
   },
   {
    "duration": 19,
    "start_time": "2025-07-07T06:24:27.685Z"
   },
   {
    "duration": 8,
    "start_time": "2025-07-07T06:24:27.706Z"
   },
   {
    "duration": 65,
    "start_time": "2025-07-07T06:24:27.716Z"
   },
   {
    "duration": 12,
    "start_time": "2025-07-07T06:24:27.782Z"
   },
   {
    "duration": 87,
    "start_time": "2025-07-07T06:24:27.796Z"
   },
   {
    "duration": 822,
    "start_time": "2025-07-07T06:24:27.885Z"
   },
   {
    "duration": 62,
    "start_time": "2025-07-07T06:24:28.709Z"
   },
   {
    "duration": 852,
    "start_time": "2025-07-07T06:24:28.775Z"
   },
   {
    "duration": 132,
    "start_time": "2025-07-07T06:24:29.628Z"
   },
   {
    "duration": 107,
    "start_time": "2025-07-07T06:24:29.764Z"
   },
   {
    "duration": 15,
    "start_time": "2025-07-07T06:24:29.874Z"
   },
   {
    "duration": 389,
    "start_time": "2025-07-07T06:24:29.891Z"
   },
   {
    "duration": 301,
    "start_time": "2025-07-07T06:24:30.282Z"
   },
   {
    "duration": 303,
    "start_time": "2025-07-07T06:24:30.585Z"
   },
   {
    "duration": 4,
    "start_time": "2025-07-07T06:24:30.890Z"
   },
   {
    "duration": 202,
    "start_time": "2025-07-07T06:24:30.895Z"
   },
   {
    "duration": 76,
    "start_time": "2025-07-07T06:24:31.098Z"
   },
   {
    "duration": 15,
    "start_time": "2025-07-07T06:24:31.177Z"
   },
   {
    "duration": 19,
    "start_time": "2025-07-07T06:24:31.193Z"
   },
   {
    "duration": 126,
    "start_time": "2025-07-07T06:24:31.214Z"
   },
   {
    "duration": 5618,
    "start_time": "2025-07-07T06:24:31.341Z"
   },
   {
    "duration": 2037,
    "start_time": "2025-07-07T06:24:36.961Z"
   },
   {
    "duration": 0,
    "start_time": "2025-07-07T06:24:38.999Z"
   },
   {
    "duration": 0,
    "start_time": "2025-07-07T06:24:39.000Z"
   },
   {
    "duration": 0,
    "start_time": "2025-07-07T06:24:39.001Z"
   },
   {
    "duration": 0,
    "start_time": "2025-07-07T06:24:39.002Z"
   },
   {
    "duration": 0,
    "start_time": "2025-07-07T06:24:39.003Z"
   },
   {
    "duration": 0,
    "start_time": "2025-07-07T06:24:39.003Z"
   },
   {
    "duration": 0,
    "start_time": "2025-07-07T06:24:39.005Z"
   },
   {
    "duration": 0,
    "start_time": "2025-07-07T06:24:39.006Z"
   },
   {
    "duration": 0,
    "start_time": "2025-07-07T06:24:39.007Z"
   },
   {
    "duration": 0,
    "start_time": "2025-07-07T06:24:39.008Z"
   },
   {
    "duration": 1463,
    "start_time": "2025-07-07T06:24:52.222Z"
   },
   {
    "duration": 1600,
    "start_time": "2025-07-07T06:24:53.687Z"
   },
   {
    "duration": 132,
    "start_time": "2025-07-07T06:24:55.289Z"
   },
   {
    "duration": 18,
    "start_time": "2025-07-07T06:24:55.422Z"
   },
   {
    "duration": 31,
    "start_time": "2025-07-07T06:24:55.442Z"
   },
   {
    "duration": 82,
    "start_time": "2025-07-07T06:24:55.475Z"
   },
   {
    "duration": 16,
    "start_time": "2025-07-07T06:24:55.559Z"
   },
   {
    "duration": 23,
    "start_time": "2025-07-07T06:24:55.577Z"
   },
   {
    "duration": 43,
    "start_time": "2025-07-07T06:24:55.601Z"
   },
   {
    "duration": 20,
    "start_time": "2025-07-07T06:24:55.646Z"
   },
   {
    "duration": 92,
    "start_time": "2025-07-07T06:24:55.668Z"
   },
   {
    "duration": 850,
    "start_time": "2025-07-07T06:24:55.762Z"
   },
   {
    "duration": 68,
    "start_time": "2025-07-07T06:24:56.614Z"
   },
   {
    "duration": 839,
    "start_time": "2025-07-07T06:24:56.685Z"
   },
   {
    "duration": 147,
    "start_time": "2025-07-07T06:24:57.525Z"
   },
   {
    "duration": 117,
    "start_time": "2025-07-07T06:24:57.675Z"
   },
   {
    "duration": 12,
    "start_time": "2025-07-07T06:24:57.794Z"
   },
   {
    "duration": 326,
    "start_time": "2025-07-07T06:24:57.807Z"
   },
   {
    "duration": 274,
    "start_time": "2025-07-07T06:24:58.135Z"
   },
   {
    "duration": 292,
    "start_time": "2025-07-07T06:24:58.411Z"
   },
   {
    "duration": 4,
    "start_time": "2025-07-07T06:24:58.704Z"
   },
   {
    "duration": 188,
    "start_time": "2025-07-07T06:24:58.710Z"
   },
   {
    "duration": 77,
    "start_time": "2025-07-07T06:24:58.899Z"
   },
   {
    "duration": 63,
    "start_time": "2025-07-07T06:24:58.978Z"
   },
   {
    "duration": 18,
    "start_time": "2025-07-07T06:24:59.042Z"
   },
   {
    "duration": 24,
    "start_time": "2025-07-07T06:24:59.063Z"
   },
   {
    "duration": 5814,
    "start_time": "2025-07-07T06:24:59.089Z"
   },
   {
    "duration": 4428,
    "start_time": "2025-07-07T06:25:04.905Z"
   },
   {
    "duration": 48,
    "start_time": "2025-07-07T06:25:09.334Z"
   },
   {
    "duration": 6656,
    "start_time": "2025-07-07T06:25:09.384Z"
   },
   {
    "duration": 166,
    "start_time": "2025-07-07T06:25:16.042Z"
   },
   {
    "duration": 378,
    "start_time": "2025-07-07T06:25:16.209Z"
   },
   {
    "duration": 337,
    "start_time": "2025-07-07T06:25:16.589Z"
   },
   {
    "duration": 188,
    "start_time": "2025-07-07T06:25:16.928Z"
   },
   {
    "duration": 221,
    "start_time": "2025-07-07T06:25:17.118Z"
   },
   {
    "duration": 202,
    "start_time": "2025-07-07T06:25:17.340Z"
   },
   {
    "duration": 66,
    "start_time": "2025-07-07T06:25:17.543Z"
   },
   {
    "duration": 201,
    "start_time": "2025-07-07T06:25:17.611Z"
   },
   {
    "duration": 96,
    "start_time": "2025-07-07T08:29:18.184Z"
   },
   {
    "duration": 184,
    "start_time": "2025-07-07T08:30:07.215Z"
   },
   {
    "duration": 68,
    "start_time": "2025-07-07T08:30:57.206Z"
   },
   {
    "duration": 63,
    "start_time": "2025-07-07T08:31:10.318Z"
   },
   {
    "duration": 65,
    "start_time": "2025-07-07T08:31:21.806Z"
   },
   {
    "duration": 68,
    "start_time": "2025-07-07T08:34:30.427Z"
   },
   {
    "duration": 69,
    "start_time": "2025-07-07T08:34:42.931Z"
   },
   {
    "duration": 71,
    "start_time": "2025-07-07T08:36:22.936Z"
   },
   {
    "duration": 72,
    "start_time": "2025-07-07T08:40:56.884Z"
   },
   {
    "duration": 82,
    "start_time": "2025-07-07T08:42:12.372Z"
   },
   {
    "duration": 70,
    "start_time": "2025-07-07T08:47:51.125Z"
   },
   {
    "duration": 748,
    "start_time": "2025-07-07T08:47:55.160Z"
   },
   {
    "duration": 4,
    "start_time": "2025-07-07T08:48:25.614Z"
   },
   {
    "duration": 546,
    "start_time": "2025-07-07T08:50:38.331Z"
   },
   {
    "duration": 11,
    "start_time": "2025-07-07T08:51:07.003Z"
   },
   {
    "duration": 301,
    "start_time": "2025-07-07T08:51:18.794Z"
   },
   {
    "duration": 297,
    "start_time": "2025-07-07T08:51:23.578Z"
   },
   {
    "duration": 296,
    "start_time": "2025-07-07T08:51:28.738Z"
   },
   {
    "duration": 302,
    "start_time": "2025-07-07T08:51:36.802Z"
   },
   {
    "duration": 3,
    "start_time": "2025-07-07T08:52:10.225Z"
   },
   {
    "duration": 18,
    "start_time": "2025-07-07T08:53:21.993Z"
   },
   {
    "duration": 329,
    "start_time": "2025-07-07T08:53:29.073Z"
   },
   {
    "duration": 299,
    "start_time": "2025-07-07T08:53:49.396Z"
   },
   {
    "duration": 287,
    "start_time": "2025-07-07T08:54:15.743Z"
   },
   {
    "duration": 4,
    "start_time": "2025-07-07T08:55:36.518Z"
   },
   {
    "duration": 9,
    "start_time": "2025-07-07T09:04:13.317Z"
   },
   {
    "duration": 18,
    "start_time": "2025-07-07T09:04:19.213Z"
   },
   {
    "duration": 17,
    "start_time": "2025-07-07T09:06:56.523Z"
   },
   {
    "duration": 16,
    "start_time": "2025-07-07T09:07:19.635Z"
   },
   {
    "duration": 20,
    "start_time": "2025-07-07T09:09:19.856Z"
   },
   {
    "duration": 16,
    "start_time": "2025-07-07T09:09:34.327Z"
   },
   {
    "duration": 19,
    "start_time": "2025-07-07T09:10:33.583Z"
   },
   {
    "duration": 26,
    "start_time": "2025-07-07T09:10:41.743Z"
   },
   {
    "duration": 29,
    "start_time": "2025-07-07T09:10:57.687Z"
   },
   {
    "duration": 232,
    "start_time": "2025-07-07T09:13:58.892Z"
   },
   {
    "duration": 206,
    "start_time": "2025-07-07T09:18:02.112Z"
   },
   {
    "duration": 241,
    "start_time": "2025-07-07T09:18:03.719Z"
   },
   {
    "duration": 252,
    "start_time": "2025-07-07T09:18:05.544Z"
   },
   {
    "duration": 325,
    "start_time": "2025-07-07T09:34:25.505Z"
   },
   {
    "duration": 342,
    "start_time": "2025-07-07T09:34:37.736Z"
   },
   {
    "duration": 50,
    "start_time": "2025-07-08T03:03:25.383Z"
   },
   {
    "duration": 1675,
    "start_time": "2025-07-08T03:03:32.234Z"
   },
   {
    "duration": 2167,
    "start_time": "2025-07-08T03:03:33.911Z"
   },
   {
    "duration": 103,
    "start_time": "2025-07-08T03:03:36.080Z"
   },
   {
    "duration": 21,
    "start_time": "2025-07-08T03:03:36.186Z"
   },
   {
    "duration": 21,
    "start_time": "2025-07-08T03:03:36.209Z"
   },
   {
    "duration": 65,
    "start_time": "2025-07-08T03:03:36.232Z"
   },
   {
    "duration": 10,
    "start_time": "2025-07-08T03:03:36.299Z"
   },
   {
    "duration": 14,
    "start_time": "2025-07-08T03:03:36.311Z"
   },
   {
    "duration": 48,
    "start_time": "2025-07-08T03:03:36.326Z"
   },
   {
    "duration": 11,
    "start_time": "2025-07-08T03:03:36.377Z"
   },
   {
    "duration": 83,
    "start_time": "2025-07-08T03:03:36.389Z"
   },
   {
    "duration": 783,
    "start_time": "2025-07-08T03:03:36.474Z"
   },
   {
    "duration": 59,
    "start_time": "2025-07-08T03:03:37.259Z"
   },
   {
    "duration": 784,
    "start_time": "2025-07-08T03:03:37.319Z"
   },
   {
    "duration": 138,
    "start_time": "2025-07-08T03:03:38.105Z"
   },
   {
    "duration": 97,
    "start_time": "2025-07-08T03:03:38.244Z"
   },
   {
    "duration": 14,
    "start_time": "2025-07-08T03:03:38.342Z"
   },
   {
    "duration": 375,
    "start_time": "2025-07-08T03:03:38.358Z"
   },
   {
    "duration": 289,
    "start_time": "2025-07-08T03:03:38.735Z"
   },
   {
    "duration": 314,
    "start_time": "2025-07-08T03:03:39.026Z"
   },
   {
    "duration": 4,
    "start_time": "2025-07-08T03:03:39.342Z"
   },
   {
    "duration": 196,
    "start_time": "2025-07-08T03:03:39.347Z"
   },
   {
    "duration": 76,
    "start_time": "2025-07-08T03:03:39.545Z"
   },
   {
    "duration": 42,
    "start_time": "2025-07-08T03:03:39.624Z"
   },
   {
    "duration": 43,
    "start_time": "2025-07-08T03:03:39.668Z"
   },
   {
    "duration": 21,
    "start_time": "2025-07-08T03:03:39.713Z"
   },
   {
    "duration": 5375,
    "start_time": "2025-07-08T03:03:39.736Z"
   },
   {
    "duration": 4358,
    "start_time": "2025-07-08T03:03:45.116Z"
   },
   {
    "duration": 42,
    "start_time": "2025-07-08T03:03:49.476Z"
   },
   {
    "duration": 6236,
    "start_time": "2025-07-08T03:03:49.520Z"
   },
   {
    "duration": 144,
    "start_time": "2025-07-08T03:03:55.758Z"
   },
   {
    "duration": 386,
    "start_time": "2025-07-08T03:03:55.904Z"
   },
   {
    "duration": 314,
    "start_time": "2025-07-08T03:03:56.291Z"
   },
   {
    "duration": 189,
    "start_time": "2025-07-08T03:03:56.607Z"
   },
   {
    "duration": 216,
    "start_time": "2025-07-08T03:03:56.798Z"
   },
   {
    "duration": 195,
    "start_time": "2025-07-08T03:03:57.016Z"
   },
   {
    "duration": 75,
    "start_time": "2025-07-08T03:03:57.212Z"
   },
   {
    "duration": 195,
    "start_time": "2025-07-08T03:03:57.289Z"
   },
   {
    "duration": 117,
    "start_time": "2025-07-08T03:03:57.486Z"
   },
   {
    "duration": 303,
    "start_time": "2025-07-08T03:03:57.605Z"
   },
   {
    "duration": 312,
    "start_time": "2025-07-08T03:03:57.909Z"
   },
   {
    "duration": 323,
    "start_time": "2025-07-08T03:03:58.223Z"
   },
   {
    "duration": 312,
    "start_time": "2025-07-08T03:03:58.547Z"
   },
   {
    "duration": 26,
    "start_time": "2025-07-08T03:03:58.860Z"
   },
   {
    "duration": 200,
    "start_time": "2025-07-08T03:03:58.887Z"
   },
   {
    "duration": 185,
    "start_time": "2025-07-08T03:03:59.089Z"
   },
   {
    "duration": 216,
    "start_time": "2025-07-08T03:03:59.276Z"
   },
   {
    "duration": 213,
    "start_time": "2025-07-08T03:03:59.494Z"
   },
   {
    "duration": 84,
    "start_time": "2025-07-08T03:03:59.709Z"
   },
   {
    "duration": 66,
    "start_time": "2025-07-08T03:04:56.621Z"
   },
   {
    "duration": 70,
    "start_time": "2025-07-08T03:05:09.916Z"
   },
   {
    "duration": 68,
    "start_time": "2025-07-08T03:05:23.836Z"
   },
   {
    "duration": 69,
    "start_time": "2025-07-08T03:20:53.732Z"
   },
   {
    "duration": 77,
    "start_time": "2025-07-08T03:21:05.068Z"
   },
   {
    "duration": 74,
    "start_time": "2025-07-08T03:34:17.255Z"
   },
   {
    "duration": 100,
    "start_time": "2025-07-08T03:39:02.651Z"
   },
   {
    "duration": 73,
    "start_time": "2025-07-08T03:39:10.082Z"
   },
   {
    "duration": 73,
    "start_time": "2025-07-08T03:39:48.234Z"
   },
   {
    "duration": 79,
    "start_time": "2025-07-08T03:40:34.890Z"
   },
   {
    "duration": 79,
    "start_time": "2025-07-08T03:41:38.816Z"
   },
   {
    "duration": 73,
    "start_time": "2025-07-08T03:41:58.632Z"
   },
   {
    "duration": 87,
    "start_time": "2025-07-08T03:44:01.262Z"
   },
   {
    "duration": 73,
    "start_time": "2025-07-08T03:44:06.302Z"
   },
   {
    "duration": 208,
    "start_time": "2025-07-08T03:49:05.265Z"
   },
   {
    "duration": 73,
    "start_time": "2025-07-08T03:49:15.704Z"
   },
   {
    "duration": 88,
    "start_time": "2025-07-08T03:49:16.736Z"
   },
   {
    "duration": 79,
    "start_time": "2025-07-08T03:54:13.243Z"
   },
   {
    "duration": 105,
    "start_time": "2025-07-08T03:54:17.621Z"
   },
   {
    "duration": 73,
    "start_time": "2025-07-08T03:54:46.651Z"
   },
   {
    "duration": 79,
    "start_time": "2025-07-08T03:54:51.780Z"
   },
   {
    "duration": 89,
    "start_time": "2025-07-08T03:55:08.091Z"
   },
   {
    "duration": 73,
    "start_time": "2025-07-08T05:48:13.068Z"
   },
   {
    "duration": 75,
    "start_time": "2025-07-08T05:50:46.120Z"
   },
   {
    "duration": 496,
    "start_time": "2025-07-08T06:03:09.901Z"
   },
   {
    "duration": 13,
    "start_time": "2025-07-08T06:14:54.250Z"
   },
   {
    "duration": 22,
    "start_time": "2025-07-08T06:15:28.353Z"
   },
   {
    "duration": 15,
    "start_time": "2025-07-08T06:15:53.728Z"
   },
   {
    "duration": 73,
    "start_time": "2025-07-08T06:20:52.539Z"
   },
   {
    "duration": 9,
    "start_time": "2025-07-08T06:26:44.942Z"
   },
   {
    "duration": 11,
    "start_time": "2025-07-08T06:29:58.100Z"
   },
   {
    "duration": 94,
    "start_time": "2025-07-08T06:36:36.957Z"
   },
   {
    "duration": 1398,
    "start_time": "2025-07-08T06:36:42.652Z"
   },
   {
    "duration": 2213,
    "start_time": "2025-07-08T06:36:44.052Z"
   },
   {
    "duration": 104,
    "start_time": "2025-07-08T06:36:46.267Z"
   },
   {
    "duration": 20,
    "start_time": "2025-07-08T06:36:46.372Z"
   },
   {
    "duration": 30,
    "start_time": "2025-07-08T06:36:46.394Z"
   },
   {
    "duration": 12,
    "start_time": "2025-07-08T06:36:46.425Z"
   },
   {
    "duration": 33,
    "start_time": "2025-07-08T06:36:46.438Z"
   },
   {
    "duration": 10,
    "start_time": "2025-07-08T06:36:46.473Z"
   },
   {
    "duration": 46,
    "start_time": "2025-07-08T06:36:46.485Z"
   },
   {
    "duration": 39,
    "start_time": "2025-07-08T06:36:46.532Z"
   },
   {
    "duration": 73,
    "start_time": "2025-07-08T06:36:46.574Z"
   },
   {
    "duration": 822,
    "start_time": "2025-07-08T06:36:46.649Z"
   },
   {
    "duration": 53,
    "start_time": "2025-07-08T06:36:47.473Z"
   },
   {
    "duration": 783,
    "start_time": "2025-07-08T06:36:47.529Z"
   },
   {
    "duration": 143,
    "start_time": "2025-07-08T06:36:48.314Z"
   },
   {
    "duration": 101,
    "start_time": "2025-07-08T06:36:48.459Z"
   },
   {
    "duration": 17,
    "start_time": "2025-07-08T06:36:48.562Z"
   },
   {
    "duration": 352,
    "start_time": "2025-07-08T06:36:48.580Z"
   },
   {
    "duration": 282,
    "start_time": "2025-07-08T06:36:48.933Z"
   },
   {
    "duration": 303,
    "start_time": "2025-07-08T06:36:49.217Z"
   },
   {
    "duration": 4,
    "start_time": "2025-07-08T06:36:49.521Z"
   },
   {
    "duration": 189,
    "start_time": "2025-07-08T06:36:49.527Z"
   },
   {
    "duration": 79,
    "start_time": "2025-07-08T06:36:49.718Z"
   },
   {
    "duration": 30,
    "start_time": "2025-07-08T06:36:49.799Z"
   },
   {
    "duration": 19,
    "start_time": "2025-07-08T06:36:49.831Z"
   },
   {
    "duration": 24,
    "start_time": "2025-07-08T06:36:49.852Z"
   },
   {
    "duration": 5482,
    "start_time": "2025-07-08T06:36:49.878Z"
   },
   {
    "duration": 4378,
    "start_time": "2025-07-08T06:36:55.363Z"
   },
   {
    "duration": 48,
    "start_time": "2025-07-08T06:36:59.743Z"
   },
   {
    "duration": 6435,
    "start_time": "2025-07-08T06:36:59.792Z"
   },
   {
    "duration": 145,
    "start_time": "2025-07-08T06:37:06.228Z"
   },
   {
    "duration": 357,
    "start_time": "2025-07-08T06:37:06.374Z"
   },
   {
    "duration": 323,
    "start_time": "2025-07-08T06:37:06.733Z"
   },
   {
    "duration": 180,
    "start_time": "2025-07-08T06:37:07.058Z"
   },
   {
    "duration": 211,
    "start_time": "2025-07-08T06:37:07.240Z"
   },
   {
    "duration": 209,
    "start_time": "2025-07-08T06:37:07.452Z"
   },
   {
    "duration": 66,
    "start_time": "2025-07-08T06:37:07.663Z"
   },
   {
    "duration": 232,
    "start_time": "2025-07-08T06:37:07.731Z"
   },
   {
    "duration": 114,
    "start_time": "2025-07-08T06:37:07.965Z"
   },
   {
    "duration": 321,
    "start_time": "2025-07-08T06:37:08.081Z"
   },
   {
    "duration": 332,
    "start_time": "2025-07-08T06:37:08.406Z"
   },
   {
    "duration": 335,
    "start_time": "2025-07-08T06:37:08.740Z"
   },
   {
    "duration": 305,
    "start_time": "2025-07-08T06:37:09.076Z"
   },
   {
    "duration": 21,
    "start_time": "2025-07-08T06:37:09.384Z"
   },
   {
    "duration": 227,
    "start_time": "2025-07-08T06:37:09.407Z"
   },
   {
    "duration": 200,
    "start_time": "2025-07-08T06:37:09.635Z"
   },
   {
    "duration": 217,
    "start_time": "2025-07-08T06:37:09.837Z"
   },
   {
    "duration": 213,
    "start_time": "2025-07-08T06:37:10.056Z"
   },
   {
    "duration": 80,
    "start_time": "2025-07-08T06:37:10.271Z"
   },
   {
    "duration": 99,
    "start_time": "2025-07-08T06:37:10.352Z"
   },
   {
    "duration": 93,
    "start_time": "2025-07-08T06:37:10.453Z"
   },
   {
    "duration": 29,
    "start_time": "2025-07-08T06:37:10.547Z"
   },
   {
    "duration": 94,
    "start_time": "2025-07-08T06:37:10.578Z"
   },
   {
    "duration": 8,
    "start_time": "2025-07-08T06:37:10.673Z"
   },
   {
    "duration": 609,
    "start_time": "2025-07-08T12:03:17.232Z"
   },
   {
    "duration": 0,
    "start_time": "2025-07-08T12:03:17.846Z"
   },
   {
    "duration": 0,
    "start_time": "2025-07-08T12:03:17.847Z"
   },
   {
    "duration": 0,
    "start_time": "2025-07-08T12:03:17.850Z"
   },
   {
    "duration": 0,
    "start_time": "2025-07-08T12:03:17.852Z"
   },
   {
    "duration": 0,
    "start_time": "2025-07-08T12:03:17.853Z"
   },
   {
    "duration": 0,
    "start_time": "2025-07-08T12:03:17.855Z"
   },
   {
    "duration": 0,
    "start_time": "2025-07-08T12:03:17.856Z"
   },
   {
    "duration": 0,
    "start_time": "2025-07-08T12:03:17.858Z"
   },
   {
    "duration": 0,
    "start_time": "2025-07-08T12:03:17.861Z"
   },
   {
    "duration": 0,
    "start_time": "2025-07-08T12:03:17.862Z"
   },
   {
    "duration": 0,
    "start_time": "2025-07-08T12:03:17.863Z"
   },
   {
    "duration": 0,
    "start_time": "2025-07-08T12:03:17.864Z"
   },
   {
    "duration": 0,
    "start_time": "2025-07-08T12:03:17.866Z"
   },
   {
    "duration": 0,
    "start_time": "2025-07-08T12:03:17.867Z"
   },
   {
    "duration": 0,
    "start_time": "2025-07-08T12:03:17.869Z"
   },
   {
    "duration": 0,
    "start_time": "2025-07-08T12:03:17.871Z"
   },
   {
    "duration": 0,
    "start_time": "2025-07-08T12:03:17.871Z"
   },
   {
    "duration": 0,
    "start_time": "2025-07-08T12:03:17.872Z"
   },
   {
    "duration": 0,
    "start_time": "2025-07-08T12:03:17.873Z"
   },
   {
    "duration": 0,
    "start_time": "2025-07-08T12:03:17.874Z"
   },
   {
    "duration": 0,
    "start_time": "2025-07-08T12:03:17.875Z"
   },
   {
    "duration": 0,
    "start_time": "2025-07-08T12:03:17.876Z"
   },
   {
    "duration": 0,
    "start_time": "2025-07-08T12:03:17.877Z"
   },
   {
    "duration": 0,
    "start_time": "2025-07-08T12:03:17.878Z"
   },
   {
    "duration": 0,
    "start_time": "2025-07-08T12:03:17.879Z"
   },
   {
    "duration": 0,
    "start_time": "2025-07-08T12:03:17.880Z"
   },
   {
    "duration": 0,
    "start_time": "2025-07-08T12:03:17.881Z"
   },
   {
    "duration": 0,
    "start_time": "2025-07-08T12:03:17.938Z"
   },
   {
    "duration": 0,
    "start_time": "2025-07-08T12:03:17.940Z"
   },
   {
    "duration": 0,
    "start_time": "2025-07-08T12:03:17.941Z"
   },
   {
    "duration": 0,
    "start_time": "2025-07-08T12:03:17.945Z"
   },
   {
    "duration": 0,
    "start_time": "2025-07-08T12:03:17.947Z"
   },
   {
    "duration": 12,
    "start_time": "2025-07-08T12:03:21.817Z"
   },
   {
    "duration": 0,
    "start_time": "2025-07-08T12:03:21.831Z"
   },
   {
    "duration": 0,
    "start_time": "2025-07-08T12:03:21.832Z"
   },
   {
    "duration": 0,
    "start_time": "2025-07-08T12:03:21.833Z"
   },
   {
    "duration": 0,
    "start_time": "2025-07-08T12:03:21.834Z"
   },
   {
    "duration": 0,
    "start_time": "2025-07-08T12:03:21.836Z"
   },
   {
    "duration": 0,
    "start_time": "2025-07-08T12:03:21.837Z"
   },
   {
    "duration": 0,
    "start_time": "2025-07-08T12:03:21.839Z"
   },
   {
    "duration": 34,
    "start_time": "2025-07-08T12:03:21.842Z"
   },
   {
    "duration": 0,
    "start_time": "2025-07-08T12:03:21.878Z"
   },
   {
    "duration": 0,
    "start_time": "2025-07-08T12:03:21.879Z"
   },
   {
    "duration": 0,
    "start_time": "2025-07-08T12:03:21.880Z"
   },
   {
    "duration": 0,
    "start_time": "2025-07-08T12:03:21.882Z"
   },
   {
    "duration": 0,
    "start_time": "2025-07-08T12:03:21.883Z"
   },
   {
    "duration": 0,
    "start_time": "2025-07-08T12:03:21.884Z"
   },
   {
    "duration": 0,
    "start_time": "2025-07-08T12:03:21.885Z"
   },
   {
    "duration": 0,
    "start_time": "2025-07-08T12:03:21.886Z"
   },
   {
    "duration": 0,
    "start_time": "2025-07-08T12:03:21.887Z"
   },
   {
    "duration": 0,
    "start_time": "2025-07-08T12:03:21.888Z"
   },
   {
    "duration": 0,
    "start_time": "2025-07-08T12:03:21.889Z"
   },
   {
    "duration": 0,
    "start_time": "2025-07-08T12:03:21.890Z"
   },
   {
    "duration": 0,
    "start_time": "2025-07-08T12:03:21.891Z"
   },
   {
    "duration": 19,
    "start_time": "2025-07-08T12:03:21.952Z"
   },
   {
    "duration": 0,
    "start_time": "2025-07-08T12:03:21.973Z"
   },
   {
    "duration": 0,
    "start_time": "2025-07-08T12:03:21.974Z"
   },
   {
    "duration": 0,
    "start_time": "2025-07-08T12:03:21.975Z"
   },
   {
    "duration": 0,
    "start_time": "2025-07-08T12:03:21.976Z"
   },
   {
    "duration": 0,
    "start_time": "2025-07-08T12:03:21.977Z"
   },
   {
    "duration": 0,
    "start_time": "2025-07-08T12:03:21.978Z"
   },
   {
    "duration": 0,
    "start_time": "2025-07-08T12:03:21.979Z"
   },
   {
    "duration": 0,
    "start_time": "2025-07-08T12:03:21.980Z"
   },
   {
    "duration": 0,
    "start_time": "2025-07-08T12:03:21.981Z"
   },
   {
    "duration": 578,
    "start_time": "2025-07-08T12:03:42.228Z"
   },
   {
    "duration": 6928,
    "start_time": "2025-07-08T12:03:58.851Z"
   },
   {
    "duration": 18,
    "start_time": "2025-07-08T12:04:10.757Z"
   },
   {
    "duration": 3461,
    "start_time": "2025-07-08T12:04:20.602Z"
   },
   {
    "duration": 3,
    "start_time": "2025-07-08T12:04:35.775Z"
   },
   {
    "duration": 1761,
    "start_time": "2025-07-08T12:04:35.780Z"
   },
   {
    "duration": 95,
    "start_time": "2025-07-08T12:04:37.543Z"
   },
   {
    "duration": 21,
    "start_time": "2025-07-08T12:04:37.640Z"
   },
   {
    "duration": 97,
    "start_time": "2025-07-08T12:04:37.663Z"
   },
   {
    "duration": 133,
    "start_time": "2025-07-08T12:04:37.762Z"
   },
   {
    "duration": 15,
    "start_time": "2025-07-08T12:04:37.897Z"
   },
   {
    "duration": 10,
    "start_time": "2025-07-08T12:04:37.913Z"
   },
   {
    "duration": 48,
    "start_time": "2025-07-08T12:04:37.924Z"
   },
   {
    "duration": 12,
    "start_time": "2025-07-08T12:04:37.973Z"
   },
   {
    "duration": 90,
    "start_time": "2025-07-08T12:04:37.987Z"
   },
   {
    "duration": 1686,
    "start_time": "2025-07-08T12:04:38.079Z"
   },
   {
    "duration": 47,
    "start_time": "2025-07-08T12:04:39.767Z"
   },
   {
    "duration": 1421,
    "start_time": "2025-07-08T12:04:39.816Z"
   },
   {
    "duration": 69,
    "start_time": "2025-07-08T12:04:41.239Z"
   },
   {
    "duration": 73,
    "start_time": "2025-07-08T12:04:41.310Z"
   },
   {
    "duration": 88,
    "start_time": "2025-07-08T12:04:41.384Z"
   },
   {
    "duration": 12,
    "start_time": "2025-07-08T12:04:41.474Z"
   },
   {
    "duration": 319,
    "start_time": "2025-07-08T12:04:41.487Z"
   },
   {
    "duration": 273,
    "start_time": "2025-07-08T12:04:41.808Z"
   },
   {
    "duration": 304,
    "start_time": "2025-07-08T12:04:42.083Z"
   },
   {
    "duration": 4,
    "start_time": "2025-07-08T12:04:42.389Z"
   },
   {
    "duration": 323,
    "start_time": "2025-07-08T12:04:42.395Z"
   },
   {
    "duration": 65,
    "start_time": "2025-07-08T12:04:42.719Z"
   },
   {
    "duration": 14,
    "start_time": "2025-07-08T12:04:42.786Z"
   },
   {
    "duration": 41,
    "start_time": "2025-07-08T12:04:42.802Z"
   },
   {
    "duration": 11,
    "start_time": "2025-07-08T12:04:42.845Z"
   },
   {
    "duration": 5584,
    "start_time": "2025-07-08T12:04:42.857Z"
   },
   {
    "duration": 4463,
    "start_time": "2025-07-08T12:04:48.445Z"
   },
   {
    "duration": 49,
    "start_time": "2025-07-08T12:04:52.910Z"
   },
   {
    "duration": 6330,
    "start_time": "2025-07-08T12:04:52.960Z"
   },
   {
    "duration": 252,
    "start_time": "2025-07-08T12:04:59.292Z"
   },
   {
    "duration": 195,
    "start_time": "2025-07-08T12:04:59.546Z"
   },
   {
    "duration": 39,
    "start_time": "2025-07-08T12:05:11.280Z"
   },
   {
    "duration": 11,
    "start_time": "2025-07-08T12:05:12.944Z"
   },
   {
    "duration": 41,
    "start_time": "2025-07-08T12:05:35.440Z"
   },
   {
    "duration": 61,
    "start_time": "2025-07-08T12:05:39.125Z"
   },
   {
    "duration": 5,
    "start_time": "2025-07-08T12:05:46.928Z"
   },
   {
    "duration": 6,
    "start_time": "2025-07-08T12:05:51.611Z"
   },
   {
    "duration": 4,
    "start_time": "2025-07-08T12:06:00.104Z"
   },
   {
    "duration": 7,
    "start_time": "2025-07-08T12:06:02.311Z"
   },
   {
    "duration": 4,
    "start_time": "2025-07-08T12:06:59.704Z"
   },
   {
    "duration": 136,
    "start_time": "2025-07-08T12:07:48.972Z"
   },
   {
    "duration": 137,
    "start_time": "2025-07-08T12:08:08.442Z"
   },
   {
    "duration": 132,
    "start_time": "2025-07-08T12:08:15.949Z"
   },
   {
    "duration": 51,
    "start_time": "2025-07-08T12:08:39.764Z"
   },
   {
    "duration": 3266,
    "start_time": "2025-07-08T12:10:54.361Z"
   },
   {
    "duration": 1442,
    "start_time": "2025-07-08T12:10:57.629Z"
   },
   {
    "duration": 91,
    "start_time": "2025-07-08T12:10:59.073Z"
   },
   {
    "duration": 21,
    "start_time": "2025-07-08T12:10:59.166Z"
   },
   {
    "duration": 18,
    "start_time": "2025-07-08T12:10:59.189Z"
   },
   {
    "duration": 29,
    "start_time": "2025-07-08T12:10:59.209Z"
   },
   {
    "duration": 29,
    "start_time": "2025-07-08T12:10:59.240Z"
   },
   {
    "duration": 13,
    "start_time": "2025-07-08T12:10:59.271Z"
   },
   {
    "duration": 57,
    "start_time": "2025-07-08T12:10:59.286Z"
   },
   {
    "duration": 11,
    "start_time": "2025-07-08T12:10:59.344Z"
   },
   {
    "duration": 91,
    "start_time": "2025-07-08T12:10:59.357Z"
   },
   {
    "duration": 1523,
    "start_time": "2025-07-08T12:10:59.449Z"
   },
   {
    "duration": 64,
    "start_time": "2025-07-08T12:11:00.974Z"
   },
   {
    "duration": 1515,
    "start_time": "2025-07-08T12:11:01.041Z"
   },
   {
    "duration": 83,
    "start_time": "2025-07-08T12:11:02.558Z"
   },
   {
    "duration": 58,
    "start_time": "2025-07-08T12:11:02.643Z"
   },
   {
    "duration": 95,
    "start_time": "2025-07-08T12:11:02.703Z"
   },
   {
    "duration": 12,
    "start_time": "2025-07-08T12:11:02.800Z"
   },
   {
    "duration": 403,
    "start_time": "2025-07-08T12:11:02.814Z"
   },
   {
    "duration": 290,
    "start_time": "2025-07-08T12:11:03.219Z"
   },
   {
    "duration": 309,
    "start_time": "2025-07-08T12:11:03.510Z"
   },
   {
    "duration": 5,
    "start_time": "2025-07-08T12:11:03.821Z"
   },
   {
    "duration": 228,
    "start_time": "2025-07-08T12:11:03.827Z"
   },
   {
    "duration": 82,
    "start_time": "2025-07-08T12:11:04.056Z"
   },
   {
    "duration": 16,
    "start_time": "2025-07-08T12:11:04.140Z"
   },
   {
    "duration": 60,
    "start_time": "2025-07-08T12:11:04.159Z"
   },
   {
    "duration": 11,
    "start_time": "2025-07-08T12:11:04.221Z"
   },
   {
    "duration": 5594,
    "start_time": "2025-07-08T12:11:04.233Z"
   },
   {
    "duration": 4460,
    "start_time": "2025-07-08T12:11:09.828Z"
   },
   {
    "duration": 50,
    "start_time": "2025-07-08T12:11:14.289Z"
   },
   {
    "duration": 6172,
    "start_time": "2025-07-08T12:11:14.340Z"
   },
   {
    "duration": 279,
    "start_time": "2025-07-08T12:11:20.514Z"
   },
   {
    "duration": 208,
    "start_time": "2025-07-08T12:11:20.795Z"
   },
   {
    "duration": 58,
    "start_time": "2025-07-08T12:11:21.005Z"
   },
   {
    "duration": 139,
    "start_time": "2025-07-08T12:11:21.064Z"
   },
   {
    "duration": 134,
    "start_time": "2025-07-08T12:11:21.205Z"
   },
   {
    "duration": 0,
    "start_time": "2025-07-08T12:11:21.341Z"
   },
   {
    "duration": 0,
    "start_time": "2025-07-08T12:11:21.342Z"
   },
   {
    "duration": 0,
    "start_time": "2025-07-08T12:11:21.343Z"
   },
   {
    "duration": 16,
    "start_time": "2025-07-08T12:12:52.782Z"
   },
   {
    "duration": 16,
    "start_time": "2025-07-08T12:13:50.391Z"
   },
   {
    "duration": 430,
    "start_time": "2025-07-08T12:13:58.944Z"
   },
   {
    "duration": 53,
    "start_time": "2025-07-08T12:14:09.046Z"
   },
   {
    "duration": 416,
    "start_time": "2025-07-08T12:14:14.547Z"
   },
   {
    "duration": 274,
    "start_time": "2025-07-08T12:14:15.767Z"
   },
   {
    "duration": 389,
    "start_time": "2025-07-08T12:14:16.191Z"
   },
   {
    "duration": 283,
    "start_time": "2025-07-08T12:14:16.582Z"
   },
   {
    "duration": 330,
    "start_time": "2025-07-08T12:14:18.404Z"
   },
   {
    "duration": 371,
    "start_time": "2025-07-08T12:15:08.372Z"
   },
   {
    "duration": 14257,
    "start_time": "2025-07-09T03:14:08.394Z"
   },
   {
    "duration": 1547,
    "start_time": "2025-07-09T03:14:22.653Z"
   },
   {
    "duration": 2899,
    "start_time": "2025-07-09T03:14:24.201Z"
   },
   {
    "duration": 98,
    "start_time": "2025-07-09T03:14:27.102Z"
   },
   {
    "duration": 18,
    "start_time": "2025-07-09T03:14:27.203Z"
   },
   {
    "duration": 36,
    "start_time": "2025-07-09T03:14:27.223Z"
   },
   {
    "duration": 12,
    "start_time": "2025-07-09T03:14:27.261Z"
   },
   {
    "duration": 12,
    "start_time": "2025-07-09T03:14:27.274Z"
   },
   {
    "duration": 12,
    "start_time": "2025-07-09T03:14:27.288Z"
   },
   {
    "duration": 67,
    "start_time": "2025-07-09T03:14:27.302Z"
   },
   {
    "duration": 13,
    "start_time": "2025-07-09T03:14:27.370Z"
   },
   {
    "duration": 90,
    "start_time": "2025-07-09T03:14:27.385Z"
   },
   {
    "duration": 846,
    "start_time": "2025-07-09T03:14:27.477Z"
   },
   {
    "duration": 69,
    "start_time": "2025-07-09T03:14:28.326Z"
   },
   {
    "duration": 675,
    "start_time": "2025-07-09T03:14:28.396Z"
   },
   {
    "duration": 70,
    "start_time": "2025-07-09T03:14:29.072Z"
   },
   {
    "duration": 70,
    "start_time": "2025-07-09T03:14:29.144Z"
   },
   {
    "duration": 94,
    "start_time": "2025-07-09T03:14:29.216Z"
   },
   {
    "duration": 14,
    "start_time": "2025-07-09T03:14:29.311Z"
   },
   {
    "duration": 315,
    "start_time": "2025-07-09T03:14:29.326Z"
   },
   {
    "duration": 265,
    "start_time": "2025-07-09T03:14:29.643Z"
   },
   {
    "duration": 295,
    "start_time": "2025-07-09T03:14:29.909Z"
   },
   {
    "duration": 3,
    "start_time": "2025-07-09T03:14:30.206Z"
   },
   {
    "duration": 297,
    "start_time": "2025-07-09T03:14:30.211Z"
   },
   {
    "duration": 62,
    "start_time": "2025-07-09T03:14:30.509Z"
   },
   {
    "duration": 12,
    "start_time": "2025-07-09T03:14:30.573Z"
   },
   {
    "duration": 16,
    "start_time": "2025-07-09T03:14:30.587Z"
   },
   {
    "duration": 15,
    "start_time": "2025-07-09T03:14:30.605Z"
   },
   {
    "duration": 5307,
    "start_time": "2025-07-09T03:14:30.622Z"
   },
   {
    "duration": 4202,
    "start_time": "2025-07-09T03:14:35.931Z"
   },
   {
    "duration": 49,
    "start_time": "2025-07-09T03:14:40.135Z"
   },
   {
    "duration": 6076,
    "start_time": "2025-07-09T03:14:40.186Z"
   },
   {
    "duration": 142,
    "start_time": "2025-07-09T03:14:46.263Z"
   },
   {
    "duration": 195,
    "start_time": "2025-07-09T03:14:46.406Z"
   },
   {
    "duration": 59,
    "start_time": "2025-07-09T03:14:46.602Z"
   },
   {
    "duration": 129,
    "start_time": "2025-07-09T03:14:46.663Z"
   },
   {
    "duration": 308,
    "start_time": "2025-07-09T03:14:46.793Z"
   },
   {
    "duration": 180,
    "start_time": "2025-07-09T03:14:47.103Z"
   },
   {
    "duration": 202,
    "start_time": "2025-07-09T03:14:47.284Z"
   },
   {
    "duration": 185,
    "start_time": "2025-07-09T03:14:47.487Z"
   },
   {
    "duration": 221,
    "start_time": "2025-07-09T03:14:47.676Z"
   },
   {
    "duration": 66,
    "start_time": "2025-07-09T03:14:47.899Z"
   },
   {
    "duration": 188,
    "start_time": "2025-07-09T03:14:47.966Z"
   },
   {
    "duration": 114,
    "start_time": "2025-07-09T03:14:48.157Z"
   },
   {
    "duration": 300,
    "start_time": "2025-07-09T03:14:48.273Z"
   },
   {
    "duration": 313,
    "start_time": "2025-07-09T03:14:48.575Z"
   },
   {
    "duration": 302,
    "start_time": "2025-07-09T03:14:48.889Z"
   },
   {
    "duration": 289,
    "start_time": "2025-07-09T03:14:49.192Z"
   },
   {
    "duration": 18,
    "start_time": "2025-07-09T03:14:49.482Z"
   },
   {
    "duration": 192,
    "start_time": "2025-07-09T03:14:49.502Z"
   },
   {
    "duration": 187,
    "start_time": "2025-07-09T03:14:49.696Z"
   },
   {
    "duration": 197,
    "start_time": "2025-07-09T03:14:49.885Z"
   },
   {
    "duration": 198,
    "start_time": "2025-07-09T03:14:50.083Z"
   },
   {
    "duration": 89,
    "start_time": "2025-07-09T03:14:50.282Z"
   },
   {
    "duration": 94,
    "start_time": "2025-07-09T03:14:50.372Z"
   },
   {
    "duration": 91,
    "start_time": "2025-07-09T03:14:50.467Z"
   },
   {
    "duration": 11,
    "start_time": "2025-07-09T03:14:50.560Z"
   },
   {
    "duration": 112,
    "start_time": "2025-07-09T03:14:50.573Z"
   },
   {
    "duration": 8,
    "start_time": "2025-07-09T03:14:50.687Z"
   },
   {
    "duration": 138,
    "start_time": "2025-07-09T03:15:50.069Z"
   },
   {
    "duration": 216,
    "start_time": "2025-07-09T03:27:50.650Z"
   },
   {
    "duration": 243,
    "start_time": "2025-07-09T03:28:05.881Z"
   },
   {
    "duration": 184,
    "start_time": "2025-07-09T03:28:18.665Z"
   },
   {
    "duration": 102,
    "start_time": "2025-07-09T03:30:56.183Z"
   },
   {
    "duration": 105,
    "start_time": "2025-07-09T03:31:08.093Z"
   },
   {
    "duration": 118,
    "start_time": "2025-07-09T03:31:46.174Z"
   },
   {
    "duration": 87,
    "start_time": "2025-07-09T03:31:54.549Z"
   },
   {
    "duration": 182,
    "start_time": "2025-07-09T03:32:19.022Z"
   },
   {
    "duration": 186,
    "start_time": "2025-07-09T03:34:12.731Z"
   },
   {
    "duration": 291,
    "start_time": "2025-07-09T03:34:23.787Z"
   },
   {
    "duration": 192,
    "start_time": "2025-07-09T03:34:35.204Z"
   },
   {
    "duration": 2325,
    "start_time": "2025-07-09T03:35:46.935Z"
   },
   {
    "duration": 1489,
    "start_time": "2025-07-09T03:35:49.263Z"
   },
   {
    "duration": 3484,
    "start_time": "2025-07-09T03:35:50.754Z"
   },
   {
    "duration": 87,
    "start_time": "2025-07-09T03:35:54.240Z"
   },
   {
    "duration": 30,
    "start_time": "2025-07-09T03:35:54.329Z"
   },
   {
    "duration": 62,
    "start_time": "2025-07-09T03:35:54.360Z"
   },
   {
    "duration": 13,
    "start_time": "2025-07-09T03:35:54.423Z"
   },
   {
    "duration": 9,
    "start_time": "2025-07-09T03:35:54.438Z"
   },
   {
    "duration": 22,
    "start_time": "2025-07-09T03:35:54.449Z"
   },
   {
    "duration": 42,
    "start_time": "2025-07-09T03:35:54.472Z"
   },
   {
    "duration": 10,
    "start_time": "2025-07-09T03:35:54.516Z"
   },
   {
    "duration": 78,
    "start_time": "2025-07-09T03:35:54.528Z"
   },
   {
    "duration": 774,
    "start_time": "2025-07-09T03:35:54.608Z"
   },
   {
    "duration": 52,
    "start_time": "2025-07-09T03:35:55.387Z"
   },
   {
    "duration": 746,
    "start_time": "2025-07-09T03:35:55.441Z"
   },
   {
    "duration": 80,
    "start_time": "2025-07-09T03:35:56.189Z"
   },
   {
    "duration": 58,
    "start_time": "2025-07-09T03:35:56.270Z"
   },
   {
    "duration": 125,
    "start_time": "2025-07-09T03:35:56.329Z"
   },
   {
    "duration": 15,
    "start_time": "2025-07-09T03:35:56.456Z"
   },
   {
    "duration": 312,
    "start_time": "2025-07-09T03:35:56.473Z"
   },
   {
    "duration": 266,
    "start_time": "2025-07-09T03:35:56.786Z"
   },
   {
    "duration": 284,
    "start_time": "2025-07-09T03:35:57.054Z"
   },
   {
    "duration": 4,
    "start_time": "2025-07-09T03:35:57.340Z"
   },
   {
    "duration": 197,
    "start_time": "2025-07-09T03:35:57.346Z"
   },
   {
    "duration": 62,
    "start_time": "2025-07-09T03:35:57.545Z"
   },
   {
    "duration": 13,
    "start_time": "2025-07-09T03:35:57.609Z"
   },
   {
    "duration": 35,
    "start_time": "2025-07-09T03:35:57.623Z"
   },
   {
    "duration": 10,
    "start_time": "2025-07-09T03:35:57.660Z"
   },
   {
    "duration": 5338,
    "start_time": "2025-07-09T03:35:57.672Z"
   },
   {
    "duration": 4255,
    "start_time": "2025-07-09T03:36:03.011Z"
   },
   {
    "duration": 37,
    "start_time": "2025-07-09T03:36:07.268Z"
   },
   {
    "duration": 6128,
    "start_time": "2025-07-09T03:36:07.306Z"
   },
   {
    "duration": 149,
    "start_time": "2025-07-09T03:36:13.436Z"
   },
   {
    "duration": 192,
    "start_time": "2025-07-09T03:36:13.587Z"
   },
   {
    "duration": 55,
    "start_time": "2025-07-09T03:36:13.780Z"
   },
   {
    "duration": 146,
    "start_time": "2025-07-09T03:36:13.836Z"
   },
   {
    "duration": 318,
    "start_time": "2025-07-09T03:36:13.984Z"
   },
   {
    "duration": 205,
    "start_time": "2025-07-09T03:36:14.305Z"
   },
   {
    "duration": 254,
    "start_time": "2025-07-09T03:36:14.512Z"
   },
   {
    "duration": 222,
    "start_time": "2025-07-09T03:36:14.768Z"
   },
   {
    "duration": 249,
    "start_time": "2025-07-09T03:36:14.994Z"
   },
   {
    "duration": 63,
    "start_time": "2025-07-09T03:36:15.245Z"
   },
   {
    "duration": 207,
    "start_time": "2025-07-09T03:36:15.310Z"
   },
   {
    "duration": 118,
    "start_time": "2025-07-09T03:36:15.518Z"
   },
   {
    "duration": 307,
    "start_time": "2025-07-09T03:36:15.638Z"
   },
   {
    "duration": 320,
    "start_time": "2025-07-09T03:36:15.947Z"
   },
   {
    "duration": 310,
    "start_time": "2025-07-09T03:36:16.268Z"
   },
   {
    "duration": 297,
    "start_time": "2025-07-09T03:36:16.580Z"
   },
   {
    "duration": 18,
    "start_time": "2025-07-09T03:36:16.879Z"
   },
   {
    "duration": 201,
    "start_time": "2025-07-09T03:36:16.898Z"
   },
   {
    "duration": 173,
    "start_time": "2025-07-09T03:36:17.100Z"
   },
   {
    "duration": 201,
    "start_time": "2025-07-09T03:36:17.275Z"
   },
   {
    "duration": 200,
    "start_time": "2025-07-09T03:36:17.478Z"
   },
   {
    "duration": 93,
    "start_time": "2025-07-09T03:36:17.680Z"
   },
   {
    "duration": 91,
    "start_time": "2025-07-09T03:36:17.774Z"
   },
   {
    "duration": 91,
    "start_time": "2025-07-09T03:36:17.867Z"
   },
   {
    "duration": 11,
    "start_time": "2025-07-09T03:36:17.960Z"
   },
   {
    "duration": 98,
    "start_time": "2025-07-09T03:36:17.972Z"
   },
   {
    "duration": 7,
    "start_time": "2025-07-09T03:36:18.072Z"
   },
   {
    "duration": 286,
    "start_time": "2025-07-09T03:38:49.927Z"
   },
   {
    "duration": 290,
    "start_time": "2025-07-09T03:39:54.789Z"
   },
   {
    "duration": 312,
    "start_time": "2025-07-09T03:41:22.788Z"
   },
   {
    "duration": 295,
    "start_time": "2025-07-09T03:41:45.924Z"
   },
   {
    "duration": 149,
    "start_time": "2025-07-09T03:42:30.259Z"
   },
   {
    "duration": 308,
    "start_time": "2025-07-09T03:42:36.067Z"
   },
   {
    "duration": 280,
    "start_time": "2025-07-09T03:43:28.650Z"
   },
   {
    "duration": 244,
    "start_time": "2025-07-09T03:48:58.140Z"
   },
   {
    "duration": 88,
    "start_time": "2025-07-09T03:49:03.957Z"
   },
   {
    "duration": 5676,
    "start_time": "2025-07-09T03:51:10.691Z"
   },
   {
    "duration": 5304,
    "start_time": "2025-07-09T03:55:30.391Z"
   },
   {
    "duration": 2424,
    "start_time": "2025-07-09T03:55:56.366Z"
   },
   {
    "duration": 1295,
    "start_time": "2025-07-09T03:55:58.792Z"
   },
   {
    "duration": 3238,
    "start_time": "2025-07-09T03:56:00.089Z"
   },
   {
    "duration": 88,
    "start_time": "2025-07-09T03:56:03.329Z"
   },
   {
    "duration": 18,
    "start_time": "2025-07-09T03:56:03.419Z"
   },
   {
    "duration": 68,
    "start_time": "2025-07-09T03:56:03.439Z"
   },
   {
    "duration": 10,
    "start_time": "2025-07-09T03:56:03.509Z"
   },
   {
    "duration": 29,
    "start_time": "2025-07-09T03:56:03.521Z"
   },
   {
    "duration": 11,
    "start_time": "2025-07-09T03:56:03.552Z"
   },
   {
    "duration": 58,
    "start_time": "2025-07-09T03:56:03.564Z"
   },
   {
    "duration": 11,
    "start_time": "2025-07-09T03:56:03.623Z"
   },
   {
    "duration": 83,
    "start_time": "2025-07-09T03:56:03.636Z"
   },
   {
    "duration": 758,
    "start_time": "2025-07-09T03:56:03.721Z"
   },
   {
    "duration": 51,
    "start_time": "2025-07-09T03:56:04.482Z"
   },
   {
    "duration": 774,
    "start_time": "2025-07-09T03:56:04.535Z"
   },
   {
    "duration": 81,
    "start_time": "2025-07-09T03:56:05.310Z"
   },
   {
    "duration": 65,
    "start_time": "2025-07-09T03:56:05.393Z"
   },
   {
    "duration": 107,
    "start_time": "2025-07-09T03:56:05.459Z"
   },
   {
    "duration": 12,
    "start_time": "2025-07-09T03:56:05.567Z"
   },
   {
    "duration": 314,
    "start_time": "2025-07-09T03:56:05.581Z"
   },
   {
    "duration": 268,
    "start_time": "2025-07-09T03:56:05.897Z"
   },
   {
    "duration": 278,
    "start_time": "2025-07-09T03:56:06.167Z"
   },
   {
    "duration": 12,
    "start_time": "2025-07-09T03:56:06.446Z"
   },
   {
    "duration": 251,
    "start_time": "2025-07-09T03:56:06.459Z"
   },
   {
    "duration": 62,
    "start_time": "2025-07-09T03:56:06.711Z"
   },
   {
    "duration": 13,
    "start_time": "2025-07-09T03:56:06.774Z"
   },
   {
    "duration": 31,
    "start_time": "2025-07-09T03:56:06.788Z"
   },
   {
    "duration": 12,
    "start_time": "2025-07-09T03:56:06.821Z"
   },
   {
    "duration": 5576,
    "start_time": "2025-07-09T03:56:06.835Z"
   },
   {
    "duration": 4246,
    "start_time": "2025-07-09T03:56:12.413Z"
   },
   {
    "duration": 39,
    "start_time": "2025-07-09T03:56:16.660Z"
   },
   {
    "duration": 6035,
    "start_time": "2025-07-09T03:56:16.701Z"
   },
   {
    "duration": 148,
    "start_time": "2025-07-09T03:56:22.738Z"
   },
   {
    "duration": 191,
    "start_time": "2025-07-09T03:56:22.888Z"
   },
   {
    "duration": 51,
    "start_time": "2025-07-09T03:56:23.081Z"
   },
   {
    "duration": 140,
    "start_time": "2025-07-09T03:56:23.134Z"
   },
   {
    "duration": 321,
    "start_time": "2025-07-09T03:56:23.276Z"
   },
   {
    "duration": 201,
    "start_time": "2025-07-09T03:56:23.599Z"
   },
   {
    "duration": 251,
    "start_time": "2025-07-09T03:56:23.802Z"
   },
   {
    "duration": 232,
    "start_time": "2025-07-09T03:56:24.055Z"
   },
   {
    "duration": 226,
    "start_time": "2025-07-09T03:56:24.293Z"
   },
   {
    "duration": 68,
    "start_time": "2025-07-09T03:56:24.521Z"
   },
   {
    "duration": 192,
    "start_time": "2025-07-09T03:56:24.591Z"
   },
   {
    "duration": 118,
    "start_time": "2025-07-09T03:56:24.785Z"
   },
   {
    "duration": 330,
    "start_time": "2025-07-09T03:56:24.904Z"
   },
   {
    "duration": 314,
    "start_time": "2025-07-09T03:56:25.236Z"
   },
   {
    "duration": 316,
    "start_time": "2025-07-09T03:56:25.551Z"
   },
   {
    "duration": 305,
    "start_time": "2025-07-09T03:56:25.869Z"
   },
   {
    "duration": 19,
    "start_time": "2025-07-09T03:56:26.176Z"
   },
   {
    "duration": 203,
    "start_time": "2025-07-09T03:56:26.196Z"
   },
   {
    "duration": 227,
    "start_time": "2025-07-09T03:56:26.401Z"
   },
   {
    "duration": 213,
    "start_time": "2025-07-09T03:56:26.630Z"
   },
   {
    "duration": 199,
    "start_time": "2025-07-09T03:56:26.845Z"
   },
   {
    "duration": 317,
    "start_time": "2025-07-09T03:56:27.045Z"
   },
   {
    "duration": 125,
    "start_time": "2025-07-09T03:56:27.364Z"
   },
   {
    "duration": 115,
    "start_time": "2025-07-09T03:56:27.490Z"
   },
   {
    "duration": 12,
    "start_time": "2025-07-09T03:56:27.607Z"
   },
   {
    "duration": 101,
    "start_time": "2025-07-09T03:56:27.621Z"
   },
   {
    "duration": 8,
    "start_time": "2025-07-09T03:56:27.724Z"
   },
   {
    "duration": 104,
    "start_time": "2025-07-09T03:59:12.995Z"
   },
   {
    "duration": 106,
    "start_time": "2025-07-09T03:59:24.027Z"
   },
   {
    "duration": 101,
    "start_time": "2025-07-09T03:59:46.291Z"
   },
   {
    "duration": 103,
    "start_time": "2025-07-09T04:00:36.121Z"
   },
   {
    "duration": 104,
    "start_time": "2025-07-09T04:00:46.938Z"
   },
   {
    "duration": 12,
    "start_time": "2025-07-09T04:04:23.814Z"
   },
   {
    "duration": 132,
    "start_time": "2025-07-09T04:05:06.070Z"
   },
   {
    "duration": 326,
    "start_time": "2025-07-09T04:05:26.389Z"
   },
   {
    "duration": 74,
    "start_time": "2025-07-09T04:06:21.787Z"
   },
   {
    "duration": 389,
    "start_time": "2025-07-09T04:07:52.474Z"
   },
   {
    "duration": 21,
    "start_time": "2025-07-09T04:11:21.473Z"
   },
   {
    "duration": 21,
    "start_time": "2025-07-09T04:13:01.549Z"
   },
   {
    "duration": 24,
    "start_time": "2025-07-09T04:13:28.412Z"
   },
   {
    "duration": 13,
    "start_time": "2025-07-09T04:17:20.409Z"
   },
   {
    "duration": 69,
    "start_time": "2025-07-09T04:17:32.081Z"
   },
   {
    "duration": 75,
    "start_time": "2025-07-09T04:17:38.864Z"
   },
   {
    "duration": 17,
    "start_time": "2025-07-09T04:19:07.582Z"
   },
   {
    "duration": 12,
    "start_time": "2025-07-09T04:19:16.119Z"
   },
   {
    "duration": 16,
    "start_time": "2025-07-09T04:19:40.567Z"
   },
   {
    "duration": 105,
    "start_time": "2025-07-09T04:21:35.685Z"
   },
   {
    "duration": 84,
    "start_time": "2025-07-09T04:21:44.500Z"
   },
   {
    "duration": 121,
    "start_time": "2025-07-09T04:23:09.394Z"
   },
   {
    "duration": 102,
    "start_time": "2025-07-09T04:23:31.531Z"
   },
   {
    "duration": 4,
    "start_time": "2025-07-09T04:23:54.667Z"
   },
   {
    "duration": 88,
    "start_time": "2025-07-09T04:24:08.555Z"
   },
   {
    "duration": 2479,
    "start_time": "2025-07-09T04:24:20.705Z"
   },
   {
    "duration": 1446,
    "start_time": "2025-07-09T04:24:23.187Z"
   },
   {
    "duration": 4195,
    "start_time": "2025-07-09T04:24:24.634Z"
   },
   {
    "duration": 91,
    "start_time": "2025-07-09T04:24:28.831Z"
   },
   {
    "duration": 18,
    "start_time": "2025-07-09T04:24:28.925Z"
   },
   {
    "duration": 24,
    "start_time": "2025-07-09T04:24:28.944Z"
   },
   {
    "duration": 16,
    "start_time": "2025-07-09T04:24:28.970Z"
   },
   {
    "duration": 100,
    "start_time": "2025-07-09T04:24:28.987Z"
   },
   {
    "duration": 14,
    "start_time": "2025-07-09T04:24:29.089Z"
   },
   {
    "duration": 40,
    "start_time": "2025-07-09T04:24:29.105Z"
   },
   {
    "duration": 11,
    "start_time": "2025-07-09T04:24:29.147Z"
   },
   {
    "duration": 79,
    "start_time": "2025-07-09T04:24:29.160Z"
   },
   {
    "duration": 759,
    "start_time": "2025-07-09T04:24:29.241Z"
   },
   {
    "duration": 63,
    "start_time": "2025-07-09T04:24:30.003Z"
   },
   {
    "duration": 752,
    "start_time": "2025-07-09T04:24:30.068Z"
   },
   {
    "duration": 81,
    "start_time": "2025-07-09T04:24:30.822Z"
   },
   {
    "duration": 66,
    "start_time": "2025-07-09T04:24:30.905Z"
   },
   {
    "duration": 111,
    "start_time": "2025-07-09T04:24:30.973Z"
   },
   {
    "duration": 13,
    "start_time": "2025-07-09T04:24:31.086Z"
   },
   {
    "duration": 336,
    "start_time": "2025-07-09T04:24:31.101Z"
   },
   {
    "duration": 299,
    "start_time": "2025-07-09T04:24:31.439Z"
   },
   {
    "duration": 307,
    "start_time": "2025-07-09T04:24:31.739Z"
   },
   {
    "duration": 12,
    "start_time": "2025-07-09T04:24:32.047Z"
   },
   {
    "duration": 181,
    "start_time": "2025-07-09T04:24:32.061Z"
   },
   {
    "duration": 66,
    "start_time": "2025-07-09T04:24:32.244Z"
   },
   {
    "duration": 16,
    "start_time": "2025-07-09T04:24:32.312Z"
   },
   {
    "duration": 29,
    "start_time": "2025-07-09T04:24:32.329Z"
   },
   {
    "duration": 14,
    "start_time": "2025-07-09T04:24:32.360Z"
   },
   {
    "duration": 5570,
    "start_time": "2025-07-09T04:24:32.376Z"
   },
   {
    "duration": 4286,
    "start_time": "2025-07-09T04:24:37.948Z"
   },
   {
    "duration": 51,
    "start_time": "2025-07-09T04:24:42.236Z"
   },
   {
    "duration": 6114,
    "start_time": "2025-07-09T04:24:42.289Z"
   },
   {
    "duration": 154,
    "start_time": "2025-07-09T04:24:48.405Z"
   },
   {
    "duration": 194,
    "start_time": "2025-07-09T04:24:48.561Z"
   },
   {
    "duration": 51,
    "start_time": "2025-07-09T04:24:48.757Z"
   },
   {
    "duration": 141,
    "start_time": "2025-07-09T04:24:48.810Z"
   },
   {
    "duration": 350,
    "start_time": "2025-07-09T04:24:48.953Z"
   },
   {
    "duration": 201,
    "start_time": "2025-07-09T04:24:49.305Z"
   },
   {
    "duration": 262,
    "start_time": "2025-07-09T04:24:49.508Z"
   },
   {
    "duration": 222,
    "start_time": "2025-07-09T04:24:49.772Z"
   },
   {
    "duration": 230,
    "start_time": "2025-07-09T04:24:49.998Z"
   },
   {
    "duration": 66,
    "start_time": "2025-07-09T04:24:50.230Z"
   },
   {
    "duration": 192,
    "start_time": "2025-07-09T04:24:50.297Z"
   },
   {
    "duration": 114,
    "start_time": "2025-07-09T04:24:50.491Z"
   },
   {
    "duration": 304,
    "start_time": "2025-07-09T04:24:50.607Z"
   },
   {
    "duration": 332,
    "start_time": "2025-07-09T04:24:50.913Z"
   },
   {
    "duration": 343,
    "start_time": "2025-07-09T04:24:51.246Z"
   },
   {
    "duration": 310,
    "start_time": "2025-07-09T04:24:51.591Z"
   },
   {
    "duration": 20,
    "start_time": "2025-07-09T04:24:51.903Z"
   },
   {
    "duration": 217,
    "start_time": "2025-07-09T04:24:51.925Z"
   },
   {
    "duration": 182,
    "start_time": "2025-07-09T04:24:52.144Z"
   },
   {
    "duration": 201,
    "start_time": "2025-07-09T04:24:52.327Z"
   },
   {
    "duration": 210,
    "start_time": "2025-07-09T04:24:52.530Z"
   },
   {
    "duration": 246,
    "start_time": "2025-07-09T04:24:52.742Z"
   },
   {
    "duration": 113,
    "start_time": "2025-07-09T04:24:52.991Z"
   },
   {
    "duration": 85,
    "start_time": "2025-07-09T04:24:53.106Z"
   },
   {
    "duration": 21,
    "start_time": "2025-07-09T04:24:53.193Z"
   },
   {
    "duration": 428,
    "start_time": "2025-07-09T04:24:53.215Z"
   },
   {
    "duration": 29,
    "start_time": "2025-07-09T04:24:53.644Z"
   },
   {
    "duration": 98,
    "start_time": "2025-07-09T04:24:53.674Z"
   },
   {
    "duration": 17,
    "start_time": "2025-07-09T04:24:53.774Z"
   },
   {
    "duration": 87,
    "start_time": "2025-07-09T04:24:53.792Z"
   },
   {
    "duration": 0,
    "start_time": "2025-07-09T04:24:53.881Z"
   },
   {
    "duration": 90,
    "start_time": "2025-07-09T04:26:13.001Z"
   },
   {
    "duration": 79,
    "start_time": "2025-07-09T04:26:13.673Z"
   },
   {
    "duration": 84,
    "start_time": "2025-07-09T04:26:13.913Z"
   },
   {
    "duration": 87,
    "start_time": "2025-07-09T04:26:14.104Z"
   },
   {
    "duration": 88,
    "start_time": "2025-07-09T04:26:14.305Z"
   },
   {
    "duration": 84,
    "start_time": "2025-07-09T04:26:14.496Z"
   },
   {
    "duration": 0,
    "start_time": "2025-07-09T04:26:14.904Z"
   },
   {
    "duration": 86,
    "start_time": "2025-07-09T04:26:15.047Z"
   },
   {
    "duration": 86,
    "start_time": "2025-07-09T04:26:15.992Z"
   },
   {
    "duration": 104,
    "start_time": "2025-07-09T04:27:49.095Z"
   },
   {
    "duration": 127,
    "start_time": "2025-07-09T04:27:55.720Z"
   },
   {
    "duration": 100,
    "start_time": "2025-07-09T04:28:29.774Z"
   },
   {
    "duration": 150,
    "start_time": "2025-07-09T04:28:34.542Z"
   },
   {
    "duration": 103,
    "start_time": "2025-07-09T04:28:49.478Z"
   },
   {
    "duration": 44,
    "start_time": "2025-07-09T04:29:27.710Z"
   },
   {
    "duration": 19,
    "start_time": "2025-07-09T04:29:29.542Z"
   },
   {
    "duration": 44,
    "start_time": "2025-07-09T04:29:46.525Z"
   },
   {
    "duration": 332,
    "start_time": "2025-07-09T04:29:47.685Z"
   },
   {
    "duration": 71,
    "start_time": "2025-07-09T04:30:49.556Z"
   },
   {
    "duration": 350,
    "start_time": "2025-07-09T04:30:51.092Z"
   },
   {
    "duration": 116,
    "start_time": "2025-07-09T04:33:41.906Z"
   },
   {
    "duration": 188,
    "start_time": "2025-07-09T04:43:10.880Z"
   },
   {
    "duration": 191,
    "start_time": "2025-07-09T04:43:18.728Z"
   },
   {
    "duration": 113,
    "start_time": "2025-07-09T04:48:18.946Z"
   },
   {
    "duration": 131,
    "start_time": "2025-07-09T04:50:10.682Z"
   },
   {
    "duration": 201,
    "start_time": "2025-07-09T04:50:12.010Z"
   },
   {
    "duration": 10008,
    "start_time": "2025-07-10T03:50:57.453Z"
   },
   {
    "duration": 1610,
    "start_time": "2025-07-10T03:51:07.463Z"
   },
   {
    "duration": 2103,
    "start_time": "2025-07-10T03:51:09.075Z"
   },
   {
    "duration": 93,
    "start_time": "2025-07-10T03:51:11.180Z"
   },
   {
    "duration": 20,
    "start_time": "2025-07-10T03:51:11.276Z"
   },
   {
    "duration": 41,
    "start_time": "2025-07-10T03:51:11.298Z"
   },
   {
    "duration": 12,
    "start_time": "2025-07-10T03:51:11.341Z"
   },
   {
    "duration": 12,
    "start_time": "2025-07-10T03:51:11.355Z"
   },
   {
    "duration": 9,
    "start_time": "2025-07-10T03:51:11.370Z"
   },
   {
    "duration": 70,
    "start_time": "2025-07-10T03:51:11.380Z"
   },
   {
    "duration": 11,
    "start_time": "2025-07-10T03:51:11.452Z"
   },
   {
    "duration": 90,
    "start_time": "2025-07-10T03:51:11.465Z"
   },
   {
    "duration": 867,
    "start_time": "2025-07-10T03:51:11.557Z"
   },
   {
    "duration": 58,
    "start_time": "2025-07-10T03:51:12.440Z"
   },
   {
    "duration": 705,
    "start_time": "2025-07-10T03:51:12.500Z"
   },
   {
    "duration": 77,
    "start_time": "2025-07-10T03:51:13.206Z"
   },
   {
    "duration": 63,
    "start_time": "2025-07-10T03:51:13.285Z"
   },
   {
    "duration": 78,
    "start_time": "2025-07-10T03:51:13.349Z"
   },
   {
    "duration": 15,
    "start_time": "2025-07-10T03:51:13.440Z"
   },
   {
    "duration": 330,
    "start_time": "2025-07-10T03:51:13.456Z"
   },
   {
    "duration": 273,
    "start_time": "2025-07-10T03:51:13.788Z"
   },
   {
    "duration": 294,
    "start_time": "2025-07-10T03:51:14.063Z"
   },
   {
    "duration": 6,
    "start_time": "2025-07-10T03:51:14.358Z"
   },
   {
    "duration": 186,
    "start_time": "2025-07-10T03:51:14.366Z"
   },
   {
    "duration": 66,
    "start_time": "2025-07-10T03:51:14.553Z"
   },
   {
    "duration": 27,
    "start_time": "2025-07-10T03:51:14.620Z"
   },
   {
    "duration": 38,
    "start_time": "2025-07-10T03:51:14.648Z"
   },
   {
    "duration": 25,
    "start_time": "2025-07-10T03:51:14.687Z"
   },
   {
    "duration": 5532,
    "start_time": "2025-07-10T03:51:14.714Z"
   },
   {
    "duration": 4268,
    "start_time": "2025-07-10T03:51:20.247Z"
   },
   {
    "duration": 46,
    "start_time": "2025-07-10T03:51:24.517Z"
   },
   {
    "duration": 6065,
    "start_time": "2025-07-10T03:51:24.565Z"
   },
   {
    "duration": 139,
    "start_time": "2025-07-10T03:51:30.632Z"
   },
   {
    "duration": 0,
    "start_time": "2025-07-10T03:51:30.773Z"
   },
   {
    "duration": 0,
    "start_time": "2025-07-10T03:51:30.775Z"
   },
   {
    "duration": 0,
    "start_time": "2025-07-10T03:51:30.776Z"
   },
   {
    "duration": 0,
    "start_time": "2025-07-10T03:51:30.777Z"
   },
   {
    "duration": 0,
    "start_time": "2025-07-10T03:51:30.778Z"
   },
   {
    "duration": 0,
    "start_time": "2025-07-10T03:51:30.779Z"
   },
   {
    "duration": 0,
    "start_time": "2025-07-10T03:51:30.780Z"
   },
   {
    "duration": 0,
    "start_time": "2025-07-10T03:51:30.781Z"
   },
   {
    "duration": 0,
    "start_time": "2025-07-10T03:51:30.782Z"
   },
   {
    "duration": 0,
    "start_time": "2025-07-10T03:51:30.783Z"
   },
   {
    "duration": 0,
    "start_time": "2025-07-10T03:51:30.784Z"
   },
   {
    "duration": 0,
    "start_time": "2025-07-10T03:51:30.785Z"
   },
   {
    "duration": 0,
    "start_time": "2025-07-10T03:51:30.787Z"
   },
   {
    "duration": 0,
    "start_time": "2025-07-10T03:51:30.788Z"
   },
   {
    "duration": 0,
    "start_time": "2025-07-10T03:51:30.789Z"
   },
   {
    "duration": 0,
    "start_time": "2025-07-10T03:51:30.789Z"
   },
   {
    "duration": 0,
    "start_time": "2025-07-10T03:51:30.790Z"
   },
   {
    "duration": 0,
    "start_time": "2025-07-10T03:51:30.791Z"
   },
   {
    "duration": 0,
    "start_time": "2025-07-10T03:51:30.792Z"
   },
   {
    "duration": 0,
    "start_time": "2025-07-10T03:51:30.793Z"
   },
   {
    "duration": 0,
    "start_time": "2025-07-10T03:51:30.794Z"
   },
   {
    "duration": 0,
    "start_time": "2025-07-10T03:51:30.795Z"
   },
   {
    "duration": 0,
    "start_time": "2025-07-10T03:51:30.796Z"
   },
   {
    "duration": 0,
    "start_time": "2025-07-10T03:51:30.797Z"
   },
   {
    "duration": 0,
    "start_time": "2025-07-10T03:51:30.839Z"
   },
   {
    "duration": 0,
    "start_time": "2025-07-10T03:51:30.840Z"
   },
   {
    "duration": 0,
    "start_time": "2025-07-10T03:51:30.841Z"
   },
   {
    "duration": 0,
    "start_time": "2025-07-10T03:51:30.842Z"
   },
   {
    "duration": 0,
    "start_time": "2025-07-10T03:51:30.843Z"
   },
   {
    "duration": 168,
    "start_time": "2025-07-10T03:51:58.971Z"
   },
   {
    "duration": 135,
    "start_time": "2025-07-10T03:52:14.193Z"
   },
   {
    "duration": 2400,
    "start_time": "2025-07-10T03:52:32.789Z"
   },
   {
    "duration": 1312,
    "start_time": "2025-07-10T03:52:35.192Z"
   },
   {
    "duration": 2334,
    "start_time": "2025-07-10T03:52:36.505Z"
   },
   {
    "duration": 87,
    "start_time": "2025-07-10T03:52:38.841Z"
   },
   {
    "duration": 18,
    "start_time": "2025-07-10T03:52:38.938Z"
   },
   {
    "duration": 21,
    "start_time": "2025-07-10T03:52:38.958Z"
   },
   {
    "duration": 112,
    "start_time": "2025-07-10T03:52:38.980Z"
   },
   {
    "duration": 13,
    "start_time": "2025-07-10T03:52:39.094Z"
   },
   {
    "duration": 9,
    "start_time": "2025-07-10T03:52:39.109Z"
   },
   {
    "duration": 47,
    "start_time": "2025-07-10T03:52:39.119Z"
   },
   {
    "duration": 10,
    "start_time": "2025-07-10T03:52:39.168Z"
   },
   {
    "duration": 79,
    "start_time": "2025-07-10T03:52:39.180Z"
   },
   {
    "duration": 772,
    "start_time": "2025-07-10T03:52:39.261Z"
   },
   {
    "duration": 54,
    "start_time": "2025-07-10T03:52:40.040Z"
   },
   {
    "duration": 758,
    "start_time": "2025-07-10T03:52:40.096Z"
   },
   {
    "duration": 85,
    "start_time": "2025-07-10T03:52:40.856Z"
   },
   {
    "duration": 66,
    "start_time": "2025-07-10T03:52:40.942Z"
   },
   {
    "duration": 92,
    "start_time": "2025-07-10T03:52:41.010Z"
   },
   {
    "duration": 13,
    "start_time": "2025-07-10T03:52:41.104Z"
   },
   {
    "duration": 326,
    "start_time": "2025-07-10T03:52:41.118Z"
   },
   {
    "duration": 277,
    "start_time": "2025-07-10T03:52:41.446Z"
   },
   {
    "duration": 291,
    "start_time": "2025-07-10T03:52:41.725Z"
   },
   {
    "duration": 4,
    "start_time": "2025-07-10T03:52:42.017Z"
   },
   {
    "duration": 186,
    "start_time": "2025-07-10T03:52:42.023Z"
   },
   {
    "duration": 61,
    "start_time": "2025-07-10T03:52:42.211Z"
   },
   {
    "duration": 12,
    "start_time": "2025-07-10T03:52:42.273Z"
   },
   {
    "duration": 62,
    "start_time": "2025-07-10T03:52:42.287Z"
   },
   {
    "duration": 22,
    "start_time": "2025-07-10T03:52:42.351Z"
   },
   {
    "duration": 5578,
    "start_time": "2025-07-10T03:52:42.375Z"
   },
   {
    "duration": 4215,
    "start_time": "2025-07-10T03:52:47.954Z"
   },
   {
    "duration": 40,
    "start_time": "2025-07-10T03:52:52.171Z"
   },
   {
    "duration": 5991,
    "start_time": "2025-07-10T03:52:52.212Z"
   },
   {
    "duration": 149,
    "start_time": "2025-07-10T03:52:58.205Z"
   },
   {
    "duration": 192,
    "start_time": "2025-07-10T03:52:58.356Z"
   },
   {
    "duration": 136,
    "start_time": "2025-07-10T03:52:58.550Z"
   },
   {
    "duration": 194,
    "start_time": "2025-07-10T03:52:58.687Z"
   },
   {
    "duration": 250,
    "start_time": "2025-07-10T03:52:58.883Z"
   },
   {
    "duration": 229,
    "start_time": "2025-07-10T03:52:59.138Z"
   },
   {
    "duration": 229,
    "start_time": "2025-07-10T03:52:59.369Z"
   },
   {
    "duration": 74,
    "start_time": "2025-07-10T03:52:59.599Z"
   },
   {
    "duration": 199,
    "start_time": "2025-07-10T03:52:59.677Z"
   },
   {
    "duration": 113,
    "start_time": "2025-07-10T03:52:59.877Z"
   },
   {
    "duration": 312,
    "start_time": "2025-07-10T03:52:59.992Z"
   },
   {
    "duration": 312,
    "start_time": "2025-07-10T03:53:00.306Z"
   },
   {
    "duration": 305,
    "start_time": "2025-07-10T03:53:00.620Z"
   },
   {
    "duration": 307,
    "start_time": "2025-07-10T03:53:00.926Z"
   },
   {
    "duration": 22,
    "start_time": "2025-07-10T03:53:01.239Z"
   },
   {
    "duration": 202,
    "start_time": "2025-07-10T03:53:01.263Z"
   },
   {
    "duration": 187,
    "start_time": "2025-07-10T03:53:01.467Z"
   },
   {
    "duration": 213,
    "start_time": "2025-07-10T03:53:01.655Z"
   },
   {
    "duration": 206,
    "start_time": "2025-07-10T03:53:01.870Z"
   },
   {
    "duration": 239,
    "start_time": "2025-07-10T03:53:02.078Z"
   },
   {
    "duration": 114,
    "start_time": "2025-07-10T03:53:02.318Z"
   },
   {
    "duration": 78,
    "start_time": "2025-07-10T03:53:02.439Z"
   },
   {
    "duration": 35,
    "start_time": "2025-07-10T03:53:02.519Z"
   },
   {
    "duration": 398,
    "start_time": "2025-07-10T03:53:02.556Z"
   },
   {
    "duration": 25,
    "start_time": "2025-07-10T03:53:02.955Z"
   },
   {
    "duration": 192,
    "start_time": "2025-07-10T03:53:02.981Z"
   },
   {
    "duration": 17,
    "start_time": "2025-07-10T03:53:03.175Z"
   },
   {
    "duration": 84,
    "start_time": "2025-07-10T03:53:03.194Z"
   },
   {
    "duration": 361,
    "start_time": "2025-07-10T03:53:03.280Z"
   },
   {
    "duration": 120,
    "start_time": "2025-07-10T03:53:03.642Z"
   },
   {
    "duration": 193,
    "start_time": "2025-07-10T04:00:01.779Z"
   },
   {
    "duration": 218,
    "start_time": "2025-07-10T04:00:11.845Z"
   },
   {
    "duration": 198,
    "start_time": "2025-07-10T04:00:20.225Z"
   },
   {
    "duration": 198,
    "start_time": "2025-07-10T04:00:31.674Z"
   },
   {
    "duration": 213,
    "start_time": "2025-07-10T04:00:37.363Z"
   },
   {
    "duration": 223,
    "start_time": "2025-07-10T04:00:41.522Z"
   },
   {
    "duration": 193,
    "start_time": "2025-07-10T04:00:46.401Z"
   },
   {
    "duration": 196,
    "start_time": "2025-07-10T04:00:58.594Z"
   },
   {
    "duration": 199,
    "start_time": "2025-07-10T04:01:06.394Z"
   },
   {
    "duration": 199,
    "start_time": "2025-07-10T04:01:12.929Z"
   },
   {
    "duration": 207,
    "start_time": "2025-07-10T04:01:16.809Z"
   },
   {
    "duration": 188,
    "start_time": "2025-07-10T04:01:29.217Z"
   },
   {
    "duration": 194,
    "start_time": "2025-07-10T04:01:32.864Z"
   },
   {
    "duration": 190,
    "start_time": "2025-07-10T04:01:52.824Z"
   },
   {
    "duration": 188,
    "start_time": "2025-07-10T04:01:58.193Z"
   },
   {
    "duration": 200,
    "start_time": "2025-07-10T04:02:05.920Z"
   },
   {
    "duration": 199,
    "start_time": "2025-07-10T04:02:12.273Z"
   },
   {
    "duration": 378,
    "start_time": "2025-07-10T04:03:22.390Z"
   },
   {
    "duration": 179,
    "start_time": "2025-07-10T04:03:33.831Z"
   },
   {
    "duration": 198,
    "start_time": "2025-07-10T04:03:44.447Z"
   },
   {
    "duration": 217,
    "start_time": "2025-07-10T04:04:00.758Z"
   },
   {
    "duration": 194,
    "start_time": "2025-07-10T04:04:12.110Z"
   },
   {
    "duration": 189,
    "start_time": "2025-07-10T04:04:22.294Z"
   },
   {
    "duration": 219,
    "start_time": "2025-07-10T04:04:46.532Z"
   },
   {
    "duration": 202,
    "start_time": "2025-07-10T04:04:52.558Z"
   },
   {
    "duration": 140,
    "start_time": "2025-07-10T04:05:55.244Z"
   },
   {
    "duration": 137,
    "start_time": "2025-07-10T04:06:04.692Z"
   },
   {
    "duration": 97,
    "start_time": "2025-07-10T04:06:39.916Z"
   },
   {
    "duration": 138,
    "start_time": "2025-07-10T04:06:43.243Z"
   },
   {
    "duration": 131,
    "start_time": "2025-07-10T04:06:54.811Z"
   },
   {
    "duration": 232,
    "start_time": "2025-07-10T04:07:23.083Z"
   },
   {
    "duration": 139,
    "start_time": "2025-07-10T04:10:04.265Z"
   },
   {
    "duration": 188,
    "start_time": "2025-07-10T04:10:28.593Z"
   },
   {
    "duration": 194,
    "start_time": "2025-07-10T04:10:33.945Z"
   },
   {
    "duration": 50,
    "start_time": "2025-07-11T02:07:12.615Z"
   },
   {
    "duration": 9590,
    "start_time": "2025-07-11T02:07:23.168Z"
   },
   {
    "duration": 2087,
    "start_time": "2025-07-11T02:07:32.761Z"
   },
   {
    "duration": 2202,
    "start_time": "2025-07-11T02:07:34.849Z"
   },
   {
    "duration": 106,
    "start_time": "2025-07-11T02:07:37.053Z"
   },
   {
    "duration": 28,
    "start_time": "2025-07-11T02:07:37.161Z"
   },
   {
    "duration": 71,
    "start_time": "2025-07-11T02:07:37.191Z"
   },
   {
    "duration": 49,
    "start_time": "2025-07-11T02:07:37.263Z"
   },
   {
    "duration": 12,
    "start_time": "2025-07-11T02:07:37.314Z"
   },
   {
    "duration": 21,
    "start_time": "2025-07-11T02:07:37.328Z"
   },
   {
    "duration": 62,
    "start_time": "2025-07-11T02:07:37.352Z"
   },
   {
    "duration": 11,
    "start_time": "2025-07-11T02:07:37.415Z"
   },
   {
    "duration": 91,
    "start_time": "2025-07-11T02:07:37.427Z"
   },
   {
    "duration": 895,
    "start_time": "2025-07-11T02:07:37.519Z"
   },
   {
    "duration": 72,
    "start_time": "2025-07-11T02:07:38.416Z"
   },
   {
    "duration": 768,
    "start_time": "2025-07-11T02:07:38.489Z"
   },
   {
    "duration": 81,
    "start_time": "2025-07-11T02:07:39.259Z"
   },
   {
    "duration": 76,
    "start_time": "2025-07-11T02:07:39.342Z"
   },
   {
    "duration": 92,
    "start_time": "2025-07-11T02:07:39.420Z"
   },
   {
    "duration": 14,
    "start_time": "2025-07-11T02:07:39.514Z"
   },
   {
    "duration": 385,
    "start_time": "2025-07-11T02:07:39.530Z"
   },
   {
    "duration": 303,
    "start_time": "2025-07-11T02:07:39.916Z"
   },
   {
    "duration": 328,
    "start_time": "2025-07-11T02:07:40.221Z"
   },
   {
    "duration": 4,
    "start_time": "2025-07-11T02:07:40.551Z"
   },
   {
    "duration": 211,
    "start_time": "2025-07-11T02:07:40.557Z"
   },
   {
    "duration": 74,
    "start_time": "2025-07-11T02:07:40.770Z"
   },
   {
    "duration": 26,
    "start_time": "2025-07-11T02:07:40.846Z"
   },
   {
    "duration": 27,
    "start_time": "2025-07-11T02:07:40.874Z"
   },
   {
    "duration": 11,
    "start_time": "2025-07-11T02:07:40.906Z"
   },
   {
    "duration": 6023,
    "start_time": "2025-07-11T02:07:40.919Z"
   },
   {
    "duration": 4616,
    "start_time": "2025-07-11T02:07:46.944Z"
   },
   {
    "duration": 44,
    "start_time": "2025-07-11T02:07:51.562Z"
   },
   {
    "duration": 6880,
    "start_time": "2025-07-11T02:07:51.608Z"
   },
   {
    "duration": 159,
    "start_time": "2025-07-11T02:07:58.490Z"
   },
   {
    "duration": 220,
    "start_time": "2025-07-11T02:07:58.651Z"
   },
   {
    "duration": 151,
    "start_time": "2025-07-11T02:07:58.874Z"
   },
   {
    "duration": 208,
    "start_time": "2025-07-11T02:07:59.026Z"
   },
   {
    "duration": 265,
    "start_time": "2025-07-11T02:07:59.235Z"
   },
   {
    "duration": 237,
    "start_time": "2025-07-11T02:07:59.502Z"
   },
   {
    "duration": 262,
    "start_time": "2025-07-11T02:07:59.741Z"
   },
   {
    "duration": 72,
    "start_time": "2025-07-11T02:08:00.005Z"
   },
   {
    "duration": 217,
    "start_time": "2025-07-11T02:08:00.079Z"
   },
   {
    "duration": 126,
    "start_time": "2025-07-11T02:08:00.298Z"
   },
   {
    "duration": 332,
    "start_time": "2025-07-11T02:08:00.425Z"
   },
   {
    "duration": 375,
    "start_time": "2025-07-11T02:08:00.759Z"
   },
   {
    "duration": 343,
    "start_time": "2025-07-11T02:08:01.136Z"
   },
   {
    "duration": 334,
    "start_time": "2025-07-11T02:08:01.482Z"
   },
   {
    "duration": 21,
    "start_time": "2025-07-11T02:08:01.818Z"
   },
   {
    "duration": 224,
    "start_time": "2025-07-11T02:08:01.841Z"
   },
   {
    "duration": 238,
    "start_time": "2025-07-11T02:08:02.066Z"
   },
   {
    "duration": 226,
    "start_time": "2025-07-11T02:08:02.306Z"
   },
   {
    "duration": 219,
    "start_time": "2025-07-11T02:08:02.534Z"
   },
   {
    "duration": 268,
    "start_time": "2025-07-11T02:08:02.755Z"
   },
   {
    "duration": 134,
    "start_time": "2025-07-11T02:08:03.025Z"
   },
   {
    "duration": 84,
    "start_time": "2025-07-11T02:08:03.160Z"
   },
   {
    "duration": 37,
    "start_time": "2025-07-11T02:08:03.245Z"
   },
   {
    "duration": 435,
    "start_time": "2025-07-11T02:08:03.288Z"
   },
   {
    "duration": 24,
    "start_time": "2025-07-11T02:08:03.725Z"
   },
   {
    "duration": 105,
    "start_time": "2025-07-11T02:08:03.750Z"
   },
   {
    "duration": 34,
    "start_time": "2025-07-11T02:08:03.857Z"
   },
   {
    "duration": 83,
    "start_time": "2025-07-11T02:08:03.893Z"
   },
   {
    "duration": 397,
    "start_time": "2025-07-11T02:08:03.980Z"
   },
   {
    "duration": 131,
    "start_time": "2025-07-11T02:08:04.379Z"
   },
   {
    "duration": 18845,
    "start_time": "2025-07-29T06:09:08.072Z"
   },
   {
    "duration": 1500,
    "start_time": "2025-07-29T06:09:26.920Z"
   },
   {
    "duration": 3817,
    "start_time": "2025-07-29T06:09:28.422Z"
   },
   {
    "duration": 96,
    "start_time": "2025-07-29T06:09:32.241Z"
   },
   {
    "duration": 20,
    "start_time": "2025-07-29T06:09:32.339Z"
   },
   {
    "duration": 20,
    "start_time": "2025-07-29T06:09:32.362Z"
   },
   {
    "duration": 29,
    "start_time": "2025-07-29T06:09:32.384Z"
   },
   {
    "duration": 37,
    "start_time": "2025-07-29T06:09:32.415Z"
   },
   {
    "duration": 41,
    "start_time": "2025-07-29T06:09:32.453Z"
   },
   {
    "duration": 192,
    "start_time": "2025-07-29T06:09:32.496Z"
   },
   {
    "duration": 17,
    "start_time": "2025-07-29T06:09:32.690Z"
   },
   {
    "duration": 108,
    "start_time": "2025-07-29T06:09:32.709Z"
   },
   {
    "duration": 791,
    "start_time": "2025-07-29T06:09:32.819Z"
   },
   {
    "duration": 61,
    "start_time": "2025-07-29T06:09:33.612Z"
   },
   {
    "duration": 752,
    "start_time": "2025-07-29T06:09:33.675Z"
   },
   {
    "duration": 105,
    "start_time": "2025-07-29T06:09:34.434Z"
   },
   {
    "duration": 62,
    "start_time": "2025-07-29T06:09:34.541Z"
   },
   {
    "duration": 116,
    "start_time": "2025-07-29T06:09:34.604Z"
   },
   {
    "duration": 12,
    "start_time": "2025-07-29T06:09:34.722Z"
   },
   {
    "duration": 342,
    "start_time": "2025-07-29T06:09:34.736Z"
   },
   {
    "duration": 311,
    "start_time": "2025-07-29T06:09:35.080Z"
   },
   {
    "duration": 309,
    "start_time": "2025-07-29T06:09:35.392Z"
   },
   {
    "duration": 4,
    "start_time": "2025-07-29T06:09:35.703Z"
   },
   {
    "duration": 212,
    "start_time": "2025-07-29T06:09:35.709Z"
   },
   {
    "duration": 68,
    "start_time": "2025-07-29T06:09:35.922Z"
   },
   {
    "duration": 74,
    "start_time": "2025-07-29T06:09:35.992Z"
   },
   {
    "duration": 46,
    "start_time": "2025-07-29T06:09:36.068Z"
   },
   {
    "duration": 133,
    "start_time": "2025-07-29T06:09:36.118Z"
   },
   {
    "duration": 5588,
    "start_time": "2025-07-29T06:09:36.253Z"
   },
   {
    "duration": 4414,
    "start_time": "2025-07-29T06:09:41.842Z"
   },
   {
    "duration": 39,
    "start_time": "2025-07-29T06:09:46.257Z"
   },
   {
    "duration": 6153,
    "start_time": "2025-07-29T06:09:46.298Z"
   },
   {
    "duration": 194,
    "start_time": "2025-07-29T06:09:52.452Z"
   },
   {
    "duration": 204,
    "start_time": "2025-07-29T06:09:52.648Z"
   },
   {
    "duration": 185,
    "start_time": "2025-07-29T06:09:52.854Z"
   },
   {
    "duration": 208,
    "start_time": "2025-07-29T06:09:53.040Z"
   },
   {
    "duration": 254,
    "start_time": "2025-07-29T06:09:53.249Z"
   },
   {
    "duration": 232,
    "start_time": "2025-07-29T06:09:53.504Z"
   },
   {
    "duration": 229,
    "start_time": "2025-07-29T06:09:53.738Z"
   },
   {
    "duration": 70,
    "start_time": "2025-07-29T06:09:53.969Z"
   },
   {
    "duration": 191,
    "start_time": "2025-07-29T06:09:54.040Z"
   },
   {
    "duration": 118,
    "start_time": "2025-07-29T06:09:54.233Z"
   },
   {
    "duration": 315,
    "start_time": "2025-07-29T06:09:54.353Z"
   },
   {
    "duration": 304,
    "start_time": "2025-07-29T06:09:54.669Z"
   },
   {
    "duration": 339,
    "start_time": "2025-07-29T06:09:54.975Z"
   },
   {
    "duration": 301,
    "start_time": "2025-07-29T06:09:55.316Z"
   },
   {
    "duration": 25,
    "start_time": "2025-07-29T06:09:55.619Z"
   },
   {
    "duration": 203,
    "start_time": "2025-07-29T06:09:55.646Z"
   },
   {
    "duration": 186,
    "start_time": "2025-07-29T06:09:55.850Z"
   },
   {
    "duration": 210,
    "start_time": "2025-07-29T06:09:56.038Z"
   },
   {
    "duration": 211,
    "start_time": "2025-07-29T06:09:56.250Z"
   },
   {
    "duration": 257,
    "start_time": "2025-07-29T06:09:56.463Z"
   },
   {
    "duration": 120,
    "start_time": "2025-07-29T06:09:56.722Z"
   },
   {
    "duration": 73,
    "start_time": "2025-07-29T06:09:56.844Z"
   },
   {
    "duration": 33,
    "start_time": "2025-07-29T06:09:56.919Z"
   },
   {
    "duration": 442,
    "start_time": "2025-07-29T06:09:56.954Z"
   },
   {
    "duration": 36,
    "start_time": "2025-07-29T06:09:57.398Z"
   },
   {
    "duration": 86,
    "start_time": "2025-07-29T06:09:57.437Z"
   },
   {
    "duration": 19,
    "start_time": "2025-07-29T06:09:57.535Z"
   },
   {
    "duration": 92,
    "start_time": "2025-07-29T06:09:57.556Z"
   },
   {
    "duration": 387,
    "start_time": "2025-07-29T06:09:57.649Z"
   },
   {
    "duration": 121,
    "start_time": "2025-07-29T06:09:58.038Z"
   }
  ],
  "colab": {
   "provenance": []
  },
  "kernelspec": {
   "display_name": "Python 3 (ipykernel)",
   "language": "python",
   "name": "python3"
  },
  "language_info": {
   "codemirror_mode": {
    "name": "ipython",
    "version": 3
   },
   "file_extension": ".py",
   "mimetype": "text/x-python",
   "name": "python",
   "nbconvert_exporter": "python",
   "pygments_lexer": "ipython3",
   "version": "3.9.5"
  },
  "toc": {
   "base_numbering": 1,
   "nav_menu": {},
   "number_sections": true,
   "sideBar": true,
   "skip_h1_title": true,
   "title_cell": "Table of Contents",
   "title_sidebar": "Contents",
   "toc_cell": false,
   "toc_position": {},
   "toc_section_display": true,
   "toc_window_display": false
  }
 },
 "nbformat": 4,
 "nbformat_minor": 1
}

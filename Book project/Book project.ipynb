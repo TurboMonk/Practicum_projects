{
 "cells": [
  {
   "cell_type": "markdown",
   "id": "_E41Wr5fqnFT",
   "metadata": {
    "id": "_E41Wr5fqnFT"
   },
   "source": [
    "# Часть 1. Проверка гипотезы в Python и составление аналитической записки"
   ]
  },
  {
   "cell_type": "markdown",
   "id": "Z5_6nf-FrY7o",
   "metadata": {
    "id": "Z5_6nf-FrY7o"
   },
   "source": [
       ]
  },
  {
   "cell_type": "markdown",
   "id": "e06910dd",
   "metadata": {
    "id": "e06910dd"
   },
   "source": [
    "## Напишите заголовок первой части проекта здесь\n",
    "\n",
    "- Автор: Шепелев А.Д.\n",
    "- Дата: 10.06.2025"
   ]
  },
  {
   "cell_type": "markdown",
   "id": "4149134c",
   "metadata": {
    "id": "4149134c"
   },
   "source": [
    "## Цели и задачи проекта\n",
    "\n",
    "Цель проекта - проверка гипотезы: пользователи из Санкт-Петербурга проводят в среднем больше времени за чтением и прослушиванием книг в приложении, чем пользователи из Москвы. "
   ]
  },
  {
   "cell_type": "markdown",
   "id": "728986ea",
   "metadata": {
    "id": "728986ea"
   },
   "source": [
    "## Описание данных\n",
    "\n",
    "Для работы нам предоставлен датасет `yandex_knigi_data.csv`:\n",
    "- `Unnamed` - индекс\n",
    "- `city` - название города\n",
    "- `puid` - индентификатор пользователя\n",
    "- `hours` - количество часов прослушивания"
   ]
  },
  {
   "cell_type": "markdown",
   "id": "4fecaf95",
   "metadata": {
    "id": "4fecaf95"
   },
   "source": [
    "## Содержимое проекта\n",
    "\n",
    "- Знакомство с данными: загрузка и обработка\n",
    "- Проверка гипотезы\n",
    "- Итоговый вывод"
   ]
  },
  {
   "cell_type": "markdown",
   "id": "6f7d21d6",
   "metadata": {
    "id": "6f7d21d6"
   },
   "source": [
    "## 1. Загрузка данных и знакомство с ними\n",
    "\n",
    "Загрузите данные пользователей из Москвы и Санкт-Петербурга c их активностью (суммой часов чтения и прослушивания) из файла `/datasets/yandex_knigi_data.csv`."
   ]
  },
  {
   "cell_type": "code",
   "execution_count": 1,
   "id": "9f53aab6",
   "metadata": {},
   "outputs": [],
   "source": [
    "import pandas as pd\n",
    "import seaborn as sns\n",
    "import matplotlib.pyplot as plt\n",
    "from statsmodels.stats.power import NormalIndPower\n",
    "from statsmodels.stats.proportion import proportion_effectsize\n",
    "from math import ceil\n",
    "from scipy import stats as st\n",
    "import statsmodels.api as sm"
   ]
  },
  {
   "cell_type": "code",
   "execution_count": 2,
   "id": "05faf34b",
   "metadata": {
    "id": "05faf34b",
    "scrolled": true
   },
   "outputs": [
    {
     "data": {
      "text/html": [
       "<div>\n",
       "<style scoped>\n",
       "    .dataframe tbody tr th:only-of-type {\n",
       "        vertical-align: middle;\n",
       "    }\n",
       "\n",
       "    .dataframe tbody tr th {\n",
       "        vertical-align: top;\n",
       "    }\n",
       "\n",
       "    .dataframe thead th {\n",
       "        text-align: right;\n",
       "    }\n",
       "</style>\n",
       "<table border=\"1\" class=\"dataframe\">\n",
       "  <thead>\n",
       "    <tr style=\"text-align: right;\">\n",
       "      <th></th>\n",
       "      <th>Unnamed: 0</th>\n",
       "      <th>city</th>\n",
       "      <th>puid</th>\n",
       "      <th>hours</th>\n",
       "    </tr>\n",
       "  </thead>\n",
       "  <tbody>\n",
       "    <tr>\n",
       "      <th>0</th>\n",
       "      <td>0</td>\n",
       "      <td>Москва</td>\n",
       "      <td>9668</td>\n",
       "      <td>26.167776</td>\n",
       "    </tr>\n",
       "    <tr>\n",
       "      <th>1</th>\n",
       "      <td>1</td>\n",
       "      <td>Москва</td>\n",
       "      <td>16598</td>\n",
       "      <td>82.111217</td>\n",
       "    </tr>\n",
       "    <tr>\n",
       "      <th>2</th>\n",
       "      <td>2</td>\n",
       "      <td>Москва</td>\n",
       "      <td>80401</td>\n",
       "      <td>4.656906</td>\n",
       "    </tr>\n",
       "    <tr>\n",
       "      <th>3</th>\n",
       "      <td>3</td>\n",
       "      <td>Москва</td>\n",
       "      <td>140205</td>\n",
       "      <td>1.840556</td>\n",
       "    </tr>\n",
       "    <tr>\n",
       "      <th>4</th>\n",
       "      <td>4</td>\n",
       "      <td>Москва</td>\n",
       "      <td>248755</td>\n",
       "      <td>151.326434</td>\n",
       "    </tr>\n",
       "  </tbody>\n",
       "</table>\n",
       "</div>"
      ],
      "text/plain": [
       "   Unnamed: 0    city    puid       hours\n",
       "0           0  Москва    9668   26.167776\n",
       "1           1  Москва   16598   82.111217\n",
       "2           2  Москва   80401    4.656906\n",
       "3           3  Москва  140205    1.840556\n",
       "4           4  Москва  248755  151.326434"
      ]
     },
     "execution_count": 2,
     "metadata": {},
     "output_type": "execute_result"
    }
   ],
   "source": [
    "df_book = pd.read_csv('https://code.s3.yandex.net/datasets/yandex_knigi_data.csv')\n",
    "df_book.head()"
   ]
  },
  {
   "cell_type": "code",
   "execution_count": 3,
   "id": "83c67db5",
   "metadata": {},
   "outputs": [
    {
     "name": "stdout",
     "output_type": "stream",
     "text": [
      "<class 'pandas.core.frame.DataFrame'>\n",
      "RangeIndex: 8784 entries, 0 to 8783\n",
      "Data columns (total 4 columns):\n",
      " #   Column      Non-Null Count  Dtype  \n",
      "---  ------      --------------  -----  \n",
      " 0   Unnamed: 0  8784 non-null   int64  \n",
      " 1   city        8784 non-null   object \n",
      " 2   puid        8784 non-null   int64  \n",
      " 3   hours       8784 non-null   float64\n",
      "dtypes: float64(1), int64(2), object(1)\n",
      "memory usage: 274.6+ KB\n"
     ]
    }
   ],
   "source": [
    "df_book.info()"
   ]
  },
  {
   "cell_type": "code",
   "execution_count": 4,
   "id": "ce87c1db",
   "metadata": {
    "id": "ce87c1db"
   },
   "outputs": [
    {
     "name": "stdout",
     "output_type": "stream",
     "text": [
      "Количество дубликатов в столбце [puid]: 244\n",
      "Доля дубликатов от всего датасета: 0.03\n"
     ]
    }
   ],
   "source": [
    "# Проверка дубликатов по пользователям\n",
    "\n",
    "print(f\"Количество дубликатов в столбце [puid]: {df_book.duplicated(subset='puid').sum()}\")\n",
    "print(f\"Доля дубликатов от всего датасета: {(df_book.duplicated(subset='puid').sum() / df_book['puid'].count()).round(2)}\")"
   ]
  },
  {
   "cell_type": "markdown",
   "id": "c4768566",
   "metadata": {},
   "source": [
    "Доля дубликатов составляет 3% от всего датасета - удалить будет оптимальным решением."
   ]
  },
  {
   "cell_type": "code",
   "execution_count": 5,
   "id": "f68a7419",
   "metadata": {
    "id": "f68a7419"
   },
   "outputs": [],
   "source": [
    "# Удалим дубликаты\n",
    "df_book = df_book.drop_duplicates(subset='puid', keep = 'first')"
   ]
  },
  {
   "cell_type": "code",
   "execution_count": 6,
   "id": "0be2bcbe",
   "metadata": {},
   "outputs": [
    {
     "name": "stdout",
     "output_type": "stream",
     "text": [
      "<class 'pandas.core.frame.DataFrame'>\n",
      "Int64Index: 8540 entries, 0 to 8783\n",
      "Data columns (total 4 columns):\n",
      " #   Column      Non-Null Count  Dtype  \n",
      "---  ------      --------------  -----  \n",
      " 0   Unnamed: 0  8540 non-null   int64  \n",
      " 1   city        8540 non-null   object \n",
      " 2   puid        8540 non-null   int64  \n",
      " 3   hours       8540 non-null   float64\n",
      "dtypes: float64(1), int64(2), object(1)\n",
      "memory usage: 333.6+ KB\n"
     ]
    }
   ],
   "source": [
    "# Проверим результат\n",
    "df_book.info()"
   ]
  },
  {
   "cell_type": "code",
   "execution_count": 7,
   "id": "ebd50f8b",
   "metadata": {},
   "outputs": [
    {
     "name": "stdout",
     "output_type": "stream",
     "text": [
      "Количество пользователей Москвы: 6234\n",
      "Количество пользователей Санкт-Петербурга: 2306\n",
      "Процентная разница между группами: 63.01%\n"
     ]
    }
   ],
   "source": [
    "# Проверим размеры групп\n",
    "\n",
    "city_users = df_book.groupby('city')['puid'].count().reset_index()\n",
    "\n",
    "msk_users = city_users.loc[city_users['city'] == 'Москва', 'puid'].values[0]\n",
    "spb_users = city_users.loc[city_users['city'] == 'Санкт-Петербург', 'puid'].values[0]\n",
    "\n",
    "city_diff = round(100 * (msk_users - spb_users) / msk_users, 2)\n",
    "\n",
    "print(f\"Количество пользователей Москвы: {msk_users}\")\n",
    "print(f\"Количество пользователей Санкт-Петербурга: {spb_users}\")\n",
    "print(f\"Процентная разница между группами: {city_diff}%\")"
   ]
  },
  {
   "cell_type": "code",
   "execution_count": 8,
   "id": "c4dc6124",
   "metadata": {},
   "outputs": [
    {
     "data": {
      "text/html": [
       "<div>\n",
       "<style scoped>\n",
       "    .dataframe tbody tr th:only-of-type {\n",
       "        vertical-align: middle;\n",
       "    }\n",
       "\n",
       "    .dataframe tbody tr th {\n",
       "        vertical-align: top;\n",
       "    }\n",
       "\n",
       "    .dataframe thead th {\n",
       "        text-align: right;\n",
       "    }\n",
       "</style>\n",
       "<table border=\"1\" class=\"dataframe\">\n",
       "  <thead>\n",
       "    <tr style=\"text-align: right;\">\n",
       "      <th></th>\n",
       "      <th>count</th>\n",
       "      <th>mean</th>\n",
       "      <th>std</th>\n",
       "      <th>min</th>\n",
       "      <th>25%</th>\n",
       "      <th>50%</th>\n",
       "      <th>75%</th>\n",
       "      <th>max</th>\n",
       "    </tr>\n",
       "    <tr>\n",
       "      <th>city</th>\n",
       "      <th></th>\n",
       "      <th></th>\n",
       "      <th></th>\n",
       "      <th></th>\n",
       "      <th></th>\n",
       "      <th></th>\n",
       "      <th></th>\n",
       "      <th></th>\n",
       "    </tr>\n",
       "  </thead>\n",
       "  <tbody>\n",
       "    <tr>\n",
       "      <th>Москва</th>\n",
       "      <td>6234.0</td>\n",
       "      <td>10.881092</td>\n",
       "      <td>36.851683</td>\n",
       "      <td>0.000018</td>\n",
       "      <td>0.059903</td>\n",
       "      <td>0.924498</td>\n",
       "      <td>5.939972</td>\n",
       "      <td>857.209373</td>\n",
       "    </tr>\n",
       "    <tr>\n",
       "      <th>Санкт-Петербург</th>\n",
       "      <td>2306.0</td>\n",
       "      <td>11.264433</td>\n",
       "      <td>39.831755</td>\n",
       "      <td>0.000025</td>\n",
       "      <td>0.060173</td>\n",
       "      <td>0.875355</td>\n",
       "      <td>6.138424</td>\n",
       "      <td>978.764775</td>\n",
       "    </tr>\n",
       "  </tbody>\n",
       "</table>\n",
       "</div>"
      ],
      "text/plain": [
       "                  count       mean        std       min       25%       50%  \\\n",
       "city                                                                          \n",
       "Москва           6234.0  10.881092  36.851683  0.000018  0.059903  0.924498   \n",
       "Санкт-Петербург  2306.0  11.264433  39.831755  0.000025  0.060173  0.875355   \n",
       "\n",
       "                      75%         max  \n",
       "city                                   \n",
       "Москва           5.939972  857.209373  \n",
       "Санкт-Петербург  6.138424  978.764775  "
      ]
     },
     "execution_count": 8,
     "metadata": {},
     "output_type": "execute_result"
    }
   ],
   "source": [
    "# Выведем осноные статистические данные\n",
    "df_book.groupby('city')['hours'].describe()"
   ]
  },
  {
   "cell_type": "code",
   "execution_count": 9,
   "id": "00fcecf1",
   "metadata": {
    "scrolled": false
   },
   "outputs": [
    {
     "data": {
      "image/png": "[encoded data removed]",
      "text/plain": [
       "<Figure size 864x432 with 1 Axes>"
      ]
     },
     "metadata": {
      "needs_background": "light"
     },
     "output_type": "display_data"
    },
    {
     "data": {
      "image/png": "[encoded data removed]",
      "text/plain": [
       "<Figure size 864x432 with 1 Axes>"
      ]
     },
     "metadata": {
      "needs_background": "light"
     },
     "output_type": "display_data"
    }
   ],
   "source": [
    "# Построим коробчатую диаграмму\n",
    "plt.figure(figsize=(12, 6))\n",
    "sns.boxplot(x='city', y='hours', data=df_book)\n",
    "plt.title('Распределение прослушанных часов по городам')\n",
    "plt.show()\n",
    "\n",
    "# Построим гистограмму\n",
    "plt.figure(figsize=(12, 6))\n",
    "sns.histplot(data=df_book, x='hours', hue='city', element='step', stat='density', common_norm=False)\n",
    "plt.title('Гистограмма прослушанных часов по городам')\n",
    "plt.show()"
   ]
  },
  {
   "cell_type": "markdown",
   "id": "100c4579",
   "metadata": {},
   "source": [
    "По итогам предобработки данных было удалено 3% данных от всего датасета, получен датасет в 8540 строк.\n",
    "Соотношение пользователей из Москвы и Санкт-Петербурга больще уходит в сторону Москвы, процентная разница составляет 63%.\n",
    "Группы имеют схожие распределения пользователей по количеству прослушанных часов. В Санкт-Петербурге замечается большее количество выбросов т.к. среднее у пользователей Петербурга немного выше - 11.26 часов. "
   ]
  },
  {
   "cell_type": "markdown",
   "id": "956e82e2",
   "metadata": {
    "id": "956e82e2"
   },
   "source": [
    "## 2. Проверка гипотезы в Python\n",
    "\n",
    "Гипотеза звучит так: пользователи из Санкт-Петербурга проводят в среднем больше времени за чтением и прослушиванием книг в приложении, чем пользователи из Москвы. Попробуйте статистически это доказать, используя одностороннюю проверку гипотезы с двумя выборками:\n",
    "\n",
    "- Нулевая гипотеза H₀: Средняя активность пользователей в часах в двух группах (Москва и Санкт-Петербург) не больше.\n",
    "\n",
    "- Альтернативная гипотеза H₁: Средняя активность пользователей в Санкт-Петербурге больше, и это различие статистически значимо."
   ]
  },
  {
   "cell_type": "markdown",
   "id": "bc9d4118",
   "metadata": {},
   "source": [
    "Для проверки гипотезы нам подойдёт t-тест для независимых выборок:\n",
    "- Группы из Санкт-Петербурга и Москвы не связаны друг с другом → они независимы;\n",
    "- Выборки достаточно большие, t-тест можно применить даже при отклонении от нормальности;\n",
    "- Поскольку гипотеза предполагает, что время пользователей из Санкт-Петербурга больше, нам нужен односторонний тест."
   ]
  },
  {
   "cell_type": "code",
   "execution_count": 10,
   "id": "67956690",
   "metadata": {
    "id": "67956690"
   },
   "outputs": [
    {
     "name": "stdout",
     "output_type": "stream",
     "text": [
      "p-значение: 0.338193679651558\n",
      "Не отвергаем нулевую гипотезу: различия не статистически значимы.\n"
     ]
    }
   ],
   "source": [
    "# Проверяем гипотезу\n",
    "\n",
    "msk_group = df_book[df_book['city'] == 'Москва']['hours']\n",
    "spb_group = df_book[df_book['city'] == 'Санкт-Петербург']['hours']\n",
    "\n",
    "alpha = 0.05 #Возьмём стандартное значение уровня значимости\n",
    "\n",
    "results = st.ttest_ind(\n",
    "    spb_group,\n",
    "    msk_group, \n",
    "    alternative='greater'\n",
    ")\n",
    "\n",
    "print('p-значение:', results.pvalue)\n",
    "\n",
    "if results.pvalue < alpha:\n",
    "    print('Отвергаем нулевую гипотезу: различия статистически значимы.')\n",
    "else:\n",
    "    print('Не отвергаем нулевую гипотезу: различия не статистически значимы.')"
   ]
  },
  {
   "cell_type": "markdown",
   "id": "6953e84c",
   "metadata": {
    "id": "6953e84c"
   },
   "source": [
    "## 3. Аналитическая записка\n",
    "По результатам анализа данных подготовьте аналитическую записку, в которой опишете:\n",
    "\n",
    "- Выбранный тип t-теста и уровень статистической значимости.\n",
    "\n",
    "- Результат теста, или p-value.\n",
    "\n",
    "- Вывод на основе полученного p-value, то есть интерпретацию результатов.\n",
    "\n",
    "- Одну или две возможные причины, объясняющие полученные результаты.\n",
    "\n"
   ]
  },
  {
   "cell_type": "markdown",
   "id": "c051d4e1",
   "metadata": {},
   "source": [
    "По результатам t-теста для двух независимых выборок и стандартным уровнем значимости - 0.05 получено значение p-value - 0.34, что не подтвердило альтернативную гипотезу.\n",
    "\n",
    "На большее среднее значение часов в Санкт-Петербурге могли повлиять очень активные пользователи (выбросы), что видно на графиках."
   ]
  },
  {
   "cell_type": "markdown",
   "id": "hc1d6jVISegz",
   "metadata": {
    "id": "hc1d6jVISegz"
   },
   "source": [
    "----"
   ]
  },
  {
   "cell_type": "markdown",
   "id": "NqOUIYhbrIfC",
   "metadata": {
    "id": "NqOUIYhbrIfC"
   },
   "source": [
    "# Часть 2. Анализ результатов A/B-тестирования"
   ]
  },
  {
   "cell_type": "markdown",
   "id": "tDwMKFNGsClr",
   "metadata": {
    "id": "tDwMKFNGsClr"
   },
   "source": [
    "Теперь вам нужно проанализировать другие данные. Представьте, что к вам обратились представители интернет-магазина BitMotion Kit, в котором продаются геймифицированные товары для тех, кто ведёт здоровый образ жизни. У него есть своя целевая аудитория, даже появились хиты продаж: эспандер со счётчиком и напоминанием, так и подстольный велотренажёр с Bluetooth.\n",
    "\n",
    "В будущем компания хочет расширить ассортимент товаров. Но перед этим нужно решить одну проблему. Интерфейс онлайн-магазина слишком сложен для пользователей — об этом говорят отзывы.\n",
    "\n",
    "Чтобы привлечь новых клиентов и увеличить число продаж, владельцы магазина разработали новую версию сайта и протестировали его на части пользователей. По задумке, это решение доказуемо повысит количество пользователей, которые совершат покупку.\n",
    "\n",
    "Ваша задача — провести оценку результатов A/B-теста. В вашем распоряжении:\n",
    "\n",
    "* данные о действиях пользователей и распределении их на группы,\n",
    "\n",
    "* техническое задание.\n",
    "\n",
    "Оцените корректность проведения теста и проанализируйте его результаты."
   ]
  },
  {
   "cell_type": "markdown",
   "id": "UNXAAyF5r9Rk",
   "metadata": {
    "id": "UNXAAyF5r9Rk"
   },
   "source": [
    "## 1. Опишите цели исследования.\n",
    "\n"
   ]
  },
  {
   "cell_type": "markdown",
   "id": "kHx-51yES8bd",
   "metadata": {
    "id": "kHx-51yES8bd"
   },
   "source": [
    "Цель - проверка корректности проведения теста и анализ его результатов."
   ]
  },
  {
   "cell_type": "markdown",
   "id": "_CZryx2OsH-s",
   "metadata": {
    "id": "_CZryx2OsH-s"
   },
   "source": [
    "## 2. Загрузите данные, оцените их целостность.\n"
   ]
  },
  {
   "cell_type": "code",
   "execution_count": 11,
   "id": "DjFcJbeGsTIg",
   "metadata": {
    "id": "DjFcJbeGsTIg"
   },
   "outputs": [],
   "source": [
    "participants = pd.read_csv('https://code.s3.yandex.net/datasets/ab_test_participants.csv')\n",
    "events = pd.read_csv('https://code.s3.yandex.net/datasets/ab_test_events.zip',\n",
    "                     parse_dates=['event_dt'], low_memory=False)"
   ]
  },
  {
   "cell_type": "code",
   "execution_count": 12,
   "id": "7bd743bb",
   "metadata": {},
   "outputs": [
    {
     "name": "stdout",
     "output_type": "stream",
     "text": [
      "<class 'pandas.core.frame.DataFrame'>\n",
      "RangeIndex: 14525 entries, 0 to 14524\n",
      "Data columns (total 4 columns):\n",
      " #   Column   Non-Null Count  Dtype \n",
      "---  ------   --------------  ----- \n",
      " 0   user_id  14525 non-null  object\n",
      " 1   group    14525 non-null  object\n",
      " 2   ab_test  14525 non-null  object\n",
      " 3   device   14525 non-null  object\n",
      "dtypes: object(4)\n",
      "memory usage: 454.0+ KB\n"
     ]
    }
   ],
   "source": [
    "participants.info()"
   ]
  },
  {
   "cell_type": "code",
   "execution_count": 13,
   "id": "0c7882e1",
   "metadata": {},
   "outputs": [
    {
     "data": {
      "text/html": [
       "<div>\n",
       "<style scoped>\n",
       "    .dataframe tbody tr th:only-of-type {\n",
       "        vertical-align: middle;\n",
       "    }\n",
       "\n",
       "    .dataframe tbody tr th {\n",
       "        vertical-align: top;\n",
       "    }\n",
       "\n",
       "    .dataframe thead th {\n",
       "        text-align: right;\n",
       "    }\n",
       "</style>\n",
       "<table border=\"1\" class=\"dataframe\">\n",
       "  <thead>\n",
       "    <tr style=\"text-align: right;\">\n",
       "      <th></th>\n",
       "      <th>user_id</th>\n",
       "      <th>group</th>\n",
       "      <th>ab_test</th>\n",
       "      <th>device</th>\n",
       "    </tr>\n",
       "  </thead>\n",
       "  <tbody>\n",
       "    <tr>\n",
       "      <th>0</th>\n",
       "      <td>0002CE61FF2C4011</td>\n",
       "      <td>B</td>\n",
       "      <td>interface_eu_test</td>\n",
       "      <td>Mac</td>\n",
       "    </tr>\n",
       "    <tr>\n",
       "      <th>1</th>\n",
       "      <td>001064FEAAB631A1</td>\n",
       "      <td>B</td>\n",
       "      <td>recommender_system_test</td>\n",
       "      <td>Android</td>\n",
       "    </tr>\n",
       "    <tr>\n",
       "      <th>2</th>\n",
       "      <td>001064FEAAB631A1</td>\n",
       "      <td>A</td>\n",
       "      <td>interface_eu_test</td>\n",
       "      <td>Android</td>\n",
       "    </tr>\n",
       "    <tr>\n",
       "      <th>3</th>\n",
       "      <td>0010A1C096941592</td>\n",
       "      <td>A</td>\n",
       "      <td>recommender_system_test</td>\n",
       "      <td>Android</td>\n",
       "    </tr>\n",
       "    <tr>\n",
       "      <th>4</th>\n",
       "      <td>001E72F50D1C48FA</td>\n",
       "      <td>A</td>\n",
       "      <td>interface_eu_test</td>\n",
       "      <td>Mac</td>\n",
       "    </tr>\n",
       "  </tbody>\n",
       "</table>\n",
       "</div>"
      ],
      "text/plain": [
       "            user_id group                  ab_test   device\n",
       "0  0002CE61FF2C4011     B        interface_eu_test      Mac\n",
       "1  001064FEAAB631A1     B  recommender_system_test  Android\n",
       "2  001064FEAAB631A1     A        interface_eu_test  Android\n",
       "3  0010A1C096941592     A  recommender_system_test  Android\n",
       "4  001E72F50D1C48FA     A        interface_eu_test      Mac"
      ]
     },
     "execution_count": 13,
     "metadata": {},
     "output_type": "execute_result"
    }
   ],
   "source": [
    "participants.head()"
   ]
  },
  {
   "cell_type": "markdown",
   "id": "b7e7fe75",
   "metadata": {},
   "source": [
    "Датасет не содержит пропусков, информация в столбцах соответствует названию."
   ]
  },
  {
   "cell_type": "code",
   "execution_count": 14,
   "id": "10c1f76c",
   "metadata": {},
   "outputs": [
    {
     "name": "stdout",
     "output_type": "stream",
     "text": [
      "<class 'pandas.core.frame.DataFrame'>\n",
      "RangeIndex: 787286 entries, 0 to 787285\n",
      "Data columns (total 4 columns):\n",
      " #   Column      Non-Null Count   Dtype         \n",
      "---  ------      --------------   -----         \n",
      " 0   user_id     787286 non-null  object        \n",
      " 1   event_dt    787286 non-null  datetime64[ns]\n",
      " 2   event_name  787286 non-null  object        \n",
      " 3   details     249022 non-null  object        \n",
      "dtypes: datetime64[ns](1), object(3)\n",
      "memory usage: 24.0+ MB\n"
     ]
    }
   ],
   "source": [
    "events.info()"
   ]
  },
  {
   "cell_type": "code",
   "execution_count": 15,
   "id": "77c187dc",
   "metadata": {},
   "outputs": [
    {
     "data": {
      "text/html": [
       "<div>\n",
       "<style scoped>\n",
       "    .dataframe tbody tr th:only-of-type {\n",
       "        vertical-align: middle;\n",
       "    }\n",
       "\n",
       "    .dataframe tbody tr th {\n",
       "        vertical-align: top;\n",
       "    }\n",
       "\n",
       "    .dataframe thead th {\n",
       "        text-align: right;\n",
       "    }\n",
       "</style>\n",
       "<table border=\"1\" class=\"dataframe\">\n",
       "  <thead>\n",
       "    <tr style=\"text-align: right;\">\n",
       "      <th></th>\n",
       "      <th>user_id</th>\n",
       "      <th>event_dt</th>\n",
       "      <th>event_name</th>\n",
       "      <th>details</th>\n",
       "    </tr>\n",
       "  </thead>\n",
       "  <tbody>\n",
       "    <tr>\n",
       "      <th>0</th>\n",
       "      <td>GLOBAL</td>\n",
       "      <td>2020-12-01 00:00:00</td>\n",
       "      <td>End of Black Friday Ads Campaign</td>\n",
       "      <td>ZONE_CODE15</td>\n",
       "    </tr>\n",
       "    <tr>\n",
       "      <th>1</th>\n",
       "      <td>CCBE9E7E99F94A08</td>\n",
       "      <td>2020-12-01 00:00:11</td>\n",
       "      <td>registration</td>\n",
       "      <td>0.0</td>\n",
       "    </tr>\n",
       "    <tr>\n",
       "      <th>2</th>\n",
       "      <td>GLOBAL</td>\n",
       "      <td>2020-12-01 00:00:25</td>\n",
       "      <td>product_page</td>\n",
       "      <td>NaN</td>\n",
       "    </tr>\n",
       "    <tr>\n",
       "      <th>3</th>\n",
       "      <td>CCBE9E7E99F94A08</td>\n",
       "      <td>2020-12-01 00:00:33</td>\n",
       "      <td>login</td>\n",
       "      <td>NaN</td>\n",
       "    </tr>\n",
       "    <tr>\n",
       "      <th>4</th>\n",
       "      <td>CCBE9E7E99F94A08</td>\n",
       "      <td>2020-12-01 00:00:52</td>\n",
       "      <td>product_page</td>\n",
       "      <td>NaN</td>\n",
       "    </tr>\n",
       "  </tbody>\n",
       "</table>\n",
       "</div>"
      ],
      "text/plain": [
       "            user_id            event_dt                        event_name  \\\n",
       "0            GLOBAL 2020-12-01 00:00:00  End of Black Friday Ads Campaign   \n",
       "1  CCBE9E7E99F94A08 2020-12-01 00:00:11                      registration   \n",
       "2            GLOBAL 2020-12-01 00:00:25                      product_page   \n",
       "3  CCBE9E7E99F94A08 2020-12-01 00:00:33                             login   \n",
       "4  CCBE9E7E99F94A08 2020-12-01 00:00:52                      product_page   \n",
       "\n",
       "       details  \n",
       "0  ZONE_CODE15  \n",
       "1          0.0  \n",
       "2          NaN  \n",
       "3          NaN  \n",
       "4          NaN  "
      ]
     },
     "execution_count": 15,
     "metadata": {},
     "output_type": "execute_result"
    }
   ],
   "source": [
    "events.head()"
   ]
  },
  {
   "cell_type": "markdown",
   "id": "2f264306",
   "metadata": {},
   "source": [
    "Датасет содержит пропуски в столбце `details` что не является проблемой, так как столбец предполагает пропуски, информация в столбцах соответствует названию.\n",
    "\n",
    "Проверим датасет на наличие явных дубликатов."
   ]
  },
  {
   "cell_type": "code",
   "execution_count": 16,
   "id": "bcb0b9b3",
   "metadata": {},
   "outputs": [
    {
     "data": {
      "text/html": [
       "<div>\n",
       "<style scoped>\n",
       "    .dataframe tbody tr th:only-of-type {\n",
       "        vertical-align: middle;\n",
       "    }\n",
       "\n",
       "    .dataframe tbody tr th {\n",
       "        vertical-align: top;\n",
       "    }\n",
       "\n",
       "    .dataframe thead th {\n",
       "        text-align: right;\n",
       "    }\n",
       "</style>\n",
       "<table border=\"1\" class=\"dataframe\">\n",
       "  <thead>\n",
       "    <tr style=\"text-align: right;\">\n",
       "      <th></th>\n",
       "      <th>user_id</th>\n",
       "      <th>event_dt</th>\n",
       "      <th>event_name</th>\n",
       "      <th>details</th>\n",
       "    </tr>\n",
       "  </thead>\n",
       "  <tbody>\n",
       "    <tr>\n",
       "      <th>50</th>\n",
       "      <td>A39D63750BBE9B34</td>\n",
       "      <td>2020-12-01 00:08:24</td>\n",
       "      <td>login</td>\n",
       "      <td>NaN</td>\n",
       "    </tr>\n",
       "    <tr>\n",
       "      <th>132</th>\n",
       "      <td>631020621D23464A</td>\n",
       "      <td>2020-12-01 00:25:03</td>\n",
       "      <td>login</td>\n",
       "      <td>NaN</td>\n",
       "    </tr>\n",
       "    <tr>\n",
       "      <th>278</th>\n",
       "      <td>AD6541E75198ABEF</td>\n",
       "      <td>2020-12-01 00:48:46</td>\n",
       "      <td>login</td>\n",
       "      <td>NaN</td>\n",
       "    </tr>\n",
       "    <tr>\n",
       "      <th>390</th>\n",
       "      <td>ADBBC43BED1249C8</td>\n",
       "      <td>2020-12-01 01:06:02</td>\n",
       "      <td>product_cart</td>\n",
       "      <td>NaN</td>\n",
       "    </tr>\n",
       "    <tr>\n",
       "      <th>446</th>\n",
       "      <td>928AD890A8E7BDE7</td>\n",
       "      <td>2020-12-01 01:11:10</td>\n",
       "      <td>login</td>\n",
       "      <td>NaN</td>\n",
       "    </tr>\n",
       "    <tr>\n",
       "      <th>...</th>\n",
       "      <td>...</td>\n",
       "      <td>...</td>\n",
       "      <td>...</td>\n",
       "      <td>...</td>\n",
       "    </tr>\n",
       "    <tr>\n",
       "      <th>787141</th>\n",
       "      <td>GLOBAL</td>\n",
       "      <td>2020-12-31 23:21:18</td>\n",
       "      <td>purchase</td>\n",
       "      <td>4.49</td>\n",
       "    </tr>\n",
       "    <tr>\n",
       "      <th>787200</th>\n",
       "      <td>GLOBAL</td>\n",
       "      <td>2020-12-31 23:36:55</td>\n",
       "      <td>purchase</td>\n",
       "      <td>4.49</td>\n",
       "    </tr>\n",
       "    <tr>\n",
       "      <th>787209</th>\n",
       "      <td>GLOBAL</td>\n",
       "      <td>2020-12-31 23:39:41</td>\n",
       "      <td>product_cart</td>\n",
       "      <td>NaN</td>\n",
       "    </tr>\n",
       "    <tr>\n",
       "      <th>787217</th>\n",
       "      <td>F9C2F1ECC9624248</td>\n",
       "      <td>2020-12-31 23:42:17</td>\n",
       "      <td>product_page</td>\n",
       "      <td>NaN</td>\n",
       "    </tr>\n",
       "    <tr>\n",
       "      <th>787263</th>\n",
       "      <td>GLOBAL</td>\n",
       "      <td>2020-12-31 23:53:42</td>\n",
       "      <td>purchase</td>\n",
       "      <td>4.49</td>\n",
       "    </tr>\n",
       "  </tbody>\n",
       "</table>\n",
       "<p>36318 rows × 4 columns</p>\n",
       "</div>"
      ],
      "text/plain": [
       "                 user_id            event_dt    event_name details\n",
       "50      A39D63750BBE9B34 2020-12-01 00:08:24         login     NaN\n",
       "132     631020621D23464A 2020-12-01 00:25:03         login     NaN\n",
       "278     AD6541E75198ABEF 2020-12-01 00:48:46         login     NaN\n",
       "390     ADBBC43BED1249C8 2020-12-01 01:06:02  product_cart     NaN\n",
       "446     928AD890A8E7BDE7 2020-12-01 01:11:10         login     NaN\n",
       "...                  ...                 ...           ...     ...\n",
       "787141            GLOBAL 2020-12-31 23:21:18      purchase    4.49\n",
       "787200            GLOBAL 2020-12-31 23:36:55      purchase    4.49\n",
       "787209            GLOBAL 2020-12-31 23:39:41  product_cart     NaN\n",
       "787217  F9C2F1ECC9624248 2020-12-31 23:42:17  product_page     NaN\n",
       "787263            GLOBAL 2020-12-31 23:53:42      purchase    4.49\n",
       "\n",
       "[36318 rows x 4 columns]"
      ]
     },
     "execution_count": 16,
     "metadata": {},
     "output_type": "execute_result"
    }
   ],
   "source": [
    "duplicate_events = events[events.duplicated(keep='first')]\n",
    "duplicate_events"
   ]
  },
  {
   "cell_type": "code",
   "execution_count": 17,
   "id": "4cbffbdc",
   "metadata": {},
   "outputs": [
    {
     "data": {
      "text/html": [
       "<div>\n",
       "<style scoped>\n",
       "    .dataframe tbody tr th:only-of-type {\n",
       "        vertical-align: middle;\n",
       "    }\n",
       "\n",
       "    .dataframe tbody tr th {\n",
       "        vertical-align: top;\n",
       "    }\n",
       "\n",
       "    .dataframe thead th {\n",
       "        text-align: right;\n",
       "    }\n",
       "</style>\n",
       "<table border=\"1\" class=\"dataframe\">\n",
       "  <thead>\n",
       "    <tr style=\"text-align: right;\">\n",
       "      <th></th>\n",
       "      <th>user_id</th>\n",
       "      <th>event_dt</th>\n",
       "      <th>event_name</th>\n",
       "      <th>details</th>\n",
       "    </tr>\n",
       "  </thead>\n",
       "  <tbody>\n",
       "    <tr>\n",
       "      <th>0</th>\n",
       "      <td>GLOBAL</td>\n",
       "      <td>2020-12-01 00:00:00</td>\n",
       "      <td>End of Black Friday Ads Campaign</td>\n",
       "      <td>ZONE_CODE15</td>\n",
       "    </tr>\n",
       "    <tr>\n",
       "      <th>1</th>\n",
       "      <td>CCBE9E7E99F94A08</td>\n",
       "      <td>2020-12-01 00:00:11</td>\n",
       "      <td>registration</td>\n",
       "      <td>0.0</td>\n",
       "    </tr>\n",
       "    <tr>\n",
       "      <th>2</th>\n",
       "      <td>GLOBAL</td>\n",
       "      <td>2020-12-01 00:00:25</td>\n",
       "      <td>product_page</td>\n",
       "      <td>NaN</td>\n",
       "    </tr>\n",
       "    <tr>\n",
       "      <th>3</th>\n",
       "      <td>CCBE9E7E99F94A08</td>\n",
       "      <td>2020-12-01 00:00:33</td>\n",
       "      <td>login</td>\n",
       "      <td>NaN</td>\n",
       "    </tr>\n",
       "    <tr>\n",
       "      <th>4</th>\n",
       "      <td>CCBE9E7E99F94A08</td>\n",
       "      <td>2020-12-01 00:00:52</td>\n",
       "      <td>product_page</td>\n",
       "      <td>NaN</td>\n",
       "    </tr>\n",
       "    <tr>\n",
       "      <th>...</th>\n",
       "      <td>...</td>\n",
       "      <td>...</td>\n",
       "      <td>...</td>\n",
       "      <td>...</td>\n",
       "    </tr>\n",
       "    <tr>\n",
       "      <th>787281</th>\n",
       "      <td>1A655C280B064708</td>\n",
       "      <td>2020-12-31 23:57:44</td>\n",
       "      <td>product_page</td>\n",
       "      <td>NaN</td>\n",
       "    </tr>\n",
       "    <tr>\n",
       "      <th>787282</th>\n",
       "      <td>B77B2F4BCA134618</td>\n",
       "      <td>2020-12-31 23:58:23</td>\n",
       "      <td>registration</td>\n",
       "      <td>0.0</td>\n",
       "    </tr>\n",
       "    <tr>\n",
       "      <th>787283</th>\n",
       "      <td>GLOBAL</td>\n",
       "      <td>2020-12-31 23:58:30</td>\n",
       "      <td>product_cart</td>\n",
       "      <td>NaN</td>\n",
       "    </tr>\n",
       "    <tr>\n",
       "      <th>787284</th>\n",
       "      <td>B12AD1623E494FAD</td>\n",
       "      <td>2020-12-31 23:58:34</td>\n",
       "      <td>registration</td>\n",
       "      <td>-6.52</td>\n",
       "    </tr>\n",
       "    <tr>\n",
       "      <th>787285</th>\n",
       "      <td>5456977474344433</td>\n",
       "      <td>2020-12-31 23:59:48</td>\n",
       "      <td>registration</td>\n",
       "      <td>-3.67</td>\n",
       "    </tr>\n",
       "  </tbody>\n",
       "</table>\n",
       "<p>750968 rows × 4 columns</p>\n",
       "</div>"
      ],
      "text/plain": [
       "                 user_id            event_dt  \\\n",
       "0                 GLOBAL 2020-12-01 00:00:00   \n",
       "1       CCBE9E7E99F94A08 2020-12-01 00:00:11   \n",
       "2                 GLOBAL 2020-12-01 00:00:25   \n",
       "3       CCBE9E7E99F94A08 2020-12-01 00:00:33   \n",
       "4       CCBE9E7E99F94A08 2020-12-01 00:00:52   \n",
       "...                  ...                 ...   \n",
       "787281  1A655C280B064708 2020-12-31 23:57:44   \n",
       "787282  B77B2F4BCA134618 2020-12-31 23:58:23   \n",
       "787283            GLOBAL 2020-12-31 23:58:30   \n",
       "787284  B12AD1623E494FAD 2020-12-31 23:58:34   \n",
       "787285  5456977474344433 2020-12-31 23:59:48   \n",
       "\n",
       "                              event_name      details  \n",
       "0       End of Black Friday Ads Campaign  ZONE_CODE15  \n",
       "1                           registration          0.0  \n",
       "2                           product_page          NaN  \n",
       "3                                  login          NaN  \n",
       "4                           product_page          NaN  \n",
       "...                                  ...          ...  \n",
       "787281                      product_page          NaN  \n",
       "787282                      registration          0.0  \n",
       "787283                      product_cart          NaN  \n",
       "787284                      registration        -6.52  \n",
       "787285                      registration        -3.67  \n",
       "\n",
       "[750968 rows x 4 columns]"
      ]
     },
     "execution_count": 17,
     "metadata": {},
     "output_type": "execute_result"
    }
   ],
   "source": [
    "events = events.drop_duplicates(keep='first')\n",
    "events"
   ]
  },
  {
   "cell_type": "markdown",
   "id": "b2cb7c98",
   "metadata": {},
   "source": [
    "После предобработки удалено 36318 строк из датасета `events`. Размер датасета после предобработки - 750968 строк."
   ]
  },
  {
   "cell_type": "markdown",
   "id": "CnzA-efasUrk",
   "metadata": {
    "id": "CnzA-efasUrk"
   },
   "source": [
    "## 3. По таблице `ab_test_participants` оцените корректность проведения теста:\n",
    "\n",
    "   3\\.1 Выделите пользователей, участвующих в тесте, и проверьте:\n",
    "\n",
    "   - соответствие требованиям технического задания,\n",
    "\n",
    "   - равномерность распределения пользователей по группам теста,\n",
    "\n",
    "   - отсутствие пересечений с конкурирующим тестом (нет пользователей, участвующих одновременно в двух тестовых группах)."
   ]
  },
  {
   "cell_type": "code",
   "execution_count": 18,
   "id": "cbb9108a",
   "metadata": {},
   "outputs": [
    {
     "data": {
      "text/plain": [
       "array(['interface_eu_test', 'recommender_system_test'], dtype=object)"
      ]
     },
     "execution_count": 18,
     "metadata": {},
     "output_type": "execute_result"
    }
   ],
   "source": [
    "participants['ab_test'].unique()"
   ]
  },
  {
   "cell_type": "code",
   "execution_count": 19,
   "id": "bb9313f9",
   "metadata": {
    "scrolled": true
   },
   "outputs": [
    {
     "name": "stdout",
     "output_type": "stream",
     "text": [
      "['70CE04E185154AD7', '84AAB026310D49C4', 'C4F3A9D7BB596E6E', '565EF59DDD36B95B', 'FFF28D02B1EACBE1', '88FB1EDF3E249223', '75013CAAF42E90A9', 'AEB9B39AE54D3598', '4B34A5BD1D1AEF0D', '739656E0D7B50B30', 'BF1EB8E6FA3F19B8', '13AA9B89A2885F8E', '38189578561F38CB', '23F551153080EBAB', 'E3780F6861A69868', '4FE90CB247C78EC5', '9F0571C70D4BD33B', 'C7750723906C925A', 'C74B6E95352ADE79', '53732758D90FB1E4', '63F5FC15B31DB5A6', '3A6D88AB973BD99D', 'E7CC63BF20618321', '0FBF679EA1340786', '5207E56E697027E9', '2D6A6472D7F46812', 'BEF16764A13AEC34', '13FBEB715F4AAE10', 'EF449601C94D2496', 'C0924D3FF1BEAA05', '4122B8F30EB2271C', '24FB1A84E1C30291', '0A0141A363E2E051', '649CE5D5A38BFA8B', 'A8C25A605F613665', 'CA6F4DAED160E5B1', '94464DF2E5398E26', '1D831F7D0F539AFA', '902F92052587344F', 'E68002AA33773AD5', '3FAA6AD64C3B47E8', 'F1B93BAE75EE0FB2', '59D9BD2A3172D3F4', '894A2506B3A50D03', '6786C23A54D59DD4', 'DD9FB2652AE4ACBA', 'C33D8C1C81C7AA23', '47ADBF580CF107E1', 'D9BAC4C97F9C107F', '4CF756542084F860', '067D05BD30F04F2E', 'E32D4C0315D6BFBE', '115ABCFDBDDB5950', 'A6E6ECF8E4924633', '430C998549E88DAE', '6A581C74EF4D5F44', 'C1E43A9B1D675927', 'B3059CB4FD2DE0FA', '8FF91E21E27A330D', 'EA8341F38EFFE04C', 'F71DD44DAB783CEB', 'A3D5BA3E276CD84C', 'FEA0C585A53E7027', 'ABB61823786179CC', 'B582D211C1BE1FFD', '23E633E92EDCD195', 'D40A89E14F1C10BD', '1E7B931452B2F965', 'CBDE46A45FD5E6A4', '30DEB75B33B92DC8', 'BA9906DF9975512E', '6610064A4B2303D1', '5B1F39B5D751B669', 'E391353FC3A4056D', '98D45D3A9D7E3911', '8FC9D1BB3017BE66', '72742C5F312A1FEC', '9918D1C354A1383A', 'C04E36E535A6F740', 'EE9E527A761299B2', '82F72EC6CDC1BA8F', '3F52D53AB33C9FD6', 'E0272BC86CC88DC7', 'C89E24F4C723CEF4', '8C69C35FB5E142F8', '7D8970118A695D48', '993BDE69A0DE0391', 'AE49EDDFB9DABE03', '502902B3C32C72FF', 'EAFB9027A27D510C', 'BE0FDC8CC0D5455D', '573EF5CB449265BE', '1AD9F88DA92AC4E5', 'DD4352CDCF8C3D57', 'F8564F547AFFC0B9', '95401934D6D6D4FC', 'FC2DA0D7EF375B27', 'A35BD08F60AC00B8', 'FE8F9858BBE502D9', 'BBE0583F0240AABB', 'D1DFCE26FF3C713F', '13AE4DFAC67ACEB3', '928364C4C9F13FA8', '0C2E77C6A381704A', '14AEC962812EB706', 'CF03E97B314C5632', '6B72CFAE1935C789', '8FFA1D6F89AAEA40', '1B52830A832D33F5', '65A30CEC01FAB999', '886E52074D084B18', '3DEA2F9B3EDA8B91', '3B3F68DC5779E517', 'BA98FD8F84C838C7', 'E1EA339E17C0D568', 'EE25BC8FA059151D']\n"
     ]
    }
   ],
   "source": [
    "# Проверим тесты на пересечение пользователей\n",
    "df_inteface = participants[(participants['ab_test'] == 'interface_eu_test') & (participants['group'] == 'B')]['user_id']\n",
    "df_recommend = participants[(participants['ab_test'] == 'recommender_system_test') & (participants['group'] == 'B')]['user_id']\n",
    "\n",
    "intersection = list(set(df_inteface) & set(df_recommend))\n",
    "print(intersection) "
   ]
  },
  {
   "cell_type": "code",
   "execution_count": 20,
   "id": "d283f96b",
   "metadata": {},
   "outputs": [
    {
     "data": {
      "text/html": [
       "<div>\n",
       "<style scoped>\n",
       "    .dataframe tbody tr th:only-of-type {\n",
       "        vertical-align: middle;\n",
       "    }\n",
       "\n",
       "    .dataframe tbody tr th {\n",
       "        vertical-align: top;\n",
       "    }\n",
       "\n",
       "    .dataframe thead th {\n",
       "        text-align: right;\n",
       "    }\n",
       "</style>\n",
       "<table border=\"1\" class=\"dataframe\">\n",
       "  <thead>\n",
       "    <tr style=\"text-align: right;\">\n",
       "      <th></th>\n",
       "      <th>user_id</th>\n",
       "      <th>group</th>\n",
       "      <th>ab_test</th>\n",
       "      <th>device</th>\n",
       "    </tr>\n",
       "  </thead>\n",
       "  <tbody>\n",
       "    <tr>\n",
       "      <th>0</th>\n",
       "      <td>0002CE61FF2C4011</td>\n",
       "      <td>B</td>\n",
       "      <td>interface_eu_test</td>\n",
       "      <td>Mac</td>\n",
       "    </tr>\n",
       "    <tr>\n",
       "      <th>2</th>\n",
       "      <td>001064FEAAB631A1</td>\n",
       "      <td>A</td>\n",
       "      <td>interface_eu_test</td>\n",
       "      <td>Android</td>\n",
       "    </tr>\n",
       "    <tr>\n",
       "      <th>4</th>\n",
       "      <td>001E72F50D1C48FA</td>\n",
       "      <td>A</td>\n",
       "      <td>interface_eu_test</td>\n",
       "      <td>Mac</td>\n",
       "    </tr>\n",
       "    <tr>\n",
       "      <th>5</th>\n",
       "      <td>002412F1EB3F6E38</td>\n",
       "      <td>B</td>\n",
       "      <td>interface_eu_test</td>\n",
       "      <td>Mac</td>\n",
       "    </tr>\n",
       "    <tr>\n",
       "      <th>6</th>\n",
       "      <td>002540BE89C930FB</td>\n",
       "      <td>B</td>\n",
       "      <td>interface_eu_test</td>\n",
       "      <td>Android</td>\n",
       "    </tr>\n",
       "  </tbody>\n",
       "</table>\n",
       "</div>"
      ],
      "text/plain": [
       "            user_id group            ab_test   device\n",
       "0  0002CE61FF2C4011     B  interface_eu_test      Mac\n",
       "2  001064FEAAB631A1     A  interface_eu_test  Android\n",
       "4  001E72F50D1C48FA     A  interface_eu_test      Mac\n",
       "5  002412F1EB3F6E38     B  interface_eu_test      Mac\n",
       "6  002540BE89C930FB     B  interface_eu_test  Android"
      ]
     },
     "execution_count": 20,
     "metadata": {},
     "output_type": "execute_result"
    }
   ],
   "source": [
    "df_inteface = participants[(~participants['user_id'].isin(intersection)) & (participants['ab_test'] == 'interface_eu_test')]\n",
    "df_inteface.head()"
   ]
  },
  {
   "cell_type": "code",
   "execution_count": 21,
   "id": "aNa3zHrKslEN",
   "metadata": {
    "id": "aNa3zHrKslEN"
   },
   "outputs": [
    {
     "data": {
      "text/plain": [
       "user_id\n",
       "0002CE61FF2C4011    1\n",
       "AA60EFB0038DA8BA    1\n",
       "AA6E3382835E430B    1\n",
       "AA734F805C898448    1\n",
       "AA750EC1FEF2FD88    1\n",
       "                   ..\n",
       "558F429A7AA34D3B    1\n",
       "5595B31EA5FDC8B6    1\n",
       "559B55365A80B1F2    1\n",
       "55A2929C0942C754    1\n",
       "FFF58BC33966EB51    1\n",
       "Name: group, Length: 10734, dtype: int64"
      ]
     },
     "execution_count": 21,
     "metadata": {},
     "output_type": "execute_result"
    }
   ],
   "source": [
    "# Проверим группы на пересечение пользователей\n",
    "uni_group = df_inteface.groupby('user_id')['group'].nunique().sort_values(ascending = False)\n",
    "uni_group"
   ]
  },
  {
   "cell_type": "code",
   "execution_count": 22,
   "id": "a45d14e9",
   "metadata": {},
   "outputs": [
    {
     "name": "stdout",
     "output_type": "stream",
     "text": [
      "Количество пользователей в группе А: 5383\n",
      "Количество пользователей в группе В: 5351\n",
      "Процентная разница между группами: 0.59%\n"
     ]
    }
   ],
   "source": [
    "# Проверим равномерность распределения пользователей по группам\n",
    "groups_users = df_inteface.groupby('group')['user_id'].nunique().reset_index()\n",
    "\n",
    "a_group = groups_users.loc[groups_users['group'] == 'A', 'user_id'].values[0]\n",
    "b_group = groups_users.loc[groups_users['group'] == 'B', 'user_id'].values[0]\n",
    "\n",
    "group_diff = round(100 * (a_group - b_group) / a_group, 2)\n",
    "\n",
    "print(f\"Количество пользователей в группе А: {a_group}\")\n",
    "print(f\"Количество пользователей в группе В: {b_group}\")\n",
    "print(f\"Процентная разница между группами: {group_diff}%\")"
   ]
  },
  {
   "cell_type": "markdown",
   "id": "978cce99",
   "metadata": {},
   "source": [
    "Итоги проверки:\n",
    "- Удалены ненужные данные другого теста из датасета;\n",
    "- Удалены пользователи учавствовашие в двух тестах;\n",
    "- Пользователей учавствующих в друг группах необнаружено;\n",
    "- Распределение пользователей по группам нормальное, разница - 1.19%"
   ]
  },
  {
   "cell_type": "markdown",
   "id": "GjulgSrlsqUU",
   "metadata": {
    "id": "GjulgSrlsqUU"
   },
   "source": [
    "3\\.2 Проанализируйте данные о пользовательской активности по таблице `ab_test_events`:\n",
    "\n",
    "- оставьте только события, связанные с участвующими в изучаемом тесте пользователями;"
   ]
  },
  {
   "cell_type": "code",
   "execution_count": 23,
   "id": "e400cc96",
   "metadata": {
    "id": "QMt0Ybo_swDK"
   },
   "outputs": [],
   "source": [
    "events = events.merge(df_inteface, how='right', on='user_id')\n",
    "events = events.drop(['group', 'ab_test', 'device'], axis=1)"
   ]
  },
  {
   "cell_type": "code",
   "execution_count": 24,
   "id": "f27da0e1",
   "metadata": {},
   "outputs": [
    {
     "name": "stdout",
     "output_type": "stream",
     "text": [
      "<class 'pandas.core.frame.DataFrame'>\n",
      "Int64Index: 72935 entries, 0 to 72934\n",
      "Data columns (total 4 columns):\n",
      " #   Column      Non-Null Count  Dtype         \n",
      "---  ------      --------------  -----         \n",
      " 0   user_id     72935 non-null  object        \n",
      " 1   event_dt    72935 non-null  datetime64[ns]\n",
      " 2   event_name  72935 non-null  object        \n",
      " 3   details     20261 non-null  object        \n",
      "dtypes: datetime64[ns](1), object(3)\n",
      "memory usage: 2.8+ MB\n"
     ]
    }
   ],
   "source": [
    "events.info()"
   ]
  },
  {
   "cell_type": "markdown",
   "id": "b381ee44",
   "metadata": {},
   "source": [
    "В ходе фильтрации получен датасет размером 79715 строк."
   ]
  },
  {
   "cell_type": "markdown",
   "id": "fBZ4DC2xswZJ",
   "metadata": {
    "id": "fBZ4DC2xswZJ"
   },
   "source": [
    "- определите горизонт анализа: рассчитайте время (лайфтайм) совершения события пользователем после регистрации и оставьте только те события, которые были выполнены в течение первых семи дней с момента регистрации;"
   ]
  },
  {
   "cell_type": "code",
   "execution_count": 25,
   "id": "83f472a4",
   "metadata": {
    "id": "sES4-dKts0Yb"
   },
   "outputs": [],
   "source": [
    "events_ltv = events[events['event_name'] == 'registration'][['user_id', 'event_dt']]"
   ]
  },
  {
   "cell_type": "code",
   "execution_count": 26,
   "id": "sES4-dKts0Yb",
   "metadata": {
    "id": "sES4-dKts0Yb"
   },
   "outputs": [
    {
     "data": {
      "text/html": [
       "<div>\n",
       "<style scoped>\n",
       "    .dataframe tbody tr th:only-of-type {\n",
       "        vertical-align: middle;\n",
       "    }\n",
       "\n",
       "    .dataframe tbody tr th {\n",
       "        vertical-align: top;\n",
       "    }\n",
       "\n",
       "    .dataframe thead th {\n",
       "        text-align: right;\n",
       "    }\n",
       "</style>\n",
       "<table border=\"1\" class=\"dataframe\">\n",
       "  <thead>\n",
       "    <tr style=\"text-align: right;\">\n",
       "      <th></th>\n",
       "      <th>user_id</th>\n",
       "      <th>event_dt</th>\n",
       "      <th>event_name</th>\n",
       "      <th>details</th>\n",
       "      <th>event_dt_reg</th>\n",
       "      <th>time_left</th>\n",
       "    </tr>\n",
       "  </thead>\n",
       "  <tbody>\n",
       "    <tr>\n",
       "      <th>0</th>\n",
       "      <td>0002CE61FF2C4011</td>\n",
       "      <td>2020-12-07 04:37:31</td>\n",
       "      <td>registration</td>\n",
       "      <td>-2.38</td>\n",
       "      <td>2020-12-07 04:37:31</td>\n",
       "      <td>0 days 00:00:00</td>\n",
       "    </tr>\n",
       "    <tr>\n",
       "      <th>1</th>\n",
       "      <td>0002CE61FF2C4011</td>\n",
       "      <td>2020-12-07 04:37:49</td>\n",
       "      <td>login</td>\n",
       "      <td>NaN</td>\n",
       "      <td>2020-12-07 04:37:31</td>\n",
       "      <td>0 days 00:00:18</td>\n",
       "    </tr>\n",
       "    <tr>\n",
       "      <th>2</th>\n",
       "      <td>0002CE61FF2C4011</td>\n",
       "      <td>2020-12-07 04:37:57</td>\n",
       "      <td>login</td>\n",
       "      <td>NaN</td>\n",
       "      <td>2020-12-07 04:37:31</td>\n",
       "      <td>0 days 00:00:26</td>\n",
       "    </tr>\n",
       "    <tr>\n",
       "      <th>3</th>\n",
       "      <td>0002CE61FF2C4011</td>\n",
       "      <td>2020-12-07 04:38:54</td>\n",
       "      <td>login</td>\n",
       "      <td>NaN</td>\n",
       "      <td>2020-12-07 04:37:31</td>\n",
       "      <td>0 days 00:01:23</td>\n",
       "    </tr>\n",
       "    <tr>\n",
       "      <th>4</th>\n",
       "      <td>0002CE61FF2C4011</td>\n",
       "      <td>2020-12-08 22:15:35</td>\n",
       "      <td>login</td>\n",
       "      <td>NaN</td>\n",
       "      <td>2020-12-07 04:37:31</td>\n",
       "      <td>1 days 17:38:04</td>\n",
       "    </tr>\n",
       "  </tbody>\n",
       "</table>\n",
       "</div>"
      ],
      "text/plain": [
       "            user_id            event_dt    event_name details  \\\n",
       "0  0002CE61FF2C4011 2020-12-07 04:37:31  registration   -2.38   \n",
       "1  0002CE61FF2C4011 2020-12-07 04:37:49         login     NaN   \n",
       "2  0002CE61FF2C4011 2020-12-07 04:37:57         login     NaN   \n",
       "3  0002CE61FF2C4011 2020-12-07 04:38:54         login     NaN   \n",
       "4  0002CE61FF2C4011 2020-12-08 22:15:35         login     NaN   \n",
       "\n",
       "         event_dt_reg       time_left  \n",
       "0 2020-12-07 04:37:31 0 days 00:00:00  \n",
       "1 2020-12-07 04:37:31 0 days 00:00:18  \n",
       "2 2020-12-07 04:37:31 0 days 00:00:26  \n",
       "3 2020-12-07 04:37:31 0 days 00:01:23  \n",
       "4 2020-12-07 04:37:31 1 days 17:38:04  "
      ]
     },
     "execution_count": 26,
     "metadata": {},
     "output_type": "execute_result"
    }
   ],
   "source": [
    "events = events.merge(events_ltv, on = 'user_id', suffixes=('','_reg'))\n",
    "\n",
    "events['time_left'] = events['event_dt'] - events['event_dt_reg']\n",
    "\n",
    "filt_events = events[events['time_left'] <= pd.Timedelta('7 days')]\n",
    "\n",
    "filt_events.head()"
   ]
  },
  {
   "cell_type": "code",
   "execution_count": 27,
   "id": "664eb302",
   "metadata": {},
   "outputs": [
    {
     "name": "stdout",
     "output_type": "stream",
     "text": [
      "<class 'pandas.core.frame.DataFrame'>\n",
      "Int64Index: 62934 entries, 0 to 72934\n",
      "Data columns (total 6 columns):\n",
      " #   Column        Non-Null Count  Dtype          \n",
      "---  ------        --------------  -----          \n",
      " 0   user_id       62934 non-null  object         \n",
      " 1   event_dt      62934 non-null  datetime64[ns] \n",
      " 2   event_name    62934 non-null  object         \n",
      " 3   details       16969 non-null  object         \n",
      " 4   event_dt_reg  62934 non-null  datetime64[ns] \n",
      " 5   time_left     62934 non-null  timedelta64[ns]\n",
      "dtypes: datetime64[ns](2), object(3), timedelta64[ns](1)\n",
      "memory usage: 3.4+ MB\n"
     ]
    }
   ],
   "source": [
    "filt_events.info()"
   ]
  },
  {
   "cell_type": "markdown",
   "id": "7cf1df48",
   "metadata": {},
   "source": [
    "Оцените достаточность выборки для получения статистически значимых результатов A/B-теста. Заданные параметры:\n",
    "\n",
    "- базовый показатель конверсии — 30%,\n",
    "\n",
    "- мощность теста — 80%,\n",
    "\n",
    "- достоверность теста — 95%."
   ]
  },
  {
   "cell_type": "code",
   "execution_count": 28,
   "id": "7d97b466",
   "metadata": {},
   "outputs": [
    {
     "name": "stdout",
     "output_type": "stream",
     "text": [
      "Необходимый размер выборки для каждой группы: 3761\n"
     ]
    }
   ],
   "source": [
    "# Задаём параметры\n",
    "alpha = 0.05  # Уровень значимости\n",
    "beta = 0.2  # Ошибка второго рода\n",
    "power = 0.8  # Мощность теста\n",
    "mde = 0.03  # Минимальный детектируемый эффект\n",
    "\n",
    "p1 = 0.3\n",
    "p2 = p1 + mde\n",
    "effect_size = proportion_effectsize(p1, p2)\n",
    "\n",
    "# Инициализируем класс NormalIndPower\n",
    "power_analysis = NormalIndPower()\n",
    "\n",
    "# Рассчитываем размер выборки\n",
    "sample_size = power_analysis.solve_power(\n",
    "    effect_size = effect_size,\n",
    "    power = power,\n",
    "    alpha = alpha,\n",
    "    ratio = 1 # Равномерное распределение выборок\n",
    ")\n",
    "\n",
    "print(f\"Необходимый размер выборки для каждой группы: {int(sample_size)}\")"
   ]
  },
  {
   "cell_type": "markdown",
   "id": "SadyUDgZs0t3",
   "metadata": {
    "id": "SadyUDgZs0t3"
   },
   "source": [
    "- рассчитайте для каждой группы количество посетителей, сделавших покупку, и общее количество посетителей."
   ]
  },
  {
   "cell_type": "code",
   "execution_count": 29,
   "id": "4623c897",
   "metadata": {},
   "outputs": [],
   "source": [
    "df_inteface = df_inteface.merge(filt_events, on='user_id', how='left')"
   ]
  },
  {
   "cell_type": "code",
   "execution_count": 38,
   "id": "7ph853Xks4sy",
   "metadata": {
    "id": "7ph853Xks4sy"
   },
   "outputs": [
    {
     "name": "stdout",
     "output_type": "stream",
     "text": [
      "Общее количество посетителей: group\n",
      "A    5383\n",
      "B    5351\n",
      "Name: user_id, dtype: int64\n",
      "\n",
      "Посетители сделавшие покупку: group\n",
      "A    1480\n",
      "B    1579\n",
      "Name: user_id, dtype: int64\n",
      "\n",
      "Конверсия по группам:   group  user_id\n",
      "0     A    27.49\n",
      "1     B    29.51\n",
      "\n",
      "Изменение конверсии: 2.02 п.п.\n"
     ]
    }
   ],
   "source": [
    "all_users = df_inteface.groupby('group')['user_id'].nunique()\n",
    "\n",
    "pay_users = df_inteface[df_inteface['event_name'] == 'purchase']\n",
    "pay_users = pay_users.groupby('group')['user_id'].nunique()\n",
    "\n",
    "conv = (100 * (pay_users / all_users)).round(2).reset_index()\n",
    "\n",
    "pp = (conv.loc[conv['group'] == 'B', 'user_id'].values[0] - conv.loc[conv['group'] == 'A', 'user_id'].values[0]).round(2)\n",
    "\n",
    "print(f\"Общее количество посетителей: {all_users}\")\n",
    "print()\n",
    "print(f\"Посетители сделавшие покупку: {pay_users}\")\n",
    "print()\n",
    "print(f\"Конверсия по группам: {conv}\")\n",
    "print()\n",
    "print(f\"Изменение конверсии: {pp} п.п.\")"
   ]
  },
  {
   "cell_type": "markdown",
   "id": "sh1JpGvAs5E3",
   "metadata": {
    "id": "sh1JpGvAs5E3"
   },
   "source": [
    "- сделайте предварительный общий вывод об изменении пользовательской активности в тестовой группе по сравнению с контрольной."
   ]
  },
  {
   "cell_type": "markdown",
   "id": "eb5078ac",
   "metadata": {
    "id": "hHTHPkJYs8mE"
   },
   "source": [
    "По подготовленным данным видно увеличение конверсии пользователей в тестовой группе на 2.02 п.п. Увеличение конверсии в тестовой группе не достигло ожидаемых 3 п.п."
   ]
  },
  {
   "cell_type": "markdown",
   "id": "IKZ1Oo3Ws919",
   "metadata": {
    "id": "IKZ1Oo3Ws919"
   },
   "source": [
    "## 4. Проведите оценку результатов A/B-тестирования:"
   ]
  },
  {
   "cell_type": "markdown",
   "id": "dcUdBSmvtC-E",
   "metadata": {
    "id": "dcUdBSmvtC-E"
   },
   "source": [
    "- Проверьте изменение конверсии подходящим статистическим тестом, учитывая все этапы проверки гипотез."
   ]
  },
  {
   "cell_type": "markdown",
   "id": "db5b40f8",
   "metadata": {},
   "source": [
    "Нулевая гипотеза H₀: Конверсия в контрольной группе равна конверсии в тестовой группе p1-p2=0.\n",
    "\n",
    "Альтернативная гипотеза H₁: Конверсия в тестовой группе В больше, чем в контрольной p2>p1."
   ]
  },
  {
   "cell_type": "code",
   "execution_count": null,
   "id": "86843cb7",
   "metadata": {
    "id": "l_KOziBQtL3t"
   },
   "outputs": [],
   "source": [
    "all_users = all_users.reset_index()\n",
    "pay_users = pay_users.reset_index()\n",
    "\n",
    "success_a = pay_users.loc[pay_users['group'] == 'A', 'user_id'].values[0]\n",
    "total_a = all_users.loc[all_users['group'] == 'A', 'user_id'].values[0]\n",
    "\n",
    "success_b = pay_users.loc[pay_users['group'] == 'B', 'user_id'].values[0]\n",
    "total_b = all_users.loc[all_users['group'] == 'B', 'user_id'].values[0]\n",
    "\n",
    "z_stat, p_value = sm.stats.proportions_ztest([success_b, success_a], [total_b, total_a], alternative='larger')"
   ]
  },
  {
   "cell_type": "code",
   "execution_count": null,
   "id": "l_KOziBQtL3t",
   "metadata": {
    "id": "l_KOziBQtL3t"
   },
   "outputs": [],
   "source": [
    "print(f\"Z-статистика: {z_stat}, p-значение: {p_value}\")\n",
    "\n",
    "if p_value < alpha:\n",
    "    print('Отвергаем нулевую гипотезу: различия статистически значимы.')\n",
    "else:\n",
    "    print('Не отвергаем нулевую гипотезу: различия не статистически значимы.')"
   ]
  },
  {
   "cell_type": "markdown",
   "id": "9jkyKOjgtGoc",
   "metadata": {
    "id": "9jkyKOjgtGoc"
   },
   "source": [
    "- Опишите выводы по проведённой оценке результатов A/B-тестирования. Что можно сказать про результаты A/B-тестирования? Был ли достигнут ожидаемый эффект в изменении конверсии?"
   ]
  },
  {
   "cell_type": "markdown",
   "id": "npoPPSKytKvR",
   "metadata": {
    "id": "npoPPSKytKvR"
   },
   "source": [
    "Результаты оценки А/В тестирования:\n",
    "- Увеличение конверсии тестовой группы составило 2.02 п.п.;\n",
    "- Z-тест показал p-value = 0.028, что говорит о статистической значимости изменений.\n",
    "\n",
    "Ожидаемый эффект изменений недостигнут."
   ]
  }
 ],
 "metadata": {
  "ExecuteTimeLog": [
   {
    "duration": 54,
    "start_time": "2025-06-10T04:39:22.841Z"
   },
   {
    "duration": 383,
    "start_time": "2025-06-10T04:39:38.432Z"
   },
   {
    "duration": 127,
    "start_time": "2025-06-10T04:39:40.272Z"
   },
   {
    "duration": 88,
    "start_time": "2025-06-10T04:39:46.664Z"
   },
   {
    "duration": 73,
    "start_time": "2025-06-10T04:40:31.415Z"
   },
   {
    "duration": 94,
    "start_time": "2025-06-10T04:43:54.124Z"
   },
   {
    "duration": 64,
    "start_time": "2025-06-10T04:49:45.311Z"
   },
   {
    "duration": 73,
    "start_time": "2025-06-10T04:52:03.036Z"
   },
   {
    "duration": 113,
    "start_time": "2025-06-10T04:52:10.092Z"
   },
   {
    "duration": 1582,
    "start_time": "2025-06-10T04:52:36.731Z"
   },
   {
    "duration": 1461,
    "start_time": "2025-06-10T04:52:42.546Z"
   },
   {
    "duration": 85,
    "start_time": "2025-06-10T04:52:44.009Z"
   },
   {
    "duration": 1759,
    "start_time": "2025-06-10T04:52:44.096Z"
   },
   {
    "duration": 6,
    "start_time": "2025-06-10T04:55:21.824Z"
   },
   {
    "duration": 11,
    "start_time": "2025-06-10T04:56:06.039Z"
   },
   {
    "duration": 6,
    "start_time": "2025-06-10T04:56:34.191Z"
   },
   {
    "duration": 87,
    "start_time": "2025-06-10T04:57:51.454Z"
   },
   {
    "duration": 109,
    "start_time": "2025-06-10T04:58:46.548Z"
   },
   {
    "duration": 8,
    "start_time": "2025-06-10T04:58:49.341Z"
   },
   {
    "duration": 8,
    "start_time": "2025-06-10T04:59:27.956Z"
   },
   {
    "duration": 9,
    "start_time": "2025-06-10T04:59:35.411Z"
   },
   {
    "duration": 9,
    "start_time": "2025-06-10T05:08:33.828Z"
   },
   {
    "duration": 8,
    "start_time": "2025-06-10T05:09:06.641Z"
   },
   {
    "duration": 8,
    "start_time": "2025-06-10T05:09:10.666Z"
   },
   {
    "duration": 7,
    "start_time": "2025-06-10T05:09:21.929Z"
   },
   {
    "duration": 7,
    "start_time": "2025-06-10T05:09:29.817Z"
   },
   {
    "duration": 7,
    "start_time": "2025-06-10T05:10:20.682Z"
   },
   {
    "duration": 84,
    "start_time": "2025-06-10T05:12:01.520Z"
   },
   {
    "duration": 68,
    "start_time": "2025-06-10T05:12:12.718Z"
   },
   {
    "duration": 13,
    "start_time": "2025-06-10T05:12:17.478Z"
   },
   {
    "duration": 12,
    "start_time": "2025-06-10T05:12:33.863Z"
   },
   {
    "duration": 7,
    "start_time": "2025-06-10T05:13:11.453Z"
   },
   {
    "duration": 1422,
    "start_time": "2025-06-10T05:13:21.377Z"
   },
   {
    "duration": 77,
    "start_time": "2025-06-10T05:13:22.801Z"
   },
   {
    "duration": 13,
    "start_time": "2025-06-10T05:13:22.880Z"
   },
   {
    "duration": 7,
    "start_time": "2025-06-10T05:13:22.895Z"
   },
   {
    "duration": 5,
    "start_time": "2025-06-10T05:13:22.904Z"
   },
   {
    "duration": 6,
    "start_time": "2025-06-10T05:13:22.911Z"
   },
   {
    "duration": 1594,
    "start_time": "2025-06-10T05:13:22.919Z"
   },
   {
    "duration": 12,
    "start_time": "2025-06-10T05:13:34.901Z"
   },
   {
    "duration": 4,
    "start_time": "2025-06-10T05:21:56.604Z"
   },
   {
    "duration": 6,
    "start_time": "2025-06-10T05:22:00.340Z"
   },
   {
    "duration": 131,
    "start_time": "2025-06-10T05:28:07.382Z"
   },
   {
    "duration": 14,
    "start_time": "2025-06-10T05:29:42.781Z"
   },
   {
    "duration": 1430,
    "start_time": "2025-06-10T05:34:04.048Z"
   },
   {
    "duration": 1481,
    "start_time": "2025-06-10T05:34:42.943Z"
   },
   {
    "duration": 14,
    "start_time": "2025-06-10T05:35:20.127Z"
   },
   {
    "duration": 13,
    "start_time": "2025-06-10T05:35:32.430Z"
   },
   {
    "duration": 15,
    "start_time": "2025-06-10T05:36:13.181Z"
   },
   {
    "duration": 14,
    "start_time": "2025-06-10T05:37:20.885Z"
   },
   {
    "duration": 14,
    "start_time": "2025-06-10T05:38:23.612Z"
   },
   {
    "duration": 16,
    "start_time": "2025-06-10T05:38:50.867Z"
   },
   {
    "duration": 11,
    "start_time": "2025-06-10T05:41:49.048Z"
   },
   {
    "duration": 8,
    "start_time": "2025-06-10T05:43:05.143Z"
   },
   {
    "duration": 8,
    "start_time": "2025-06-10T05:43:11.591Z"
   },
   {
    "duration": 11,
    "start_time": "2025-06-10T05:43:39.134Z"
   },
   {
    "duration": 10,
    "start_time": "2025-06-10T05:44:04.502Z"
   },
   {
    "duration": 11,
    "start_time": "2025-06-10T05:44:18.358Z"
   },
   {
    "duration": 10,
    "start_time": "2025-06-10T05:44:52.300Z"
   },
   {
    "duration": 10,
    "start_time": "2025-06-10T05:45:09.508Z"
   },
   {
    "duration": 10,
    "start_time": "2025-06-10T05:45:20.340Z"
   },
   {
    "duration": 10,
    "start_time": "2025-06-10T05:45:32.732Z"
   },
   {
    "duration": 10,
    "start_time": "2025-06-10T05:45:48.132Z"
   },
   {
    "duration": 10,
    "start_time": "2025-06-10T05:46:05.940Z"
   },
   {
    "duration": 11,
    "start_time": "2025-06-10T05:46:11.963Z"
   },
   {
    "duration": 6,
    "start_time": "2025-06-10T05:48:03.817Z"
   },
   {
    "duration": 23,
    "start_time": "2025-06-10T06:07:58.678Z"
   },
   {
    "duration": 20,
    "start_time": "2025-06-10T06:09:24.540Z"
   },
   {
    "duration": 16,
    "start_time": "2025-06-10T06:10:07.859Z"
   },
   {
    "duration": 65,
    "start_time": "2025-06-10T06:10:31.291Z"
   },
   {
    "duration": 477,
    "start_time": "2025-06-10T06:10:34.171Z"
   },
   {
    "duration": 19,
    "start_time": "2025-06-10T06:24:49.743Z"
   },
   {
    "duration": 15,
    "start_time": "2025-06-10T06:25:19.191Z"
   },
   {
    "duration": 10,
    "start_time": "2025-06-10T06:26:01.789Z"
   },
   {
    "duration": 1638,
    "start_time": "2025-06-11T03:48:17.819Z"
   },
   {
    "duration": 131,
    "start_time": "2025-06-11T03:48:19.460Z"
   },
   {
    "duration": 14,
    "start_time": "2025-06-11T03:48:19.592Z"
   },
   {
    "duration": 18,
    "start_time": "2025-06-11T03:48:19.607Z"
   },
   {
    "duration": 5,
    "start_time": "2025-06-11T03:48:19.627Z"
   },
   {
    "duration": 11,
    "start_time": "2025-06-11T03:48:19.634Z"
   },
   {
    "duration": 71,
    "start_time": "2025-06-11T03:48:19.670Z"
   },
   {
    "duration": 19,
    "start_time": "2025-06-11T03:48:19.743Z"
   },
   {
    "duration": 472,
    "start_time": "2025-06-11T03:48:19.763Z"
   },
   {
    "duration": 10,
    "start_time": "2025-06-11T03:48:20.237Z"
   },
   {
    "duration": 1730,
    "start_time": "2025-06-11T03:48:20.250Z"
   },
   {
    "duration": 14,
    "start_time": "2025-06-11T03:48:38.830Z"
   },
   {
    "duration": 8,
    "start_time": "2025-06-11T03:48:44.159Z"
   },
   {
    "duration": 127,
    "start_time": "2025-06-11T03:48:56.061Z"
   },
   {
    "duration": 9,
    "start_time": "2025-06-11T03:49:04.557Z"
   },
   {
    "duration": 10,
    "start_time": "2025-06-11T03:49:07.733Z"
   },
   {
    "duration": 137,
    "start_time": "2025-06-11T03:51:57.506Z"
   },
   {
    "duration": 6,
    "start_time": "2025-06-11T03:52:07.906Z"
   },
   {
    "duration": 5,
    "start_time": "2025-06-11T03:54:27.208Z"
   },
   {
    "duration": 11,
    "start_time": "2025-06-11T03:55:05.128Z"
   },
   {
    "duration": 17,
    "start_time": "2025-06-11T03:58:25.061Z"
   },
   {
    "duration": 41,
    "start_time": "2025-06-11T03:58:35.900Z"
   },
   {
    "duration": 19,
    "start_time": "2025-06-11T04:05:52.715Z"
   },
   {
    "duration": 6,
    "start_time": "2025-06-11T04:14:48.898Z"
   },
   {
    "duration": 1504,
    "start_time": "2025-06-11T04:15:53.713Z"
   },
   {
    "duration": 81,
    "start_time": "2025-06-11T04:15:55.219Z"
   },
   {
    "duration": 20,
    "start_time": "2025-06-11T04:15:55.302Z"
   },
   {
    "duration": 45,
    "start_time": "2025-06-11T04:15:55.324Z"
   },
   {
    "duration": 7,
    "start_time": "2025-06-11T04:15:55.372Z"
   },
   {
    "duration": 16,
    "start_time": "2025-06-11T04:15:55.381Z"
   },
   {
    "duration": 11,
    "start_time": "2025-06-11T04:15:55.399Z"
   },
   {
    "duration": 22,
    "start_time": "2025-06-11T04:15:55.413Z"
   },
   {
    "duration": 441,
    "start_time": "2025-06-11T04:15:55.437Z"
   },
   {
    "duration": 11,
    "start_time": "2025-06-11T04:15:55.880Z"
   },
   {
    "duration": 1705,
    "start_time": "2025-06-11T04:15:55.893Z"
   },
   {
    "duration": 14,
    "start_time": "2025-06-11T04:15:57.600Z"
   },
   {
    "duration": 11,
    "start_time": "2025-06-11T04:15:57.616Z"
   },
   {
    "duration": 151,
    "start_time": "2025-06-11T04:15:57.629Z"
   },
   {
    "duration": 9,
    "start_time": "2025-06-11T04:15:57.782Z"
   },
   {
    "duration": 22,
    "start_time": "2025-06-11T04:15:57.793Z"
   },
   {
    "duration": 16,
    "start_time": "2025-06-11T04:15:57.817Z"
   },
   {
    "duration": 37,
    "start_time": "2025-06-11T04:15:57.835Z"
   },
   {
    "duration": 1923,
    "start_time": "2025-06-11T04:27:50.460Z"
   },
   {
    "duration": 19,
    "start_time": "2025-06-11T04:28:02.661Z"
   },
   {
    "duration": 17,
    "start_time": "2025-06-11T04:28:04.597Z"
   },
   {
    "duration": 1513,
    "start_time": "2025-06-11T04:28:45.284Z"
   },
   {
    "duration": 11,
    "start_time": "2025-06-11T04:29:40.195Z"
   },
   {
    "duration": 17,
    "start_time": "2025-06-11T05:18:43.683Z"
   },
   {
    "duration": 214,
    "start_time": "2025-06-11T05:20:53.912Z"
   },
   {
    "duration": 50,
    "start_time": "2025-06-11T05:21:00.184Z"
   },
   {
    "duration": 1488,
    "start_time": "2025-06-11T05:22:35.818Z"
   },
   {
    "duration": 342,
    "start_time": "2025-06-11T05:22:37.309Z"
   },
   {
    "duration": 15,
    "start_time": "2025-06-11T05:22:37.653Z"
   },
   {
    "duration": 8,
    "start_time": "2025-06-11T05:22:37.670Z"
   },
   {
    "duration": 5,
    "start_time": "2025-06-11T05:22:37.681Z"
   },
   {
    "duration": 15,
    "start_time": "2025-06-11T05:22:37.688Z"
   },
   {
    "duration": 9,
    "start_time": "2025-06-11T05:22:37.705Z"
   },
   {
    "duration": 66,
    "start_time": "2025-06-11T05:22:37.716Z"
   },
   {
    "duration": 406,
    "start_time": "2025-06-11T05:22:37.784Z"
   },
   {
    "duration": 12,
    "start_time": "2025-06-11T05:22:38.192Z"
   },
   {
    "duration": 1816,
    "start_time": "2025-06-11T05:22:38.205Z"
   },
   {
    "duration": 14,
    "start_time": "2025-06-11T05:22:40.023Z"
   },
   {
    "duration": 11,
    "start_time": "2025-06-11T05:22:40.039Z"
   },
   {
    "duration": 132,
    "start_time": "2025-06-11T05:22:40.070Z"
   },
   {
    "duration": 10,
    "start_time": "2025-06-11T05:22:40.204Z"
   },
   {
    "duration": 6,
    "start_time": "2025-06-11T05:22:40.216Z"
   },
   {
    "duration": 11,
    "start_time": "2025-06-11T05:22:40.224Z"
   },
   {
    "duration": 40,
    "start_time": "2025-06-11T05:22:40.237Z"
   },
   {
    "duration": 11,
    "start_time": "2025-06-11T05:22:40.279Z"
   },
   {
    "duration": 28,
    "start_time": "2025-06-11T05:22:40.292Z"
   },
   {
    "duration": 206,
    "start_time": "2025-06-11T05:22:40.322Z"
   },
   {
    "duration": 140,
    "start_time": "2025-06-11T05:22:49.934Z"
   },
   {
    "duration": 13,
    "start_time": "2025-06-11T05:22:56.334Z"
   },
   {
    "duration": 13,
    "start_time": "2025-06-11T05:22:57.286Z"
   },
   {
    "duration": 13,
    "start_time": "2025-06-11T05:22:57.533Z"
   },
   {
    "duration": 11,
    "start_time": "2025-06-11T05:22:57.758Z"
   },
   {
    "duration": 13,
    "start_time": "2025-06-11T05:22:57.942Z"
   },
   {
    "duration": 11,
    "start_time": "2025-06-11T05:22:58.126Z"
   },
   {
    "duration": 11,
    "start_time": "2025-06-11T05:22:58.310Z"
   },
   {
    "duration": 11,
    "start_time": "2025-06-11T05:22:58.502Z"
   },
   {
    "duration": 14,
    "start_time": "2025-06-11T05:22:58.679Z"
   },
   {
    "duration": 16,
    "start_time": "2025-06-11T05:22:58.870Z"
   },
   {
    "duration": 14,
    "start_time": "2025-06-11T05:22:59.054Z"
   },
   {
    "duration": 14,
    "start_time": "2025-06-11T05:22:59.238Z"
   },
   {
    "duration": 16,
    "start_time": "2025-06-11T05:22:59.422Z"
   },
   {
    "duration": 12,
    "start_time": "2025-06-11T05:22:59.630Z"
   },
   {
    "duration": 11,
    "start_time": "2025-06-11T05:22:59.990Z"
   },
   {
    "duration": 12,
    "start_time": "2025-06-11T05:23:03.862Z"
   },
   {
    "duration": 1462,
    "start_time": "2025-06-11T05:23:13.320Z"
   },
   {
    "duration": 135,
    "start_time": "2025-06-11T05:23:14.784Z"
   },
   {
    "duration": 14,
    "start_time": "2025-06-11T05:23:14.920Z"
   },
   {
    "duration": 31,
    "start_time": "2025-06-11T05:23:14.936Z"
   },
   {
    "duration": 5,
    "start_time": "2025-06-11T05:23:14.970Z"
   },
   {
    "duration": 12,
    "start_time": "2025-06-11T05:23:14.976Z"
   },
   {
    "duration": 9,
    "start_time": "2025-06-11T05:23:14.989Z"
   },
   {
    "duration": 68,
    "start_time": "2025-06-11T05:23:15.000Z"
   },
   {
    "duration": 408,
    "start_time": "2025-06-11T05:23:15.070Z"
   },
   {
    "duration": 9,
    "start_time": "2025-06-11T05:23:15.480Z"
   },
   {
    "duration": 1629,
    "start_time": "2025-06-11T05:23:15.491Z"
   },
   {
    "duration": 14,
    "start_time": "2025-06-11T05:23:17.121Z"
   },
   {
    "duration": 16,
    "start_time": "2025-06-11T05:23:17.137Z"
   },
   {
    "duration": 130,
    "start_time": "2025-06-11T05:23:17.170Z"
   },
   {
    "duration": 10,
    "start_time": "2025-06-11T05:23:17.302Z"
   },
   {
    "duration": 7,
    "start_time": "2025-06-11T05:23:17.315Z"
   },
   {
    "duration": 12,
    "start_time": "2025-06-11T05:23:17.324Z"
   },
   {
    "duration": 41,
    "start_time": "2025-06-11T05:23:17.339Z"
   },
   {
    "duration": 13,
    "start_time": "2025-06-11T05:23:17.382Z"
   },
   {
    "duration": 35,
    "start_time": "2025-06-11T05:23:17.396Z"
   },
   {
    "duration": 202,
    "start_time": "2025-06-11T05:23:17.434Z"
   },
   {
    "duration": 49,
    "start_time": "2025-06-11T05:23:22.710Z"
   },
   {
    "duration": 198,
    "start_time": "2025-06-11T05:25:18.612Z"
   },
   {
    "duration": 61,
    "start_time": "2025-06-11T05:25:37.820Z"
   },
   {
    "duration": 123,
    "start_time": "2025-06-11T05:25:58.788Z"
   },
   {
    "duration": 281,
    "start_time": "2025-06-11T05:26:04.707Z"
   },
   {
    "duration": 199,
    "start_time": "2025-06-11T05:26:58.059Z"
   },
   {
    "duration": 87,
    "start_time": "2025-06-11T05:27:04.298Z"
   },
   {
    "duration": 1539,
    "start_time": "2025-06-11T05:27:17.337Z"
   },
   {
    "duration": 119,
    "start_time": "2025-06-11T05:27:18.878Z"
   },
   {
    "duration": 15,
    "start_time": "2025-06-11T05:27:19.001Z"
   },
   {
    "duration": 8,
    "start_time": "2025-06-11T05:27:19.019Z"
   },
   {
    "duration": 22,
    "start_time": "2025-06-11T05:27:19.029Z"
   },
   {
    "duration": 25,
    "start_time": "2025-06-11T05:27:19.053Z"
   },
   {
    "duration": 9,
    "start_time": "2025-06-11T05:27:19.080Z"
   },
   {
    "duration": 20,
    "start_time": "2025-06-11T05:27:19.092Z"
   },
   {
    "duration": 434,
    "start_time": "2025-06-11T05:27:19.114Z"
   },
   {
    "duration": 24,
    "start_time": "2025-06-11T05:27:19.550Z"
   },
   {
    "duration": 1645,
    "start_time": "2025-06-11T05:27:19.576Z"
   },
   {
    "duration": 13,
    "start_time": "2025-06-11T05:27:21.223Z"
   },
   {
    "duration": 31,
    "start_time": "2025-06-11T05:27:21.240Z"
   },
   {
    "duration": 138,
    "start_time": "2025-06-11T05:27:21.273Z"
   },
   {
    "duration": 10,
    "start_time": "2025-06-11T05:27:21.412Z"
   },
   {
    "duration": 6,
    "start_time": "2025-06-11T05:27:21.424Z"
   },
   {
    "duration": 12,
    "start_time": "2025-06-11T05:27:21.432Z"
   },
   {
    "duration": 38,
    "start_time": "2025-06-11T05:27:21.445Z"
   },
   {
    "duration": 17,
    "start_time": "2025-06-11T05:27:21.484Z"
   },
   {
    "duration": 136,
    "start_time": "2025-06-11T05:27:21.503Z"
   },
   {
    "duration": 351,
    "start_time": "2025-06-11T05:27:21.641Z"
   },
   {
    "duration": 78,
    "start_time": "2025-06-11T05:27:30.915Z"
   },
   {
    "duration": 1578,
    "start_time": "2025-06-11T05:29:17.140Z"
   },
   {
    "duration": 129,
    "start_time": "2025-06-11T05:29:18.720Z"
   },
   {
    "duration": 15,
    "start_time": "2025-06-11T05:29:18.851Z"
   },
   {
    "duration": 8,
    "start_time": "2025-06-11T05:29:18.868Z"
   },
   {
    "duration": 6,
    "start_time": "2025-06-11T05:29:18.878Z"
   },
   {
    "duration": 13,
    "start_time": "2025-06-11T05:29:18.885Z"
   },
   {
    "duration": 10,
    "start_time": "2025-06-11T05:29:18.900Z"
   },
   {
    "duration": 68,
    "start_time": "2025-06-11T05:29:18.911Z"
   },
   {
    "duration": 410,
    "start_time": "2025-06-11T05:29:18.981Z"
   },
   {
    "duration": 9,
    "start_time": "2025-06-11T05:29:19.393Z"
   },
   {
    "duration": 1592,
    "start_time": "2025-06-11T05:29:19.404Z"
   },
   {
    "duration": 14,
    "start_time": "2025-06-11T05:29:20.998Z"
   },
   {
    "duration": 17,
    "start_time": "2025-06-11T05:29:21.013Z"
   },
   {
    "duration": 155,
    "start_time": "2025-06-11T05:29:21.033Z"
   },
   {
    "duration": 9,
    "start_time": "2025-06-11T05:29:21.190Z"
   },
   {
    "duration": 6,
    "start_time": "2025-06-11T05:29:21.200Z"
   },
   {
    "duration": 12,
    "start_time": "2025-06-11T05:29:21.207Z"
   },
   {
    "duration": 52,
    "start_time": "2025-06-11T05:29:21.220Z"
   },
   {
    "duration": 11,
    "start_time": "2025-06-11T05:29:21.274Z"
   },
   {
    "duration": 144,
    "start_time": "2025-06-11T05:29:21.287Z"
   },
   {
    "duration": 355,
    "start_time": "2025-06-11T05:29:21.433Z"
   },
   {
    "duration": 73,
    "start_time": "2025-06-11T05:29:33.568Z"
   },
   {
    "duration": 40,
    "start_time": "2025-06-11T05:29:43.536Z"
   },
   {
    "duration": 65,
    "start_time": "2025-06-11T05:29:46.823Z"
   },
   {
    "duration": 41,
    "start_time": "2025-06-11T05:29:48.552Z"
   },
   {
    "duration": 28,
    "start_time": "2025-06-11T05:30:13.775Z"
   },
   {
    "duration": 36,
    "start_time": "2025-06-11T05:30:18.064Z"
   },
   {
    "duration": 1536,
    "start_time": "2025-06-11T05:30:24.046Z"
   },
   {
    "duration": 75,
    "start_time": "2025-06-11T05:30:25.585Z"
   },
   {
    "duration": 16,
    "start_time": "2025-06-11T05:30:25.664Z"
   },
   {
    "duration": 27,
    "start_time": "2025-06-11T05:30:25.683Z"
   },
   {
    "duration": 5,
    "start_time": "2025-06-11T05:30:25.712Z"
   },
   {
    "duration": 25,
    "start_time": "2025-06-11T05:30:25.719Z"
   },
   {
    "duration": 21,
    "start_time": "2025-06-11T05:30:25.746Z"
   },
   {
    "duration": 25,
    "start_time": "2025-06-11T05:30:25.769Z"
   },
   {
    "duration": 409,
    "start_time": "2025-06-11T05:30:25.796Z"
   },
   {
    "duration": 9,
    "start_time": "2025-06-11T05:30:26.207Z"
   },
   {
    "duration": 1675,
    "start_time": "2025-06-11T05:30:26.218Z"
   },
   {
    "duration": 14,
    "start_time": "2025-06-11T05:30:27.895Z"
   },
   {
    "duration": 28,
    "start_time": "2025-06-11T05:30:27.912Z"
   },
   {
    "duration": 123,
    "start_time": "2025-06-11T05:30:27.942Z"
   },
   {
    "duration": 10,
    "start_time": "2025-06-11T05:30:28.071Z"
   },
   {
    "duration": 15,
    "start_time": "2025-06-11T05:30:28.083Z"
   },
   {
    "duration": 12,
    "start_time": "2025-06-11T05:30:28.100Z"
   },
   {
    "duration": 16,
    "start_time": "2025-06-11T05:30:28.114Z"
   },
   {
    "duration": 11,
    "start_time": "2025-06-11T05:30:28.132Z"
   },
   {
    "duration": 211,
    "start_time": "2025-06-11T05:30:28.172Z"
   },
   {
    "duration": 155,
    "start_time": "2025-06-11T05:30:28.385Z"
   },
   {
    "duration": 15,
    "start_time": "2025-06-11T05:30:34.367Z"
   },
   {
    "duration": 16,
    "start_time": "2025-06-11T05:30:35.479Z"
   },
   {
    "duration": 19,
    "start_time": "2025-06-11T05:30:36.167Z"
   },
   {
    "duration": 16,
    "start_time": "2025-06-11T05:30:36.487Z"
   },
   {
    "duration": 16,
    "start_time": "2025-06-11T05:30:36.671Z"
   },
   {
    "duration": 15,
    "start_time": "2025-06-11T05:30:36.838Z"
   },
   {
    "duration": 16,
    "start_time": "2025-06-11T05:30:36.991Z"
   },
   {
    "duration": 16,
    "start_time": "2025-06-11T05:30:37.143Z"
   },
   {
    "duration": 16,
    "start_time": "2025-06-11T05:30:37.303Z"
   },
   {
    "duration": 15,
    "start_time": "2025-06-11T05:30:37.455Z"
   },
   {
    "duration": 16,
    "start_time": "2025-06-11T05:30:37.599Z"
   },
   {
    "duration": 69,
    "start_time": "2025-06-11T05:30:45.255Z"
   },
   {
    "duration": 42,
    "start_time": "2025-06-11T05:30:48.334Z"
   },
   {
    "duration": 65,
    "start_time": "2025-06-11T05:30:49.079Z"
   },
   {
    "duration": 42,
    "start_time": "2025-06-11T05:31:00.039Z"
   },
   {
    "duration": 1483,
    "start_time": "2025-06-11T05:31:06.709Z"
   },
   {
    "duration": 116,
    "start_time": "2025-06-11T05:31:08.194Z"
   },
   {
    "duration": 15,
    "start_time": "2025-06-11T05:31:08.312Z"
   },
   {
    "duration": 20,
    "start_time": "2025-06-11T05:31:08.329Z"
   },
   {
    "duration": 5,
    "start_time": "2025-06-11T05:31:08.352Z"
   },
   {
    "duration": 12,
    "start_time": "2025-06-11T05:31:08.360Z"
   },
   {
    "duration": 77,
    "start_time": "2025-06-11T05:31:08.375Z"
   },
   {
    "duration": 22,
    "start_time": "2025-06-11T05:31:08.454Z"
   },
   {
    "duration": 409,
    "start_time": "2025-06-11T05:31:08.478Z"
   },
   {
    "duration": 10,
    "start_time": "2025-06-11T05:31:08.889Z"
   },
   {
    "duration": 1878,
    "start_time": "2025-06-11T05:31:08.900Z"
   },
   {
    "duration": 13,
    "start_time": "2025-06-11T05:31:10.780Z"
   },
   {
    "duration": 17,
    "start_time": "2025-06-11T05:31:10.795Z"
   },
   {
    "duration": 139,
    "start_time": "2025-06-11T05:31:10.815Z"
   },
   {
    "duration": 18,
    "start_time": "2025-06-11T05:31:10.956Z"
   },
   {
    "duration": 20,
    "start_time": "2025-06-11T05:31:10.976Z"
   },
   {
    "duration": 15,
    "start_time": "2025-06-11T05:31:10.997Z"
   },
   {
    "duration": 19,
    "start_time": "2025-06-11T05:31:11.015Z"
   },
   {
    "duration": 36,
    "start_time": "2025-06-11T05:31:11.035Z"
   },
   {
    "duration": 210,
    "start_time": "2025-06-11T05:31:11.073Z"
   },
   {
    "duration": 178,
    "start_time": "2025-06-11T05:31:44.167Z"
   },
   {
    "duration": 1555,
    "start_time": "2025-06-11T05:31:58.441Z"
   },
   {
    "duration": 81,
    "start_time": "2025-06-11T05:31:59.999Z"
   },
   {
    "duration": 14,
    "start_time": "2025-06-11T05:32:00.082Z"
   },
   {
    "duration": 55,
    "start_time": "2025-06-11T05:32:00.098Z"
   },
   {
    "duration": 21,
    "start_time": "2025-06-11T05:32:00.155Z"
   },
   {
    "duration": 44,
    "start_time": "2025-06-11T05:32:00.178Z"
   },
   {
    "duration": 62,
    "start_time": "2025-06-11T05:32:00.224Z"
   },
   {
    "duration": 51,
    "start_time": "2025-06-11T05:32:00.288Z"
   },
   {
    "duration": 406,
    "start_time": "2025-06-11T05:32:00.341Z"
   },
   {
    "duration": 24,
    "start_time": "2025-06-11T05:32:00.749Z"
   },
   {
    "duration": 1991,
    "start_time": "2025-06-11T05:32:00.776Z"
   },
   {
    "duration": 16,
    "start_time": "2025-06-11T05:32:02.768Z"
   },
   {
    "duration": 24,
    "start_time": "2025-06-11T05:32:02.786Z"
   },
   {
    "duration": 159,
    "start_time": "2025-06-11T05:32:02.813Z"
   },
   {
    "duration": 10,
    "start_time": "2025-06-11T05:32:02.975Z"
   },
   {
    "duration": 10,
    "start_time": "2025-06-11T05:32:02.988Z"
   },
   {
    "duration": 184,
    "start_time": "2025-06-11T05:32:03.000Z"
   },
   {
    "duration": 16,
    "start_time": "2025-06-11T05:32:03.186Z"
   },
   {
    "duration": 12,
    "start_time": "2025-06-11T05:32:03.204Z"
   },
   {
    "duration": 259,
    "start_time": "2025-06-11T05:32:03.218Z"
   },
   {
    "duration": 56,
    "start_time": "2025-06-11T05:32:06.862Z"
   },
   {
    "duration": 1547,
    "start_time": "2025-06-11T05:32:21.075Z"
   },
   {
    "duration": 133,
    "start_time": "2025-06-11T05:32:22.624Z"
   },
   {
    "duration": 15,
    "start_time": "2025-06-11T05:32:22.759Z"
   },
   {
    "duration": 7,
    "start_time": "2025-06-11T05:32:22.776Z"
   },
   {
    "duration": 6,
    "start_time": "2025-06-11T05:32:22.785Z"
   },
   {
    "duration": 10,
    "start_time": "2025-06-11T05:32:22.793Z"
   },
   {
    "duration": 21,
    "start_time": "2025-06-11T05:32:22.805Z"
   },
   {
    "duration": 20,
    "start_time": "2025-06-11T05:32:22.828Z"
   },
   {
    "duration": 430,
    "start_time": "2025-06-11T05:32:22.870Z"
   },
   {
    "duration": 11,
    "start_time": "2025-06-11T05:32:23.302Z"
   },
   {
    "duration": 1626,
    "start_time": "2025-06-11T05:32:23.315Z"
   },
   {
    "duration": 14,
    "start_time": "2025-06-11T05:32:24.942Z"
   },
   {
    "duration": 36,
    "start_time": "2025-06-11T05:32:24.958Z"
   },
   {
    "duration": 127,
    "start_time": "2025-06-11T05:32:24.998Z"
   },
   {
    "duration": 10,
    "start_time": "2025-06-11T05:32:25.127Z"
   },
   {
    "duration": 9,
    "start_time": "2025-06-11T05:32:25.139Z"
   },
   {
    "duration": 26,
    "start_time": "2025-06-11T05:32:25.150Z"
   },
   {
    "duration": 17,
    "start_time": "2025-06-11T05:32:25.178Z"
   },
   {
    "duration": 13,
    "start_time": "2025-06-11T05:32:25.197Z"
   },
   {
    "duration": 270,
    "start_time": "2025-06-11T05:32:25.211Z"
   },
   {
    "duration": 13,
    "start_time": "2025-06-11T05:32:25.483Z"
   },
   {
    "duration": 28,
    "start_time": "2025-06-11T05:32:52.269Z"
   },
   {
    "duration": 11,
    "start_time": "2025-06-11T05:51:45.146Z"
   },
   {
    "duration": 21,
    "start_time": "2025-06-11T05:51:50.283Z"
   },
   {
    "duration": 11,
    "start_time": "2025-06-11T05:51:54.658Z"
   },
   {
    "duration": 20,
    "start_time": "2025-06-11T05:55:46.685Z"
   },
   {
    "duration": 25,
    "start_time": "2025-06-11T05:56:31.765Z"
   },
   {
    "duration": 36,
    "start_time": "2025-06-11T06:04:39.094Z"
   },
   {
    "duration": 61,
    "start_time": "2025-06-11T06:04:44.581Z"
   },
   {
    "duration": 1532,
    "start_time": "2025-06-11T06:05:00.739Z"
   },
   {
    "duration": 91,
    "start_time": "2025-06-11T06:05:02.273Z"
   },
   {
    "duration": 15,
    "start_time": "2025-06-11T06:05:02.366Z"
   },
   {
    "duration": 10,
    "start_time": "2025-06-11T06:05:02.382Z"
   },
   {
    "duration": 6,
    "start_time": "2025-06-11T06:05:02.395Z"
   },
   {
    "duration": 25,
    "start_time": "2025-06-11T06:05:02.403Z"
   },
   {
    "duration": 39,
    "start_time": "2025-06-11T06:05:02.430Z"
   },
   {
    "duration": 33,
    "start_time": "2025-06-11T06:05:02.471Z"
   },
   {
    "duration": 411,
    "start_time": "2025-06-11T06:05:02.506Z"
   },
   {
    "duration": 10,
    "start_time": "2025-06-11T06:05:02.919Z"
   },
   {
    "duration": 1914,
    "start_time": "2025-06-11T06:05:02.931Z"
   },
   {
    "duration": 13,
    "start_time": "2025-06-11T06:05:04.847Z"
   },
   {
    "duration": 27,
    "start_time": "2025-06-11T06:05:04.862Z"
   },
   {
    "duration": 134,
    "start_time": "2025-06-11T06:05:04.892Z"
   },
   {
    "duration": 10,
    "start_time": "2025-06-11T06:05:05.028Z"
   },
   {
    "duration": 94,
    "start_time": "2025-06-11T06:05:05.040Z"
   },
   {
    "duration": 26,
    "start_time": "2025-06-11T06:05:05.136Z"
   },
   {
    "duration": 49,
    "start_time": "2025-06-11T06:05:05.164Z"
   },
   {
    "duration": 17,
    "start_time": "2025-06-11T06:05:05.216Z"
   },
   {
    "duration": 313,
    "start_time": "2025-06-11T06:05:05.235Z"
   },
   {
    "duration": 29,
    "start_time": "2025-06-11T06:05:05.550Z"
   },
   {
    "duration": 49,
    "start_time": "2025-06-11T06:05:05.581Z"
   },
   {
    "duration": 556,
    "start_time": "2025-06-11T06:06:23.916Z"
   },
   {
    "duration": 1574,
    "start_time": "2025-06-11T06:06:34.763Z"
   },
   {
    "duration": 121,
    "start_time": "2025-06-11T06:06:36.340Z"
   },
   {
    "duration": 15,
    "start_time": "2025-06-11T06:06:36.463Z"
   },
   {
    "duration": 22,
    "start_time": "2025-06-11T06:06:36.480Z"
   },
   {
    "duration": 5,
    "start_time": "2025-06-11T06:06:36.505Z"
   },
   {
    "duration": 55,
    "start_time": "2025-06-11T06:06:36.512Z"
   },
   {
    "duration": 11,
    "start_time": "2025-06-11T06:06:36.568Z"
   },
   {
    "duration": 23,
    "start_time": "2025-06-11T06:06:36.581Z"
   },
   {
    "duration": 426,
    "start_time": "2025-06-11T06:06:36.606Z"
   },
   {
    "duration": 12,
    "start_time": "2025-06-11T06:06:37.034Z"
   },
   {
    "duration": 1655,
    "start_time": "2025-06-11T06:06:37.049Z"
   },
   {
    "duration": 14,
    "start_time": "2025-06-11T06:06:38.706Z"
   },
   {
    "duration": 9,
    "start_time": "2025-06-11T06:06:38.723Z"
   },
   {
    "duration": 155,
    "start_time": "2025-06-11T06:06:38.736Z"
   },
   {
    "duration": 11,
    "start_time": "2025-06-11T06:06:38.893Z"
   },
   {
    "duration": 7,
    "start_time": "2025-06-11T06:06:38.906Z"
   },
   {
    "duration": 12,
    "start_time": "2025-06-11T06:06:38.915Z"
   },
   {
    "duration": 46,
    "start_time": "2025-06-11T06:06:38.930Z"
   },
   {
    "duration": 14,
    "start_time": "2025-06-11T06:06:38.978Z"
   },
   {
    "duration": 233,
    "start_time": "2025-06-11T06:06:38.994Z"
   },
   {
    "duration": 24,
    "start_time": "2025-06-11T06:06:39.229Z"
   },
   {
    "duration": 103,
    "start_time": "2025-06-11T06:06:39.255Z"
   },
   {
    "duration": 38,
    "start_time": "2025-06-11T06:07:42.051Z"
   },
   {
    "duration": 633,
    "start_time": "2025-06-11T06:19:11.399Z"
   },
   {
    "duration": 1498,
    "start_time": "2025-06-11T06:19:16.381Z"
   },
   {
    "duration": 81,
    "start_time": "2025-06-11T06:19:17.881Z"
   },
   {
    "duration": 14,
    "start_time": "2025-06-11T06:19:17.964Z"
   },
   {
    "duration": 8,
    "start_time": "2025-06-11T06:19:17.980Z"
   },
   {
    "duration": 5,
    "start_time": "2025-06-11T06:19:17.990Z"
   },
   {
    "duration": 13,
    "start_time": "2025-06-11T06:19:17.997Z"
   },
   {
    "duration": 9,
    "start_time": "2025-06-11T06:19:18.012Z"
   },
   {
    "duration": 50,
    "start_time": "2025-06-11T06:19:18.023Z"
   },
   {
    "duration": 407,
    "start_time": "2025-06-11T06:19:18.075Z"
   },
   {
    "duration": 11,
    "start_time": "2025-06-11T06:19:18.483Z"
   },
   {
    "duration": 1877,
    "start_time": "2025-06-11T06:19:18.495Z"
   },
   {
    "duration": 14,
    "start_time": "2025-06-11T06:19:20.373Z"
   },
   {
    "duration": 23,
    "start_time": "2025-06-11T06:19:20.389Z"
   },
   {
    "duration": 139,
    "start_time": "2025-06-11T06:19:20.416Z"
   },
   {
    "duration": 15,
    "start_time": "2025-06-11T06:19:20.557Z"
   },
   {
    "duration": 19,
    "start_time": "2025-06-11T06:19:20.574Z"
   },
   {
    "duration": 17,
    "start_time": "2025-06-11T06:19:20.595Z"
   },
   {
    "duration": 16,
    "start_time": "2025-06-11T06:19:20.614Z"
   },
   {
    "duration": 11,
    "start_time": "2025-06-11T06:19:20.632Z"
   },
   {
    "duration": 235,
    "start_time": "2025-06-11T06:19:20.645Z"
   },
   {
    "duration": 24,
    "start_time": "2025-06-11T06:19:20.883Z"
   },
   {
    "duration": 77,
    "start_time": "2025-06-11T06:19:20.909Z"
   },
   {
    "duration": 24,
    "start_time": "2025-06-11T06:19:20.988Z"
   },
   {
    "duration": 23,
    "start_time": "2025-06-11T06:19:30.678Z"
   },
   {
    "duration": 19,
    "start_time": "2025-06-11T06:42:14.639Z"
   },
   {
    "duration": 19,
    "start_time": "2025-06-11T06:42:25.895Z"
   },
   {
    "duration": 17,
    "start_time": "2025-06-11T06:42:35.446Z"
   },
   {
    "duration": 18,
    "start_time": "2025-06-11T06:53:11.669Z"
   },
   {
    "duration": 45,
    "start_time": "2025-06-11T06:55:14.995Z"
   },
   {
    "duration": 8,
    "start_time": "2025-06-11T08:30:52.157Z"
   },
   {
    "duration": 1559,
    "start_time": "2025-06-11T08:31:40.089Z"
   },
   {
    "duration": 139,
    "start_time": "2025-06-11T08:31:41.650Z"
   },
   {
    "duration": 14,
    "start_time": "2025-06-11T08:31:41.791Z"
   },
   {
    "duration": 7,
    "start_time": "2025-06-11T08:31:41.807Z"
   },
   {
    "duration": 6,
    "start_time": "2025-06-11T08:31:41.816Z"
   },
   {
    "duration": 33,
    "start_time": "2025-06-11T08:31:41.824Z"
   },
   {
    "duration": 51,
    "start_time": "2025-06-11T08:31:41.859Z"
   },
   {
    "duration": 33,
    "start_time": "2025-06-11T08:31:41.912Z"
   },
   {
    "duration": 445,
    "start_time": "2025-06-11T08:31:41.947Z"
   },
   {
    "duration": 11,
    "start_time": "2025-06-11T08:31:42.394Z"
   },
   {
    "duration": 1746,
    "start_time": "2025-06-11T08:31:42.408Z"
   },
   {
    "duration": 26,
    "start_time": "2025-06-11T08:31:44.156Z"
   },
   {
    "duration": 11,
    "start_time": "2025-06-11T08:31:44.185Z"
   },
   {
    "duration": 143,
    "start_time": "2025-06-11T08:31:44.199Z"
   },
   {
    "duration": 10,
    "start_time": "2025-06-11T08:31:44.344Z"
   },
   {
    "duration": 31,
    "start_time": "2025-06-11T08:31:44.355Z"
   },
   {
    "duration": 55,
    "start_time": "2025-06-11T08:31:44.388Z"
   },
   {
    "duration": 16,
    "start_time": "2025-06-11T08:31:44.445Z"
   },
   {
    "duration": 15,
    "start_time": "2025-06-11T08:31:44.463Z"
   },
   {
    "duration": 231,
    "start_time": "2025-06-11T08:31:44.480Z"
   },
   {
    "duration": 23,
    "start_time": "2025-06-11T08:31:44.713Z"
   },
   {
    "duration": 108,
    "start_time": "2025-06-11T08:31:44.738Z"
   },
   {
    "duration": 22,
    "start_time": "2025-06-11T08:31:44.848Z"
   },
   {
    "duration": 25,
    "start_time": "2025-06-11T08:31:44.873Z"
   },
   {
    "duration": 2697,
    "start_time": "2025-06-11T08:31:44.900Z"
   },
   {
    "duration": 1539,
    "start_time": "2025-06-11T08:32:19.498Z"
   },
   {
    "duration": 107,
    "start_time": "2025-06-11T08:32:21.039Z"
   },
   {
    "duration": 15,
    "start_time": "2025-06-11T08:32:21.148Z"
   },
   {
    "duration": 19,
    "start_time": "2025-06-11T08:32:21.165Z"
   },
   {
    "duration": 16,
    "start_time": "2025-06-11T08:32:21.187Z"
   },
   {
    "duration": 16,
    "start_time": "2025-06-11T08:32:21.205Z"
   },
   {
    "duration": 14,
    "start_time": "2025-06-11T08:32:21.223Z"
   },
   {
    "duration": 20,
    "start_time": "2025-06-11T08:32:21.239Z"
   },
   {
    "duration": 404,
    "start_time": "2025-06-11T08:32:21.261Z"
   },
   {
    "duration": 14,
    "start_time": "2025-06-11T08:32:21.671Z"
   },
   {
    "duration": 1744,
    "start_time": "2025-06-11T08:32:21.687Z"
   },
   {
    "duration": 14,
    "start_time": "2025-06-11T08:32:23.433Z"
   },
   {
    "duration": 26,
    "start_time": "2025-06-11T08:32:23.449Z"
   },
   {
    "duration": 144,
    "start_time": "2025-06-11T08:32:23.478Z"
   },
   {
    "duration": 9,
    "start_time": "2025-06-11T08:32:23.624Z"
   },
   {
    "duration": 16,
    "start_time": "2025-06-11T08:32:23.635Z"
   },
   {
    "duration": 24,
    "start_time": "2025-06-11T08:32:23.653Z"
   },
   {
    "duration": 19,
    "start_time": "2025-06-11T08:32:23.680Z"
   },
   {
    "duration": 11,
    "start_time": "2025-06-11T08:32:23.700Z"
   },
   {
    "duration": 279,
    "start_time": "2025-06-11T08:32:23.713Z"
   },
   {
    "duration": 23,
    "start_time": "2025-06-11T08:32:23.994Z"
   },
   {
    "duration": 79,
    "start_time": "2025-06-11T08:32:24.019Z"
   },
   {
    "duration": 22,
    "start_time": "2025-06-11T08:32:24.100Z"
   },
   {
    "duration": 18,
    "start_time": "2025-06-11T08:32:24.125Z"
   },
   {
    "duration": 55,
    "start_time": "2025-06-11T08:32:24.145Z"
   },
   {
    "duration": 1841,
    "start_time": "2025-06-11T08:32:24.202Z"
   },
   {
    "duration": 1471,
    "start_time": "2025-06-11T08:32:32.136Z"
   },
   {
    "duration": 119,
    "start_time": "2025-06-11T08:32:33.609Z"
   },
   {
    "duration": 14,
    "start_time": "2025-06-11T08:32:33.730Z"
   },
   {
    "duration": 41,
    "start_time": "2025-06-11T08:32:33.746Z"
   },
   {
    "duration": 5,
    "start_time": "2025-06-11T08:32:33.790Z"
   },
   {
    "duration": 14,
    "start_time": "2025-06-11T08:32:33.796Z"
   },
   {
    "duration": 12,
    "start_time": "2025-06-11T08:32:33.812Z"
   },
   {
    "duration": 56,
    "start_time": "2025-06-11T08:32:33.826Z"
   },
   {
    "duration": 428,
    "start_time": "2025-06-11T08:32:33.884Z"
   },
   {
    "duration": 10,
    "start_time": "2025-06-11T08:32:34.313Z"
   },
   {
    "duration": 1632,
    "start_time": "2025-06-11T08:32:34.325Z"
   },
   {
    "duration": 26,
    "start_time": "2025-06-11T08:32:35.959Z"
   },
   {
    "duration": 9,
    "start_time": "2025-06-11T08:32:35.988Z"
   },
   {
    "duration": 152,
    "start_time": "2025-06-11T08:32:36.000Z"
   },
   {
    "duration": 12,
    "start_time": "2025-06-11T08:32:36.154Z"
   },
   {
    "duration": 9,
    "start_time": "2025-06-11T08:32:36.174Z"
   },
   {
    "duration": 25,
    "start_time": "2025-06-11T08:32:36.185Z"
   },
   {
    "duration": 17,
    "start_time": "2025-06-11T08:32:36.212Z"
   },
   {
    "duration": 12,
    "start_time": "2025-06-11T08:32:36.230Z"
   },
   {
    "duration": 242,
    "start_time": "2025-06-11T08:32:36.243Z"
   },
   {
    "duration": 23,
    "start_time": "2025-06-11T08:32:36.487Z"
   },
   {
    "duration": 66,
    "start_time": "2025-06-11T08:32:36.512Z"
   },
   {
    "duration": 27,
    "start_time": "2025-06-11T08:32:36.580Z"
   },
   {
    "duration": 35,
    "start_time": "2025-06-11T08:32:36.609Z"
   },
   {
    "duration": 53,
    "start_time": "2025-06-11T08:32:36.646Z"
   },
   {
    "duration": 1739,
    "start_time": "2025-06-11T08:32:36.701Z"
   },
   {
    "duration": 44,
    "start_time": "2025-06-11T08:33:52.866Z"
   },
   {
    "duration": 26,
    "start_time": "2025-06-11T08:34:07.314Z"
   },
   {
    "duration": 32,
    "start_time": "2025-06-11T08:35:36.368Z"
   },
   {
    "duration": 19,
    "start_time": "2025-06-11T09:04:02.254Z"
   },
   {
    "duration": 10,
    "start_time": "2025-06-11T09:04:16.605Z"
   },
   {
    "duration": 4,
    "start_time": "2025-06-11T09:09:21.592Z"
   },
   {
    "duration": 52,
    "start_time": "2025-06-16T05:15:04.772Z"
   },
   {
    "duration": 1709,
    "start_time": "2025-06-16T05:15:10.700Z"
   },
   {
    "duration": 144,
    "start_time": "2025-06-16T05:15:12.412Z"
   },
   {
    "duration": 16,
    "start_time": "2025-06-16T05:15:12.558Z"
   },
   {
    "duration": 52,
    "start_time": "2025-06-16T05:15:12.576Z"
   },
   {
    "duration": 7,
    "start_time": "2025-06-16T05:15:12.630Z"
   },
   {
    "duration": 30,
    "start_time": "2025-06-16T05:15:12.639Z"
   },
   {
    "duration": 9,
    "start_time": "2025-06-16T05:15:12.671Z"
   },
   {
    "duration": 19,
    "start_time": "2025-06-16T05:15:12.682Z"
   },
   {
    "duration": 405,
    "start_time": "2025-06-16T05:15:12.702Z"
   },
   {
    "duration": 10,
    "start_time": "2025-06-16T05:15:13.109Z"
   },
   {
    "duration": 1643,
    "start_time": "2025-06-16T05:15:13.121Z"
   },
   {
    "duration": 15,
    "start_time": "2025-06-16T05:15:14.766Z"
   },
   {
    "duration": 64,
    "start_time": "2025-06-16T05:15:14.783Z"
   },
   {
    "duration": 126,
    "start_time": "2025-06-16T05:15:14.852Z"
   },
   {
    "duration": 10,
    "start_time": "2025-06-16T05:15:14.981Z"
   },
   {
    "duration": 57,
    "start_time": "2025-06-16T05:15:14.993Z"
   },
   {
    "duration": 32,
    "start_time": "2025-06-16T05:15:15.052Z"
   },
   {
    "duration": 16,
    "start_time": "2025-06-16T05:15:15.086Z"
   },
   {
    "duration": 29,
    "start_time": "2025-06-16T05:15:15.104Z"
   },
   {
    "duration": 18,
    "start_time": "2025-06-16T05:15:15.135Z"
   },
   {
    "duration": 274,
    "start_time": "2025-06-16T05:15:15.155Z"
   },
   {
    "duration": 25,
    "start_time": "2025-06-16T05:15:15.431Z"
   },
   {
    "duration": 41,
    "start_time": "2025-06-16T05:15:15.458Z"
   },
   {
    "duration": 46,
    "start_time": "2025-06-16T05:15:15.501Z"
   },
   {
    "duration": 28,
    "start_time": "2025-06-16T05:15:15.549Z"
   },
   {
    "duration": 23,
    "start_time": "2025-06-16T05:15:15.579Z"
   },
   {
    "duration": 29,
    "start_time": "2025-06-16T05:15:15.604Z"
   },
   {
    "duration": 60,
    "start_time": "2025-06-16T05:15:15.635Z"
   },
   {
    "duration": 9,
    "start_time": "2025-06-16T05:15:15.697Z"
   },
   {
    "duration": 21,
    "start_time": "2025-06-16T05:15:15.708Z"
   },
   {
    "duration": 5,
    "start_time": "2025-06-16T05:15:15.731Z"
   },
   {
    "duration": 1498,
    "start_time": "2025-06-16T05:18:49.295Z"
   },
   {
    "duration": 90,
    "start_time": "2025-06-16T05:18:50.795Z"
   },
   {
    "duration": 16,
    "start_time": "2025-06-16T05:18:50.888Z"
   },
   {
    "duration": 12,
    "start_time": "2025-06-16T05:18:50.906Z"
   },
   {
    "duration": 6,
    "start_time": "2025-06-16T05:18:50.922Z"
   },
   {
    "duration": 31,
    "start_time": "2025-06-16T05:18:50.929Z"
   },
   {
    "duration": 15,
    "start_time": "2025-06-16T05:18:50.962Z"
   },
   {
    "duration": 32,
    "start_time": "2025-06-16T05:18:50.979Z"
   },
   {
    "duration": 400,
    "start_time": "2025-06-16T05:18:51.013Z"
   },
   {
    "duration": 9,
    "start_time": "2025-06-16T05:18:51.415Z"
   },
   {
    "duration": 1584,
    "start_time": "2025-06-16T05:18:51.425Z"
   },
   {
    "duration": 13,
    "start_time": "2025-06-16T05:18:53.011Z"
   },
   {
    "duration": 14,
    "start_time": "2025-06-16T05:18:53.026Z"
   },
   {
    "duration": 137,
    "start_time": "2025-06-16T05:18:53.043Z"
   },
   {
    "duration": 9,
    "start_time": "2025-06-16T05:18:53.182Z"
   },
   {
    "duration": 60,
    "start_time": "2025-06-16T05:18:53.193Z"
   },
   {
    "duration": 19,
    "start_time": "2025-06-16T05:18:53.254Z"
   },
   {
    "duration": 11,
    "start_time": "2025-06-16T05:18:53.275Z"
   },
   {
    "duration": 15,
    "start_time": "2025-06-16T05:18:53.288Z"
   },
   {
    "duration": 17,
    "start_time": "2025-06-16T05:18:53.305Z"
   },
   {
    "duration": 235,
    "start_time": "2025-06-16T05:18:53.323Z"
   },
   {
    "duration": 27,
    "start_time": "2025-06-16T05:18:53.560Z"
   },
   {
    "duration": 12,
    "start_time": "2025-06-16T05:18:53.589Z"
   },
   {
    "duration": 45,
    "start_time": "2025-06-16T05:18:53.603Z"
   },
   {
    "duration": 41,
    "start_time": "2025-06-16T05:18:53.650Z"
   },
   {
    "duration": 15,
    "start_time": "2025-06-16T05:18:53.693Z"
   },
   {
    "duration": 27,
    "start_time": "2025-06-16T05:18:53.710Z"
   },
   {
    "duration": 57,
    "start_time": "2025-06-16T05:18:53.739Z"
   },
   {
    "duration": 9,
    "start_time": "2025-06-16T05:18:53.798Z"
   },
   {
    "duration": 69,
    "start_time": "2025-06-16T05:18:53.809Z"
   },
   {
    "duration": 5,
    "start_time": "2025-06-16T05:18:53.880Z"
   },
   {
    "duration": 20,
    "start_time": "2025-06-16T05:20:14.867Z"
   },
   {
    "duration": 18,
    "start_time": "2025-06-16T05:21:18.225Z"
   },
   {
    "duration": 10,
    "start_time": "2025-06-16T05:32:05.792Z"
   },
   {
    "duration": 7,
    "start_time": "2025-06-16T05:32:28.800Z"
   },
   {
    "duration": 1549,
    "start_time": "2025-06-16T05:32:35.289Z"
   },
   {
    "duration": 82,
    "start_time": "2025-06-16T05:32:36.840Z"
   },
   {
    "duration": 13,
    "start_time": "2025-06-16T05:32:36.924Z"
   },
   {
    "duration": 11,
    "start_time": "2025-06-16T05:32:36.939Z"
   },
   {
    "duration": 29,
    "start_time": "2025-06-16T05:32:36.952Z"
   },
   {
    "duration": 26,
    "start_time": "2025-06-16T05:32:36.984Z"
   },
   {
    "duration": 14,
    "start_time": "2025-06-16T05:32:37.012Z"
   },
   {
    "duration": 32,
    "start_time": "2025-06-16T05:32:37.028Z"
   },
   {
    "duration": 425,
    "start_time": "2025-06-16T05:32:37.062Z"
   },
   {
    "duration": 11,
    "start_time": "2025-06-16T05:32:37.489Z"
   },
   {
    "duration": 1688,
    "start_time": "2025-06-16T05:32:37.502Z"
   },
   {
    "duration": 13,
    "start_time": "2025-06-16T05:32:39.192Z"
   },
   {
    "duration": 12,
    "start_time": "2025-06-16T05:32:39.207Z"
   },
   {
    "duration": 131,
    "start_time": "2025-06-16T05:32:39.222Z"
   },
   {
    "duration": 10,
    "start_time": "2025-06-16T05:32:39.354Z"
   },
   {
    "duration": 51,
    "start_time": "2025-06-16T05:32:39.372Z"
   },
   {
    "duration": 4,
    "start_time": "2025-06-16T05:32:39.425Z"
   },
   {
    "duration": 14,
    "start_time": "2025-06-16T05:32:39.431Z"
   },
   {
    "duration": 89,
    "start_time": "2025-06-16T05:32:39.446Z"
   },
   {
    "duration": 0,
    "start_time": "2025-06-16T05:32:39.536Z"
   },
   {
    "duration": 0,
    "start_time": "2025-06-16T05:32:39.537Z"
   },
   {
    "duration": 0,
    "start_time": "2025-06-16T05:32:39.538Z"
   },
   {
    "duration": 1,
    "start_time": "2025-06-16T05:32:39.539Z"
   },
   {
    "duration": 0,
    "start_time": "2025-06-16T05:32:39.541Z"
   },
   {
    "duration": 0,
    "start_time": "2025-06-16T05:32:39.542Z"
   },
   {
    "duration": 0,
    "start_time": "2025-06-16T05:32:39.543Z"
   },
   {
    "duration": 0,
    "start_time": "2025-06-16T05:32:39.544Z"
   },
   {
    "duration": 0,
    "start_time": "2025-06-16T05:32:39.545Z"
   },
   {
    "duration": 0,
    "start_time": "2025-06-16T05:32:39.546Z"
   },
   {
    "duration": 0,
    "start_time": "2025-06-16T05:32:39.548Z"
   },
   {
    "duration": 0,
    "start_time": "2025-06-16T05:32:39.549Z"
   },
   {
    "duration": 0,
    "start_time": "2025-06-16T05:32:39.550Z"
   },
   {
    "duration": 0,
    "start_time": "2025-06-16T05:32:39.552Z"
   },
   {
    "duration": 17,
    "start_time": "2025-06-16T05:33:50.439Z"
   },
   {
    "duration": 6,
    "start_time": "2025-06-16T05:34:37.894Z"
   },
   {
    "duration": 4,
    "start_time": "2025-06-16T05:37:08.716Z"
   },
   {
    "duration": 13,
    "start_time": "2025-06-16T05:42:34.631Z"
   },
   {
    "duration": 1527,
    "start_time": "2025-06-16T05:43:05.738Z"
   },
   {
    "duration": 87,
    "start_time": "2025-06-16T05:43:07.267Z"
   },
   {
    "duration": 14,
    "start_time": "2025-06-16T05:43:07.355Z"
   },
   {
    "duration": 8,
    "start_time": "2025-06-16T05:43:07.372Z"
   },
   {
    "duration": 9,
    "start_time": "2025-06-16T05:43:07.382Z"
   },
   {
    "duration": 18,
    "start_time": "2025-06-16T05:43:07.393Z"
   },
   {
    "duration": 9,
    "start_time": "2025-06-16T05:43:07.412Z"
   },
   {
    "duration": 36,
    "start_time": "2025-06-16T05:43:07.423Z"
   },
   {
    "duration": 402,
    "start_time": "2025-06-16T05:43:07.471Z"
   },
   {
    "duration": 10,
    "start_time": "2025-06-16T05:43:07.875Z"
   },
   {
    "duration": 1840,
    "start_time": "2025-06-16T05:43:07.887Z"
   },
   {
    "duration": 13,
    "start_time": "2025-06-16T05:43:09.729Z"
   },
   {
    "duration": 14,
    "start_time": "2025-06-16T05:43:09.744Z"
   },
   {
    "duration": 134,
    "start_time": "2025-06-16T05:43:09.773Z"
   },
   {
    "duration": 10,
    "start_time": "2025-06-16T05:43:09.908Z"
   },
   {
    "duration": 65,
    "start_time": "2025-06-16T05:43:09.919Z"
   },
   {
    "duration": 5,
    "start_time": "2025-06-16T05:43:09.985Z"
   },
   {
    "duration": 11,
    "start_time": "2025-06-16T05:43:09.992Z"
   },
   {
    "duration": 14,
    "start_time": "2025-06-16T05:43:10.005Z"
   },
   {
    "duration": 19,
    "start_time": "2025-06-16T05:43:10.021Z"
   },
   {
    "duration": 11,
    "start_time": "2025-06-16T05:43:10.072Z"
   },
   {
    "duration": 223,
    "start_time": "2025-06-16T05:43:10.085Z"
   },
   {
    "duration": 22,
    "start_time": "2025-06-16T05:43:10.309Z"
   },
   {
    "duration": 11,
    "start_time": "2025-06-16T05:43:10.333Z"
   },
   {
    "duration": 67,
    "start_time": "2025-06-16T05:43:10.345Z"
   },
   {
    "duration": 24,
    "start_time": "2025-06-16T05:43:10.414Z"
   },
   {
    "duration": 45,
    "start_time": "2025-06-16T05:43:10.439Z"
   },
   {
    "duration": 26,
    "start_time": "2025-06-16T05:43:10.486Z"
   },
   {
    "duration": 39,
    "start_time": "2025-06-16T05:43:10.514Z"
   },
   {
    "duration": 11,
    "start_time": "2025-06-16T05:43:10.570Z"
   },
   {
    "duration": 10,
    "start_time": "2025-06-16T05:43:10.583Z"
   },
   {
    "duration": 9,
    "start_time": "2025-06-16T05:43:10.595Z"
   },
   {
    "duration": 132,
    "start_time": "2025-06-16T06:05:43.108Z"
   },
   {
    "duration": 13,
    "start_time": "2025-06-16T06:06:06.123Z"
   },
   {
    "duration": 10,
    "start_time": "2025-06-16T06:06:51.203Z"
   },
   {
    "duration": 3,
    "start_time": "2025-06-16T06:07:18.922Z"
   },
   {
    "duration": 1441,
    "start_time": "2025-06-16T06:07:23.423Z"
   },
   {
    "duration": 108,
    "start_time": "2025-06-16T06:07:24.866Z"
   },
   {
    "duration": 14,
    "start_time": "2025-06-16T06:07:24.975Z"
   },
   {
    "duration": 67,
    "start_time": "2025-06-16T06:07:24.991Z"
   },
   {
    "duration": 26,
    "start_time": "2025-06-16T06:07:25.060Z"
   },
   {
    "duration": 29,
    "start_time": "2025-06-16T06:07:25.088Z"
   },
   {
    "duration": 34,
    "start_time": "2025-06-16T06:07:25.118Z"
   },
   {
    "duration": 32,
    "start_time": "2025-06-16T06:07:25.154Z"
   },
   {
    "duration": 401,
    "start_time": "2025-06-16T06:07:25.188Z"
   },
   {
    "duration": 9,
    "start_time": "2025-06-16T06:07:25.591Z"
   },
   {
    "duration": 1729,
    "start_time": "2025-06-16T06:07:25.601Z"
   },
   {
    "duration": 14,
    "start_time": "2025-06-16T06:07:27.332Z"
   },
   {
    "duration": 17,
    "start_time": "2025-06-16T06:07:27.348Z"
   },
   {
    "duration": 125,
    "start_time": "2025-06-16T06:07:27.373Z"
   },
   {
    "duration": 8,
    "start_time": "2025-06-16T06:07:27.500Z"
   },
   {
    "duration": 64,
    "start_time": "2025-06-16T06:07:27.510Z"
   },
   {
    "duration": 5,
    "start_time": "2025-06-16T06:07:27.576Z"
   },
   {
    "duration": 11,
    "start_time": "2025-06-16T06:07:27.583Z"
   },
   {
    "duration": 13,
    "start_time": "2025-06-16T06:07:27.596Z"
   },
   {
    "duration": 40,
    "start_time": "2025-06-16T06:07:27.610Z"
   },
   {
    "duration": 19,
    "start_time": "2025-06-16T06:07:27.652Z"
   },
   {
    "duration": 222,
    "start_time": "2025-06-16T06:07:27.673Z"
   },
   {
    "duration": 22,
    "start_time": "2025-06-16T06:07:27.896Z"
   },
   {
    "duration": 11,
    "start_time": "2025-06-16T06:07:27.920Z"
   },
   {
    "duration": 62,
    "start_time": "2025-06-16T06:07:27.933Z"
   },
   {
    "duration": 21,
    "start_time": "2025-06-16T06:07:27.996Z"
   },
   {
    "duration": 14,
    "start_time": "2025-06-16T06:07:28.019Z"
   },
   {
    "duration": 52,
    "start_time": "2025-06-16T06:07:28.034Z"
   },
   {
    "duration": 38,
    "start_time": "2025-06-16T06:07:28.088Z"
   },
   {
    "duration": 11,
    "start_time": "2025-06-16T06:07:28.127Z"
   },
   {
    "duration": 7,
    "start_time": "2025-06-16T06:07:28.139Z"
   },
   {
    "duration": 4,
    "start_time": "2025-06-16T06:07:28.171Z"
   },
   {
    "duration": 26,
    "start_time": "2025-06-16T06:11:04.942Z"
   },
   {
    "duration": 25,
    "start_time": "2025-06-16T06:11:21.638Z"
   },
   {
    "duration": 25,
    "start_time": "2025-06-16T06:11:51.845Z"
   },
   {
    "duration": 26,
    "start_time": "2025-06-16T06:12:13.724Z"
   },
   {
    "duration": 27,
    "start_time": "2025-06-16T06:14:15.218Z"
   },
   {
    "duration": 27,
    "start_time": "2025-06-16T06:14:18.682Z"
   },
   {
    "duration": 26,
    "start_time": "2025-06-16T06:14:23.083Z"
   },
   {
    "duration": 28,
    "start_time": "2025-06-16T06:14:34.250Z"
   },
   {
    "duration": 27,
    "start_time": "2025-06-16T06:14:48.233Z"
   },
   {
    "duration": 24,
    "start_time": "2025-06-16T08:19:42.565Z"
   },
   {
    "duration": 1484,
    "start_time": "2025-06-16T08:25:24.934Z"
   },
   {
    "duration": 114,
    "start_time": "2025-06-16T08:25:26.420Z"
   },
   {
    "duration": 16,
    "start_time": "2025-06-16T08:25:26.536Z"
   },
   {
    "duration": 32,
    "start_time": "2025-06-16T08:25:26.554Z"
   },
   {
    "duration": 15,
    "start_time": "2025-06-16T08:25:26.588Z"
   },
   {
    "duration": 15,
    "start_time": "2025-06-16T08:25:26.605Z"
   },
   {
    "duration": 11,
    "start_time": "2025-06-16T08:25:26.622Z"
   },
   {
    "duration": 25,
    "start_time": "2025-06-16T08:25:26.635Z"
   },
   {
    "duration": 437,
    "start_time": "2025-06-16T08:25:26.662Z"
   },
   {
    "duration": 10,
    "start_time": "2025-06-16T08:25:27.101Z"
   },
   {
    "duration": 1817,
    "start_time": "2025-06-16T08:25:27.113Z"
   },
   {
    "duration": 13,
    "start_time": "2025-06-16T08:25:28.932Z"
   },
   {
    "duration": 9,
    "start_time": "2025-06-16T08:25:28.947Z"
   },
   {
    "duration": 129,
    "start_time": "2025-06-16T08:25:28.986Z"
   },
   {
    "duration": 10,
    "start_time": "2025-06-16T08:25:29.117Z"
   },
   {
    "duration": 75,
    "start_time": "2025-06-16T08:25:29.129Z"
   },
   {
    "duration": 6,
    "start_time": "2025-06-16T08:25:29.206Z"
   },
   {
    "duration": 13,
    "start_time": "2025-06-16T08:25:29.214Z"
   },
   {
    "duration": 55,
    "start_time": "2025-06-16T08:25:29.229Z"
   },
   {
    "duration": 15,
    "start_time": "2025-06-16T08:25:29.286Z"
   },
   {
    "duration": 11,
    "start_time": "2025-06-16T08:25:29.303Z"
   },
   {
    "duration": 240,
    "start_time": "2025-06-16T08:25:29.316Z"
   },
   {
    "duration": 37,
    "start_time": "2025-06-16T08:25:29.558Z"
   },
   {
    "duration": 14,
    "start_time": "2025-06-16T08:25:29.597Z"
   },
   {
    "duration": 73,
    "start_time": "2025-06-16T08:25:29.613Z"
   },
   {
    "duration": 22,
    "start_time": "2025-06-16T08:25:29.688Z"
   },
   {
    "duration": 15,
    "start_time": "2025-06-16T08:25:29.711Z"
   },
   {
    "duration": 26,
    "start_time": "2025-06-16T08:25:29.727Z"
   },
   {
    "duration": 43,
    "start_time": "2025-06-16T08:25:29.779Z"
   },
   {
    "duration": 10,
    "start_time": "2025-06-16T08:25:29.823Z"
   },
   {
    "duration": 53,
    "start_time": "2025-06-16T08:25:29.835Z"
   },
   {
    "duration": 9,
    "start_time": "2025-06-16T08:25:29.890Z"
   },
   {
    "duration": 132,
    "start_time": "2025-06-16T08:48:09.552Z"
   },
   {
    "duration": 33,
    "start_time": "2025-06-16T08:48:27.632Z"
   },
   {
    "duration": 1540,
    "start_time": "2025-06-16T08:50:54.145Z"
   },
   {
    "duration": 99,
    "start_time": "2025-06-16T08:50:55.687Z"
   },
   {
    "duration": 15,
    "start_time": "2025-06-16T08:50:55.788Z"
   },
   {
    "duration": 15,
    "start_time": "2025-06-16T08:50:55.804Z"
   },
   {
    "duration": 6,
    "start_time": "2025-06-16T08:50:55.821Z"
   },
   {
    "duration": 31,
    "start_time": "2025-06-16T08:50:55.829Z"
   },
   {
    "duration": 27,
    "start_time": "2025-06-16T08:50:55.861Z"
   },
   {
    "duration": 20,
    "start_time": "2025-06-16T08:50:55.890Z"
   },
   {
    "duration": 425,
    "start_time": "2025-06-16T08:50:55.913Z"
   },
   {
    "duration": 12,
    "start_time": "2025-06-16T08:50:56.341Z"
   },
   {
    "duration": 2434,
    "start_time": "2025-06-16T08:50:56.370Z"
   },
   {
    "duration": 15,
    "start_time": "2025-06-16T08:50:58.806Z"
   },
   {
    "duration": 10,
    "start_time": "2025-06-16T08:50:58.823Z"
   },
   {
    "duration": 141,
    "start_time": "2025-06-16T08:50:58.837Z"
   },
   {
    "duration": 9,
    "start_time": "2025-06-16T08:50:58.981Z"
   },
   {
    "duration": 280,
    "start_time": "2025-06-16T08:50:58.992Z"
   },
   {
    "duration": 6,
    "start_time": "2025-06-16T08:50:59.274Z"
   },
   {
    "duration": 14,
    "start_time": "2025-06-16T08:50:59.282Z"
   },
   {
    "duration": 12,
    "start_time": "2025-06-16T08:50:59.298Z"
   },
   {
    "duration": 14,
    "start_time": "2025-06-16T08:50:59.312Z"
   },
   {
    "duration": 45,
    "start_time": "2025-06-16T08:50:59.327Z"
   },
   {
    "duration": 197,
    "start_time": "2025-06-16T08:50:59.374Z"
   },
   {
    "duration": 24,
    "start_time": "2025-06-16T08:50:59.573Z"
   },
   {
    "duration": 11,
    "start_time": "2025-06-16T08:50:59.598Z"
   },
   {
    "duration": 109,
    "start_time": "2025-06-16T08:50:59.611Z"
   },
   {
    "duration": 23,
    "start_time": "2025-06-16T08:50:59.722Z"
   },
   {
    "duration": 24,
    "start_time": "2025-06-16T08:50:59.747Z"
   },
   {
    "duration": 25,
    "start_time": "2025-06-16T08:50:59.774Z"
   },
   {
    "duration": 42,
    "start_time": "2025-06-16T08:50:59.800Z"
   },
   {
    "duration": 32,
    "start_time": "2025-06-16T08:50:59.843Z"
   },
   {
    "duration": 4,
    "start_time": "2025-06-16T08:50:59.877Z"
   },
   {
    "duration": 56,
    "start_time": "2025-06-16T08:54:52.762Z"
   },
   {
    "duration": 51,
    "start_time": "2025-06-16T08:54:57.417Z"
   },
   {
    "duration": 1620,
    "start_time": "2025-06-16T08:55:42.343Z"
   },
   {
    "duration": 982,
    "start_time": "2025-06-16T08:55:43.965Z"
   },
   {
    "duration": 16,
    "start_time": "2025-06-16T08:55:44.948Z"
   },
   {
    "duration": 20,
    "start_time": "2025-06-16T08:55:44.966Z"
   },
   {
    "duration": 15,
    "start_time": "2025-06-16T08:55:44.990Z"
   },
   {
    "duration": 77,
    "start_time": "2025-06-16T08:55:45.008Z"
   },
   {
    "duration": 21,
    "start_time": "2025-06-16T08:55:45.087Z"
   },
   {
    "duration": 21,
    "start_time": "2025-06-16T08:55:45.110Z"
   },
   {
    "duration": 435,
    "start_time": "2025-06-16T08:55:45.133Z"
   },
   {
    "duration": 13,
    "start_time": "2025-06-16T08:55:45.571Z"
   },
   {
    "duration": 1975,
    "start_time": "2025-06-16T08:55:45.586Z"
   },
   {
    "duration": 17,
    "start_time": "2025-06-16T08:55:47.562Z"
   },
   {
    "duration": 15,
    "start_time": "2025-06-16T08:55:47.581Z"
   },
   {
    "duration": 135,
    "start_time": "2025-06-16T08:55:47.599Z"
   },
   {
    "duration": 9,
    "start_time": "2025-06-16T08:55:47.736Z"
   },
   {
    "duration": 396,
    "start_time": "2025-06-16T08:55:47.747Z"
   },
   {
    "duration": 5,
    "start_time": "2025-06-16T08:55:48.145Z"
   },
   {
    "duration": 27,
    "start_time": "2025-06-16T08:55:48.151Z"
   },
   {
    "duration": 14,
    "start_time": "2025-06-16T08:55:48.180Z"
   },
   {
    "duration": 15,
    "start_time": "2025-06-16T08:55:48.196Z"
   },
   {
    "duration": 13,
    "start_time": "2025-06-16T08:55:48.213Z"
   },
   {
    "duration": 229,
    "start_time": "2025-06-16T08:55:48.227Z"
   },
   {
    "duration": 27,
    "start_time": "2025-06-16T08:55:48.458Z"
   },
   {
    "duration": 11,
    "start_time": "2025-06-16T08:55:48.486Z"
   },
   {
    "duration": 50,
    "start_time": "2025-06-16T08:55:48.499Z"
   },
   {
    "duration": 38,
    "start_time": "2025-06-16T08:55:48.551Z"
   },
   {
    "duration": 14,
    "start_time": "2025-06-16T08:55:48.591Z"
   },
   {
    "duration": 33,
    "start_time": "2025-06-16T08:55:48.607Z"
   },
   {
    "duration": 72,
    "start_time": "2025-06-16T08:55:48.642Z"
   },
   {
    "duration": 10,
    "start_time": "2025-06-16T08:55:48.716Z"
   },
   {
    "duration": 14,
    "start_time": "2025-06-16T08:55:48.728Z"
   },
   {
    "duration": 51,
    "start_time": "2025-06-16T09:00:34.580Z"
   },
   {
    "duration": 1478,
    "start_time": "2025-06-16T09:00:41.314Z"
   },
   {
    "duration": 89,
    "start_time": "2025-06-16T09:00:42.794Z"
   },
   {
    "duration": 15,
    "start_time": "2025-06-16T09:00:42.885Z"
   },
   {
    "duration": 75,
    "start_time": "2025-06-16T09:00:42.902Z"
   },
   {
    "duration": 143,
    "start_time": "2025-06-16T09:00:42.980Z"
   },
   {
    "duration": 14,
    "start_time": "2025-06-16T09:00:43.124Z"
   },
   {
    "duration": 10,
    "start_time": "2025-06-16T09:00:43.140Z"
   },
   {
    "duration": 45,
    "start_time": "2025-06-16T09:00:43.152Z"
   },
   {
    "duration": 396,
    "start_time": "2025-06-16T09:00:43.198Z"
   },
   {
    "duration": 11,
    "start_time": "2025-06-16T09:00:43.596Z"
   },
   {
    "duration": 2275,
    "start_time": "2025-06-16T09:00:43.608Z"
   },
   {
    "duration": 13,
    "start_time": "2025-06-16T09:00:45.885Z"
   },
   {
    "duration": 17,
    "start_time": "2025-06-16T09:00:45.899Z"
   },
   {
    "duration": 137,
    "start_time": "2025-06-16T09:00:45.919Z"
   },
   {
    "duration": 16,
    "start_time": "2025-06-16T09:00:46.057Z"
   },
   {
    "duration": 433,
    "start_time": "2025-06-16T09:00:46.075Z"
   },
   {
    "duration": 5,
    "start_time": "2025-06-16T09:00:46.510Z"
   },
   {
    "duration": 12,
    "start_time": "2025-06-16T09:00:46.517Z"
   },
   {
    "duration": 33,
    "start_time": "2025-06-16T09:00:46.531Z"
   },
   {
    "duration": 66,
    "start_time": "2025-06-16T09:00:46.572Z"
   },
   {
    "duration": 15,
    "start_time": "2025-06-16T09:00:46.640Z"
   },
   {
    "duration": 202,
    "start_time": "2025-06-16T09:00:46.657Z"
   },
   {
    "duration": 23,
    "start_time": "2025-06-16T09:00:46.861Z"
   },
   {
    "duration": 55,
    "start_time": "2025-06-16T09:00:46.885Z"
   },
   {
    "duration": 66,
    "start_time": "2025-06-16T09:00:46.942Z"
   },
   {
    "duration": 21,
    "start_time": "2025-06-16T09:00:47.009Z"
   },
   {
    "duration": 82,
    "start_time": "2025-06-16T09:00:47.032Z"
   },
   {
    "duration": 34,
    "start_time": "2025-06-16T09:00:47.116Z"
   },
   {
    "duration": 41,
    "start_time": "2025-06-16T09:00:47.152Z"
   },
   {
    "duration": 10,
    "start_time": "2025-06-16T09:00:47.194Z"
   },
   {
    "duration": 9,
    "start_time": "2025-06-16T09:00:47.205Z"
   },
   {
    "duration": 132,
    "start_time": "2025-06-16T09:03:59.633Z"
   },
   {
    "duration": 1562,
    "start_time": "2025-06-16T09:04:09.255Z"
   },
   {
    "duration": 85,
    "start_time": "2025-06-16T09:04:10.819Z"
   },
   {
    "duration": 19,
    "start_time": "2025-06-16T09:04:10.906Z"
   },
   {
    "duration": 22,
    "start_time": "2025-06-16T09:04:10.928Z"
   },
   {
    "duration": 7,
    "start_time": "2025-06-16T09:04:10.953Z"
   },
   {
    "duration": 35,
    "start_time": "2025-06-16T09:04:10.962Z"
   },
   {
    "duration": 11,
    "start_time": "2025-06-16T09:04:11.000Z"
   },
   {
    "duration": 22,
    "start_time": "2025-06-16T09:04:11.013Z"
   },
   {
    "duration": 403,
    "start_time": "2025-06-16T09:04:11.037Z"
   },
   {
    "duration": 10,
    "start_time": "2025-06-16T09:04:11.442Z"
   },
   {
    "duration": 1664,
    "start_time": "2025-06-16T09:04:11.454Z"
   },
   {
    "duration": 14,
    "start_time": "2025-06-16T09:04:13.120Z"
   },
   {
    "duration": 11,
    "start_time": "2025-06-16T09:04:13.136Z"
   },
   {
    "duration": 126,
    "start_time": "2025-06-16T09:04:13.171Z"
   },
   {
    "duration": 9,
    "start_time": "2025-06-16T09:04:13.298Z"
   },
   {
    "duration": 388,
    "start_time": "2025-06-16T09:04:13.309Z"
   },
   {
    "duration": 141,
    "start_time": "2025-06-16T09:04:13.699Z"
   },
   {
    "duration": 0,
    "start_time": "2025-06-16T09:04:13.842Z"
   },
   {
    "duration": 0,
    "start_time": "2025-06-16T09:04:13.843Z"
   },
   {
    "duration": 0,
    "start_time": "2025-06-16T09:04:13.844Z"
   },
   {
    "duration": 0,
    "start_time": "2025-06-16T09:04:13.845Z"
   },
   {
    "duration": 0,
    "start_time": "2025-06-16T09:04:13.846Z"
   },
   {
    "duration": 0,
    "start_time": "2025-06-16T09:04:13.847Z"
   },
   {
    "duration": 0,
    "start_time": "2025-06-16T09:04:13.848Z"
   },
   {
    "duration": 0,
    "start_time": "2025-06-16T09:04:13.850Z"
   },
   {
    "duration": 0,
    "start_time": "2025-06-16T09:04:13.851Z"
   },
   {
    "duration": 0,
    "start_time": "2025-06-16T09:04:13.872Z"
   },
   {
    "duration": 0,
    "start_time": "2025-06-16T09:04:13.873Z"
   },
   {
    "duration": 0,
    "start_time": "2025-06-16T09:04:13.875Z"
   },
   {
    "duration": 0,
    "start_time": "2025-06-16T09:04:13.876Z"
   },
   {
    "duration": 0,
    "start_time": "2025-06-16T09:04:13.877Z"
   },
   {
    "duration": 0,
    "start_time": "2025-06-16T09:04:13.878Z"
   },
   {
    "duration": 1562,
    "start_time": "2025-06-16T09:05:01.545Z"
   },
   {
    "duration": 86,
    "start_time": "2025-06-16T09:05:03.109Z"
   },
   {
    "duration": 16,
    "start_time": "2025-06-16T09:05:03.197Z"
   },
   {
    "duration": 58,
    "start_time": "2025-06-16T09:05:03.215Z"
   },
   {
    "duration": 67,
    "start_time": "2025-06-16T09:05:03.276Z"
   },
   {
    "duration": 33,
    "start_time": "2025-06-16T09:05:03.345Z"
   },
   {
    "duration": 27,
    "start_time": "2025-06-16T09:05:03.380Z"
   },
   {
    "duration": 26,
    "start_time": "2025-06-16T09:05:03.408Z"
   },
   {
    "duration": 456,
    "start_time": "2025-06-16T09:05:03.435Z"
   },
   {
    "duration": 9,
    "start_time": "2025-06-16T09:05:03.893Z"
   },
   {
    "duration": 2598,
    "start_time": "2025-06-16T09:05:03.903Z"
   },
   {
    "duration": 15,
    "start_time": "2025-06-16T09:05:06.503Z"
   },
   {
    "duration": 98,
    "start_time": "2025-06-16T09:05:06.520Z"
   },
   {
    "duration": 205,
    "start_time": "2025-06-16T09:05:06.621Z"
   },
   {
    "duration": 9,
    "start_time": "2025-06-16T09:05:06.828Z"
   },
   {
    "duration": 380,
    "start_time": "2025-06-16T09:05:06.839Z"
   },
   {
    "duration": 425,
    "start_time": "2025-06-16T09:05:07.221Z"
   },
   {
    "duration": 5,
    "start_time": "2025-06-16T09:05:07.647Z"
   },
   {
    "duration": 25,
    "start_time": "2025-06-16T09:05:07.654Z"
   },
   {
    "duration": 12,
    "start_time": "2025-06-16T09:05:07.681Z"
   },
   {
    "duration": 87,
    "start_time": "2025-06-16T09:05:07.695Z"
   },
   {
    "duration": 11,
    "start_time": "2025-06-16T09:05:07.784Z"
   },
   {
    "duration": 220,
    "start_time": "2025-06-16T09:05:07.797Z"
   },
   {
    "duration": 22,
    "start_time": "2025-06-16T09:05:08.019Z"
   },
   {
    "duration": 48,
    "start_time": "2025-06-16T09:05:08.044Z"
   },
   {
    "duration": 54,
    "start_time": "2025-06-16T09:05:08.094Z"
   },
   {
    "duration": 22,
    "start_time": "2025-06-16T09:05:08.150Z"
   },
   {
    "duration": 22,
    "start_time": "2025-06-16T09:05:08.174Z"
   },
   {
    "duration": 29,
    "start_time": "2025-06-16T09:05:08.198Z"
   },
   {
    "duration": 48,
    "start_time": "2025-06-16T09:05:08.229Z"
   },
   {
    "duration": 10,
    "start_time": "2025-06-16T09:05:08.279Z"
   },
   {
    "duration": 7,
    "start_time": "2025-06-16T09:05:08.291Z"
   },
   {
    "duration": 1519,
    "start_time": "2025-06-16T09:06:10.588Z"
   },
   {
    "duration": 175,
    "start_time": "2025-06-16T09:06:12.109Z"
   },
   {
    "duration": 15,
    "start_time": "2025-06-16T09:06:12.286Z"
   },
   {
    "duration": 9,
    "start_time": "2025-06-16T09:06:12.302Z"
   },
   {
    "duration": 6,
    "start_time": "2025-06-16T09:06:12.314Z"
   },
   {
    "duration": 14,
    "start_time": "2025-06-16T09:06:12.322Z"
   },
   {
    "duration": 12,
    "start_time": "2025-06-16T09:06:12.372Z"
   },
   {
    "duration": 21,
    "start_time": "2025-06-16T09:06:12.386Z"
   },
   {
    "duration": 430,
    "start_time": "2025-06-16T09:06:12.409Z"
   },
   {
    "duration": 10,
    "start_time": "2025-06-16T09:06:12.841Z"
   },
   {
    "duration": 1714,
    "start_time": "2025-06-16T09:06:12.852Z"
   },
   {
    "duration": 15,
    "start_time": "2025-06-16T09:06:14.572Z"
   },
   {
    "duration": 60,
    "start_time": "2025-06-16T09:06:14.589Z"
   },
   {
    "duration": 119,
    "start_time": "2025-06-16T09:06:14.654Z"
   },
   {
    "duration": 10,
    "start_time": "2025-06-16T09:06:14.776Z"
   },
   {
    "duration": 407,
    "start_time": "2025-06-16T09:06:14.788Z"
   },
   {
    "duration": 415,
    "start_time": "2025-06-16T09:06:15.196Z"
   },
   {
    "duration": 6,
    "start_time": "2025-06-16T09:06:15.612Z"
   },
   {
    "duration": 30,
    "start_time": "2025-06-16T09:06:15.619Z"
   },
   {
    "duration": 15,
    "start_time": "2025-06-16T09:06:15.651Z"
   },
   {
    "duration": 16,
    "start_time": "2025-06-16T09:06:15.668Z"
   },
   {
    "duration": 11,
    "start_time": "2025-06-16T09:06:15.685Z"
   },
   {
    "duration": 289,
    "start_time": "2025-06-16T09:06:15.698Z"
   },
   {
    "duration": 22,
    "start_time": "2025-06-16T09:06:15.989Z"
   },
   {
    "duration": 14,
    "start_time": "2025-06-16T09:06:16.012Z"
   },
   {
    "duration": 61,
    "start_time": "2025-06-16T09:06:16.027Z"
   },
   {
    "duration": 20,
    "start_time": "2025-06-16T09:06:16.090Z"
   },
   {
    "duration": 18,
    "start_time": "2025-06-16T09:06:16.112Z"
   },
   {
    "duration": 41,
    "start_time": "2025-06-16T09:06:16.132Z"
   },
   {
    "duration": 32,
    "start_time": "2025-06-16T09:06:16.176Z"
   },
   {
    "duration": 11,
    "start_time": "2025-06-16T09:06:16.210Z"
   },
   {
    "duration": 46,
    "start_time": "2025-06-16T09:06:16.223Z"
   },
   {
    "duration": 1467,
    "start_time": "2025-06-16T09:06:29.636Z"
   },
   {
    "duration": 238,
    "start_time": "2025-06-16T09:06:31.105Z"
   },
   {
    "duration": 16,
    "start_time": "2025-06-16T09:06:31.345Z"
   },
   {
    "duration": 19,
    "start_time": "2025-06-16T09:06:31.362Z"
   },
   {
    "duration": 7,
    "start_time": "2025-06-16T09:06:31.384Z"
   },
   {
    "duration": 13,
    "start_time": "2025-06-16T09:06:31.393Z"
   },
   {
    "duration": 34,
    "start_time": "2025-06-16T09:06:31.408Z"
   },
   {
    "duration": 26,
    "start_time": "2025-06-16T09:06:31.444Z"
   },
   {
    "duration": 422,
    "start_time": "2025-06-16T09:06:31.472Z"
   },
   {
    "duration": 9,
    "start_time": "2025-06-16T09:06:31.896Z"
   },
   {
    "duration": 1830,
    "start_time": "2025-06-16T09:06:31.907Z"
   },
   {
    "duration": 14,
    "start_time": "2025-06-16T09:06:33.739Z"
   },
   {
    "duration": 27,
    "start_time": "2025-06-16T09:06:33.755Z"
   },
   {
    "duration": 132,
    "start_time": "2025-06-16T09:06:33.785Z"
   },
   {
    "duration": 10,
    "start_time": "2025-06-16T09:06:33.918Z"
   },
   {
    "duration": 352,
    "start_time": "2025-06-16T09:06:33.930Z"
   },
   {
    "duration": 383,
    "start_time": "2025-06-16T09:06:34.284Z"
   },
   {
    "duration": 6,
    "start_time": "2025-06-16T09:06:34.671Z"
   },
   {
    "duration": 16,
    "start_time": "2025-06-16T09:06:34.679Z"
   },
   {
    "duration": 13,
    "start_time": "2025-06-16T09:06:34.697Z"
   },
   {
    "duration": 28,
    "start_time": "2025-06-16T09:06:34.712Z"
   },
   {
    "duration": 33,
    "start_time": "2025-06-16T09:06:34.741Z"
   },
   {
    "duration": 210,
    "start_time": "2025-06-16T09:06:34.775Z"
   },
   {
    "duration": 21,
    "start_time": "2025-06-16T09:06:34.987Z"
   },
   {
    "duration": 22,
    "start_time": "2025-06-16T09:06:35.010Z"
   },
   {
    "duration": 54,
    "start_time": "2025-06-16T09:06:35.034Z"
   },
   {
    "duration": 50,
    "start_time": "2025-06-16T09:06:35.091Z"
   },
   {
    "duration": 23,
    "start_time": "2025-06-16T09:06:35.143Z"
   },
   {
    "duration": 24,
    "start_time": "2025-06-16T09:06:35.169Z"
   },
   {
    "duration": 39,
    "start_time": "2025-06-16T09:06:35.195Z"
   },
   {
    "duration": 10,
    "start_time": "2025-06-16T09:06:35.237Z"
   },
   {
    "duration": 3,
    "start_time": "2025-06-16T09:06:35.272Z"
   },
   {
    "duration": 1505,
    "start_time": "2025-06-16T09:09:05.484Z"
   },
   {
    "duration": 79,
    "start_time": "2025-06-16T09:09:06.992Z"
   },
   {
    "duration": 14,
    "start_time": "2025-06-16T09:09:07.075Z"
   },
   {
    "duration": 60,
    "start_time": "2025-06-16T09:09:07.092Z"
   },
   {
    "duration": 5,
    "start_time": "2025-06-16T09:09:07.154Z"
   },
   {
    "duration": 13,
    "start_time": "2025-06-16T09:09:07.160Z"
   },
   {
    "duration": 13,
    "start_time": "2025-06-16T09:09:07.175Z"
   },
   {
    "duration": 20,
    "start_time": "2025-06-16T09:09:07.190Z"
   },
   {
    "duration": 410,
    "start_time": "2025-06-16T09:09:07.211Z"
   },
   {
    "duration": 10,
    "start_time": "2025-06-16T09:09:07.623Z"
   },
   {
    "duration": 2144,
    "start_time": "2025-06-16T09:09:07.634Z"
   },
   {
    "duration": 14,
    "start_time": "2025-06-16T09:09:09.780Z"
   },
   {
    "duration": 11,
    "start_time": "2025-06-16T09:09:09.798Z"
   },
   {
    "duration": 142,
    "start_time": "2025-06-16T09:09:09.811Z"
   },
   {
    "duration": 18,
    "start_time": "2025-06-16T09:09:09.955Z"
   },
   {
    "duration": 391,
    "start_time": "2025-06-16T09:09:09.974Z"
   },
   {
    "duration": 419,
    "start_time": "2025-06-16T09:09:10.367Z"
   },
   {
    "duration": 7,
    "start_time": "2025-06-16T09:09:10.788Z"
   },
   {
    "duration": 21,
    "start_time": "2025-06-16T09:09:10.796Z"
   },
   {
    "duration": 14,
    "start_time": "2025-06-16T09:09:10.819Z"
   },
   {
    "duration": 48,
    "start_time": "2025-06-16T09:09:10.836Z"
   },
   {
    "duration": 13,
    "start_time": "2025-06-16T09:09:10.887Z"
   },
   {
    "duration": 258,
    "start_time": "2025-06-16T09:09:10.902Z"
   },
   {
    "duration": 22,
    "start_time": "2025-06-16T09:09:11.162Z"
   },
   {
    "duration": 11,
    "start_time": "2025-06-16T09:09:11.186Z"
   },
   {
    "duration": 47,
    "start_time": "2025-06-16T09:09:11.199Z"
   },
   {
    "duration": 37,
    "start_time": "2025-06-16T09:09:11.248Z"
   },
   {
    "duration": 59,
    "start_time": "2025-06-16T09:09:11.287Z"
   },
   {
    "duration": 27,
    "start_time": "2025-06-16T09:09:11.348Z"
   },
   {
    "duration": 40,
    "start_time": "2025-06-16T09:09:11.377Z"
   },
   {
    "duration": 9,
    "start_time": "2025-06-16T09:09:11.419Z"
   },
   {
    "duration": 11,
    "start_time": "2025-06-16T09:09:11.430Z"
   },
   {
    "duration": 46,
    "start_time": "2025-06-17T08:30:10.488Z"
   },
   {
    "duration": 1666,
    "start_time": "2025-06-18T03:47:32.378Z"
   },
   {
    "duration": 115,
    "start_time": "2025-06-18T03:47:34.046Z"
   },
   {
    "duration": 12,
    "start_time": "2025-06-18T03:47:34.163Z"
   },
   {
    "duration": 12,
    "start_time": "2025-06-18T03:47:34.177Z"
   },
   {
    "duration": 5,
    "start_time": "2025-06-18T03:47:34.191Z"
   },
   {
    "duration": 11,
    "start_time": "2025-06-18T03:47:34.198Z"
   },
   {
    "duration": 18,
    "start_time": "2025-06-18T03:47:34.211Z"
   },
   {
    "duration": 27,
    "start_time": "2025-06-18T03:47:34.230Z"
   },
   {
    "duration": 449,
    "start_time": "2025-06-18T03:47:34.271Z"
   },
   {
    "duration": 9,
    "start_time": "2025-06-18T03:47:34.722Z"
   },
   {
    "duration": 1842,
    "start_time": "2025-06-18T03:47:34.733Z"
   },
   {
    "duration": 13,
    "start_time": "2025-06-18T03:47:36.577Z"
   },
   {
    "duration": 10,
    "start_time": "2025-06-18T03:47:36.592Z"
   },
   {
    "duration": 134,
    "start_time": "2025-06-18T03:47:36.605Z"
   },
   {
    "duration": 9,
    "start_time": "2025-06-18T03:47:36.741Z"
   },
   {
    "duration": 377,
    "start_time": "2025-06-18T03:47:36.752Z"
   },
   {
    "duration": 397,
    "start_time": "2025-06-18T03:47:37.131Z"
   },
   {
    "duration": 6,
    "start_time": "2025-06-18T03:47:37.529Z"
   },
   {
    "duration": 15,
    "start_time": "2025-06-18T03:47:37.537Z"
   },
   {
    "duration": 29,
    "start_time": "2025-06-18T03:47:37.554Z"
   },
   {
    "duration": 16,
    "start_time": "2025-06-18T03:47:37.585Z"
   },
   {
    "duration": 17,
    "start_time": "2025-06-18T03:47:37.603Z"
   },
   {
    "duration": 229,
    "start_time": "2025-06-18T03:47:37.622Z"
   },
   {
    "duration": 22,
    "start_time": "2025-06-18T03:47:37.853Z"
   },
   {
    "duration": 12,
    "start_time": "2025-06-18T03:47:37.877Z"
   },
   {
    "duration": 43,
    "start_time": "2025-06-18T03:47:37.890Z"
   },
   {
    "duration": 51,
    "start_time": "2025-06-18T03:47:37.935Z"
   },
   {
    "duration": 21,
    "start_time": "2025-06-18T03:47:37.989Z"
   },
   {
    "duration": 26,
    "start_time": "2025-06-18T03:47:38.013Z"
   },
   {
    "duration": 67,
    "start_time": "2025-06-18T03:47:38.041Z"
   },
   {
    "duration": 10,
    "start_time": "2025-06-18T03:47:38.110Z"
   },
   {
    "duration": 7,
    "start_time": "2025-06-18T03:47:38.122Z"
   },
   {
    "duration": 1673,
    "start_time": "2025-06-18T03:55:23.568Z"
   },
   {
    "duration": 1486,
    "start_time": "2025-06-18T03:55:30.178Z"
   },
   {
    "duration": 90,
    "start_time": "2025-06-18T03:55:31.666Z"
   },
   {
    "duration": 14,
    "start_time": "2025-06-18T03:55:31.757Z"
   },
   {
    "duration": 13,
    "start_time": "2025-06-18T03:55:31.773Z"
   },
   {
    "duration": 13,
    "start_time": "2025-06-18T03:55:31.788Z"
   },
   {
    "duration": 11,
    "start_time": "2025-06-18T03:55:31.803Z"
   },
   {
    "duration": 25,
    "start_time": "2025-06-18T03:55:31.816Z"
   },
   {
    "duration": 19,
    "start_time": "2025-06-18T03:55:31.843Z"
   },
   {
    "duration": 398,
    "start_time": "2025-06-18T03:55:31.863Z"
   },
   {
    "duration": 14,
    "start_time": "2025-06-18T03:55:32.263Z"
   },
   {
    "duration": 1625,
    "start_time": "2025-06-18T03:55:32.278Z"
   },
   {
    "duration": 13,
    "start_time": "2025-06-18T03:55:33.905Z"
   },
   {
    "duration": 50,
    "start_time": "2025-06-18T03:55:33.920Z"
   },
   {
    "duration": 118,
    "start_time": "2025-06-18T03:55:33.973Z"
   },
   {
    "duration": 9,
    "start_time": "2025-06-18T03:55:34.092Z"
   },
   {
    "duration": 419,
    "start_time": "2025-06-18T03:55:34.103Z"
   },
   {
    "duration": 382,
    "start_time": "2025-06-18T03:55:34.524Z"
   },
   {
    "duration": 4,
    "start_time": "2025-06-18T03:55:34.908Z"
   },
   {
    "duration": 74,
    "start_time": "2025-06-18T03:55:34.914Z"
   },
   {
    "duration": 21,
    "start_time": "2025-06-18T03:55:34.990Z"
   },
   {
    "duration": 15,
    "start_time": "2025-06-18T03:55:35.013Z"
   },
   {
    "duration": 13,
    "start_time": "2025-06-18T03:55:35.030Z"
   },
   {
    "duration": 214,
    "start_time": "2025-06-18T03:55:35.045Z"
   },
   {
    "duration": 22,
    "start_time": "2025-06-18T03:55:35.261Z"
   },
   {
    "duration": 21,
    "start_time": "2025-06-18T03:55:35.285Z"
   },
   {
    "duration": 42,
    "start_time": "2025-06-18T03:55:35.308Z"
   },
   {
    "duration": 38,
    "start_time": "2025-06-18T03:55:35.353Z"
   },
   {
    "duration": 15,
    "start_time": "2025-06-18T03:55:35.393Z"
   },
   {
    "duration": 27,
    "start_time": "2025-06-18T03:55:35.410Z"
   },
   {
    "duration": 1743,
    "start_time": "2025-06-18T03:55:35.439Z"
   },
   {
    "duration": 0,
    "start_time": "2025-06-18T03:55:37.184Z"
   },
   {
    "duration": 0,
    "start_time": "2025-06-18T03:55:37.186Z"
   },
   {
    "duration": 1545,
    "start_time": "2025-06-18T03:57:33.607Z"
   },
   {
    "duration": 1613,
    "start_time": "2025-06-18T03:58:05.590Z"
   },
   {
    "duration": 26,
    "start_time": "2025-06-18T03:58:33.318Z"
   },
   {
    "duration": 28,
    "start_time": "2025-06-18T03:59:13.605Z"
   },
   {
    "duration": 28,
    "start_time": "2025-06-18T03:59:49.740Z"
   },
   {
    "duration": 30,
    "start_time": "2025-06-18T04:00:01.323Z"
   },
   {
    "duration": 29,
    "start_time": "2025-06-18T04:00:21.803Z"
   },
   {
    "duration": 29,
    "start_time": "2025-06-18T04:00:24.868Z"
   },
   {
    "duration": 107,
    "start_time": "2025-06-18T22:10:10.347Z"
   },
   {
    "duration": 87,
    "start_time": "2025-06-18T22:10:13.210Z"
   },
   {
    "duration": 13,
    "start_time": "2025-06-18T22:10:25.666Z"
   }
  ],
  "colab": {
   "provenance": [],
   "toc_visible": true
  },
  "kernelspec": {
   "display_name": "Python 3 (ipykernel)",
   "language": "python",
   "name": "python3"
  },
  "language_info": {
   "codemirror_mode": {
    "name": "ipython",
    "version": 3
   },
   "file_extension": ".py",
   "mimetype": "text/x-python",
   "name": "python",
   "nbconvert_exporter": "python",
   "pygments_lexer": "ipython3",
   "version": "3.9.5"
  },
  "toc": {
   "base_numbering": 1,
   "nav_menu": {},
   "number_sections": true,
   "sideBar": true,
   "skip_h1_title": true,
   "title_cell": "Table of Contents",
   "title_sidebar": "Contents",
   "toc_cell": false,
   "toc_position": {},
   "toc_section_display": true,
   "toc_window_display": false
  }
 },
 "nbformat": 4,
 "nbformat_minor": 5
}

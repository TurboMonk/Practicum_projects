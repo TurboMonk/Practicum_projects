{
 "cells": [
  {
   "cell_type": "markdown",
   "id": "cc1560ad",
   "metadata": {},
   "source": [
    "# Индустрия игр в начале XXI века\n",
    "\n",
    "- Автор: Шепелев А.Д.\n",
    "- Дата: 20.03.2025"
   ]
  },
  {
   "cell_type": "markdown",
   "id": "0616242c",
   "metadata": {},
   "source": [
    "### Цели и задачи проекта\n",
    "Ознакомление с данными, проверка корректности и их предобработка. Подготовка необходимого среза данных.\n",
    "Используем данные `datasets/new_games.csv`."
   ]
  },
  {
   "cell_type": "markdown",
   "id": "fa504c04",
   "metadata": {},
   "source": [
    "### Описание данных\n",
    "В проекте будут использованы данные датасета `datasets/new_games.csv` с таким описанием:\n",
    "- `Name` — название игры;\n",
    "- `Platform` — название платформы;\n",
    "- `Year of Release` — год выпуска игры;\n",
    "- `Genre` — жанр игры;\n",
    "- `NA sales` — продажи в Северной Америке (в миллионах проданных копий);\n",
    "- `EU sales` — продажи в Европе (в миллионах проданных копий);\n",
    "- `JP sales` — продажи в Японии (в миллионах проданных копий);\n",
    "- `Other sales` — продажи в других странах (в миллионах проданных копий);\n",
    "- `Critic Score` — оценка критиков (от 0 до 100);\n",
    "- `User Score` — оценка пользователей (от 0 до 10);\n",
    "- `Rating` — рейтинг организации ESRB;"
   ]
  },
  {
   "cell_type": "markdown",
   "id": "9a38e39a",
   "metadata": {},
   "source": [
    "## Загрузка и знакомство с данными"
   ]
  },
  {
   "cell_type": "markdown",
   "id": "da4636a3",
   "metadata": {},
   "source": [
    "Загрузим необходимые библиотеки для анализа данных и данные из датасета `datasets/new_games.csv` Затем выведем основную информацию о данных с помощью метода info() и первые строки датафрейма."
   ]
  },
  {
   "cell_type": "code",
   "execution_count": 1,
   "id": "46d09c2e",
   "metadata": {},
   "outputs": [],
   "source": [
    "# Импортируем библиотеку pandas\n",
    "import pandas as pd\n",
    "import warnings\n",
    "\n",
    "warnings.filterwarnings('ignore')"
   ]
  },
  {
   "cell_type": "code",
   "execution_count": 2,
   "id": "74fc34a6",
   "metadata": {},
   "outputs": [],
   "source": [
    "# Выгружаем данные из датасета datasets/new_games.csv в датафрейм df\n",
    "main_df = pd.read_csv('https://code.s3.yandex.net/datasets/new_games.csv')\n",
    "df = main_df.copy()"
   ]
  },
  {
   "cell_type": "code",
   "execution_count": 3,
   "id": "1c09b786",
   "metadata": {},
   "outputs": [
    {
     "name": "stdout",
     "output_type": "stream",
     "text": [
      "<class 'pandas.core.frame.DataFrame'>\n",
      "RangeIndex: 16956 entries, 0 to 16955\n",
      "Data columns (total 11 columns):\n",
      " #   Column           Non-Null Count  Dtype  \n",
      "---  ------           --------------  -----  \n",
      " 0   Name             16954 non-null  object \n",
      " 1   Platform         16956 non-null  object \n",
      " 2   Year of Release  16681 non-null  float64\n",
      " 3   Genre            16954 non-null  object \n",
      " 4   NA sales         16956 non-null  float64\n",
      " 5   EU sales         16956 non-null  object \n",
      " 6   JP sales         16956 non-null  object \n",
      " 7   Other sales      16956 non-null  float64\n",
      " 8   Critic Score     8242 non-null   float64\n",
      " 9   User Score       10152 non-null  object \n",
      " 10  Rating           10085 non-null  object \n",
      "dtypes: float64(4), object(7)\n",
      "memory usage: 1.4+ MB\n"
     ]
    }
   ],
   "source": [
    "# Выводим информацию о датафрейме\n",
    "df.info()"
   ]
  },
  {
   "cell_type": "code",
   "execution_count": 4,
   "id": "eb918747",
   "metadata": {},
   "outputs": [
    {
     "data": {
      "text/html": [
       "<div>\n",
       "<style scoped>\n",
       "    .dataframe tbody tr th:only-of-type {\n",
       "        vertical-align: middle;\n",
       "    }\n",
       "\n",
       "    .dataframe tbody tr th {\n",
       "        vertical-align: top;\n",
       "    }\n",
       "\n",
       "    .dataframe thead th {\n",
       "        text-align: right;\n",
       "    }\n",
       "</style>\n",
       "<table border=\"1\" class=\"dataframe\">\n",
       "  <thead>\n",
       "    <tr style=\"text-align: right;\">\n",
       "      <th></th>\n",
       "      <th>Name</th>\n",
       "      <th>Platform</th>\n",
       "      <th>Year of Release</th>\n",
       "      <th>Genre</th>\n",
       "      <th>NA sales</th>\n",
       "      <th>EU sales</th>\n",
       "      <th>JP sales</th>\n",
       "      <th>Other sales</th>\n",
       "      <th>Critic Score</th>\n",
       "      <th>User Score</th>\n",
       "      <th>Rating</th>\n",
       "    </tr>\n",
       "  </thead>\n",
       "  <tbody>\n",
       "    <tr>\n",
       "      <th>0</th>\n",
       "      <td>Wii Sports</td>\n",
       "      <td>Wii</td>\n",
       "      <td>2006.0</td>\n",
       "      <td>Sports</td>\n",
       "      <td>41.36</td>\n",
       "      <td>28.96</td>\n",
       "      <td>3.77</td>\n",
       "      <td>8.45</td>\n",
       "      <td>76.0</td>\n",
       "      <td>8</td>\n",
       "      <td>E</td>\n",
       "    </tr>\n",
       "    <tr>\n",
       "      <th>1</th>\n",
       "      <td>Super Mario Bros.</td>\n",
       "      <td>NES</td>\n",
       "      <td>1985.0</td>\n",
       "      <td>Platform</td>\n",
       "      <td>29.08</td>\n",
       "      <td>3.58</td>\n",
       "      <td>6.81</td>\n",
       "      <td>0.77</td>\n",
       "      <td>NaN</td>\n",
       "      <td>NaN</td>\n",
       "      <td>NaN</td>\n",
       "    </tr>\n",
       "    <tr>\n",
       "      <th>2</th>\n",
       "      <td>Mario Kart Wii</td>\n",
       "      <td>Wii</td>\n",
       "      <td>2008.0</td>\n",
       "      <td>Racing</td>\n",
       "      <td>15.68</td>\n",
       "      <td>12.76</td>\n",
       "      <td>3.79</td>\n",
       "      <td>3.29</td>\n",
       "      <td>82.0</td>\n",
       "      <td>8.3</td>\n",
       "      <td>E</td>\n",
       "    </tr>\n",
       "    <tr>\n",
       "      <th>3</th>\n",
       "      <td>Wii Sports Resort</td>\n",
       "      <td>Wii</td>\n",
       "      <td>2009.0</td>\n",
       "      <td>Sports</td>\n",
       "      <td>15.61</td>\n",
       "      <td>10.93</td>\n",
       "      <td>3.28</td>\n",
       "      <td>2.95</td>\n",
       "      <td>80.0</td>\n",
       "      <td>8</td>\n",
       "      <td>E</td>\n",
       "    </tr>\n",
       "    <tr>\n",
       "      <th>4</th>\n",
       "      <td>Pokemon Red/Pokemon Blue</td>\n",
       "      <td>GB</td>\n",
       "      <td>1996.0</td>\n",
       "      <td>Role-Playing</td>\n",
       "      <td>11.27</td>\n",
       "      <td>8.89</td>\n",
       "      <td>10.22</td>\n",
       "      <td>1.00</td>\n",
       "      <td>NaN</td>\n",
       "      <td>NaN</td>\n",
       "      <td>NaN</td>\n",
       "    </tr>\n",
       "  </tbody>\n",
       "</table>\n",
       "</div>"
      ],
      "text/plain": [
       "                       Name Platform  Year of Release         Genre  NA sales  \\\n",
       "0                Wii Sports      Wii           2006.0        Sports     41.36   \n",
       "1         Super Mario Bros.      NES           1985.0      Platform     29.08   \n",
       "2            Mario Kart Wii      Wii           2008.0        Racing     15.68   \n",
       "3         Wii Sports Resort      Wii           2009.0        Sports     15.61   \n",
       "4  Pokemon Red/Pokemon Blue       GB           1996.0  Role-Playing     11.27   \n",
       "\n",
       "  EU sales JP sales  Other sales  Critic Score User Score Rating  \n",
       "0    28.96     3.77         8.45          76.0          8      E  \n",
       "1     3.58     6.81         0.77           NaN        NaN    NaN  \n",
       "2    12.76     3.79         3.29          82.0        8.3      E  \n",
       "3    10.93     3.28         2.95          80.0          8      E  \n",
       "4     8.89    10.22         1.00           NaN        NaN    NaN  "
      ]
     },
     "execution_count": 4,
     "metadata": {},
     "output_type": "execute_result"
    }
   ],
   "source": [
    "# Выводим первые строки датафрейма на экран\n",
    "df.head()"
   ]
  },
  {
   "cell_type": "markdown",
   "id": "7b1879bf",
   "metadata": {},
   "source": [
    "Предоставлены данные размером в 16956 строк и 11 столбцов с используемой оперативной памятью 1.4 МВ. Столбцы соответствуют описанию. В 6 стобцах присутствуют пропуски, подробный анализ будет проведён ниже. Присутствуют некорректные типы данных.\n",
    "\n",
    "При дальнейшей предобработке планируется привести названия столбцов и их содержимое к удобному для работы формату."
   ]
  },
  {
   "cell_type": "markdown",
   "id": "ae930144",
   "metadata": {},
   "source": [
    "## Проверка ошибок в данных и их предобработка\n",
    "\n",
    "\n",
    "### Названия, или метки, столбцов датафрейма"
   ]
  },
  {
   "cell_type": "code",
   "execution_count": 5,
   "id": "e936c896",
   "metadata": {},
   "outputs": [
    {
     "data": {
      "text/plain": [
       "Index(['Name', 'Platform', 'Year of Release', 'Genre', 'NA sales', 'EU sales',\n",
       "       'JP sales', 'Other sales', 'Critic Score', 'User Score', 'Rating'],\n",
       "      dtype='object')"
      ]
     },
     "execution_count": 5,
     "metadata": {},
     "output_type": "execute_result"
    }
   ],
   "source": [
    "# Выводим названия столбцов\n",
    "df.columns"
   ]
  },
  {
   "cell_type": "markdown",
   "id": "3337b957",
   "metadata": {},
   "source": [
    "- Приведём названия к удобному для работы формату"
   ]
  },
  {
   "cell_type": "code",
   "execution_count": 6,
   "id": "df972423",
   "metadata": {},
   "outputs": [
    {
     "data": {
      "text/plain": [
       "Index(['name', 'platform', 'year_of_release', 'genre', 'na_sales', 'eu_sales',\n",
       "       'jp_sales', 'other_sales', 'critic_score', 'user_score', 'rating'],\n",
       "      dtype='object')"
      ]
     },
     "execution_count": 6,
     "metadata": {},
     "output_type": "execute_result"
    }
   ],
   "source": [
    "# Приводим названия столбоцов к стилю snake case\n",
    "df.columns = df.columns.str.lower().str.replace(' ', '_')\n",
    "df.columns\n"
   ]
  },
  {
   "cell_type": "markdown",
   "id": "0a0ce318",
   "metadata": {},
   "source": [
    "### Типы данных"
   ]
  },
  {
   "cell_type": "markdown",
   "id": "d04e45a6",
   "metadata": {},
   "source": [
    "- Столбец `year_of_release` имеет тип данных `float64` это обусловлено пропусками в данных, т.к. более удобный для этого  столбца формат `int64` не поддерживает данные типа `NaN`. После работы с пропусками стоит привести его к типу `int64` для более удобного отображения данных.\n",
    "- У `eu_sales`, `jp_sales` и `user_score` тип данных `object` это говорит о наличии строк в столбцах."
   ]
  },
  {
   "cell_type": "code",
   "execution_count": 7,
   "id": "f07b516e",
   "metadata": {},
   "outputs": [
    {
     "data": {
      "text/plain": [
       "name                object\n",
       "platform            object\n",
       "year_of_release    float64\n",
       "genre               object\n",
       "na_sales           float64\n",
       "eu_sales           float64\n",
       "jp_sales           float64\n",
       "other_sales        float64\n",
       "critic_score       float64\n",
       "user_score         float64\n",
       "rating              object\n",
       "dtype: object"
      ]
     },
     "execution_count": 7,
     "metadata": {},
     "output_type": "execute_result"
    }
   ],
   "source": [
    "# Приводим данные к нужному типу и выведем получившийся результат\n",
    "# Использует команду to_numeric чтобы заменить имеющиеся стороковые данные на пропуски\n",
    "df['eu_sales'] = pd.to_numeric(df['eu_sales'], errors = 'coerce')\n",
    "df['jp_sales'] = pd.to_numeric(df['jp_sales'], errors = 'coerce')\n",
    "df['user_score'] = pd.to_numeric(df['user_score'], errors = 'coerce')\n",
    "\n",
    "df.dtypes"
   ]
  },
  {
   "cell_type": "markdown",
   "id": "afcfd5d0",
   "metadata": {},
   "source": [
    "### Наличие пропусков в данных"
   ]
  },
  {
   "cell_type": "code",
   "execution_count": 8,
   "id": "ef5089c4",
   "metadata": {},
   "outputs": [
    {
     "name": "stdout",
     "output_type": "stream",
     "text": [
      "Количество пропусков в каждом столбце:\n",
      "name                  2\n",
      "platform              0\n",
      "year_of_release     275\n",
      "genre                 2\n",
      "na_sales              0\n",
      "eu_sales              6\n",
      "jp_sales              4\n",
      "other_sales           0\n",
      "critic_score       8714\n",
      "user_score         9268\n",
      "rating             6871\n",
      "dtype: int64\n",
      "\n",
      "Доля пропусков в каждом столбце:\n",
      "name               0.000118\n",
      "platform           0.000000\n",
      "year_of_release    0.016218\n",
      "genre              0.000118\n",
      "na_sales           0.000000\n",
      "eu_sales           0.000354\n",
      "jp_sales           0.000236\n",
      "other_sales        0.000000\n",
      "critic_score       0.513918\n",
      "user_score         0.546591\n",
      "rating             0.405225\n",
      "dtype: float64\n"
     ]
    }
   ],
   "source": [
    "# Выводим на экран количество пропусков в каждом столбце и их долю\n",
    "print('Количество пропусков в каждом столбце:')\n",
    "print(df.isna().sum())\n",
    "print()\n",
    "print('Доля пропусков в каждом столбце:')\n",
    "print(df.isna().sum() / len(df))"
   ]
  },
  {
   "cell_type": "markdown",
   "id": "6750bdf2",
   "metadata": {},
   "source": [
    "- `name` и `genre` имеют по 2 пропуска. Возможно эти данные забыли указать. Эти данные не критичны для анализа, поэтому дадим пропускам название 'Без названия'\n",
    "- `year_of_release` 275 пропусков, что составляет 1,6% от всего объёма данных. Очень вероятно что это старые, малоизвестные игры по которым не было информации о годе выпуска. Доля пропусков небольшая, их можно удалить.\n",
    "- `eu_sales` и `jp_sales` 6 и 4 пропуска. Скорее всего игры не имели продаж в регионах с пропусками или в источниках не было информации о продажах. Проставим для пропусков медианные значение по году выпуска и платформе.\n",
    "- `critic_score`, `user_score`, `rating` имеют самую большую долю пропусков ~50%. Большая чать пропусков может быть в данных до 2000 года, т.к. в это время индустрия имела характер развлечения для детей и не была масштабной. Для оценок поставим вместо пропусков значение -1, это нам поможет в дальнейшем анализе. Для рейтинга дадим пропускам название 'Не указан'"
   ]
  },
  {
   "cell_type": "code",
   "execution_count": 9,
   "id": "ae044ab2",
   "metadata": {},
   "outputs": [
    {
     "data": {
      "text/plain": [
       "dtype('int64')"
      ]
     },
     "execution_count": 9,
     "metadata": {},
     "output_type": "execute_result"
    }
   ],
   "source": [
    "# Удаляем пропуски года выпуска и сразу меняем тип данных столбца\n",
    "df = df.dropna(subset=['year_of_release'])\n",
    "df['year_of_release'] = df['year_of_release'].astype('int64')\n",
    "\n",
    "# Сразу проверим тип данных столбца\n",
    "df['year_of_release'].dtypes"
   ]
  },
  {
   "cell_type": "code",
   "execution_count": 10,
   "id": "8df6ff6c",
   "metadata": {},
   "outputs": [],
   "source": [
    "# Даём пропускам название в name\n",
    "def new_names(row):\n",
    "    if pd.isna(row['name']):\n",
    "        return 'Без названия'\n",
    "    else:\n",
    "        return row['name']\n",
    "df['name'] = df.copy().apply(new_names, axis=1)"
   ]
  },
  {
   "cell_type": "code",
   "execution_count": 11,
   "id": "fe2adb19",
   "metadata": {},
   "outputs": [],
   "source": [
    "# Даём пропускам название в genre\n",
    "def new_genre(row):\n",
    "    if pd.isna(row['genre']):\n",
    "        return 'Не указан'\n",
    "    else:\n",
    "        return row['genre']\n",
    "df['genre'] = df.apply(new_genre, axis=1)"
   ]
  },
  {
   "cell_type": "code",
   "execution_count": 12,
   "id": "af02733c",
   "metadata": {},
   "outputs": [],
   "source": [
    "# Даём пропускам название в rating\n",
    "def new_rating(row):\n",
    "    if pd.isna(row['rating']):\n",
    "        return 'Не указан'\n",
    "    else:\n",
    "        return row['rating']\n",
    "    \n",
    "df['rating'] = df.apply(new_rating, axis=1)"
   ]
  },
  {
   "cell_type": "code",
   "execution_count": 13,
   "id": "4df92469",
   "metadata": {},
   "outputs": [],
   "source": [
    "# Заменяем пропуски продаж в Европе на медианное значение в разрезе года выпуска и платформы\n",
    "def mean_eu_sales (row):\n",
    "    if pd.isna(row['eu_sales']):\n",
    "        sale = df[(df['platform'] == row['platform'])\n",
    "                 & (df['year_of_release'] == row['year_of_release'])]\n",
    "        return sale['eu_sales'].median()\n",
    "    else:\n",
    "        return row['eu_sales']\n",
    "df['eu_sales'] = df.apply(mean_eu_sales, axis=1)"
   ]
  },
  {
   "cell_type": "code",
   "execution_count": 14,
   "id": "ca920b58",
   "metadata": {},
   "outputs": [],
   "source": [
    "# Заменяем пропуски продаж в Японии на медианное значение в разрезе года выпуска и платформы\n",
    "def mean_jp_sales (row):\n",
    "    if pd.isna(row['jp_sales']):\n",
    "        sale = df[(df['platform'] == row['platform'])\n",
    "                 & (df['year_of_release'] == row['year_of_release'])]\n",
    "        return sale['jp_sales'].median()\n",
    "    else:\n",
    "        return row['jp_sales']\n",
    "df['jp_sales'] = df.apply(mean_jp_sales, axis=1)"
   ]
  },
  {
   "cell_type": "code",
   "execution_count": 15,
   "id": "7eac64af",
   "metadata": {},
   "outputs": [],
   "source": [
    "# Для оценок подставляем в пропуски значение \"-1\"\n",
    "df['critic_score'] = df['critic_score'].fillna(-1)\n",
    "df['user_score'] = df['user_score'].fillna(-1)"
   ]
  },
  {
   "cell_type": "code",
   "execution_count": 16,
   "id": "139f58be",
   "metadata": {},
   "outputs": [
    {
     "name": "stdout",
     "output_type": "stream",
     "text": [
      "Количество пропусков в каждом столбце:\n",
      "name               0\n",
      "platform           0\n",
      "year_of_release    0\n",
      "genre              0\n",
      "na_sales           0\n",
      "eu_sales           0\n",
      "jp_sales           0\n",
      "other_sales        0\n",
      "critic_score       0\n",
      "user_score         0\n",
      "rating             0\n",
      "dtype: int64\n",
      "\n",
      "Доля пропусков в каждом столбце:\n",
      "name               0.0\n",
      "platform           0.0\n",
      "year_of_release    0.0\n",
      "genre              0.0\n",
      "na_sales           0.0\n",
      "eu_sales           0.0\n",
      "jp_sales           0.0\n",
      "other_sales        0.0\n",
      "critic_score       0.0\n",
      "user_score         0.0\n",
      "rating             0.0\n",
      "dtype: float64\n"
     ]
    }
   ],
   "source": [
    "# Выводим результат после работы с пропусками\n",
    "print('Количество пропусков в каждом столбце:')\n",
    "print(df.isna().sum())\n",
    "print()\n",
    "print('Доля пропусков в каждом столбце:')\n",
    "print(df.isna().sum() / len(df))"
   ]
  },
  {
   "cell_type": "markdown",
   "id": "a033b189",
   "metadata": {},
   "source": [
    "### Явные и неявные дубликаты в данных"
   ]
  },
  {
   "cell_type": "markdown",
   "id": "ce2ebd4f",
   "metadata": {},
   "source": [
    "- Выведем и изучим информацию о дубликатах"
   ]
  },
  {
   "cell_type": "code",
   "execution_count": 17,
   "id": "174354db",
   "metadata": {},
   "outputs": [
    {
     "data": {
      "text/plain": [
       "array(['Wii', 'NES', 'GB', 'DS', 'X360', 'PS3', 'PS2', 'SNES', 'GBA',\n",
       "       'PS4', '3DS', 'N64', 'PS', 'XB', 'PC', '2600', 'PSP', 'XOne',\n",
       "       'WiiU', 'GC', 'GEN', 'DC', 'PSV', 'SAT', 'SCD', 'WS', 'NG', 'TG16',\n",
       "       '3DO', 'GG', 'PCFX'], dtype=object)"
      ]
     },
     "execution_count": 17,
     "metadata": {},
     "output_type": "execute_result"
    }
   ],
   "source": [
    "df['platform'].unique()"
   ]
  },
  {
   "cell_type": "code",
   "execution_count": 18,
   "id": "c24f963b",
   "metadata": {},
   "outputs": [
    {
     "data": {
      "text/plain": [
       "array([2006, 1985, 2008, 2009, 1996, 1989, 1984, 2005, 1999, 2007, 2010,\n",
       "       2013, 2004, 1990, 1988, 2002, 2001, 2011, 1998, 2015, 2012, 2014,\n",
       "       1992, 1997, 1993, 1994, 1982, 2016, 2003, 1986, 2000, 1995, 1991,\n",
       "       1981, 1987, 1980, 1983])"
      ]
     },
     "execution_count": 18,
     "metadata": {},
     "output_type": "execute_result"
    }
   ],
   "source": [
    "df['year_of_release'].unique()"
   ]
  },
  {
   "cell_type": "code",
   "execution_count": 19,
   "id": "8775bc4a",
   "metadata": {},
   "outputs": [
    {
     "data": {
      "text/plain": [
       "array(['Sports', 'Platform', 'Racing', 'Role-Playing', 'Puzzle', 'Misc',\n",
       "       'Shooter', 'Simulation', 'Action', 'Fighting', 'Adventure',\n",
       "       'Strategy', 'Не указан', 'MISC', 'ROLE-PLAYING', 'RACING',\n",
       "       'ACTION', 'SHOOTER', 'FIGHTING', 'SPORTS', 'PLATFORM', 'ADVENTURE',\n",
       "       'SIMULATION', 'PUZZLE', 'STRATEGY'], dtype=object)"
      ]
     },
     "execution_count": 19,
     "metadata": {},
     "output_type": "execute_result"
    }
   ],
   "source": [
    "df['genre'].unique()"
   ]
  },
  {
   "cell_type": "code",
   "execution_count": 20,
   "id": "cbf49bfe",
   "metadata": {},
   "outputs": [
    {
     "data": {
      "text/plain": [
       "array(['E', 'Не указан', 'M', 'T', 'E10+', 'K-A', 'AO', 'EC', 'RP'],\n",
       "      dtype=object)"
      ]
     },
     "execution_count": 20,
     "metadata": {},
     "output_type": "execute_result"
    }
   ],
   "source": [
    "df['rating'].unique()"
   ]
  },
  {
   "cell_type": "markdown",
   "id": "466d7198",
   "metadata": {},
   "source": [
    "- Кроме `genre` остальные столбцы не имеют неявных дубликатов. Для их устранения будет достаточно привести значения в столбце к нижнему регистру."
   ]
  },
  {
   "cell_type": "code",
   "execution_count": 21,
   "id": "e984dffc",
   "metadata": {},
   "outputs": [],
   "source": [
    "# Приводим данные в столбце genre к нижнему регистру\n",
    "# Проделываем эту же манипуляцию с name для удобства работы с данными\n",
    "df['name'] = df['name'].str.lower()\n",
    "df['genre'] = df['genre'].str.lower()"
   ]
  },
  {
   "cell_type": "code",
   "execution_count": 22,
   "id": "874c0f82",
   "metadata": {},
   "outputs": [
    {
     "data": {
      "text/plain": [
       "array(['sports', 'platform', 'racing', 'role-playing', 'puzzle', 'misc',\n",
       "       'shooter', 'simulation', 'action', 'fighting', 'adventure',\n",
       "       'strategy', 'не указан'], dtype=object)"
      ]
     },
     "execution_count": 22,
     "metadata": {},
     "output_type": "execute_result"
    }
   ],
   "source": [
    "# Проверяем результат\n",
    "df['genre'].unique()"
   ]
  },
  {
   "cell_type": "markdown",
   "id": "4342bff4",
   "metadata": {},
   "source": [
    "При работе с явными дубликатами стоит уделить внимание что одна игра могла выходить для нескольких платформ, поэтому искать дубликаты стоит учитывая платформы. Дублирование данных искажает результаты, поэтому мы их удаляем."
   ]
  },
  {
   "cell_type": "code",
   "execution_count": 23,
   "id": "78f0f52c",
   "metadata": {},
   "outputs": [
    {
     "data": {
      "text/plain": [
       "239"
      ]
     },
     "execution_count": 23,
     "metadata": {},
     "output_type": "execute_result"
    }
   ],
   "source": [
    "# Находим явные дубликаты в комбинации название игры - платформа\n",
    "df.duplicated(subset=['name', 'platform']).sum()"
   ]
  },
  {
   "cell_type": "code",
   "execution_count": 24,
   "id": "d05fb549",
   "metadata": {},
   "outputs": [
    {
     "data": {
      "text/html": [
       "<div>\n",
       "<style scoped>\n",
       "    .dataframe tbody tr th:only-of-type {\n",
       "        vertical-align: middle;\n",
       "    }\n",
       "\n",
       "    .dataframe tbody tr th {\n",
       "        vertical-align: top;\n",
       "    }\n",
       "\n",
       "    .dataframe thead th {\n",
       "        text-align: right;\n",
       "    }\n",
       "</style>\n",
       "<table border=\"1\" class=\"dataframe\">\n",
       "  <thead>\n",
       "    <tr style=\"text-align: right;\">\n",
       "      <th></th>\n",
       "      <th>name</th>\n",
       "      <th>platform</th>\n",
       "      <th>year_of_release</th>\n",
       "      <th>genre</th>\n",
       "      <th>na_sales</th>\n",
       "      <th>eu_sales</th>\n",
       "      <th>jp_sales</th>\n",
       "      <th>other_sales</th>\n",
       "      <th>critic_score</th>\n",
       "      <th>user_score</th>\n",
       "      <th>rating</th>\n",
       "    </tr>\n",
       "  </thead>\n",
       "  <tbody>\n",
       "    <tr>\n",
       "      <th>0</th>\n",
       "      <td>wii sports</td>\n",
       "      <td>Wii</td>\n",
       "      <td>2006</td>\n",
       "      <td>sports</td>\n",
       "      <td>41.36</td>\n",
       "      <td>28.96</td>\n",
       "      <td>3.77</td>\n",
       "      <td>8.45</td>\n",
       "      <td>76.0</td>\n",
       "      <td>8.0</td>\n",
       "      <td>E</td>\n",
       "    </tr>\n",
       "    <tr>\n",
       "      <th>1</th>\n",
       "      <td>super mario bros.</td>\n",
       "      <td>NES</td>\n",
       "      <td>1985</td>\n",
       "      <td>platform</td>\n",
       "      <td>29.08</td>\n",
       "      <td>3.58</td>\n",
       "      <td>6.81</td>\n",
       "      <td>0.77</td>\n",
       "      <td>-1.0</td>\n",
       "      <td>-1.0</td>\n",
       "      <td>Не указан</td>\n",
       "    </tr>\n",
       "    <tr>\n",
       "      <th>2</th>\n",
       "      <td>mario kart wii</td>\n",
       "      <td>Wii</td>\n",
       "      <td>2008</td>\n",
       "      <td>racing</td>\n",
       "      <td>15.68</td>\n",
       "      <td>12.76</td>\n",
       "      <td>3.79</td>\n",
       "      <td>3.29</td>\n",
       "      <td>82.0</td>\n",
       "      <td>8.3</td>\n",
       "      <td>E</td>\n",
       "    </tr>\n",
       "    <tr>\n",
       "      <th>3</th>\n",
       "      <td>wii sports resort</td>\n",
       "      <td>Wii</td>\n",
       "      <td>2009</td>\n",
       "      <td>sports</td>\n",
       "      <td>15.61</td>\n",
       "      <td>10.93</td>\n",
       "      <td>3.28</td>\n",
       "      <td>2.95</td>\n",
       "      <td>80.0</td>\n",
       "      <td>8.0</td>\n",
       "      <td>E</td>\n",
       "    </tr>\n",
       "    <tr>\n",
       "      <th>4</th>\n",
       "      <td>pokemon red/pokemon blue</td>\n",
       "      <td>GB</td>\n",
       "      <td>1996</td>\n",
       "      <td>role-playing</td>\n",
       "      <td>11.27</td>\n",
       "      <td>8.89</td>\n",
       "      <td>10.22</td>\n",
       "      <td>1.00</td>\n",
       "      <td>-1.0</td>\n",
       "      <td>-1.0</td>\n",
       "      <td>Не указан</td>\n",
       "    </tr>\n",
       "    <tr>\n",
       "      <th>...</th>\n",
       "      <td>...</td>\n",
       "      <td>...</td>\n",
       "      <td>...</td>\n",
       "      <td>...</td>\n",
       "      <td>...</td>\n",
       "      <td>...</td>\n",
       "      <td>...</td>\n",
       "      <td>...</td>\n",
       "      <td>...</td>\n",
       "      <td>...</td>\n",
       "      <td>...</td>\n",
       "    </tr>\n",
       "    <tr>\n",
       "      <th>16951</th>\n",
       "      <td>samurai warriors: sanada maru</td>\n",
       "      <td>PS3</td>\n",
       "      <td>2016</td>\n",
       "      <td>action</td>\n",
       "      <td>0.00</td>\n",
       "      <td>0.00</td>\n",
       "      <td>0.01</td>\n",
       "      <td>0.00</td>\n",
       "      <td>-1.0</td>\n",
       "      <td>-1.0</td>\n",
       "      <td>Не указан</td>\n",
       "    </tr>\n",
       "    <tr>\n",
       "      <th>16952</th>\n",
       "      <td>lma manager 2007</td>\n",
       "      <td>X360</td>\n",
       "      <td>2006</td>\n",
       "      <td>sports</td>\n",
       "      <td>0.00</td>\n",
       "      <td>0.01</td>\n",
       "      <td>0.00</td>\n",
       "      <td>0.00</td>\n",
       "      <td>-1.0</td>\n",
       "      <td>-1.0</td>\n",
       "      <td>Не указан</td>\n",
       "    </tr>\n",
       "    <tr>\n",
       "      <th>16953</th>\n",
       "      <td>haitaka no psychedelica</td>\n",
       "      <td>PSV</td>\n",
       "      <td>2016</td>\n",
       "      <td>adventure</td>\n",
       "      <td>0.00</td>\n",
       "      <td>0.00</td>\n",
       "      <td>0.01</td>\n",
       "      <td>0.00</td>\n",
       "      <td>-1.0</td>\n",
       "      <td>-1.0</td>\n",
       "      <td>Не указан</td>\n",
       "    </tr>\n",
       "    <tr>\n",
       "      <th>16954</th>\n",
       "      <td>spirits &amp; spells</td>\n",
       "      <td>GBA</td>\n",
       "      <td>2003</td>\n",
       "      <td>platform</td>\n",
       "      <td>0.01</td>\n",
       "      <td>0.00</td>\n",
       "      <td>0.00</td>\n",
       "      <td>0.00</td>\n",
       "      <td>-1.0</td>\n",
       "      <td>-1.0</td>\n",
       "      <td>Не указан</td>\n",
       "    </tr>\n",
       "    <tr>\n",
       "      <th>16955</th>\n",
       "      <td>winning post 8 2016</td>\n",
       "      <td>PSV</td>\n",
       "      <td>2016</td>\n",
       "      <td>simulation</td>\n",
       "      <td>0.00</td>\n",
       "      <td>0.00</td>\n",
       "      <td>0.01</td>\n",
       "      <td>0.00</td>\n",
       "      <td>-1.0</td>\n",
       "      <td>-1.0</td>\n",
       "      <td>Не указан</td>\n",
       "    </tr>\n",
       "  </tbody>\n",
       "</table>\n",
       "<p>16442 rows × 11 columns</p>\n",
       "</div>"
      ],
      "text/plain": [
       "                                name platform  year_of_release         genre  \\\n",
       "0                         wii sports      Wii             2006        sports   \n",
       "1                  super mario bros.      NES             1985      platform   \n",
       "2                     mario kart wii      Wii             2008        racing   \n",
       "3                  wii sports resort      Wii             2009        sports   \n",
       "4           pokemon red/pokemon blue       GB             1996  role-playing   \n",
       "...                              ...      ...              ...           ...   \n",
       "16951  samurai warriors: sanada maru      PS3             2016        action   \n",
       "16952               lma manager 2007     X360             2006        sports   \n",
       "16953        haitaka no psychedelica      PSV             2016     adventure   \n",
       "16954               spirits & spells      GBA             2003      platform   \n",
       "16955            winning post 8 2016      PSV             2016    simulation   \n",
       "\n",
       "       na_sales  eu_sales  jp_sales  other_sales  critic_score  user_score  \\\n",
       "0         41.36     28.96      3.77         8.45          76.0         8.0   \n",
       "1         29.08      3.58      6.81         0.77          -1.0        -1.0   \n",
       "2         15.68     12.76      3.79         3.29          82.0         8.3   \n",
       "3         15.61     10.93      3.28         2.95          80.0         8.0   \n",
       "4         11.27      8.89     10.22         1.00          -1.0        -1.0   \n",
       "...         ...       ...       ...          ...           ...         ...   \n",
       "16951      0.00      0.00      0.01         0.00          -1.0        -1.0   \n",
       "16952      0.00      0.01      0.00         0.00          -1.0        -1.0   \n",
       "16953      0.00      0.00      0.01         0.00          -1.0        -1.0   \n",
       "16954      0.01      0.00      0.00         0.00          -1.0        -1.0   \n",
       "16955      0.00      0.00      0.01         0.00          -1.0        -1.0   \n",
       "\n",
       "          rating  \n",
       "0              E  \n",
       "1      Не указан  \n",
       "2              E  \n",
       "3              E  \n",
       "4      Не указан  \n",
       "...          ...  \n",
       "16951  Не указан  \n",
       "16952  Не указан  \n",
       "16953  Не указан  \n",
       "16954  Не указан  \n",
       "16955  Не указан  \n",
       "\n",
       "[16442 rows x 11 columns]"
      ]
     },
     "execution_count": 24,
     "metadata": {},
     "output_type": "execute_result"
    }
   ],
   "source": [
    "# Удаляем дубликаты, оставляя первую строку\n",
    "df.drop_duplicates(subset=['name', 'platform'], keep = 'first')"
   ]
  },
  {
   "cell_type": "markdown",
   "id": "f7196f3c",
   "metadata": {},
   "source": [
    "После обработки данных мы получили срез в 16442 строк, это 97% от изначального набора данных. Данные отчищенны от пропусков и дубликатов, столбцам присвоены правильные типы данных и их содержание приведено к удобному формату для анализа."
   ]
  },
  {
   "cell_type": "markdown",
   "id": "3646f25c",
   "metadata": {},
   "source": [
    "## Фильтрация данных"
   ]
  },
  {
   "cell_type": "markdown",
   "id": "acc4e8c8",
   "metadata": {},
   "source": [
    "Коллеги хотят изучить историю продаж игр в начале XXI века, и их интересует период с 2000 по 2013 год включительно. Отберём данные по этому показателю. Так же присвоим категории играм по оценкам пользователей и критиков."
   ]
  },
  {
   "cell_type": "code",
   "execution_count": 25,
   "id": "ab650efb",
   "metadata": {},
   "outputs": [
    {
     "name": "stdout",
     "output_type": "stream",
     "text": [
      "<class 'pandas.core.frame.DataFrame'>\n",
      "Int64Index: 12980 entries, 0 to 16954\n",
      "Data columns (total 11 columns):\n",
      " #   Column           Non-Null Count  Dtype  \n",
      "---  ------           --------------  -----  \n",
      " 0   name             12980 non-null  object \n",
      " 1   platform         12980 non-null  object \n",
      " 2   year_of_release  12980 non-null  int64  \n",
      " 3   genre            12980 non-null  object \n",
      " 4   na_sales         12980 non-null  float64\n",
      " 5   eu_sales         12980 non-null  float64\n",
      " 6   jp_sales         12980 non-null  float64\n",
      " 7   other_sales      12980 non-null  float64\n",
      " 8   critic_score     12980 non-null  float64\n",
      " 9   user_score       12980 non-null  float64\n",
      " 10  rating           12980 non-null  object \n",
      "dtypes: float64(6), int64(1), object(4)\n",
      "memory usage: 1.2+ MB\n"
     ]
    }
   ],
   "source": [
    "# Фильтруем данные по годам и сохраняем новый срез данных в отдельном датафрейме.\n",
    "df_actual = df[(df['year_of_release'] >= 2000) & (df['year_of_release'] <= 2013)]\n",
    "df_actual.info()"
   ]
  },
  {
   "cell_type": "markdown",
   "id": "47a8ac57",
   "metadata": {},
   "source": [
    "После фильтрации получен срез в 12980 строк, это 77% от изначального набора данных."
   ]
  },
  {
   "cell_type": "markdown",
   "id": "e3efa81d",
   "metadata": {},
   "source": [
    "## Категоризация данных\n",
    "Согласно заданию разделим все игры по оценкам пользователей: высокая оценка (от 8 до 10 включительно), средняя оценка (от 3 до 8, не включая правую границу интервала) и низкая оценка (от 0 до 3, не включая правую границу интервала)."
   ]
  },
  {
   "cell_type": "code",
   "execution_count": 26,
   "id": "cb7dad78",
   "metadata": {},
   "outputs": [],
   "source": [
    "# Присваиваем категории играм в соответствии оценкам игроков\n",
    "# Сохраняем данные в новый столбец\n",
    "def cat_us(row):\n",
    "    if 0 <= row['user_score'] < 3:\n",
    "        return \"низкая оценка\"\n",
    "    elif 3 <= row['user_score'] < 8:\n",
    "        return \"средняя оценка\"\n",
    "    elif 8 <= row['user_score'] <= 10:\n",
    "        return \"высокая оценка\"\n",
    "    else:\n",
    "        return \"нет данных\"\n",
    "df_actual['cat_user'] = df_actual.apply(cat_us, axis=1)"
   ]
  },
  {
   "cell_type": "code",
   "execution_count": 27,
   "id": "b7607e6d",
   "metadata": {},
   "outputs": [],
   "source": [
    "# Присваиваем категории играм в соответствии оценкам критиков\n",
    "# Сохраняем данные в новый столбец\n",
    "def cat_cr(row):\n",
    "    if 0 <= row['critic_score'] < 30:\n",
    "        return \"низкая оценка\"\n",
    "    elif 30 <= row['critic_score'] < 80:\n",
    "        return \"средняя оценка\"\n",
    "    elif 80 <= row['critic_score'] <= 100:\n",
    "        return \"высокая оценка\"\n",
    "    else:\n",
    "        return \"нет данных\"\n",
    "df_actual['cat_critic'] = df_actual.apply(cat_cr, axis=1)"
   ]
  },
  {
   "cell_type": "code",
   "execution_count": 28,
   "id": "e8fb6108",
   "metadata": {},
   "outputs": [
    {
     "name": "stdout",
     "output_type": "stream",
     "text": [
      "Кол-во игр по категориям оценок пользователей: cat_user\n",
      "высокая оценка    2307\n",
      "нет данных        6408\n",
      "низкая оценка      117\n",
      "средняя оценка    4148\n",
      "Name: name, dtype: int64\n",
      "\n",
      "Кол-во игр по категориям оценок критиков: cat_critic\n",
      "высокая оценка    1712\n",
      "нет данных        5713\n",
      "низкая оценка       55\n",
      "средняя оценка    5500\n",
      "Name: name, dtype: int64\n"
     ]
    }
   ],
   "source": [
    "# Сгруппируем данные по категориям и посчитаем количество игр в каждой\n",
    "# Выведем результат на экран\n",
    "group_user = df_actual.groupby('cat_user')['name'].count()\n",
    "group_critic = df_actual.groupby('cat_critic')['name'].count()\n",
    "print(f'Кол-во игр по категориям оценок пользователей: {group_user}')\n",
    "print()\n",
    "print(f'Кол-во игр по категориям оценок критиков: {group_critic}')"
   ]
  },
  {
   "cell_type": "code",
   "execution_count": 29,
   "id": "e11fb45a",
   "metadata": {},
   "outputs": [
    {
     "data": {
      "text/plain": [
       "platform\n",
       "PS2     2154\n",
       "DS      2146\n",
       "Wii     1294\n",
       "PSP     1199\n",
       "X360    1138\n",
       "PS3     1107\n",
       "GBA      826\n",
       "Name: name, dtype: int64"
      ]
     },
     "execution_count": 29,
     "metadata": {},
     "output_type": "execute_result"
    }
   ],
   "source": [
    "# Выведем ТОП-7 платформ по количеству игр, выпущенных за весь актуальный период\n",
    "count_games = df_actual.groupby('platform')['name'].count()\n",
    "count_games.sort_values(ascending=False).head(7)"
   ]
  },
  {
   "cell_type": "markdown",
   "id": "d4515930",
   "metadata": {},
   "source": [
    "## Итоговый вывод\n",
    "\n",
    "Проведена выгрузка и анализ данных с последующей предобработкой. Датасет приведён к рабочему виду и отчищен от ненужных данных. Отфильтрован по времени необходимому для анализа с 2000 по 2013 года. Каждой игре присвоены 2 категории в зависимости от оценок игроков и критиков данные добавлены новые столбцы `cat_user`, `cat_critic`. Для каждой платформы посчитано кол-во выпущеных игр и выведены 7 платформ с наибольшим кол-вом."
   ]
  }
 ],
 "metadata": {
  "ExecuteTimeLog": [
   {
    "duration": 86,
    "start_time": "2025-03-19T04:00:10.025Z"
   },
   {
    "duration": 418,
    "start_time": "2025-03-19T04:00:34.925Z"
   },
   {
    "duration": 502,
    "start_time": "2025-03-19T04:00:44.701Z"
   },
   {
    "duration": 180,
    "start_time": "2025-03-19T04:00:46.142Z"
   },
   {
    "duration": 106,
    "start_time": "2025-03-19T04:01:22.324Z"
   },
   {
    "duration": 106,
    "start_time": "2025-03-19T04:01:23.761Z"
   },
   {
    "duration": 135,
    "start_time": "2025-03-19T04:01:26.453Z"
   },
   {
    "duration": 425,
    "start_time": "2025-03-19T04:01:33.917Z"
   },
   {
    "duration": 128,
    "start_time": "2025-03-19T04:01:35.789Z"
   },
   {
    "duration": 36,
    "start_time": "2025-03-19T04:02:30.748Z"
   },
   {
    "duration": 34,
    "start_time": "2025-03-19T04:02:47.478Z"
   },
   {
    "duration": 104,
    "start_time": "2025-03-19T04:25:02.165Z"
   },
   {
    "duration": 13,
    "start_time": "2025-03-19T04:33:27.278Z"
   },
   {
    "duration": 23,
    "start_time": "2025-03-19T04:37:53.197Z"
   },
   {
    "duration": 102,
    "start_time": "2025-03-19T04:45:29.903Z"
   },
   {
    "duration": 22,
    "start_time": "2025-03-19T04:46:14.439Z"
   },
   {
    "duration": 25,
    "start_time": "2025-03-19T04:53:43.872Z"
   },
   {
    "duration": 754,
    "start_time": "2025-03-19T05:00:55.554Z"
   },
   {
    "duration": 709,
    "start_time": "2025-03-19T05:07:26.983Z"
   },
   {
    "duration": 1504,
    "start_time": "2025-03-19T05:08:18.435Z"
   },
   {
    "duration": 16,
    "start_time": "2025-03-19T05:10:07.594Z"
   },
   {
    "duration": 1360,
    "start_time": "2025-03-19T05:10:39.092Z"
   },
   {
    "duration": 54,
    "start_time": "2025-03-19T05:12:26.045Z"
   },
   {
    "duration": 27,
    "start_time": "2025-03-19T05:12:46.675Z"
   },
   {
    "duration": 19,
    "start_time": "2025-03-19T05:12:51.891Z"
   },
   {
    "duration": 30,
    "start_time": "2025-03-19T05:15:46.390Z"
   },
   {
    "duration": 12,
    "start_time": "2025-03-19T05:16:23.154Z"
   },
   {
    "duration": 13,
    "start_time": "2025-03-19T05:16:25.955Z"
   },
   {
    "duration": 15,
    "start_time": "2025-03-19T05:16:52.202Z"
   },
   {
    "duration": 20,
    "start_time": "2025-03-19T05:17:49.892Z"
   },
   {
    "duration": 17,
    "start_time": "2025-03-19T05:20:39.735Z"
   },
   {
    "duration": 10,
    "start_time": "2025-03-19T05:21:02.717Z"
   },
   {
    "duration": 9,
    "start_time": "2025-03-19T05:21:04.733Z"
   },
   {
    "duration": 28,
    "start_time": "2025-03-19T05:22:00.667Z"
   },
   {
    "duration": 16,
    "start_time": "2025-03-19T05:22:35.899Z"
   },
   {
    "duration": 11,
    "start_time": "2025-03-19T05:23:01.899Z"
   },
   {
    "duration": 452,
    "start_time": "2025-03-19T05:23:24.582Z"
   },
   {
    "duration": 171,
    "start_time": "2025-03-19T05:23:26.355Z"
   },
   {
    "duration": 17,
    "start_time": "2025-03-19T05:23:27.610Z"
   },
   {
    "duration": 36,
    "start_time": "2025-03-19T05:23:29.538Z"
   },
   {
    "duration": 15,
    "start_time": "2025-03-19T05:23:31.465Z"
   },
   {
    "duration": 116,
    "start_time": "2025-03-19T05:23:33.137Z"
   },
   {
    "duration": 436,
    "start_time": "2025-03-19T05:25:27.214Z"
   },
   {
    "duration": 138,
    "start_time": "2025-03-19T05:25:28.576Z"
   },
   {
    "duration": 19,
    "start_time": "2025-03-19T05:25:29.703Z"
   },
   {
    "duration": 30,
    "start_time": "2025-03-19T05:25:31.623Z"
   },
   {
    "duration": 6,
    "start_time": "2025-03-19T05:25:35.102Z"
   },
   {
    "duration": 30,
    "start_time": "2025-03-19T05:25:36.823Z"
   },
   {
    "duration": 23,
    "start_time": "2025-03-19T05:28:56.954Z"
   },
   {
    "duration": 41,
    "start_time": "2025-03-19T05:29:52.371Z"
   },
   {
    "duration": 13,
    "start_time": "2025-03-19T05:30:04.001Z"
   },
   {
    "duration": 25,
    "start_time": "2025-03-19T05:30:20.144Z"
   },
   {
    "duration": 13,
    "start_time": "2025-03-19T05:31:12.303Z"
   },
   {
    "duration": 20,
    "start_time": "2025-03-19T05:31:33.181Z"
   },
   {
    "duration": 7,
    "start_time": "2025-03-19T05:52:04.608Z"
   },
   {
    "duration": 110,
    "start_time": "2025-03-19T06:02:52.787Z"
   },
   {
    "duration": 462,
    "start_time": "2025-03-19T06:05:17.480Z"
   },
   {
    "duration": 155,
    "start_time": "2025-03-19T06:05:17.944Z"
   },
   {
    "duration": 18,
    "start_time": "2025-03-19T06:05:18.101Z"
   },
   {
    "duration": 28,
    "start_time": "2025-03-19T06:05:18.120Z"
   },
   {
    "duration": 10,
    "start_time": "2025-03-19T06:05:18.155Z"
   },
   {
    "duration": 45,
    "start_time": "2025-03-19T06:05:18.167Z"
   },
   {
    "duration": 17,
    "start_time": "2025-03-19T06:05:18.213Z"
   },
   {
    "duration": 35,
    "start_time": "2025-03-19T06:05:18.231Z"
   },
   {
    "duration": 11,
    "start_time": "2025-03-19T06:05:37.921Z"
   },
   {
    "duration": 6,
    "start_time": "2025-03-19T06:11:30.609Z"
   },
   {
    "duration": 93,
    "start_time": "2025-03-19T06:15:38.748Z"
   },
   {
    "duration": 154,
    "start_time": "2025-03-19T06:15:57.197Z"
   },
   {
    "duration": 183,
    "start_time": "2025-03-19T06:17:11.019Z"
   },
   {
    "duration": 200,
    "start_time": "2025-03-19T06:18:16.418Z"
   },
   {
    "duration": 15,
    "start_time": "2025-03-19T06:18:41.719Z"
   },
   {
    "duration": 145,
    "start_time": "2025-03-19T06:19:34.000Z"
   },
   {
    "duration": 15,
    "start_time": "2025-03-19T06:19:36.031Z"
   },
   {
    "duration": 217,
    "start_time": "2025-03-19T06:27:22.351Z"
   },
   {
    "duration": 209,
    "start_time": "2025-03-19T06:27:54.430Z"
   },
   {
    "duration": 17,
    "start_time": "2025-03-19T06:28:01.978Z"
   },
   {
    "duration": 4,
    "start_time": "2025-03-19T06:29:51.636Z"
   },
   {
    "duration": 138,
    "start_time": "2025-03-19T06:30:36.601Z"
   },
   {
    "duration": 14,
    "start_time": "2025-03-19T06:30:47.003Z"
   },
   {
    "duration": 423,
    "start_time": "2025-03-19T06:30:55.303Z"
   },
   {
    "duration": 106,
    "start_time": "2025-03-19T06:30:55.729Z"
   },
   {
    "duration": 26,
    "start_time": "2025-03-19T06:30:55.836Z"
   },
   {
    "duration": 42,
    "start_time": "2025-03-19T06:30:55.871Z"
   },
   {
    "duration": 5,
    "start_time": "2025-03-19T06:30:55.916Z"
   },
   {
    "duration": 26,
    "start_time": "2025-03-19T06:30:55.923Z"
   },
   {
    "duration": 41,
    "start_time": "2025-03-19T06:30:55.951Z"
   },
   {
    "duration": 8,
    "start_time": "2025-03-19T06:30:55.994Z"
   },
   {
    "duration": 144,
    "start_time": "2025-03-19T06:30:56.004Z"
   },
   {
    "duration": 161,
    "start_time": "2025-03-19T06:30:56.150Z"
   },
   {
    "duration": 177,
    "start_time": "2025-03-19T06:30:56.313Z"
   },
   {
    "duration": 218,
    "start_time": "2025-03-19T06:30:56.491Z"
   },
   {
    "duration": 215,
    "start_time": "2025-03-19T06:30:56.711Z"
   },
   {
    "duration": 5,
    "start_time": "2025-03-19T06:30:56.929Z"
   },
   {
    "duration": 40,
    "start_time": "2025-03-19T06:30:56.936Z"
   },
   {
    "duration": 170,
    "start_time": "2025-03-19T06:31:38.129Z"
   },
   {
    "duration": 436,
    "start_time": "2025-03-19T06:32:17.385Z"
   },
   {
    "duration": 106,
    "start_time": "2025-03-19T06:32:18.792Z"
   },
   {
    "duration": 17,
    "start_time": "2025-03-19T06:32:20.320Z"
   },
   {
    "duration": 29,
    "start_time": "2025-03-19T06:32:22.720Z"
   },
   {
    "duration": 5,
    "start_time": "2025-03-19T06:32:28.120Z"
   },
   {
    "duration": 33,
    "start_time": "2025-03-19T06:32:29.768Z"
   },
   {
    "duration": 17,
    "start_time": "2025-03-19T06:32:31.799Z"
   },
   {
    "duration": 9,
    "start_time": "2025-03-19T06:32:36.641Z"
   },
   {
    "duration": 156,
    "start_time": "2025-03-19T06:32:39.273Z"
   },
   {
    "duration": 146,
    "start_time": "2025-03-19T06:32:40.887Z"
   },
   {
    "duration": 148,
    "start_time": "2025-03-19T06:32:42.104Z"
   },
   {
    "duration": 132,
    "start_time": "2025-03-19T06:32:42.607Z"
   },
   {
    "duration": 141,
    "start_time": "2025-03-19T06:32:42.978Z"
   },
   {
    "duration": 137,
    "start_time": "2025-03-19T06:32:43.274Z"
   },
   {
    "duration": 134,
    "start_time": "2025-03-19T06:32:43.512Z"
   },
   {
    "duration": 142,
    "start_time": "2025-03-19T06:32:43.866Z"
   },
   {
    "duration": 154,
    "start_time": "2025-03-19T06:32:45.544Z"
   },
   {
    "duration": 142,
    "start_time": "2025-03-19T06:32:47.062Z"
   },
   {
    "duration": 204,
    "start_time": "2025-03-19T06:32:48.720Z"
   },
   {
    "duration": 206,
    "start_time": "2025-03-19T06:32:50.192Z"
   },
   {
    "duration": 8,
    "start_time": "2025-03-19T06:32:52.179Z"
   },
   {
    "duration": 24,
    "start_time": "2025-03-19T06:32:54.377Z"
   },
   {
    "duration": 144,
    "start_time": "2025-03-19T06:34:02.367Z"
   },
   {
    "duration": 151,
    "start_time": "2025-03-19T06:34:08.229Z"
   },
   {
    "duration": 152,
    "start_time": "2025-03-19T06:34:12.777Z"
   },
   {
    "duration": 196,
    "start_time": "2025-03-19T06:34:17.117Z"
   },
   {
    "duration": 194,
    "start_time": "2025-03-19T06:34:21.502Z"
   },
   {
    "duration": 4,
    "start_time": "2025-03-19T06:34:34.286Z"
   },
   {
    "duration": 463,
    "start_time": "2025-03-19T06:34:40.145Z"
   },
   {
    "duration": 103,
    "start_time": "2025-03-19T06:34:40.610Z"
   },
   {
    "duration": 19,
    "start_time": "2025-03-19T06:34:40.715Z"
   },
   {
    "duration": 35,
    "start_time": "2025-03-19T06:34:40.735Z"
   },
   {
    "duration": 9,
    "start_time": "2025-03-19T06:34:40.775Z"
   },
   {
    "duration": 29,
    "start_time": "2025-03-19T06:34:40.788Z"
   },
   {
    "duration": 49,
    "start_time": "2025-03-19T06:34:40.819Z"
   },
   {
    "duration": 14,
    "start_time": "2025-03-19T06:34:40.872Z"
   },
   {
    "duration": 152,
    "start_time": "2025-03-19T06:34:40.898Z"
   },
   {
    "duration": 164,
    "start_time": "2025-03-19T06:34:41.051Z"
   },
   {
    "duration": 177,
    "start_time": "2025-03-19T06:34:41.216Z"
   },
   {
    "duration": 222,
    "start_time": "2025-03-19T06:34:41.395Z"
   },
   {
    "duration": 214,
    "start_time": "2025-03-19T06:34:41.619Z"
   },
   {
    "duration": 5,
    "start_time": "2025-03-19T06:34:41.836Z"
   },
   {
    "duration": 30,
    "start_time": "2025-03-19T06:34:41.854Z"
   },
   {
    "duration": 8,
    "start_time": "2025-03-19T06:34:59.605Z"
   },
   {
    "duration": 143,
    "start_time": "2025-03-19T06:35:00.570Z"
   },
   {
    "duration": 160,
    "start_time": "2025-03-19T06:35:01.637Z"
   },
   {
    "duration": 138,
    "start_time": "2025-03-19T06:35:02.613Z"
   },
   {
    "duration": 206,
    "start_time": "2025-03-19T06:35:03.909Z"
   },
   {
    "duration": 249,
    "start_time": "2025-03-19T06:35:05.037Z"
   },
   {
    "duration": 10,
    "start_time": "2025-03-19T06:35:07.052Z"
   },
   {
    "duration": 15,
    "start_time": "2025-03-19T06:35:07.879Z"
   },
   {
    "duration": 141,
    "start_time": "2025-03-19T06:35:37.900Z"
   },
   {
    "duration": 471,
    "start_time": "2025-03-19T06:35:59.263Z"
   },
   {
    "duration": 104,
    "start_time": "2025-03-19T06:35:59.736Z"
   },
   {
    "duration": 21,
    "start_time": "2025-03-19T06:35:59.841Z"
   },
   {
    "duration": 39,
    "start_time": "2025-03-19T06:35:59.864Z"
   },
   {
    "duration": 5,
    "start_time": "2025-03-19T06:35:59.906Z"
   },
   {
    "duration": 48,
    "start_time": "2025-03-19T06:35:59.913Z"
   },
   {
    "duration": 26,
    "start_time": "2025-03-19T06:35:59.963Z"
   },
   {
    "duration": 9,
    "start_time": "2025-03-19T06:35:59.992Z"
   },
   {
    "duration": 195,
    "start_time": "2025-03-19T06:36:00.003Z"
   },
   {
    "duration": 142,
    "start_time": "2025-03-19T06:36:00.199Z"
   },
   {
    "duration": 161,
    "start_time": "2025-03-19T06:36:00.342Z"
   },
   {
    "duration": 214,
    "start_time": "2025-03-19T06:36:00.505Z"
   },
   {
    "duration": 254,
    "start_time": "2025-03-19T06:36:00.721Z"
   },
   {
    "duration": 15,
    "start_time": "2025-03-19T06:36:00.979Z"
   },
   {
    "duration": 49,
    "start_time": "2025-03-19T06:36:00.996Z"
   },
   {
    "duration": 458,
    "start_time": "2025-03-19T06:37:43.740Z"
   },
   {
    "duration": 119,
    "start_time": "2025-03-19T06:37:44.200Z"
   },
   {
    "duration": 17,
    "start_time": "2025-03-19T06:37:44.321Z"
   },
   {
    "duration": 60,
    "start_time": "2025-03-19T06:37:44.340Z"
   },
   {
    "duration": 5,
    "start_time": "2025-03-19T06:37:44.403Z"
   },
   {
    "duration": 29,
    "start_time": "2025-03-19T06:37:44.410Z"
   },
   {
    "duration": 34,
    "start_time": "2025-03-19T06:37:44.440Z"
   },
   {
    "duration": 12,
    "start_time": "2025-03-19T06:37:44.478Z"
   },
   {
    "duration": 182,
    "start_time": "2025-03-19T06:37:44.492Z"
   },
   {
    "duration": 141,
    "start_time": "2025-03-19T06:37:44.682Z"
   },
   {
    "duration": 175,
    "start_time": "2025-03-19T06:37:44.825Z"
   },
   {
    "duration": 224,
    "start_time": "2025-03-19T06:37:45.002Z"
   },
   {
    "duration": 257,
    "start_time": "2025-03-19T06:37:45.228Z"
   },
   {
    "duration": 6,
    "start_time": "2025-03-19T06:37:45.488Z"
   },
   {
    "duration": 74,
    "start_time": "2025-03-19T06:37:45.495Z"
   },
   {
    "duration": 431,
    "start_time": "2025-03-19T06:37:59.316Z"
   },
   {
    "duration": 138,
    "start_time": "2025-03-19T06:37:59.749Z"
   },
   {
    "duration": 20,
    "start_time": "2025-03-19T06:37:59.889Z"
   },
   {
    "duration": 47,
    "start_time": "2025-03-19T06:37:59.911Z"
   },
   {
    "duration": 7,
    "start_time": "2025-03-19T06:37:59.969Z"
   },
   {
    "duration": 44,
    "start_time": "2025-03-19T06:37:59.979Z"
   },
   {
    "duration": 53,
    "start_time": "2025-03-19T06:38:00.024Z"
   },
   {
    "duration": 8,
    "start_time": "2025-03-19T06:38:00.086Z"
   },
   {
    "duration": 179,
    "start_time": "2025-03-19T06:38:00.096Z"
   },
   {
    "duration": 144,
    "start_time": "2025-03-19T06:38:00.277Z"
   },
   {
    "duration": 154,
    "start_time": "2025-03-19T06:38:00.422Z"
   },
   {
    "duration": 220,
    "start_time": "2025-03-19T06:38:00.577Z"
   },
   {
    "duration": 266,
    "start_time": "2025-03-19T06:38:00.799Z"
   },
   {
    "duration": 24,
    "start_time": "2025-03-19T06:38:01.069Z"
   },
   {
    "duration": 103,
    "start_time": "2025-03-19T06:38:01.095Z"
   },
   {
    "duration": 133,
    "start_time": "2025-03-19T06:38:56.912Z"
   },
   {
    "duration": 137,
    "start_time": "2025-03-19T06:43:15.285Z"
   },
   {
    "duration": 138,
    "start_time": "2025-03-19T06:43:16.794Z"
   },
   {
    "duration": 154,
    "start_time": "2025-03-19T06:43:18.122Z"
   },
   {
    "duration": 198,
    "start_time": "2025-03-19T06:43:19.387Z"
   },
   {
    "duration": 242,
    "start_time": "2025-03-19T06:43:21.157Z"
   },
   {
    "duration": 6,
    "start_time": "2025-03-19T06:43:22.715Z"
   },
   {
    "duration": 22,
    "start_time": "2025-03-19T06:43:24.628Z"
   },
   {
    "duration": 16,
    "start_time": "2025-03-19T06:43:40.070Z"
   },
   {
    "duration": 15,
    "start_time": "2025-03-19T06:43:43.210Z"
   },
   {
    "duration": 14,
    "start_time": "2025-03-19T06:44:15.249Z"
   },
   {
    "duration": 441,
    "start_time": "2025-03-19T06:44:19.466Z"
   },
   {
    "duration": 98,
    "start_time": "2025-03-19T06:44:19.909Z"
   },
   {
    "duration": 18,
    "start_time": "2025-03-19T06:44:20.009Z"
   },
   {
    "duration": 54,
    "start_time": "2025-03-19T06:44:20.029Z"
   },
   {
    "duration": 6,
    "start_time": "2025-03-19T06:44:20.086Z"
   },
   {
    "duration": 25,
    "start_time": "2025-03-19T06:44:20.093Z"
   },
   {
    "duration": 18,
    "start_time": "2025-03-19T06:44:20.119Z"
   },
   {
    "duration": 27,
    "start_time": "2025-03-19T06:44:20.139Z"
   },
   {
    "duration": 151,
    "start_time": "2025-03-19T06:44:20.174Z"
   },
   {
    "duration": 163,
    "start_time": "2025-03-19T06:44:20.327Z"
   },
   {
    "duration": 140,
    "start_time": "2025-03-19T06:44:20.492Z"
   },
   {
    "duration": 242,
    "start_time": "2025-03-19T06:44:20.634Z"
   },
   {
    "duration": 227,
    "start_time": "2025-03-19T06:44:20.878Z"
   },
   {
    "duration": 4,
    "start_time": "2025-03-19T06:44:21.108Z"
   },
   {
    "duration": 84,
    "start_time": "2025-03-19T06:44:21.114Z"
   },
   {
    "duration": 460,
    "start_time": "2025-03-19T06:44:32.270Z"
   },
   {
    "duration": 108,
    "start_time": "2025-03-19T06:44:32.732Z"
   },
   {
    "duration": 22,
    "start_time": "2025-03-19T06:44:32.842Z"
   },
   {
    "duration": 45,
    "start_time": "2025-03-19T06:44:32.866Z"
   },
   {
    "duration": 16,
    "start_time": "2025-03-19T06:44:32.913Z"
   },
   {
    "duration": 42,
    "start_time": "2025-03-19T06:44:32.931Z"
   },
   {
    "duration": 20,
    "start_time": "2025-03-19T06:44:32.979Z"
   },
   {
    "duration": 10,
    "start_time": "2025-03-19T06:44:33.001Z"
   },
   {
    "duration": 175,
    "start_time": "2025-03-19T06:44:33.013Z"
   },
   {
    "duration": 146,
    "start_time": "2025-03-19T06:44:33.189Z"
   },
   {
    "duration": 156,
    "start_time": "2025-03-19T06:44:33.336Z"
   },
   {
    "duration": 217,
    "start_time": "2025-03-19T06:44:33.494Z"
   },
   {
    "duration": 210,
    "start_time": "2025-03-19T06:44:33.712Z"
   },
   {
    "duration": 4,
    "start_time": "2025-03-19T06:44:33.925Z"
   },
   {
    "duration": 57,
    "start_time": "2025-03-19T06:44:33.931Z"
   },
   {
    "duration": 138,
    "start_time": "2025-03-19T06:44:37.305Z"
   },
   {
    "duration": 138,
    "start_time": "2025-03-19T06:44:38.176Z"
   },
   {
    "duration": 144,
    "start_time": "2025-03-19T06:44:39.179Z"
   },
   {
    "duration": 196,
    "start_time": "2025-03-19T06:44:40.145Z"
   },
   {
    "duration": 233,
    "start_time": "2025-03-19T06:44:41.156Z"
   },
   {
    "duration": 4,
    "start_time": "2025-03-19T06:44:42.313Z"
   },
   {
    "duration": 27,
    "start_time": "2025-03-19T06:44:42.945Z"
   },
   {
    "duration": 9,
    "start_time": "2025-03-19T06:44:49.480Z"
   },
   {
    "duration": 24,
    "start_time": "2025-03-19T06:44:50.978Z"
   },
   {
    "duration": 418,
    "start_time": "2025-03-19T06:45:39.022Z"
   },
   {
    "duration": 117,
    "start_time": "2025-03-19T06:45:39.442Z"
   },
   {
    "duration": 32,
    "start_time": "2025-03-19T06:45:39.561Z"
   },
   {
    "duration": 44,
    "start_time": "2025-03-19T06:45:39.595Z"
   },
   {
    "duration": 14,
    "start_time": "2025-03-19T06:45:39.660Z"
   },
   {
    "duration": 26,
    "start_time": "2025-03-19T06:45:39.681Z"
   },
   {
    "duration": 17,
    "start_time": "2025-03-19T06:45:39.708Z"
   },
   {
    "duration": 13,
    "start_time": "2025-03-19T06:45:39.727Z"
   },
   {
    "duration": 173,
    "start_time": "2025-03-19T06:45:39.742Z"
   },
   {
    "duration": 168,
    "start_time": "2025-03-19T06:45:39.916Z"
   },
   {
    "duration": 137,
    "start_time": "2025-03-19T06:45:40.088Z"
   },
   {
    "duration": 221,
    "start_time": "2025-03-19T06:45:40.227Z"
   },
   {
    "duration": 215,
    "start_time": "2025-03-19T06:45:40.454Z"
   },
   {
    "duration": 6,
    "start_time": "2025-03-19T06:45:40.674Z"
   },
   {
    "duration": 23,
    "start_time": "2025-03-19T06:45:40.682Z"
   },
   {
    "duration": 7,
    "start_time": "2025-03-19T06:45:59.847Z"
   },
   {
    "duration": 159,
    "start_time": "2025-03-19T06:46:00.752Z"
   },
   {
    "duration": 138,
    "start_time": "2025-03-19T06:46:02.599Z"
   },
   {
    "duration": 138,
    "start_time": "2025-03-19T06:46:03.696Z"
   },
   {
    "duration": 205,
    "start_time": "2025-03-19T06:46:04.984Z"
   },
   {
    "duration": 217,
    "start_time": "2025-03-19T06:46:06.386Z"
   },
   {
    "duration": 5,
    "start_time": "2025-03-19T06:46:07.585Z"
   },
   {
    "duration": 24,
    "start_time": "2025-03-19T06:46:08.963Z"
   },
   {
    "duration": 14,
    "start_time": "2025-03-19T06:46:35.847Z"
   },
   {
    "duration": 9,
    "start_time": "2025-03-19T06:46:36.439Z"
   },
   {
    "duration": 9,
    "start_time": "2025-03-19T06:46:36.681Z"
   },
   {
    "duration": 9,
    "start_time": "2025-03-19T06:46:36.874Z"
   },
   {
    "duration": 32,
    "start_time": "2025-03-19T06:46:38.560Z"
   },
   {
    "duration": 157,
    "start_time": "2025-03-19T06:46:45.135Z"
   },
   {
    "duration": 26,
    "start_time": "2025-03-19T06:46:48.351Z"
   },
   {
    "duration": 444,
    "start_time": "2025-03-19T06:47:50.039Z"
   },
   {
    "duration": 138,
    "start_time": "2025-03-19T06:47:50.485Z"
   },
   {
    "duration": 18,
    "start_time": "2025-03-19T06:47:50.625Z"
   },
   {
    "duration": 49,
    "start_time": "2025-03-19T06:47:50.645Z"
   },
   {
    "duration": 6,
    "start_time": "2025-03-19T06:47:50.696Z"
   },
   {
    "duration": 30,
    "start_time": "2025-03-19T06:47:50.703Z"
   },
   {
    "duration": 30,
    "start_time": "2025-03-19T06:47:50.735Z"
   },
   {
    "duration": 17,
    "start_time": "2025-03-19T06:47:50.766Z"
   },
   {
    "duration": 181,
    "start_time": "2025-03-19T06:47:50.786Z"
   },
   {
    "duration": 192,
    "start_time": "2025-03-19T06:47:50.969Z"
   },
   {
    "duration": 168,
    "start_time": "2025-03-19T06:47:51.168Z"
   },
   {
    "duration": 225,
    "start_time": "2025-03-19T06:47:51.338Z"
   },
   {
    "duration": 238,
    "start_time": "2025-03-19T06:47:51.569Z"
   },
   {
    "duration": 5,
    "start_time": "2025-03-19T06:47:51.810Z"
   },
   {
    "duration": 13,
    "start_time": "2025-03-19T06:47:51.817Z"
   },
   {
    "duration": 12,
    "start_time": "2025-03-19T06:47:56.360Z"
   },
   {
    "duration": 158,
    "start_time": "2025-03-19T06:47:57.206Z"
   },
   {
    "duration": 147,
    "start_time": "2025-03-19T06:47:58.269Z"
   },
   {
    "duration": 142,
    "start_time": "2025-03-19T06:47:59.278Z"
   },
   {
    "duration": 191,
    "start_time": "2025-03-19T06:48:00.374Z"
   },
   {
    "duration": 192,
    "start_time": "2025-03-19T06:48:01.560Z"
   },
   {
    "duration": 5,
    "start_time": "2025-03-19T06:48:02.821Z"
   },
   {
    "duration": 19,
    "start_time": "2025-03-19T06:48:04.014Z"
   },
   {
    "duration": 465,
    "start_time": "2025-03-19T06:49:24.282Z"
   },
   {
    "duration": 115,
    "start_time": "2025-03-19T06:49:24.749Z"
   },
   {
    "duration": 30,
    "start_time": "2025-03-19T06:49:24.867Z"
   },
   {
    "duration": 32,
    "start_time": "2025-03-19T06:49:24.899Z"
   },
   {
    "duration": 5,
    "start_time": "2025-03-19T06:49:24.934Z"
   },
   {
    "duration": 61,
    "start_time": "2025-03-19T06:49:24.940Z"
   },
   {
    "duration": 19,
    "start_time": "2025-03-19T06:49:25.003Z"
   },
   {
    "duration": 12,
    "start_time": "2025-03-19T06:49:25.024Z"
   },
   {
    "duration": 180,
    "start_time": "2025-03-19T06:49:25.038Z"
   },
   {
    "duration": 183,
    "start_time": "2025-03-19T06:49:25.220Z"
   },
   {
    "duration": 154,
    "start_time": "2025-03-19T06:49:25.405Z"
   },
   {
    "duration": 236,
    "start_time": "2025-03-19T06:49:25.561Z"
   },
   {
    "duration": 233,
    "start_time": "2025-03-19T06:49:25.799Z"
   },
   {
    "duration": 5,
    "start_time": "2025-03-19T06:49:26.035Z"
   },
   {
    "duration": 39,
    "start_time": "2025-03-19T06:49:26.041Z"
   },
   {
    "duration": 7,
    "start_time": "2025-03-19T06:49:34.483Z"
   },
   {
    "duration": 149,
    "start_time": "2025-03-19T06:49:35.323Z"
   },
   {
    "duration": 145,
    "start_time": "2025-03-19T06:49:36.403Z"
   },
   {
    "duration": 194,
    "start_time": "2025-03-19T06:49:37.479Z"
   },
   {
    "duration": 243,
    "start_time": "2025-03-19T06:49:38.340Z"
   },
   {
    "duration": 192,
    "start_time": "2025-03-19T06:49:39.451Z"
   },
   {
    "duration": 9,
    "start_time": "2025-03-19T06:49:40.774Z"
   },
   {
    "duration": 16,
    "start_time": "2025-03-19T06:49:41.811Z"
   },
   {
    "duration": 427,
    "start_time": "2025-03-19T06:51:16.685Z"
   },
   {
    "duration": 136,
    "start_time": "2025-03-19T06:51:17.114Z"
   },
   {
    "duration": 38,
    "start_time": "2025-03-19T06:51:17.252Z"
   },
   {
    "duration": 29,
    "start_time": "2025-03-19T06:51:17.292Z"
   },
   {
    "duration": 5,
    "start_time": "2025-03-19T06:51:17.323Z"
   },
   {
    "duration": 57,
    "start_time": "2025-03-19T06:51:17.330Z"
   },
   {
    "duration": 18,
    "start_time": "2025-03-19T06:51:17.389Z"
   },
   {
    "duration": 8,
    "start_time": "2025-03-19T06:51:17.409Z"
   },
   {
    "duration": 178,
    "start_time": "2025-03-19T06:51:17.419Z"
   },
   {
    "duration": 151,
    "start_time": "2025-03-19T06:51:17.599Z"
   },
   {
    "duration": 158,
    "start_time": "2025-03-19T06:51:17.752Z"
   },
   {
    "duration": 218,
    "start_time": "2025-03-19T06:51:17.912Z"
   },
   {
    "duration": 209,
    "start_time": "2025-03-19T06:51:18.131Z"
   },
   {
    "duration": 5,
    "start_time": "2025-03-19T06:51:18.343Z"
   },
   {
    "duration": 26,
    "start_time": "2025-03-19T06:51:18.363Z"
   },
   {
    "duration": 461,
    "start_time": "2025-03-19T06:51:41.463Z"
   },
   {
    "duration": 652,
    "start_time": "2025-03-19T06:51:41.926Z"
   },
   {
    "duration": 20,
    "start_time": "2025-03-19T06:51:42.580Z"
   },
   {
    "duration": 30,
    "start_time": "2025-03-19T06:51:42.601Z"
   },
   {
    "duration": 26,
    "start_time": "2025-03-19T06:51:42.633Z"
   },
   {
    "duration": 34,
    "start_time": "2025-03-19T06:51:42.663Z"
   },
   {
    "duration": 17,
    "start_time": "2025-03-19T06:51:42.699Z"
   },
   {
    "duration": 8,
    "start_time": "2025-03-19T06:51:42.718Z"
   },
   {
    "duration": 189,
    "start_time": "2025-03-19T06:51:42.728Z"
   },
   {
    "duration": 158,
    "start_time": "2025-03-19T06:51:42.919Z"
   },
   {
    "duration": 140,
    "start_time": "2025-03-19T06:51:43.084Z"
   },
   {
    "duration": 220,
    "start_time": "2025-03-19T06:51:43.225Z"
   },
   {
    "duration": 215,
    "start_time": "2025-03-19T06:51:43.446Z"
   },
   {
    "duration": 9,
    "start_time": "2025-03-19T06:51:43.664Z"
   },
   {
    "duration": 21,
    "start_time": "2025-03-19T06:51:43.675Z"
   },
   {
    "duration": 458,
    "start_time": "2025-03-19T06:51:58.674Z"
   },
   {
    "duration": 94,
    "start_time": "2025-03-19T06:51:59.134Z"
   },
   {
    "duration": 18,
    "start_time": "2025-03-19T06:51:59.230Z"
   },
   {
    "duration": 41,
    "start_time": "2025-03-19T06:51:59.249Z"
   },
   {
    "duration": 6,
    "start_time": "2025-03-19T06:51:59.292Z"
   },
   {
    "duration": 25,
    "start_time": "2025-03-19T06:51:59.300Z"
   },
   {
    "duration": 49,
    "start_time": "2025-03-19T06:51:59.327Z"
   },
   {
    "duration": 11,
    "start_time": "2025-03-19T06:51:59.383Z"
   },
   {
    "duration": 194,
    "start_time": "2025-03-19T06:51:59.397Z"
   },
   {
    "duration": 146,
    "start_time": "2025-03-19T06:51:59.596Z"
   },
   {
    "duration": 166,
    "start_time": "2025-03-19T06:51:59.743Z"
   },
   {
    "duration": 227,
    "start_time": "2025-03-19T06:51:59.911Z"
   },
   {
    "duration": 235,
    "start_time": "2025-03-19T06:52:00.140Z"
   },
   {
    "duration": 10,
    "start_time": "2025-03-19T06:52:00.377Z"
   },
   {
    "duration": 23,
    "start_time": "2025-03-19T06:52:00.389Z"
   },
   {
    "duration": 223,
    "start_time": "2025-03-19T06:52:38.872Z"
   },
   {
    "duration": 211,
    "start_time": "2025-03-19T06:52:41.223Z"
   },
   {
    "duration": 5,
    "start_time": "2025-03-19T06:52:43.232Z"
   },
   {
    "duration": 157,
    "start_time": "2025-03-19T06:52:49.752Z"
   },
   {
    "duration": 155,
    "start_time": "2025-03-19T06:52:53.047Z"
   },
   {
    "duration": 182,
    "start_time": "2025-03-19T06:52:55.151Z"
   },
   {
    "duration": 6,
    "start_time": "2025-03-19T06:52:57.128Z"
   },
   {
    "duration": 26,
    "start_time": "2025-03-19T06:53:07.065Z"
   },
   {
    "duration": 419,
    "start_time": "2025-03-19T06:53:12.896Z"
   },
   {
    "duration": 98,
    "start_time": "2025-03-19T06:53:13.317Z"
   },
   {
    "duration": 19,
    "start_time": "2025-03-19T06:53:13.417Z"
   },
   {
    "duration": 35,
    "start_time": "2025-03-19T06:53:13.438Z"
   },
   {
    "duration": 16,
    "start_time": "2025-03-19T06:53:13.476Z"
   },
   {
    "duration": 25,
    "start_time": "2025-03-19T06:53:13.494Z"
   },
   {
    "duration": 50,
    "start_time": "2025-03-19T06:53:13.520Z"
   },
   {
    "duration": 15,
    "start_time": "2025-03-19T06:53:13.572Z"
   },
   {
    "duration": 157,
    "start_time": "2025-03-19T06:53:13.588Z"
   },
   {
    "duration": 157,
    "start_time": "2025-03-19T06:53:13.746Z"
   },
   {
    "duration": 146,
    "start_time": "2025-03-19T06:53:13.905Z"
   },
   {
    "duration": 227,
    "start_time": "2025-03-19T06:53:14.053Z"
   },
   {
    "duration": 213,
    "start_time": "2025-03-19T06:53:14.285Z"
   },
   {
    "duration": 5,
    "start_time": "2025-03-19T06:53:14.501Z"
   },
   {
    "duration": 13,
    "start_time": "2025-03-19T06:53:14.507Z"
   },
   {
    "duration": 437,
    "start_time": "2025-03-19T07:01:32.585Z"
   },
   {
    "duration": 98,
    "start_time": "2025-03-19T07:01:33.024Z"
   },
   {
    "duration": 19,
    "start_time": "2025-03-19T07:01:33.124Z"
   },
   {
    "duration": 47,
    "start_time": "2025-03-19T07:01:33.145Z"
   },
   {
    "duration": 35,
    "start_time": "2025-03-19T07:01:33.195Z"
   },
   {
    "duration": 57,
    "start_time": "2025-03-19T07:01:33.232Z"
   },
   {
    "duration": 19,
    "start_time": "2025-03-19T07:01:33.291Z"
   },
   {
    "duration": 7,
    "start_time": "2025-03-19T07:01:33.311Z"
   },
   {
    "duration": 171,
    "start_time": "2025-03-19T07:01:33.320Z"
   },
   {
    "duration": 154,
    "start_time": "2025-03-19T07:01:33.493Z"
   },
   {
    "duration": 156,
    "start_time": "2025-03-19T07:01:33.649Z"
   },
   {
    "duration": 225,
    "start_time": "2025-03-19T07:01:33.807Z"
   },
   {
    "duration": 209,
    "start_time": "2025-03-19T07:01:34.034Z"
   },
   {
    "duration": 18,
    "start_time": "2025-03-19T07:01:34.254Z"
   },
   {
    "duration": 14,
    "start_time": "2025-03-19T07:01:34.284Z"
   },
   {
    "duration": 446,
    "start_time": "2025-03-19T07:10:45.140Z"
   },
   {
    "duration": 162,
    "start_time": "2025-03-19T07:10:45.589Z"
   },
   {
    "duration": 29,
    "start_time": "2025-03-19T07:10:45.753Z"
   },
   {
    "duration": 33,
    "start_time": "2025-03-19T07:10:45.784Z"
   },
   {
    "duration": 5,
    "start_time": "2025-03-19T07:10:45.819Z"
   },
   {
    "duration": 71,
    "start_time": "2025-03-19T07:10:45.826Z"
   },
   {
    "duration": 27,
    "start_time": "2025-03-19T07:10:45.899Z"
   },
   {
    "duration": 9,
    "start_time": "2025-03-19T07:10:45.928Z"
   },
   {
    "duration": 25,
    "start_time": "2025-03-19T07:10:45.938Z"
   },
   {
    "duration": 165,
    "start_time": "2025-03-19T07:10:45.973Z"
   },
   {
    "duration": 164,
    "start_time": "2025-03-19T07:10:46.139Z"
   },
   {
    "duration": 195,
    "start_time": "2025-03-19T07:10:46.305Z"
   },
   {
    "duration": 230,
    "start_time": "2025-03-19T07:10:46.502Z"
   },
   {
    "duration": 241,
    "start_time": "2025-03-19T07:10:46.735Z"
   },
   {
    "duration": 10,
    "start_time": "2025-03-19T07:10:46.984Z"
   },
   {
    "duration": 26,
    "start_time": "2025-03-19T07:10:46.996Z"
   },
   {
    "duration": 492,
    "start_time": "2025-03-19T07:14:06.205Z"
   },
   {
    "duration": 124,
    "start_time": "2025-03-19T07:14:06.705Z"
   },
   {
    "duration": 18,
    "start_time": "2025-03-19T07:14:06.831Z"
   },
   {
    "duration": 63,
    "start_time": "2025-03-19T07:14:06.850Z"
   },
   {
    "duration": 35,
    "start_time": "2025-03-19T07:14:06.915Z"
   },
   {
    "duration": 59,
    "start_time": "2025-03-19T07:14:06.952Z"
   },
   {
    "duration": 16,
    "start_time": "2025-03-19T07:14:07.013Z"
   },
   {
    "duration": 75,
    "start_time": "2025-03-19T07:14:07.031Z"
   },
   {
    "duration": 175,
    "start_time": "2025-03-19T07:14:07.110Z"
   },
   {
    "duration": 15,
    "start_time": "2025-03-19T07:14:07.305Z"
   },
   {
    "duration": 220,
    "start_time": "2025-03-19T07:14:07.322Z"
   },
   {
    "duration": 170,
    "start_time": "2025-03-19T07:14:07.543Z"
   },
   {
    "duration": 265,
    "start_time": "2025-03-19T07:14:07.715Z"
   },
   {
    "duration": 231,
    "start_time": "2025-03-19T07:14:07.994Z"
   },
   {
    "duration": 5,
    "start_time": "2025-03-19T07:14:08.227Z"
   },
   {
    "duration": 28,
    "start_time": "2025-03-19T07:14:08.233Z"
   },
   {
    "duration": 443,
    "start_time": "2025-03-19T07:15:54.102Z"
   },
   {
    "duration": 160,
    "start_time": "2025-03-19T07:15:54.547Z"
   },
   {
    "duration": 17,
    "start_time": "2025-03-19T07:15:54.710Z"
   },
   {
    "duration": 36,
    "start_time": "2025-03-19T07:15:54.729Z"
   },
   {
    "duration": 6,
    "start_time": "2025-03-19T07:15:54.768Z"
   },
   {
    "duration": 33,
    "start_time": "2025-03-19T07:15:54.777Z"
   },
   {
    "duration": 20,
    "start_time": "2025-03-19T07:15:54.812Z"
   },
   {
    "duration": 43,
    "start_time": "2025-03-19T07:15:54.834Z"
   },
   {
    "duration": 169,
    "start_time": "2025-03-19T07:15:54.881Z"
   },
   {
    "duration": 34,
    "start_time": "2025-03-19T07:15:55.053Z"
   },
   {
    "duration": 154,
    "start_time": "2025-03-19T07:15:55.089Z"
   },
   {
    "duration": 181,
    "start_time": "2025-03-19T07:15:55.245Z"
   },
   {
    "duration": 221,
    "start_time": "2025-03-19T07:15:55.428Z"
   },
   {
    "duration": 250,
    "start_time": "2025-03-19T07:15:55.655Z"
   },
   {
    "duration": 7,
    "start_time": "2025-03-19T07:15:55.907Z"
   },
   {
    "duration": 14,
    "start_time": "2025-03-19T07:15:55.915Z"
   },
   {
    "duration": 477,
    "start_time": "2025-03-19T07:19:23.507Z"
   },
   {
    "duration": 137,
    "start_time": "2025-03-19T07:19:23.992Z"
   },
   {
    "duration": 17,
    "start_time": "2025-03-19T07:19:24.131Z"
   },
   {
    "duration": 47,
    "start_time": "2025-03-19T07:19:24.150Z"
   },
   {
    "duration": 7,
    "start_time": "2025-03-19T07:19:24.204Z"
   },
   {
    "duration": 24,
    "start_time": "2025-03-19T07:19:24.214Z"
   },
   {
    "duration": 49,
    "start_time": "2025-03-19T07:19:24.240Z"
   },
   {
    "duration": 11,
    "start_time": "2025-03-19T07:19:24.297Z"
   },
   {
    "duration": 240,
    "start_time": "2025-03-19T07:19:24.311Z"
   },
   {
    "duration": 266,
    "start_time": "2025-03-19T07:19:24.554Z"
   },
   {
    "duration": 197,
    "start_time": "2025-03-19T07:19:24.822Z"
   },
   {
    "duration": 249,
    "start_time": "2025-03-19T07:19:25.020Z"
   },
   {
    "duration": 248,
    "start_time": "2025-03-19T07:19:25.275Z"
   },
   {
    "duration": 5,
    "start_time": "2025-03-19T07:19:25.526Z"
   },
   {
    "duration": 21,
    "start_time": "2025-03-19T07:19:25.532Z"
   },
   {
    "duration": 487,
    "start_time": "2025-03-19T07:20:58.986Z"
   },
   {
    "duration": 142,
    "start_time": "2025-03-19T07:20:59.478Z"
   },
   {
    "duration": 18,
    "start_time": "2025-03-19T07:20:59.621Z"
   },
   {
    "duration": 55,
    "start_time": "2025-03-19T07:20:59.641Z"
   },
   {
    "duration": 42,
    "start_time": "2025-03-19T07:20:59.707Z"
   },
   {
    "duration": 58,
    "start_time": "2025-03-19T07:20:59.751Z"
   },
   {
    "duration": 19,
    "start_time": "2025-03-19T07:20:59.811Z"
   },
   {
    "duration": 7,
    "start_time": "2025-03-19T07:20:59.832Z"
   },
   {
    "duration": 256,
    "start_time": "2025-03-19T07:20:59.840Z"
   },
   {
    "duration": 229,
    "start_time": "2025-03-19T07:21:00.098Z"
   },
   {
    "duration": 207,
    "start_time": "2025-03-19T07:21:00.328Z"
   },
   {
    "duration": 271,
    "start_time": "2025-03-19T07:21:00.537Z"
   },
   {
    "duration": 286,
    "start_time": "2025-03-19T07:21:00.814Z"
   },
   {
    "duration": 21,
    "start_time": "2025-03-19T07:21:01.104Z"
   },
   {
    "duration": 15,
    "start_time": "2025-03-19T07:21:01.127Z"
   },
   {
    "duration": 456,
    "start_time": "2025-03-19T07:22:04.377Z"
   },
   {
    "duration": 114,
    "start_time": "2025-03-19T07:22:04.836Z"
   },
   {
    "duration": 44,
    "start_time": "2025-03-19T07:22:04.952Z"
   },
   {
    "duration": 30,
    "start_time": "2025-03-19T07:22:04.999Z"
   },
   {
    "duration": 5,
    "start_time": "2025-03-19T07:22:05.032Z"
   },
   {
    "duration": 50,
    "start_time": "2025-03-19T07:22:05.039Z"
   },
   {
    "duration": 20,
    "start_time": "2025-03-19T07:22:05.093Z"
   },
   {
    "duration": 19,
    "start_time": "2025-03-19T07:22:05.114Z"
   },
   {
    "duration": 250,
    "start_time": "2025-03-19T07:22:05.135Z"
   },
   {
    "duration": 217,
    "start_time": "2025-03-19T07:22:05.387Z"
   },
   {
    "duration": 204,
    "start_time": "2025-03-19T07:22:05.606Z"
   },
   {
    "duration": 226,
    "start_time": "2025-03-19T07:22:05.812Z"
   },
   {
    "duration": 244,
    "start_time": "2025-03-19T07:22:06.040Z"
   },
   {
    "duration": 7,
    "start_time": "2025-03-19T07:22:06.291Z"
   },
   {
    "duration": 87,
    "start_time": "2025-03-19T07:22:06.300Z"
   },
   {
    "duration": 67,
    "start_time": "2025-03-19T13:56:01.741Z"
   },
   {
    "duration": 449,
    "start_time": "2025-03-19T13:56:23.444Z"
   },
   {
    "duration": 143,
    "start_time": "2025-03-19T13:56:23.895Z"
   },
   {
    "duration": 21,
    "start_time": "2025-03-19T13:56:24.039Z"
   },
   {
    "duration": 33,
    "start_time": "2025-03-19T13:56:24.064Z"
   },
   {
    "duration": 6,
    "start_time": "2025-03-19T13:56:24.099Z"
   },
   {
    "duration": 24,
    "start_time": "2025-03-19T13:56:24.106Z"
   },
   {
    "duration": 43,
    "start_time": "2025-03-19T13:56:24.132Z"
   },
   {
    "duration": 8,
    "start_time": "2025-03-19T13:56:24.176Z"
   },
   {
    "duration": 205,
    "start_time": "2025-03-19T13:56:24.186Z"
   },
   {
    "duration": 200,
    "start_time": "2025-03-19T13:56:24.394Z"
   },
   {
    "duration": 167,
    "start_time": "2025-03-19T13:56:24.596Z"
   },
   {
    "duration": 184,
    "start_time": "2025-03-19T13:56:24.770Z"
   },
   {
    "duration": 188,
    "start_time": "2025-03-19T13:56:24.957Z"
   },
   {
    "duration": 14,
    "start_time": "2025-03-19T13:56:25.147Z"
   },
   {
    "duration": 15,
    "start_time": "2025-03-19T13:56:25.170Z"
   },
   {
    "duration": 6,
    "start_time": "2025-03-19T13:56:25.187Z"
   },
   {
    "duration": 451,
    "start_time": "2025-03-19T13:57:34.338Z"
   },
   {
    "duration": 103,
    "start_time": "2025-03-19T13:57:34.791Z"
   },
   {
    "duration": 18,
    "start_time": "2025-03-19T13:57:34.896Z"
   },
   {
    "duration": 43,
    "start_time": "2025-03-19T13:57:34.916Z"
   },
   {
    "duration": 5,
    "start_time": "2025-03-19T13:57:34.967Z"
   },
   {
    "duration": 33,
    "start_time": "2025-03-19T13:57:34.974Z"
   },
   {
    "duration": 16,
    "start_time": "2025-03-19T13:57:35.008Z"
   },
   {
    "duration": 13,
    "start_time": "2025-03-19T13:57:35.026Z"
   },
   {
    "duration": 203,
    "start_time": "2025-03-19T13:57:35.040Z"
   },
   {
    "duration": 189,
    "start_time": "2025-03-19T13:57:35.254Z"
   },
   {
    "duration": 170,
    "start_time": "2025-03-19T13:57:35.445Z"
   },
   {
    "duration": 209,
    "start_time": "2025-03-19T13:57:35.616Z"
   },
   {
    "duration": 191,
    "start_time": "2025-03-19T13:57:35.827Z"
   },
   {
    "duration": 4,
    "start_time": "2025-03-19T13:57:36.020Z"
   },
   {
    "duration": 87,
    "start_time": "2025-03-19T13:57:36.026Z"
   },
   {
    "duration": 36,
    "start_time": "2025-03-19T13:57:36.117Z"
   },
   {
    "duration": 15,
    "start_time": "2025-03-19T13:57:36.162Z"
   },
   {
    "duration": 28,
    "start_time": "2025-03-19T13:57:36.178Z"
   },
   {
    "duration": 14,
    "start_time": "2025-03-19T13:57:36.208Z"
   },
   {
    "duration": 1580,
    "start_time": "2025-03-19T14:16:30.008Z"
   },
   {
    "duration": 13,
    "start_time": "2025-03-19T14:16:53.566Z"
   },
   {
    "duration": 16,
    "start_time": "2025-03-19T14:17:19.184Z"
   },
   {
    "duration": 5,
    "start_time": "2025-03-19T14:17:36.067Z"
   },
   {
    "duration": 17,
    "start_time": "2025-03-19T14:18:06.480Z"
   },
   {
    "duration": 6,
    "start_time": "2025-03-19T14:18:08.771Z"
   },
   {
    "duration": 12,
    "start_time": "2025-03-19T14:19:57.584Z"
   },
   {
    "duration": 10,
    "start_time": "2025-03-19T14:22:40.248Z"
   },
   {
    "duration": 8,
    "start_time": "2025-03-19T14:22:47.991Z"
   },
   {
    "duration": 13,
    "start_time": "2025-03-19T14:42:12.694Z"
   },
   {
    "duration": 9,
    "start_time": "2025-03-19T14:44:53.429Z"
   },
   {
    "duration": 15,
    "start_time": "2025-03-19T14:45:43.477Z"
   },
   {
    "duration": 22,
    "start_time": "2025-03-19T14:51:00.861Z"
   },
   {
    "duration": 7,
    "start_time": "2025-03-19T14:55:01.158Z"
   },
   {
    "duration": 7,
    "start_time": "2025-03-19T15:10:55.209Z"
   },
   {
    "duration": 27,
    "start_time": "2025-03-19T15:11:03.394Z"
   },
   {
    "duration": 7,
    "start_time": "2025-03-19T15:12:34.026Z"
   },
   {
    "duration": 33,
    "start_time": "2025-03-19T15:14:03.086Z"
   },
   {
    "duration": 334,
    "start_time": "2025-03-20T02:34:53.593Z"
   },
   {
    "duration": 138,
    "start_time": "2025-03-20T02:34:53.929Z"
   },
   {
    "duration": 11,
    "start_time": "2025-03-20T02:34:54.069Z"
   },
   {
    "duration": 32,
    "start_time": "2025-03-20T02:34:54.081Z"
   },
   {
    "duration": 3,
    "start_time": "2025-03-20T02:34:54.115Z"
   },
   {
    "duration": 19,
    "start_time": "2025-03-20T02:34:54.119Z"
   },
   {
    "duration": 20,
    "start_time": "2025-03-20T02:34:54.139Z"
   },
   {
    "duration": 5,
    "start_time": "2025-03-20T02:34:54.161Z"
   },
   {
    "duration": 148,
    "start_time": "2025-03-20T02:34:54.167Z"
   },
   {
    "duration": 131,
    "start_time": "2025-03-20T02:34:54.317Z"
   },
   {
    "duration": 122,
    "start_time": "2025-03-20T02:34:54.449Z"
   },
   {
    "duration": 147,
    "start_time": "2025-03-20T02:34:54.572Z"
   },
   {
    "duration": 146,
    "start_time": "2025-03-20T02:34:54.721Z"
   },
   {
    "duration": 3,
    "start_time": "2025-03-20T02:34:54.870Z"
   },
   {
    "duration": 12,
    "start_time": "2025-03-20T02:34:54.874Z"
   },
   {
    "duration": 9,
    "start_time": "2025-03-20T02:34:54.887Z"
   },
   {
    "duration": 4,
    "start_time": "2025-03-20T02:34:54.898Z"
   },
   {
    "duration": 7,
    "start_time": "2025-03-20T02:34:54.903Z"
   },
   {
    "duration": 6,
    "start_time": "2025-03-20T02:34:54.911Z"
   },
   {
    "duration": 10,
    "start_time": "2025-03-20T02:34:54.918Z"
   },
   {
    "duration": 7,
    "start_time": "2025-03-20T02:34:54.955Z"
   },
   {
    "duration": 4,
    "start_time": "2025-03-20T02:34:54.963Z"
   },
   {
    "duration": 4,
    "start_time": "2025-03-20T02:34:54.969Z"
   },
   {
    "duration": 5,
    "start_time": "2025-03-20T02:34:54.974Z"
   },
   {
    "duration": 7,
    "start_time": "2025-03-20T03:23:48.274Z"
   },
   {
    "duration": 32,
    "start_time": "2025-03-20T03:29:24.173Z"
   },
   {
    "duration": 6,
    "start_time": "2025-03-20T03:30:54.876Z"
   },
   {
    "duration": 64,
    "start_time": "2025-03-20T03:31:44.769Z"
   },
   {
    "duration": 10,
    "start_time": "2025-03-20T03:31:59.001Z"
   },
   {
    "duration": 5,
    "start_time": "2025-03-20T03:32:04.441Z"
   },
   {
    "duration": 6,
    "start_time": "2025-03-20T03:32:09.097Z"
   },
   {
    "duration": 8,
    "start_time": "2025-03-20T03:34:52.086Z"
   },
   {
    "duration": 6,
    "start_time": "2025-03-20T03:35:10.839Z"
   },
   {
    "duration": 8,
    "start_time": "2025-03-20T03:36:00.445Z"
   },
   {
    "duration": 7,
    "start_time": "2025-03-20T03:36:06.148Z"
   },
   {
    "duration": 9,
    "start_time": "2025-03-20T03:36:39.908Z"
   },
   {
    "duration": 8,
    "start_time": "2025-03-20T03:37:05.349Z"
   },
   {
    "duration": 7,
    "start_time": "2025-03-20T03:37:11.675Z"
   },
   {
    "duration": 8,
    "start_time": "2025-03-20T03:37:26.556Z"
   },
   {
    "duration": 8,
    "start_time": "2025-03-20T03:38:08.379Z"
   },
   {
    "duration": 9,
    "start_time": "2025-03-20T03:38:15.138Z"
   },
   {
    "duration": 7,
    "start_time": "2025-03-20T03:38:24.778Z"
   },
   {
    "duration": 6,
    "start_time": "2025-03-20T03:38:38.842Z"
   },
   {
    "duration": 6,
    "start_time": "2025-03-20T03:38:52.586Z"
   },
   {
    "duration": 8,
    "start_time": "2025-03-20T03:39:30.737Z"
   },
   {
    "duration": 11,
    "start_time": "2025-03-20T03:41:25.655Z"
   },
   {
    "duration": 28,
    "start_time": "2025-03-20T03:41:37.111Z"
   },
   {
    "duration": 341,
    "start_time": "2025-03-20T03:41:52.584Z"
   },
   {
    "duration": 115,
    "start_time": "2025-03-20T03:41:52.926Z"
   },
   {
    "duration": 12,
    "start_time": "2025-03-20T03:41:53.042Z"
   },
   {
    "duration": 35,
    "start_time": "2025-03-20T03:41:53.056Z"
   },
   {
    "duration": 16,
    "start_time": "2025-03-20T03:41:53.092Z"
   },
   {
    "duration": 21,
    "start_time": "2025-03-20T03:41:53.109Z"
   },
   {
    "duration": 11,
    "start_time": "2025-03-20T03:41:53.132Z"
   },
   {
    "duration": 33,
    "start_time": "2025-03-20T03:41:53.144Z"
   },
   {
    "duration": 139,
    "start_time": "2025-03-20T03:41:53.178Z"
   },
   {
    "duration": 138,
    "start_time": "2025-03-20T03:41:53.319Z"
   },
   {
    "duration": 120,
    "start_time": "2025-03-20T03:41:53.458Z"
   },
   {
    "duration": 146,
    "start_time": "2025-03-20T03:41:53.580Z"
   },
   {
    "duration": 148,
    "start_time": "2025-03-20T03:41:53.727Z"
   },
   {
    "duration": 3,
    "start_time": "2025-03-20T03:41:53.877Z"
   },
   {
    "duration": 10,
    "start_time": "2025-03-20T03:41:53.881Z"
   },
   {
    "duration": 4,
    "start_time": "2025-03-20T03:41:53.892Z"
   },
   {
    "duration": 3,
    "start_time": "2025-03-20T03:41:53.897Z"
   },
   {
    "duration": 3,
    "start_time": "2025-03-20T03:41:53.902Z"
   },
   {
    "duration": 4,
    "start_time": "2025-03-20T03:41:53.907Z"
   },
   {
    "duration": 44,
    "start_time": "2025-03-20T03:41:53.912Z"
   },
   {
    "duration": 22,
    "start_time": "2025-03-20T03:41:53.957Z"
   },
   {
    "duration": 69,
    "start_time": "2025-03-20T03:41:53.980Z"
   },
   {
    "duration": 6,
    "start_time": "2025-03-20T03:41:54.051Z"
   },
   {
    "duration": 4,
    "start_time": "2025-03-20T03:41:54.058Z"
   },
   {
    "duration": 6,
    "start_time": "2025-03-20T03:41:54.063Z"
   },
   {
    "duration": 29,
    "start_time": "2025-03-20T03:50:16.055Z"
   },
   {
    "duration": 364,
    "start_time": "2025-03-20T03:50:20.762Z"
   },
   {
    "duration": 111,
    "start_time": "2025-03-20T03:50:21.127Z"
   },
   {
    "duration": 12,
    "start_time": "2025-03-20T03:50:21.241Z"
   },
   {
    "duration": 69,
    "start_time": "2025-03-20T03:50:21.255Z"
   },
   {
    "duration": 4,
    "start_time": "2025-03-20T03:50:21.325Z"
   },
   {
    "duration": 28,
    "start_time": "2025-03-20T03:50:21.330Z"
   },
   {
    "duration": 14,
    "start_time": "2025-03-20T03:50:21.359Z"
   },
   {
    "duration": 22,
    "start_time": "2025-03-20T03:50:21.374Z"
   },
   {
    "duration": 140,
    "start_time": "2025-03-20T03:50:21.397Z"
   },
   {
    "duration": 141,
    "start_time": "2025-03-20T03:50:21.538Z"
   },
   {
    "duration": 130,
    "start_time": "2025-03-20T03:50:21.680Z"
   },
   {
    "duration": 147,
    "start_time": "2025-03-20T03:50:21.811Z"
   },
   {
    "duration": 148,
    "start_time": "2025-03-20T03:50:21.961Z"
   },
   {
    "duration": 4,
    "start_time": "2025-03-20T03:50:22.111Z"
   },
   {
    "duration": 12,
    "start_time": "2025-03-20T03:50:22.117Z"
   },
   {
    "duration": 25,
    "start_time": "2025-03-20T03:50:22.131Z"
   },
   {
    "duration": 12,
    "start_time": "2025-03-20T03:50:22.157Z"
   },
   {
    "duration": 21,
    "start_time": "2025-03-20T03:50:22.171Z"
   },
   {
    "duration": 17,
    "start_time": "2025-03-20T03:50:22.193Z"
   },
   {
    "duration": 11,
    "start_time": "2025-03-20T03:50:22.212Z"
   },
   {
    "duration": 25,
    "start_time": "2025-03-20T03:50:22.224Z"
   },
   {
    "duration": 4,
    "start_time": "2025-03-20T03:50:22.251Z"
   },
   {
    "duration": 6,
    "start_time": "2025-03-20T03:50:22.256Z"
   },
   {
    "duration": 11,
    "start_time": "2025-03-20T03:50:22.263Z"
   },
   {
    "duration": 13,
    "start_time": "2025-03-20T03:50:22.275Z"
   },
   {
    "duration": 371,
    "start_time": "2025-03-20T03:54:18.127Z"
   },
   {
    "duration": 134,
    "start_time": "2025-03-20T03:54:18.500Z"
   },
   {
    "duration": 12,
    "start_time": "2025-03-20T03:54:18.635Z"
   },
   {
    "duration": 29,
    "start_time": "2025-03-20T03:54:18.648Z"
   },
   {
    "duration": 14,
    "start_time": "2025-03-20T03:54:18.679Z"
   },
   {
    "duration": 17,
    "start_time": "2025-03-20T03:54:18.694Z"
   },
   {
    "duration": 15,
    "start_time": "2025-03-20T03:54:18.712Z"
   },
   {
    "duration": 7,
    "start_time": "2025-03-20T03:54:18.728Z"
   },
   {
    "duration": 137,
    "start_time": "2025-03-20T03:54:18.736Z"
   },
   {
    "duration": 135,
    "start_time": "2025-03-20T03:54:18.874Z"
   },
   {
    "duration": 120,
    "start_time": "2025-03-20T03:54:19.010Z"
   },
   {
    "duration": 145,
    "start_time": "2025-03-20T03:54:19.132Z"
   },
   {
    "duration": 148,
    "start_time": "2025-03-20T03:54:19.278Z"
   },
   {
    "duration": 3,
    "start_time": "2025-03-20T03:54:19.429Z"
   },
   {
    "duration": 10,
    "start_time": "2025-03-20T03:54:19.433Z"
   },
   {
    "duration": 13,
    "start_time": "2025-03-20T03:54:19.444Z"
   },
   {
    "duration": 5,
    "start_time": "2025-03-20T03:54:19.458Z"
   },
   {
    "duration": 15,
    "start_time": "2025-03-20T03:54:19.464Z"
   },
   {
    "duration": 4,
    "start_time": "2025-03-20T03:54:19.480Z"
   },
   {
    "duration": 14,
    "start_time": "2025-03-20T03:54:19.485Z"
   },
   {
    "duration": 23,
    "start_time": "2025-03-20T03:54:19.501Z"
   },
   {
    "duration": 4,
    "start_time": "2025-03-20T03:54:19.526Z"
   },
   {
    "duration": 20,
    "start_time": "2025-03-20T03:54:19.531Z"
   },
   {
    "duration": 67,
    "start_time": "2025-03-20T03:54:19.552Z"
   },
   {
    "duration": 6,
    "start_time": "2025-03-20T03:54:19.620Z"
   },
   {
    "duration": 29,
    "start_time": "2025-03-20T04:09:39.876Z"
   },
   {
    "duration": 345,
    "start_time": "2025-03-20T04:19:11.785Z"
   },
   {
    "duration": 167,
    "start_time": "2025-03-20T04:19:12.131Z"
   },
   {
    "duration": 14,
    "start_time": "2025-03-20T04:19:12.299Z"
   },
   {
    "duration": 16,
    "start_time": "2025-03-20T04:19:12.314Z"
   },
   {
    "duration": 4,
    "start_time": "2025-03-20T04:19:12.332Z"
   },
   {
    "duration": 21,
    "start_time": "2025-03-20T04:19:12.337Z"
   },
   {
    "duration": 11,
    "start_time": "2025-03-20T04:19:12.359Z"
   },
   {
    "duration": 5,
    "start_time": "2025-03-20T04:19:12.371Z"
   },
   {
    "duration": 147,
    "start_time": "2025-03-20T04:19:12.377Z"
   },
   {
    "duration": 131,
    "start_time": "2025-03-20T04:19:12.526Z"
   },
   {
    "duration": 124,
    "start_time": "2025-03-20T04:19:12.658Z"
   },
   {
    "duration": 145,
    "start_time": "2025-03-20T04:19:12.783Z"
   },
   {
    "duration": 148,
    "start_time": "2025-03-20T04:19:12.930Z"
   },
   {
    "duration": 3,
    "start_time": "2025-03-20T04:19:13.080Z"
   },
   {
    "duration": 79,
    "start_time": "2025-03-20T04:19:13.084Z"
   },
   {
    "duration": 4,
    "start_time": "2025-03-20T04:19:13.164Z"
   },
   {
    "duration": 3,
    "start_time": "2025-03-20T04:19:13.169Z"
   },
   {
    "duration": 6,
    "start_time": "2025-03-20T04:19:13.173Z"
   },
   {
    "duration": 4,
    "start_time": "2025-03-20T04:19:13.180Z"
   },
   {
    "duration": 10,
    "start_time": "2025-03-20T04:19:13.185Z"
   },
   {
    "duration": 24,
    "start_time": "2025-03-20T04:19:13.196Z"
   },
   {
    "duration": 3,
    "start_time": "2025-03-20T04:19:13.221Z"
   },
   {
    "duration": 30,
    "start_time": "2025-03-20T04:19:13.226Z"
   },
   {
    "duration": 6,
    "start_time": "2025-03-20T04:19:13.257Z"
   },
   {
    "duration": 6,
    "start_time": "2025-03-20T04:19:13.264Z"
   },
   {
    "duration": 3,
    "start_time": "2025-03-20T04:21:22.528Z"
   },
   {
    "duration": 371,
    "start_time": "2025-03-20T04:26:48.765Z"
   },
   {
    "duration": 122,
    "start_time": "2025-03-20T04:26:49.137Z"
   },
   {
    "duration": 11,
    "start_time": "2025-03-20T04:26:49.260Z"
   },
   {
    "duration": 24,
    "start_time": "2025-03-20T04:26:49.273Z"
   },
   {
    "duration": 7,
    "start_time": "2025-03-20T04:26:49.298Z"
   },
   {
    "duration": 6,
    "start_time": "2025-03-20T04:26:49.306Z"
   },
   {
    "duration": 20,
    "start_time": "2025-03-20T04:26:49.313Z"
   },
   {
    "duration": 10,
    "start_time": "2025-03-20T04:26:49.334Z"
   },
   {
    "duration": 15,
    "start_time": "2025-03-20T04:26:49.345Z"
   },
   {
    "duration": 136,
    "start_time": "2025-03-20T04:26:49.362Z"
   },
   {
    "duration": 134,
    "start_time": "2025-03-20T04:26:49.499Z"
   },
   {
    "duration": 116,
    "start_time": "2025-03-20T04:26:49.634Z"
   },
   {
    "duration": 141,
    "start_time": "2025-03-20T04:26:49.755Z"
   },
   {
    "duration": 143,
    "start_time": "2025-03-20T04:26:49.898Z"
   },
   {
    "duration": 3,
    "start_time": "2025-03-20T04:26:50.043Z"
   },
   {
    "duration": 141,
    "start_time": "2025-03-20T04:26:50.047Z"
   },
   {
    "duration": 17,
    "start_time": "2025-03-20T04:26:50.189Z"
   },
   {
    "duration": 4,
    "start_time": "2025-03-20T04:26:50.207Z"
   },
   {
    "duration": 16,
    "start_time": "2025-03-20T04:26:50.212Z"
   },
   {
    "duration": 11,
    "start_time": "2025-03-20T04:26:50.230Z"
   },
   {
    "duration": 14,
    "start_time": "2025-03-20T04:26:50.242Z"
   },
   {
    "duration": 24,
    "start_time": "2025-03-20T04:26:50.257Z"
   },
   {
    "duration": 4,
    "start_time": "2025-03-20T04:26:50.282Z"
   },
   {
    "duration": 7,
    "start_time": "2025-03-20T04:26:50.287Z"
   },
   {
    "duration": 12,
    "start_time": "2025-03-20T04:26:50.295Z"
   },
   {
    "duration": 11,
    "start_time": "2025-03-20T04:26:50.309Z"
   },
   {
    "duration": 353,
    "start_time": "2025-03-20T04:54:51.478Z"
   },
   {
    "duration": 118,
    "start_time": "2025-03-20T04:54:51.834Z"
   },
   {
    "duration": 12,
    "start_time": "2025-03-20T04:54:51.954Z"
   },
   {
    "duration": 58,
    "start_time": "2025-03-20T04:54:51.967Z"
   },
   {
    "duration": 9,
    "start_time": "2025-03-20T04:54:52.026Z"
   },
   {
    "duration": 15,
    "start_time": "2025-03-20T04:54:52.036Z"
   },
   {
    "duration": 43,
    "start_time": "2025-03-20T04:54:52.052Z"
   },
   {
    "duration": 16,
    "start_time": "2025-03-20T04:54:52.096Z"
   },
   {
    "duration": 7,
    "start_time": "2025-03-20T04:54:52.114Z"
   },
   {
    "duration": 150,
    "start_time": "2025-03-20T04:54:52.122Z"
   },
   {
    "duration": 138,
    "start_time": "2025-03-20T04:54:52.273Z"
   },
   {
    "duration": 124,
    "start_time": "2025-03-20T04:54:52.412Z"
   },
   {
    "duration": 145,
    "start_time": "2025-03-20T04:54:52.537Z"
   },
   {
    "duration": 147,
    "start_time": "2025-03-20T04:54:52.685Z"
   },
   {
    "duration": 4,
    "start_time": "2025-03-20T04:54:52.833Z"
   },
   {
    "duration": 22,
    "start_time": "2025-03-20T04:54:52.838Z"
   },
   {
    "duration": 22,
    "start_time": "2025-03-20T04:54:52.861Z"
   },
   {
    "duration": 24,
    "start_time": "2025-03-20T04:54:52.884Z"
   },
   {
    "duration": 31,
    "start_time": "2025-03-20T04:54:52.909Z"
   },
   {
    "duration": 95,
    "start_time": "2025-03-20T04:54:52.941Z"
   },
   {
    "duration": 15,
    "start_time": "2025-03-20T04:54:53.037Z"
   },
   {
    "duration": 23,
    "start_time": "2025-03-20T04:54:53.053Z"
   },
   {
    "duration": 15,
    "start_time": "2025-03-20T04:54:53.078Z"
   },
   {
    "duration": 47,
    "start_time": "2025-03-20T04:54:53.094Z"
   },
   {
    "duration": 4,
    "start_time": "2025-03-20T04:54:53.143Z"
   },
   {
    "duration": 14,
    "start_time": "2025-03-20T04:54:53.148Z"
   },
   {
    "duration": 355,
    "start_time": "2025-03-20T04:56:25.165Z"
   },
   {
    "duration": 89,
    "start_time": "2025-03-20T04:56:25.522Z"
   },
   {
    "duration": 12,
    "start_time": "2025-03-20T04:56:25.612Z"
   },
   {
    "duration": 16,
    "start_time": "2025-03-20T04:56:25.626Z"
   },
   {
    "duration": 3,
    "start_time": "2025-03-20T04:56:25.643Z"
   },
   {
    "duration": 4,
    "start_time": "2025-03-20T04:56:25.647Z"
   },
   {
    "duration": 18,
    "start_time": "2025-03-20T04:56:25.652Z"
   },
   {
    "duration": 11,
    "start_time": "2025-03-20T04:56:25.671Z"
   },
   {
    "duration": 7,
    "start_time": "2025-03-20T04:56:25.683Z"
   },
   {
    "duration": 153,
    "start_time": "2025-03-20T04:56:25.692Z"
   },
   {
    "duration": 141,
    "start_time": "2025-03-20T04:56:25.846Z"
   },
   {
    "duration": 123,
    "start_time": "2025-03-20T04:56:25.988Z"
   },
   {
    "duration": 144,
    "start_time": "2025-03-20T04:56:26.112Z"
   },
   {
    "duration": 143,
    "start_time": "2025-03-20T04:56:26.257Z"
   },
   {
    "duration": 3,
    "start_time": "2025-03-20T04:56:26.402Z"
   },
   {
    "duration": 14,
    "start_time": "2025-03-20T04:56:26.406Z"
   },
   {
    "duration": 14,
    "start_time": "2025-03-20T04:56:26.421Z"
   },
   {
    "duration": 9,
    "start_time": "2025-03-20T04:56:26.436Z"
   },
   {
    "duration": 3,
    "start_time": "2025-03-20T04:56:26.446Z"
   },
   {
    "duration": 7,
    "start_time": "2025-03-20T04:56:26.451Z"
   },
   {
    "duration": 9,
    "start_time": "2025-03-20T04:56:26.459Z"
   },
   {
    "duration": 21,
    "start_time": "2025-03-20T04:56:26.469Z"
   },
   {
    "duration": 3,
    "start_time": "2025-03-20T04:56:26.492Z"
   },
   {
    "duration": 8,
    "start_time": "2025-03-20T04:56:26.496Z"
   },
   {
    "duration": 8,
    "start_time": "2025-03-20T04:56:26.505Z"
   },
   {
    "duration": 6,
    "start_time": "2025-03-20T04:56:26.514Z"
   },
   {
    "duration": 9,
    "start_time": "2025-03-20T04:57:02.755Z"
   },
   {
    "duration": 387,
    "start_time": "2025-03-20T04:57:37.433Z"
   },
   {
    "duration": 85,
    "start_time": "2025-03-20T04:57:37.821Z"
   },
   {
    "duration": 12,
    "start_time": "2025-03-20T04:57:37.907Z"
   },
   {
    "duration": 15,
    "start_time": "2025-03-20T04:57:37.921Z"
   },
   {
    "duration": 3,
    "start_time": "2025-03-20T04:57:37.938Z"
   },
   {
    "duration": 4,
    "start_time": "2025-03-20T04:57:37.942Z"
   },
   {
    "duration": 17,
    "start_time": "2025-03-20T04:57:37.947Z"
   },
   {
    "duration": 11,
    "start_time": "2025-03-20T04:57:37.965Z"
   },
   {
    "duration": 8,
    "start_time": "2025-03-20T04:57:37.977Z"
   },
   {
    "duration": 144,
    "start_time": "2025-03-20T04:57:37.986Z"
   },
   {
    "duration": 157,
    "start_time": "2025-03-20T04:57:38.132Z"
   },
   {
    "duration": 120,
    "start_time": "2025-03-20T04:57:38.290Z"
   },
   {
    "duration": 145,
    "start_time": "2025-03-20T04:57:38.411Z"
   },
   {
    "duration": 138,
    "start_time": "2025-03-20T04:57:38.558Z"
   },
   {
    "duration": 3,
    "start_time": "2025-03-20T04:57:38.697Z"
   },
   {
    "duration": 15,
    "start_time": "2025-03-20T04:57:38.701Z"
   },
   {
    "duration": 4,
    "start_time": "2025-03-20T04:57:38.717Z"
   },
   {
    "duration": 4,
    "start_time": "2025-03-20T04:57:38.722Z"
   },
   {
    "duration": 3,
    "start_time": "2025-03-20T04:57:38.727Z"
   },
   {
    "duration": 4,
    "start_time": "2025-03-20T04:57:38.732Z"
   },
   {
    "duration": 10,
    "start_time": "2025-03-20T04:57:38.756Z"
   },
   {
    "duration": 27,
    "start_time": "2025-03-20T04:57:38.767Z"
   },
   {
    "duration": 4,
    "start_time": "2025-03-20T04:57:38.795Z"
   },
   {
    "duration": 14,
    "start_time": "2025-03-20T04:57:38.800Z"
   },
   {
    "duration": 4,
    "start_time": "2025-03-20T04:57:38.815Z"
   },
   {
    "duration": 6,
    "start_time": "2025-03-20T04:57:38.820Z"
   },
   {
    "duration": 369,
    "start_time": "2025-03-20T05:07:00.243Z"
   },
   {
    "duration": 106,
    "start_time": "2025-03-20T05:07:00.613Z"
   },
   {
    "duration": 12,
    "start_time": "2025-03-20T05:07:00.720Z"
   },
   {
    "duration": 25,
    "start_time": "2025-03-20T05:07:00.733Z"
   },
   {
    "duration": 44,
    "start_time": "2025-03-20T05:07:00.760Z"
   },
   {
    "duration": 16,
    "start_time": "2025-03-20T05:07:00.805Z"
   },
   {
    "duration": 31,
    "start_time": "2025-03-20T05:07:00.822Z"
   },
   {
    "duration": 29,
    "start_time": "2025-03-20T05:07:00.854Z"
   },
   {
    "duration": 15,
    "start_time": "2025-03-20T05:07:00.885Z"
   },
   {
    "duration": 152,
    "start_time": "2025-03-20T05:07:00.904Z"
   },
   {
    "duration": 157,
    "start_time": "2025-03-20T05:07:01.057Z"
   },
   {
    "duration": 127,
    "start_time": "2025-03-20T05:07:01.217Z"
   },
   {
    "duration": 151,
    "start_time": "2025-03-20T05:07:01.346Z"
   },
   {
    "duration": 161,
    "start_time": "2025-03-20T05:07:01.499Z"
   },
   {
    "duration": 4,
    "start_time": "2025-03-20T05:07:01.661Z"
   },
   {
    "duration": 34,
    "start_time": "2025-03-20T05:07:01.666Z"
   },
   {
    "duration": 10,
    "start_time": "2025-03-20T05:07:01.702Z"
   },
   {
    "duration": 20,
    "start_time": "2025-03-20T05:07:01.713Z"
   },
   {
    "duration": 10,
    "start_time": "2025-03-20T05:07:01.734Z"
   },
   {
    "duration": 55,
    "start_time": "2025-03-20T05:07:01.745Z"
   },
   {
    "duration": 109,
    "start_time": "2025-03-20T05:07:01.802Z"
   },
   {
    "duration": 4,
    "start_time": "2025-03-20T05:07:01.912Z"
   },
   {
    "duration": 34,
    "start_time": "2025-03-20T05:07:01.917Z"
   },
   {
    "duration": 64,
    "start_time": "2025-03-20T05:07:01.952Z"
   },
   {
    "duration": 54,
    "start_time": "2025-03-20T05:07:02.017Z"
   },
   {
    "duration": 34,
    "start_time": "2025-03-20T05:07:02.072Z"
   },
   {
    "duration": 22,
    "start_time": "2025-03-20T05:07:02.107Z"
   },
   {
    "duration": 28,
    "start_time": "2025-03-20T05:07:02.131Z"
   },
   {
    "duration": 350,
    "start_time": "2025-03-20T05:26:23.072Z"
   },
   {
    "duration": 116,
    "start_time": "2025-03-20T05:26:23.424Z"
   },
   {
    "duration": 12,
    "start_time": "2025-03-20T05:26:23.542Z"
   },
   {
    "duration": 25,
    "start_time": "2025-03-20T05:26:23.556Z"
   },
   {
    "duration": 42,
    "start_time": "2025-03-20T05:26:23.583Z"
   },
   {
    "duration": 9,
    "start_time": "2025-03-20T05:26:23.627Z"
   },
   {
    "duration": 17,
    "start_time": "2025-03-20T05:26:23.637Z"
   },
   {
    "duration": 12,
    "start_time": "2025-03-20T05:26:23.656Z"
   },
   {
    "duration": 14,
    "start_time": "2025-03-20T05:26:23.669Z"
   },
   {
    "duration": 147,
    "start_time": "2025-03-20T05:26:23.684Z"
   },
   {
    "duration": 135,
    "start_time": "2025-03-20T05:26:23.833Z"
   },
   {
    "duration": 122,
    "start_time": "2025-03-20T05:26:23.970Z"
   },
   {
    "duration": 156,
    "start_time": "2025-03-20T05:26:24.093Z"
   },
   {
    "duration": 146,
    "start_time": "2025-03-20T05:26:24.252Z"
   },
   {
    "duration": 3,
    "start_time": "2025-03-20T05:26:24.399Z"
   },
   {
    "duration": 36,
    "start_time": "2025-03-20T05:26:24.403Z"
   },
   {
    "duration": 5,
    "start_time": "2025-03-20T05:26:24.440Z"
   },
   {
    "duration": 11,
    "start_time": "2025-03-20T05:26:24.446Z"
   },
   {
    "duration": 6,
    "start_time": "2025-03-20T05:26:24.459Z"
   },
   {
    "duration": 4,
    "start_time": "2025-03-20T05:26:24.466Z"
   },
   {
    "duration": 9,
    "start_time": "2025-03-20T05:26:24.471Z"
   },
   {
    "duration": 11,
    "start_time": "2025-03-20T05:26:24.481Z"
   },
   {
    "duration": 7,
    "start_time": "2025-03-20T05:26:24.493Z"
   },
   {
    "duration": 18,
    "start_time": "2025-03-20T05:26:24.501Z"
   },
   {
    "duration": 3,
    "start_time": "2025-03-20T05:26:24.521Z"
   },
   {
    "duration": 4,
    "start_time": "2025-03-20T05:26:24.526Z"
   },
   {
    "duration": 27,
    "start_time": "2025-03-20T05:26:24.531Z"
   },
   {
    "duration": 5,
    "start_time": "2025-03-20T05:26:24.559Z"
   },
   {
    "duration": 5,
    "start_time": "2025-03-20T05:26:24.566Z"
   },
   {
    "duration": 380,
    "start_time": "2025-03-20T05:30:18.074Z"
   },
   {
    "duration": 114,
    "start_time": "2025-03-20T05:30:18.456Z"
   },
   {
    "duration": 16,
    "start_time": "2025-03-20T05:30:18.571Z"
   },
   {
    "duration": 45,
    "start_time": "2025-03-20T05:30:18.588Z"
   },
   {
    "duration": 3,
    "start_time": "2025-03-20T05:30:18.636Z"
   },
   {
    "duration": 29,
    "start_time": "2025-03-20T05:30:18.641Z"
   },
   {
    "duration": 24,
    "start_time": "2025-03-20T05:30:18.672Z"
   },
   {
    "duration": 12,
    "start_time": "2025-03-20T05:30:18.698Z"
   },
   {
    "duration": 15,
    "start_time": "2025-03-20T05:30:18.711Z"
   },
   {
    "duration": 152,
    "start_time": "2025-03-20T05:30:18.727Z"
   },
   {
    "duration": 142,
    "start_time": "2025-03-20T05:30:18.880Z"
   },
   {
    "duration": 134,
    "start_time": "2025-03-20T05:30:19.023Z"
   },
   {
    "duration": 158,
    "start_time": "2025-03-20T05:30:19.159Z"
   },
   {
    "duration": 153,
    "start_time": "2025-03-20T05:30:19.320Z"
   },
   {
    "duration": 4,
    "start_time": "2025-03-20T05:30:19.474Z"
   },
   {
    "duration": 10,
    "start_time": "2025-03-20T05:30:19.479Z"
   },
   {
    "duration": 4,
    "start_time": "2025-03-20T05:30:19.491Z"
   },
   {
    "duration": 8,
    "start_time": "2025-03-20T05:30:19.496Z"
   },
   {
    "duration": 4,
    "start_time": "2025-03-20T05:30:19.505Z"
   },
   {
    "duration": 8,
    "start_time": "2025-03-20T05:30:19.510Z"
   },
   {
    "duration": 37,
    "start_time": "2025-03-20T05:30:19.519Z"
   },
   {
    "duration": 96,
    "start_time": "2025-03-20T05:30:19.557Z"
   },
   {
    "duration": 27,
    "start_time": "2025-03-20T05:30:19.654Z"
   },
   {
    "duration": 34,
    "start_time": "2025-03-20T05:30:19.682Z"
   },
   {
    "duration": 3,
    "start_time": "2025-03-20T05:30:19.718Z"
   },
   {
    "duration": 27,
    "start_time": "2025-03-20T05:30:19.722Z"
   },
   {
    "duration": 4,
    "start_time": "2025-03-20T05:30:19.750Z"
   },
   {
    "duration": 81,
    "start_time": "2025-03-20T05:30:19.755Z"
   },
   {
    "duration": 0,
    "start_time": "2025-03-20T05:30:19.837Z"
   },
   {
    "duration": 399,
    "start_time": "2025-03-20T05:30:41.966Z"
   },
   {
    "duration": 79,
    "start_time": "2025-03-20T05:30:42.367Z"
   },
   {
    "duration": 13,
    "start_time": "2025-03-20T05:30:42.447Z"
   },
   {
    "duration": 24,
    "start_time": "2025-03-20T05:30:42.461Z"
   },
   {
    "duration": 17,
    "start_time": "2025-03-20T05:30:42.487Z"
   },
   {
    "duration": 15,
    "start_time": "2025-03-20T05:30:42.505Z"
   },
   {
    "duration": 32,
    "start_time": "2025-03-20T05:30:42.522Z"
   },
   {
    "duration": 19,
    "start_time": "2025-03-20T05:30:42.556Z"
   },
   {
    "duration": 11,
    "start_time": "2025-03-20T05:30:42.577Z"
   },
   {
    "duration": 162,
    "start_time": "2025-03-20T05:30:42.589Z"
   },
   {
    "duration": 161,
    "start_time": "2025-03-20T05:30:42.752Z"
   },
   {
    "duration": 130,
    "start_time": "2025-03-20T05:30:42.914Z"
   },
   {
    "duration": 162,
    "start_time": "2025-03-20T05:30:43.045Z"
   },
   {
    "duration": 167,
    "start_time": "2025-03-20T05:30:43.209Z"
   },
   {
    "duration": 4,
    "start_time": "2025-03-20T05:30:43.378Z"
   },
   {
    "duration": 104,
    "start_time": "2025-03-20T05:30:43.383Z"
   },
   {
    "duration": 13,
    "start_time": "2025-03-20T05:30:43.489Z"
   },
   {
    "duration": 13,
    "start_time": "2025-03-20T05:30:43.503Z"
   },
   {
    "duration": 9,
    "start_time": "2025-03-20T05:30:43.517Z"
   },
   {
    "duration": 6,
    "start_time": "2025-03-20T05:30:43.527Z"
   },
   {
    "duration": 13,
    "start_time": "2025-03-20T05:30:43.534Z"
   },
   {
    "duration": 24,
    "start_time": "2025-03-20T05:30:43.548Z"
   },
   {
    "duration": 111,
    "start_time": "2025-03-20T05:30:43.573Z"
   },
   {
    "duration": 30,
    "start_time": "2025-03-20T05:30:43.686Z"
   },
   {
    "duration": 9,
    "start_time": "2025-03-20T05:30:43.717Z"
   },
   {
    "duration": 9,
    "start_time": "2025-03-20T05:30:43.728Z"
   },
   {
    "duration": 20,
    "start_time": "2025-03-20T05:30:43.738Z"
   },
   {
    "duration": 21,
    "start_time": "2025-03-20T05:30:43.759Z"
   },
   {
    "duration": 27,
    "start_time": "2025-03-20T05:30:43.781Z"
   },
   {
    "duration": 8,
    "start_time": "2025-03-20T05:30:59.363Z"
   },
   {
    "duration": 330,
    "start_time": "2025-03-20T05:31:35.594Z"
   },
   {
    "duration": 69,
    "start_time": "2025-03-20T05:31:35.926Z"
   },
   {
    "duration": 12,
    "start_time": "2025-03-20T05:31:35.996Z"
   },
   {
    "duration": 22,
    "start_time": "2025-03-20T05:31:36.009Z"
   },
   {
    "duration": 6,
    "start_time": "2025-03-20T05:31:36.032Z"
   },
   {
    "duration": 41,
    "start_time": "2025-03-20T05:31:36.039Z"
   },
   {
    "duration": 51,
    "start_time": "2025-03-20T05:31:36.082Z"
   },
   {
    "duration": 11,
    "start_time": "2025-03-20T05:31:36.134Z"
   },
   {
    "duration": 54,
    "start_time": "2025-03-20T05:31:36.146Z"
   },
   {
    "duration": 145,
    "start_time": "2025-03-20T05:31:36.201Z"
   },
   {
    "duration": 144,
    "start_time": "2025-03-20T05:31:36.348Z"
   },
   {
    "duration": 128,
    "start_time": "2025-03-20T05:31:36.494Z"
   },
   {
    "duration": 161,
    "start_time": "2025-03-20T05:31:36.624Z"
   },
   {
    "duration": 144,
    "start_time": "2025-03-20T05:31:36.787Z"
   },
   {
    "duration": 3,
    "start_time": "2025-03-20T05:31:36.932Z"
   },
   {
    "duration": 74,
    "start_time": "2025-03-20T05:31:36.936Z"
   },
   {
    "duration": 176,
    "start_time": "2025-03-20T05:31:37.011Z"
   },
   {
    "duration": 15,
    "start_time": "2025-03-20T05:31:37.189Z"
   },
   {
    "duration": 9,
    "start_time": "2025-03-20T05:31:37.206Z"
   },
   {
    "duration": 6,
    "start_time": "2025-03-20T05:31:37.216Z"
   },
   {
    "duration": 21,
    "start_time": "2025-03-20T05:31:37.223Z"
   },
   {
    "duration": 5,
    "start_time": "2025-03-20T05:31:37.245Z"
   },
   {
    "duration": 7,
    "start_time": "2025-03-20T05:31:37.252Z"
   },
   {
    "duration": 34,
    "start_time": "2025-03-20T05:31:37.260Z"
   },
   {
    "duration": 7,
    "start_time": "2025-03-20T05:31:37.295Z"
   },
   {
    "duration": 9,
    "start_time": "2025-03-20T05:31:37.303Z"
   },
   {
    "duration": 48,
    "start_time": "2025-03-20T05:31:37.313Z"
   },
   {
    "duration": 132,
    "start_time": "2025-03-20T05:31:37.362Z"
   },
   {
    "duration": 8,
    "start_time": "2025-03-20T05:31:37.495Z"
   },
   {
    "duration": 319,
    "start_time": "2025-03-20T05:31:46.699Z"
   },
   {
    "duration": 84,
    "start_time": "2025-03-20T05:31:47.019Z"
   },
   {
    "duration": 11,
    "start_time": "2025-03-20T05:31:47.105Z"
   },
   {
    "duration": 92,
    "start_time": "2025-03-20T05:31:47.117Z"
   },
   {
    "duration": 13,
    "start_time": "2025-03-20T05:31:47.210Z"
   },
   {
    "duration": 12,
    "start_time": "2025-03-20T05:31:47.224Z"
   },
   {
    "duration": 16,
    "start_time": "2025-03-20T05:31:47.237Z"
   },
   {
    "duration": 11,
    "start_time": "2025-03-20T05:31:47.254Z"
   },
   {
    "duration": 10,
    "start_time": "2025-03-20T05:31:47.267Z"
   },
   {
    "duration": 136,
    "start_time": "2025-03-20T05:31:47.280Z"
   },
   {
    "duration": 141,
    "start_time": "2025-03-20T05:31:47.418Z"
   },
   {
    "duration": 127,
    "start_time": "2025-03-20T05:31:47.560Z"
   },
   {
    "duration": 143,
    "start_time": "2025-03-20T05:31:47.688Z"
   },
   {
    "duration": 160,
    "start_time": "2025-03-20T05:31:47.833Z"
   },
   {
    "duration": 4,
    "start_time": "2025-03-20T05:31:47.994Z"
   },
   {
    "duration": 19,
    "start_time": "2025-03-20T05:31:47.999Z"
   },
   {
    "duration": 4,
    "start_time": "2025-03-20T05:31:48.019Z"
   },
   {
    "duration": 3,
    "start_time": "2025-03-20T05:31:48.024Z"
   },
   {
    "duration": 12,
    "start_time": "2025-03-20T05:31:48.028Z"
   },
   {
    "duration": 16,
    "start_time": "2025-03-20T05:31:48.041Z"
   },
   {
    "duration": 18,
    "start_time": "2025-03-20T05:31:48.059Z"
   },
   {
    "duration": 4,
    "start_time": "2025-03-20T05:31:48.078Z"
   },
   {
    "duration": 13,
    "start_time": "2025-03-20T05:31:48.083Z"
   },
   {
    "duration": 19,
    "start_time": "2025-03-20T05:31:48.097Z"
   },
   {
    "duration": 4,
    "start_time": "2025-03-20T05:31:48.117Z"
   },
   {
    "duration": 4,
    "start_time": "2025-03-20T05:31:48.122Z"
   },
   {
    "duration": 29,
    "start_time": "2025-03-20T05:31:48.127Z"
   },
   {
    "duration": 7,
    "start_time": "2025-03-20T05:31:48.157Z"
   },
   {
    "duration": 7,
    "start_time": "2025-03-20T05:31:48.165Z"
   },
   {
    "duration": 7,
    "start_time": "2025-03-20T05:37:13.877Z"
   },
   {
    "duration": 350,
    "start_time": "2025-03-20T05:38:01.679Z"
   },
   {
    "duration": 115,
    "start_time": "2025-03-20T05:38:02.031Z"
   },
   {
    "duration": 14,
    "start_time": "2025-03-20T05:38:02.148Z"
   },
   {
    "duration": 40,
    "start_time": "2025-03-20T05:38:02.164Z"
   },
   {
    "duration": 4,
    "start_time": "2025-03-20T05:38:02.205Z"
   },
   {
    "duration": 12,
    "start_time": "2025-03-20T05:38:02.210Z"
   },
   {
    "duration": 23,
    "start_time": "2025-03-20T05:38:02.223Z"
   },
   {
    "duration": 37,
    "start_time": "2025-03-20T05:38:02.248Z"
   },
   {
    "duration": 20,
    "start_time": "2025-03-20T05:38:02.286Z"
   },
   {
    "duration": 193,
    "start_time": "2025-03-20T05:38:02.307Z"
   },
   {
    "duration": 144,
    "start_time": "2025-03-20T05:38:02.501Z"
   },
   {
    "duration": 138,
    "start_time": "2025-03-20T05:38:02.646Z"
   },
   {
    "duration": 163,
    "start_time": "2025-03-20T05:38:02.785Z"
   },
   {
    "duration": 141,
    "start_time": "2025-03-20T05:38:02.951Z"
   },
   {
    "duration": 4,
    "start_time": "2025-03-20T05:38:03.093Z"
   },
   {
    "duration": 16,
    "start_time": "2025-03-20T05:38:03.098Z"
   },
   {
    "duration": 4,
    "start_time": "2025-03-20T05:38:03.115Z"
   },
   {
    "duration": 90,
    "start_time": "2025-03-20T05:38:03.120Z"
   },
   {
    "duration": 46,
    "start_time": "2025-03-20T05:38:03.211Z"
   },
   {
    "duration": 39,
    "start_time": "2025-03-20T05:38:03.259Z"
   },
   {
    "duration": 29,
    "start_time": "2025-03-20T05:38:03.299Z"
   },
   {
    "duration": 7,
    "start_time": "2025-03-20T05:38:03.329Z"
   },
   {
    "duration": 11,
    "start_time": "2025-03-20T05:38:03.337Z"
   },
   {
    "duration": 23,
    "start_time": "2025-03-20T05:38:03.349Z"
   },
   {
    "duration": 32,
    "start_time": "2025-03-20T05:38:03.374Z"
   },
   {
    "duration": 108,
    "start_time": "2025-03-20T05:38:03.407Z"
   },
   {
    "duration": 7,
    "start_time": "2025-03-20T05:38:03.516Z"
   },
   {
    "duration": 14,
    "start_time": "2025-03-20T05:38:03.524Z"
   },
   {
    "duration": 5,
    "start_time": "2025-03-20T05:38:03.539Z"
   },
   {
    "duration": 337,
    "start_time": "2025-03-20T05:49:01.501Z"
   },
   {
    "duration": 104,
    "start_time": "2025-03-20T05:49:01.840Z"
   },
   {
    "duration": 12,
    "start_time": "2025-03-20T05:49:01.945Z"
   },
   {
    "duration": 70,
    "start_time": "2025-03-20T05:49:01.959Z"
   },
   {
    "duration": 40,
    "start_time": "2025-03-20T05:49:02.031Z"
   },
   {
    "duration": 30,
    "start_time": "2025-03-20T05:49:02.072Z"
   },
   {
    "duration": 24,
    "start_time": "2025-03-20T05:49:02.104Z"
   },
   {
    "duration": 53,
    "start_time": "2025-03-20T05:49:02.129Z"
   },
   {
    "duration": 57,
    "start_time": "2025-03-20T05:49:02.183Z"
   },
   {
    "duration": 155,
    "start_time": "2025-03-20T05:49:02.241Z"
   },
   {
    "duration": 134,
    "start_time": "2025-03-20T05:49:02.397Z"
   },
   {
    "duration": 125,
    "start_time": "2025-03-20T05:49:02.533Z"
   },
   {
    "duration": 144,
    "start_time": "2025-03-20T05:49:02.659Z"
   },
   {
    "duration": 142,
    "start_time": "2025-03-20T05:49:02.806Z"
   },
   {
    "duration": 7,
    "start_time": "2025-03-20T05:49:02.950Z"
   },
   {
    "duration": 30,
    "start_time": "2025-03-20T05:49:02.958Z"
   },
   {
    "duration": 24,
    "start_time": "2025-03-20T05:49:02.989Z"
   },
   {
    "duration": 21,
    "start_time": "2025-03-20T05:49:03.014Z"
   },
   {
    "duration": 35,
    "start_time": "2025-03-20T05:49:03.036Z"
   },
   {
    "duration": 38,
    "start_time": "2025-03-20T05:49:03.072Z"
   },
   {
    "duration": 19,
    "start_time": "2025-03-20T05:49:03.112Z"
   },
   {
    "duration": 5,
    "start_time": "2025-03-20T05:49:03.133Z"
   },
   {
    "duration": 22,
    "start_time": "2025-03-20T05:49:03.139Z"
   },
   {
    "duration": 34,
    "start_time": "2025-03-20T05:49:03.162Z"
   },
   {
    "duration": 91,
    "start_time": "2025-03-20T05:49:03.198Z"
   },
   {
    "duration": 181,
    "start_time": "2025-03-20T05:49:03.290Z"
   },
   {
    "duration": 140,
    "start_time": "2025-03-20T05:49:03.473Z"
   },
   {
    "duration": 8,
    "start_time": "2025-03-20T05:49:03.615Z"
   },
   {
    "duration": 87,
    "start_time": "2025-03-20T05:49:03.624Z"
   },
   {
    "duration": 342,
    "start_time": "2025-03-20T05:51:52.080Z"
   },
   {
    "duration": 110,
    "start_time": "2025-03-20T05:51:52.423Z"
   },
   {
    "duration": 11,
    "start_time": "2025-03-20T05:51:52.534Z"
   },
   {
    "duration": 17,
    "start_time": "2025-03-20T05:51:52.547Z"
   },
   {
    "duration": 4,
    "start_time": "2025-03-20T05:51:52.566Z"
   },
   {
    "duration": 7,
    "start_time": "2025-03-20T05:51:52.572Z"
   },
   {
    "duration": 23,
    "start_time": "2025-03-20T05:51:52.580Z"
   },
   {
    "duration": 11,
    "start_time": "2025-03-20T05:51:52.605Z"
   },
   {
    "duration": 27,
    "start_time": "2025-03-20T05:51:52.617Z"
   },
   {
    "duration": 143,
    "start_time": "2025-03-20T05:51:52.647Z"
   },
   {
    "duration": 141,
    "start_time": "2025-03-20T05:51:52.792Z"
   },
   {
    "duration": 124,
    "start_time": "2025-03-20T05:51:52.934Z"
   },
   {
    "duration": 149,
    "start_time": "2025-03-20T05:51:53.059Z"
   },
   {
    "duration": 147,
    "start_time": "2025-03-20T05:51:53.209Z"
   },
   {
    "duration": 4,
    "start_time": "2025-03-20T05:51:53.357Z"
   },
   {
    "duration": 12,
    "start_time": "2025-03-20T05:51:53.363Z"
   },
   {
    "duration": 5,
    "start_time": "2025-03-20T05:51:53.376Z"
   },
   {
    "duration": 11,
    "start_time": "2025-03-20T05:51:53.382Z"
   },
   {
    "duration": 12,
    "start_time": "2025-03-20T05:51:53.394Z"
   },
   {
    "duration": 5,
    "start_time": "2025-03-20T05:51:53.407Z"
   },
   {
    "duration": 11,
    "start_time": "2025-03-20T05:51:53.413Z"
   },
   {
    "duration": 4,
    "start_time": "2025-03-20T05:51:53.425Z"
   },
   {
    "duration": 9,
    "start_time": "2025-03-20T05:51:53.455Z"
   },
   {
    "duration": 26,
    "start_time": "2025-03-20T05:51:53.465Z"
   },
   {
    "duration": 3,
    "start_time": "2025-03-20T05:51:53.493Z"
   },
   {
    "duration": 144,
    "start_time": "2025-03-20T05:51:53.497Z"
   },
   {
    "duration": 119,
    "start_time": "2025-03-20T05:51:53.643Z"
   },
   {
    "duration": 10,
    "start_time": "2025-03-20T05:51:53.765Z"
   },
   {
    "duration": 7,
    "start_time": "2025-03-20T05:51:53.776Z"
   },
   {
    "duration": 386,
    "start_time": "2025-03-20T05:52:20.657Z"
   },
   {
    "duration": 108,
    "start_time": "2025-03-20T05:52:21.045Z"
   },
   {
    "duration": 17,
    "start_time": "2025-03-20T05:52:21.155Z"
   },
   {
    "duration": 16,
    "start_time": "2025-03-20T05:52:21.173Z"
   },
   {
    "duration": 101,
    "start_time": "2025-03-20T05:52:21.191Z"
   },
   {
    "duration": 23,
    "start_time": "2025-03-20T05:52:21.294Z"
   },
   {
    "duration": 25,
    "start_time": "2025-03-20T05:52:21.319Z"
   },
   {
    "duration": 12,
    "start_time": "2025-03-20T05:52:21.346Z"
   },
   {
    "duration": 30,
    "start_time": "2025-03-20T05:52:21.362Z"
   },
   {
    "duration": 155,
    "start_time": "2025-03-20T05:52:21.393Z"
   },
   {
    "duration": 150,
    "start_time": "2025-03-20T05:52:21.549Z"
   },
   {
    "duration": 130,
    "start_time": "2025-03-20T05:52:21.700Z"
   },
   {
    "duration": 164,
    "start_time": "2025-03-20T05:52:21.831Z"
   },
   {
    "duration": 159,
    "start_time": "2025-03-20T05:52:21.997Z"
   },
   {
    "duration": 4,
    "start_time": "2025-03-20T05:52:22.160Z"
   },
   {
    "duration": 33,
    "start_time": "2025-03-20T05:52:22.167Z"
   },
   {
    "duration": 21,
    "start_time": "2025-03-20T05:52:22.201Z"
   },
   {
    "duration": 29,
    "start_time": "2025-03-20T05:52:22.223Z"
   },
   {
    "duration": 16,
    "start_time": "2025-03-20T05:52:22.253Z"
   },
   {
    "duration": 10,
    "start_time": "2025-03-20T05:52:22.270Z"
   },
   {
    "duration": 20,
    "start_time": "2025-03-20T05:52:22.281Z"
   },
   {
    "duration": 21,
    "start_time": "2025-03-20T05:52:22.303Z"
   },
   {
    "duration": 18,
    "start_time": "2025-03-20T05:52:22.325Z"
   },
   {
    "duration": 32,
    "start_time": "2025-03-20T05:52:22.344Z"
   },
   {
    "duration": 4,
    "start_time": "2025-03-20T05:52:22.377Z"
   },
   {
    "duration": 276,
    "start_time": "2025-03-20T05:52:22.382Z"
   },
   {
    "duration": 140,
    "start_time": "2025-03-20T05:52:22.660Z"
   },
   {
    "duration": 8,
    "start_time": "2025-03-20T05:52:22.802Z"
   },
   {
    "duration": 14,
    "start_time": "2025-03-20T05:52:22.811Z"
   },
   {
    "duration": 369,
    "start_time": "2025-03-20T06:02:21.076Z"
   },
   {
    "duration": 135,
    "start_time": "2025-03-20T06:02:21.448Z"
   },
   {
    "duration": 12,
    "start_time": "2025-03-20T06:02:21.585Z"
   },
   {
    "duration": 181,
    "start_time": "2025-03-20T06:02:21.598Z"
   },
   {
    "duration": 4,
    "start_time": "2025-03-20T06:02:21.781Z"
   },
   {
    "duration": 26,
    "start_time": "2025-03-20T06:02:21.786Z"
   },
   {
    "duration": 71,
    "start_time": "2025-03-20T06:02:21.813Z"
   },
   {
    "duration": 31,
    "start_time": "2025-03-20T06:02:21.885Z"
   },
   {
    "duration": 9,
    "start_time": "2025-03-20T06:02:21.917Z"
   },
   {
    "duration": 166,
    "start_time": "2025-03-20T06:02:21.927Z"
   },
   {
    "duration": 164,
    "start_time": "2025-03-20T06:02:22.096Z"
   },
   {
    "duration": 133,
    "start_time": "2025-03-20T06:02:22.263Z"
   },
   {
    "duration": 161,
    "start_time": "2025-03-20T06:02:22.397Z"
   },
   {
    "duration": 158,
    "start_time": "2025-03-20T06:02:22.562Z"
   },
   {
    "duration": 3,
    "start_time": "2025-03-20T06:02:22.722Z"
   },
   {
    "duration": 27,
    "start_time": "2025-03-20T06:02:22.726Z"
   },
   {
    "duration": 9,
    "start_time": "2025-03-20T06:02:22.755Z"
   },
   {
    "duration": 14,
    "start_time": "2025-03-20T06:02:22.765Z"
   },
   {
    "duration": 42,
    "start_time": "2025-03-20T06:02:22.781Z"
   },
   {
    "duration": 20,
    "start_time": "2025-03-20T06:02:22.825Z"
   },
   {
    "duration": 26,
    "start_time": "2025-03-20T06:02:22.846Z"
   },
   {
    "duration": 43,
    "start_time": "2025-03-20T06:02:22.874Z"
   },
   {
    "duration": 21,
    "start_time": "2025-03-20T06:02:22.918Z"
   },
   {
    "duration": 38,
    "start_time": "2025-03-20T06:02:22.940Z"
   },
   {
    "duration": 24,
    "start_time": "2025-03-20T06:02:22.980Z"
   },
   {
    "duration": 148,
    "start_time": "2025-03-20T06:02:23.006Z"
   },
   {
    "duration": 134,
    "start_time": "2025-03-20T06:02:23.155Z"
   },
   {
    "duration": 7,
    "start_time": "2025-03-20T06:02:23.291Z"
   },
   {
    "duration": 47,
    "start_time": "2025-03-20T06:02:23.299Z"
   },
   {
    "duration": 332,
    "start_time": "2025-03-20T06:04:11.587Z"
   },
   {
    "duration": 107,
    "start_time": "2025-03-20T06:04:11.921Z"
   },
   {
    "duration": 12,
    "start_time": "2025-03-20T06:04:12.030Z"
   },
   {
    "duration": 41,
    "start_time": "2025-03-20T06:04:12.044Z"
   },
   {
    "duration": 4,
    "start_time": "2025-03-20T06:04:12.086Z"
   },
   {
    "duration": 4,
    "start_time": "2025-03-20T06:04:12.091Z"
   },
   {
    "duration": 17,
    "start_time": "2025-03-20T06:04:12.096Z"
   },
   {
    "duration": 12,
    "start_time": "2025-03-20T06:04:12.114Z"
   },
   {
    "duration": 8,
    "start_time": "2025-03-20T06:04:12.127Z"
   },
   {
    "duration": 164,
    "start_time": "2025-03-20T06:04:12.138Z"
   },
   {
    "duration": 137,
    "start_time": "2025-03-20T06:04:12.303Z"
   },
   {
    "duration": 125,
    "start_time": "2025-03-20T06:04:12.441Z"
   },
   {
    "duration": 146,
    "start_time": "2025-03-20T06:04:12.568Z"
   },
   {
    "duration": 145,
    "start_time": "2025-03-20T06:04:12.715Z"
   },
   {
    "duration": 4,
    "start_time": "2025-03-20T06:04:12.861Z"
   },
   {
    "duration": 15,
    "start_time": "2025-03-20T06:04:12.866Z"
   },
   {
    "duration": 5,
    "start_time": "2025-03-20T06:04:12.882Z"
   },
   {
    "duration": 6,
    "start_time": "2025-03-20T06:04:12.888Z"
   },
   {
    "duration": 4,
    "start_time": "2025-03-20T06:04:12.895Z"
   },
   {
    "duration": 5,
    "start_time": "2025-03-20T06:04:12.900Z"
   },
   {
    "duration": 17,
    "start_time": "2025-03-20T06:04:12.907Z"
   },
   {
    "duration": 32,
    "start_time": "2025-03-20T06:04:12.925Z"
   },
   {
    "duration": 7,
    "start_time": "2025-03-20T06:04:12.959Z"
   },
   {
    "duration": 18,
    "start_time": "2025-03-20T06:04:12.967Z"
   },
   {
    "duration": 12,
    "start_time": "2025-03-20T06:04:12.987Z"
   },
   {
    "duration": 148,
    "start_time": "2025-03-20T06:04:13.000Z"
   },
   {
    "duration": 125,
    "start_time": "2025-03-20T06:04:13.150Z"
   },
   {
    "duration": 8,
    "start_time": "2025-03-20T06:04:13.279Z"
   },
   {
    "duration": 52,
    "start_time": "2025-03-20T06:04:13.289Z"
   },
   {
    "duration": 383,
    "start_time": "2025-03-20T06:07:39.247Z"
   },
   {
    "duration": 91,
    "start_time": "2025-03-20T06:07:39.632Z"
   },
   {
    "duration": 53,
    "start_time": "2025-03-20T06:07:39.724Z"
   },
   {
    "duration": 31,
    "start_time": "2025-03-20T06:07:39.778Z"
   },
   {
    "duration": 3,
    "start_time": "2025-03-20T06:07:39.811Z"
   },
   {
    "duration": 10,
    "start_time": "2025-03-20T06:07:39.815Z"
   },
   {
    "duration": 18,
    "start_time": "2025-03-20T06:07:39.826Z"
   },
   {
    "duration": 16,
    "start_time": "2025-03-20T06:07:39.846Z"
   },
   {
    "duration": 9,
    "start_time": "2025-03-20T06:07:39.863Z"
   },
   {
    "duration": 149,
    "start_time": "2025-03-20T06:07:39.873Z"
   },
   {
    "duration": 140,
    "start_time": "2025-03-20T06:07:40.023Z"
   },
   {
    "duration": 124,
    "start_time": "2025-03-20T06:07:40.165Z"
   },
   {
    "duration": 150,
    "start_time": "2025-03-20T06:07:40.290Z"
   },
   {
    "duration": 152,
    "start_time": "2025-03-20T06:07:40.442Z"
   },
   {
    "duration": 3,
    "start_time": "2025-03-20T06:07:40.595Z"
   },
   {
    "duration": 19,
    "start_time": "2025-03-20T06:07:40.600Z"
   },
   {
    "duration": 4,
    "start_time": "2025-03-20T06:07:40.620Z"
   },
   {
    "duration": 7,
    "start_time": "2025-03-20T06:07:40.625Z"
   },
   {
    "duration": 33,
    "start_time": "2025-03-20T06:07:40.633Z"
   },
   {
    "duration": 20,
    "start_time": "2025-03-20T06:07:40.667Z"
   },
   {
    "duration": 17,
    "start_time": "2025-03-20T06:07:40.689Z"
   },
   {
    "duration": 6,
    "start_time": "2025-03-20T06:07:40.708Z"
   },
   {
    "duration": 8,
    "start_time": "2025-03-20T06:07:40.716Z"
   },
   {
    "duration": 19,
    "start_time": "2025-03-20T06:07:40.725Z"
   },
   {
    "duration": 15,
    "start_time": "2025-03-20T06:07:40.745Z"
   },
   {
    "duration": 129,
    "start_time": "2025-03-20T06:07:40.762Z"
   },
   {
    "duration": 129,
    "start_time": "2025-03-20T06:07:40.892Z"
   },
   {
    "duration": 8,
    "start_time": "2025-03-20T06:07:41.022Z"
   },
   {
    "duration": 17,
    "start_time": "2025-03-20T06:07:41.032Z"
   }
  ],
  "kernelspec": {
   "display_name": "Python 3 (ipykernel)",
   "language": "python",
   "name": "python3"
  },
  "language_info": {
   "codemirror_mode": {
    "name": "ipython",
    "version": 3
   },
   "file_extension": ".py",
   "mimetype": "text/x-python",
   "name": "python",
   "nbconvert_exporter": "python",
   "pygments_lexer": "ipython3",
   "version": "3.9.5"
  },
  "toc": {
   "base_numbering": 1,
   "nav_menu": {},
   "number_sections": true,
   "sideBar": true,
   "skip_h1_title": true,
   "title_cell": "Table of Contents",
   "title_sidebar": "Contents",
   "toc_cell": false,
   "toc_position": {},
   "toc_section_display": true,
   "toc_window_display": false
  }
 },
 "nbformat": 4,
 "nbformat_minor": 5
}

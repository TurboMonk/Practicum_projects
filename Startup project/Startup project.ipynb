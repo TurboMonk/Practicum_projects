{
 "cells": [
  {
   "cell_type": "markdown",
   "metadata": {
    "id": "4mJbK1knrJgz"
   },
   "source": [
    "# Проект: Исследование стартапов"
   ]
  },
  {
   "cell_type": "markdown",
   "metadata": {
    "id": "P6j0r3worJg0"
   },
   "source": [
    "## Введение"
   ]
  },
  {
   "cell_type": "markdown",
   "metadata": {
    "id": "8lQtbsIUyFG6"
   },
   "source": [
    "### Цели и задачи проекта\n",
    "\n",
    "**Цель:** Подготовка данных и их проверка. Ответить на вопросы заказчика по предобработке и о значении данных для бизнеса.\n",
    "\n",
    "**Задачи**\n",
    "1. Загрузить данные и ознакомиться с содержимым.\n",
    "2. Провести предобработку данных с предварительным исследованием.\n",
    "3. Провести исследовательский анализ данных.\n",
    "4. Сформулировать выводы по проведённому анализу.\n",
    "\n",
    "### Данные\n",
    "\n",
    "Для анализа предоставлены следующие данные:\n",
    "\n",
    "- `company_and_rounds.csv`\n",
    "- `acquisition.csv`\n",
    "- `people.csv`\n",
    "- `education.csv`\n",
    "- `degrees.csv`\n",
    "- `fund.csv`\n",
    "- `investment.csv`\n",
    "\n",
    "### Структура проекта\n",
    "\n",
    "1. Знакомство с данными: загрузка и первичная предобработка.\n",
    "2. Предобработка данных, предварительное исследование.\n",
    "3. Исследовательский анализ объединённых таблиц.\n",
    "4. Итоговый вывод и рекомендации.\n",
    "---"
   ]
  },
  {
   "cell_type": "markdown",
   "metadata": {
    "id": "xqr6uttCrJg0"
   },
   "source": [
    "\n",
    "## Знакомство с данными: загрузка и первичная предобработка\n",
    "\n",
    "Начнём с загрузки библиотек и датасетов. Будем использовать pandas и библиотеки визуализации данных matplotlib и seaborn, а также phik для построения матрицы корреляции. Данные датасетов сохраним в отдельных переменных: `rest_df` и `price_df`"
   ]
  },
  {
   "cell_type": "code",
   "execution_count": 45,
   "metadata": {
    "colab": {
     "base_uri": "https://localhost:8080/"
    },
    "id": "W_W4jRazrJg0",
    "outputId": "d2409aad-233f-4bb4-ec71-7da96594f9df",
    "vscode": {
     "languageId": "plaintext"
    }
   },
   "outputs": [
    {
     "name": "stdout",
     "output_type": "stream",
     "text": [
      "Requirement already satisfied: phik in /opt/conda/lib/python3.9/site-packages (0.12.4)\n",
      "Requirement already satisfied: numpy>=1.18.0 in /opt/conda/lib/python3.9/site-packages (from phik) (1.21.1)\n",
      "Requirement already satisfied: scipy>=1.5.2 in /opt/conda/lib/python3.9/site-packages (from phik) (1.9.1)\n",
      "Requirement already satisfied: matplotlib>=2.2.3 in /opt/conda/lib/python3.9/site-packages (from phik) (3.3.4)\n",
      "Requirement already satisfied: joblib>=0.14.1 in /opt/conda/lib/python3.9/site-packages (from phik) (1.1.0)\n",
      "Requirement already satisfied: pandas>=0.25.1 in /opt/conda/lib/python3.9/site-packages (from phik) (1.2.4)\n",
      "Requirement already satisfied: pyparsing!=2.0.4,!=2.1.2,!=2.1.6,>=2.0.3 in /opt/conda/lib/python3.9/site-packages (from matplotlib>=2.2.3->phik) (2.4.7)\n",
      "Requirement already satisfied: cycler>=0.10 in /opt/conda/lib/python3.9/site-packages (from matplotlib>=2.2.3->phik) (0.11.0)\n",
      "Requirement already satisfied: kiwisolver>=1.0.1 in /opt/conda/lib/python3.9/site-packages (from matplotlib>=2.2.3->phik) (1.4.4)\n",
      "Requirement already satisfied: python-dateutil>=2.1 in /opt/conda/lib/python3.9/site-packages (from matplotlib>=2.2.3->phik) (2.8.1)\n",
      "Requirement already satisfied: pillow>=6.2.0 in /opt/conda/lib/python3.9/site-packages (from matplotlib>=2.2.3->phik) (8.4.0)\n",
      "Requirement already satisfied: pytz>=2017.3 in /opt/conda/lib/python3.9/site-packages (from pandas>=0.25.1->phik) (2021.1)\n",
      "Requirement already satisfied: six>=1.5 in /opt/conda/lib/python3.9/site-packages (from python-dateutil>=2.1->matplotlib>=2.2.3->phik) (1.16.0)\n"
     ]
    }
   ],
   "source": [
    "# Импортируем библиотеки\n",
    "import numpy as np\n",
    "import pandas as pd\n",
    "\n",
    "# Загружаем библиотеки для визуализации данных\n",
    "import matplotlib.pyplot as plt\n",
    "import seaborn as sns\n",
    "\n",
    "# Загружаем библиотеку для расчёта коэффициента корреляции phi_k\n",
    "!pip install phik\n",
    "from phik import phik_matrix"
   ]
  },
  {
   "cell_type": "code",
   "execution_count": 46,
   "metadata": {
    "id": "2Tm4Pk__Felf"
   },
   "outputs": [],
   "source": [
    "# Выгружаем данные в переменные\n",
    "car_df = pd.read_csv('https://code.s3.yandex.net/datasets/company_and_rounds.csv')\n",
    "acqui_df = pd.read_csv('https://code.s3.yandex.net/datasets/acquisition.csv')\n",
    "people_df = pd.read_csv('https://code.s3.yandex.net/datasets/people.csv')\n",
    "educ_df = pd.read_csv('https://code.s3.yandex.net/datasets/education.csv')\n",
    "degr_df = pd.read_csv('https://code.s3.yandex.net/datasets/degrees.csv')\n",
    "fund_df = pd.read_csv('https://code.s3.yandex.net/datasets/fund.csv')\n",
    "invest_df = pd.read_csv('https://code.s3.yandex.net/datasets/investment.csv')"
   ]
  },
  {
   "cell_type": "code",
   "execution_count": 47,
   "metadata": {
    "id": "oNqJ2qpRFebv"
   },
   "outputs": [
    {
     "data": {
      "text/plain": [
       "Index(['company  ID', 'name', 'category  code', 'status', 'founded  at',\n",
       "       'closed  at', 'domain', 'network  username', 'country  code',\n",
       "       'investment  rounds', 'funding  rounds', 'funding  total', 'milestones',\n",
       "       'funding  round  id', 'company  id', 'funded  at',\n",
       "       'funding  round  type', 'raised  amount', 'pre  money  valuation',\n",
       "       'participants', 'is  first  round', 'is  last  round'],\n",
       "      dtype='object')"
      ]
     },
     "execution_count": 47,
     "metadata": {},
     "output_type": "execute_result"
    }
   ],
   "source": [
    "# Выведем названия столбцов company_and_rounds\n",
    "car_df.columns"
   ]
  },
  {
   "cell_type": "code",
   "execution_count": 48,
   "metadata": {},
   "outputs": [
    {
     "data": {
      "text/plain": [
       "Index(['id', 'acquiring_company_id', 'acquired_company_id', 'term_code',\n",
       "       'price_amount', 'acquired_at'],\n",
       "      dtype='object')"
      ]
     },
     "execution_count": 48,
     "metadata": {},
     "output_type": "execute_result"
    }
   ],
   "source": [
    "# Выведем названия столбцов acquisition\n",
    "acqui_df.columns"
   ]
  },
  {
   "cell_type": "code",
   "execution_count": 49,
   "metadata": {},
   "outputs": [
    {
     "data": {
      "text/plain": [
       "Index(['id', 'first_name', 'last_name', 'company_id', 'network_username'], dtype='object')"
      ]
     },
     "execution_count": 49,
     "metadata": {},
     "output_type": "execute_result"
    }
   ],
   "source": [
    "# Выведем названия столбцов people\n",
    "people_df.columns"
   ]
  },
  {
   "cell_type": "code",
   "execution_count": 50,
   "metadata": {},
   "outputs": [
    {
     "data": {
      "text/plain": [
       "Index(['id', 'person_id', 'instituition', 'graduated_at'], dtype='object')"
      ]
     },
     "execution_count": 50,
     "metadata": {},
     "output_type": "execute_result"
    }
   ],
   "source": [
    "# Выведем названия столбцов education\n",
    "educ_df.columns"
   ]
  },
  {
   "cell_type": "code",
   "execution_count": 51,
   "metadata": {},
   "outputs": [
    {
     "data": {
      "text/plain": [
       "Index(['id', 'object_id', 'degree_type', 'subject'], dtype='object')"
      ]
     },
     "execution_count": 51,
     "metadata": {},
     "output_type": "execute_result"
    }
   ],
   "source": [
    "# Выведем названия столбцов degrees\n",
    "degr_df.columns"
   ]
  },
  {
   "cell_type": "markdown",
   "metadata": {},
   "source": [
    "Из всех датасетов только company_and_rounds нужно привести к стилю snake case"
   ]
  },
  {
   "cell_type": "code",
   "execution_count": 52,
   "metadata": {},
   "outputs": [],
   "source": [
    "car_df = car_df.rename(columns={'company  id': 'company_id_p'})"
   ]
  },
  {
   "cell_type": "code",
   "execution_count": 53,
   "metadata": {
    "scrolled": true
   },
   "outputs": [
    {
     "data": {
      "text/plain": [
       "Index(['company_id', 'name', 'category_code', 'status', 'founded_at',\n",
       "       'closed_at', 'domain', 'network_username', 'country_code',\n",
       "       'investment_rounds', 'funding_rounds', 'funding_total', 'milestones',\n",
       "       'funding_round_id', 'company_id_p', 'funded_at', 'funding_round_type',\n",
       "       'raised_amount', 'pre_money_valuation', 'participants',\n",
       "       'is_first_round', 'is_last_round'],\n",
       "      dtype='object')"
      ]
     },
     "execution_count": 53,
     "metadata": {},
     "output_type": "execute_result"
    }
   ],
   "source": [
    "# Приводим названия столбоцов к стилю snake case\n",
    "car_df.columns = car_df.columns.str.lower().str.replace('  ', '_')\n",
    "car_df.columns"
   ]
  },
  {
   "cell_type": "markdown",
   "metadata": {},
   "source": [
    "Познакомимся с данными — выведем первые строки методом `head()`, а информацию о датафрейме методом `info()`"
   ]
  },
  {
   "cell_type": "code",
   "execution_count": 54,
   "metadata": {},
   "outputs": [
    {
     "data": {
      "text/html": [
       "<div>\n",
       "<style scoped>\n",
       "    .dataframe tbody tr th:only-of-type {\n",
       "        vertical-align: middle;\n",
       "    }\n",
       "\n",
       "    .dataframe tbody tr th {\n",
       "        vertical-align: top;\n",
       "    }\n",
       "\n",
       "    .dataframe thead th {\n",
       "        text-align: right;\n",
       "    }\n",
       "</style>\n",
       "<table border=\"1\" class=\"dataframe\">\n",
       "  <thead>\n",
       "    <tr style=\"text-align: right;\">\n",
       "      <th></th>\n",
       "      <th>company_id</th>\n",
       "      <th>name</th>\n",
       "      <th>category_code</th>\n",
       "      <th>status</th>\n",
       "      <th>founded_at</th>\n",
       "      <th>closed_at</th>\n",
       "      <th>domain</th>\n",
       "      <th>network_username</th>\n",
       "      <th>country_code</th>\n",
       "      <th>investment_rounds</th>\n",
       "      <th>...</th>\n",
       "      <th>milestones</th>\n",
       "      <th>funding_round_id</th>\n",
       "      <th>company_id_p</th>\n",
       "      <th>funded_at</th>\n",
       "      <th>funding_round_type</th>\n",
       "      <th>raised_amount</th>\n",
       "      <th>pre_money_valuation</th>\n",
       "      <th>participants</th>\n",
       "      <th>is_first_round</th>\n",
       "      <th>is_last_round</th>\n",
       "    </tr>\n",
       "  </thead>\n",
       "  <tbody>\n",
       "    <tr>\n",
       "      <th>0</th>\n",
       "      <td>1.0</td>\n",
       "      <td>Wetpaint</td>\n",
       "      <td>web</td>\n",
       "      <td>operating</td>\n",
       "      <td>2005-10-17</td>\n",
       "      <td>NaN</td>\n",
       "      <td>wetpaint-inc.com</td>\n",
       "      <td>BachelrWetpaint</td>\n",
       "      <td>USA</td>\n",
       "      <td>0.0</td>\n",
       "      <td>...</td>\n",
       "      <td>5.0</td>\n",
       "      <td>888.0</td>\n",
       "      <td>1.0</td>\n",
       "      <td>2005-10-01</td>\n",
       "      <td>series-a</td>\n",
       "      <td>5250000.0</td>\n",
       "      <td>0.0</td>\n",
       "      <td>2.0</td>\n",
       "      <td>0.0</td>\n",
       "      <td>1.0</td>\n",
       "    </tr>\n",
       "    <tr>\n",
       "      <th>1</th>\n",
       "      <td>1.0</td>\n",
       "      <td>Wetpaint</td>\n",
       "      <td>web</td>\n",
       "      <td>operating</td>\n",
       "      <td>2005-10-17</td>\n",
       "      <td>NaN</td>\n",
       "      <td>wetpaint-inc.com</td>\n",
       "      <td>BachelrWetpaint</td>\n",
       "      <td>USA</td>\n",
       "      <td>0.0</td>\n",
       "      <td>...</td>\n",
       "      <td>5.0</td>\n",
       "      <td>889.0</td>\n",
       "      <td>1.0</td>\n",
       "      <td>2007-01-01</td>\n",
       "      <td>series-b</td>\n",
       "      <td>9500000.0</td>\n",
       "      <td>0.0</td>\n",
       "      <td>3.0</td>\n",
       "      <td>0.0</td>\n",
       "      <td>0.0</td>\n",
       "    </tr>\n",
       "    <tr>\n",
       "      <th>2</th>\n",
       "      <td>1.0</td>\n",
       "      <td>Wetpaint</td>\n",
       "      <td>web</td>\n",
       "      <td>operating</td>\n",
       "      <td>2005-10-17</td>\n",
       "      <td>NaN</td>\n",
       "      <td>wetpaint-inc.com</td>\n",
       "      <td>BachelrWetpaint</td>\n",
       "      <td>USA</td>\n",
       "      <td>0.0</td>\n",
       "      <td>...</td>\n",
       "      <td>5.0</td>\n",
       "      <td>2312.0</td>\n",
       "      <td>1.0</td>\n",
       "      <td>2008-05-19</td>\n",
       "      <td>series-c+</td>\n",
       "      <td>25000000.0</td>\n",
       "      <td>0.0</td>\n",
       "      <td>4.0</td>\n",
       "      <td>1.0</td>\n",
       "      <td>0.0</td>\n",
       "    </tr>\n",
       "    <tr>\n",
       "      <th>3</th>\n",
       "      <td>10.0</td>\n",
       "      <td>Flektor</td>\n",
       "      <td>games_video</td>\n",
       "      <td>acquired</td>\n",
       "      <td>NaN</td>\n",
       "      <td>NaN</td>\n",
       "      <td>flektor.com</td>\n",
       "      <td>NaN</td>\n",
       "      <td>USA</td>\n",
       "      <td>0.0</td>\n",
       "      <td>...</td>\n",
       "      <td>0.0</td>\n",
       "      <td>NaN</td>\n",
       "      <td>NaN</td>\n",
       "      <td>NaN</td>\n",
       "      <td>NaN</td>\n",
       "      <td>NaN</td>\n",
       "      <td>NaN</td>\n",
       "      <td>NaN</td>\n",
       "      <td>NaN</td>\n",
       "      <td>NaN</td>\n",
       "    </tr>\n",
       "    <tr>\n",
       "      <th>4</th>\n",
       "      <td>100.0</td>\n",
       "      <td>There</td>\n",
       "      <td>games_video</td>\n",
       "      <td>acquired</td>\n",
       "      <td>NaN</td>\n",
       "      <td>NaN</td>\n",
       "      <td>there.com</td>\n",
       "      <td>NaN</td>\n",
       "      <td>USA</td>\n",
       "      <td>0.0</td>\n",
       "      <td>...</td>\n",
       "      <td>4.0</td>\n",
       "      <td>NaN</td>\n",
       "      <td>NaN</td>\n",
       "      <td>NaN</td>\n",
       "      <td>NaN</td>\n",
       "      <td>NaN</td>\n",
       "      <td>NaN</td>\n",
       "      <td>NaN</td>\n",
       "      <td>NaN</td>\n",
       "      <td>NaN</td>\n",
       "    </tr>\n",
       "  </tbody>\n",
       "</table>\n",
       "<p>5 rows × 22 columns</p>\n",
       "</div>"
      ],
      "text/plain": [
       "   company_id      name category_code     status  founded_at closed_at  \\\n",
       "0         1.0  Wetpaint           web  operating  2005-10-17       NaN   \n",
       "1         1.0  Wetpaint           web  operating  2005-10-17       NaN   \n",
       "2         1.0  Wetpaint           web  operating  2005-10-17       NaN   \n",
       "3        10.0   Flektor   games_video   acquired         NaN       NaN   \n",
       "4       100.0     There   games_video   acquired         NaN       NaN   \n",
       "\n",
       "             domain network_username country_code  investment_rounds  ...  \\\n",
       "0  wetpaint-inc.com  BachelrWetpaint          USA                0.0  ...   \n",
       "1  wetpaint-inc.com  BachelrWetpaint          USA                0.0  ...   \n",
       "2  wetpaint-inc.com  BachelrWetpaint          USA                0.0  ...   \n",
       "3       flektor.com              NaN          USA                0.0  ...   \n",
       "4         there.com              NaN          USA                0.0  ...   \n",
       "\n",
       "   milestones  funding_round_id  company_id_p   funded_at  funding_round_type  \\\n",
       "0         5.0             888.0           1.0  2005-10-01            series-a   \n",
       "1         5.0             889.0           1.0  2007-01-01            series-b   \n",
       "2         5.0            2312.0           1.0  2008-05-19           series-c+   \n",
       "3         0.0               NaN           NaN         NaN                 NaN   \n",
       "4         4.0               NaN           NaN         NaN                 NaN   \n",
       "\n",
       "  raised_amount pre_money_valuation  participants  is_first_round  \\\n",
       "0     5250000.0                 0.0           2.0             0.0   \n",
       "1     9500000.0                 0.0           3.0             0.0   \n",
       "2    25000000.0                 0.0           4.0             1.0   \n",
       "3           NaN                 NaN           NaN             NaN   \n",
       "4           NaN                 NaN           NaN             NaN   \n",
       "\n",
       "   is_last_round  \n",
       "0            1.0  \n",
       "1            0.0  \n",
       "2            0.0  \n",
       "3            NaN  \n",
       "4            NaN  \n",
       "\n",
       "[5 rows x 22 columns]"
      ]
     },
     "execution_count": 54,
     "metadata": {},
     "output_type": "execute_result"
    }
   ],
   "source": [
    "# Выводим первые строки датафрейма на экран\n",
    "car_df.head()"
   ]
  },
  {
   "cell_type": "code",
   "execution_count": 55,
   "metadata": {},
   "outputs": [
    {
     "name": "stdout",
     "output_type": "stream",
     "text": [
      "<class 'pandas.core.frame.DataFrame'>\n",
      "RangeIndex: 217774 entries, 0 to 217773\n",
      "Data columns (total 22 columns):\n",
      " #   Column               Non-Null Count   Dtype  \n",
      "---  ------               --------------   -----  \n",
      " 0   company_id           217472 non-null  float64\n",
      " 1   name                 217472 non-null  object \n",
      " 2   category_code        143886 non-null  object \n",
      " 3   status               217472 non-null  object \n",
      " 4   founded_at           109956 non-null  object \n",
      " 5   closed_at            3449 non-null    object \n",
      " 6   domain               147159 non-null  object \n",
      " 7   network_username     95534 non-null   object \n",
      " 8   country_code         108607 non-null  object \n",
      " 9   investment_rounds    217472 non-null  float64\n",
      " 10  funding_rounds       217472 non-null  float64\n",
      " 11  funding_total        217472 non-null  float64\n",
      " 12  milestones           217472 non-null  float64\n",
      " 13  funding_round_id     52928 non-null   float64\n",
      " 14  company_id_p         52928 non-null   float64\n",
      " 15  funded_at            52680 non-null   object \n",
      " 16  funding_round_type   52928 non-null   object \n",
      " 17  raised_amount        52928 non-null   float64\n",
      " 18  pre_money_valuation  52928 non-null   float64\n",
      " 19  participants         52928 non-null   float64\n",
      " 20  is_first_round       52928 non-null   float64\n",
      " 21  is_last_round        52928 non-null   float64\n",
      "dtypes: float64(12), object(10)\n",
      "memory usage: 36.6+ MB\n"
     ]
    }
   ],
   "source": [
    "# Выводим информацию о датафрейме\n",
    "car_df.info()"
   ]
  },
  {
   "cell_type": "markdown",
   "metadata": {},
   "source": [
    "Датасет содержит 22 столбца и 217774 строк.\n",
    "\n",
    "Выводы первичного анализа:\n",
    "- Данные хранятся в типах `float64`, `object`;\n",
    "- Столбцы `milestones`, `participants`, `is_first_round`, `is_last_round` — можно оптимизировать по размерности данных;\n",
    "- Столбцы `founded_at`, `funded_at` — можно привести к типу `datetime64`;\n",
    "- Столбцы `name`, `network_username` — приведём к нижнему регистру;\n",
    "- По первому анализу данные в столбцах соответствуют названию."
   ]
  },
  {
   "cell_type": "code",
   "execution_count": 56,
   "metadata": {},
   "outputs": [
    {
     "data": {
      "text/html": [
       "<div>\n",
       "<style scoped>\n",
       "    .dataframe tbody tr th:only-of-type {\n",
       "        vertical-align: middle;\n",
       "    }\n",
       "\n",
       "    .dataframe tbody tr th {\n",
       "        vertical-align: top;\n",
       "    }\n",
       "\n",
       "    .dataframe thead th {\n",
       "        text-align: right;\n",
       "    }\n",
       "</style>\n",
       "<table border=\"1\" class=\"dataframe\">\n",
       "  <thead>\n",
       "    <tr style=\"text-align: right;\">\n",
       "      <th></th>\n",
       "      <th>id</th>\n",
       "      <th>acquiring_company_id</th>\n",
       "      <th>acquired_company_id</th>\n",
       "      <th>term_code</th>\n",
       "      <th>price_amount</th>\n",
       "      <th>acquired_at</th>\n",
       "    </tr>\n",
       "  </thead>\n",
       "  <tbody>\n",
       "    <tr>\n",
       "      <th>0</th>\n",
       "      <td>1</td>\n",
       "      <td>11</td>\n",
       "      <td>10</td>\n",
       "      <td>NaN</td>\n",
       "      <td>20000000</td>\n",
       "      <td>2007-05-30</td>\n",
       "    </tr>\n",
       "    <tr>\n",
       "      <th>1</th>\n",
       "      <td>7</td>\n",
       "      <td>59</td>\n",
       "      <td>72</td>\n",
       "      <td>cash</td>\n",
       "      <td>60000000</td>\n",
       "      <td>2007-07-01</td>\n",
       "    </tr>\n",
       "    <tr>\n",
       "      <th>2</th>\n",
       "      <td>8</td>\n",
       "      <td>24</td>\n",
       "      <td>132</td>\n",
       "      <td>cash</td>\n",
       "      <td>280000000</td>\n",
       "      <td>2007-05-01</td>\n",
       "    </tr>\n",
       "    <tr>\n",
       "      <th>3</th>\n",
       "      <td>9</td>\n",
       "      <td>59</td>\n",
       "      <td>155</td>\n",
       "      <td>cash</td>\n",
       "      <td>100000000</td>\n",
       "      <td>2007-06-01</td>\n",
       "    </tr>\n",
       "    <tr>\n",
       "      <th>4</th>\n",
       "      <td>10</td>\n",
       "      <td>212</td>\n",
       "      <td>215</td>\n",
       "      <td>cash</td>\n",
       "      <td>25000000</td>\n",
       "      <td>2007-07-01</td>\n",
       "    </tr>\n",
       "  </tbody>\n",
       "</table>\n",
       "</div>"
      ],
      "text/plain": [
       "   id  acquiring_company_id  acquired_company_id term_code  price_amount  \\\n",
       "0   1                    11                   10       NaN      20000000   \n",
       "1   7                    59                   72      cash      60000000   \n",
       "2   8                    24                  132      cash     280000000   \n",
       "3   9                    59                  155      cash     100000000   \n",
       "4  10                   212                  215      cash      25000000   \n",
       "\n",
       "  acquired_at  \n",
       "0  2007-05-30  \n",
       "1  2007-07-01  \n",
       "2  2007-05-01  \n",
       "3  2007-06-01  \n",
       "4  2007-07-01  "
      ]
     },
     "execution_count": 56,
     "metadata": {},
     "output_type": "execute_result"
    }
   ],
   "source": [
    "# Выводим первые строки датафрейма на экран\n",
    "acqui_df.head()"
   ]
  },
  {
   "cell_type": "code",
   "execution_count": 57,
   "metadata": {},
   "outputs": [
    {
     "name": "stdout",
     "output_type": "stream",
     "text": [
      "<class 'pandas.core.frame.DataFrame'>\n",
      "RangeIndex: 9407 entries, 0 to 9406\n",
      "Data columns (total 6 columns):\n",
      " #   Column                Non-Null Count  Dtype \n",
      "---  ------                --------------  ----- \n",
      " 0   id                    9407 non-null   int64 \n",
      " 1   acquiring_company_id  9407 non-null   int64 \n",
      " 2   acquired_company_id   9407 non-null   int64 \n",
      " 3   term_code             1831 non-null   object\n",
      " 4   price_amount          9407 non-null   int64 \n",
      " 5   acquired_at           9378 non-null   object\n",
      "dtypes: int64(4), object(2)\n",
      "memory usage: 441.1+ KB\n"
     ]
    }
   ],
   "source": [
    "# Выводим информацию о датафрейме\n",
    "acqui_df.info()"
   ]
  },
  {
   "cell_type": "markdown",
   "metadata": {},
   "source": [
    "Датасет содержит 6 столбцов и 9407 строк.\n",
    "\n",
    "Выводы первичного анализа:\n",
    "- Данные хранятся в типах `int64`, `object`;\n",
    "- Столбцы `id`, `acquiring_company_id`, `acquired_company_id` — можно оптимизировать по размерности данных;\n",
    "- Столбец `acquired_at` — можно привести к типу `datetime64`\n",
    "- По первому анализу данные в столбцах соответствуют названию."
   ]
  },
  {
   "cell_type": "code",
   "execution_count": 58,
   "metadata": {},
   "outputs": [
    {
     "data": {
      "text/html": [
       "<div>\n",
       "<style scoped>\n",
       "    .dataframe tbody tr th:only-of-type {\n",
       "        vertical-align: middle;\n",
       "    }\n",
       "\n",
       "    .dataframe tbody tr th {\n",
       "        vertical-align: top;\n",
       "    }\n",
       "\n",
       "    .dataframe thead th {\n",
       "        text-align: right;\n",
       "    }\n",
       "</style>\n",
       "<table border=\"1\" class=\"dataframe\">\n",
       "  <thead>\n",
       "    <tr style=\"text-align: right;\">\n",
       "      <th></th>\n",
       "      <th>id</th>\n",
       "      <th>first_name</th>\n",
       "      <th>last_name</th>\n",
       "      <th>company_id</th>\n",
       "      <th>network_username</th>\n",
       "    </tr>\n",
       "  </thead>\n",
       "  <tbody>\n",
       "    <tr>\n",
       "      <th>0</th>\n",
       "      <td>10</td>\n",
       "      <td>Mark</td>\n",
       "      <td>Zuckerberg</td>\n",
       "      <td>5.0</td>\n",
       "      <td>NaN</td>\n",
       "    </tr>\n",
       "    <tr>\n",
       "      <th>1</th>\n",
       "      <td>100</td>\n",
       "      <td>Peter</td>\n",
       "      <td>Lester</td>\n",
       "      <td>27.0</td>\n",
       "      <td>NaN</td>\n",
       "    </tr>\n",
       "    <tr>\n",
       "      <th>2</th>\n",
       "      <td>1000</td>\n",
       "      <td>Dr. Steven</td>\n",
       "      <td>E. Saunders</td>\n",
       "      <td>292.0</td>\n",
       "      <td>NaN</td>\n",
       "    </tr>\n",
       "    <tr>\n",
       "      <th>3</th>\n",
       "      <td>10000</td>\n",
       "      <td>Neil</td>\n",
       "      <td>Capel</td>\n",
       "      <td>2526.0</td>\n",
       "      <td>NaN</td>\n",
       "    </tr>\n",
       "    <tr>\n",
       "      <th>4</th>\n",
       "      <td>100000</td>\n",
       "      <td>Sue</td>\n",
       "      <td>Pilsch</td>\n",
       "      <td>NaN</td>\n",
       "      <td>NaN</td>\n",
       "    </tr>\n",
       "  </tbody>\n",
       "</table>\n",
       "</div>"
      ],
      "text/plain": [
       "       id  first_name    last_name  company_id network_username\n",
       "0      10        Mark   Zuckerberg         5.0              NaN\n",
       "1     100       Peter       Lester        27.0              NaN\n",
       "2    1000  Dr. Steven  E. Saunders       292.0              NaN\n",
       "3   10000        Neil        Capel      2526.0              NaN\n",
       "4  100000         Sue       Pilsch         NaN              NaN"
      ]
     },
     "execution_count": 58,
     "metadata": {},
     "output_type": "execute_result"
    }
   ],
   "source": [
    "# Выводим первые строки датафрейма на экран\n",
    "people_df.head()"
   ]
  },
  {
   "cell_type": "code",
   "execution_count": 59,
   "metadata": {},
   "outputs": [
    {
     "name": "stdout",
     "output_type": "stream",
     "text": [
      "<class 'pandas.core.frame.DataFrame'>\n",
      "RangeIndex: 226709 entries, 0 to 226708\n",
      "Data columns (total 5 columns):\n",
      " #   Column            Non-Null Count   Dtype  \n",
      "---  ------            --------------   -----  \n",
      " 0   id                226709 non-null  int64  \n",
      " 1   first_name        226704 non-null  object \n",
      " 2   last_name         226708 non-null  object \n",
      " 3   company_id        34615 non-null   float64\n",
      " 4   network_username  38867 non-null   object \n",
      "dtypes: float64(1), int64(1), object(3)\n",
      "memory usage: 8.6+ MB\n"
     ]
    }
   ],
   "source": [
    "# Выводим информацию о датафрейме\n",
    "people_df.info()"
   ]
  },
  {
   "cell_type": "markdown",
   "metadata": {},
   "source": [
    "Датасет содержит 6 столбцов и 226709 строк.\n",
    "\n",
    "Выводы первичного анализа:\n",
    "- Данные хранятся в типах `float64`, `int64`, `object`;\n",
    "- Столбцы `first_name`, `last_name`, `network_username` — приведём к нижнему регистру;\n",
    "- По первому анализу данные в столбцах соответствуют названию."
   ]
  },
  {
   "cell_type": "code",
   "execution_count": 60,
   "metadata": {},
   "outputs": [
    {
     "data": {
      "text/html": [
       "<div>\n",
       "<style scoped>\n",
       "    .dataframe tbody tr th:only-of-type {\n",
       "        vertical-align: middle;\n",
       "    }\n",
       "\n",
       "    .dataframe tbody tr th {\n",
       "        vertical-align: top;\n",
       "    }\n",
       "\n",
       "    .dataframe thead th {\n",
       "        text-align: right;\n",
       "    }\n",
       "</style>\n",
       "<table border=\"1\" class=\"dataframe\">\n",
       "  <thead>\n",
       "    <tr style=\"text-align: right;\">\n",
       "      <th></th>\n",
       "      <th>id</th>\n",
       "      <th>person_id</th>\n",
       "      <th>instituition</th>\n",
       "      <th>graduated_at</th>\n",
       "    </tr>\n",
       "  </thead>\n",
       "  <tbody>\n",
       "    <tr>\n",
       "      <th>0</th>\n",
       "      <td>1</td>\n",
       "      <td>6117</td>\n",
       "      <td>NaN</td>\n",
       "      <td>NaN</td>\n",
       "    </tr>\n",
       "    <tr>\n",
       "      <th>1</th>\n",
       "      <td>2</td>\n",
       "      <td>6136</td>\n",
       "      <td>Washington University, St. Louis</td>\n",
       "      <td>1990-01-01</td>\n",
       "    </tr>\n",
       "    <tr>\n",
       "      <th>2</th>\n",
       "      <td>3</td>\n",
       "      <td>6136</td>\n",
       "      <td>Boston University</td>\n",
       "      <td>1992-01-01</td>\n",
       "    </tr>\n",
       "    <tr>\n",
       "      <th>3</th>\n",
       "      <td>4</td>\n",
       "      <td>6005</td>\n",
       "      <td>University of Greenwich</td>\n",
       "      <td>2006-01-01</td>\n",
       "    </tr>\n",
       "    <tr>\n",
       "      <th>4</th>\n",
       "      <td>5</td>\n",
       "      <td>5832</td>\n",
       "      <td>Rice University</td>\n",
       "      <td>NaN</td>\n",
       "    </tr>\n",
       "  </tbody>\n",
       "</table>\n",
       "</div>"
      ],
      "text/plain": [
       "   id  person_id                      instituition graduated_at\n",
       "0   1       6117                               NaN          NaN\n",
       "1   2       6136  Washington University, St. Louis   1990-01-01\n",
       "2   3       6136                 Boston University   1992-01-01\n",
       "3   4       6005           University of Greenwich   2006-01-01\n",
       "4   5       5832                   Rice University          NaN"
      ]
     },
     "execution_count": 60,
     "metadata": {},
     "output_type": "execute_result"
    }
   ],
   "source": [
    "# Выводим первые строки датафрейма на экран\n",
    "educ_df.head()"
   ]
  },
  {
   "cell_type": "code",
   "execution_count": 61,
   "metadata": {},
   "outputs": [
    {
     "name": "stdout",
     "output_type": "stream",
     "text": [
      "<class 'pandas.core.frame.DataFrame'>\n",
      "RangeIndex: 109610 entries, 0 to 109609\n",
      "Data columns (total 4 columns):\n",
      " #   Column        Non-Null Count   Dtype \n",
      "---  ------        --------------   ----- \n",
      " 0   id            109610 non-null  int64 \n",
      " 1   person_id     109610 non-null  int64 \n",
      " 2   instituition  109555 non-null  object\n",
      " 3   graduated_at  58054 non-null   object\n",
      "dtypes: int64(2), object(2)\n",
      "memory usage: 3.3+ MB\n"
     ]
    }
   ],
   "source": [
    "# Выводим информацию о датафрейме\n",
    "educ_df.info()"
   ]
  },
  {
   "cell_type": "markdown",
   "metadata": {},
   "source": [
    "Датасет содержит 4 столбца и 109610 строк.\n",
    "\n",
    "Выводы первичного анализа:\n",
    "- Данные хранятся в типах `int64`, `object`;\n",
    "- Столбцы `id`, `person_id` — можно оптимизировать по размерности данных;\n",
    "- Столбец `graduated_at` — можно привести к типу `datetime64`;\n",
    "- Столбец `instituition` — приведём к нижнему регистру;\n",
    "- По первому анализу данные в столбцах соответствуют названию."
   ]
  },
  {
   "cell_type": "code",
   "execution_count": 62,
   "metadata": {},
   "outputs": [
    {
     "data": {
      "text/html": [
       "<div>\n",
       "<style scoped>\n",
       "    .dataframe tbody tr th:only-of-type {\n",
       "        vertical-align: middle;\n",
       "    }\n",
       "\n",
       "    .dataframe tbody tr th {\n",
       "        vertical-align: top;\n",
       "    }\n",
       "\n",
       "    .dataframe thead th {\n",
       "        text-align: right;\n",
       "    }\n",
       "</style>\n",
       "<table border=\"1\" class=\"dataframe\">\n",
       "  <thead>\n",
       "    <tr style=\"text-align: right;\">\n",
       "      <th></th>\n",
       "      <th>id</th>\n",
       "      <th>object_id</th>\n",
       "      <th>degree_type</th>\n",
       "      <th>subject</th>\n",
       "    </tr>\n",
       "  </thead>\n",
       "  <tbody>\n",
       "    <tr>\n",
       "      <th>0</th>\n",
       "      <td>1</td>\n",
       "      <td>p:6117</td>\n",
       "      <td>MBA</td>\n",
       "      <td>NaN</td>\n",
       "    </tr>\n",
       "    <tr>\n",
       "      <th>1</th>\n",
       "      <td>2</td>\n",
       "      <td>p:6136</td>\n",
       "      <td>BA</td>\n",
       "      <td>English, French</td>\n",
       "    </tr>\n",
       "    <tr>\n",
       "      <th>2</th>\n",
       "      <td>3</td>\n",
       "      <td>p:6136</td>\n",
       "      <td>MS</td>\n",
       "      <td>Mass Communication</td>\n",
       "    </tr>\n",
       "    <tr>\n",
       "      <th>3</th>\n",
       "      <td>4</td>\n",
       "      <td>p:6005</td>\n",
       "      <td>MS</td>\n",
       "      <td>Internet Technology</td>\n",
       "    </tr>\n",
       "    <tr>\n",
       "      <th>4</th>\n",
       "      <td>5</td>\n",
       "      <td>p:5832</td>\n",
       "      <td>BCS</td>\n",
       "      <td>Computer Science, Psychology</td>\n",
       "    </tr>\n",
       "  </tbody>\n",
       "</table>\n",
       "</div>"
      ],
      "text/plain": [
       "   id object_id degree_type                       subject\n",
       "0   1    p:6117         MBA                           NaN\n",
       "1   2    p:6136          BA               English, French\n",
       "2   3    p:6136          MS            Mass Communication\n",
       "3   4    p:6005          MS           Internet Technology\n",
       "4   5    p:5832         BCS  Computer Science, Psychology"
      ]
     },
     "execution_count": 62,
     "metadata": {},
     "output_type": "execute_result"
    }
   ],
   "source": [
    "# Выводим первые строки датафрейма на экран\n",
    "degr_df.head()"
   ]
  },
  {
   "cell_type": "code",
   "execution_count": 63,
   "metadata": {},
   "outputs": [
    {
     "name": "stdout",
     "output_type": "stream",
     "text": [
      "<class 'pandas.core.frame.DataFrame'>\n",
      "RangeIndex: 109610 entries, 0 to 109609\n",
      "Data columns (total 4 columns):\n",
      " #   Column       Non-Null Count   Dtype \n",
      "---  ------       --------------   ----- \n",
      " 0   id           109610 non-null  int64 \n",
      " 1   object_id    109610 non-null  object\n",
      " 2   degree_type  98392 non-null   object\n",
      " 3   subject      81298 non-null   object\n",
      "dtypes: int64(1), object(3)\n",
      "memory usage: 3.3+ MB\n"
     ]
    }
   ],
   "source": [
    "# Выводим информацию о датафрейме\n",
    "degr_df.info()"
   ]
  },
  {
   "cell_type": "markdown",
   "metadata": {},
   "source": [
    "Датасет содержит 4 столбца и 109610 строк.\n",
    "\n",
    "Выводы первичного анализа:\n",
    "- Столбец `id` — можно оптимизировать по размерности данных;\n",
    "- Столбец `subject` — приведём к нижнему регистру;\n",
    "- По первому анализу данные в столбцах соответствуют названию."
   ]
  },
  {
   "cell_type": "code",
   "execution_count": 64,
   "metadata": {},
   "outputs": [
    {
     "data": {
      "text/html": [
       "<div>\n",
       "<style scoped>\n",
       "    .dataframe tbody tr th:only-of-type {\n",
       "        vertical-align: middle;\n",
       "    }\n",
       "\n",
       "    .dataframe tbody tr th {\n",
       "        vertical-align: top;\n",
       "    }\n",
       "\n",
       "    .dataframe thead th {\n",
       "        text-align: right;\n",
       "    }\n",
       "</style>\n",
       "<table border=\"1\" class=\"dataframe\">\n",
       "  <thead>\n",
       "    <tr style=\"text-align: right;\">\n",
       "      <th></th>\n",
       "      <th>id</th>\n",
       "      <th>name</th>\n",
       "      <th>founded_at</th>\n",
       "      <th>domain</th>\n",
       "      <th>network_username</th>\n",
       "      <th>country_code</th>\n",
       "      <th>investment_rounds</th>\n",
       "      <th>invested_companies</th>\n",
       "      <th>milestones</th>\n",
       "    </tr>\n",
       "  </thead>\n",
       "  <tbody>\n",
       "    <tr>\n",
       "      <th>0</th>\n",
       "      <td>13131</td>\n",
       "      <td>NaN</td>\n",
       "      <td>NaN</td>\n",
       "      <td>NaN</td>\n",
       "      <td>NaN</td>\n",
       "      <td>NaN</td>\n",
       "      <td>0</td>\n",
       "      <td>0</td>\n",
       "      <td>0</td>\n",
       "    </tr>\n",
       "    <tr>\n",
       "      <th>1</th>\n",
       "      <td>1</td>\n",
       "      <td>Greylock Partners</td>\n",
       "      <td>1965-01-01</td>\n",
       "      <td>greylock.com</td>\n",
       "      <td>greylockvc</td>\n",
       "      <td>USA</td>\n",
       "      <td>307</td>\n",
       "      <td>196</td>\n",
       "      <td>0</td>\n",
       "    </tr>\n",
       "    <tr>\n",
       "      <th>2</th>\n",
       "      <td>10</td>\n",
       "      <td>Mission Ventures</td>\n",
       "      <td>1996-01-01</td>\n",
       "      <td>missionventures.com</td>\n",
       "      <td>NaN</td>\n",
       "      <td>USA</td>\n",
       "      <td>58</td>\n",
       "      <td>33</td>\n",
       "      <td>0</td>\n",
       "    </tr>\n",
       "    <tr>\n",
       "      <th>3</th>\n",
       "      <td>100</td>\n",
       "      <td>Kapor Enterprises, Inc.</td>\n",
       "      <td>NaN</td>\n",
       "      <td>kei.com</td>\n",
       "      <td>NaN</td>\n",
       "      <td>USA</td>\n",
       "      <td>2</td>\n",
       "      <td>1</td>\n",
       "      <td>0</td>\n",
       "    </tr>\n",
       "    <tr>\n",
       "      <th>4</th>\n",
       "      <td>1000</td>\n",
       "      <td>Speed Ventures</td>\n",
       "      <td>NaN</td>\n",
       "      <td>NaN</td>\n",
       "      <td>NaN</td>\n",
       "      <td>NaN</td>\n",
       "      <td>0</td>\n",
       "      <td>0</td>\n",
       "      <td>1</td>\n",
       "    </tr>\n",
       "  </tbody>\n",
       "</table>\n",
       "</div>"
      ],
      "text/plain": [
       "      id                     name  founded_at               domain  \\\n",
       "0  13131                      NaN         NaN                  NaN   \n",
       "1      1        Greylock Partners  1965-01-01         greylock.com   \n",
       "2     10         Mission Ventures  1996-01-01  missionventures.com   \n",
       "3    100  Kapor Enterprises, Inc.         NaN              kei.com   \n",
       "4   1000           Speed Ventures         NaN                  NaN   \n",
       "\n",
       "  network_username country_code  investment_rounds  invested_companies  \\\n",
       "0              NaN          NaN                  0                   0   \n",
       "1       greylockvc          USA                307                 196   \n",
       "2              NaN          USA                 58                  33   \n",
       "3              NaN          USA                  2                   1   \n",
       "4              NaN          NaN                  0                   0   \n",
       "\n",
       "   milestones  \n",
       "0           0  \n",
       "1           0  \n",
       "2           0  \n",
       "3           0  \n",
       "4           1  "
      ]
     },
     "execution_count": 64,
     "metadata": {},
     "output_type": "execute_result"
    }
   ],
   "source": [
    "# Выводим первые строки датафрейма на экран\n",
    "fund_df.head()"
   ]
  },
  {
   "cell_type": "code",
   "execution_count": 65,
   "metadata": {},
   "outputs": [
    {
     "name": "stdout",
     "output_type": "stream",
     "text": [
      "<class 'pandas.core.frame.DataFrame'>\n",
      "RangeIndex: 11652 entries, 0 to 11651\n",
      "Data columns (total 9 columns):\n",
      " #   Column              Non-Null Count  Dtype \n",
      "---  ------              --------------  ----- \n",
      " 0   id                  11652 non-null  int64 \n",
      " 1   name                11650 non-null  object\n",
      " 2   founded_at          4605 non-null   object\n",
      " 3   domain              7362 non-null   object\n",
      " 4   network_username    2149 non-null   object\n",
      " 5   country_code        7053 non-null   object\n",
      " 6   investment_rounds   11652 non-null  int64 \n",
      " 7   invested_companies  11652 non-null  int64 \n",
      " 8   milestones          11652 non-null  int64 \n",
      "dtypes: int64(4), object(5)\n",
      "memory usage: 819.4+ KB\n"
     ]
    }
   ],
   "source": [
    "# Выводим информацию о датафрейме\n",
    "fund_df.info()"
   ]
  },
  {
   "cell_type": "markdown",
   "metadata": {},
   "source": [
    "Датасет содержит 11652 строки и 9 столбцов"
   ]
  },
  {
   "cell_type": "code",
   "execution_count": 66,
   "metadata": {},
   "outputs": [
    {
     "data": {
      "text/html": [
       "<div>\n",
       "<style scoped>\n",
       "    .dataframe tbody tr th:only-of-type {\n",
       "        vertical-align: middle;\n",
       "    }\n",
       "\n",
       "    .dataframe tbody tr th {\n",
       "        vertical-align: top;\n",
       "    }\n",
       "\n",
       "    .dataframe thead th {\n",
       "        text-align: right;\n",
       "    }\n",
       "</style>\n",
       "<table border=\"1\" class=\"dataframe\">\n",
       "  <thead>\n",
       "    <tr style=\"text-align: right;\">\n",
       "      <th></th>\n",
       "      <th>id</th>\n",
       "      <th>funding_round_id</th>\n",
       "      <th>company_id</th>\n",
       "      <th>fund_id</th>\n",
       "    </tr>\n",
       "  </thead>\n",
       "  <tbody>\n",
       "    <tr>\n",
       "      <th>0</th>\n",
       "      <td>1</td>\n",
       "      <td>1</td>\n",
       "      <td>4</td>\n",
       "      <td>1</td>\n",
       "    </tr>\n",
       "    <tr>\n",
       "      <th>1</th>\n",
       "      <td>2</td>\n",
       "      <td>1</td>\n",
       "      <td>4</td>\n",
       "      <td>2</td>\n",
       "    </tr>\n",
       "    <tr>\n",
       "      <th>2</th>\n",
       "      <td>3</td>\n",
       "      <td>3</td>\n",
       "      <td>5</td>\n",
       "      <td>4</td>\n",
       "    </tr>\n",
       "    <tr>\n",
       "      <th>3</th>\n",
       "      <td>4</td>\n",
       "      <td>4</td>\n",
       "      <td>5</td>\n",
       "      <td>1</td>\n",
       "    </tr>\n",
       "    <tr>\n",
       "      <th>4</th>\n",
       "      <td>5</td>\n",
       "      <td>4</td>\n",
       "      <td>5</td>\n",
       "      <td>5</td>\n",
       "    </tr>\n",
       "  </tbody>\n",
       "</table>\n",
       "</div>"
      ],
      "text/plain": [
       "   id  funding_round_id  company_id  fund_id\n",
       "0   1                 1           4        1\n",
       "1   2                 1           4        2\n",
       "2   3                 3           5        4\n",
       "3   4                 4           5        1\n",
       "4   5                 4           5        5"
      ]
     },
     "execution_count": 66,
     "metadata": {},
     "output_type": "execute_result"
    }
   ],
   "source": [
    "# Выводим первые строки датафрейма на экран\n",
    "invest_df.head()"
   ]
  },
  {
   "cell_type": "code",
   "execution_count": 67,
   "metadata": {},
   "outputs": [
    {
     "name": "stdout",
     "output_type": "stream",
     "text": [
      "<class 'pandas.core.frame.DataFrame'>\n",
      "RangeIndex: 61403 entries, 0 to 61402\n",
      "Data columns (total 4 columns):\n",
      " #   Column            Non-Null Count  Dtype\n",
      "---  ------            --------------  -----\n",
      " 0   id                61403 non-null  int64\n",
      " 1   funding_round_id  61403 non-null  int64\n",
      " 2   company_id        61403 non-null  int64\n",
      " 3   fund_id           61403 non-null  int64\n",
      "dtypes: int64(4)\n",
      "memory usage: 1.9 MB\n"
     ]
    }
   ],
   "source": [
    "# Выводим информацию о датафрейме\n",
    "invest_df.info()"
   ]
  },
  {
   "cell_type": "markdown",
   "metadata": {},
   "source": [
    "Датасет содержит 61403 строки и 4 столбца"
   ]
  },
  {
   "cell_type": "markdown",
   "metadata": {
    "id": "mg2gEwh0rJg0"
   },
   "source": [
    "### Смена типов и анализ пропусков\n",
    "\n",
    "#### Смена типов"
   ]
  },
  {
   "cell_type": "code",
   "execution_count": 68,
   "metadata": {
    "id": "FsL0A8RBrJg1",
    "vscode": {
     "languageId": "plaintext"
    }
   },
   "outputs": [],
   "source": [
    "# Оптимизируем тип данных в car_df\n",
    "car_df['milestones'] = pd.to_numeric(car_df['milestones'], downcast='float')\n",
    "car_df['participants'] = pd.to_numeric(car_df['participants'], downcast='float')\n",
    "car_df['is_first_round'] = pd.to_numeric(car_df['is_first_round'], downcast='float')\n",
    "car_df['is_last_round'] = pd.to_numeric(car_df['is_last_round'], downcast='float')"
   ]
  },
  {
   "cell_type": "code",
   "execution_count": 69,
   "metadata": {
    "id": "46VskrGyFeJ-"
   },
   "outputs": [
    {
     "data": {
      "text/plain": [
       "company_id                    float64\n",
       "name                           object\n",
       "category_code                  object\n",
       "status                         object\n",
       "founded_at             datetime64[ns]\n",
       "closed_at                      object\n",
       "domain                         object\n",
       "network_username               object\n",
       "country_code                   object\n",
       "investment_rounds             float64\n",
       "funding_rounds                float64\n",
       "funding_total                 float64\n",
       "milestones                    float32\n",
       "funding_round_id              float64\n",
       "company_id_p                  float64\n",
       "funded_at              datetime64[ns]\n",
       "funding_round_type             object\n",
       "raised_amount                 float64\n",
       "pre_money_valuation           float64\n",
       "participants                  float32\n",
       "is_first_round                float32\n",
       "is_last_round                 float32\n",
       "dtype: object"
      ]
     },
     "execution_count": 69,
     "metadata": {},
     "output_type": "execute_result"
    }
   ],
   "source": [
    "# Приведём столбцы к временному формату данных\n",
    "car_df['founded_at'] = car_df['founded_at'].astype('datetime64')\n",
    "car_df['funded_at'] = car_df['funded_at'].astype('datetime64')\n",
    "car_df.dtypes"
   ]
  },
  {
   "cell_type": "code",
   "execution_count": 70,
   "metadata": {
    "id": "DEg1tl8DFeBn"
   },
   "outputs": [
    {
     "data": {
      "text/html": [
       "<div>\n",
       "<style scoped>\n",
       "    .dataframe tbody tr th:only-of-type {\n",
       "        vertical-align: middle;\n",
       "    }\n",
       "\n",
       "    .dataframe tbody tr th {\n",
       "        vertical-align: top;\n",
       "    }\n",
       "\n",
       "    .dataframe thead th {\n",
       "        text-align: right;\n",
       "    }\n",
       "</style>\n",
       "<table border=\"1\" class=\"dataframe\">\n",
       "  <thead>\n",
       "    <tr style=\"text-align: right;\">\n",
       "      <th></th>\n",
       "      <th>name</th>\n",
       "      <th>network_username</th>\n",
       "    </tr>\n",
       "  </thead>\n",
       "  <tbody>\n",
       "    <tr>\n",
       "      <th>0</th>\n",
       "      <td>wetpaint</td>\n",
       "      <td>bachelrwetpaint</td>\n",
       "    </tr>\n",
       "    <tr>\n",
       "      <th>1</th>\n",
       "      <td>wetpaint</td>\n",
       "      <td>bachelrwetpaint</td>\n",
       "    </tr>\n",
       "    <tr>\n",
       "      <th>2</th>\n",
       "      <td>wetpaint</td>\n",
       "      <td>bachelrwetpaint</td>\n",
       "    </tr>\n",
       "    <tr>\n",
       "      <th>3</th>\n",
       "      <td>flektor</td>\n",
       "      <td>NaN</td>\n",
       "    </tr>\n",
       "    <tr>\n",
       "      <th>4</th>\n",
       "      <td>there</td>\n",
       "      <td>NaN</td>\n",
       "    </tr>\n",
       "  </tbody>\n",
       "</table>\n",
       "</div>"
      ],
      "text/plain": [
       "       name network_username\n",
       "0  wetpaint  bachelrwetpaint\n",
       "1  wetpaint  bachelrwetpaint\n",
       "2  wetpaint  bachelrwetpaint\n",
       "3   flektor              NaN\n",
       "4     there              NaN"
      ]
     },
     "execution_count": 70,
     "metadata": {},
     "output_type": "execute_result"
    }
   ],
   "source": [
    "# Приведём столбцы name и network_username к нижнему регистру\n",
    "car_df['name'] = car_df['name'].str.lower()\n",
    "car_df['network_username'] = car_df['network_username'].str.lower()\n",
    "\n",
    "# Выведем результат\n",
    "car_df[['name', 'network_username']].head()"
   ]
  },
  {
   "cell_type": "code",
   "execution_count": 71,
   "metadata": {},
   "outputs": [
    {
     "data": {
      "text/plain": [
       "id                               int16\n",
       "acquiring_company_id             int32\n",
       "acquired_company_id              int32\n",
       "term_code                       object\n",
       "price_amount                     int64\n",
       "acquired_at             datetime64[ns]\n",
       "dtype: object"
      ]
     },
     "execution_count": 71,
     "metadata": {},
     "output_type": "execute_result"
    }
   ],
   "source": [
    "# Оптимизируем тип данных в acqui_df\n",
    "acqui_df['id'] = pd.to_numeric(acqui_df['id'], downcast='integer')\n",
    "acqui_df['acquiring_company_id'] = pd.to_numeric(acqui_df['acquiring_company_id'], downcast='integer')\n",
    "acqui_df['acquired_company_id'] = pd.to_numeric(acqui_df['acquired_company_id'], downcast='integer')\n",
    "\n",
    "# Приведём столбец acquired_at к типу данных datetime64\n",
    "acqui_df['acquired_at'] = acqui_df['acquired_at'].astype('datetime64')\n",
    "\n",
    "# Выведем результат\n",
    "acqui_df.dtypes"
   ]
  },
  {
   "cell_type": "code",
   "execution_count": 72,
   "metadata": {},
   "outputs": [
    {
     "data": {
      "text/html": [
       "<div>\n",
       "<style scoped>\n",
       "    .dataframe tbody tr th:only-of-type {\n",
       "        vertical-align: middle;\n",
       "    }\n",
       "\n",
       "    .dataframe tbody tr th {\n",
       "        vertical-align: top;\n",
       "    }\n",
       "\n",
       "    .dataframe thead th {\n",
       "        text-align: right;\n",
       "    }\n",
       "</style>\n",
       "<table border=\"1\" class=\"dataframe\">\n",
       "  <thead>\n",
       "    <tr style=\"text-align: right;\">\n",
       "      <th></th>\n",
       "      <th>first_name</th>\n",
       "      <th>last_name</th>\n",
       "      <th>network_username</th>\n",
       "    </tr>\n",
       "  </thead>\n",
       "  <tbody>\n",
       "    <tr>\n",
       "      <th>0</th>\n",
       "      <td>mark</td>\n",
       "      <td>zuckerberg</td>\n",
       "      <td>NaN</td>\n",
       "    </tr>\n",
       "    <tr>\n",
       "      <th>1</th>\n",
       "      <td>peter</td>\n",
       "      <td>lester</td>\n",
       "      <td>NaN</td>\n",
       "    </tr>\n",
       "    <tr>\n",
       "      <th>2</th>\n",
       "      <td>dr. steven</td>\n",
       "      <td>e. saunders</td>\n",
       "      <td>NaN</td>\n",
       "    </tr>\n",
       "    <tr>\n",
       "      <th>3</th>\n",
       "      <td>neil</td>\n",
       "      <td>capel</td>\n",
       "      <td>NaN</td>\n",
       "    </tr>\n",
       "    <tr>\n",
       "      <th>4</th>\n",
       "      <td>sue</td>\n",
       "      <td>pilsch</td>\n",
       "      <td>NaN</td>\n",
       "    </tr>\n",
       "  </tbody>\n",
       "</table>\n",
       "</div>"
      ],
      "text/plain": [
       "   first_name    last_name network_username\n",
       "0        mark   zuckerberg              NaN\n",
       "1       peter       lester              NaN\n",
       "2  dr. steven  e. saunders              NaN\n",
       "3        neil        capel              NaN\n",
       "4         sue       pilsch              NaN"
      ]
     },
     "execution_count": 72,
     "metadata": {},
     "output_type": "execute_result"
    }
   ],
   "source": [
    "# Приведём столбцы first_name, last_name, network_username к нижнему регистру\n",
    "people_df['first_name'] = people_df['first_name'].str.lower()\n",
    "people_df['last_name'] = people_df['last_name'].str.lower()\n",
    "people_df['network_username'] = people_df['network_username'].str.lower()\n",
    "\n",
    "# Выведем результат\n",
    "people_df[['first_name', 'last_name', 'network_username']].head()"
   ]
  },
  {
   "cell_type": "code",
   "execution_count": 73,
   "metadata": {},
   "outputs": [
    {
     "data": {
      "text/plain": [
       "id                       int32\n",
       "person_id                int32\n",
       "instituition            object\n",
       "graduated_at    datetime64[ns]\n",
       "dtype: object"
      ]
     },
     "execution_count": 73,
     "metadata": {},
     "output_type": "execute_result"
    }
   ],
   "source": [
    "# Оптимизируем тип данных в educ_df\n",
    "educ_df['id'] = pd.to_numeric(educ_df['id'], downcast='integer')\n",
    "educ_df['person_id'] = pd.to_numeric(educ_df['person_id'], downcast='integer')\n",
    "\n",
    "# Приведём столбец graduated_at к типу datetime64\n",
    "educ_df['graduated_at'] = educ_df['graduated_at'].astype('datetime64')\n",
    "\n",
    "# Выведем результат\n",
    "educ_df.dtypes"
   ]
  },
  {
   "cell_type": "code",
   "execution_count": 74,
   "metadata": {},
   "outputs": [
    {
     "data": {
      "text/plain": [
       "0                                 NaN\n",
       "1    washington university, st. louis\n",
       "2                   boston university\n",
       "3             university of greenwich\n",
       "4                     rice university\n",
       "Name: instituition, dtype: object"
      ]
     },
     "execution_count": 74,
     "metadata": {},
     "output_type": "execute_result"
    }
   ],
   "source": [
    "# Приведём столбец instituition к нижнему регистру\n",
    "educ_df['instituition'] = educ_df['instituition'].str.lower()\n",
    "\n",
    "# Выведем результат\n",
    "educ_df['instituition'].head()"
   ]
  },
  {
   "cell_type": "code",
   "execution_count": 75,
   "metadata": {},
   "outputs": [
    {
     "data": {
      "text/plain": [
       "id              int32\n",
       "object_id      object\n",
       "degree_type    object\n",
       "subject        object\n",
       "dtype: object"
      ]
     },
     "execution_count": 75,
     "metadata": {},
     "output_type": "execute_result"
    }
   ],
   "source": [
    "# Оптимизируем тип данных в degr_df\n",
    "degr_df['id'] = pd.to_numeric(degr_df['id'], downcast='integer')\n",
    "\n",
    "# Выведем результат\n",
    "degr_df.dtypes"
   ]
  },
  {
   "cell_type": "code",
   "execution_count": 76,
   "metadata": {},
   "outputs": [
    {
     "data": {
      "text/plain": [
       "0                             NaN\n",
       "1                 english, french\n",
       "2              mass communication\n",
       "3             internet technology\n",
       "4    computer science, psychology\n",
       "Name: subject, dtype: object"
      ]
     },
     "execution_count": 76,
     "metadata": {},
     "output_type": "execute_result"
    }
   ],
   "source": [
    "# Приведём столбец instituition к нижнему регистру\n",
    "degr_df['subject'] = degr_df['subject'].str.lower()\n",
    "\n",
    "# Выведем результат\n",
    "degr_df['subject'].head()"
   ]
  },
  {
   "cell_type": "markdown",
   "metadata": {},
   "source": [
    "#### Анализ пропусков"
   ]
  },
  {
   "cell_type": "code",
   "execution_count": 77,
   "metadata": {
    "scrolled": false
   },
   "outputs": [
    {
     "name": "stdout",
     "output_type": "stream",
     "text": [
      "Количество пропусков в каждом столбце:\n",
      "company_id                302\n",
      "name                      302\n",
      "category_code           73888\n",
      "status                    302\n",
      "founded_at             107818\n",
      "closed_at              214325\n",
      "domain                  70615\n",
      "network_username       122240\n",
      "country_code           109167\n",
      "investment_rounds         302\n",
      "funding_rounds            302\n",
      "funding_total             302\n",
      "milestones                302\n",
      "funding_round_id       164846\n",
      "company_id_p           164846\n",
      "funded_at              165094\n",
      "funding_round_type     164846\n",
      "raised_amount          164846\n",
      "pre_money_valuation    164846\n",
      "participants           164846\n",
      "is_first_round         164846\n",
      "is_last_round          164846\n",
      "dtype: int64\n",
      "\n",
      "Доля пропусков в каждом столбце:\n",
      "company_id             0.001387\n",
      "name                   0.001387\n",
      "category_code          0.339288\n",
      "status                 0.001387\n",
      "founded_at             0.495091\n",
      "closed_at              0.984162\n",
      "domain                 0.324258\n",
      "network_username       0.561316\n",
      "country_code           0.501286\n",
      "investment_rounds      0.001387\n",
      "funding_rounds         0.001387\n",
      "funding_total          0.001387\n",
      "milestones             0.001387\n",
      "funding_round_id       0.756959\n",
      "company_id_p           0.756959\n",
      "funded_at              0.758098\n",
      "funding_round_type     0.756959\n",
      "raised_amount          0.756959\n",
      "pre_money_valuation    0.756959\n",
      "participants           0.756959\n",
      "is_first_round         0.756959\n",
      "is_last_round          0.756959\n",
      "dtype: float64\n"
     ]
    }
   ],
   "source": [
    "# Выводим на экран количество пропусков в каждом столбце и их долю датасета car_df\n",
    "print('Количество пропусков в каждом столбце:')\n",
    "print(car_df.isna().sum())\n",
    "print()\n",
    "print('Доля пропусков в каждом столбце:')\n",
    "print(car_df.isna().mean())"
   ]
  },
  {
   "cell_type": "markdown",
   "metadata": {},
   "source": [
    "По первичному анализу сразу хочется обратить внимание на однородную долю пропусков со столбца `funding_round_id`, исследуем это явление далее. Удалять данные нецелесообразно, так как мы рискуем потерять их большую часть. Значительная доля первой части данных (до столбца `funding_round_id`) содержит категориальные и временные данные. Замена или подставление данных привёдет к  их искажению. Верным решением будет оставить данные в исходном виде. "
   ]
  },
  {
   "cell_type": "code",
   "execution_count": 78,
   "metadata": {},
   "outputs": [
    {
     "name": "stdout",
     "output_type": "stream",
     "text": [
      "Количество пропусков в каждом столбце:\n",
      "id                         0\n",
      "acquiring_company_id       0\n",
      "acquired_company_id        0\n",
      "term_code               7576\n",
      "price_amount               0\n",
      "acquired_at               29\n",
      "dtype: int64\n",
      "\n",
      "Доля пропусков в каждом столбце:\n",
      "id                      0.000000\n",
      "acquiring_company_id    0.000000\n",
      "acquired_company_id     0.000000\n",
      "term_code               0.805358\n",
      "price_amount            0.000000\n",
      "acquired_at             0.003083\n",
      "dtype: float64\n"
     ]
    }
   ],
   "source": [
    "# Выводим на экран количество пропусков в каждом столбце и их долю датасета acqui_df\n",
    "print('Количество пропусков в каждом столбце:')\n",
    "print(acqui_df.isna().sum())\n",
    "print()\n",
    "print('Доля пропусков в каждом столбце:')\n",
    "print(acqui_df.isna().mean())"
   ]
  },
  {
   "cell_type": "markdown",
   "metadata": {},
   "source": [
    "Наличие пропусков только в столбцах `term_code` и `acquired_at` вероятнее всего ошибка при сборе данных, либо значения не были указаны изначально. Замена или удаление так же не корректны, оставляем данные."
   ]
  },
  {
   "cell_type": "code",
   "execution_count": 79,
   "metadata": {},
   "outputs": [
    {
     "name": "stdout",
     "output_type": "stream",
     "text": [
      "Количество пропусков в каждом столбце:\n",
      "id                       0\n",
      "first_name               5\n",
      "last_name                1\n",
      "company_id          192094\n",
      "network_username    187842\n",
      "dtype: int64\n",
      "\n",
      "Доля пропусков в каждом столбце:\n",
      "id                  0.000000\n",
      "first_name          0.000022\n",
      "last_name           0.000004\n",
      "company_id          0.847315\n",
      "network_username    0.828560\n",
      "dtype: float64\n"
     ]
    }
   ],
   "source": [
    "# Выводим на экран количество пропусков в каждом столбце и их долю датасета people_df\n",
    "print('Количество пропусков в каждом столбце:')\n",
    "print(people_df.isna().sum())\n",
    "print()\n",
    "print('Доля пропусков в каждом столбце:')\n",
    "print(people_df.isna().mean())"
   ]
  },
  {
   "cell_type": "markdown",
   "metadata": {},
   "source": [
    "В столбцах `first_name` и `last_name` данные либо небыли заполнены, либо при выгрузке произошла ошибка. Это же касается столбцов `company_id` и `network_username`. Удаляя пропуски мы теряем большое количество данных, оставим данные в исходном виде."
   ]
  },
  {
   "cell_type": "code",
   "execution_count": 80,
   "metadata": {},
   "outputs": [
    {
     "name": "stdout",
     "output_type": "stream",
     "text": [
      "Количество пропусков в каждом столбце:\n",
      "id                  0\n",
      "person_id           0\n",
      "instituition       55\n",
      "graduated_at    51556\n",
      "dtype: int64\n",
      "\n",
      "Доля пропусков в каждом столбце:\n",
      "id              0.000000\n",
      "person_id       0.000000\n",
      "instituition    0.000502\n",
      "graduated_at    0.470359\n",
      "dtype: float64\n"
     ]
    }
   ],
   "source": [
    "# Выводим на экран количество пропусков в каждом столбце и их долю датасета educ_df\n",
    "print('Количество пропусков в каждом столбце:')\n",
    "print(educ_df.isna().sum())\n",
    "print()\n",
    "print('Доля пропусков в каждом столбце:')\n",
    "print(educ_df.isna().mean())"
   ]
  },
  {
   "cell_type": "code",
   "execution_count": 81,
   "metadata": {},
   "outputs": [
    {
     "name": "stdout",
     "output_type": "stream",
     "text": [
      "Количество пропусков в каждом столбце:\n",
      "id                 0\n",
      "object_id          0\n",
      "degree_type    11218\n",
      "subject        28312\n",
      "dtype: int64\n",
      "\n",
      "Доля пропусков в каждом столбце:\n",
      "id             0.000000\n",
      "object_id      0.000000\n",
      "degree_type    0.102345\n",
      "subject        0.258298\n",
      "dtype: float64\n"
     ]
    }
   ],
   "source": [
    "# Выводим на экран количество пропусков в каждом столбце и их долю датасета degr_df\n",
    "print('Количество пропусков в каждом столбце:')\n",
    "print(degr_df.isna().sum())\n",
    "print()\n",
    "print('Доля пропусков в каждом столбце:')\n",
    "print(degr_df.isna().mean())"
   ]
  },
  {
   "cell_type": "markdown",
   "metadata": {},
   "source": [
    "`degree_type`, `subject` содержат данные о типе образования и специальности, эти данные нам не понадобятся в дальнейшем исследовании. Оставим их как есть.\n",
    "\n",
    "В данных много пропущенных значений, однако их нам хватит для решения задач."
   ]
  },
  {
   "cell_type": "markdown",
   "metadata": {
    "id": "u60cHsn6rJg1"
   },
   "source": [
    "## Предобработка данных, предварительное исследование"
   ]
  },
  {
   "cell_type": "markdown",
   "metadata": {
    "id": "g2bHIIjcrJg1"
   },
   "source": [
    "\n",
    "### Раунды финансирования по годам"
   ]
  },
  {
   "cell_type": "code",
   "execution_count": 82,
   "metadata": {
    "id": "Cf5IjfOQrJg1",
    "vscode": {
     "languageId": "plaintext"
    }
   },
   "outputs": [],
   "source": [
    "# Выделим год из даты финансирования\n",
    "car_df['funded_at'] = car_df['funded_at'].dt.year"
   ]
  },
  {
   "cell_type": "code",
   "execution_count": 83,
   "metadata": {
    "id": "8Fbz6KmzFdYP"
   },
   "outputs": [
    {
     "data": {
      "text/html": [
       "<div>\n",
       "<style scoped>\n",
       "    .dataframe tbody tr th:only-of-type {\n",
       "        vertical-align: middle;\n",
       "    }\n",
       "\n",
       "    .dataframe tbody tr th {\n",
       "        vertical-align: top;\n",
       "    }\n",
       "\n",
       "    .dataframe thead th {\n",
       "        text-align: right;\n",
       "    }\n",
       "</style>\n",
       "<table border=\"1\" class=\"dataframe\">\n",
       "  <thead>\n",
       "    <tr style=\"text-align: right;\">\n",
       "      <th></th>\n",
       "      <th>count</th>\n",
       "      <th>median</th>\n",
       "    </tr>\n",
       "    <tr>\n",
       "      <th>funded_at</th>\n",
       "      <th></th>\n",
       "      <th></th>\n",
       "    </tr>\n",
       "  </thead>\n",
       "  <tbody>\n",
       "    <tr>\n",
       "      <th>1960.0</th>\n",
       "      <td>9</td>\n",
       "      <td>0.0</td>\n",
       "    </tr>\n",
       "    <tr>\n",
       "      <th>1973.0</th>\n",
       "      <td>1</td>\n",
       "      <td>0.0</td>\n",
       "    </tr>\n",
       "    <tr>\n",
       "      <th>1974.0</th>\n",
       "      <td>2</td>\n",
       "      <td>0.0</td>\n",
       "    </tr>\n",
       "    <tr>\n",
       "      <th>1984.0</th>\n",
       "      <td>3</td>\n",
       "      <td>41000.0</td>\n",
       "    </tr>\n",
       "    <tr>\n",
       "      <th>1985.0</th>\n",
       "      <td>1</td>\n",
       "      <td>0.0</td>\n",
       "    </tr>\n",
       "    <tr>\n",
       "      <th>1987.0</th>\n",
       "      <td>2</td>\n",
       "      <td>1250000.0</td>\n",
       "    </tr>\n",
       "    <tr>\n",
       "      <th>1989.0</th>\n",
       "      <td>1</td>\n",
       "      <td>15000.0</td>\n",
       "    </tr>\n",
       "    <tr>\n",
       "      <th>1990.0</th>\n",
       "      <td>1</td>\n",
       "      <td>1000000.0</td>\n",
       "    </tr>\n",
       "    <tr>\n",
       "      <th>1992.0</th>\n",
       "      <td>1</td>\n",
       "      <td>2000000.0</td>\n",
       "    </tr>\n",
       "    <tr>\n",
       "      <th>1993.0</th>\n",
       "      <td>2</td>\n",
       "      <td>62500.0</td>\n",
       "    </tr>\n",
       "    <tr>\n",
       "      <th>1994.0</th>\n",
       "      <td>2</td>\n",
       "      <td>6700000.0</td>\n",
       "    </tr>\n",
       "    <tr>\n",
       "      <th>1995.0</th>\n",
       "      <td>7</td>\n",
       "      <td>2000000.0</td>\n",
       "    </tr>\n",
       "    <tr>\n",
       "      <th>1996.0</th>\n",
       "      <td>7</td>\n",
       "      <td>12500.0</td>\n",
       "    </tr>\n",
       "    <tr>\n",
       "      <th>1997.0</th>\n",
       "      <td>9</td>\n",
       "      <td>3300000.0</td>\n",
       "    </tr>\n",
       "    <tr>\n",
       "      <th>1998.0</th>\n",
       "      <td>29</td>\n",
       "      <td>100000.0</td>\n",
       "    </tr>\n",
       "    <tr>\n",
       "      <th>1999.0</th>\n",
       "      <td>76</td>\n",
       "      <td>2000000.0</td>\n",
       "    </tr>\n",
       "    <tr>\n",
       "      <th>2000.0</th>\n",
       "      <td>125</td>\n",
       "      <td>4200000.0</td>\n",
       "    </tr>\n",
       "    <tr>\n",
       "      <th>2001.0</th>\n",
       "      <td>96</td>\n",
       "      <td>3000000.0</td>\n",
       "    </tr>\n",
       "    <tr>\n",
       "      <th>2002.0</th>\n",
       "      <td>116</td>\n",
       "      <td>4200000.0</td>\n",
       "    </tr>\n",
       "    <tr>\n",
       "      <th>2003.0</th>\n",
       "      <td>159</td>\n",
       "      <td>3000000.0</td>\n",
       "    </tr>\n",
       "    <tr>\n",
       "      <th>2004.0</th>\n",
       "      <td>291</td>\n",
       "      <td>5000000.0</td>\n",
       "    </tr>\n",
       "    <tr>\n",
       "      <th>2005.0</th>\n",
       "      <td>1633</td>\n",
       "      <td>5500000.0</td>\n",
       "    </tr>\n",
       "    <tr>\n",
       "      <th>2006.0</th>\n",
       "      <td>2436</td>\n",
       "      <td>5000000.0</td>\n",
       "    </tr>\n",
       "    <tr>\n",
       "      <th>2007.0</th>\n",
       "      <td>3279</td>\n",
       "      <td>3973320.0</td>\n",
       "    </tr>\n",
       "    <tr>\n",
       "      <th>2008.0</th>\n",
       "      <td>3774</td>\n",
       "      <td>3110000.0</td>\n",
       "    </tr>\n",
       "    <tr>\n",
       "      <th>2009.0</th>\n",
       "      <td>4151</td>\n",
       "      <td>2000000.0</td>\n",
       "    </tr>\n",
       "    <tr>\n",
       "      <th>2010.0</th>\n",
       "      <td>6221</td>\n",
       "      <td>1602500.0</td>\n",
       "    </tr>\n",
       "    <tr>\n",
       "      <th>2011.0</th>\n",
       "      <td>9204</td>\n",
       "      <td>1200000.0</td>\n",
       "    </tr>\n",
       "    <tr>\n",
       "      <th>2012.0</th>\n",
       "      <td>9970</td>\n",
       "      <td>1000000.0</td>\n",
       "    </tr>\n",
       "    <tr>\n",
       "      <th>2013.0</th>\n",
       "      <td>11072</td>\n",
       "      <td>1200000.0</td>\n",
       "    </tr>\n",
       "  </tbody>\n",
       "</table>\n",
       "</div>"
      ],
      "text/plain": [
       "           count     median\n",
       "funded_at                  \n",
       "1960.0         9        0.0\n",
       "1973.0         1        0.0\n",
       "1974.0         2        0.0\n",
       "1984.0         3    41000.0\n",
       "1985.0         1        0.0\n",
       "1987.0         2  1250000.0\n",
       "1989.0         1    15000.0\n",
       "1990.0         1  1000000.0\n",
       "1992.0         1  2000000.0\n",
       "1993.0         2    62500.0\n",
       "1994.0         2  6700000.0\n",
       "1995.0         7  2000000.0\n",
       "1996.0         7    12500.0\n",
       "1997.0         9  3300000.0\n",
       "1998.0        29   100000.0\n",
       "1999.0        76  2000000.0\n",
       "2000.0       125  4200000.0\n",
       "2001.0        96  3000000.0\n",
       "2002.0       116  4200000.0\n",
       "2003.0       159  3000000.0\n",
       "2004.0       291  5000000.0\n",
       "2005.0      1633  5500000.0\n",
       "2006.0      2436  5000000.0\n",
       "2007.0      3279  3973320.0\n",
       "2008.0      3774  3110000.0\n",
       "2009.0      4151  2000000.0\n",
       "2010.0      6221  1602500.0\n",
       "2011.0      9204  1200000.0\n",
       "2012.0      9970  1000000.0\n",
       "2013.0     11072  1200000.0"
      ]
     },
     "execution_count": 83,
     "metadata": {},
     "output_type": "execute_result"
    }
   ],
   "source": [
    "# Создадим сводную таблицу финансирования\n",
    "pivot_found = pd.pivot_table(car_df,\n",
    "                             index='funded_at',\n",
    "                             values='raised_amount',\n",
    "                             aggfunc={'raised_amount': ['median', 'count']})\n",
    "pivot_found"
   ]
  },
  {
   "cell_type": "code",
   "execution_count": 84,
   "metadata": {
    "id": "Z92DzKMMFdKW",
    "scrolled": false
   },
   "outputs": [
    {
     "data": {
      "text/html": [
       "<div>\n",
       "<style scoped>\n",
       "    .dataframe tbody tr th:only-of-type {\n",
       "        vertical-align: middle;\n",
       "    }\n",
       "\n",
       "    .dataframe tbody tr th {\n",
       "        vertical-align: top;\n",
       "    }\n",
       "\n",
       "    .dataframe thead th {\n",
       "        text-align: right;\n",
       "    }\n",
       "</style>\n",
       "<table border=\"1\" class=\"dataframe\">\n",
       "  <thead>\n",
       "    <tr style=\"text-align: right;\">\n",
       "      <th></th>\n",
       "      <th>count</th>\n",
       "      <th>median</th>\n",
       "    </tr>\n",
       "    <tr>\n",
       "      <th>funded_at</th>\n",
       "      <th></th>\n",
       "      <th></th>\n",
       "    </tr>\n",
       "  </thead>\n",
       "  <tbody>\n",
       "    <tr>\n",
       "      <th>1999.0</th>\n",
       "      <td>76</td>\n",
       "      <td>2000000.0</td>\n",
       "    </tr>\n",
       "    <tr>\n",
       "      <th>2000.0</th>\n",
       "      <td>125</td>\n",
       "      <td>4200000.0</td>\n",
       "    </tr>\n",
       "    <tr>\n",
       "      <th>2001.0</th>\n",
       "      <td>96</td>\n",
       "      <td>3000000.0</td>\n",
       "    </tr>\n",
       "    <tr>\n",
       "      <th>2002.0</th>\n",
       "      <td>116</td>\n",
       "      <td>4200000.0</td>\n",
       "    </tr>\n",
       "    <tr>\n",
       "      <th>2003.0</th>\n",
       "      <td>159</td>\n",
       "      <td>3000000.0</td>\n",
       "    </tr>\n",
       "    <tr>\n",
       "      <th>2004.0</th>\n",
       "      <td>291</td>\n",
       "      <td>5000000.0</td>\n",
       "    </tr>\n",
       "    <tr>\n",
       "      <th>2005.0</th>\n",
       "      <td>1633</td>\n",
       "      <td>5500000.0</td>\n",
       "    </tr>\n",
       "    <tr>\n",
       "      <th>2006.0</th>\n",
       "      <td>2436</td>\n",
       "      <td>5000000.0</td>\n",
       "    </tr>\n",
       "    <tr>\n",
       "      <th>2007.0</th>\n",
       "      <td>3279</td>\n",
       "      <td>3973320.0</td>\n",
       "    </tr>\n",
       "    <tr>\n",
       "      <th>2008.0</th>\n",
       "      <td>3774</td>\n",
       "      <td>3110000.0</td>\n",
       "    </tr>\n",
       "    <tr>\n",
       "      <th>2009.0</th>\n",
       "      <td>4151</td>\n",
       "      <td>2000000.0</td>\n",
       "    </tr>\n",
       "    <tr>\n",
       "      <th>2010.0</th>\n",
       "      <td>6221</td>\n",
       "      <td>1602500.0</td>\n",
       "    </tr>\n",
       "    <tr>\n",
       "      <th>2011.0</th>\n",
       "      <td>9204</td>\n",
       "      <td>1200000.0</td>\n",
       "    </tr>\n",
       "    <tr>\n",
       "      <th>2012.0</th>\n",
       "      <td>9970</td>\n",
       "      <td>1000000.0</td>\n",
       "    </tr>\n",
       "    <tr>\n",
       "      <th>2013.0</th>\n",
       "      <td>11072</td>\n",
       "      <td>1200000.0</td>\n",
       "    </tr>\n",
       "  </tbody>\n",
       "</table>\n",
       "</div>"
      ],
      "text/plain": [
       "           count     median\n",
       "funded_at                  \n",
       "1999.0        76  2000000.0\n",
       "2000.0       125  4200000.0\n",
       "2001.0        96  3000000.0\n",
       "2002.0       116  4200000.0\n",
       "2003.0       159  3000000.0\n",
       "2004.0       291  5000000.0\n",
       "2005.0      1633  5500000.0\n",
       "2006.0      2436  5000000.0\n",
       "2007.0      3279  3973320.0\n",
       "2008.0      3774  3110000.0\n",
       "2009.0      4151  2000000.0\n",
       "2010.0      6221  1602500.0\n",
       "2011.0      9204  1200000.0\n",
       "2012.0      9970  1000000.0\n",
       "2013.0     11072  1200000.0"
      ]
     },
     "execution_count": 84,
     "metadata": {},
     "output_type": "execute_result"
    }
   ],
   "source": [
    "# Отфильтруем полученную таблицу\n",
    "filter_found = pivot_found[pivot_found['count'] > 50]\n",
    "filter_found"
   ]
  },
  {
   "cell_type": "code",
   "execution_count": 85,
   "metadata": {},
   "outputs": [
    {
     "data": {
      "text/plain": [
       "array([<AxesSubplot:title={'center':'Количество раундов финансирования'}, xlabel='Год'>,\n",
       "       <AxesSubplot:title={'center':'Медианное финансирование по годам (млн. $)'}, xlabel='Год'>],\n",
       "      dtype=object)"
      ]
     },
     "execution_count": 85,
     "metadata": {},
     "output_type": "execute_result"
    },
    {
     "data": {
      "image/png": "[encoded data removed]",
      "text/plain": [
       "<Figure size 1008x720 with 2 Axes>"
      ]
     },
     "metadata": {
      "needs_background": "light"
     },
     "output_type": "display_data"
    }
   ],
   "source": [
    "filter_found.plot(kind='line',\n",
    "                  subplots=True,\n",
    "                  sharex=True,\n",
    "                  sharey=False,\n",
    "                  figsize=(14,10),\n",
    "                  marker='o',\n",
    "                  grid = True,\n",
    "                  legend=False,\n",
    "                  title=['Количество раундов финансирования', 'Медианное финансирование по годам (млн. $)'],\n",
    "                  xlabel='Год')"
   ]
  },
  {
   "cell_type": "markdown",
   "metadata": {},
   "source": [
    "Типичный размер собранных в рамках одного раунда средств был максимален в 2005 году. \n",
    "Количество раундов значительно увеличилось к 2013 году и является максимальным. Суммы финансирования пошли на повышение и сравнялись с результатами 2011 года."
   ]
  },
  {
   "cell_type": "markdown",
   "metadata": {
    "id": "45if1en1rJg2"
   },
   "source": [
    "\n",
    "### Люди и их образование"
   ]
  },
  {
   "cell_type": "code",
   "execution_count": 87,
   "metadata": {
    "id": "psPO7C4MrJg2",
    "vscode": {
     "languageId": "plaintext"
    }
   },
   "outputs": [
    {
     "data": {
      "text/plain": [
       "Index(['education_id', 'id', 'instituition', 'graduated_at'], dtype='object')"
      ]
     },
     "execution_count": 87,
     "metadata": {},
     "output_type": "execute_result"
    }
   ],
   "source": [
    "# Переименуем названия столбцов для более удобного объединения датасетов\n",
    "educ_df = educ_df.rename(columns={'id': 'education_id', 'person_id': 'id'})\n",
    "educ_df.columns"
   ]
  },
  {
   "cell_type": "markdown",
   "metadata": {},
   "source": [
    "Датасет `degr_df` содержит информацию о типе образования сотрудника. Информация такого рода для решения задачи нам не понадобится."
   ]
  },
  {
   "cell_type": "code",
   "execution_count": 88,
   "metadata": {
    "id": "BThTjpLqFcsm"
   },
   "outputs": [],
   "source": [
    "# Объединяем данные\n",
    "merge_df = people_df.merge(educ_df, on='id', how='outer')"
   ]
  },
  {
   "cell_type": "code",
   "execution_count": 89,
   "metadata": {
    "id": "4FC98Pd-FcmG"
   },
   "outputs": [
    {
     "data": {
      "text/html": [
       "<div>\n",
       "<style scoped>\n",
       "    .dataframe tbody tr th:only-of-type {\n",
       "        vertical-align: middle;\n",
       "    }\n",
       "\n",
       "    .dataframe tbody tr th {\n",
       "        vertical-align: top;\n",
       "    }\n",
       "\n",
       "    .dataframe thead th {\n",
       "        text-align: right;\n",
       "    }\n",
       "</style>\n",
       "<table border=\"1\" class=\"dataframe\">\n",
       "  <thead>\n",
       "    <tr style=\"text-align: right;\">\n",
       "      <th></th>\n",
       "      <th>education_id</th>\n",
       "      <th>id</th>\n",
       "    </tr>\n",
       "    <tr>\n",
       "      <th>company_id</th>\n",
       "      <th></th>\n",
       "      <th></th>\n",
       "    </tr>\n",
       "  </thead>\n",
       "  <tbody>\n",
       "    <tr>\n",
       "      <th>1.0</th>\n",
       "      <td>2</td>\n",
       "      <td>3</td>\n",
       "    </tr>\n",
       "    <tr>\n",
       "      <th>2.0</th>\n",
       "      <td>1</td>\n",
       "      <td>1</td>\n",
       "    </tr>\n",
       "    <tr>\n",
       "      <th>3.0</th>\n",
       "      <td>4</td>\n",
       "      <td>5</td>\n",
       "    </tr>\n",
       "    <tr>\n",
       "      <th>4.0</th>\n",
       "      <td>17</td>\n",
       "      <td>18</td>\n",
       "    </tr>\n",
       "    <tr>\n",
       "      <th>5.0</th>\n",
       "      <td>68</td>\n",
       "      <td>84</td>\n",
       "    </tr>\n",
       "    <tr>\n",
       "      <th>...</th>\n",
       "      <td>...</td>\n",
       "      <td>...</td>\n",
       "    </tr>\n",
       "    <tr>\n",
       "      <th>285897.0</th>\n",
       "      <td>2</td>\n",
       "      <td>2</td>\n",
       "    </tr>\n",
       "    <tr>\n",
       "      <th>285953.0</th>\n",
       "      <td>0</td>\n",
       "      <td>1</td>\n",
       "    </tr>\n",
       "    <tr>\n",
       "      <th>285972.0</th>\n",
       "      <td>1</td>\n",
       "      <td>2</td>\n",
       "    </tr>\n",
       "    <tr>\n",
       "      <th>285996.0</th>\n",
       "      <td>1</td>\n",
       "      <td>1</td>\n",
       "    </tr>\n",
       "    <tr>\n",
       "      <th>286091.0</th>\n",
       "      <td>5</td>\n",
       "      <td>7</td>\n",
       "    </tr>\n",
       "  </tbody>\n",
       "</table>\n",
       "<p>22922 rows × 2 columns</p>\n",
       "</div>"
      ],
      "text/plain": [
       "            education_id  id\n",
       "company_id                  \n",
       "1.0                    2   3\n",
       "2.0                    1   1\n",
       "3.0                    4   5\n",
       "4.0                   17  18\n",
       "5.0                   68  84\n",
       "...                  ...  ..\n",
       "285897.0               2   2\n",
       "285953.0               0   1\n",
       "285972.0               1   2\n",
       "285996.0               1   1\n",
       "286091.0               5   7\n",
       "\n",
       "[22922 rows x 2 columns]"
      ]
     },
     "execution_count": 89,
     "metadata": {},
     "output_type": "execute_result"
    }
   ],
   "source": [
    "# Создадим сводную таблицу\n",
    "pivot_educ = pd.pivot_table(merge_df,\n",
    "                            index='company_id',\n",
    "                            values=['id', 'education_id'],\n",
    "                            aggfunc={'id': 'count',\n",
    "                                     'education_id': 'count'})\n",
    "pivot_educ"
   ]
  },
  {
   "cell_type": "code",
   "execution_count": 90,
   "metadata": {},
   "outputs": [
    {
     "data": {
      "text/html": [
       "<div>\n",
       "<style scoped>\n",
       "    .dataframe tbody tr th:only-of-type {\n",
       "        vertical-align: middle;\n",
       "    }\n",
       "\n",
       "    .dataframe tbody tr th {\n",
       "        vertical-align: top;\n",
       "    }\n",
       "\n",
       "    .dataframe thead th {\n",
       "        text-align: right;\n",
       "    }\n",
       "</style>\n",
       "<table border=\"1\" class=\"dataframe\">\n",
       "  <thead>\n",
       "    <tr style=\"text-align: right;\">\n",
       "      <th></th>\n",
       "      <th>education_id</th>\n",
       "      <th>id</th>\n",
       "      <th>non_educ</th>\n",
       "    </tr>\n",
       "    <tr>\n",
       "      <th>company_id</th>\n",
       "      <th></th>\n",
       "      <th></th>\n",
       "      <th></th>\n",
       "    </tr>\n",
       "  </thead>\n",
       "  <tbody>\n",
       "    <tr>\n",
       "      <th>1.0</th>\n",
       "      <td>2</td>\n",
       "      <td>3</td>\n",
       "      <td>0.333333</td>\n",
       "    </tr>\n",
       "    <tr>\n",
       "      <th>2.0</th>\n",
       "      <td>1</td>\n",
       "      <td>1</td>\n",
       "      <td>0.000000</td>\n",
       "    </tr>\n",
       "    <tr>\n",
       "      <th>3.0</th>\n",
       "      <td>4</td>\n",
       "      <td>5</td>\n",
       "      <td>0.200000</td>\n",
       "    </tr>\n",
       "    <tr>\n",
       "      <th>4.0</th>\n",
       "      <td>17</td>\n",
       "      <td>18</td>\n",
       "      <td>0.055556</td>\n",
       "    </tr>\n",
       "    <tr>\n",
       "      <th>5.0</th>\n",
       "      <td>68</td>\n",
       "      <td>84</td>\n",
       "      <td>0.190476</td>\n",
       "    </tr>\n",
       "    <tr>\n",
       "      <th>...</th>\n",
       "      <td>...</td>\n",
       "      <td>...</td>\n",
       "      <td>...</td>\n",
       "    </tr>\n",
       "    <tr>\n",
       "      <th>285897.0</th>\n",
       "      <td>2</td>\n",
       "      <td>2</td>\n",
       "      <td>0.000000</td>\n",
       "    </tr>\n",
       "    <tr>\n",
       "      <th>285953.0</th>\n",
       "      <td>0</td>\n",
       "      <td>1</td>\n",
       "      <td>1.000000</td>\n",
       "    </tr>\n",
       "    <tr>\n",
       "      <th>285972.0</th>\n",
       "      <td>1</td>\n",
       "      <td>2</td>\n",
       "      <td>0.500000</td>\n",
       "    </tr>\n",
       "    <tr>\n",
       "      <th>285996.0</th>\n",
       "      <td>1</td>\n",
       "      <td>1</td>\n",
       "      <td>0.000000</td>\n",
       "    </tr>\n",
       "    <tr>\n",
       "      <th>286091.0</th>\n",
       "      <td>5</td>\n",
       "      <td>7</td>\n",
       "      <td>0.285714</td>\n",
       "    </tr>\n",
       "  </tbody>\n",
       "</table>\n",
       "<p>22922 rows × 3 columns</p>\n",
       "</div>"
      ],
      "text/plain": [
       "            education_id  id  non_educ\n",
       "company_id                            \n",
       "1.0                    2   3  0.333333\n",
       "2.0                    1   1  0.000000\n",
       "3.0                    4   5  0.200000\n",
       "4.0                   17  18  0.055556\n",
       "5.0                   68  84  0.190476\n",
       "...                  ...  ..       ...\n",
       "285897.0               2   2  0.000000\n",
       "285953.0               0   1  1.000000\n",
       "285972.0               1   2  0.500000\n",
       "285996.0               1   1  0.000000\n",
       "286091.0               5   7  0.285714\n",
       "\n",
       "[22922 rows x 3 columns]"
      ]
     },
     "execution_count": 90,
     "metadata": {},
     "output_type": "execute_result"
    }
   ],
   "source": [
    "# Создадим новый столбец с долей сотрудиков без образования\n",
    "pivot_educ['non_educ'] = 1 - (pivot_educ['education_id'] / pivot_educ['id'])\n",
    "pivot_educ"
   ]
  },
  {
   "cell_type": "markdown",
   "metadata": {},
   "source": [
    "Для дальнешего исследования и назначения категорий кампаниям, выведем распередение сотрудников. Для этого отлично подойдёт \"ящик с усами\"."
   ]
  },
  {
   "cell_type": "code",
   "execution_count": 91,
   "metadata": {},
   "outputs": [
    {
     "data": {
      "image/png": "[encoded data removed]",
      "text/plain": [
       "<Figure size 504x144 with 1 Axes>"
      ]
     },
     "metadata": {
      "needs_background": "light"
     },
     "output_type": "display_data"
    }
   ],
   "source": [
    "# Создаём контейнер графика matplotlib и задаём его размер\n",
    "plt.figure(figsize=(7, 2))\n",
    "\n",
    "# Строим диаграмму размаха значений в столбце balance\n",
    "pivot_educ.boxplot(column='id', vert=False)\n",
    "\n",
    "# Добавляем заголовок и метки оси\n",
    "plt.title('Распределение значений баланса клиента')\n",
    "plt.xlabel('Баланс клиента')\n",
    "\n",
    "# Выводим график\n",
    "plt.show()"
   ]
  },
  {
   "cell_type": "markdown",
   "metadata": {},
   "source": [
    "По распеределению данных можно сделать вывод что основная доля варируется от 1 до 5. Выделим рамки категорий в соответствии с распределением."
   ]
  },
  {
   "cell_type": "code",
   "execution_count": 92,
   "metadata": {},
   "outputs": [
    {
     "data": {
      "text/html": [
       "<div>\n",
       "<style scoped>\n",
       "    .dataframe tbody tr th:only-of-type {\n",
       "        vertical-align: middle;\n",
       "    }\n",
       "\n",
       "    .dataframe tbody tr th {\n",
       "        vertical-align: top;\n",
       "    }\n",
       "\n",
       "    .dataframe thead th {\n",
       "        text-align: right;\n",
       "    }\n",
       "</style>\n",
       "<table border=\"1\" class=\"dataframe\">\n",
       "  <thead>\n",
       "    <tr style=\"text-align: right;\">\n",
       "      <th></th>\n",
       "      <th>education_id</th>\n",
       "      <th>id</th>\n",
       "      <th>non_educ</th>\n",
       "      <th>personal_cat</th>\n",
       "    </tr>\n",
       "    <tr>\n",
       "      <th>company_id</th>\n",
       "      <th></th>\n",
       "      <th></th>\n",
       "      <th></th>\n",
       "      <th></th>\n",
       "    </tr>\n",
       "  </thead>\n",
       "  <tbody>\n",
       "    <tr>\n",
       "      <th>1.0</th>\n",
       "      <td>2</td>\n",
       "      <td>3</td>\n",
       "      <td>0.333333</td>\n",
       "      <td>2-3</td>\n",
       "    </tr>\n",
       "    <tr>\n",
       "      <th>2.0</th>\n",
       "      <td>1</td>\n",
       "      <td>1</td>\n",
       "      <td>0.000000</td>\n",
       "      <td>1</td>\n",
       "    </tr>\n",
       "    <tr>\n",
       "      <th>3.0</th>\n",
       "      <td>4</td>\n",
       "      <td>5</td>\n",
       "      <td>0.200000</td>\n",
       "      <td>4-5</td>\n",
       "    </tr>\n",
       "    <tr>\n",
       "      <th>4.0</th>\n",
       "      <td>17</td>\n",
       "      <td>18</td>\n",
       "      <td>0.055556</td>\n",
       "      <td>11-25</td>\n",
       "    </tr>\n",
       "    <tr>\n",
       "      <th>5.0</th>\n",
       "      <td>68</td>\n",
       "      <td>84</td>\n",
       "      <td>0.190476</td>\n",
       "      <td>51 - 100</td>\n",
       "    </tr>\n",
       "    <tr>\n",
       "      <th>...</th>\n",
       "      <td>...</td>\n",
       "      <td>...</td>\n",
       "      <td>...</td>\n",
       "      <td>...</td>\n",
       "    </tr>\n",
       "    <tr>\n",
       "      <th>285897.0</th>\n",
       "      <td>2</td>\n",
       "      <td>2</td>\n",
       "      <td>0.000000</td>\n",
       "      <td>2-3</td>\n",
       "    </tr>\n",
       "    <tr>\n",
       "      <th>285953.0</th>\n",
       "      <td>0</td>\n",
       "      <td>1</td>\n",
       "      <td>1.000000</td>\n",
       "      <td>1</td>\n",
       "    </tr>\n",
       "    <tr>\n",
       "      <th>285972.0</th>\n",
       "      <td>1</td>\n",
       "      <td>2</td>\n",
       "      <td>0.500000</td>\n",
       "      <td>2-3</td>\n",
       "    </tr>\n",
       "    <tr>\n",
       "      <th>285996.0</th>\n",
       "      <td>1</td>\n",
       "      <td>1</td>\n",
       "      <td>0.000000</td>\n",
       "      <td>1</td>\n",
       "    </tr>\n",
       "    <tr>\n",
       "      <th>286091.0</th>\n",
       "      <td>5</td>\n",
       "      <td>7</td>\n",
       "      <td>0.285714</td>\n",
       "      <td>6-10</td>\n",
       "    </tr>\n",
       "  </tbody>\n",
       "</table>\n",
       "<p>22922 rows × 4 columns</p>\n",
       "</div>"
      ],
      "text/plain": [
       "            education_id  id  non_educ personal_cat\n",
       "company_id                                         \n",
       "1.0                    2   3  0.333333          2-3\n",
       "2.0                    1   1  0.000000            1\n",
       "3.0                    4   5  0.200000          4-5\n",
       "4.0                   17  18  0.055556        11-25\n",
       "5.0                   68  84  0.190476     51 - 100\n",
       "...                  ...  ..       ...          ...\n",
       "285897.0               2   2  0.000000          2-3\n",
       "285953.0               0   1  1.000000            1\n",
       "285972.0               1   2  0.500000          2-3\n",
       "285996.0               1   1  0.000000            1\n",
       "286091.0               5   7  0.285714         6-10\n",
       "\n",
       "[22922 rows x 4 columns]"
      ]
     },
     "execution_count": 92,
     "metadata": {},
     "output_type": "execute_result"
    }
   ],
   "source": [
    "# Напишем функцию привающую категорию компании от кол-ва сотрудников\n",
    "def cat_comp(row):\n",
    "    if 0 < row['id'] <= 1:\n",
    "        return \"1\"\n",
    "    elif 2 <= row['id'] <= 3:\n",
    "        return \"2-3\"\n",
    "    elif 4 <= row['id'] <= 5:\n",
    "        return \"4-5\"\n",
    "    elif 6 <= row['id'] <= 10:\n",
    "        return \"6-10\"\n",
    "    elif 11 <= row['id'] <= 25:\n",
    "        return \"11-25\"\n",
    "    elif 26 <= row['id'] <= 50:\n",
    "        return \"26-50\"\n",
    "    elif 51 <= row['id'] <= 100:\n",
    "        return \"51 - 100\"\n",
    "    elif 100 < row['id']:\n",
    "        return \"100+\"\n",
    "\n",
    "# Создадим новый столбец с категориями    \n",
    "pivot_educ['personal_cat'] = pivot_educ.apply(cat_comp, axis=1)\n",
    "pivot_educ"
   ]
  },
  {
   "cell_type": "code",
   "execution_count": 93,
   "metadata": {},
   "outputs": [
    {
     "data": {
      "text/plain": [
       "personal_cat\n",
       "1           0.592297\n",
       "6-10        0.311749\n",
       "11-25       0.306125\n",
       "4-5         0.275743\n",
       "2-3         0.226841\n",
       "26-50       0.218573\n",
       "51 - 100    0.182986\n",
       "100+        0.175489\n",
       "Name: non_educ, dtype: float64"
      ]
     },
     "execution_count": 93,
     "metadata": {},
     "output_type": "execute_result"
    }
   ],
   "source": [
    "cat_rat = pivot_educ.groupby('personal_cat')['non_educ'].mean()\n",
    "cat_rat.sort_values(ascending = False)"
   ]
  },
  {
   "cell_type": "code",
   "execution_count": 94,
   "metadata": {},
   "outputs": [
    {
     "data": {
      "image/png": "[encoded data removed]",
      "text/plain": [
       "<Figure size 720x432 with 1 Axes>"
      ]
     },
     "metadata": {
      "needs_background": "light"
     },
     "output_type": "display_data"
    }
   ],
   "source": [
    "# Построим визуализацию по полученным данным\n",
    "plt.figure(figsize=(10, 6))\n",
    "\n",
    "cat_rat.sort_values(ascending = False).plot(\n",
    "               kind='bar', \n",
    "               rot=0, \n",
    "               legend=False, \n",
    "               title=f'Средняя доля сотрудников без образования')\n",
    "\n",
    "plt.xlabel('Категория компании')\n",
    "plt.grid()\n",
    "\n",
    "plt.show()"
   ]
  },
  {
   "cell_type": "markdown",
   "metadata": {},
   "source": [
    "Категории для компаний взяты согласно распределению. Среди всех категорий, больше всего самозанятых без образования, почти 60%. Четкой тенденции на снижение в зависимости от категории не прослеживается, до компаний от 26 сотрудников. Далее прослеживается спад к категории 100+."
   ]
  },
  {
   "cell_type": "markdown",
   "metadata": {
    "id": "Lz7qjM32xglW"
   },
   "source": [
    "### Объединять или не объединять — вот в чём вопрос\n",
    "\n",
    "Столбец `network_username` находится в двух датасетах: `car_df` и `people_df`. Ожидается что для каждой компании будет указан ник в сети, значит для `company_id` будет соответствующий `network_username`."
   ]
  },
  {
   "cell_type": "code",
   "execution_count": 95,
   "metadata": {},
   "outputs": [],
   "source": [
    "car_df_us = car_df.dropna(subset=['network_username'])\n",
    "car_df_com = car_df.dropna(subset=['company_id'])"
   ]
  },
  {
   "cell_type": "code",
   "execution_count": 96,
   "metadata": {
    "id": "RxOS5rwmFcNW"
   },
   "outputs": [
    {
     "data": {
      "text/plain": [
       "0"
      ]
     },
     "execution_count": 96,
     "metadata": {},
     "output_type": "execute_result"
    }
   ],
   "source": [
    "# Проверим явные дубликаты строк в car_df\n",
    "car_df.duplicated().sum()"
   ]
  },
  {
   "cell_type": "code",
   "execution_count": 97,
   "metadata": {
    "id": "_7gjdrGOFcB2",
    "scrolled": true
   },
   "outputs": [
    {
     "data": {
      "text/plain": [
       "16160"
      ]
     },
     "execution_count": 97,
     "metadata": {},
     "output_type": "execute_result"
    }
   ],
   "source": [
    "# Проверим явные дубликаты в столбце network_username\n",
    "car_df_us.duplicated(subset='network_username').sum()"
   ]
  },
  {
   "cell_type": "code",
   "execution_count": 98,
   "metadata": {},
   "outputs": [
    {
     "data": {
      "text/plain": [
       "0.07420536886864364"
      ]
     },
     "execution_count": 98,
     "metadata": {},
     "output_type": "execute_result"
    }
   ],
   "source": [
    "# Найдем долю дубликатов от всех данных\n",
    "car_df_us.duplicated(subset='network_username').sum() / len(car_df)"
   ]
  },
  {
   "cell_type": "code",
   "execution_count": 99,
   "metadata": {},
   "outputs": [
    {
     "data": {
      "text/plain": [
       "20919"
      ]
     },
     "execution_count": 99,
     "metadata": {},
     "output_type": "execute_result"
    }
   ],
   "source": [
    "# Проверим явные дубликаты для столбца company_id\n",
    "car_df_com.duplicated(subset='company_id').sum()"
   ]
  },
  {
   "cell_type": "code",
   "execution_count": 100,
   "metadata": {},
   "outputs": [
    {
     "data": {
      "text/plain": [
       "95534"
      ]
     },
     "execution_count": 100,
     "metadata": {},
     "output_type": "execute_result"
    }
   ],
   "source": [
    "# Найдём количество данных для network_username\n",
    "car_df_us['network_username'].count()"
   ]
  },
  {
   "cell_type": "code",
   "execution_count": 101,
   "metadata": {},
   "outputs": [
    {
     "data": {
      "text/plain": [
       "217472"
      ]
     },
     "execution_count": 101,
     "metadata": {},
     "output_type": "execute_result"
    }
   ],
   "source": [
    "# Найдём количество данных для network_username\n",
    "car_df_com['company_id'].count()"
   ]
  },
  {
   "cell_type": "markdown",
   "metadata": {},
   "source": [
    "Доля дубликатов в столбце `network_username` - 0.07. Количество дубликатов у `network_username` меньше, чем у `company_id`. Так же прослеживается нехватка данных по сравнению с `company_id`. "
   ]
  },
  {
   "cell_type": "code",
   "execution_count": 102,
   "metadata": {},
   "outputs": [],
   "source": [
    "people_df_com = people_df.dropna(subset=['company_id'])\n",
    "people_df_us = people_df.dropna(subset=['network_username'])"
   ]
  },
  {
   "cell_type": "code",
   "execution_count": 103,
   "metadata": {},
   "outputs": [
    {
     "data": {
      "text/plain": [
       "0"
      ]
     },
     "execution_count": 103,
     "metadata": {},
     "output_type": "execute_result"
    }
   ],
   "source": [
    "# Проверим явные дубликаты в people_df\n",
    "people_df.duplicated().sum()"
   ]
  },
  {
   "cell_type": "code",
   "execution_count": 104,
   "metadata": {},
   "outputs": [
    {
     "data": {
      "text/plain": [
       "483"
      ]
     },
     "execution_count": 104,
     "metadata": {},
     "output_type": "execute_result"
    }
   ],
   "source": [
    "# Проверим явные дубликаты в столбце network_username\n",
    "people_df_us.duplicated(subset='network_username').sum()"
   ]
  },
  {
   "cell_type": "code",
   "execution_count": 105,
   "metadata": {},
   "outputs": [
    {
     "data": {
      "text/plain": [
       "0.0021304844536388055"
      ]
     },
     "execution_count": 105,
     "metadata": {},
     "output_type": "execute_result"
    }
   ],
   "source": [
    "# Найдем долю дубликатов от всех данных\n",
    "people_df_us.duplicated(subset='network_username').sum() / len(people_df)"
   ]
  },
  {
   "cell_type": "code",
   "execution_count": 106,
   "metadata": {},
   "outputs": [
    {
     "data": {
      "text/plain": [
       "11693"
      ]
     },
     "execution_count": 106,
     "metadata": {},
     "output_type": "execute_result"
    }
   ],
   "source": [
    "# Проверим явные дубликаты для столбца company_id\n",
    "people_df_com.duplicated(subset='company_id').sum()"
   ]
  },
  {
   "cell_type": "code",
   "execution_count": 107,
   "metadata": {},
   "outputs": [
    {
     "data": {
      "text/plain": [
       "38867"
      ]
     },
     "execution_count": 107,
     "metadata": {},
     "output_type": "execute_result"
    }
   ],
   "source": [
    "# Найдём количество данных для network_username\n",
    "people_df_us['network_username'].count()"
   ]
  },
  {
   "cell_type": "code",
   "execution_count": 108,
   "metadata": {},
   "outputs": [
    {
     "data": {
      "text/plain": [
       "34615"
      ]
     },
     "execution_count": 108,
     "metadata": {},
     "output_type": "execute_result"
    }
   ],
   "source": [
    "# Найдём количество данных для network_username\n",
    "people_df_com['company_id'].count()"
   ]
  },
  {
   "cell_type": "markdown",
   "metadata": {},
   "source": [
    "Доля дубликатов `network_username` для `people_df` - 0.002. Количество дубликатов `network_username` намного меньше, чем в `company_id`, а количество данных больше. Используя `network_username` как ключ для объединения таблиц мы рискуем потерять значительное колличество данных из-за более меньшего количества данных в `car_df`. `network_username` имеет 95534 значений в датасете `car_df` и 38867 в `people_df`. `company_id` же имеет 217472 значений в `car_df` и 34615 в `people_df`. Пересечение данных у ключа `company_id` больше, поэтому использование `network_username` как самостоятельный ключ нецелесообразно."
   ]
  },
  {
   "cell_type": "markdown",
   "metadata": {
    "id": "EHcODomVrJg1"
   },
   "source": [
    "\n",
    "### Проблемный датасет и причина возникновения пропусков"
   ]
  },
  {
   "cell_type": "code",
   "execution_count": 109,
   "metadata": {
    "id": "oSk7xqu_FbaN"
   },
   "outputs": [
    {
     "data": {
      "text/html": [
       "<div>\n",
       "<style scoped>\n",
       "    .dataframe tbody tr th:only-of-type {\n",
       "        vertical-align: middle;\n",
       "    }\n",
       "\n",
       "    .dataframe tbody tr th {\n",
       "        vertical-align: top;\n",
       "    }\n",
       "\n",
       "    .dataframe thead th {\n",
       "        text-align: right;\n",
       "    }\n",
       "</style>\n",
       "<table border=\"1\" class=\"dataframe\">\n",
       "  <thead>\n",
       "    <tr style=\"text-align: right;\">\n",
       "      <th></th>\n",
       "      <th>company_id</th>\n",
       "      <th>name</th>\n",
       "      <th>category_code</th>\n",
       "      <th>status</th>\n",
       "      <th>founded_at</th>\n",
       "      <th>closed_at</th>\n",
       "      <th>domain</th>\n",
       "      <th>network_username</th>\n",
       "      <th>country_code</th>\n",
       "      <th>investment_rounds</th>\n",
       "      <th>...</th>\n",
       "      <th>milestones</th>\n",
       "      <th>funding_round_id</th>\n",
       "      <th>company_id_p</th>\n",
       "      <th>funded_at</th>\n",
       "      <th>funding_round_type</th>\n",
       "      <th>raised_amount</th>\n",
       "      <th>pre_money_valuation</th>\n",
       "      <th>participants</th>\n",
       "      <th>is_first_round</th>\n",
       "      <th>is_last_round</th>\n",
       "    </tr>\n",
       "  </thead>\n",
       "  <tbody>\n",
       "    <tr>\n",
       "      <th>0</th>\n",
       "      <td>1.0</td>\n",
       "      <td>wetpaint</td>\n",
       "      <td>web</td>\n",
       "      <td>operating</td>\n",
       "      <td>2005-10-17</td>\n",
       "      <td>NaN</td>\n",
       "      <td>wetpaint-inc.com</td>\n",
       "      <td>bachelrwetpaint</td>\n",
       "      <td>USA</td>\n",
       "      <td>0.0</td>\n",
       "      <td>...</td>\n",
       "      <td>5.0</td>\n",
       "      <td>888.0</td>\n",
       "      <td>1.0</td>\n",
       "      <td>2005.0</td>\n",
       "      <td>series-a</td>\n",
       "      <td>5250000.0</td>\n",
       "      <td>0.0</td>\n",
       "      <td>2.0</td>\n",
       "      <td>0.0</td>\n",
       "      <td>1.0</td>\n",
       "    </tr>\n",
       "    <tr>\n",
       "      <th>1</th>\n",
       "      <td>1.0</td>\n",
       "      <td>wetpaint</td>\n",
       "      <td>web</td>\n",
       "      <td>operating</td>\n",
       "      <td>2005-10-17</td>\n",
       "      <td>NaN</td>\n",
       "      <td>wetpaint-inc.com</td>\n",
       "      <td>bachelrwetpaint</td>\n",
       "      <td>USA</td>\n",
       "      <td>0.0</td>\n",
       "      <td>...</td>\n",
       "      <td>5.0</td>\n",
       "      <td>889.0</td>\n",
       "      <td>1.0</td>\n",
       "      <td>2007.0</td>\n",
       "      <td>series-b</td>\n",
       "      <td>9500000.0</td>\n",
       "      <td>0.0</td>\n",
       "      <td>3.0</td>\n",
       "      <td>0.0</td>\n",
       "      <td>0.0</td>\n",
       "    </tr>\n",
       "    <tr>\n",
       "      <th>2</th>\n",
       "      <td>1.0</td>\n",
       "      <td>wetpaint</td>\n",
       "      <td>web</td>\n",
       "      <td>operating</td>\n",
       "      <td>2005-10-17</td>\n",
       "      <td>NaN</td>\n",
       "      <td>wetpaint-inc.com</td>\n",
       "      <td>bachelrwetpaint</td>\n",
       "      <td>USA</td>\n",
       "      <td>0.0</td>\n",
       "      <td>...</td>\n",
       "      <td>5.0</td>\n",
       "      <td>2312.0</td>\n",
       "      <td>1.0</td>\n",
       "      <td>2008.0</td>\n",
       "      <td>series-c+</td>\n",
       "      <td>25000000.0</td>\n",
       "      <td>0.0</td>\n",
       "      <td>4.0</td>\n",
       "      <td>1.0</td>\n",
       "      <td>0.0</td>\n",
       "    </tr>\n",
       "    <tr>\n",
       "      <th>3</th>\n",
       "      <td>10.0</td>\n",
       "      <td>flektor</td>\n",
       "      <td>games_video</td>\n",
       "      <td>acquired</td>\n",
       "      <td>NaT</td>\n",
       "      <td>NaN</td>\n",
       "      <td>flektor.com</td>\n",
       "      <td>NaN</td>\n",
       "      <td>USA</td>\n",
       "      <td>0.0</td>\n",
       "      <td>...</td>\n",
       "      <td>0.0</td>\n",
       "      <td>NaN</td>\n",
       "      <td>NaN</td>\n",
       "      <td>NaN</td>\n",
       "      <td>NaN</td>\n",
       "      <td>NaN</td>\n",
       "      <td>NaN</td>\n",
       "      <td>NaN</td>\n",
       "      <td>NaN</td>\n",
       "      <td>NaN</td>\n",
       "    </tr>\n",
       "    <tr>\n",
       "      <th>4</th>\n",
       "      <td>100.0</td>\n",
       "      <td>there</td>\n",
       "      <td>games_video</td>\n",
       "      <td>acquired</td>\n",
       "      <td>NaT</td>\n",
       "      <td>NaN</td>\n",
       "      <td>there.com</td>\n",
       "      <td>NaN</td>\n",
       "      <td>USA</td>\n",
       "      <td>0.0</td>\n",
       "      <td>...</td>\n",
       "      <td>4.0</td>\n",
       "      <td>NaN</td>\n",
       "      <td>NaN</td>\n",
       "      <td>NaN</td>\n",
       "      <td>NaN</td>\n",
       "      <td>NaN</td>\n",
       "      <td>NaN</td>\n",
       "      <td>NaN</td>\n",
       "      <td>NaN</td>\n",
       "      <td>NaN</td>\n",
       "    </tr>\n",
       "    <tr>\n",
       "      <th>...</th>\n",
       "      <td>...</td>\n",
       "      <td>...</td>\n",
       "      <td>...</td>\n",
       "      <td>...</td>\n",
       "      <td>...</td>\n",
       "      <td>...</td>\n",
       "      <td>...</td>\n",
       "      <td>...</td>\n",
       "      <td>...</td>\n",
       "      <td>...</td>\n",
       "      <td>...</td>\n",
       "      <td>...</td>\n",
       "      <td>...</td>\n",
       "      <td>...</td>\n",
       "      <td>...</td>\n",
       "      <td>...</td>\n",
       "      <td>...</td>\n",
       "      <td>...</td>\n",
       "      <td>...</td>\n",
       "      <td>...</td>\n",
       "      <td>...</td>\n",
       "    </tr>\n",
       "    <tr>\n",
       "      <th>217769</th>\n",
       "      <td>NaN</td>\n",
       "      <td>NaN</td>\n",
       "      <td>NaN</td>\n",
       "      <td>NaN</td>\n",
       "      <td>NaT</td>\n",
       "      <td>NaN</td>\n",
       "      <td>NaN</td>\n",
       "      <td>NaN</td>\n",
       "      <td>NaN</td>\n",
       "      <td>NaN</td>\n",
       "      <td>...</td>\n",
       "      <td>NaN</td>\n",
       "      <td>56454.0</td>\n",
       "      <td>282847.0</td>\n",
       "      <td>2011.0</td>\n",
       "      <td>other</td>\n",
       "      <td>5500000.0</td>\n",
       "      <td>0.0</td>\n",
       "      <td>0.0</td>\n",
       "      <td>1.0</td>\n",
       "      <td>1.0</td>\n",
       "    </tr>\n",
       "    <tr>\n",
       "      <th>217770</th>\n",
       "      <td>NaN</td>\n",
       "      <td>NaN</td>\n",
       "      <td>NaN</td>\n",
       "      <td>NaN</td>\n",
       "      <td>NaT</td>\n",
       "      <td>NaN</td>\n",
       "      <td>NaN</td>\n",
       "      <td>NaN</td>\n",
       "      <td>NaN</td>\n",
       "      <td>NaN</td>\n",
       "      <td>...</td>\n",
       "      <td>NaN</td>\n",
       "      <td>56542.0</td>\n",
       "      <td>55477.0</td>\n",
       "      <td>2011.0</td>\n",
       "      <td>venture</td>\n",
       "      <td>10633300.0</td>\n",
       "      <td>0.0</td>\n",
       "      <td>0.0</td>\n",
       "      <td>0.0</td>\n",
       "      <td>1.0</td>\n",
       "    </tr>\n",
       "    <tr>\n",
       "      <th>217771</th>\n",
       "      <td>NaN</td>\n",
       "      <td>NaN</td>\n",
       "      <td>NaN</td>\n",
       "      <td>NaN</td>\n",
       "      <td>NaT</td>\n",
       "      <td>NaN</td>\n",
       "      <td>NaN</td>\n",
       "      <td>NaN</td>\n",
       "      <td>NaN</td>\n",
       "      <td>NaN</td>\n",
       "      <td>...</td>\n",
       "      <td>NaN</td>\n",
       "      <td>56543.0</td>\n",
       "      <td>55477.0</td>\n",
       "      <td>2012.0</td>\n",
       "      <td>venture</td>\n",
       "      <td>2125720.0</td>\n",
       "      <td>0.0</td>\n",
       "      <td>0.0</td>\n",
       "      <td>1.0</td>\n",
       "      <td>0.0</td>\n",
       "    </tr>\n",
       "    <tr>\n",
       "      <th>217772</th>\n",
       "      <td>NaN</td>\n",
       "      <td>NaN</td>\n",
       "      <td>NaN</td>\n",
       "      <td>NaN</td>\n",
       "      <td>NaT</td>\n",
       "      <td>NaN</td>\n",
       "      <td>NaN</td>\n",
       "      <td>NaN</td>\n",
       "      <td>NaN</td>\n",
       "      <td>NaN</td>\n",
       "      <td>...</td>\n",
       "      <td>NaN</td>\n",
       "      <td>56928.0</td>\n",
       "      <td>283492.0</td>\n",
       "      <td>2013.0</td>\n",
       "      <td>venture</td>\n",
       "      <td>3602480.0</td>\n",
       "      <td>0.0</td>\n",
       "      <td>5.0</td>\n",
       "      <td>1.0</td>\n",
       "      <td>1.0</td>\n",
       "    </tr>\n",
       "    <tr>\n",
       "      <th>217773</th>\n",
       "      <td>NaN</td>\n",
       "      <td>NaN</td>\n",
       "      <td>NaN</td>\n",
       "      <td>NaN</td>\n",
       "      <td>NaT</td>\n",
       "      <td>NaN</td>\n",
       "      <td>NaN</td>\n",
       "      <td>NaN</td>\n",
       "      <td>NaN</td>\n",
       "      <td>NaN</td>\n",
       "      <td>...</td>\n",
       "      <td>NaN</td>\n",
       "      <td>57063.0</td>\n",
       "      <td>284191.0</td>\n",
       "      <td>2013.0</td>\n",
       "      <td>venture</td>\n",
       "      <td>7000000.0</td>\n",
       "      <td>0.0</td>\n",
       "      <td>4.0</td>\n",
       "      <td>1.0</td>\n",
       "      <td>1.0</td>\n",
       "    </tr>\n",
       "  </tbody>\n",
       "</table>\n",
       "<p>217774 rows × 22 columns</p>\n",
       "</div>"
      ],
      "text/plain": [
       "        company_id      name category_code     status founded_at closed_at  \\\n",
       "0              1.0  wetpaint           web  operating 2005-10-17       NaN   \n",
       "1              1.0  wetpaint           web  operating 2005-10-17       NaN   \n",
       "2              1.0  wetpaint           web  operating 2005-10-17       NaN   \n",
       "3             10.0   flektor   games_video   acquired        NaT       NaN   \n",
       "4            100.0     there   games_video   acquired        NaT       NaN   \n",
       "...            ...       ...           ...        ...        ...       ...   \n",
       "217769         NaN       NaN           NaN        NaN        NaT       NaN   \n",
       "217770         NaN       NaN           NaN        NaN        NaT       NaN   \n",
       "217771         NaN       NaN           NaN        NaN        NaT       NaN   \n",
       "217772         NaN       NaN           NaN        NaN        NaT       NaN   \n",
       "217773         NaN       NaN           NaN        NaN        NaT       NaN   \n",
       "\n",
       "                  domain network_username country_code  investment_rounds  \\\n",
       "0       wetpaint-inc.com  bachelrwetpaint          USA                0.0   \n",
       "1       wetpaint-inc.com  bachelrwetpaint          USA                0.0   \n",
       "2       wetpaint-inc.com  bachelrwetpaint          USA                0.0   \n",
       "3            flektor.com              NaN          USA                0.0   \n",
       "4              there.com              NaN          USA                0.0   \n",
       "...                  ...              ...          ...                ...   \n",
       "217769               NaN              NaN          NaN                NaN   \n",
       "217770               NaN              NaN          NaN                NaN   \n",
       "217771               NaN              NaN          NaN                NaN   \n",
       "217772               NaN              NaN          NaN                NaN   \n",
       "217773               NaN              NaN          NaN                NaN   \n",
       "\n",
       "        ...  milestones  funding_round_id  company_id_p  funded_at  \\\n",
       "0       ...         5.0             888.0           1.0     2005.0   \n",
       "1       ...         5.0             889.0           1.0     2007.0   \n",
       "2       ...         5.0            2312.0           1.0     2008.0   \n",
       "3       ...         0.0               NaN           NaN        NaN   \n",
       "4       ...         4.0               NaN           NaN        NaN   \n",
       "...     ...         ...               ...           ...        ...   \n",
       "217769  ...         NaN           56454.0      282847.0     2011.0   \n",
       "217770  ...         NaN           56542.0       55477.0     2011.0   \n",
       "217771  ...         NaN           56543.0       55477.0     2012.0   \n",
       "217772  ...         NaN           56928.0      283492.0     2013.0   \n",
       "217773  ...         NaN           57063.0      284191.0     2013.0   \n",
       "\n",
       "        funding_round_type  raised_amount pre_money_valuation  participants  \\\n",
       "0                 series-a      5250000.0                 0.0           2.0   \n",
       "1                 series-b      9500000.0                 0.0           3.0   \n",
       "2                series-c+     25000000.0                 0.0           4.0   \n",
       "3                      NaN            NaN                 NaN           NaN   \n",
       "4                      NaN            NaN                 NaN           NaN   \n",
       "...                    ...            ...                 ...           ...   \n",
       "217769               other      5500000.0                 0.0           0.0   \n",
       "217770             venture     10633300.0                 0.0           0.0   \n",
       "217771             venture      2125720.0                 0.0           0.0   \n",
       "217772             venture      3602480.0                 0.0           5.0   \n",
       "217773             venture      7000000.0                 0.0           4.0   \n",
       "\n",
       "        is_first_round  is_last_round  \n",
       "0                  0.0            1.0  \n",
       "1                  0.0            0.0  \n",
       "2                  1.0            0.0  \n",
       "3                  NaN            NaN  \n",
       "4                  NaN            NaN  \n",
       "...                ...            ...  \n",
       "217769             1.0            1.0  \n",
       "217770             0.0            1.0  \n",
       "217771             1.0            0.0  \n",
       "217772             1.0            1.0  \n",
       "217773             1.0            1.0  \n",
       "\n",
       "[217774 rows x 22 columns]"
      ]
     },
     "execution_count": 109,
     "metadata": {},
     "output_type": "execute_result"
    }
   ],
   "source": [
    "# Выведем датасет на экран\n",
    "car_df"
   ]
  },
  {
   "cell_type": "markdown",
   "metadata": {
    "id": "9BY9lTUcFbJ-"
   },
   "source": [
    "Видна чёткая граница из пропущенных значений, разделим датасет на два новых"
   ]
  },
  {
   "cell_type": "code",
   "execution_count": 111,
   "metadata": {
    "id": "tJ6Sl6MKrJg1",
    "vscode": {
     "languageId": "plaintext"
    }
   },
   "outputs": [],
   "source": [
    "# Разделим проблемный датасет на два новых\n",
    "company_df = car_df.iloc[:, :13]  \n",
    "round_df = car_df.iloc[:, 13:]  "
   ]
  },
  {
   "cell_type": "code",
   "execution_count": 112,
   "metadata": {},
   "outputs": [],
   "source": [
    "# Переименуем столбец\n",
    "round_df = round_df.rename(columns={'company_id_p': 'company_id'})"
   ]
  },
  {
   "cell_type": "code",
   "execution_count": 113,
   "metadata": {},
   "outputs": [
    {
     "name": "stdout",
     "output_type": "stream",
     "text": [
      "<class 'pandas.core.frame.DataFrame'>\n",
      "RangeIndex: 217774 entries, 0 to 217773\n",
      "Data columns (total 9 columns):\n",
      " #   Column               Non-Null Count  Dtype  \n",
      "---  ------               --------------  -----  \n",
      " 0   funding_round_id     52928 non-null  float64\n",
      " 1   company_id           52928 non-null  float64\n",
      " 2   funded_at            52680 non-null  float64\n",
      " 3   funding_round_type   52928 non-null  object \n",
      " 4   raised_amount        52928 non-null  float64\n",
      " 5   pre_money_valuation  52928 non-null  float64\n",
      " 6   participants         52928 non-null  float32\n",
      " 7   is_first_round       52928 non-null  float32\n",
      " 8   is_last_round        52928 non-null  float32\n",
      "dtypes: float32(3), float64(5), object(1)\n",
      "memory usage: 12.5+ MB\n"
     ]
    }
   ],
   "source": [
    "# Выведем информацию о датасете round_df\n",
    "round_df.info()"
   ]
  },
  {
   "cell_type": "code",
   "execution_count": 114,
   "metadata": {},
   "outputs": [],
   "source": [
    "#Удалим пропуски\n",
    "round_df = round_df.dropna(subset=['company_id'])"
   ]
  },
  {
   "cell_type": "code",
   "execution_count": 115,
   "metadata": {},
   "outputs": [
    {
     "data": {
      "text/plain": [
       "0"
      ]
     },
     "execution_count": 115,
     "metadata": {},
     "output_type": "execute_result"
    }
   ],
   "source": [
    "# Проверим явные дубликаты в round_df\n",
    "round_df.duplicated().sum()"
   ]
  },
  {
   "cell_type": "code",
   "execution_count": 116,
   "metadata": {},
   "outputs": [
    {
     "name": "stdout",
     "output_type": "stream",
     "text": [
      "<class 'pandas.core.frame.DataFrame'>\n",
      "Int64Index: 52928 entries, 0 to 217773\n",
      "Data columns (total 9 columns):\n",
      " #   Column               Non-Null Count  Dtype  \n",
      "---  ------               --------------  -----  \n",
      " 0   funding_round_id     52928 non-null  float64\n",
      " 1   company_id           52928 non-null  float64\n",
      " 2   funded_at            52680 non-null  float64\n",
      " 3   funding_round_type   52928 non-null  object \n",
      " 4   raised_amount        52928 non-null  float64\n",
      " 5   pre_money_valuation  52928 non-null  float64\n",
      " 6   participants         52928 non-null  float32\n",
      " 7   is_first_round       52928 non-null  float32\n",
      " 8   is_last_round        52928 non-null  float32\n",
      "dtypes: float32(3), float64(5), object(1)\n",
      "memory usage: 3.4+ MB\n"
     ]
    }
   ],
   "source": [
    "# Проверим результат\n",
    "round_df.info()"
   ]
  },
  {
   "cell_type": "code",
   "execution_count": 117,
   "metadata": {
    "scrolled": true
   },
   "outputs": [
    {
     "name": "stdout",
     "output_type": "stream",
     "text": [
      "<class 'pandas.core.frame.DataFrame'>\n",
      "RangeIndex: 217774 entries, 0 to 217773\n",
      "Data columns (total 13 columns):\n",
      " #   Column             Non-Null Count   Dtype         \n",
      "---  ------             --------------   -----         \n",
      " 0   company_id         217472 non-null  float64       \n",
      " 1   name               217472 non-null  object        \n",
      " 2   category_code      143886 non-null  object        \n",
      " 3   status             217472 non-null  object        \n",
      " 4   founded_at         109956 non-null  datetime64[ns]\n",
      " 5   closed_at          3449 non-null    object        \n",
      " 6   domain             147159 non-null  object        \n",
      " 7   network_username   95534 non-null   object        \n",
      " 8   country_code       108607 non-null  object        \n",
      " 9   investment_rounds  217472 non-null  float64       \n",
      " 10  funding_rounds     217472 non-null  float64       \n",
      " 11  funding_total      217472 non-null  float64       \n",
      " 12  milestones         217472 non-null  float32       \n",
      "dtypes: datetime64[ns](1), float32(1), float64(4), object(7)\n",
      "memory usage: 20.8+ MB\n"
     ]
    }
   ],
   "source": [
    "# Выведем информацию о датасете company_df\n",
    "company_df.info()"
   ]
  },
  {
   "cell_type": "code",
   "execution_count": 118,
   "metadata": {},
   "outputs": [],
   "source": [
    "#Удалим пропуски\n",
    "company_df = company_df.dropna(subset=['company_id'])"
   ]
  },
  {
   "cell_type": "code",
   "execution_count": 119,
   "metadata": {},
   "outputs": [
    {
     "data": {
      "text/plain": [
       "20919"
      ]
     },
     "execution_count": 119,
     "metadata": {},
     "output_type": "execute_result"
    }
   ],
   "source": [
    "# Проверим явные дубликаты в company_df\n",
    "company_df.duplicated().sum()"
   ]
  },
  {
   "cell_type": "code",
   "execution_count": 120,
   "metadata": {},
   "outputs": [],
   "source": [
    "# Удаляем дубликаты, оставляя первую строку\n",
    "company_df = company_df.drop_duplicates(keep = 'first')"
   ]
  },
  {
   "cell_type": "code",
   "execution_count": 121,
   "metadata": {},
   "outputs": [
    {
     "name": "stdout",
     "output_type": "stream",
     "text": [
      "<class 'pandas.core.frame.DataFrame'>\n",
      "Int64Index: 196553 entries, 0 to 217469\n",
      "Data columns (total 13 columns):\n",
      " #   Column             Non-Null Count   Dtype         \n",
      "---  ------             --------------   -----         \n",
      " 0   company_id         196553 non-null  float64       \n",
      " 1   name               196553 non-null  object        \n",
      " 2   category_code      123186 non-null  object        \n",
      " 3   status             196553 non-null  object        \n",
      " 4   founded_at         91227 non-null   datetime64[ns]\n",
      " 5   closed_at          2620 non-null    object        \n",
      " 6   domain             126545 non-null  object        \n",
      " 7   network_username   80591 non-null   object        \n",
      " 8   country_code       87990 non-null   object        \n",
      " 9   investment_rounds  196553 non-null  float64       \n",
      " 10  funding_rounds     196553 non-null  float64       \n",
      " 11  funding_total      196553 non-null  float64       \n",
      " 12  milestones         196553 non-null  float32       \n",
      "dtypes: datetime64[ns](1), float32(1), float64(4), object(7)\n",
      "memory usage: 20.2+ MB\n"
     ]
    }
   ],
   "source": [
    "# Проверим результат\n",
    "company_df.info()"
   ]
  },
  {
   "cell_type": "markdown",
   "metadata": {},
   "source": [
    "По итогу работы мы получили два датасета:\n",
    "- `company_df` - 13 столбцов и 196553 строк с информацией о компаниях;\n",
    "- `round_df` - 9 столбцов и 52928 строк с информацией о раундах финансирования.\n",
    "\n",
    "Минимизированно количество пропусков, проверены и удалены явные дубликаты."
   ]
  },
  {
   "cell_type": "markdown",
   "metadata": {},
   "source": []
  },
  {
   "cell_type": "markdown",
   "metadata": {
    "id": "bmVYhphNrJg2"
   },
   "source": [
    "\n",
    "## Исследовательский анализ объединённых таблиц"
   ]
  },
  {
   "cell_type": "markdown",
   "metadata": {
    "id": "3Di6tCT3rJg2"
   },
   "source": [
    "\n",
    "### Объединение данных"
   ]
  },
  {
   "cell_type": "code",
   "execution_count": 122,
   "metadata": {
    "id": "kuV1b5MXFg3_"
   },
   "outputs": [],
   "source": [
    "# Создадим новый датасет соответствующий критериям заказчика\n",
    "filt_company_df = company_df[(company_df['funding_rounds'] > 0) | (company_df['investment_rounds'] > 0) | (company_df['status'] == 'acquired')]"
   ]
  },
  {
   "cell_type": "code",
   "execution_count": 123,
   "metadata": {
    "id": "93v3fEX5FgtP",
    "scrolled": true
   },
   "outputs": [
    {
     "data": {
      "text/html": [
       "<div>\n",
       "<style scoped>\n",
       "    .dataframe tbody tr th:only-of-type {\n",
       "        vertical-align: middle;\n",
       "    }\n",
       "\n",
       "    .dataframe tbody tr th {\n",
       "        vertical-align: top;\n",
       "    }\n",
       "\n",
       "    .dataframe thead th {\n",
       "        text-align: right;\n",
       "    }\n",
       "</style>\n",
       "<table border=\"1\" class=\"dataframe\">\n",
       "  <thead>\n",
       "    <tr style=\"text-align: right;\">\n",
       "      <th></th>\n",
       "      <th>company_id</th>\n",
       "      <th>name</th>\n",
       "      <th>category_code</th>\n",
       "      <th>status</th>\n",
       "      <th>founded_at</th>\n",
       "      <th>closed_at</th>\n",
       "      <th>domain</th>\n",
       "      <th>network_username</th>\n",
       "      <th>country_code</th>\n",
       "      <th>investment_rounds</th>\n",
       "      <th>funding_rounds</th>\n",
       "      <th>funding_total</th>\n",
       "      <th>milestones</th>\n",
       "    </tr>\n",
       "  </thead>\n",
       "  <tbody>\n",
       "    <tr>\n",
       "      <th>0</th>\n",
       "      <td>1.0</td>\n",
       "      <td>wetpaint</td>\n",
       "      <td>web</td>\n",
       "      <td>operating</td>\n",
       "      <td>2005-10-17</td>\n",
       "      <td>NaN</td>\n",
       "      <td>wetpaint-inc.com</td>\n",
       "      <td>bachelrwetpaint</td>\n",
       "      <td>USA</td>\n",
       "      <td>0.0</td>\n",
       "      <td>3.0</td>\n",
       "      <td>39750000.0</td>\n",
       "      <td>5.0</td>\n",
       "    </tr>\n",
       "    <tr>\n",
       "      <th>3</th>\n",
       "      <td>10.0</td>\n",
       "      <td>flektor</td>\n",
       "      <td>games_video</td>\n",
       "      <td>acquired</td>\n",
       "      <td>NaT</td>\n",
       "      <td>NaN</td>\n",
       "      <td>flektor.com</td>\n",
       "      <td>NaN</td>\n",
       "      <td>USA</td>\n",
       "      <td>0.0</td>\n",
       "      <td>0.0</td>\n",
       "      <td>0.0</td>\n",
       "      <td>0.0</td>\n",
       "    </tr>\n",
       "    <tr>\n",
       "      <th>4</th>\n",
       "      <td>100.0</td>\n",
       "      <td>there</td>\n",
       "      <td>games_video</td>\n",
       "      <td>acquired</td>\n",
       "      <td>NaT</td>\n",
       "      <td>NaN</td>\n",
       "      <td>there.com</td>\n",
       "      <td>NaN</td>\n",
       "      <td>USA</td>\n",
       "      <td>0.0</td>\n",
       "      <td>0.0</td>\n",
       "      <td>0.0</td>\n",
       "      <td>4.0</td>\n",
       "    </tr>\n",
       "    <tr>\n",
       "      <th>15</th>\n",
       "      <td>1001.0</td>\n",
       "      <td>friendfeed</td>\n",
       "      <td>web</td>\n",
       "      <td>acquired</td>\n",
       "      <td>2007-10-01</td>\n",
       "      <td>NaN</td>\n",
       "      <td>friendfeed.com</td>\n",
       "      <td>friendfeed</td>\n",
       "      <td>USA</td>\n",
       "      <td>0.0</td>\n",
       "      <td>1.0</td>\n",
       "      <td>5000000.0</td>\n",
       "      <td>3.0</td>\n",
       "    </tr>\n",
       "    <tr>\n",
       "      <th>20</th>\n",
       "      <td>10014.0</td>\n",
       "      <td>mobclix</td>\n",
       "      <td>mobile</td>\n",
       "      <td>acquired</td>\n",
       "      <td>2008-03-01</td>\n",
       "      <td>NaN</td>\n",
       "      <td>mobclix.com</td>\n",
       "      <td>mobclix</td>\n",
       "      <td>USA</td>\n",
       "      <td>0.0</td>\n",
       "      <td>1.0</td>\n",
       "      <td>0.0</td>\n",
       "      <td>4.0</td>\n",
       "    </tr>\n",
       "    <tr>\n",
       "      <th>...</th>\n",
       "      <td>...</td>\n",
       "      <td>...</td>\n",
       "      <td>...</td>\n",
       "      <td>...</td>\n",
       "      <td>...</td>\n",
       "      <td>...</td>\n",
       "      <td>...</td>\n",
       "      <td>...</td>\n",
       "      <td>...</td>\n",
       "      <td>...</td>\n",
       "      <td>...</td>\n",
       "      <td>...</td>\n",
       "      <td>...</td>\n",
       "    </tr>\n",
       "    <tr>\n",
       "      <th>217458</th>\n",
       "      <td>1344.0</td>\n",
       "      <td>vobile</td>\n",
       "      <td>web</td>\n",
       "      <td>operating</td>\n",
       "      <td>2005-01-01</td>\n",
       "      <td>NaN</td>\n",
       "      <td>vobileinc.com</td>\n",
       "      <td>networkmobile</td>\n",
       "      <td>USA</td>\n",
       "      <td>0.0</td>\n",
       "      <td>1.0</td>\n",
       "      <td>10000000.0</td>\n",
       "      <td>0.0</td>\n",
       "    </tr>\n",
       "    <tr>\n",
       "      <th>217459</th>\n",
       "      <td>142181.0</td>\n",
       "      <td>stop being watched</td>\n",
       "      <td>software</td>\n",
       "      <td>operating</td>\n",
       "      <td>2010-06-10</td>\n",
       "      <td>NaN</td>\n",
       "      <td>stopbeingwatched.com</td>\n",
       "      <td>sbwinfonetwork</td>\n",
       "      <td>USA</td>\n",
       "      <td>0.0</td>\n",
       "      <td>1.0</td>\n",
       "      <td>500000.0</td>\n",
       "      <td>1.0</td>\n",
       "    </tr>\n",
       "    <tr>\n",
       "      <th>217463</th>\n",
       "      <td>3429.0</td>\n",
       "      <td>zend technologies</td>\n",
       "      <td>software</td>\n",
       "      <td>operating</td>\n",
       "      <td>1999-01-01</td>\n",
       "      <td>NaN</td>\n",
       "      <td>zend.com</td>\n",
       "      <td>networkzend</td>\n",
       "      <td>USA</td>\n",
       "      <td>0.0</td>\n",
       "      <td>4.0</td>\n",
       "      <td>44000000.0</td>\n",
       "      <td>6.0</td>\n",
       "    </tr>\n",
       "    <tr>\n",
       "      <th>217467</th>\n",
       "      <td>7748.0</td>\n",
       "      <td>flowgram</td>\n",
       "      <td>web</td>\n",
       "      <td>closed</td>\n",
       "      <td>2007-06-01</td>\n",
       "      <td>2008-06-11</td>\n",
       "      <td>flowgram.com</td>\n",
       "      <td>network</td>\n",
       "      <td>USA</td>\n",
       "      <td>0.0</td>\n",
       "      <td>1.0</td>\n",
       "      <td>1300000.0</td>\n",
       "      <td>3.0</td>\n",
       "    </tr>\n",
       "    <tr>\n",
       "      <th>217469</th>\n",
       "      <td>43233.0</td>\n",
       "      <td>photonet</td>\n",
       "      <td>photo_video</td>\n",
       "      <td>acquired</td>\n",
       "      <td>2010-03-01</td>\n",
       "      <td>NaN</td>\n",
       "      <td>Photonet.com</td>\n",
       "      <td>photonet</td>\n",
       "      <td>USA</td>\n",
       "      <td>0.0</td>\n",
       "      <td>3.0</td>\n",
       "      <td>57500000.0</td>\n",
       "      <td>3.0</td>\n",
       "    </tr>\n",
       "  </tbody>\n",
       "</table>\n",
       "<p>40747 rows × 13 columns</p>\n",
       "</div>"
      ],
      "text/plain": [
       "        company_id                name category_code     status founded_at  \\\n",
       "0              1.0            wetpaint           web  operating 2005-10-17   \n",
       "3             10.0             flektor   games_video   acquired        NaT   \n",
       "4            100.0               there   games_video   acquired        NaT   \n",
       "15          1001.0          friendfeed           web   acquired 2007-10-01   \n",
       "20         10014.0             mobclix        mobile   acquired 2008-03-01   \n",
       "...            ...                 ...           ...        ...        ...   \n",
       "217458      1344.0              vobile           web  operating 2005-01-01   \n",
       "217459    142181.0  stop being watched      software  operating 2010-06-10   \n",
       "217463      3429.0   zend technologies      software  operating 1999-01-01   \n",
       "217467      7748.0            flowgram           web     closed 2007-06-01   \n",
       "217469     43233.0            photonet   photo_video   acquired 2010-03-01   \n",
       "\n",
       "         closed_at                domain network_username country_code  \\\n",
       "0              NaN      wetpaint-inc.com  bachelrwetpaint          USA   \n",
       "3              NaN           flektor.com              NaN          USA   \n",
       "4              NaN             there.com              NaN          USA   \n",
       "15             NaN        friendfeed.com       friendfeed          USA   \n",
       "20             NaN           mobclix.com          mobclix          USA   \n",
       "...            ...                   ...              ...          ...   \n",
       "217458         NaN         vobileinc.com    networkmobile          USA   \n",
       "217459         NaN  stopbeingwatched.com   sbwinfonetwork          USA   \n",
       "217463         NaN              zend.com      networkzend          USA   \n",
       "217467  2008-06-11          flowgram.com          network          USA   \n",
       "217469         NaN          Photonet.com         photonet          USA   \n",
       "\n",
       "        investment_rounds  funding_rounds  funding_total  milestones  \n",
       "0                     0.0             3.0     39750000.0         5.0  \n",
       "3                     0.0             0.0            0.0         0.0  \n",
       "4                     0.0             0.0            0.0         4.0  \n",
       "15                    0.0             1.0      5000000.0         3.0  \n",
       "20                    0.0             1.0            0.0         4.0  \n",
       "...                   ...             ...            ...         ...  \n",
       "217458                0.0             1.0     10000000.0         0.0  \n",
       "217459                0.0             1.0       500000.0         1.0  \n",
       "217463                0.0             4.0     44000000.0         6.0  \n",
       "217467                0.0             1.0      1300000.0         3.0  \n",
       "217469                0.0             3.0     57500000.0         3.0  \n",
       "\n",
       "[40747 rows x 13 columns]"
      ]
     },
     "execution_count": 123,
     "metadata": {},
     "output_type": "execute_result"
    }
   ],
   "source": [
    "# Выведем результат на экран\n",
    "filt_company_df"
   ]
  },
  {
   "cell_type": "markdown",
   "metadata": {},
   "source": [
    "По итогу мы получили датасет в 40747 строк и 13 столбцов."
   ]
  },
  {
   "cell_type": "markdown",
   "metadata": {
    "id": "DFHINkV3rJg2"
   },
   "source": [
    "\n",
    "### Анализ выбросов"
   ]
  },
  {
   "cell_type": "code",
   "execution_count": 124,
   "metadata": {
    "id": "S1jrfr7rFhcw"
   },
   "outputs": [
    {
     "data": {
      "image/png": "[encoded data removed]",
      "text/plain": [
       "<Figure size 504x144 with 1 Axes>"
      ]
     },
     "metadata": {
      "needs_background": "light"
     },
     "output_type": "display_data"
    }
   ],
   "source": [
    "# Создадим диаграмму размаха для общей суммы финансирования\n",
    "plt.figure(figsize=(7, 2))\n",
    "\n",
    "filt_company_df.boxplot(column='funding_total', vert=False)\n",
    "\n",
    "plt.title('Распределение финансирования')\n",
    "plt.xlabel('Сумма финансирования')\n",
    "\n",
    "plt.show()"
   ]
  },
  {
   "cell_type": "markdown",
   "metadata": {},
   "source": [
    "Очень много данных близких к 0, выведем диаграмму размаха исключая выбросы. "
   ]
  },
  {
   "cell_type": "code",
   "execution_count": 125,
   "metadata": {},
   "outputs": [
    {
     "data": {
      "image/png": "[encoded data removed]",
      "text/plain": [
       "<Figure size 504x144 with 1 Axes>"
      ]
     },
     "metadata": {
      "needs_background": "light"
     },
     "output_type": "display_data"
    }
   ],
   "source": [
    "# Создадим диаграмму размаха для общей суммы финансирования без выбросов\n",
    "plt.figure(figsize=(7, 2))\n",
    "\n",
    "filt_company_df.boxplot(column='funding_total', showfliers=False, vert=False)\n",
    "\n",
    "plt.title('Распределение финансирования')\n",
    "plt.xlabel('Сумма финансирования')\n",
    "\n",
    "plt.show()"
   ]
  },
  {
   "cell_type": "code",
   "execution_count": 126,
   "metadata": {},
   "outputs": [
    {
     "data": {
      "text/plain": [
       "count           40,747\n",
       "mean        10,135,610\n",
       "std         56,464,360\n",
       "min                  0\n",
       "25%                  0\n",
       "50%            600,000\n",
       "75%          5,650,650\n",
       "max      5,700,000,000\n",
       "Name: funding_total, dtype: object"
      ]
     },
     "execution_count": 126,
     "metadata": {},
     "output_type": "execute_result"
    }
   ],
   "source": [
    "# Выведем основные показатели\n",
    "filt_company_df['funding_total'].describe().map('{:,.0f}'.format)"
   ]
  },
  {
   "cell_type": "markdown",
   "metadata": {},
   "source": [
    "Типичная сумма финансирования компании - 600000. Выбивающиеся значения (выбросы) начинаются с суммы 1400000. \n",
    "\n",
    "В датасете большое количество нулевых значений финансирования, на это указывает 25-й процентиль распределения. Большое количество выбросов крупных значений, на это указывает график распределения с выбросами. Так же в основых показателях на это указывает среднее значение в соотношении с медианным значением, а так же разброс значений."
   ]
  },
  {
   "cell_type": "markdown",
   "metadata": {
    "id": "JqkRAQrIrJg2"
   },
   "source": [
    "\n",
    "### Куплены за бесплатно?"
   ]
  },
  {
   "cell_type": "code",
   "execution_count": 127,
   "metadata": {},
   "outputs": [
    {
     "data": {
      "text/html": [
       "<div>\n",
       "<style scoped>\n",
       "    .dataframe tbody tr th:only-of-type {\n",
       "        vertical-align: middle;\n",
       "    }\n",
       "\n",
       "    .dataframe tbody tr th {\n",
       "        vertical-align: top;\n",
       "    }\n",
       "\n",
       "    .dataframe thead th {\n",
       "        text-align: right;\n",
       "    }\n",
       "</style>\n",
       "<table border=\"1\" class=\"dataframe\">\n",
       "  <thead>\n",
       "    <tr style=\"text-align: right;\">\n",
       "      <th></th>\n",
       "      <th>company_id</th>\n",
       "      <th>name</th>\n",
       "      <th>category_code</th>\n",
       "      <th>status</th>\n",
       "      <th>founded_at</th>\n",
       "      <th>closed_at</th>\n",
       "      <th>domain</th>\n",
       "      <th>network_username</th>\n",
       "      <th>country_code</th>\n",
       "      <th>investment_rounds</th>\n",
       "      <th>funding_rounds</th>\n",
       "      <th>funding_total</th>\n",
       "      <th>milestones</th>\n",
       "      <th>id</th>\n",
       "      <th>acquiring_company_id</th>\n",
       "      <th>acquired_company_id</th>\n",
       "      <th>term_code</th>\n",
       "      <th>price_amount</th>\n",
       "      <th>acquired_at</th>\n",
       "    </tr>\n",
       "  </thead>\n",
       "  <tbody>\n",
       "    <tr>\n",
       "      <th>0</th>\n",
       "      <td>1.0</td>\n",
       "      <td>wetpaint</td>\n",
       "      <td>web</td>\n",
       "      <td>operating</td>\n",
       "      <td>2005-10-17</td>\n",
       "      <td>NaN</td>\n",
       "      <td>wetpaint-inc.com</td>\n",
       "      <td>bachelrwetpaint</td>\n",
       "      <td>USA</td>\n",
       "      <td>0.0</td>\n",
       "      <td>3.0</td>\n",
       "      <td>39750000.0</td>\n",
       "      <td>5.0</td>\n",
       "      <td>NaN</td>\n",
       "      <td>NaN</td>\n",
       "      <td>NaN</td>\n",
       "      <td>NaN</td>\n",
       "      <td>NaN</td>\n",
       "      <td>NaT</td>\n",
       "    </tr>\n",
       "    <tr>\n",
       "      <th>1</th>\n",
       "      <td>10.0</td>\n",
       "      <td>flektor</td>\n",
       "      <td>games_video</td>\n",
       "      <td>acquired</td>\n",
       "      <td>NaT</td>\n",
       "      <td>NaN</td>\n",
       "      <td>flektor.com</td>\n",
       "      <td>NaN</td>\n",
       "      <td>USA</td>\n",
       "      <td>0.0</td>\n",
       "      <td>0.0</td>\n",
       "      <td>0.0</td>\n",
       "      <td>0.0</td>\n",
       "      <td>1.0</td>\n",
       "      <td>11.0</td>\n",
       "      <td>10.0</td>\n",
       "      <td>NaN</td>\n",
       "      <td>2.000000e+07</td>\n",
       "      <td>2007-05-30</td>\n",
       "    </tr>\n",
       "    <tr>\n",
       "      <th>2</th>\n",
       "      <td>100.0</td>\n",
       "      <td>there</td>\n",
       "      <td>games_video</td>\n",
       "      <td>acquired</td>\n",
       "      <td>NaT</td>\n",
       "      <td>NaN</td>\n",
       "      <td>there.com</td>\n",
       "      <td>NaN</td>\n",
       "      <td>USA</td>\n",
       "      <td>0.0</td>\n",
       "      <td>0.0</td>\n",
       "      <td>0.0</td>\n",
       "      <td>4.0</td>\n",
       "      <td>20.0</td>\n",
       "      <td>377.0</td>\n",
       "      <td>100.0</td>\n",
       "      <td>cash</td>\n",
       "      <td>0.000000e+00</td>\n",
       "      <td>2005-05-29</td>\n",
       "    </tr>\n",
       "    <tr>\n",
       "      <th>3</th>\n",
       "      <td>1001.0</td>\n",
       "      <td>friendfeed</td>\n",
       "      <td>web</td>\n",
       "      <td>acquired</td>\n",
       "      <td>2007-10-01</td>\n",
       "      <td>NaN</td>\n",
       "      <td>friendfeed.com</td>\n",
       "      <td>friendfeed</td>\n",
       "      <td>USA</td>\n",
       "      <td>0.0</td>\n",
       "      <td>1.0</td>\n",
       "      <td>5000000.0</td>\n",
       "      <td>3.0</td>\n",
       "      <td>1901.0</td>\n",
       "      <td>5.0</td>\n",
       "      <td>1001.0</td>\n",
       "      <td>cash_and_stock</td>\n",
       "      <td>4.750000e+07</td>\n",
       "      <td>2009-08-10</td>\n",
       "    </tr>\n",
       "    <tr>\n",
       "      <th>4</th>\n",
       "      <td>10014.0</td>\n",
       "      <td>mobclix</td>\n",
       "      <td>mobile</td>\n",
       "      <td>acquired</td>\n",
       "      <td>2008-03-01</td>\n",
       "      <td>NaN</td>\n",
       "      <td>mobclix.com</td>\n",
       "      <td>mobclix</td>\n",
       "      <td>USA</td>\n",
       "      <td>0.0</td>\n",
       "      <td>1.0</td>\n",
       "      <td>0.0</td>\n",
       "      <td>4.0</td>\n",
       "      <td>3878.0</td>\n",
       "      <td>23054.0</td>\n",
       "      <td>10014.0</td>\n",
       "      <td>NaN</td>\n",
       "      <td>0.000000e+00</td>\n",
       "      <td>2010-09-30</td>\n",
       "    </tr>\n",
       "    <tr>\n",
       "      <th>...</th>\n",
       "      <td>...</td>\n",
       "      <td>...</td>\n",
       "      <td>...</td>\n",
       "      <td>...</td>\n",
       "      <td>...</td>\n",
       "      <td>...</td>\n",
       "      <td>...</td>\n",
       "      <td>...</td>\n",
       "      <td>...</td>\n",
       "      <td>...</td>\n",
       "      <td>...</td>\n",
       "      <td>...</td>\n",
       "      <td>...</td>\n",
       "      <td>...</td>\n",
       "      <td>...</td>\n",
       "      <td>...</td>\n",
       "      <td>...</td>\n",
       "      <td>...</td>\n",
       "      <td>...</td>\n",
       "    </tr>\n",
       "    <tr>\n",
       "      <th>40885</th>\n",
       "      <td>1344.0</td>\n",
       "      <td>vobile</td>\n",
       "      <td>web</td>\n",
       "      <td>operating</td>\n",
       "      <td>2005-01-01</td>\n",
       "      <td>NaN</td>\n",
       "      <td>vobileinc.com</td>\n",
       "      <td>networkmobile</td>\n",
       "      <td>USA</td>\n",
       "      <td>0.0</td>\n",
       "      <td>1.0</td>\n",
       "      <td>10000000.0</td>\n",
       "      <td>0.0</td>\n",
       "      <td>NaN</td>\n",
       "      <td>NaN</td>\n",
       "      <td>NaN</td>\n",
       "      <td>NaN</td>\n",
       "      <td>NaN</td>\n",
       "      <td>NaT</td>\n",
       "    </tr>\n",
       "    <tr>\n",
       "      <th>40886</th>\n",
       "      <td>142181.0</td>\n",
       "      <td>stop being watched</td>\n",
       "      <td>software</td>\n",
       "      <td>operating</td>\n",
       "      <td>2010-06-10</td>\n",
       "      <td>NaN</td>\n",
       "      <td>stopbeingwatched.com</td>\n",
       "      <td>sbwinfonetwork</td>\n",
       "      <td>USA</td>\n",
       "      <td>0.0</td>\n",
       "      <td>1.0</td>\n",
       "      <td>500000.0</td>\n",
       "      <td>1.0</td>\n",
       "      <td>NaN</td>\n",
       "      <td>NaN</td>\n",
       "      <td>NaN</td>\n",
       "      <td>NaN</td>\n",
       "      <td>NaN</td>\n",
       "      <td>NaT</td>\n",
       "    </tr>\n",
       "    <tr>\n",
       "      <th>40887</th>\n",
       "      <td>3429.0</td>\n",
       "      <td>zend technologies</td>\n",
       "      <td>software</td>\n",
       "      <td>operating</td>\n",
       "      <td>1999-01-01</td>\n",
       "      <td>NaN</td>\n",
       "      <td>zend.com</td>\n",
       "      <td>networkzend</td>\n",
       "      <td>USA</td>\n",
       "      <td>0.0</td>\n",
       "      <td>4.0</td>\n",
       "      <td>44000000.0</td>\n",
       "      <td>6.0</td>\n",
       "      <td>NaN</td>\n",
       "      <td>NaN</td>\n",
       "      <td>NaN</td>\n",
       "      <td>NaN</td>\n",
       "      <td>NaN</td>\n",
       "      <td>NaT</td>\n",
       "    </tr>\n",
       "    <tr>\n",
       "      <th>40888</th>\n",
       "      <td>7748.0</td>\n",
       "      <td>flowgram</td>\n",
       "      <td>web</td>\n",
       "      <td>closed</td>\n",
       "      <td>2007-06-01</td>\n",
       "      <td>2008-06-11</td>\n",
       "      <td>flowgram.com</td>\n",
       "      <td>network</td>\n",
       "      <td>USA</td>\n",
       "      <td>0.0</td>\n",
       "      <td>1.0</td>\n",
       "      <td>1300000.0</td>\n",
       "      <td>3.0</td>\n",
       "      <td>NaN</td>\n",
       "      <td>NaN</td>\n",
       "      <td>NaN</td>\n",
       "      <td>NaN</td>\n",
       "      <td>NaN</td>\n",
       "      <td>NaT</td>\n",
       "    </tr>\n",
       "    <tr>\n",
       "      <th>40889</th>\n",
       "      <td>43233.0</td>\n",
       "      <td>photonet</td>\n",
       "      <td>photo_video</td>\n",
       "      <td>acquired</td>\n",
       "      <td>2010-03-01</td>\n",
       "      <td>NaN</td>\n",
       "      <td>Photonet.com</td>\n",
       "      <td>photonet</td>\n",
       "      <td>USA</td>\n",
       "      <td>0.0</td>\n",
       "      <td>3.0</td>\n",
       "      <td>57500000.0</td>\n",
       "      <td>3.0</td>\n",
       "      <td>6968.0</td>\n",
       "      <td>5.0</td>\n",
       "      <td>43233.0</td>\n",
       "      <td>cash_and_stock</td>\n",
       "      <td>1.010470e+09</td>\n",
       "      <td>2012-04-09</td>\n",
       "    </tr>\n",
       "  </tbody>\n",
       "</table>\n",
       "<p>40890 rows × 19 columns</p>\n",
       "</div>"
      ],
      "text/plain": [
       "       company_id                name category_code     status founded_at  \\\n",
       "0             1.0            wetpaint           web  operating 2005-10-17   \n",
       "1            10.0             flektor   games_video   acquired        NaT   \n",
       "2           100.0               there   games_video   acquired        NaT   \n",
       "3          1001.0          friendfeed           web   acquired 2007-10-01   \n",
       "4         10014.0             mobclix        mobile   acquired 2008-03-01   \n",
       "...           ...                 ...           ...        ...        ...   \n",
       "40885      1344.0              vobile           web  operating 2005-01-01   \n",
       "40886    142181.0  stop being watched      software  operating 2010-06-10   \n",
       "40887      3429.0   zend technologies      software  operating 1999-01-01   \n",
       "40888      7748.0            flowgram           web     closed 2007-06-01   \n",
       "40889     43233.0            photonet   photo_video   acquired 2010-03-01   \n",
       "\n",
       "        closed_at                domain network_username country_code  \\\n",
       "0             NaN      wetpaint-inc.com  bachelrwetpaint          USA   \n",
       "1             NaN           flektor.com              NaN          USA   \n",
       "2             NaN             there.com              NaN          USA   \n",
       "3             NaN        friendfeed.com       friendfeed          USA   \n",
       "4             NaN           mobclix.com          mobclix          USA   \n",
       "...           ...                   ...              ...          ...   \n",
       "40885         NaN         vobileinc.com    networkmobile          USA   \n",
       "40886         NaN  stopbeingwatched.com   sbwinfonetwork          USA   \n",
       "40887         NaN              zend.com      networkzend          USA   \n",
       "40888  2008-06-11          flowgram.com          network          USA   \n",
       "40889         NaN          Photonet.com         photonet          USA   \n",
       "\n",
       "       investment_rounds  funding_rounds  funding_total  milestones      id  \\\n",
       "0                    0.0             3.0     39750000.0         5.0     NaN   \n",
       "1                    0.0             0.0            0.0         0.0     1.0   \n",
       "2                    0.0             0.0            0.0         4.0    20.0   \n",
       "3                    0.0             1.0      5000000.0         3.0  1901.0   \n",
       "4                    0.0             1.0            0.0         4.0  3878.0   \n",
       "...                  ...             ...            ...         ...     ...   \n",
       "40885                0.0             1.0     10000000.0         0.0     NaN   \n",
       "40886                0.0             1.0       500000.0         1.0     NaN   \n",
       "40887                0.0             4.0     44000000.0         6.0     NaN   \n",
       "40888                0.0             1.0      1300000.0         3.0     NaN   \n",
       "40889                0.0             3.0     57500000.0         3.0  6968.0   \n",
       "\n",
       "       acquiring_company_id  acquired_company_id       term_code  \\\n",
       "0                       NaN                  NaN             NaN   \n",
       "1                      11.0                 10.0             NaN   \n",
       "2                     377.0                100.0            cash   \n",
       "3                       5.0               1001.0  cash_and_stock   \n",
       "4                   23054.0              10014.0             NaN   \n",
       "...                     ...                  ...             ...   \n",
       "40885                   NaN                  NaN             NaN   \n",
       "40886                   NaN                  NaN             NaN   \n",
       "40887                   NaN                  NaN             NaN   \n",
       "40888                   NaN                  NaN             NaN   \n",
       "40889                   5.0              43233.0  cash_and_stock   \n",
       "\n",
       "       price_amount acquired_at  \n",
       "0               NaN         NaT  \n",
       "1      2.000000e+07  2007-05-30  \n",
       "2      0.000000e+00  2005-05-29  \n",
       "3      4.750000e+07  2009-08-10  \n",
       "4      0.000000e+00  2010-09-30  \n",
       "...             ...         ...  \n",
       "40885           NaN         NaT  \n",
       "40886           NaN         NaT  \n",
       "40887           NaN         NaT  \n",
       "40888           NaN         NaT  \n",
       "40889  1.010470e+09  2012-04-09  \n",
       "\n",
       "[40890 rows x 19 columns]"
      ]
     },
     "execution_count": 127,
     "metadata": {},
     "output_type": "execute_result"
    }
   ],
   "source": [
    "# Объединим датасеты acqui_df и filt_company_df по идентификатору покупаемых компаний\n",
    "acqui_company_df = filt_company_df.merge(acqui_df, left_on='company_id', right_on='acquired_company_id', how='left')\n",
    "acqui_company_df"
   ]
  },
  {
   "cell_type": "code",
   "execution_count": 128,
   "metadata": {
    "id": "wJHXCBwwrJg2",
    "scrolled": false,
    "vscode": {
     "languageId": "plaintext"
    }
   },
   "outputs": [
    {
     "data": {
      "text/html": [
       "<div>\n",
       "<style scoped>\n",
       "    .dataframe tbody tr th:only-of-type {\n",
       "        vertical-align: middle;\n",
       "    }\n",
       "\n",
       "    .dataframe tbody tr th {\n",
       "        vertical-align: top;\n",
       "    }\n",
       "\n",
       "    .dataframe thead th {\n",
       "        text-align: right;\n",
       "    }\n",
       "</style>\n",
       "<table border=\"1\" class=\"dataframe\">\n",
       "  <thead>\n",
       "    <tr style=\"text-align: right;\">\n",
       "      <th></th>\n",
       "      <th>company_id</th>\n",
       "      <th>name</th>\n",
       "      <th>category_code</th>\n",
       "      <th>status</th>\n",
       "      <th>founded_at</th>\n",
       "      <th>closed_at</th>\n",
       "      <th>domain</th>\n",
       "      <th>network_username</th>\n",
       "      <th>country_code</th>\n",
       "      <th>investment_rounds</th>\n",
       "      <th>funding_rounds</th>\n",
       "      <th>funding_total</th>\n",
       "      <th>milestones</th>\n",
       "      <th>id</th>\n",
       "      <th>acquiring_company_id</th>\n",
       "      <th>acquired_company_id</th>\n",
       "      <th>term_code</th>\n",
       "      <th>price_amount</th>\n",
       "      <th>acquired_at</th>\n",
       "    </tr>\n",
       "  </thead>\n",
       "  <tbody>\n",
       "    <tr>\n",
       "      <th>25</th>\n",
       "      <td>10054.0</td>\n",
       "      <td>jumptap</td>\n",
       "      <td>mobile</td>\n",
       "      <td>acquired</td>\n",
       "      <td>2005-01-01</td>\n",
       "      <td>NaN</td>\n",
       "      <td>jumptap.com</td>\n",
       "      <td>jumptap</td>\n",
       "      <td>USA</td>\n",
       "      <td>0.0</td>\n",
       "      <td>7.0</td>\n",
       "      <td>121500000.0</td>\n",
       "      <td>3.0</td>\n",
       "      <td>9288.0</td>\n",
       "      <td>23283.0</td>\n",
       "      <td>10054.0</td>\n",
       "      <td>cash_and_stock</td>\n",
       "      <td>0.0</td>\n",
       "      <td>2013-08-13</td>\n",
       "    </tr>\n",
       "    <tr>\n",
       "      <th>63</th>\n",
       "      <td>101312.0</td>\n",
       "      <td>sidetour</td>\n",
       "      <td>web</td>\n",
       "      <td>acquired</td>\n",
       "      <td>2011-06-01</td>\n",
       "      <td>NaN</td>\n",
       "      <td>sidetour.com</td>\n",
       "      <td>sidetour</td>\n",
       "      <td>USA</td>\n",
       "      <td>0.0</td>\n",
       "      <td>3.0</td>\n",
       "      <td>4000000.0</td>\n",
       "      <td>2.0</td>\n",
       "      <td>9653.0</td>\n",
       "      <td>11391.0</td>\n",
       "      <td>101312.0</td>\n",
       "      <td>NaN</td>\n",
       "      <td>0.0</td>\n",
       "      <td>2013-09-18</td>\n",
       "    </tr>\n",
       "    <tr>\n",
       "      <th>66</th>\n",
       "      <td>101340.0</td>\n",
       "      <td>choicepass</td>\n",
       "      <td>enterprise</td>\n",
       "      <td>acquired</td>\n",
       "      <td>2011-07-01</td>\n",
       "      <td>NaN</td>\n",
       "      <td>choicepass.com</td>\n",
       "      <td>choicepass</td>\n",
       "      <td>USA</td>\n",
       "      <td>0.0</td>\n",
       "      <td>1.0</td>\n",
       "      <td>250000.0</td>\n",
       "      <td>1.0</td>\n",
       "      <td>7272.0</td>\n",
       "      <td>1972.0</td>\n",
       "      <td>101340.0</td>\n",
       "      <td>NaN</td>\n",
       "      <td>0.0</td>\n",
       "      <td>2012-06-18</td>\n",
       "    </tr>\n",
       "    <tr>\n",
       "      <th>67</th>\n",
       "      <td>10137.0</td>\n",
       "      <td>producteev</td>\n",
       "      <td>software</td>\n",
       "      <td>acquired</td>\n",
       "      <td>2008-07-08</td>\n",
       "      <td>NaN</td>\n",
       "      <td>producteev.com</td>\n",
       "      <td>producteev</td>\n",
       "      <td>USA</td>\n",
       "      <td>0.0</td>\n",
       "      <td>3.0</td>\n",
       "      <td>1310000.0</td>\n",
       "      <td>2.0</td>\n",
       "      <td>8254.0</td>\n",
       "      <td>757.0</td>\n",
       "      <td>10137.0</td>\n",
       "      <td>cash_and_stock</td>\n",
       "      <td>0.0</td>\n",
       "      <td>2012-11-05</td>\n",
       "    </tr>\n",
       "    <tr>\n",
       "      <th>68</th>\n",
       "      <td>10139.0</td>\n",
       "      <td>tradecard</td>\n",
       "      <td>enterprise</td>\n",
       "      <td>acquired</td>\n",
       "      <td>1999-01-01</td>\n",
       "      <td>NaN</td>\n",
       "      <td>tradecard.com</td>\n",
       "      <td>tradecard</td>\n",
       "      <td>USA</td>\n",
       "      <td>0.0</td>\n",
       "      <td>2.0</td>\n",
       "      <td>44925000.0</td>\n",
       "      <td>1.0</td>\n",
       "      <td>9326.0</td>\n",
       "      <td>44008.0</td>\n",
       "      <td>10139.0</td>\n",
       "      <td>NaN</td>\n",
       "      <td>0.0</td>\n",
       "      <td>2013-04-01</td>\n",
       "    </tr>\n",
       "    <tr>\n",
       "      <th>...</th>\n",
       "      <td>...</td>\n",
       "      <td>...</td>\n",
       "      <td>...</td>\n",
       "      <td>...</td>\n",
       "      <td>...</td>\n",
       "      <td>...</td>\n",
       "      <td>...</td>\n",
       "      <td>...</td>\n",
       "      <td>...</td>\n",
       "      <td>...</td>\n",
       "      <td>...</td>\n",
       "      <td>...</td>\n",
       "      <td>...</td>\n",
       "      <td>...</td>\n",
       "      <td>...</td>\n",
       "      <td>...</td>\n",
       "      <td>...</td>\n",
       "      <td>...</td>\n",
       "      <td>...</td>\n",
       "    </tr>\n",
       "    <tr>\n",
       "      <th>40834</th>\n",
       "      <td>99.0</td>\n",
       "      <td>amie street</td>\n",
       "      <td>web</td>\n",
       "      <td>acquired</td>\n",
       "      <td>2011-07-04</td>\n",
       "      <td>NaN</td>\n",
       "      <td>amiestreet.com</td>\n",
       "      <td>amiestreet_logs</td>\n",
       "      <td>USA</td>\n",
       "      <td>0.0</td>\n",
       "      <td>2.0</td>\n",
       "      <td>3900000.0</td>\n",
       "      <td>0.0</td>\n",
       "      <td>7024.0</td>\n",
       "      <td>317.0</td>\n",
       "      <td>99.0</td>\n",
       "      <td>NaN</td>\n",
       "      <td>0.0</td>\n",
       "      <td>2010-09-22</td>\n",
       "    </tr>\n",
       "    <tr>\n",
       "      <th>40836</th>\n",
       "      <td>9905.0</td>\n",
       "      <td>ubmatrix</td>\n",
       "      <td>software</td>\n",
       "      <td>acquired</td>\n",
       "      <td>2005-01-01</td>\n",
       "      <td>NaN</td>\n",
       "      <td>ubmatrix.com</td>\n",
       "      <td>NaN</td>\n",
       "      <td>USA</td>\n",
       "      <td>0.0</td>\n",
       "      <td>2.0</td>\n",
       "      <td>5172350.0</td>\n",
       "      <td>0.0</td>\n",
       "      <td>3381.0</td>\n",
       "      <td>41119.0</td>\n",
       "      <td>9905.0</td>\n",
       "      <td>NaN</td>\n",
       "      <td>0.0</td>\n",
       "      <td>2010-06-24</td>\n",
       "    </tr>\n",
       "    <tr>\n",
       "      <th>40840</th>\n",
       "      <td>992.0</td>\n",
       "      <td>wunderloop</td>\n",
       "      <td>advertising</td>\n",
       "      <td>acquired</td>\n",
       "      <td>1999-01-01</td>\n",
       "      <td>NaN</td>\n",
       "      <td>wunderloop.com</td>\n",
       "      <td>NaN</td>\n",
       "      <td>USA</td>\n",
       "      <td>0.0</td>\n",
       "      <td>1.0</td>\n",
       "      <td>10000000.0</td>\n",
       "      <td>1.0</td>\n",
       "      <td>9916.0</td>\n",
       "      <td>19182.0</td>\n",
       "      <td>992.0</td>\n",
       "      <td>NaN</td>\n",
       "      <td>0.0</td>\n",
       "      <td>2010-07-02</td>\n",
       "    </tr>\n",
       "    <tr>\n",
       "      <th>40854</th>\n",
       "      <td>997.0</td>\n",
       "      <td>zimbra</td>\n",
       "      <td>enterprise</td>\n",
       "      <td>acquired</td>\n",
       "      <td>2003-01-01</td>\n",
       "      <td>NaN</td>\n",
       "      <td>zimbra.com</td>\n",
       "      <td>zimbra</td>\n",
       "      <td>USA</td>\n",
       "      <td>0.0</td>\n",
       "      <td>1.0</td>\n",
       "      <td>14500000.0</td>\n",
       "      <td>3.0</td>\n",
       "      <td>9121.0</td>\n",
       "      <td>415.0</td>\n",
       "      <td>997.0</td>\n",
       "      <td>NaN</td>\n",
       "      <td>0.0</td>\n",
       "      <td>2013-07-15</td>\n",
       "    </tr>\n",
       "    <tr>\n",
       "      <th>40872</th>\n",
       "      <td>153326.0</td>\n",
       "      <td>yoke</td>\n",
       "      <td>web</td>\n",
       "      <td>acquired</td>\n",
       "      <td>NaT</td>\n",
       "      <td>NaN</td>\n",
       "      <td>apps.socialnet.com::yokeapp</td>\n",
       "      <td>NaN</td>\n",
       "      <td>NaN</td>\n",
       "      <td>0.0</td>\n",
       "      <td>1.0</td>\n",
       "      <td>500000.0</td>\n",
       "      <td>1.0</td>\n",
       "      <td>7948.0</td>\n",
       "      <td>2352.0</td>\n",
       "      <td>153326.0</td>\n",
       "      <td>NaN</td>\n",
       "      <td>0.0</td>\n",
       "      <td>2012-09-11</td>\n",
       "    </tr>\n",
       "  </tbody>\n",
       "</table>\n",
       "<p>1618 rows × 19 columns</p>\n",
       "</div>"
      ],
      "text/plain": [
       "       company_id         name category_code    status founded_at closed_at  \\\n",
       "25        10054.0      jumptap        mobile  acquired 2005-01-01       NaN   \n",
       "63       101312.0     sidetour           web  acquired 2011-06-01       NaN   \n",
       "66       101340.0   choicepass    enterprise  acquired 2011-07-01       NaN   \n",
       "67        10137.0   producteev      software  acquired 2008-07-08       NaN   \n",
       "68        10139.0    tradecard    enterprise  acquired 1999-01-01       NaN   \n",
       "...           ...          ...           ...       ...        ...       ...   \n",
       "40834        99.0  amie street           web  acquired 2011-07-04       NaN   \n",
       "40836      9905.0     ubmatrix      software  acquired 2005-01-01       NaN   \n",
       "40840       992.0   wunderloop   advertising  acquired 1999-01-01       NaN   \n",
       "40854       997.0       zimbra    enterprise  acquired 2003-01-01       NaN   \n",
       "40872    153326.0         yoke           web  acquired        NaT       NaN   \n",
       "\n",
       "                            domain network_username country_code  \\\n",
       "25                     jumptap.com          jumptap          USA   \n",
       "63                    sidetour.com         sidetour          USA   \n",
       "66                  choicepass.com       choicepass          USA   \n",
       "67                  producteev.com       producteev          USA   \n",
       "68                   tradecard.com        tradecard          USA   \n",
       "...                            ...              ...          ...   \n",
       "40834               amiestreet.com  amiestreet_logs          USA   \n",
       "40836                 ubmatrix.com              NaN          USA   \n",
       "40840               wunderloop.com              NaN          USA   \n",
       "40854                   zimbra.com           zimbra          USA   \n",
       "40872  apps.socialnet.com::yokeapp              NaN          NaN   \n",
       "\n",
       "       investment_rounds  funding_rounds  funding_total  milestones      id  \\\n",
       "25                   0.0             7.0    121500000.0         3.0  9288.0   \n",
       "63                   0.0             3.0      4000000.0         2.0  9653.0   \n",
       "66                   0.0             1.0       250000.0         1.0  7272.0   \n",
       "67                   0.0             3.0      1310000.0         2.0  8254.0   \n",
       "68                   0.0             2.0     44925000.0         1.0  9326.0   \n",
       "...                  ...             ...            ...         ...     ...   \n",
       "40834                0.0             2.0      3900000.0         0.0  7024.0   \n",
       "40836                0.0             2.0      5172350.0         0.0  3381.0   \n",
       "40840                0.0             1.0     10000000.0         1.0  9916.0   \n",
       "40854                0.0             1.0     14500000.0         3.0  9121.0   \n",
       "40872                0.0             1.0       500000.0         1.0  7948.0   \n",
       "\n",
       "       acquiring_company_id  acquired_company_id       term_code  \\\n",
       "25                  23283.0              10054.0  cash_and_stock   \n",
       "63                  11391.0             101312.0             NaN   \n",
       "66                   1972.0             101340.0             NaN   \n",
       "67                    757.0              10137.0  cash_and_stock   \n",
       "68                  44008.0              10139.0             NaN   \n",
       "...                     ...                  ...             ...   \n",
       "40834                 317.0                 99.0             NaN   \n",
       "40836               41119.0               9905.0             NaN   \n",
       "40840               19182.0                992.0             NaN   \n",
       "40854                 415.0                997.0             NaN   \n",
       "40872                2352.0             153326.0             NaN   \n",
       "\n",
       "       price_amount acquired_at  \n",
       "25              0.0  2013-08-13  \n",
       "63              0.0  2013-09-18  \n",
       "66              0.0  2012-06-18  \n",
       "67              0.0  2012-11-05  \n",
       "68              0.0  2013-04-01  \n",
       "...             ...         ...  \n",
       "40834           0.0  2010-09-22  \n",
       "40836           0.0  2010-06-24  \n",
       "40840           0.0  2010-07-02  \n",
       "40854           0.0  2013-07-15  \n",
       "40872           0.0  2012-09-11  \n",
       "\n",
       "[1618 rows x 19 columns]"
      ]
     },
     "execution_count": 128,
     "metadata": {},
     "output_type": "execute_result"
    }
   ],
   "source": [
    "# Фильтруем данные по условиям\n",
    "filt_acqui_comp = acqui_company_df[(acqui_company_df['funding_total'] != 0) & (acqui_company_df['price_amount'] <= 1)]\n",
    "filt_acqui_comp"
   ]
  },
  {
   "cell_type": "markdown",
   "metadata": {},
   "source": [
    "Для расчёта верхней и нижней границы выбросов нам поможет метод IQR."
   ]
  },
  {
   "cell_type": "code",
   "execution_count": 129,
   "metadata": {},
   "outputs": [
    {
     "data": {
      "text/plain": [
       "count            1,618\n",
       "mean        18,152,962\n",
       "std        144,503,027\n",
       "min              3,750\n",
       "25%          2,000,000\n",
       "50%          6,000,000\n",
       "75%         15,500,000\n",
       "max      5,700,000,000\n",
       "Name: funding_total, dtype: object"
      ]
     },
     "execution_count": 129,
     "metadata": {},
     "output_type": "execute_result"
    }
   ],
   "source": [
    "# Выведем основные показатели funding_total\n",
    "filt_acqui_comp['funding_total'].describe().map('{:,.0f}'.format)"
   ]
  },
  {
   "cell_type": "code",
   "execution_count": 130,
   "metadata": {
    "id": "9IDTHfYQFhuX"
   },
   "outputs": [],
   "source": [
    "# Расчитаем основные показатели для столбца funding_total\n",
    "Q3 = np.quantile(filt_acqui_comp['funding_total'], 0.75)\n",
    "Q1 = np.quantile(filt_acqui_comp['funding_total'], 0.25)\n",
    "IQR = Q3 - Q1\n",
    "high = Q3 + 1.5 * IQR\n",
    "low = Q1 - 1.5 * IQR"
   ]
  },
  {
   "cell_type": "code",
   "execution_count": 131,
   "metadata": {},
   "outputs": [
    {
     "name": "stdout",
     "output_type": "stream",
     "text": [
      "35750000.0\n",
      "-18250000.0\n"
     ]
    }
   ],
   "source": [
    "# Выведем результаты на экран\n",
    "print(high)\n",
    "print(low)"
   ]
  },
  {
   "cell_type": "markdown",
   "metadata": {},
   "source": [
    "Для нижней границы значение не может быть отрицательным, поэтому это будет 0."
   ]
  },
  {
   "cell_type": "code",
   "execution_count": 132,
   "metadata": {},
   "outputs": [
    {
     "data": {
      "text/plain": [
       "0.9091470951792336"
      ]
     },
     "execution_count": 132,
     "metadata": {},
     "output_type": "execute_result"
    }
   ],
   "source": [
    "# Найдём значение процентиля для верхней границы\n",
    "p = filt_acqui_comp[filt_acqui_comp['funding_total'] < high].count() / (filt_acqui_comp['funding_total'].count())\n",
    "p['funding_total']"
   ]
  },
  {
   "cell_type": "markdown",
   "metadata": {},
   "source": [
    "По итогам исследования процентиль для нижней границы составляет - 0, для верхней - 91."
   ]
  },
  {
   "cell_type": "markdown",
   "metadata": {
    "id": "mEiWpROjrJg2"
   },
   "source": [
    "\n",
    "### Цены стартапов по категориям"
   ]
  },
  {
   "cell_type": "markdown",
   "metadata": {},
   "source": [
    "Для решения поставленной задачи воспользуемся датасетом `acqui_company_df`. Расчеты будем производить по параметру `price_amount` — сумма сделки."
   ]
  },
  {
   "cell_type": "code",
   "execution_count": 133,
   "metadata": {
    "id": "jQ09dYUWrJg2",
    "vscode": {
     "languageId": "plaintext"
    }
   },
   "outputs": [],
   "source": [
    "# Зададим формат отображения и сгруппируем данные по категориям \n",
    "pd.set_option('display.float_format', lambda x: '%.0f' % x)\n",
    "g = acqui_company_df.groupby('category_code')['price_amount'].agg(['count','median', 'std'])"
   ]
  },
  {
   "cell_type": "code",
   "execution_count": 134,
   "metadata": {
    "id": "eF1aULm5FjfY"
   },
   "outputs": [
    {
     "data": {
      "text/html": [
       "<div>\n",
       "<style scoped>\n",
       "    .dataframe tbody tr th:only-of-type {\n",
       "        vertical-align: middle;\n",
       "    }\n",
       "\n",
       "    .dataframe tbody tr th {\n",
       "        vertical-align: top;\n",
       "    }\n",
       "\n",
       "    .dataframe thead th {\n",
       "        text-align: right;\n",
       "    }\n",
       "</style>\n",
       "<table border=\"1\" class=\"dataframe\">\n",
       "  <thead>\n",
       "    <tr style=\"text-align: right;\">\n",
       "      <th></th>\n",
       "      <th>count</th>\n",
       "      <th>median</th>\n",
       "      <th>std</th>\n",
       "    </tr>\n",
       "    <tr>\n",
       "      <th>category_code</th>\n",
       "      <th></th>\n",
       "      <th></th>\n",
       "      <th></th>\n",
       "    </tr>\n",
       "  </thead>\n",
       "  <tbody>\n",
       "    <tr>\n",
       "      <th>manufacturing</th>\n",
       "      <td>29</td>\n",
       "      <td>72000000</td>\n",
       "      <td>969657968</td>\n",
       "    </tr>\n",
       "    <tr>\n",
       "      <th>real_estate</th>\n",
       "      <td>7</td>\n",
       "      <td>50000000</td>\n",
       "      <td>2505122913</td>\n",
       "    </tr>\n",
       "    <tr>\n",
       "      <th>automotive</th>\n",
       "      <td>5</td>\n",
       "      <td>43000000</td>\n",
       "      <td>2297757559</td>\n",
       "    </tr>\n",
       "    <tr>\n",
       "      <th>biotech</th>\n",
       "      <td>454</td>\n",
       "      <td>13200000</td>\n",
       "      <td>1540373521</td>\n",
       "    </tr>\n",
       "    <tr>\n",
       "      <th>hospitality</th>\n",
       "      <td>11</td>\n",
       "      <td>12500000</td>\n",
       "      <td>651449441</td>\n",
       "    </tr>\n",
       "  </tbody>\n",
       "</table>\n",
       "</div>"
      ],
      "text/plain": [
       "               count   median        std\n",
       "category_code                           \n",
       "manufacturing     29 72000000  969657968\n",
       "real_estate        7 50000000 2505122913\n",
       "automotive         5 43000000 2297757559\n",
       "biotech          454 13200000 1540373521\n",
       "hospitality       11 12500000  651449441"
      ]
     },
     "execution_count": 134,
     "metadata": {},
     "output_type": "execute_result"
    }
   ],
   "source": [
    "# Отсортируем данные по медиане для компаний, которые покупали больше 2 раз\n",
    "g[g['count'] > 2].sort_values(by=['median'], ascending = False).head()"
   ]
  },
  {
   "cell_type": "code",
   "execution_count": 135,
   "metadata": {},
   "outputs": [
    {
     "data": {
      "text/html": [
       "<div>\n",
       "<style scoped>\n",
       "    .dataframe tbody tr th:only-of-type {\n",
       "        vertical-align: middle;\n",
       "    }\n",
       "\n",
       "    .dataframe tbody tr th {\n",
       "        vertical-align: top;\n",
       "    }\n",
       "\n",
       "    .dataframe thead th {\n",
       "        text-align: right;\n",
       "    }\n",
       "</style>\n",
       "<table border=\"1\" class=\"dataframe\">\n",
       "  <thead>\n",
       "    <tr style=\"text-align: right;\">\n",
       "      <th></th>\n",
       "      <th>count</th>\n",
       "      <th>median</th>\n",
       "      <th>std</th>\n",
       "    </tr>\n",
       "    <tr>\n",
       "      <th>category_code</th>\n",
       "      <th></th>\n",
       "      <th></th>\n",
       "      <th></th>\n",
       "    </tr>\n",
       "  </thead>\n",
       "  <tbody>\n",
       "    <tr>\n",
       "      <th>enterprise</th>\n",
       "      <td>412</td>\n",
       "      <td>0</td>\n",
       "      <td>128088235060</td>\n",
       "    </tr>\n",
       "    <tr>\n",
       "      <th>public_relations</th>\n",
       "      <td>219</td>\n",
       "      <td>0</td>\n",
       "      <td>4059244205</td>\n",
       "    </tr>\n",
       "    <tr>\n",
       "      <th>real_estate</th>\n",
       "      <td>7</td>\n",
       "      <td>50000000</td>\n",
       "      <td>2505122913</td>\n",
       "    </tr>\n",
       "    <tr>\n",
       "      <th>automotive</th>\n",
       "      <td>5</td>\n",
       "      <td>43000000</td>\n",
       "      <td>2297757559</td>\n",
       "    </tr>\n",
       "    <tr>\n",
       "      <th>biotech</th>\n",
       "      <td>454</td>\n",
       "      <td>13200000</td>\n",
       "      <td>1540373521</td>\n",
       "    </tr>\n",
       "  </tbody>\n",
       "</table>\n",
       "</div>"
      ],
      "text/plain": [
       "                  count   median          std\n",
       "category_code                                \n",
       "enterprise          412        0 128088235060\n",
       "public_relations    219        0   4059244205\n",
       "real_estate           7 50000000   2505122913\n",
       "automotive            5 43000000   2297757559\n",
       "biotech             454 13200000   1540373521"
      ]
     },
     "execution_count": 135,
     "metadata": {},
     "output_type": "execute_result"
    }
   ],
   "source": [
    "# Отсортируем данные по разбросу для компаний, которые покупали больше 2 раз\n",
    "g[(g['count'] > 2)].sort_values(by=['std'], ascending = False).head()"
   ]
  },
  {
   "cell_type": "markdown",
   "metadata": {},
   "source": [
    "Для каждой категории были расчитаны медиана, средний разброс и количество сделок. Для расчётов был выбран параметр `price_amount` так как он означает сумму покупки компании. Данные фильтровались по количеству сделок, чтобы исключить отсутствующие значения по разбросу. Решено обозначить по 5 категорий так как это число принято оптимальным.\n",
    "\n",
    "Категории с самым большим медианным значением суммы сделки составили:\n",
    "- manufacturing\n",
    "- real_estate\n",
    "- automotive\n",
    "- biotech\n",
    "- hospitality\n",
    "\n",
    "Категории с самым большим размахом:\n",
    "- enterprise\n",
    "- public_relations\n",
    "- real_estate\n",
    "- automotive\n",
    "- biotech"
   ]
  },
  {
   "cell_type": "markdown",
   "metadata": {
    "id": "ADOfyVY_rJg3"
   },
   "source": [
    "### Сколько раундов продержится стартап перед покупкой"
   ]
  },
  {
   "cell_type": "code",
   "execution_count": 136,
   "metadata": {
    "id": "hgXMPC4WrJg3",
    "vscode": {
     "languageId": "plaintext"
    }
   },
   "outputs": [
    {
     "data": {
      "text/plain": [
       "status\n",
       "acquired    0\n",
       "closed      1\n",
       "ipo         1\n",
       "operating   1\n",
       "Name: funding_rounds, dtype: float64"
      ]
     },
     "execution_count": 136,
     "metadata": {},
     "output_type": "execute_result"
    }
   ],
   "source": [
    "# Сгруппируем данные по статусам\n",
    "acqui_company_df.groupby('status')['funding_rounds'].median()"
   ]
  },
  {
   "cell_type": "markdown",
   "metadata": {},
   "source": [
    "Из полученных результатов можно сделать вывод, что выкупленные компании чаще просто выкупались без инвестирования. Для компаний в других статусах типичное число раундов - 1.   "
   ]
  },
  {
   "cell_type": "code",
   "execution_count": 137,
   "metadata": {
    "id": "pV3e7kw5Fj1Y"
   },
   "outputs": [
    {
     "data": {
      "image/png": "[encoded data removed]",
      "text/plain": [
       "<Figure size 720x432 with 1 Axes>"
      ]
     },
     "metadata": {
      "needs_background": "light"
     },
     "output_type": "display_data"
    }
   ],
   "source": [
    "# Подготовим данные для визуализации\n",
    "status_group = acqui_company_df.groupby('status')['funding_rounds'].mean().sort_values(ascending = False)\n",
    "\n",
    "# Визуализируем результат\n",
    "status_group.plot(kind='bar', \n",
    "                  rot=0, \n",
    "                  title=f'Среднее кол-во раундов финансирования',\n",
    "                  figsize=(10,6))\n",
    "\n",
    "plt.xlabel('Статус компании')\n",
    "plt.grid()\n",
    "\n",
    "plt.show()"
   ]
  },
  {
   "cell_type": "markdown",
   "metadata": {},
   "source": [
    "Компании, которые впервые выставили свои акции на биржу, в среднем имеют большее количество раундов финансирования. Работающие и закрытые компании имеют примерно одинаковое значение ~1,5. Как было видно по данным выше выкупленные компании имеют наименьшее значение."
   ]
  },
  {
   "cell_type": "markdown",
   "metadata": {
    "id": "VAFEZ2HBrJg3"
   },
   "source": [
    "\n",
    "## Итоговый вывод и рекомендации\n",
    "\n",
    "Предоставленные данные проанализированны и проведена первичная предобработка данных:\n",
    "- Датасет `company_and_rounds`:\n",
    "    - Столбцы `milestones`, `participants`, `is_first_round`, `is_last_round` оптимизированны по размерности;\n",
    "    - Столбцы `founded_at`, `funded_at` приведены к типу `datetime64`;\n",
    "    - Столбцы `name`, `network_username` приведены к нижнему регистру.\n",
    "- Датасет `acquisition`:\n",
    "    - Столбцы `id`, `acquiring_company_id`, `acquired_company_id` оптимизированны по размерности;\n",
    "    - Столбец `acquired_at` приведен к типу `datetime64`.\n",
    "- Датасет `people`:\n",
    "    - Столбцы `first_name`, `last_name`, `network_username` — приведены к нижнему регистру.\n",
    "- Датасет `education`:\n",
    "    - Столбцы `id`, `person_id` оптимизированны по размерности данных;\n",
    "    - Столбец `graduated_at` приведён к типу `datetime64`;\n",
    "    - Столбец `instituition` приведён к нижнему регистру.\n",
    "- Датасет `degrees`:\n",
    "    - Столбец `id` — оптимизирован по размерности данных;\n",
    "    - Столбец `subject` — приведён к нижнему регистру.\n",
    "\n",
    "Пропущенные значения было решено оставить.\n",
    "\n",
    "Проведено предварительное исследование:\n",
    "- Типичный размер собранных в рамках одного раунда средств был максимален в 2005 году. Количество раундов значительно увеличилось к 2013 году и является максимальным. Суммы финансирования пошли на повышение и сравнялись с результатами 2011 года.\n",
    "- Среди всех категорий, больше всего самозанятых без образования, почти 60%. Четкой тенденции на снижение в зависимости от категории не прослеживается, до компаний от 26 сотрудников. Далее прослеживается спад к категории 100+.\n",
    "- `network_username` имеет 95534 значений в датасете `car_df` и 38867 в `people_df`. `company_id` же имеет 217472 значений в `car_df` и 34615 в `people_df`. Пересечение данных у ключа `company_id` больше, поэтому использование `network_username` как самостоятельный ключ нецелесообразно.\n",
    "\n",
    "В датасете `company_and_rounds` обнаружена четкая граница пропусков датасет разделили на два новых с дальнейшей предобработкой:\n",
    "- Изначальный датасет `company_and_rounds` 22 столбцов, 217774 строк;\n",
    "- `company_df` - 13 столбцов и 196553 строк с информацией о компаниях. По результатам предобработки удалены пропуски и явные дубликаты.\n",
    "- `round_df` - 9 столбцов и 52928 строк с информацией о раундах финансирования. Удалены пропуски, дубликатов не обнаружено.\n",
    "\n",
    "Подготовлен датасет `filt_company_df` под запросы заказчика, для дальнейшей работы. После фильтрации получен датасет в 40747 строк и 13 столбцов.\n",
    "\n",
    "Итоги исследовательского анализа данных:\n",
    "- Типичная сумма финансирования компании - 600000. Выбивающиеся значения (выбросы) начинаются с суммы 1400000. В данных много нулевых значений.\n",
    "- Процентиль нижней границы - 0, значение 0. Процентиль верхней границы - 91, значение 35750000.\n",
    "- Из полученных результатов можно сделать вывод, что выкупленные компании чаще просто выкупались без инвестирования. Для компаний в других статусах типичное число раундов - 1. Компании, которые впервые выставили свои акции на биржу, в среднем имеют большее количество раундов финансирования. Работающие и закрытые компании имеют примерно одинаковое значение ~1,5. Как было видно по данным выше выкупленные компании имеют наименьшее значение."
   ]
  }
 ],
 "metadata": {
  "ExecuteTimeLog": [
   {
    "duration": 3895,
    "start_time": "2025-04-10T03:09:30.888Z"
   },
   {
    "duration": 2225,
    "start_time": "2025-04-10T03:09:34.785Z"
   },
   {
    "duration": 7,
    "start_time": "2025-04-10T03:09:37.011Z"
   },
   {
    "duration": 7,
    "start_time": "2025-04-10T03:09:37.020Z"
   },
   {
    "duration": 5,
    "start_time": "2025-04-10T03:09:37.030Z"
   },
   {
    "duration": 14,
    "start_time": "2025-04-10T03:09:37.036Z"
   },
   {
    "duration": 4,
    "start_time": "2025-04-10T03:09:37.052Z"
   },
   {
    "duration": 73,
    "start_time": "2025-04-10T03:09:37.058Z"
   },
   {
    "duration": 6,
    "start_time": "2025-04-10T03:09:37.132Z"
   },
   {
    "duration": 29,
    "start_time": "2025-04-10T03:09:37.139Z"
   },
   {
    "duration": 121,
    "start_time": "2025-04-10T03:09:37.170Z"
   },
   {
    "duration": 14,
    "start_time": "2025-04-10T03:09:37.293Z"
   },
   {
    "duration": 178,
    "start_time": "2025-04-10T03:09:37.309Z"
   },
   {
    "duration": 36,
    "start_time": "2025-04-10T03:09:37.490Z"
   },
   {
    "duration": 49,
    "start_time": "2025-04-10T03:09:37.528Z"
   },
   {
    "duration": 8,
    "start_time": "2025-04-10T03:09:37.579Z"
   },
   {
    "duration": 39,
    "start_time": "2025-04-10T03:09:37.588Z"
   },
   {
    "duration": 12,
    "start_time": "2025-04-10T03:09:37.629Z"
   },
   {
    "duration": 26,
    "start_time": "2025-04-10T03:09:37.643Z"
   },
   {
    "duration": 39,
    "start_time": "2025-04-10T03:09:37.670Z"
   },
   {
    "duration": 116,
    "start_time": "2025-04-10T03:09:37.711Z"
   },
   {
    "duration": 155,
    "start_time": "2025-04-10T03:09:37.829Z"
   },
   {
    "duration": 23,
    "start_time": "2025-04-10T03:09:37.986Z"
   },
   {
    "duration": 227,
    "start_time": "2025-04-10T03:09:38.010Z"
   },
   {
    "duration": 32,
    "start_time": "2025-04-10T03:09:38.238Z"
   },
   {
    "duration": 63,
    "start_time": "2025-04-10T03:09:38.272Z"
   },
   {
    "duration": 9,
    "start_time": "2025-04-10T03:09:38.337Z"
   },
   {
    "duration": 44,
    "start_time": "2025-04-10T03:09:38.347Z"
   },
   {
    "duration": 174,
    "start_time": "2025-04-10T03:09:38.406Z"
   },
   {
    "duration": 10,
    "start_time": "2025-04-10T03:09:38.582Z"
   },
   {
    "duration": 66,
    "start_time": "2025-04-10T03:09:38.605Z"
   },
   {
    "duration": 33,
    "start_time": "2025-04-10T03:09:38.673Z"
   },
   {
    "duration": 40,
    "start_time": "2025-04-10T03:09:38.709Z"
   },
   {
    "duration": 13,
    "start_time": "2025-04-10T03:09:38.750Z"
   },
   {
    "duration": 68,
    "start_time": "2025-04-10T03:09:38.765Z"
   },
   {
    "duration": 11,
    "start_time": "2025-04-10T03:09:38.834Z"
   },
   {
    "duration": 340,
    "start_time": "2025-04-10T03:09:38.846Z"
   },
   {
    "duration": 19,
    "start_time": "2025-04-10T03:09:39.187Z"
   },
   {
    "duration": 122,
    "start_time": "2025-04-10T03:09:39.208Z"
   },
   {
    "duration": 78,
    "start_time": "2025-04-10T03:09:39.332Z"
   },
   {
    "duration": 67,
    "start_time": "2025-04-10T03:09:39.415Z"
   },
   {
    "duration": 174,
    "start_time": "2025-04-10T03:09:39.484Z"
   },
   {
    "duration": 9,
    "start_time": "2025-04-10T03:09:39.659Z"
   },
   {
    "duration": 158,
    "start_time": "2025-04-10T03:09:39.669Z"
   },
   {
    "duration": 63,
    "start_time": "2025-04-10T03:09:39.829Z"
   },
   {
    "duration": 388,
    "start_time": "2025-04-10T03:09:39.905Z"
   },
   {
    "duration": 26,
    "start_time": "2025-04-10T03:09:40.295Z"
   },
   {
    "duration": 20,
    "start_time": "2025-04-10T03:09:40.323Z"
   },
   {
    "duration": 23,
    "start_time": "2025-04-10T03:09:40.345Z"
   },
   {
    "duration": 9,
    "start_time": "2025-04-10T03:09:40.370Z"
   },
   {
    "duration": 5,
    "start_time": "2025-04-10T03:09:40.406Z"
   },
   {
    "duration": 31,
    "start_time": "2025-04-10T03:09:40.412Z"
   },
   {
    "duration": 203,
    "start_time": "2025-04-10T03:09:40.445Z"
   },
   {
    "duration": 12,
    "start_time": "2025-04-10T03:09:40.649Z"
   },
   {
    "duration": 105,
    "start_time": "2025-04-10T03:09:40.663Z"
   },
   {
    "duration": 7,
    "start_time": "2025-04-10T03:09:40.769Z"
   },
   {
    "duration": 6,
    "start_time": "2025-04-10T03:09:40.778Z"
   },
   {
    "duration": 4,
    "start_time": "2025-04-10T03:09:40.785Z"
   },
   {
    "duration": 180,
    "start_time": "2025-04-10T03:09:40.790Z"
   },
   {
    "duration": 34,
    "start_time": "2025-04-10T03:09:40.971Z"
   },
   {
    "duration": 11,
    "start_time": "2025-04-10T03:09:41.006Z"
   },
   {
    "duration": 93,
    "start_time": "2025-04-10T03:09:41.019Z"
   },
   {
    "duration": 22,
    "start_time": "2025-04-10T03:09:41.114Z"
   },
   {
    "duration": 9,
    "start_time": "2025-04-10T03:09:41.137Z"
   },
   {
    "duration": 29,
    "start_time": "2025-04-10T03:09:41.148Z"
   },
   {
    "duration": 39,
    "start_time": "2025-04-10T03:09:41.179Z"
   },
   {
    "duration": 21,
    "start_time": "2025-04-10T03:09:41.219Z"
   },
   {
    "duration": 97,
    "start_time": "2025-04-10T03:09:41.242Z"
   },
   {
    "duration": 24,
    "start_time": "2025-04-10T03:09:41.341Z"
   },
   {
    "duration": 3885,
    "start_time": "2025-04-10T03:10:59.154Z"
   },
   {
    "duration": 2013,
    "start_time": "2025-04-10T03:11:03.041Z"
   },
   {
    "duration": 7,
    "start_time": "2025-04-10T03:11:05.056Z"
   },
   {
    "duration": 22,
    "start_time": "2025-04-10T03:11:05.065Z"
   },
   {
    "duration": 15,
    "start_time": "2025-04-10T03:11:05.089Z"
   },
   {
    "duration": 27,
    "start_time": "2025-04-10T03:11:05.106Z"
   },
   {
    "duration": 21,
    "start_time": "2025-04-10T03:11:05.135Z"
   },
   {
    "duration": 103,
    "start_time": "2025-04-10T03:11:05.158Z"
   },
   {
    "duration": 6,
    "start_time": "2025-04-10T03:11:05.262Z"
   },
   {
    "duration": 70,
    "start_time": "2025-04-10T03:11:05.269Z"
   },
   {
    "duration": 138,
    "start_time": "2025-04-10T03:11:05.341Z"
   },
   {
    "duration": 9,
    "start_time": "2025-04-10T03:11:05.481Z"
   },
   {
    "duration": 54,
    "start_time": "2025-04-10T03:11:05.492Z"
   },
   {
    "duration": 53,
    "start_time": "2025-04-10T03:11:05.551Z"
   },
   {
    "duration": 87,
    "start_time": "2025-04-10T03:11:05.606Z"
   },
   {
    "duration": 44,
    "start_time": "2025-04-10T03:11:05.694Z"
   },
   {
    "duration": 136,
    "start_time": "2025-04-10T03:11:05.739Z"
   },
   {
    "duration": 8,
    "start_time": "2025-04-10T03:11:05.878Z"
   },
   {
    "duration": 63,
    "start_time": "2025-04-10T03:11:05.888Z"
   },
   {
    "duration": 35,
    "start_time": "2025-04-10T03:11:05.953Z"
   },
   {
    "duration": 119,
    "start_time": "2025-04-10T03:11:05.989Z"
   },
   {
    "duration": 181,
    "start_time": "2025-04-10T03:11:06.111Z"
   },
   {
    "duration": 22,
    "start_time": "2025-04-10T03:11:06.294Z"
   },
   {
    "duration": 260,
    "start_time": "2025-04-10T03:11:06.318Z"
   },
   {
    "duration": 36,
    "start_time": "2025-04-10T03:11:06.580Z"
   },
   {
    "duration": 64,
    "start_time": "2025-04-10T03:11:06.618Z"
   },
   {
    "duration": 17,
    "start_time": "2025-04-10T03:11:06.683Z"
   },
   {
    "duration": 143,
    "start_time": "2025-04-10T03:11:06.701Z"
   },
   {
    "duration": 163,
    "start_time": "2025-04-10T03:11:06.845Z"
   },
   {
    "duration": 9,
    "start_time": "2025-04-10T03:11:07.010Z"
   },
   {
    "duration": 115,
    "start_time": "2025-04-10T03:11:07.021Z"
   },
   {
    "duration": 20,
    "start_time": "2025-04-10T03:11:07.137Z"
   },
   {
    "duration": 51,
    "start_time": "2025-04-10T03:11:07.159Z"
   },
   {
    "duration": 12,
    "start_time": "2025-04-10T03:11:07.212Z"
   },
   {
    "duration": 45,
    "start_time": "2025-04-10T03:11:07.226Z"
   },
   {
    "duration": 9,
    "start_time": "2025-04-10T03:11:07.273Z"
   },
   {
    "duration": 345,
    "start_time": "2025-04-10T03:11:07.284Z"
   },
   {
    "duration": 7,
    "start_time": "2025-04-10T03:11:07.630Z"
   },
   {
    "duration": 132,
    "start_time": "2025-04-10T03:11:07.639Z"
   },
   {
    "duration": 91,
    "start_time": "2025-04-10T03:11:07.772Z"
   },
   {
    "duration": 14,
    "start_time": "2025-04-10T03:11:07.867Z"
   },
   {
    "duration": 183,
    "start_time": "2025-04-10T03:11:07.882Z"
   },
   {
    "duration": 8,
    "start_time": "2025-04-10T03:11:08.067Z"
   },
   {
    "duration": 322,
    "start_time": "2025-04-10T03:11:08.077Z"
   },
   {
    "duration": 67,
    "start_time": "2025-04-10T03:11:08.400Z"
   },
   {
    "duration": 407,
    "start_time": "2025-04-10T03:11:08.468Z"
   },
   {
    "duration": 33,
    "start_time": "2025-04-10T03:11:08.876Z"
   },
   {
    "duration": 23,
    "start_time": "2025-04-10T03:11:08.911Z"
   },
   {
    "duration": 22,
    "start_time": "2025-04-10T03:11:08.936Z"
   },
   {
    "duration": 9,
    "start_time": "2025-04-10T03:11:08.959Z"
   },
   {
    "duration": 36,
    "start_time": "2025-04-10T03:11:08.970Z"
   },
   {
    "duration": 31,
    "start_time": "2025-04-10T03:11:09.008Z"
   },
   {
    "duration": 194,
    "start_time": "2025-04-10T03:11:09.041Z"
   },
   {
    "duration": 12,
    "start_time": "2025-04-10T03:11:09.237Z"
   },
   {
    "duration": 16,
    "start_time": "2025-04-10T03:11:09.251Z"
   },
   {
    "duration": 10,
    "start_time": "2025-04-10T03:11:09.269Z"
   },
   {
    "duration": 27,
    "start_time": "2025-04-10T03:11:09.281Z"
   },
   {
    "duration": 9,
    "start_time": "2025-04-10T03:11:09.310Z"
   },
   {
    "duration": 325,
    "start_time": "2025-04-10T03:11:09.321Z"
   },
   {
    "duration": 30,
    "start_time": "2025-04-10T03:11:09.648Z"
   },
   {
    "duration": 25,
    "start_time": "2025-04-10T03:11:09.680Z"
   },
   {
    "duration": 74,
    "start_time": "2025-04-10T03:11:09.707Z"
   },
   {
    "duration": 39,
    "start_time": "2025-04-10T03:11:09.783Z"
   },
   {
    "duration": 10,
    "start_time": "2025-04-10T03:11:09.823Z"
   },
   {
    "duration": 31,
    "start_time": "2025-04-10T03:11:09.834Z"
   },
   {
    "duration": 14,
    "start_time": "2025-04-10T03:11:09.866Z"
   },
   {
    "duration": 20,
    "start_time": "2025-04-10T03:11:09.905Z"
   },
   {
    "duration": 92,
    "start_time": "2025-04-10T03:11:09.927Z"
   },
   {
    "duration": 23,
    "start_time": "2025-04-10T03:11:10.021Z"
   },
   {
    "duration": 8796,
    "start_time": "2025-04-10T05:01:19.282Z"
   },
   {
    "duration": 2261,
    "start_time": "2025-04-10T05:01:28.080Z"
   },
   {
    "duration": 6,
    "start_time": "2025-04-10T05:01:30.343Z"
   },
   {
    "duration": 22,
    "start_time": "2025-04-10T05:01:30.351Z"
   },
   {
    "duration": 6,
    "start_time": "2025-04-10T05:01:30.375Z"
   },
   {
    "duration": 10,
    "start_time": "2025-04-10T05:01:30.382Z"
   },
   {
    "duration": 5,
    "start_time": "2025-04-10T05:01:30.393Z"
   },
   {
    "duration": 64,
    "start_time": "2025-04-10T05:01:30.400Z"
   },
   {
    "duration": 5,
    "start_time": "2025-04-10T05:01:30.466Z"
   },
   {
    "duration": 27,
    "start_time": "2025-04-10T05:01:30.472Z"
   },
   {
    "duration": 119,
    "start_time": "2025-04-10T05:01:30.501Z"
   },
   {
    "duration": 9,
    "start_time": "2025-04-10T05:01:30.621Z"
   },
   {
    "duration": 87,
    "start_time": "2025-04-10T05:01:30.631Z"
   },
   {
    "duration": 25,
    "start_time": "2025-04-10T05:01:30.721Z"
   },
   {
    "duration": 40,
    "start_time": "2025-04-10T05:01:30.748Z"
   },
   {
    "duration": 7,
    "start_time": "2025-04-10T05:01:30.790Z"
   },
   {
    "duration": 22,
    "start_time": "2025-04-10T05:01:30.798Z"
   },
   {
    "duration": 35,
    "start_time": "2025-04-10T05:01:30.821Z"
   },
   {
    "duration": 69,
    "start_time": "2025-04-10T05:01:30.857Z"
   },
   {
    "duration": 31,
    "start_time": "2025-04-10T05:01:30.927Z"
   },
   {
    "duration": 111,
    "start_time": "2025-04-10T05:01:30.960Z"
   },
   {
    "duration": 149,
    "start_time": "2025-04-10T05:01:31.073Z"
   },
   {
    "duration": 15,
    "start_time": "2025-04-10T05:01:31.224Z"
   },
   {
    "duration": 238,
    "start_time": "2025-04-10T05:01:31.240Z"
   },
   {
    "duration": 31,
    "start_time": "2025-04-10T05:01:31.480Z"
   },
   {
    "duration": 69,
    "start_time": "2025-04-10T05:01:31.513Z"
   },
   {
    "duration": 10,
    "start_time": "2025-04-10T05:01:31.584Z"
   },
   {
    "duration": 41,
    "start_time": "2025-04-10T05:01:31.595Z"
   },
   {
    "duration": 171,
    "start_time": "2025-04-10T05:01:31.637Z"
   },
   {
    "duration": 11,
    "start_time": "2025-04-10T05:01:31.809Z"
   },
   {
    "duration": 81,
    "start_time": "2025-04-10T05:01:31.822Z"
   },
   {
    "duration": 20,
    "start_time": "2025-04-10T05:01:31.905Z"
   },
   {
    "duration": 57,
    "start_time": "2025-04-10T05:01:31.927Z"
   },
   {
    "duration": 12,
    "start_time": "2025-04-10T05:01:31.986Z"
   },
   {
    "duration": 65,
    "start_time": "2025-04-10T05:01:31.999Z"
   },
   {
    "duration": 10,
    "start_time": "2025-04-10T05:01:32.067Z"
   },
   {
    "duration": 314,
    "start_time": "2025-04-10T05:01:32.079Z"
   },
   {
    "duration": 7,
    "start_time": "2025-04-10T05:01:32.395Z"
   },
   {
    "duration": 124,
    "start_time": "2025-04-10T05:01:32.403Z"
   },
   {
    "duration": 105,
    "start_time": "2025-04-10T05:01:32.529Z"
   },
   {
    "duration": 0,
    "start_time": "2025-04-10T05:01:32.637Z"
   },
   {
    "duration": 0,
    "start_time": "2025-04-10T05:01:32.638Z"
   },
   {
    "duration": 0,
    "start_time": "2025-04-10T05:01:32.639Z"
   },
   {
    "duration": 0,
    "start_time": "2025-04-10T05:01:32.640Z"
   },
   {
    "duration": 0,
    "start_time": "2025-04-10T05:01:32.641Z"
   },
   {
    "duration": 0,
    "start_time": "2025-04-10T05:01:32.642Z"
   },
   {
    "duration": 0,
    "start_time": "2025-04-10T05:01:32.643Z"
   },
   {
    "duration": 0,
    "start_time": "2025-04-10T05:01:32.644Z"
   },
   {
    "duration": 0,
    "start_time": "2025-04-10T05:01:32.645Z"
   },
   {
    "duration": 0,
    "start_time": "2025-04-10T05:01:32.646Z"
   },
   {
    "duration": 0,
    "start_time": "2025-04-10T05:01:32.660Z"
   },
   {
    "duration": 0,
    "start_time": "2025-04-10T05:01:32.662Z"
   },
   {
    "duration": 0,
    "start_time": "2025-04-10T05:01:32.663Z"
   },
   {
    "duration": 0,
    "start_time": "2025-04-10T05:01:32.664Z"
   },
   {
    "duration": 0,
    "start_time": "2025-04-10T05:01:32.665Z"
   },
   {
    "duration": 0,
    "start_time": "2025-04-10T05:01:32.667Z"
   },
   {
    "duration": 0,
    "start_time": "2025-04-10T05:01:32.668Z"
   },
   {
    "duration": 0,
    "start_time": "2025-04-10T05:01:32.669Z"
   },
   {
    "duration": 0,
    "start_time": "2025-04-10T05:01:32.670Z"
   },
   {
    "duration": 0,
    "start_time": "2025-04-10T05:01:32.671Z"
   },
   {
    "duration": 0,
    "start_time": "2025-04-10T05:01:32.672Z"
   },
   {
    "duration": 0,
    "start_time": "2025-04-10T05:01:32.673Z"
   },
   {
    "duration": 0,
    "start_time": "2025-04-10T05:01:32.674Z"
   },
   {
    "duration": 0,
    "start_time": "2025-04-10T05:01:32.675Z"
   },
   {
    "duration": 0,
    "start_time": "2025-04-10T05:01:32.676Z"
   },
   {
    "duration": 0,
    "start_time": "2025-04-10T05:01:32.678Z"
   },
   {
    "duration": 0,
    "start_time": "2025-04-10T05:01:32.679Z"
   },
   {
    "duration": 0,
    "start_time": "2025-04-10T05:01:32.680Z"
   },
   {
    "duration": 0,
    "start_time": "2025-04-10T05:01:32.681Z"
   },
   {
    "duration": 0,
    "start_time": "2025-04-10T05:01:32.682Z"
   },
   {
    "duration": 114,
    "start_time": "2025-04-10T05:01:53.883Z"
   },
   {
    "duration": 66,
    "start_time": "2025-04-10T05:01:54.902Z"
   },
   {
    "duration": 123,
    "start_time": "2025-04-10T05:02:01.413Z"
   },
   {
    "duration": 71,
    "start_time": "2025-04-10T05:02:03.073Z"
   },
   {
    "duration": 30,
    "start_time": "2025-04-10T05:02:10.032Z"
   },
   {
    "duration": 13,
    "start_time": "2025-04-10T05:02:10.803Z"
   },
   {
    "duration": 161,
    "start_time": "2025-04-10T05:02:11.452Z"
   },
   {
    "duration": 8,
    "start_time": "2025-04-10T05:02:12.741Z"
   },
   {
    "duration": 133,
    "start_time": "2025-04-10T05:02:13.943Z"
   },
   {
    "duration": 60,
    "start_time": "2025-04-10T05:03:48.677Z"
   },
   {
    "duration": 383,
    "start_time": "2025-04-10T05:03:48.982Z"
   },
   {
    "duration": 20,
    "start_time": "2025-04-10T05:03:49.367Z"
   },
   {
    "duration": 20,
    "start_time": "2025-04-10T05:03:49.632Z"
   },
   {
    "duration": 21,
    "start_time": "2025-04-10T05:03:50.489Z"
   },
   {
    "duration": 9,
    "start_time": "2025-04-10T05:03:51.001Z"
   },
   {
    "duration": 4,
    "start_time": "2025-04-10T05:03:51.682Z"
   },
   {
    "duration": 33,
    "start_time": "2025-04-10T05:03:59.035Z"
   },
   {
    "duration": 175,
    "start_time": "2025-04-10T05:03:59.262Z"
   },
   {
    "duration": 13,
    "start_time": "2025-04-10T05:04:00.041Z"
   },
   {
    "duration": 12,
    "start_time": "2025-04-10T05:04:00.510Z"
   },
   {
    "duration": 8,
    "start_time": "2025-04-10T05:04:00.991Z"
   },
   {
    "duration": 6,
    "start_time": "2025-04-10T05:04:01.480Z"
   },
   {
    "duration": 4,
    "start_time": "2025-04-10T05:04:02.492Z"
   },
   {
    "duration": 171,
    "start_time": "2025-04-10T05:26:28.757Z"
   },
   {
    "duration": 31,
    "start_time": "2025-04-10T05:26:30.691Z"
   },
   {
    "duration": 13,
    "start_time": "2025-04-10T05:26:34.639Z"
   },
   {
    "duration": 79,
    "start_time": "2025-04-10T05:26:35.801Z"
   },
   {
    "duration": 21,
    "start_time": "2025-04-10T05:26:37.714Z"
   },
   {
    "duration": 10,
    "start_time": "2025-04-10T05:26:38.275Z"
   },
   {
    "duration": 28,
    "start_time": "2025-04-10T05:26:39.423Z"
   },
   {
    "duration": 13,
    "start_time": "2025-04-10T05:26:40.186Z"
   },
   {
    "duration": 19,
    "start_time": "2025-04-10T05:26:40.724Z"
   },
   {
    "duration": 154,
    "start_time": "2025-04-10T05:26:40.744Z"
   },
   {
    "duration": 21,
    "start_time": "2025-04-10T05:26:40.983Z"
   },
   {
    "duration": 3662,
    "start_time": "2025-04-10T05:29:11.107Z"
   },
   {
    "duration": 3941,
    "start_time": "2025-04-10T05:29:46.551Z"
   },
   {
    "duration": 2054,
    "start_time": "2025-04-10T05:29:50.494Z"
   },
   {
    "duration": 6,
    "start_time": "2025-04-10T05:29:52.549Z"
   },
   {
    "duration": 11,
    "start_time": "2025-04-10T05:29:52.561Z"
   },
   {
    "duration": 4,
    "start_time": "2025-04-10T05:29:52.574Z"
   },
   {
    "duration": 5,
    "start_time": "2025-04-10T05:29:52.580Z"
   },
   {
    "duration": 7,
    "start_time": "2025-04-10T05:29:52.586Z"
   },
   {
    "duration": 68,
    "start_time": "2025-04-10T05:29:52.595Z"
   },
   {
    "duration": 7,
    "start_time": "2025-04-10T05:29:52.665Z"
   },
   {
    "duration": 27,
    "start_time": "2025-04-10T05:29:52.674Z"
   },
   {
    "duration": 124,
    "start_time": "2025-04-10T05:29:52.704Z"
   },
   {
    "duration": 9,
    "start_time": "2025-04-10T05:29:52.830Z"
   },
   {
    "duration": 24,
    "start_time": "2025-04-10T05:29:52.841Z"
   },
   {
    "duration": 9,
    "start_time": "2025-04-10T05:29:52.867Z"
   },
   {
    "duration": 56,
    "start_time": "2025-04-10T05:29:52.877Z"
   },
   {
    "duration": 7,
    "start_time": "2025-04-10T05:29:52.937Z"
   },
   {
    "duration": 29,
    "start_time": "2025-04-10T05:29:52.946Z"
   },
   {
    "duration": 7,
    "start_time": "2025-04-10T05:29:52.977Z"
   },
   {
    "duration": 24,
    "start_time": "2025-04-10T05:29:52.986Z"
   },
   {
    "duration": 50,
    "start_time": "2025-04-10T05:29:53.012Z"
   },
   {
    "duration": 117,
    "start_time": "2025-04-10T05:29:53.064Z"
   },
   {
    "duration": 141,
    "start_time": "2025-04-10T05:29:53.183Z"
   },
   {
    "duration": 13,
    "start_time": "2025-04-10T05:29:53.325Z"
   },
   {
    "duration": 222,
    "start_time": "2025-04-10T05:29:53.340Z"
   },
   {
    "duration": 31,
    "start_time": "2025-04-10T05:29:53.563Z"
   },
   {
    "duration": 43,
    "start_time": "2025-04-10T05:29:53.596Z"
   },
   {
    "duration": 28,
    "start_time": "2025-04-10T05:29:53.640Z"
   },
   {
    "duration": 38,
    "start_time": "2025-04-10T05:29:53.669Z"
   },
   {
    "duration": 161,
    "start_time": "2025-04-10T05:29:53.708Z"
   },
   {
    "duration": 9,
    "start_time": "2025-04-10T05:29:53.871Z"
   },
   {
    "duration": 79,
    "start_time": "2025-04-10T05:29:53.882Z"
   },
   {
    "duration": 19,
    "start_time": "2025-04-10T05:29:53.962Z"
   },
   {
    "duration": 40,
    "start_time": "2025-04-10T05:29:53.982Z"
   },
   {
    "duration": 13,
    "start_time": "2025-04-10T05:29:54.024Z"
   },
   {
    "duration": 57,
    "start_time": "2025-04-10T05:29:54.039Z"
   },
   {
    "duration": 10,
    "start_time": "2025-04-10T05:29:54.098Z"
   },
   {
    "duration": 312,
    "start_time": "2025-04-10T05:29:54.109Z"
   },
   {
    "duration": 7,
    "start_time": "2025-04-10T05:29:54.423Z"
   },
   {
    "duration": 122,
    "start_time": "2025-04-10T05:29:54.431Z"
   },
   {
    "duration": 80,
    "start_time": "2025-04-10T05:29:54.555Z"
   },
   {
    "duration": 24,
    "start_time": "2025-04-10T05:29:54.636Z"
   },
   {
    "duration": 156,
    "start_time": "2025-04-10T05:29:54.662Z"
   },
   {
    "duration": 8,
    "start_time": "2025-04-10T05:29:54.821Z"
   },
   {
    "duration": 145,
    "start_time": "2025-04-10T05:29:54.830Z"
   },
   {
    "duration": 58,
    "start_time": "2025-04-10T05:29:54.977Z"
   },
   {
    "duration": 377,
    "start_time": "2025-04-10T05:29:55.037Z"
   },
   {
    "duration": 22,
    "start_time": "2025-04-10T05:29:55.415Z"
   },
   {
    "duration": 29,
    "start_time": "2025-04-10T05:29:55.438Z"
   },
   {
    "duration": 22,
    "start_time": "2025-04-10T05:29:55.469Z"
   },
   {
    "duration": 64,
    "start_time": "2025-04-10T05:29:55.493Z"
   },
   {
    "duration": 4,
    "start_time": "2025-04-10T05:29:55.559Z"
   },
   {
    "duration": 29,
    "start_time": "2025-04-10T05:29:55.565Z"
   },
   {
    "duration": 210,
    "start_time": "2025-04-10T05:29:55.596Z"
   },
   {
    "duration": 12,
    "start_time": "2025-04-10T05:29:55.808Z"
   },
   {
    "duration": 54,
    "start_time": "2025-04-10T05:29:55.821Z"
   },
   {
    "duration": 7,
    "start_time": "2025-04-10T05:29:55.877Z"
   },
   {
    "duration": 5,
    "start_time": "2025-04-10T05:29:55.886Z"
   },
   {
    "duration": 4,
    "start_time": "2025-04-10T05:29:55.893Z"
   },
   {
    "duration": 171,
    "start_time": "2025-04-10T05:29:55.898Z"
   },
   {
    "duration": 3234,
    "start_time": "2025-04-10T05:29:56.071Z"
   },
   {
    "duration": 21,
    "start_time": "2025-04-10T05:29:59.307Z"
   },
   {
    "duration": 10,
    "start_time": "2025-04-10T05:29:59.330Z"
   },
   {
    "duration": 71,
    "start_time": "2025-04-10T05:29:59.342Z"
   },
   {
    "duration": 21,
    "start_time": "2025-04-10T05:29:59.418Z"
   },
   {
    "duration": 21,
    "start_time": "2025-04-10T05:29:59.441Z"
   },
   {
    "duration": 26,
    "start_time": "2025-04-10T05:29:59.464Z"
   },
   {
    "duration": 13,
    "start_time": "2025-04-10T05:29:59.491Z"
   },
   {
    "duration": 55,
    "start_time": "2025-04-10T05:29:59.505Z"
   },
   {
    "duration": 73,
    "start_time": "2025-04-10T05:29:59.562Z"
   },
   {
    "duration": 26,
    "start_time": "2025-04-10T05:29:59.637Z"
   },
   {
    "duration": 4558,
    "start_time": "2025-04-14T03:45:00.556Z"
   },
   {
    "duration": 2471,
    "start_time": "2025-04-14T03:45:05.116Z"
   },
   {
    "duration": 7,
    "start_time": "2025-04-14T03:45:07.588Z"
   },
   {
    "duration": 4,
    "start_time": "2025-04-14T03:45:07.597Z"
   },
   {
    "duration": 24,
    "start_time": "2025-04-14T03:45:07.603Z"
   },
   {
    "duration": 5,
    "start_time": "2025-04-14T03:45:07.629Z"
   },
   {
    "duration": 4,
    "start_time": "2025-04-14T03:45:07.636Z"
   },
   {
    "duration": 53,
    "start_time": "2025-04-14T03:45:07.642Z"
   },
   {
    "duration": 6,
    "start_time": "2025-04-14T03:45:07.697Z"
   },
   {
    "duration": 50,
    "start_time": "2025-04-14T03:45:07.705Z"
   },
   {
    "duration": 106,
    "start_time": "2025-04-14T03:45:07.757Z"
   },
   {
    "duration": 8,
    "start_time": "2025-04-14T03:45:07.865Z"
   },
   {
    "duration": 13,
    "start_time": "2025-04-14T03:45:07.874Z"
   },
   {
    "duration": 8,
    "start_time": "2025-04-14T03:45:07.889Z"
   },
   {
    "duration": 63,
    "start_time": "2025-04-14T03:45:07.899Z"
   },
   {
    "duration": 8,
    "start_time": "2025-04-14T03:45:07.963Z"
   },
   {
    "duration": 36,
    "start_time": "2025-04-14T03:45:07.972Z"
   },
   {
    "duration": 8,
    "start_time": "2025-04-14T03:45:08.009Z"
   },
   {
    "duration": 34,
    "start_time": "2025-04-14T03:45:08.019Z"
   },
   {
    "duration": 10,
    "start_time": "2025-04-14T03:45:08.054Z"
   },
   {
    "duration": 13,
    "start_time": "2025-04-14T03:45:08.065Z"
   },
   {
    "duration": 7,
    "start_time": "2025-04-14T03:45:08.079Z"
   },
   {
    "duration": 9,
    "start_time": "2025-04-14T03:45:08.087Z"
   },
   {
    "duration": 57,
    "start_time": "2025-04-14T03:45:08.097Z"
   },
   {
    "duration": 109,
    "start_time": "2025-04-14T03:45:08.156Z"
   },
   {
    "duration": 143,
    "start_time": "2025-04-14T03:45:08.267Z"
   },
   {
    "duration": 24,
    "start_time": "2025-04-14T03:45:08.412Z"
   },
   {
    "duration": 211,
    "start_time": "2025-04-14T03:45:08.440Z"
   },
   {
    "duration": 29,
    "start_time": "2025-04-14T03:45:08.652Z"
   },
   {
    "duration": 58,
    "start_time": "2025-04-14T03:45:08.684Z"
   },
   {
    "duration": 71,
    "start_time": "2025-04-14T03:45:08.744Z"
   },
   {
    "duration": 94,
    "start_time": "2025-04-14T03:45:08.816Z"
   },
   {
    "duration": 165,
    "start_time": "2025-04-14T03:45:08.912Z"
   },
   {
    "duration": 10,
    "start_time": "2025-04-14T03:45:09.078Z"
   },
   {
    "duration": 79,
    "start_time": "2025-04-14T03:45:09.089Z"
   },
   {
    "duration": 18,
    "start_time": "2025-04-14T03:45:09.169Z"
   },
   {
    "duration": 52,
    "start_time": "2025-04-14T03:45:09.188Z"
   },
   {
    "duration": 11,
    "start_time": "2025-04-14T03:45:09.242Z"
   },
   {
    "duration": 41,
    "start_time": "2025-04-14T03:45:09.255Z"
   },
   {
    "duration": 9,
    "start_time": "2025-04-14T03:45:09.298Z"
   },
   {
    "duration": 324,
    "start_time": "2025-04-14T03:45:09.309Z"
   },
   {
    "duration": 6,
    "start_time": "2025-04-14T03:45:09.637Z"
   },
   {
    "duration": 118,
    "start_time": "2025-04-14T03:45:09.644Z"
   },
   {
    "duration": 83,
    "start_time": "2025-04-14T03:45:09.764Z"
   },
   {
    "duration": 32,
    "start_time": "2025-04-14T03:45:09.848Z"
   },
   {
    "duration": 158,
    "start_time": "2025-04-14T03:45:09.882Z"
   },
   {
    "duration": 8,
    "start_time": "2025-04-14T03:45:10.042Z"
   },
   {
    "duration": 146,
    "start_time": "2025-04-14T03:45:10.051Z"
   },
   {
    "duration": 70,
    "start_time": "2025-04-14T03:45:10.199Z"
   },
   {
    "duration": 357,
    "start_time": "2025-04-14T03:45:10.270Z"
   },
   {
    "duration": 20,
    "start_time": "2025-04-14T03:45:10.635Z"
   },
   {
    "duration": 17,
    "start_time": "2025-04-14T03:45:10.657Z"
   },
   {
    "duration": 18,
    "start_time": "2025-04-14T03:45:10.676Z"
   },
   {
    "duration": 16,
    "start_time": "2025-04-14T03:45:10.695Z"
   },
   {
    "duration": 99,
    "start_time": "2025-04-14T03:45:10.712Z"
   },
   {
    "duration": 99,
    "start_time": "2025-04-14T03:45:10.813Z"
   },
   {
    "duration": 162,
    "start_time": "2025-04-14T03:45:10.914Z"
   },
   {
    "duration": 11,
    "start_time": "2025-04-14T03:45:11.077Z"
   },
   {
    "duration": 8,
    "start_time": "2025-04-14T03:45:11.090Z"
   },
   {
    "duration": 6,
    "start_time": "2025-04-14T03:45:11.100Z"
   },
   {
    "duration": 30,
    "start_time": "2025-04-14T03:45:11.108Z"
   },
   {
    "duration": 6,
    "start_time": "2025-04-14T03:45:11.139Z"
   },
   {
    "duration": 174,
    "start_time": "2025-04-14T03:45:11.147Z"
   },
   {
    "duration": 3642,
    "start_time": "2025-04-14T03:45:11.323Z"
   },
   {
    "duration": 20,
    "start_time": "2025-04-14T03:45:14.968Z"
   },
   {
    "duration": 10,
    "start_time": "2025-04-14T03:45:14.990Z"
   },
   {
    "duration": 166,
    "start_time": "2025-04-14T03:45:15.002Z"
   },
   {
    "duration": 20,
    "start_time": "2025-04-14T03:45:15.170Z"
   },
   {
    "duration": 40,
    "start_time": "2025-04-14T03:45:15.192Z"
   },
   {
    "duration": 28,
    "start_time": "2025-04-14T03:45:15.234Z"
   },
   {
    "duration": 13,
    "start_time": "2025-04-14T03:45:15.264Z"
   },
   {
    "duration": 27,
    "start_time": "2025-04-14T03:45:15.279Z"
   },
   {
    "duration": 78,
    "start_time": "2025-04-14T03:45:15.308Z"
   },
   {
    "duration": 24,
    "start_time": "2025-04-14T03:45:15.388Z"
   },
   {
    "duration": 150,
    "start_time": "2025-04-14T04:00:01.895Z"
   },
   {
    "duration": 41,
    "start_time": "2025-04-14T04:00:31.343Z"
   },
   {
    "duration": 23,
    "start_time": "2025-04-14T04:00:33.191Z"
   },
   {
    "duration": 86,
    "start_time": "2025-04-14T04:00:34.398Z"
   },
   {
    "duration": 7021,
    "start_time": "2025-04-14T05:35:19.291Z"
   },
   {
    "duration": 147,
    "start_time": "2025-04-14T05:36:31.687Z"
   },
   {
    "duration": 188,
    "start_time": "2025-04-14T05:36:56.847Z"
   },
   {
    "duration": 190,
    "start_time": "2025-04-14T05:37:45.317Z"
   },
   {
    "duration": 839,
    "start_time": "2025-04-14T05:37:49.158Z"
   },
   {
    "duration": 118,
    "start_time": "2025-04-14T05:41:12.024Z"
   },
   {
    "duration": 85,
    "start_time": "2025-04-14T05:55:20.237Z"
   },
   {
    "duration": 178,
    "start_time": "2025-04-14T05:55:31.117Z"
   },
   {
    "duration": 3773,
    "start_time": "2025-04-14T05:55:41.449Z"
   },
   {
    "duration": 2110,
    "start_time": "2025-04-14T05:55:45.225Z"
   },
   {
    "duration": 6,
    "start_time": "2025-04-14T05:55:47.337Z"
   },
   {
    "duration": 36,
    "start_time": "2025-04-14T05:55:47.345Z"
   },
   {
    "duration": 22,
    "start_time": "2025-04-14T05:55:47.382Z"
   },
   {
    "duration": 19,
    "start_time": "2025-04-14T05:55:47.406Z"
   },
   {
    "duration": 13,
    "start_time": "2025-04-14T05:55:47.427Z"
   },
   {
    "duration": 65,
    "start_time": "2025-04-14T05:55:47.442Z"
   },
   {
    "duration": 5,
    "start_time": "2025-04-14T05:55:47.509Z"
   },
   {
    "duration": 30,
    "start_time": "2025-04-14T05:55:47.517Z"
   },
   {
    "duration": 178,
    "start_time": "2025-04-14T05:55:47.549Z"
   },
   {
    "duration": 13,
    "start_time": "2025-04-14T05:55:47.728Z"
   },
   {
    "duration": 39,
    "start_time": "2025-04-14T05:55:47.743Z"
   },
   {
    "duration": 36,
    "start_time": "2025-04-14T05:55:47.784Z"
   },
   {
    "duration": 68,
    "start_time": "2025-04-14T05:55:47.821Z"
   },
   {
    "duration": 7,
    "start_time": "2025-04-14T05:55:47.891Z"
   },
   {
    "duration": 45,
    "start_time": "2025-04-14T05:55:47.900Z"
   },
   {
    "duration": 26,
    "start_time": "2025-04-14T05:55:47.946Z"
   },
   {
    "duration": 29,
    "start_time": "2025-04-14T05:55:47.973Z"
   },
   {
    "duration": 59,
    "start_time": "2025-04-14T05:55:48.003Z"
   },
   {
    "duration": 25,
    "start_time": "2025-04-14T05:55:48.064Z"
   },
   {
    "duration": 18,
    "start_time": "2025-04-14T05:55:48.091Z"
   },
   {
    "duration": 17,
    "start_time": "2025-04-14T05:55:48.111Z"
   },
   {
    "duration": 36,
    "start_time": "2025-04-14T05:55:48.129Z"
   },
   {
    "duration": 104,
    "start_time": "2025-04-14T05:55:48.166Z"
   },
   {
    "duration": 147,
    "start_time": "2025-04-14T05:55:48.272Z"
   },
   {
    "duration": 17,
    "start_time": "2025-04-14T05:55:48.420Z"
   },
   {
    "duration": 275,
    "start_time": "2025-04-14T05:55:48.441Z"
   },
   {
    "duration": 35,
    "start_time": "2025-04-14T05:55:48.717Z"
   },
   {
    "duration": 46,
    "start_time": "2025-04-14T05:55:48.753Z"
   },
   {
    "duration": 9,
    "start_time": "2025-04-14T05:55:48.801Z"
   },
   {
    "duration": 59,
    "start_time": "2025-04-14T05:55:48.811Z"
   },
   {
    "duration": 190,
    "start_time": "2025-04-14T05:55:48.872Z"
   },
   {
    "duration": 10,
    "start_time": "2025-04-14T05:55:49.064Z"
   },
   {
    "duration": 111,
    "start_time": "2025-04-14T05:55:49.076Z"
   },
   {
    "duration": 18,
    "start_time": "2025-04-14T05:55:49.189Z"
   },
   {
    "duration": 3520,
    "start_time": "2025-04-14T05:56:55.585Z"
   },
   {
    "duration": 1933,
    "start_time": "2025-04-14T05:56:59.107Z"
   },
   {
    "duration": 7,
    "start_time": "2025-04-14T05:57:01.041Z"
   },
   {
    "duration": 74,
    "start_time": "2025-04-14T05:57:01.049Z"
   },
   {
    "duration": 7,
    "start_time": "2025-04-14T05:57:01.125Z"
   },
   {
    "duration": 13,
    "start_time": "2025-04-14T05:57:01.133Z"
   },
   {
    "duration": 35,
    "start_time": "2025-04-14T05:57:01.148Z"
   },
   {
    "duration": 135,
    "start_time": "2025-04-14T05:57:01.185Z"
   },
   {
    "duration": 17,
    "start_time": "2025-04-14T05:57:01.321Z"
   },
   {
    "duration": 44,
    "start_time": "2025-04-14T05:57:01.342Z"
   },
   {
    "duration": 110,
    "start_time": "2025-04-14T05:57:01.388Z"
   },
   {
    "duration": 9,
    "start_time": "2025-04-14T05:57:01.499Z"
   },
   {
    "duration": 21,
    "start_time": "2025-04-14T05:57:01.509Z"
   },
   {
    "duration": 12,
    "start_time": "2025-04-14T05:57:01.536Z"
   },
   {
    "duration": 207,
    "start_time": "2025-04-14T05:57:01.550Z"
   },
   {
    "duration": 9,
    "start_time": "2025-04-14T05:57:01.759Z"
   },
   {
    "duration": 48,
    "start_time": "2025-04-14T05:57:01.770Z"
   },
   {
    "duration": 7,
    "start_time": "2025-04-14T05:57:01.819Z"
   },
   {
    "duration": 91,
    "start_time": "2025-04-14T05:57:01.828Z"
   },
   {
    "duration": 10,
    "start_time": "2025-04-14T05:57:01.920Z"
   },
   {
    "duration": 57,
    "start_time": "2025-04-14T05:57:01.932Z"
   },
   {
    "duration": 39,
    "start_time": "2025-04-14T05:57:01.991Z"
   },
   {
    "duration": 62,
    "start_time": "2025-04-14T05:57:02.031Z"
   },
   {
    "duration": 37,
    "start_time": "2025-04-14T05:57:02.095Z"
   },
   {
    "duration": 112,
    "start_time": "2025-04-14T05:57:02.133Z"
   },
   {
    "duration": 148,
    "start_time": "2025-04-14T05:57:02.246Z"
   },
   {
    "duration": 13,
    "start_time": "2025-04-14T05:57:02.396Z"
   },
   {
    "duration": 313,
    "start_time": "2025-04-14T05:57:02.413Z"
   },
   {
    "duration": 36,
    "start_time": "2025-04-14T05:57:02.727Z"
   },
   {
    "duration": 59,
    "start_time": "2025-04-14T05:57:02.765Z"
   },
   {
    "duration": 16,
    "start_time": "2025-04-14T05:57:02.826Z"
   },
   {
    "duration": 97,
    "start_time": "2025-04-14T05:57:02.844Z"
   },
   {
    "duration": 157,
    "start_time": "2025-04-14T05:57:02.943Z"
   },
   {
    "duration": 10,
    "start_time": "2025-04-14T05:57:03.101Z"
   },
   {
    "duration": 83,
    "start_time": "2025-04-14T05:57:03.113Z"
   },
   {
    "duration": 19,
    "start_time": "2025-04-14T05:57:03.197Z"
   },
   {
    "duration": 157,
    "start_time": "2025-04-14T05:57:03.218Z"
   },
   {
    "duration": 25,
    "start_time": "2025-04-14T05:57:03.377Z"
   },
   {
    "duration": 41,
    "start_time": "2025-04-14T05:57:03.404Z"
   },
   {
    "duration": 10,
    "start_time": "2025-04-14T05:57:03.446Z"
   },
   {
    "duration": 333,
    "start_time": "2025-04-14T05:57:03.457Z"
   },
   {
    "duration": 7,
    "start_time": "2025-04-14T05:57:03.791Z"
   },
   {
    "duration": 127,
    "start_time": "2025-04-14T05:57:03.800Z"
   },
   {
    "duration": 80,
    "start_time": "2025-04-14T05:57:03.929Z"
   },
   {
    "duration": 11,
    "start_time": "2025-04-14T05:57:04.011Z"
   },
   {
    "duration": 127,
    "start_time": "2025-04-14T05:57:04.036Z"
   },
   {
    "duration": 191,
    "start_time": "2025-04-14T05:57:04.165Z"
   },
   {
    "duration": 139,
    "start_time": "2025-04-14T05:57:04.358Z"
   },
   {
    "duration": 0,
    "start_time": "2025-04-14T05:57:04.499Z"
   },
   {
    "duration": 0,
    "start_time": "2025-04-14T05:57:04.500Z"
   },
   {
    "duration": 0,
    "start_time": "2025-04-14T05:57:04.501Z"
   },
   {
    "duration": 0,
    "start_time": "2025-04-14T05:57:04.502Z"
   },
   {
    "duration": 0,
    "start_time": "2025-04-14T05:57:04.503Z"
   },
   {
    "duration": 0,
    "start_time": "2025-04-14T05:57:04.505Z"
   },
   {
    "duration": 0,
    "start_time": "2025-04-14T05:57:04.506Z"
   },
   {
    "duration": 0,
    "start_time": "2025-04-14T05:57:04.507Z"
   },
   {
    "duration": 0,
    "start_time": "2025-04-14T05:57:04.508Z"
   },
   {
    "duration": 0,
    "start_time": "2025-04-14T05:57:04.509Z"
   },
   {
    "duration": 0,
    "start_time": "2025-04-14T05:57:04.510Z"
   },
   {
    "duration": 0,
    "start_time": "2025-04-14T05:57:04.511Z"
   },
   {
    "duration": 0,
    "start_time": "2025-04-14T05:57:04.512Z"
   },
   {
    "duration": 0,
    "start_time": "2025-04-14T05:57:04.513Z"
   },
   {
    "duration": 0,
    "start_time": "2025-04-14T05:57:04.536Z"
   },
   {
    "duration": 0,
    "start_time": "2025-04-14T05:57:04.537Z"
   },
   {
    "duration": 0,
    "start_time": "2025-04-14T05:57:04.538Z"
   },
   {
    "duration": 0,
    "start_time": "2025-04-14T05:57:04.540Z"
   },
   {
    "duration": 0,
    "start_time": "2025-04-14T05:57:04.541Z"
   },
   {
    "duration": 0,
    "start_time": "2025-04-14T05:57:04.542Z"
   },
   {
    "duration": 0,
    "start_time": "2025-04-14T05:57:04.543Z"
   },
   {
    "duration": 0,
    "start_time": "2025-04-14T05:57:04.544Z"
   },
   {
    "duration": 1,
    "start_time": "2025-04-14T05:57:04.545Z"
   },
   {
    "duration": 0,
    "start_time": "2025-04-14T05:57:04.547Z"
   },
   {
    "duration": 0,
    "start_time": "2025-04-14T05:57:04.548Z"
   },
   {
    "duration": 0,
    "start_time": "2025-04-14T05:57:04.549Z"
   },
   {
    "duration": 0,
    "start_time": "2025-04-14T05:57:04.550Z"
   },
   {
    "duration": 3560,
    "start_time": "2025-04-14T05:59:52.704Z"
   },
   {
    "duration": 1848,
    "start_time": "2025-04-14T05:59:56.266Z"
   },
   {
    "duration": 6,
    "start_time": "2025-04-14T05:59:58.115Z"
   },
   {
    "duration": 8,
    "start_time": "2025-04-14T05:59:58.123Z"
   },
   {
    "duration": 8,
    "start_time": "2025-04-14T05:59:58.133Z"
   },
   {
    "duration": 7,
    "start_time": "2025-04-14T05:59:58.142Z"
   },
   {
    "duration": 4,
    "start_time": "2025-04-14T05:59:58.150Z"
   },
   {
    "duration": 56,
    "start_time": "2025-04-14T05:59:58.155Z"
   },
   {
    "duration": 5,
    "start_time": "2025-04-14T05:59:58.213Z"
   },
   {
    "duration": 27,
    "start_time": "2025-04-14T05:59:58.236Z"
   },
   {
    "duration": 109,
    "start_time": "2025-04-14T05:59:58.264Z"
   },
   {
    "duration": 8,
    "start_time": "2025-04-14T05:59:58.375Z"
   },
   {
    "duration": 10,
    "start_time": "2025-04-14T05:59:58.384Z"
   },
   {
    "duration": 9,
    "start_time": "2025-04-14T05:59:58.396Z"
   },
   {
    "duration": 64,
    "start_time": "2025-04-14T05:59:58.406Z"
   },
   {
    "duration": 57,
    "start_time": "2025-04-14T05:59:58.471Z"
   },
   {
    "duration": 32,
    "start_time": "2025-04-14T05:59:58.530Z"
   },
   {
    "duration": 11,
    "start_time": "2025-04-14T05:59:58.564Z"
   },
   {
    "duration": 31,
    "start_time": "2025-04-14T05:59:58.577Z"
   },
   {
    "duration": 9,
    "start_time": "2025-04-14T05:59:58.610Z"
   },
   {
    "duration": 12,
    "start_time": "2025-04-14T05:59:58.621Z"
   },
   {
    "duration": 14,
    "start_time": "2025-04-14T05:59:58.635Z"
   },
   {
    "duration": 14,
    "start_time": "2025-04-14T05:59:58.651Z"
   },
   {
    "duration": 29,
    "start_time": "2025-04-14T05:59:58.667Z"
   },
   {
    "duration": 117,
    "start_time": "2025-04-14T05:59:58.697Z"
   },
   {
    "duration": 151,
    "start_time": "2025-04-14T05:59:58.816Z"
   },
   {
    "duration": 14,
    "start_time": "2025-04-14T05:59:58.968Z"
   },
   {
    "duration": 230,
    "start_time": "2025-04-14T05:59:58.988Z"
   },
   {
    "duration": 37,
    "start_time": "2025-04-14T05:59:59.219Z"
   },
   {
    "duration": 107,
    "start_time": "2025-04-14T05:59:59.258Z"
   },
   {
    "duration": 8,
    "start_time": "2025-04-14T05:59:59.366Z"
   },
   {
    "duration": 37,
    "start_time": "2025-04-14T05:59:59.376Z"
   },
   {
    "duration": 166,
    "start_time": "2025-04-14T05:59:59.415Z"
   },
   {
    "duration": 10,
    "start_time": "2025-04-14T05:59:59.583Z"
   },
   {
    "duration": 116,
    "start_time": "2025-04-14T05:59:59.595Z"
   },
   {
    "duration": 19,
    "start_time": "2025-04-14T05:59:59.712Z"
   },
   {
    "duration": 36,
    "start_time": "2025-04-14T05:59:59.733Z"
   },
   {
    "duration": 12,
    "start_time": "2025-04-14T05:59:59.770Z"
   },
   {
    "duration": 59,
    "start_time": "2025-04-14T05:59:59.784Z"
   },
   {
    "duration": 10,
    "start_time": "2025-04-14T05:59:59.845Z"
   },
   {
    "duration": 319,
    "start_time": "2025-04-14T05:59:59.856Z"
   },
   {
    "duration": 7,
    "start_time": "2025-04-14T06:00:00.177Z"
   },
   {
    "duration": 228,
    "start_time": "2025-04-14T06:00:00.186Z"
   },
   {
    "duration": 77,
    "start_time": "2025-04-14T06:00:00.416Z"
   },
   {
    "duration": 147,
    "start_time": "2025-04-14T06:00:00.495Z"
   },
   {
    "duration": 149,
    "start_time": "2025-04-14T06:00:00.644Z"
   },
   {
    "duration": 188,
    "start_time": "2025-04-14T06:00:00.795Z"
   },
   {
    "duration": 7,
    "start_time": "2025-04-14T06:00:00.985Z"
   },
   {
    "duration": 167,
    "start_time": "2025-04-14T06:00:00.994Z"
   },
   {
    "duration": 60,
    "start_time": "2025-04-14T06:00:01.163Z"
   },
   {
    "duration": 481,
    "start_time": "2025-04-14T06:00:01.224Z"
   },
   {
    "duration": 30,
    "start_time": "2025-04-14T06:00:01.707Z"
   },
   {
    "duration": 21,
    "start_time": "2025-04-14T06:00:01.739Z"
   },
   {
    "duration": 21,
    "start_time": "2025-04-14T06:00:01.762Z"
   },
   {
    "duration": 30,
    "start_time": "2025-04-14T06:00:01.785Z"
   },
   {
    "duration": 41,
    "start_time": "2025-04-14T06:00:01.817Z"
   },
   {
    "duration": 65,
    "start_time": "2025-04-14T06:00:01.860Z"
   },
   {
    "duration": 158,
    "start_time": "2025-04-14T06:00:01.927Z"
   },
   {
    "duration": 11,
    "start_time": "2025-04-14T06:00:02.086Z"
   },
   {
    "duration": 62,
    "start_time": "2025-04-14T06:00:02.099Z"
   },
   {
    "duration": 50,
    "start_time": "2025-04-14T06:00:02.162Z"
   },
   {
    "duration": 50,
    "start_time": "2025-04-14T06:00:02.214Z"
   },
   {
    "duration": 45,
    "start_time": "2025-04-14T06:00:02.266Z"
   },
   {
    "duration": 198,
    "start_time": "2025-04-14T06:00:02.312Z"
   },
   {
    "duration": 3261,
    "start_time": "2025-04-14T06:00:02.512Z"
   },
   {
    "duration": 20,
    "start_time": "2025-04-14T06:00:05.775Z"
   },
   {
    "duration": 30,
    "start_time": "2025-04-14T06:00:05.796Z"
   },
   {
    "duration": 95,
    "start_time": "2025-04-14T06:00:05.828Z"
   },
   {
    "duration": 21,
    "start_time": "2025-04-14T06:00:05.925Z"
   },
   {
    "duration": 46,
    "start_time": "2025-04-14T06:00:05.947Z"
   },
   {
    "duration": 75,
    "start_time": "2025-04-14T06:00:05.995Z"
   },
   {
    "duration": 24,
    "start_time": "2025-04-14T06:00:06.071Z"
   },
   {
    "duration": 37,
    "start_time": "2025-04-14T06:00:06.097Z"
   },
   {
    "duration": 85,
    "start_time": "2025-04-14T06:00:06.136Z"
   },
   {
    "duration": 22,
    "start_time": "2025-04-14T06:00:06.222Z"
   },
   {
    "duration": 157,
    "start_time": "2025-04-14T06:07:14.203Z"
   },
   {
    "duration": 218,
    "start_time": "2025-04-14T06:20:23.308Z"
   },
   {
    "duration": 26,
    "start_time": "2025-04-14T06:21:15.227Z"
   },
   {
    "duration": 240,
    "start_time": "2025-04-14T06:32:07.955Z"
   },
   {
    "duration": 26,
    "start_time": "2025-04-14T06:33:32.407Z"
   },
   {
    "duration": 103,
    "start_time": "2025-04-14T06:54:18.802Z"
   },
   {
    "duration": 109,
    "start_time": "2025-04-14T06:54:45.298Z"
   },
   {
    "duration": 17,
    "start_time": "2025-04-14T06:55:39.008Z"
   },
   {
    "duration": 37,
    "start_time": "2025-04-14T06:56:08.992Z"
   },
   {
    "duration": 32,
    "start_time": "2025-04-14T06:56:12.687Z"
   },
   {
    "duration": 3670,
    "start_time": "2025-04-14T07:08:19.279Z"
   },
   {
    "duration": 2435,
    "start_time": "2025-04-14T07:08:22.952Z"
   },
   {
    "duration": 6,
    "start_time": "2025-04-14T07:08:25.389Z"
   },
   {
    "duration": 74,
    "start_time": "2025-04-14T07:08:25.397Z"
   },
   {
    "duration": 18,
    "start_time": "2025-04-14T07:08:25.474Z"
   },
   {
    "duration": 18,
    "start_time": "2025-04-14T07:08:25.494Z"
   },
   {
    "duration": 17,
    "start_time": "2025-04-14T07:08:25.514Z"
   },
   {
    "duration": 151,
    "start_time": "2025-04-14T07:08:25.533Z"
   },
   {
    "duration": 6,
    "start_time": "2025-04-14T07:08:25.686Z"
   },
   {
    "duration": 52,
    "start_time": "2025-04-14T07:08:25.695Z"
   },
   {
    "duration": 110,
    "start_time": "2025-04-14T07:08:25.749Z"
   },
   {
    "duration": 8,
    "start_time": "2025-04-14T07:08:25.861Z"
   },
   {
    "duration": 110,
    "start_time": "2025-04-14T07:08:25.871Z"
   },
   {
    "duration": 12,
    "start_time": "2025-04-14T07:08:25.983Z"
   },
   {
    "duration": 51,
    "start_time": "2025-04-14T07:08:25.997Z"
   },
   {
    "duration": 8,
    "start_time": "2025-04-14T07:08:26.050Z"
   },
   {
    "duration": 20,
    "start_time": "2025-04-14T07:08:26.060Z"
   },
   {
    "duration": 16,
    "start_time": "2025-04-14T07:08:26.082Z"
   },
   {
    "duration": 39,
    "start_time": "2025-04-14T07:08:26.100Z"
   },
   {
    "duration": 10,
    "start_time": "2025-04-14T07:08:26.141Z"
   },
   {
    "duration": 21,
    "start_time": "2025-04-14T07:08:26.152Z"
   },
   {
    "duration": 14,
    "start_time": "2025-04-14T07:08:26.175Z"
   },
   {
    "duration": 36,
    "start_time": "2025-04-14T07:08:26.190Z"
   },
   {
    "duration": 29,
    "start_time": "2025-04-14T07:08:26.228Z"
   },
   {
    "duration": 113,
    "start_time": "2025-04-14T07:08:26.259Z"
   },
   {
    "duration": 165,
    "start_time": "2025-04-14T07:08:26.373Z"
   },
   {
    "duration": 14,
    "start_time": "2025-04-14T07:08:26.542Z"
   },
   {
    "duration": 240,
    "start_time": "2025-04-14T07:08:26.560Z"
   },
   {
    "duration": 40,
    "start_time": "2025-04-14T07:08:26.801Z"
   },
   {
    "duration": 48,
    "start_time": "2025-04-14T07:08:26.842Z"
   },
   {
    "duration": 87,
    "start_time": "2025-04-14T07:08:26.891Z"
   },
   {
    "duration": 55,
    "start_time": "2025-04-14T07:08:26.980Z"
   },
   {
    "duration": 161,
    "start_time": "2025-04-14T07:08:27.038Z"
   },
   {
    "duration": 10,
    "start_time": "2025-04-14T07:08:27.201Z"
   },
   {
    "duration": 82,
    "start_time": "2025-04-14T07:08:27.213Z"
   },
   {
    "duration": 19,
    "start_time": "2025-04-14T07:08:27.297Z"
   },
   {
    "duration": 69,
    "start_time": "2025-04-14T07:08:27.318Z"
   },
   {
    "duration": 99,
    "start_time": "2025-04-14T07:08:27.389Z"
   },
   {
    "duration": 67,
    "start_time": "2025-04-14T07:08:27.490Z"
   },
   {
    "duration": 10,
    "start_time": "2025-04-14T07:08:27.559Z"
   },
   {
    "duration": 387,
    "start_time": "2025-04-14T07:08:27.571Z"
   },
   {
    "duration": 8,
    "start_time": "2025-04-14T07:08:27.960Z"
   },
   {
    "duration": 125,
    "start_time": "2025-04-14T07:08:27.970Z"
   },
   {
    "duration": 75,
    "start_time": "2025-04-14T07:08:28.097Z"
   },
   {
    "duration": 13,
    "start_time": "2025-04-14T07:08:28.173Z"
   },
   {
    "duration": 140,
    "start_time": "2025-04-14T07:08:28.187Z"
   },
   {
    "duration": 195,
    "start_time": "2025-04-14T07:08:28.329Z"
   },
   {
    "duration": 13,
    "start_time": "2025-04-14T07:08:28.526Z"
   },
   {
    "duration": 152,
    "start_time": "2025-04-14T07:08:28.541Z"
   },
   {
    "duration": 67,
    "start_time": "2025-04-14T07:08:28.695Z"
   },
   {
    "duration": 377,
    "start_time": "2025-04-14T07:08:28.764Z"
   },
   {
    "duration": 19,
    "start_time": "2025-04-14T07:08:29.143Z"
   },
   {
    "duration": 19,
    "start_time": "2025-04-14T07:08:29.164Z"
   },
   {
    "duration": 20,
    "start_time": "2025-04-14T07:08:29.185Z"
   },
   {
    "duration": 32,
    "start_time": "2025-04-14T07:08:29.207Z"
   },
   {
    "duration": 13,
    "start_time": "2025-04-14T07:08:29.240Z"
   },
   {
    "duration": 31,
    "start_time": "2025-04-14T07:08:29.255Z"
   },
   {
    "duration": 165,
    "start_time": "2025-04-14T07:08:29.288Z"
   },
   {
    "duration": 11,
    "start_time": "2025-04-14T07:08:29.455Z"
   },
   {
    "duration": 14,
    "start_time": "2025-04-14T07:08:29.467Z"
   },
   {
    "duration": 7,
    "start_time": "2025-04-14T07:08:29.482Z"
   },
   {
    "duration": 7,
    "start_time": "2025-04-14T07:08:29.491Z"
   },
   {
    "duration": 17,
    "start_time": "2025-04-14T07:08:29.500Z"
   },
   {
    "duration": 183,
    "start_time": "2025-04-14T07:08:29.519Z"
   },
   {
    "duration": 3256,
    "start_time": "2025-04-14T07:08:29.704Z"
   },
   {
    "duration": 21,
    "start_time": "2025-04-14T07:08:32.962Z"
   },
   {
    "duration": 44,
    "start_time": "2025-04-14T07:08:32.984Z"
   },
   {
    "duration": 95,
    "start_time": "2025-04-14T07:08:33.030Z"
   },
   {
    "duration": 19,
    "start_time": "2025-04-14T07:08:33.127Z"
   },
   {
    "duration": 63,
    "start_time": "2025-04-14T07:08:33.148Z"
   },
   {
    "duration": 40,
    "start_time": "2025-04-14T07:08:33.213Z"
   },
   {
    "duration": 23,
    "start_time": "2025-04-14T07:08:33.255Z"
   },
   {
    "duration": 52,
    "start_time": "2025-04-14T07:08:33.279Z"
   },
   {
    "duration": 21,
    "start_time": "2025-04-14T07:08:33.333Z"
   },
   {
    "duration": 209,
    "start_time": "2025-04-14T07:08:33.356Z"
   },
   {
    "duration": 314,
    "start_time": "2025-04-14T07:08:33.568Z"
   },
   {
    "duration": 234,
    "start_time": "2025-04-14T07:08:33.884Z"
   },
   {
    "duration": 31,
    "start_time": "2025-04-14T07:08:34.120Z"
   },
   {
    "duration": 58,
    "start_time": "2025-04-14T07:08:34.153Z"
   },
   {
    "duration": 21,
    "start_time": "2025-04-14T08:00:48.404Z"
   },
   {
    "duration": 70,
    "start_time": "2025-04-14T08:01:52.140Z"
   },
   {
    "duration": 66,
    "start_time": "2025-04-14T08:18:58.226Z"
   },
   {
    "duration": 147,
    "start_time": "2025-04-14T08:19:16.417Z"
   },
   {
    "duration": 11,
    "start_time": "2025-04-14T08:29:37.006Z"
   },
   {
    "duration": 185,
    "start_time": "2025-04-14T08:49:57.570Z"
   },
   {
    "duration": 209,
    "start_time": "2025-04-14T08:50:18.121Z"
   },
   {
    "duration": 406,
    "start_time": "2025-04-14T08:50:21.920Z"
   },
   {
    "duration": 131,
    "start_time": "2025-04-14T08:52:13.326Z"
   },
   {
    "duration": 184,
    "start_time": "2025-04-14T09:14:38.906Z"
   },
   {
    "duration": 152,
    "start_time": "2025-04-14T09:14:47.986Z"
   },
   {
    "duration": 142,
    "start_time": "2025-04-14T09:18:38.293Z"
   },
   {
    "duration": 14,
    "start_time": "2025-04-14T09:29:26.776Z"
   },
   {
    "duration": 255,
    "start_time": "2025-04-14T09:30:01.767Z"
   },
   {
    "duration": 143,
    "start_time": "2025-04-14T09:30:08.072Z"
   },
   {
    "duration": 12,
    "start_time": "2025-04-14T09:30:57.445Z"
   },
   {
    "duration": 30,
    "start_time": "2025-04-14T11:06:07.708Z"
   },
   {
    "duration": 50,
    "start_time": "2025-04-14T11:17:55.097Z"
   },
   {
    "duration": 28,
    "start_time": "2025-04-14T11:18:05.745Z"
   },
   {
    "duration": 69,
    "start_time": "2025-04-14T11:18:14.112Z"
   },
   {
    "duration": 51,
    "start_time": "2025-04-15T04:18:41.631Z"
   },
   {
    "duration": 5488,
    "start_time": "2025-04-15T04:18:52.898Z"
   },
   {
    "duration": 2857,
    "start_time": "2025-04-15T04:18:58.388Z"
   },
   {
    "duration": 6,
    "start_time": "2025-04-15T04:19:01.250Z"
   },
   {
    "duration": 36,
    "start_time": "2025-04-15T04:19:01.258Z"
   },
   {
    "duration": 29,
    "start_time": "2025-04-15T04:19:01.296Z"
   },
   {
    "duration": 13,
    "start_time": "2025-04-15T04:19:01.327Z"
   },
   {
    "duration": 25,
    "start_time": "2025-04-15T04:19:01.342Z"
   },
   {
    "duration": 78,
    "start_time": "2025-04-15T04:19:01.368Z"
   },
   {
    "duration": 7,
    "start_time": "2025-04-15T04:19:01.450Z"
   },
   {
    "duration": 68,
    "start_time": "2025-04-15T04:19:01.458Z"
   },
   {
    "duration": 123,
    "start_time": "2025-04-15T04:19:01.530Z"
   },
   {
    "duration": 8,
    "start_time": "2025-04-15T04:19:01.655Z"
   },
   {
    "duration": 75,
    "start_time": "2025-04-15T04:19:01.665Z"
   },
   {
    "duration": 30,
    "start_time": "2025-04-15T04:19:01.742Z"
   },
   {
    "duration": 81,
    "start_time": "2025-04-15T04:19:01.774Z"
   },
   {
    "duration": 67,
    "start_time": "2025-04-15T04:19:01.857Z"
   },
   {
    "duration": 152,
    "start_time": "2025-04-15T04:19:01.926Z"
   },
   {
    "duration": 49,
    "start_time": "2025-04-15T04:19:02.080Z"
   },
   {
    "duration": 41,
    "start_time": "2025-04-15T04:19:02.131Z"
   },
   {
    "duration": 53,
    "start_time": "2025-04-15T04:19:02.174Z"
   },
   {
    "duration": 20,
    "start_time": "2025-04-15T04:19:02.229Z"
   },
   {
    "duration": 49,
    "start_time": "2025-04-15T04:19:02.250Z"
   },
   {
    "duration": 52,
    "start_time": "2025-04-15T04:19:02.301Z"
   },
   {
    "duration": 79,
    "start_time": "2025-04-15T04:19:02.356Z"
   },
   {
    "duration": 124,
    "start_time": "2025-04-15T04:19:02.437Z"
   },
   {
    "duration": 180,
    "start_time": "2025-04-15T04:19:02.563Z"
   },
   {
    "duration": 14,
    "start_time": "2025-04-15T04:19:02.748Z"
   },
   {
    "duration": 325,
    "start_time": "2025-04-15T04:19:02.764Z"
   },
   {
    "duration": 46,
    "start_time": "2025-04-15T04:19:03.091Z"
   },
   {
    "duration": 49,
    "start_time": "2025-04-15T04:19:03.138Z"
   },
   {
    "duration": 31,
    "start_time": "2025-04-15T04:19:03.188Z"
   },
   {
    "duration": 59,
    "start_time": "2025-04-15T04:19:03.222Z"
   },
   {
    "duration": 211,
    "start_time": "2025-04-15T04:19:03.283Z"
   },
   {
    "duration": 21,
    "start_time": "2025-04-15T04:19:03.495Z"
   },
   {
    "duration": 79,
    "start_time": "2025-04-15T04:19:03.520Z"
   },
   {
    "duration": 38,
    "start_time": "2025-04-15T04:19:03.601Z"
   },
   {
    "duration": 145,
    "start_time": "2025-04-15T04:19:03.640Z"
   },
   {
    "duration": 18,
    "start_time": "2025-04-15T04:19:03.788Z"
   },
   {
    "duration": 154,
    "start_time": "2025-04-15T04:19:03.809Z"
   },
   {
    "duration": 10,
    "start_time": "2025-04-15T04:19:03.965Z"
   },
   {
    "duration": 459,
    "start_time": "2025-04-15T04:19:03.977Z"
   },
   {
    "duration": 7,
    "start_time": "2025-04-15T04:19:04.437Z"
   },
   {
    "duration": 144,
    "start_time": "2025-04-15T04:19:04.446Z"
   },
   {
    "duration": 93,
    "start_time": "2025-04-15T04:19:04.591Z"
   },
   {
    "duration": 71,
    "start_time": "2025-04-15T04:19:04.686Z"
   },
   {
    "duration": 190,
    "start_time": "2025-04-15T04:19:04.759Z"
   },
   {
    "duration": 268,
    "start_time": "2025-04-15T04:19:04.951Z"
   },
   {
    "duration": 9,
    "start_time": "2025-04-15T04:19:05.221Z"
   },
   {
    "duration": 194,
    "start_time": "2025-04-15T04:19:05.231Z"
   },
   {
    "duration": 62,
    "start_time": "2025-04-15T04:19:05.427Z"
   },
   {
    "duration": 946,
    "start_time": "2025-04-15T04:19:05.491Z"
   },
   {
    "duration": 77,
    "start_time": "2025-04-15T04:19:06.439Z"
   },
   {
    "duration": 37,
    "start_time": "2025-04-15T04:19:06.519Z"
   },
   {
    "duration": 277,
    "start_time": "2025-04-15T04:19:06.558Z"
   },
   {
    "duration": 97,
    "start_time": "2025-04-15T04:19:06.837Z"
   },
   {
    "duration": 11,
    "start_time": "2025-04-15T04:19:06.936Z"
   },
   {
    "duration": 93,
    "start_time": "2025-04-15T04:19:06.949Z"
   },
   {
    "duration": 253,
    "start_time": "2025-04-15T04:19:07.044Z"
   },
   {
    "duration": 27,
    "start_time": "2025-04-15T04:19:07.299Z"
   },
   {
    "duration": 11,
    "start_time": "2025-04-15T04:19:07.328Z"
   },
   {
    "duration": 9,
    "start_time": "2025-04-15T04:19:07.341Z"
   },
   {
    "duration": 17,
    "start_time": "2025-04-15T04:19:07.352Z"
   },
   {
    "duration": 27,
    "start_time": "2025-04-15T04:19:07.370Z"
   },
   {
    "duration": 194,
    "start_time": "2025-04-15T04:19:07.399Z"
   },
   {
    "duration": 4155,
    "start_time": "2025-04-15T04:19:07.595Z"
   },
   {
    "duration": 22,
    "start_time": "2025-04-15T04:19:11.752Z"
   },
   {
    "duration": 12,
    "start_time": "2025-04-15T04:19:11.776Z"
   },
   {
    "duration": 94,
    "start_time": "2025-04-15T04:19:11.789Z"
   },
   {
    "duration": 48,
    "start_time": "2025-04-15T04:19:11.885Z"
   },
   {
    "duration": 10,
    "start_time": "2025-04-15T04:19:11.934Z"
   },
   {
    "duration": 28,
    "start_time": "2025-04-15T04:19:11.946Z"
   },
   {
    "duration": 105,
    "start_time": "2025-04-15T04:19:11.976Z"
   },
   {
    "duration": 40,
    "start_time": "2025-04-15T04:19:12.084Z"
   },
   {
    "duration": 22,
    "start_time": "2025-04-15T04:19:12.126Z"
   },
   {
    "duration": 108,
    "start_time": "2025-04-15T04:19:12.150Z"
   },
   {
    "duration": 266,
    "start_time": "2025-04-15T04:19:12.260Z"
   },
   {
    "duration": 270,
    "start_time": "2025-04-15T04:19:12.528Z"
   },
   {
    "duration": 82,
    "start_time": "2025-04-15T04:19:12.800Z"
   },
   {
    "duration": 38,
    "start_time": "2025-04-15T04:19:12.884Z"
   },
   {
    "duration": 32,
    "start_time": "2025-04-15T04:19:12.924Z"
   },
   {
    "duration": 179,
    "start_time": "2025-04-15T04:19:12.962Z"
   },
   {
    "duration": 191,
    "start_time": "2025-04-15T04:19:13.143Z"
   },
   {
    "duration": 11,
    "start_time": "2025-04-15T04:19:13.335Z"
   },
   {
    "duration": 163,
    "start_time": "2025-04-15T04:19:13.347Z"
   },
   {
    "duration": 0,
    "start_time": "2025-04-15T04:19:13.513Z"
   },
   {
    "duration": 10,
    "start_time": "2025-04-15T04:21:35.463Z"
   },
   {
    "duration": 71,
    "start_time": "2025-04-15T04:21:41.825Z"
   },
   {
    "duration": 86,
    "start_time": "2025-04-15T04:27:41.499Z"
   },
   {
    "duration": 80,
    "start_time": "2025-04-15T04:28:08.843Z"
   },
   {
    "duration": 183,
    "start_time": "2025-04-15T04:29:01.346Z"
   },
   {
    "duration": 36,
    "start_time": "2025-04-15T04:30:20.930Z"
   },
   {
    "duration": 45,
    "start_time": "2025-04-15T04:34:18.996Z"
   },
   {
    "duration": 48,
    "start_time": "2025-04-15T04:42:55.284Z"
   },
   {
    "duration": 48,
    "start_time": "2025-04-15T04:44:03.771Z"
   },
   {
    "duration": 10,
    "start_time": "2025-04-15T04:45:19.953Z"
   },
   {
    "duration": 35,
    "start_time": "2025-04-15T04:45:26.946Z"
   },
   {
    "duration": 44,
    "start_time": "2025-04-15T04:45:29.458Z"
   },
   {
    "duration": 12,
    "start_time": "2025-04-15T04:45:49.497Z"
   },
   {
    "duration": 11,
    "start_time": "2025-04-15T04:46:02.518Z"
   },
   {
    "duration": 17,
    "start_time": "2025-04-15T04:52:24.910Z"
   },
   {
    "duration": 5490,
    "start_time": "2025-04-15T04:53:24.534Z"
   },
   {
    "duration": 2759,
    "start_time": "2025-04-15T04:53:30.027Z"
   },
   {
    "duration": 6,
    "start_time": "2025-04-15T04:53:32.788Z"
   },
   {
    "duration": 49,
    "start_time": "2025-04-15T04:53:32.796Z"
   },
   {
    "duration": 5,
    "start_time": "2025-04-15T04:53:32.847Z"
   },
   {
    "duration": 30,
    "start_time": "2025-04-15T04:53:32.854Z"
   },
   {
    "duration": 35,
    "start_time": "2025-04-15T04:53:32.886Z"
   },
   {
    "duration": 66,
    "start_time": "2025-04-15T04:53:32.924Z"
   },
   {
    "duration": 7,
    "start_time": "2025-04-15T04:53:32.992Z"
   },
   {
    "duration": 48,
    "start_time": "2025-04-15T04:53:33.002Z"
   },
   {
    "duration": 117,
    "start_time": "2025-04-15T04:53:33.051Z"
   },
   {
    "duration": 9,
    "start_time": "2025-04-15T04:53:33.170Z"
   },
   {
    "duration": 47,
    "start_time": "2025-04-15T04:53:33.181Z"
   },
   {
    "duration": 18,
    "start_time": "2025-04-15T04:53:33.230Z"
   },
   {
    "duration": 78,
    "start_time": "2025-04-15T04:53:33.250Z"
   },
   {
    "duration": 8,
    "start_time": "2025-04-15T04:53:33.330Z"
   },
   {
    "duration": 21,
    "start_time": "2025-04-15T04:53:33.340Z"
   },
   {
    "duration": 8,
    "start_time": "2025-04-15T04:53:33.363Z"
   },
   {
    "duration": 61,
    "start_time": "2025-04-15T04:53:33.372Z"
   },
   {
    "duration": 11,
    "start_time": "2025-04-15T04:53:33.434Z"
   },
   {
    "duration": 29,
    "start_time": "2025-04-15T04:53:33.447Z"
   },
   {
    "duration": 12,
    "start_time": "2025-04-15T04:53:33.478Z"
   },
   {
    "duration": 26,
    "start_time": "2025-04-15T04:53:33.492Z"
   },
   {
    "duration": 30,
    "start_time": "2025-04-15T04:53:33.521Z"
   },
   {
    "duration": 133,
    "start_time": "2025-04-15T04:53:33.552Z"
   },
   {
    "duration": 176,
    "start_time": "2025-04-15T04:53:33.687Z"
   },
   {
    "duration": 19,
    "start_time": "2025-04-15T04:53:33.865Z"
   },
   {
    "duration": 389,
    "start_time": "2025-04-15T04:53:33.907Z"
   },
   {
    "duration": 41,
    "start_time": "2025-04-15T04:53:34.298Z"
   },
   {
    "duration": 48,
    "start_time": "2025-04-15T04:53:34.341Z"
   },
   {
    "duration": 22,
    "start_time": "2025-04-15T04:53:34.406Z"
   },
   {
    "duration": 51,
    "start_time": "2025-04-15T04:53:34.430Z"
   },
   {
    "duration": 202,
    "start_time": "2025-04-15T04:53:34.483Z"
   },
   {
    "duration": 22,
    "start_time": "2025-04-15T04:53:34.687Z"
   },
   {
    "duration": 223,
    "start_time": "2025-04-15T04:53:34.715Z"
   },
   {
    "duration": 25,
    "start_time": "2025-04-15T04:53:34.939Z"
   },
   {
    "duration": 84,
    "start_time": "2025-04-15T04:53:34.966Z"
   },
   {
    "duration": 12,
    "start_time": "2025-04-15T04:53:35.051Z"
   },
   {
    "duration": 74,
    "start_time": "2025-04-15T04:53:35.064Z"
   },
   {
    "duration": 10,
    "start_time": "2025-04-15T04:53:35.139Z"
   },
   {
    "duration": 370,
    "start_time": "2025-04-15T04:53:35.151Z"
   },
   {
    "duration": 7,
    "start_time": "2025-04-15T04:53:35.524Z"
   },
   {
    "duration": 147,
    "start_time": "2025-04-15T04:53:35.533Z"
   },
   {
    "duration": 78,
    "start_time": "2025-04-15T04:53:35.682Z"
   },
   {
    "duration": 14,
    "start_time": "2025-04-15T04:53:35.762Z"
   },
   {
    "duration": 190,
    "start_time": "2025-04-15T04:53:35.777Z"
   },
   {
    "duration": 262,
    "start_time": "2025-04-15T04:53:35.969Z"
   },
   {
    "duration": 8,
    "start_time": "2025-04-15T04:53:36.233Z"
   },
   {
    "duration": 194,
    "start_time": "2025-04-15T04:53:36.243Z"
   },
   {
    "duration": 78,
    "start_time": "2025-04-15T04:53:36.439Z"
   },
   {
    "duration": 440,
    "start_time": "2025-04-15T04:53:36.519Z"
   },
   {
    "duration": 25,
    "start_time": "2025-04-15T04:53:36.961Z"
   },
   {
    "duration": 49,
    "start_time": "2025-04-15T04:53:36.987Z"
   },
   {
    "duration": 25,
    "start_time": "2025-04-15T04:53:37.039Z"
   },
   {
    "duration": 10,
    "start_time": "2025-04-15T04:53:37.066Z"
   },
   {
    "duration": 45,
    "start_time": "2025-04-15T04:53:37.077Z"
   },
   {
    "duration": 38,
    "start_time": "2025-04-15T04:53:37.124Z"
   },
   {
    "duration": 189,
    "start_time": "2025-04-15T04:53:37.164Z"
   },
   {
    "duration": 12,
    "start_time": "2025-04-15T04:53:37.355Z"
   },
   {
    "duration": 19,
    "start_time": "2025-04-15T04:53:37.368Z"
   },
   {
    "duration": 29,
    "start_time": "2025-04-15T04:53:37.388Z"
   },
   {
    "duration": 14,
    "start_time": "2025-04-15T04:53:37.419Z"
   },
   {
    "duration": 32,
    "start_time": "2025-04-15T04:53:37.435Z"
   },
   {
    "duration": 201,
    "start_time": "2025-04-15T04:53:37.469Z"
   },
   {
    "duration": 3692,
    "start_time": "2025-04-15T04:53:37.671Z"
   },
   {
    "duration": 22,
    "start_time": "2025-04-15T04:53:41.365Z"
   },
   {
    "duration": 27,
    "start_time": "2025-04-15T04:53:41.389Z"
   },
   {
    "duration": 94,
    "start_time": "2025-04-15T04:53:41.422Z"
   },
   {
    "duration": 26,
    "start_time": "2025-04-15T04:53:41.518Z"
   },
   {
    "duration": 11,
    "start_time": "2025-04-15T04:53:41.546Z"
   },
   {
    "duration": 49,
    "start_time": "2025-04-15T04:53:41.559Z"
   },
   {
    "duration": 29,
    "start_time": "2025-04-15T04:53:41.610Z"
   },
   {
    "duration": 26,
    "start_time": "2025-04-15T04:53:41.640Z"
   },
   {
    "duration": 42,
    "start_time": "2025-04-15T04:53:41.668Z"
   },
   {
    "duration": 81,
    "start_time": "2025-04-15T04:53:41.712Z"
   },
   {
    "duration": 271,
    "start_time": "2025-04-15T04:53:41.795Z"
   },
   {
    "duration": 265,
    "start_time": "2025-04-15T04:53:42.068Z"
   },
   {
    "duration": 78,
    "start_time": "2025-04-15T04:53:42.335Z"
   },
   {
    "duration": 37,
    "start_time": "2025-04-15T04:53:42.423Z"
   },
   {
    "duration": 26,
    "start_time": "2025-04-15T04:53:42.462Z"
   },
   {
    "duration": 193,
    "start_time": "2025-04-15T04:53:42.490Z"
   },
   {
    "duration": 181,
    "start_time": "2025-04-15T04:53:42.689Z"
   },
   {
    "duration": 10,
    "start_time": "2025-04-15T04:53:42.872Z"
   },
   {
    "duration": 95,
    "start_time": "2025-04-15T04:53:42.884Z"
   },
   {
    "duration": 70,
    "start_time": "2025-04-15T04:53:42.982Z"
   },
   {
    "duration": 4,
    "start_time": "2025-04-15T04:53:43.055Z"
   },
   {
    "duration": 4,
    "start_time": "2025-04-15T04:58:19.810Z"
   },
   {
    "duration": 4,
    "start_time": "2025-04-15T05:02:00.888Z"
   },
   {
    "duration": 9,
    "start_time": "2025-04-15T05:03:39.559Z"
   },
   {
    "duration": 6,
    "start_time": "2025-04-15T05:13:00.920Z"
   },
   {
    "duration": 4,
    "start_time": "2025-04-15T05:13:06.561Z"
   },
   {
    "duration": 220,
    "start_time": "2025-04-15T05:16:22.718Z"
   },
   {
    "duration": 114,
    "start_time": "2025-04-15T05:20:00.211Z"
   },
   {
    "duration": 10,
    "start_time": "2025-04-15T05:20:31.162Z"
   },
   {
    "duration": 14,
    "start_time": "2025-04-15T05:20:54.002Z"
   },
   {
    "duration": 14,
    "start_time": "2025-04-15T05:21:20.256Z"
   },
   {
    "duration": 11,
    "start_time": "2025-04-15T05:21:42.536Z"
   },
   {
    "duration": 11,
    "start_time": "2025-04-15T05:21:44.097Z"
   },
   {
    "duration": 10,
    "start_time": "2025-04-15T05:21:45.265Z"
   },
   {
    "duration": 10,
    "start_time": "2025-04-15T05:21:45.650Z"
   },
   {
    "duration": 10,
    "start_time": "2025-04-15T05:21:45.929Z"
   },
   {
    "duration": 12,
    "start_time": "2025-04-15T05:21:46.760Z"
   },
   {
    "duration": 15,
    "start_time": "2025-04-15T05:22:22.822Z"
   },
   {
    "duration": 12,
    "start_time": "2025-04-15T05:22:25.471Z"
   },
   {
    "duration": 15,
    "start_time": "2025-04-15T05:22:30.184Z"
   },
   {
    "duration": 12,
    "start_time": "2025-04-15T05:23:08.719Z"
   },
   {
    "duration": 3951,
    "start_time": "2025-04-15T05:23:14.087Z"
   },
   {
    "duration": 2582,
    "start_time": "2025-04-15T05:23:18.040Z"
   },
   {
    "duration": 7,
    "start_time": "2025-04-15T05:23:20.623Z"
   },
   {
    "duration": 11,
    "start_time": "2025-04-15T05:23:20.632Z"
   },
   {
    "duration": 29,
    "start_time": "2025-04-15T05:23:20.645Z"
   },
   {
    "duration": 18,
    "start_time": "2025-04-15T05:23:20.676Z"
   },
   {
    "duration": 13,
    "start_time": "2025-04-15T05:23:20.695Z"
   },
   {
    "duration": 82,
    "start_time": "2025-04-15T05:23:20.709Z"
   },
   {
    "duration": 6,
    "start_time": "2025-04-15T05:23:20.793Z"
   },
   {
    "duration": 47,
    "start_time": "2025-04-15T05:23:20.801Z"
   },
   {
    "duration": 237,
    "start_time": "2025-04-15T05:23:20.850Z"
   },
   {
    "duration": 18,
    "start_time": "2025-04-15T05:23:21.089Z"
   },
   {
    "duration": 41,
    "start_time": "2025-04-15T05:23:21.108Z"
   },
   {
    "duration": 10,
    "start_time": "2025-04-15T05:23:21.153Z"
   },
   {
    "duration": 57,
    "start_time": "2025-04-15T05:23:21.164Z"
   },
   {
    "duration": 8,
    "start_time": "2025-04-15T05:23:21.222Z"
   },
   {
    "duration": 35,
    "start_time": "2025-04-15T05:23:21.231Z"
   },
   {
    "duration": 57,
    "start_time": "2025-04-15T05:23:21.268Z"
   },
   {
    "duration": 30,
    "start_time": "2025-04-15T05:23:21.327Z"
   },
   {
    "duration": 10,
    "start_time": "2025-04-15T05:23:21.360Z"
   },
   {
    "duration": 37,
    "start_time": "2025-04-15T05:23:21.371Z"
   },
   {
    "duration": 22,
    "start_time": "2025-04-15T05:23:21.410Z"
   },
   {
    "duration": 21,
    "start_time": "2025-04-15T05:23:21.433Z"
   },
   {
    "duration": 31,
    "start_time": "2025-04-15T05:23:21.455Z"
   },
   {
    "duration": 118,
    "start_time": "2025-04-15T05:23:21.488Z"
   },
   {
    "duration": 156,
    "start_time": "2025-04-15T05:23:21.607Z"
   },
   {
    "duration": 14,
    "start_time": "2025-04-15T05:23:21.765Z"
   },
   {
    "duration": 231,
    "start_time": "2025-04-15T05:23:21.781Z"
   },
   {
    "duration": 31,
    "start_time": "2025-04-15T05:23:22.014Z"
   },
   {
    "duration": 226,
    "start_time": "2025-04-15T05:23:22.046Z"
   },
   {
    "duration": 83,
    "start_time": "2025-04-15T05:23:22.274Z"
   },
   {
    "duration": 50,
    "start_time": "2025-04-15T05:23:22.359Z"
   },
   {
    "duration": 171,
    "start_time": "2025-04-15T05:23:22.411Z"
   },
   {
    "duration": 23,
    "start_time": "2025-04-15T05:23:22.584Z"
   },
   {
    "duration": 74,
    "start_time": "2025-04-15T05:23:22.609Z"
   },
   {
    "duration": 28,
    "start_time": "2025-04-15T05:23:22.686Z"
   },
   {
    "duration": 45,
    "start_time": "2025-04-15T05:23:22.716Z"
   },
   {
    "duration": 13,
    "start_time": "2025-04-15T05:23:22.762Z"
   },
   {
    "duration": 67,
    "start_time": "2025-04-15T05:23:22.777Z"
   },
   {
    "duration": 54,
    "start_time": "2025-04-15T05:23:22.846Z"
   },
   {
    "duration": 382,
    "start_time": "2025-04-15T05:23:22.905Z"
   },
   {
    "duration": 20,
    "start_time": "2025-04-15T05:23:23.289Z"
   },
   {
    "duration": 129,
    "start_time": "2025-04-15T05:23:23.311Z"
   },
   {
    "duration": 79,
    "start_time": "2025-04-15T05:23:23.442Z"
   },
   {
    "duration": 12,
    "start_time": "2025-04-15T05:23:23.523Z"
   },
   {
    "duration": 147,
    "start_time": "2025-04-15T05:23:23.536Z"
   },
   {
    "duration": 237,
    "start_time": "2025-04-15T05:23:23.684Z"
   },
   {
    "duration": 9,
    "start_time": "2025-04-15T05:23:23.923Z"
   },
   {
    "duration": 198,
    "start_time": "2025-04-15T05:23:23.933Z"
   },
   {
    "duration": 74,
    "start_time": "2025-04-15T05:23:24.133Z"
   },
   {
    "duration": 401,
    "start_time": "2025-04-15T05:23:24.209Z"
   },
   {
    "duration": 22,
    "start_time": "2025-04-15T05:23:24.612Z"
   },
   {
    "duration": 20,
    "start_time": "2025-04-15T05:23:24.635Z"
   },
   {
    "duration": 49,
    "start_time": "2025-04-15T05:23:24.657Z"
   },
   {
    "duration": 8,
    "start_time": "2025-04-15T05:23:24.708Z"
   },
   {
    "duration": 5,
    "start_time": "2025-04-15T05:23:24.718Z"
   },
   {
    "duration": 29,
    "start_time": "2025-04-15T05:23:24.724Z"
   },
   {
    "duration": 213,
    "start_time": "2025-04-15T05:23:24.755Z"
   },
   {
    "duration": 15,
    "start_time": "2025-04-15T05:23:24.970Z"
   },
   {
    "duration": 28,
    "start_time": "2025-04-15T05:23:24.987Z"
   },
   {
    "duration": 23,
    "start_time": "2025-04-15T05:23:25.017Z"
   },
   {
    "duration": 30,
    "start_time": "2025-04-15T05:23:25.042Z"
   },
   {
    "duration": 31,
    "start_time": "2025-04-15T05:23:25.074Z"
   },
   {
    "duration": 172,
    "start_time": "2025-04-15T05:23:25.107Z"
   },
   {
    "duration": 3493,
    "start_time": "2025-04-15T05:23:25.281Z"
   },
   {
    "duration": 21,
    "start_time": "2025-04-15T05:23:28.776Z"
   },
   {
    "duration": 16,
    "start_time": "2025-04-15T05:23:28.799Z"
   },
   {
    "duration": 232,
    "start_time": "2025-04-15T05:23:28.816Z"
   },
   {
    "duration": 22,
    "start_time": "2025-04-15T05:23:29.049Z"
   },
   {
    "duration": 10,
    "start_time": "2025-04-15T05:23:29.074Z"
   },
   {
    "duration": 30,
    "start_time": "2025-04-15T05:23:29.106Z"
   },
   {
    "duration": 14,
    "start_time": "2025-04-15T05:23:29.138Z"
   },
   {
    "duration": 52,
    "start_time": "2025-04-15T05:23:29.154Z"
   },
   {
    "duration": 24,
    "start_time": "2025-04-15T05:23:29.208Z"
   },
   {
    "duration": 95,
    "start_time": "2025-04-15T05:23:29.234Z"
   },
   {
    "duration": 253,
    "start_time": "2025-04-15T05:23:29.331Z"
   },
   {
    "duration": 254,
    "start_time": "2025-04-15T05:23:29.586Z"
   },
   {
    "duration": 78,
    "start_time": "2025-04-15T05:23:29.842Z"
   },
   {
    "duration": 23,
    "start_time": "2025-04-15T05:23:29.922Z"
   },
   {
    "duration": 23,
    "start_time": "2025-04-15T05:23:29.947Z"
   },
   {
    "duration": 173,
    "start_time": "2025-04-15T05:23:29.971Z"
   },
   {
    "duration": 162,
    "start_time": "2025-04-15T05:23:30.147Z"
   },
   {
    "duration": 106,
    "start_time": "2025-04-15T05:23:30.311Z"
   },
   {
    "duration": 119,
    "start_time": "2025-04-15T05:23:30.419Z"
   },
   {
    "duration": 52,
    "start_time": "2025-04-15T05:23:30.540Z"
   },
   {
    "duration": 10,
    "start_time": "2025-04-15T05:23:30.606Z"
   },
   {
    "duration": 17,
    "start_time": "2025-04-15T05:23:30.618Z"
   },
   {
    "duration": 24,
    "start_time": "2025-04-15T05:23:30.637Z"
   },
   {
    "duration": 42,
    "start_time": "2025-04-15T05:23:30.663Z"
   },
   {
    "duration": 11,
    "start_time": "2025-04-15T05:25:33.722Z"
   },
   {
    "duration": 10,
    "start_time": "2025-04-15T05:25:42.234Z"
   },
   {
    "duration": 21,
    "start_time": "2025-04-15T05:55:35.110Z"
   },
   {
    "duration": 147,
    "start_time": "2025-04-15T05:55:47.526Z"
   },
   {
    "duration": 23,
    "start_time": "2025-04-15T05:56:04.109Z"
   },
   {
    "duration": 17,
    "start_time": "2025-04-15T05:56:31.436Z"
   },
   {
    "duration": 20,
    "start_time": "2025-04-15T05:56:41.572Z"
   },
   {
    "duration": 21,
    "start_time": "2025-04-15T05:57:11.428Z"
   },
   {
    "duration": 23,
    "start_time": "2025-04-15T05:57:26.396Z"
   },
   {
    "duration": 16,
    "start_time": "2025-04-15T05:58:06.891Z"
   },
   {
    "duration": 8,
    "start_time": "2025-04-15T05:58:35.746Z"
   },
   {
    "duration": 13,
    "start_time": "2025-04-15T05:58:39.620Z"
   },
   {
    "duration": 14,
    "start_time": "2025-04-15T05:58:47.571Z"
   },
   {
    "duration": 105,
    "start_time": "2025-04-15T05:59:22.428Z"
   },
   {
    "duration": 55,
    "start_time": "2025-04-15T05:59:39.515Z"
   },
   {
    "duration": 18,
    "start_time": "2025-04-15T05:59:44.940Z"
   },
   {
    "duration": 15,
    "start_time": "2025-04-15T06:00:23.697Z"
   },
   {
    "duration": 14,
    "start_time": "2025-04-15T06:00:39.737Z"
   },
   {
    "duration": 6,
    "start_time": "2025-04-15T06:01:10.040Z"
   },
   {
    "duration": 11,
    "start_time": "2025-04-15T06:02:30.120Z"
   },
   {
    "duration": 11,
    "start_time": "2025-04-15T06:02:53.822Z"
   },
   {
    "duration": 4239,
    "start_time": "2025-04-15T06:05:58.939Z"
   },
   {
    "duration": 2377,
    "start_time": "2025-04-15T06:06:03.181Z"
   },
   {
    "duration": 8,
    "start_time": "2025-04-15T06:06:05.561Z"
   },
   {
    "duration": 34,
    "start_time": "2025-04-15T06:06:05.572Z"
   },
   {
    "duration": 44,
    "start_time": "2025-04-15T06:06:05.608Z"
   },
   {
    "duration": 37,
    "start_time": "2025-04-15T06:06:05.654Z"
   },
   {
    "duration": 26,
    "start_time": "2025-04-15T06:06:05.694Z"
   },
   {
    "duration": 81,
    "start_time": "2025-04-15T06:06:05.722Z"
   },
   {
    "duration": 14,
    "start_time": "2025-04-15T06:06:05.808Z"
   },
   {
    "duration": 78,
    "start_time": "2025-04-15T06:06:05.826Z"
   },
   {
    "duration": 126,
    "start_time": "2025-04-15T06:06:05.912Z"
   },
   {
    "duration": 13,
    "start_time": "2025-04-15T06:06:06.042Z"
   },
   {
    "duration": 33,
    "start_time": "2025-04-15T06:06:06.058Z"
   },
   {
    "duration": 43,
    "start_time": "2025-04-15T06:06:06.094Z"
   },
   {
    "duration": 103,
    "start_time": "2025-04-15T06:06:06.139Z"
   },
   {
    "duration": 90,
    "start_time": "2025-04-15T06:06:06.243Z"
   },
   {
    "duration": 52,
    "start_time": "2025-04-15T06:06:06.334Z"
   },
   {
    "duration": 72,
    "start_time": "2025-04-15T06:06:06.387Z"
   },
   {
    "duration": 165,
    "start_time": "2025-04-15T06:06:06.461Z"
   },
   {
    "duration": 23,
    "start_time": "2025-04-15T06:06:06.628Z"
   },
   {
    "duration": 65,
    "start_time": "2025-04-15T06:06:06.653Z"
   },
   {
    "duration": 43,
    "start_time": "2025-04-15T06:06:06.720Z"
   },
   {
    "duration": 74,
    "start_time": "2025-04-15T06:06:06.765Z"
   },
   {
    "duration": 67,
    "start_time": "2025-04-15T06:06:06.841Z"
   },
   {
    "duration": 130,
    "start_time": "2025-04-15T06:06:06.910Z"
   },
   {
    "duration": 238,
    "start_time": "2025-04-15T06:06:07.042Z"
   },
   {
    "duration": 16,
    "start_time": "2025-04-15T06:06:07.281Z"
   },
   {
    "duration": 260,
    "start_time": "2025-04-15T06:06:07.310Z"
   },
   {
    "duration": 49,
    "start_time": "2025-04-15T06:06:07.572Z"
   },
   {
    "duration": 57,
    "start_time": "2025-04-15T06:06:07.624Z"
   },
   {
    "duration": 29,
    "start_time": "2025-04-15T06:06:07.683Z"
   },
   {
    "duration": 80,
    "start_time": "2025-04-15T06:06:07.715Z"
   },
   {
    "duration": 195,
    "start_time": "2025-04-15T06:06:07.797Z"
   },
   {
    "duration": 18,
    "start_time": "2025-04-15T06:06:07.994Z"
   },
   {
    "duration": 89,
    "start_time": "2025-04-15T06:06:08.015Z"
   },
   {
    "duration": 28,
    "start_time": "2025-04-15T06:06:08.107Z"
   },
   {
    "duration": 45,
    "start_time": "2025-04-15T06:06:08.137Z"
   },
   {
    "duration": 25,
    "start_time": "2025-04-15T06:06:08.184Z"
   },
   {
    "duration": 71,
    "start_time": "2025-04-15T06:06:08.212Z"
   },
   {
    "duration": 90,
    "start_time": "2025-04-15T06:06:08.285Z"
   },
   {
    "duration": 379,
    "start_time": "2025-04-15T06:06:08.376Z"
   },
   {
    "duration": 7,
    "start_time": "2025-04-15T06:06:08.757Z"
   },
   {
    "duration": 154,
    "start_time": "2025-04-15T06:06:08.766Z"
   },
   {
    "duration": 85,
    "start_time": "2025-04-15T06:06:08.922Z"
   },
   {
    "duration": 14,
    "start_time": "2025-04-15T06:06:09.008Z"
   },
   {
    "duration": 256,
    "start_time": "2025-04-15T06:06:09.024Z"
   },
   {
    "duration": 238,
    "start_time": "2025-04-15T06:06:09.281Z"
   },
   {
    "duration": 9,
    "start_time": "2025-04-15T06:06:09.521Z"
   },
   {
    "duration": 198,
    "start_time": "2025-04-15T06:06:09.532Z"
   },
   {
    "duration": 62,
    "start_time": "2025-04-15T06:06:09.731Z"
   },
   {
    "duration": 455,
    "start_time": "2025-04-15T06:06:09.795Z"
   },
   {
    "duration": 22,
    "start_time": "2025-04-15T06:06:10.252Z"
   },
   {
    "duration": 108,
    "start_time": "2025-04-15T06:06:10.275Z"
   },
   {
    "duration": 43,
    "start_time": "2025-04-15T06:06:10.385Z"
   },
   {
    "duration": 10,
    "start_time": "2025-04-15T06:06:10.431Z"
   },
   {
    "duration": 119,
    "start_time": "2025-04-15T06:06:10.442Z"
   },
   {
    "duration": 57,
    "start_time": "2025-04-15T06:06:10.563Z"
   },
   {
    "duration": 197,
    "start_time": "2025-04-15T06:06:10.622Z"
   },
   {
    "duration": 13,
    "start_time": "2025-04-15T06:06:10.821Z"
   },
   {
    "duration": 14,
    "start_time": "2025-04-15T06:06:10.836Z"
   },
   {
    "duration": 14,
    "start_time": "2025-04-15T06:06:10.852Z"
   },
   {
    "duration": 20,
    "start_time": "2025-04-15T06:06:10.868Z"
   },
   {
    "duration": 36,
    "start_time": "2025-04-15T06:06:10.905Z"
   },
   {
    "duration": 183,
    "start_time": "2025-04-15T06:06:10.944Z"
   },
   {
    "duration": 3649,
    "start_time": "2025-04-15T06:06:11.129Z"
   },
   {
    "duration": 21,
    "start_time": "2025-04-15T06:06:14.780Z"
   },
   {
    "duration": 22,
    "start_time": "2025-04-15T06:06:14.803Z"
   },
   {
    "duration": 121,
    "start_time": "2025-04-15T06:06:14.826Z"
   },
   {
    "duration": 27,
    "start_time": "2025-04-15T06:06:14.951Z"
   },
   {
    "duration": 12,
    "start_time": "2025-04-15T06:06:14.979Z"
   },
   {
    "duration": 43,
    "start_time": "2025-04-15T06:06:15.005Z"
   },
   {
    "duration": 193,
    "start_time": "2025-04-15T06:06:15.050Z"
   },
   {
    "duration": 39,
    "start_time": "2025-04-15T06:06:15.246Z"
   },
   {
    "duration": 47,
    "start_time": "2025-04-15T06:06:15.287Z"
   },
   {
    "duration": 130,
    "start_time": "2025-04-15T06:06:15.336Z"
   },
   {
    "duration": 245,
    "start_time": "2025-04-15T06:06:15.467Z"
   },
   {
    "duration": 266,
    "start_time": "2025-04-15T06:06:15.714Z"
   },
   {
    "duration": 107,
    "start_time": "2025-04-15T06:06:15.983Z"
   },
   {
    "duration": 42,
    "start_time": "2025-04-15T06:06:16.092Z"
   },
   {
    "duration": 50,
    "start_time": "2025-04-15T06:06:16.137Z"
   },
   {
    "duration": 197,
    "start_time": "2025-04-15T06:06:16.189Z"
   },
   {
    "duration": 200,
    "start_time": "2025-04-15T06:06:16.392Z"
   },
   {
    "duration": 16,
    "start_time": "2025-04-15T06:06:16.594Z"
   },
   {
    "duration": 97,
    "start_time": "2025-04-15T06:06:16.613Z"
   },
   {
    "duration": 73,
    "start_time": "2025-04-15T06:06:16.712Z"
   },
   {
    "duration": 23,
    "start_time": "2025-04-15T06:06:16.787Z"
   },
   {
    "duration": 28,
    "start_time": "2025-04-15T06:06:16.812Z"
   },
   {
    "duration": 20,
    "start_time": "2025-04-15T06:06:16.842Z"
   },
   {
    "duration": 37,
    "start_time": "2025-04-15T06:06:16.864Z"
   },
   {
    "duration": 143,
    "start_time": "2025-04-15T06:06:16.903Z"
   },
   {
    "duration": 12,
    "start_time": "2025-04-15T06:06:17.048Z"
   },
   {
    "duration": 13,
    "start_time": "2025-04-15T06:10:48.221Z"
   },
   {
    "duration": 75,
    "start_time": "2025-04-15T06:11:40.621Z"
   },
   {
    "duration": 13,
    "start_time": "2025-04-15T06:11:45.476Z"
   },
   {
    "duration": 12,
    "start_time": "2025-04-15T06:11:53.173Z"
   },
   {
    "duration": 14,
    "start_time": "2025-04-15T06:12:27.171Z"
   },
   {
    "duration": 13,
    "start_time": "2025-04-15T06:13:52.128Z"
   },
   {
    "duration": 14,
    "start_time": "2025-04-15T06:13:58.600Z"
   },
   {
    "duration": 11,
    "start_time": "2025-04-15T06:14:50.023Z"
   },
   {
    "duration": 10,
    "start_time": "2025-04-15T06:14:59.302Z"
   },
   {
    "duration": 10,
    "start_time": "2025-04-15T06:20:20.583Z"
   },
   {
    "duration": 10,
    "start_time": "2025-04-15T06:22:58.811Z"
   },
   {
    "duration": 83,
    "start_time": "2025-04-15T06:30:02.707Z"
   },
   {
    "duration": 84,
    "start_time": "2025-04-15T06:30:11.930Z"
   },
   {
    "duration": 75,
    "start_time": "2025-04-15T06:30:12.441Z"
   },
   {
    "duration": 103,
    "start_time": "2025-04-15T06:30:12.681Z"
   },
   {
    "duration": 11,
    "start_time": "2025-04-15T06:30:29.017Z"
   },
   {
    "duration": 9,
    "start_time": "2025-04-15T08:41:50.790Z"
   },
   {
    "duration": 180,
    "start_time": "2025-04-15T09:14:48.086Z"
   },
   {
    "duration": 186,
    "start_time": "2025-04-15T09:15:55.862Z"
   },
   {
    "duration": 177,
    "start_time": "2025-04-15T09:16:11.446Z"
   },
   {
    "duration": 205,
    "start_time": "2025-04-15T09:17:33.973Z"
   },
   {
    "duration": 639,
    "start_time": "2025-04-15T09:37:29.412Z"
   },
   {
    "duration": 373,
    "start_time": "2025-04-15T09:37:48.587Z"
   },
   {
    "duration": 375,
    "start_time": "2025-04-15T09:46:49.788Z"
   },
   {
    "duration": 417,
    "start_time": "2025-04-15T09:46:59.510Z"
   },
   {
    "duration": 34,
    "start_time": "2025-04-15T09:53:04.357Z"
   },
   {
    "duration": 4198,
    "start_time": "2025-04-15T10:31:03.426Z"
   },
   {
    "duration": 4000,
    "start_time": "2025-04-15T10:31:07.627Z"
   },
   {
    "duration": 6,
    "start_time": "2025-04-15T10:31:11.629Z"
   },
   {
    "duration": 15,
    "start_time": "2025-04-15T10:31:11.637Z"
   },
   {
    "duration": 6,
    "start_time": "2025-04-15T10:31:11.654Z"
   },
   {
    "duration": 4,
    "start_time": "2025-04-15T10:31:11.662Z"
   },
   {
    "duration": 15,
    "start_time": "2025-04-15T10:31:11.668Z"
   },
   {
    "duration": 62,
    "start_time": "2025-04-15T10:31:11.685Z"
   },
   {
    "duration": 5,
    "start_time": "2025-04-15T10:31:11.749Z"
   },
   {
    "duration": 100,
    "start_time": "2025-04-15T10:31:11.757Z"
   },
   {
    "duration": 116,
    "start_time": "2025-04-15T10:31:11.859Z"
   },
   {
    "duration": 8,
    "start_time": "2025-04-15T10:31:11.978Z"
   },
   {
    "duration": 32,
    "start_time": "2025-04-15T10:31:11.989Z"
   },
   {
    "duration": 21,
    "start_time": "2025-04-15T10:31:12.024Z"
   },
   {
    "duration": 47,
    "start_time": "2025-04-15T10:31:12.048Z"
   },
   {
    "duration": 19,
    "start_time": "2025-04-15T10:31:12.097Z"
   },
   {
    "duration": 27,
    "start_time": "2025-04-15T10:31:12.119Z"
   },
   {
    "duration": 31,
    "start_time": "2025-04-15T10:31:12.147Z"
   },
   {
    "duration": 46,
    "start_time": "2025-04-15T10:31:12.180Z"
   },
   {
    "duration": 11,
    "start_time": "2025-04-15T10:31:12.227Z"
   },
   {
    "duration": 23,
    "start_time": "2025-04-15T10:31:12.239Z"
   },
   {
    "duration": 13,
    "start_time": "2025-04-15T10:31:12.264Z"
   },
   {
    "duration": 15,
    "start_time": "2025-04-15T10:31:12.278Z"
   },
   {
    "duration": 45,
    "start_time": "2025-04-15T10:31:12.295Z"
   },
   {
    "duration": 128,
    "start_time": "2025-04-15T10:31:12.342Z"
   },
   {
    "duration": 263,
    "start_time": "2025-04-15T10:31:12.471Z"
   },
   {
    "duration": 20,
    "start_time": "2025-04-15T10:31:12.736Z"
   },
   {
    "duration": 261,
    "start_time": "2025-04-15T10:31:12.765Z"
   },
   {
    "duration": 32,
    "start_time": "2025-04-15T10:31:13.028Z"
   },
   {
    "duration": 68,
    "start_time": "2025-04-15T10:31:13.062Z"
   },
   {
    "duration": 10,
    "start_time": "2025-04-15T10:31:13.132Z"
   },
   {
    "duration": 40,
    "start_time": "2025-04-15T10:31:13.143Z"
   },
   {
    "duration": 200,
    "start_time": "2025-04-15T10:31:13.184Z"
   },
   {
    "duration": 19,
    "start_time": "2025-04-15T10:31:13.386Z"
   },
   {
    "duration": 76,
    "start_time": "2025-04-15T10:31:13.407Z"
   },
   {
    "duration": 61,
    "start_time": "2025-04-15T10:31:13.485Z"
   },
   {
    "duration": 77,
    "start_time": "2025-04-15T10:31:13.548Z"
   },
   {
    "duration": 11,
    "start_time": "2025-04-15T10:31:13.627Z"
   },
   {
    "duration": 49,
    "start_time": "2025-04-15T10:31:13.640Z"
   },
   {
    "duration": 30,
    "start_time": "2025-04-15T10:31:13.691Z"
   },
   {
    "duration": 455,
    "start_time": "2025-04-15T10:31:13.723Z"
   },
   {
    "duration": 7,
    "start_time": "2025-04-15T10:31:14.180Z"
   },
   {
    "duration": 135,
    "start_time": "2025-04-15T10:31:14.189Z"
   },
   {
    "duration": 98,
    "start_time": "2025-04-15T10:31:14.326Z"
   },
   {
    "duration": 12,
    "start_time": "2025-04-15T10:31:14.426Z"
   },
   {
    "duration": 312,
    "start_time": "2025-04-15T10:31:14.440Z"
   },
   {
    "duration": 278,
    "start_time": "2025-04-15T10:31:14.753Z"
   },
   {
    "duration": 10,
    "start_time": "2025-04-15T10:31:15.034Z"
   },
   {
    "duration": 233,
    "start_time": "2025-04-15T10:31:15.046Z"
   },
   {
    "duration": 73,
    "start_time": "2025-04-15T10:31:15.281Z"
   },
   {
    "duration": 438,
    "start_time": "2025-04-15T10:31:15.356Z"
   },
   {
    "duration": 36,
    "start_time": "2025-04-15T10:31:15.796Z"
   },
   {
    "duration": 27,
    "start_time": "2025-04-15T10:31:15.833Z"
   },
   {
    "duration": 21,
    "start_time": "2025-04-15T10:31:15.862Z"
   },
   {
    "duration": 32,
    "start_time": "2025-04-15T10:31:15.885Z"
   },
   {
    "duration": 25,
    "start_time": "2025-04-15T10:31:15.918Z"
   },
   {
    "duration": 33,
    "start_time": "2025-04-15T10:31:15.945Z"
   },
   {
    "duration": 262,
    "start_time": "2025-04-15T10:31:15.979Z"
   },
   {
    "duration": 12,
    "start_time": "2025-04-15T10:31:16.243Z"
   },
   {
    "duration": 39,
    "start_time": "2025-04-15T10:31:16.256Z"
   },
   {
    "duration": 12,
    "start_time": "2025-04-15T10:31:16.296Z"
   },
   {
    "duration": 14,
    "start_time": "2025-04-15T10:31:16.312Z"
   },
   {
    "duration": 22,
    "start_time": "2025-04-15T10:31:16.328Z"
   },
   {
    "duration": 203,
    "start_time": "2025-04-15T10:31:16.352Z"
   },
   {
    "duration": 3894,
    "start_time": "2025-04-15T10:31:16.557Z"
   },
   {
    "duration": 22,
    "start_time": "2025-04-15T10:31:20.452Z"
   },
   {
    "duration": 266,
    "start_time": "2025-04-15T10:31:20.476Z"
   },
   {
    "duration": 0,
    "start_time": "2025-04-15T10:31:20.745Z"
   },
   {
    "duration": 0,
    "start_time": "2025-04-15T10:31:20.746Z"
   },
   {
    "duration": 0,
    "start_time": "2025-04-15T10:31:20.747Z"
   },
   {
    "duration": 0,
    "start_time": "2025-04-15T10:31:20.749Z"
   },
   {
    "duration": 0,
    "start_time": "2025-04-15T10:31:20.750Z"
   },
   {
    "duration": 0,
    "start_time": "2025-04-15T10:31:20.751Z"
   },
   {
    "duration": 0,
    "start_time": "2025-04-15T10:31:20.752Z"
   },
   {
    "duration": 0,
    "start_time": "2025-04-15T10:31:20.753Z"
   },
   {
    "duration": 0,
    "start_time": "2025-04-15T10:31:20.754Z"
   },
   {
    "duration": 0,
    "start_time": "2025-04-15T10:31:20.756Z"
   },
   {
    "duration": 0,
    "start_time": "2025-04-15T10:31:20.757Z"
   },
   {
    "duration": 0,
    "start_time": "2025-04-15T10:31:20.758Z"
   },
   {
    "duration": 0,
    "start_time": "2025-04-15T10:31:20.759Z"
   },
   {
    "duration": 0,
    "start_time": "2025-04-15T10:31:20.760Z"
   },
   {
    "duration": 0,
    "start_time": "2025-04-15T10:31:20.761Z"
   },
   {
    "duration": 0,
    "start_time": "2025-04-15T10:31:20.763Z"
   },
   {
    "duration": 0,
    "start_time": "2025-04-15T10:31:20.763Z"
   },
   {
    "duration": 0,
    "start_time": "2025-04-15T10:31:20.765Z"
   },
   {
    "duration": 0,
    "start_time": "2025-04-15T10:31:20.806Z"
   },
   {
    "duration": 0,
    "start_time": "2025-04-15T10:31:20.809Z"
   },
   {
    "duration": 0,
    "start_time": "2025-04-15T10:31:20.810Z"
   },
   {
    "duration": 0,
    "start_time": "2025-04-15T10:31:20.811Z"
   },
   {
    "duration": 0,
    "start_time": "2025-04-15T10:31:20.813Z"
   },
   {
    "duration": 0,
    "start_time": "2025-04-15T10:31:20.818Z"
   },
   {
    "duration": 0,
    "start_time": "2025-04-15T10:31:20.820Z"
   },
   {
    "duration": 4359,
    "start_time": "2025-04-15T10:35:58.121Z"
   },
   {
    "duration": 2815,
    "start_time": "2025-04-15T10:36:02.483Z"
   },
   {
    "duration": 15,
    "start_time": "2025-04-15T10:36:05.300Z"
   },
   {
    "duration": 19,
    "start_time": "2025-04-15T10:36:05.322Z"
   },
   {
    "duration": 9,
    "start_time": "2025-04-15T10:36:05.343Z"
   },
   {
    "duration": 39,
    "start_time": "2025-04-15T10:36:05.354Z"
   },
   {
    "duration": 27,
    "start_time": "2025-04-15T10:36:05.394Z"
   },
   {
    "duration": 62,
    "start_time": "2025-04-15T10:36:05.423Z"
   },
   {
    "duration": 7,
    "start_time": "2025-04-15T10:36:05.487Z"
   },
   {
    "duration": 149,
    "start_time": "2025-04-15T10:36:05.495Z"
   },
   {
    "duration": 123,
    "start_time": "2025-04-15T10:36:05.646Z"
   },
   {
    "duration": 9,
    "start_time": "2025-04-15T10:36:05.770Z"
   },
   {
    "duration": 310,
    "start_time": "2025-04-15T10:36:05.780Z"
   },
   {
    "duration": 103,
    "start_time": "2025-04-15T10:36:06.095Z"
   },
   {
    "duration": 77,
    "start_time": "2025-04-15T10:36:06.200Z"
   },
   {
    "duration": 8,
    "start_time": "2025-04-15T10:36:06.280Z"
   },
   {
    "duration": 42,
    "start_time": "2025-04-15T10:36:06.290Z"
   },
   {
    "duration": 27,
    "start_time": "2025-04-15T10:36:06.334Z"
   },
   {
    "duration": 118,
    "start_time": "2025-04-15T10:36:06.363Z"
   },
   {
    "duration": 160,
    "start_time": "2025-04-15T10:36:06.483Z"
   },
   {
    "duration": 151,
    "start_time": "2025-04-15T10:36:06.645Z"
   },
   {
    "duration": 25,
    "start_time": "2025-04-15T10:36:06.798Z"
   },
   {
    "duration": 27,
    "start_time": "2025-04-15T10:36:06.824Z"
   },
   {
    "duration": 31,
    "start_time": "2025-04-15T10:36:06.853Z"
   },
   {
    "duration": 149,
    "start_time": "2025-04-15T10:36:06.885Z"
   },
   {
    "duration": 180,
    "start_time": "2025-04-15T10:36:07.036Z"
   },
   {
    "duration": 14,
    "start_time": "2025-04-15T10:36:07.220Z"
   },
   {
    "duration": 265,
    "start_time": "2025-04-15T10:36:07.236Z"
   },
   {
    "duration": 42,
    "start_time": "2025-04-15T10:36:07.503Z"
   },
   {
    "duration": 130,
    "start_time": "2025-04-15T10:36:07.546Z"
   },
   {
    "duration": 12,
    "start_time": "2025-04-15T10:36:07.677Z"
   },
   {
    "duration": 71,
    "start_time": "2025-04-15T10:36:07.691Z"
   },
   {
    "duration": 289,
    "start_time": "2025-04-15T10:36:07.764Z"
   },
   {
    "duration": 10,
    "start_time": "2025-04-15T10:36:08.055Z"
   },
   {
    "duration": 91,
    "start_time": "2025-04-15T10:36:08.067Z"
   },
   {
    "duration": 19,
    "start_time": "2025-04-15T10:36:08.160Z"
   },
   {
    "duration": 64,
    "start_time": "2025-04-15T10:36:08.181Z"
   },
   {
    "duration": 12,
    "start_time": "2025-04-15T10:36:08.247Z"
   },
   {
    "duration": 75,
    "start_time": "2025-04-15T10:36:08.261Z"
   },
   {
    "duration": 10,
    "start_time": "2025-04-15T10:36:08.338Z"
   },
   {
    "duration": 384,
    "start_time": "2025-04-15T10:36:08.353Z"
   },
   {
    "duration": 7,
    "start_time": "2025-04-15T10:36:08.739Z"
   },
   {
    "duration": 182,
    "start_time": "2025-04-15T10:36:08.747Z"
   },
   {
    "duration": 96,
    "start_time": "2025-04-15T10:36:08.931Z"
   },
   {
    "duration": 13,
    "start_time": "2025-04-15T10:36:09.029Z"
   },
   {
    "duration": 172,
    "start_time": "2025-04-15T10:36:09.044Z"
   },
   {
    "duration": 235,
    "start_time": "2025-04-15T10:36:09.225Z"
   },
   {
    "duration": 8,
    "start_time": "2025-04-15T10:36:09.462Z"
   },
   {
    "duration": 275,
    "start_time": "2025-04-15T10:36:09.471Z"
   },
   {
    "duration": 84,
    "start_time": "2025-04-15T10:36:09.748Z"
   },
   {
    "duration": 501,
    "start_time": "2025-04-15T10:36:09.833Z"
   },
   {
    "duration": 22,
    "start_time": "2025-04-15T10:36:10.335Z"
   },
   {
    "duration": 26,
    "start_time": "2025-04-15T10:36:10.359Z"
   },
   {
    "duration": 48,
    "start_time": "2025-04-15T10:36:10.387Z"
   },
   {
    "duration": 11,
    "start_time": "2025-04-15T10:36:10.437Z"
   },
   {
    "duration": 24,
    "start_time": "2025-04-15T10:36:10.449Z"
   },
   {
    "duration": 74,
    "start_time": "2025-04-15T10:36:10.475Z"
   },
   {
    "duration": 267,
    "start_time": "2025-04-15T10:36:10.550Z"
   },
   {
    "duration": 25,
    "start_time": "2025-04-15T10:36:10.820Z"
   },
   {
    "duration": 35,
    "start_time": "2025-04-15T10:36:10.847Z"
   },
   {
    "duration": 41,
    "start_time": "2025-04-15T10:36:10.884Z"
   },
   {
    "duration": 27,
    "start_time": "2025-04-15T10:36:10.927Z"
   },
   {
    "duration": 26,
    "start_time": "2025-04-15T10:36:10.956Z"
   },
   {
    "duration": 206,
    "start_time": "2025-04-15T10:36:10.984Z"
   },
   {
    "duration": 3785,
    "start_time": "2025-04-15T10:36:11.192Z"
   },
   {
    "duration": 40,
    "start_time": "2025-04-15T10:36:14.980Z"
   },
   {
    "duration": 20,
    "start_time": "2025-04-15T10:36:15.023Z"
   },
   {
    "duration": 66,
    "start_time": "2025-04-15T10:36:15.045Z"
   },
   {
    "duration": 31,
    "start_time": "2025-04-15T10:36:15.113Z"
   },
   {
    "duration": 74,
    "start_time": "2025-04-15T10:36:15.146Z"
   },
   {
    "duration": 17,
    "start_time": "2025-04-15T10:36:15.224Z"
   },
   {
    "duration": 98,
    "start_time": "2025-04-15T10:36:15.243Z"
   },
   {
    "duration": 27,
    "start_time": "2025-04-15T10:36:15.343Z"
   },
   {
    "duration": 275,
    "start_time": "2025-04-15T10:36:15.372Z"
   },
   {
    "duration": 281,
    "start_time": "2025-04-15T10:36:15.649Z"
   },
   {
    "duration": 89,
    "start_time": "2025-04-15T10:36:15.932Z"
   },
   {
    "duration": 24,
    "start_time": "2025-04-15T10:36:16.023Z"
   },
   {
    "duration": 41,
    "start_time": "2025-04-15T10:36:16.050Z"
   },
   {
    "duration": 186,
    "start_time": "2025-04-15T10:36:16.093Z"
   },
   {
    "duration": 195,
    "start_time": "2025-04-15T10:36:16.281Z"
   },
   {
    "duration": 10,
    "start_time": "2025-04-15T10:36:16.479Z"
   },
   {
    "duration": 194,
    "start_time": "2025-04-15T10:36:16.491Z"
   },
   {
    "duration": 51,
    "start_time": "2025-04-15T10:36:16.686Z"
   },
   {
    "duration": 67,
    "start_time": "2025-04-15T10:36:16.739Z"
   },
   {
    "duration": 20,
    "start_time": "2025-04-15T10:36:16.808Z"
   },
   {
    "duration": 11,
    "start_time": "2025-04-15T10:36:16.830Z"
   },
   {
    "duration": 13,
    "start_time": "2025-04-15T10:36:16.843Z"
   },
   {
    "duration": 122,
    "start_time": "2025-04-15T10:36:16.857Z"
   },
   {
    "duration": 10,
    "start_time": "2025-04-15T10:36:16.980Z"
   },
   {
    "duration": 32,
    "start_time": "2025-04-15T10:36:16.992Z"
   },
   {
    "duration": 19,
    "start_time": "2025-04-15T10:36:17.026Z"
   },
   {
    "duration": 183,
    "start_time": "2025-04-15T10:36:17.047Z"
   },
   {
    "duration": 4450,
    "start_time": "2025-04-15T13:32:49.716Z"
   },
   {
    "duration": 2060,
    "start_time": "2025-04-15T13:32:54.169Z"
   },
   {
    "duration": 7,
    "start_time": "2025-04-15T13:32:56.231Z"
   },
   {
    "duration": 16,
    "start_time": "2025-04-15T13:32:56.241Z"
   },
   {
    "duration": 28,
    "start_time": "2025-04-15T13:32:56.259Z"
   },
   {
    "duration": 38,
    "start_time": "2025-04-15T13:32:56.289Z"
   },
   {
    "duration": 29,
    "start_time": "2025-04-15T13:32:56.329Z"
   },
   {
    "duration": 99,
    "start_time": "2025-04-15T13:32:56.359Z"
   },
   {
    "duration": 7,
    "start_time": "2025-04-15T13:32:56.460Z"
   },
   {
    "duration": 67,
    "start_time": "2025-04-15T13:32:56.471Z"
   },
   {
    "duration": 119,
    "start_time": "2025-04-15T13:32:56.539Z"
   },
   {
    "duration": 9,
    "start_time": "2025-04-15T13:32:56.660Z"
   },
   {
    "duration": 87,
    "start_time": "2025-04-15T13:32:56.671Z"
   },
   {
    "duration": 38,
    "start_time": "2025-04-15T13:32:56.760Z"
   },
   {
    "duration": 76,
    "start_time": "2025-04-15T13:32:56.799Z"
   },
   {
    "duration": 8,
    "start_time": "2025-04-15T13:32:56.877Z"
   },
   {
    "duration": 84,
    "start_time": "2025-04-15T13:32:56.886Z"
   },
   {
    "duration": 38,
    "start_time": "2025-04-15T13:32:56.973Z"
   },
   {
    "duration": 60,
    "start_time": "2025-04-15T13:32:57.013Z"
   },
   {
    "duration": 26,
    "start_time": "2025-04-15T13:32:57.075Z"
   },
   {
    "duration": 62,
    "start_time": "2025-04-15T13:32:57.102Z"
   },
   {
    "duration": 57,
    "start_time": "2025-04-15T13:32:57.165Z"
   },
   {
    "duration": 14,
    "start_time": "2025-04-15T13:32:57.224Z"
   },
   {
    "duration": 29,
    "start_time": "2025-04-15T13:32:57.239Z"
   },
   {
    "duration": 149,
    "start_time": "2025-04-15T13:32:57.270Z"
   },
   {
    "duration": 158,
    "start_time": "2025-04-15T13:32:57.420Z"
   },
   {
    "duration": 15,
    "start_time": "2025-04-15T13:32:57.579Z"
   },
   {
    "duration": 253,
    "start_time": "2025-04-15T13:32:57.612Z"
   },
   {
    "duration": 49,
    "start_time": "2025-04-15T13:32:57.867Z"
   },
   {
    "duration": 46,
    "start_time": "2025-04-15T13:32:57.920Z"
   },
   {
    "duration": 9,
    "start_time": "2025-04-15T13:32:57.968Z"
   },
   {
    "duration": 68,
    "start_time": "2025-04-15T13:32:57.979Z"
   },
   {
    "duration": 185,
    "start_time": "2025-04-15T13:32:58.049Z"
   },
   {
    "duration": 8,
    "start_time": "2025-04-15T13:32:58.236Z"
   },
   {
    "duration": 128,
    "start_time": "2025-04-15T13:32:58.246Z"
   },
   {
    "duration": 30,
    "start_time": "2025-04-15T13:32:58.376Z"
   },
   {
    "duration": 59,
    "start_time": "2025-04-15T13:32:58.409Z"
   },
   {
    "duration": 21,
    "start_time": "2025-04-15T13:32:58.470Z"
   },
   {
    "duration": 60,
    "start_time": "2025-04-15T13:32:58.493Z"
   },
   {
    "duration": 10,
    "start_time": "2025-04-15T13:32:58.554Z"
   },
   {
    "duration": 376,
    "start_time": "2025-04-15T13:32:58.565Z"
   },
   {
    "duration": 128,
    "start_time": "2025-04-15T13:32:58.943Z"
   },
   {
    "duration": 0,
    "start_time": "2025-04-15T13:32:59.073Z"
   },
   {
    "duration": 0,
    "start_time": "2025-04-15T13:32:59.075Z"
   },
   {
    "duration": 0,
    "start_time": "2025-04-15T13:32:59.076Z"
   },
   {
    "duration": 0,
    "start_time": "2025-04-15T13:32:59.077Z"
   },
   {
    "duration": 0,
    "start_time": "2025-04-15T13:32:59.078Z"
   },
   {
    "duration": 0,
    "start_time": "2025-04-15T13:32:59.079Z"
   },
   {
    "duration": 0,
    "start_time": "2025-04-15T13:32:59.081Z"
   },
   {
    "duration": 0,
    "start_time": "2025-04-15T13:32:59.082Z"
   },
   {
    "duration": 0,
    "start_time": "2025-04-15T13:32:59.109Z"
   },
   {
    "duration": 0,
    "start_time": "2025-04-15T13:32:59.110Z"
   },
   {
    "duration": 0,
    "start_time": "2025-04-15T13:32:59.111Z"
   },
   {
    "duration": 0,
    "start_time": "2025-04-15T13:32:59.115Z"
   },
   {
    "duration": 0,
    "start_time": "2025-04-15T13:32:59.117Z"
   },
   {
    "duration": 0,
    "start_time": "2025-04-15T13:32:59.118Z"
   },
   {
    "duration": 0,
    "start_time": "2025-04-15T13:32:59.119Z"
   },
   {
    "duration": 0,
    "start_time": "2025-04-15T13:32:59.120Z"
   },
   {
    "duration": 0,
    "start_time": "2025-04-15T13:32:59.122Z"
   },
   {
    "duration": 0,
    "start_time": "2025-04-15T13:32:59.124Z"
   },
   {
    "duration": 0,
    "start_time": "2025-04-15T13:32:59.125Z"
   },
   {
    "duration": 0,
    "start_time": "2025-04-15T13:32:59.127Z"
   },
   {
    "duration": 0,
    "start_time": "2025-04-15T13:32:59.130Z"
   },
   {
    "duration": 0,
    "start_time": "2025-04-15T13:32:59.131Z"
   },
   {
    "duration": 0,
    "start_time": "2025-04-15T13:32:59.132Z"
   },
   {
    "duration": 0,
    "start_time": "2025-04-15T13:32:59.134Z"
   },
   {
    "duration": 0,
    "start_time": "2025-04-15T13:32:59.135Z"
   },
   {
    "duration": 0,
    "start_time": "2025-04-15T13:32:59.137Z"
   },
   {
    "duration": 0,
    "start_time": "2025-04-15T13:32:59.138Z"
   },
   {
    "duration": 0,
    "start_time": "2025-04-15T13:32:59.140Z"
   },
   {
    "duration": 0,
    "start_time": "2025-04-15T13:32:59.141Z"
   },
   {
    "duration": 0,
    "start_time": "2025-04-15T13:32:59.142Z"
   },
   {
    "duration": 0,
    "start_time": "2025-04-15T13:32:59.144Z"
   },
   {
    "duration": 0,
    "start_time": "2025-04-15T13:32:59.145Z"
   },
   {
    "duration": 0,
    "start_time": "2025-04-15T13:32:59.147Z"
   },
   {
    "duration": 0,
    "start_time": "2025-04-15T13:32:59.148Z"
   },
   {
    "duration": 0,
    "start_time": "2025-04-15T13:32:59.206Z"
   },
   {
    "duration": 0,
    "start_time": "2025-04-15T13:32:59.213Z"
   },
   {
    "duration": 0,
    "start_time": "2025-04-15T13:32:59.215Z"
   },
   {
    "duration": 0,
    "start_time": "2025-04-15T13:32:59.217Z"
   },
   {
    "duration": 0,
    "start_time": "2025-04-15T13:32:59.218Z"
   },
   {
    "duration": 0,
    "start_time": "2025-04-15T13:32:59.220Z"
   },
   {
    "duration": 0,
    "start_time": "2025-04-15T13:32:59.221Z"
   },
   {
    "duration": 0,
    "start_time": "2025-04-15T13:32:59.222Z"
   },
   {
    "duration": 0,
    "start_time": "2025-04-15T13:32:59.224Z"
   },
   {
    "duration": 0,
    "start_time": "2025-04-15T13:32:59.225Z"
   },
   {
    "duration": 0,
    "start_time": "2025-04-15T13:32:59.226Z"
   },
   {
    "duration": 0,
    "start_time": "2025-04-15T13:32:59.227Z"
   },
   {
    "duration": 0,
    "start_time": "2025-04-15T13:32:59.228Z"
   },
   {
    "duration": 0,
    "start_time": "2025-04-15T13:32:59.228Z"
   },
   {
    "duration": 0,
    "start_time": "2025-04-15T13:32:59.229Z"
   },
   {
    "duration": 0,
    "start_time": "2025-04-15T13:32:59.230Z"
   },
   {
    "duration": 0,
    "start_time": "2025-04-15T13:32:59.231Z"
   },
   {
    "duration": 338,
    "start_time": "2025-04-15T13:35:40.768Z"
   },
   {
    "duration": 299,
    "start_time": "2025-04-15T13:37:48.025Z"
   },
   {
    "duration": 2864,
    "start_time": "2025-04-15T13:37:57.409Z"
   },
   {
    "duration": 3796,
    "start_time": "2025-04-15T13:38:00.275Z"
   },
   {
    "duration": 17,
    "start_time": "2025-04-15T13:38:04.106Z"
   },
   {
    "duration": 180,
    "start_time": "2025-04-15T13:38:04.124Z"
   },
   {
    "duration": 22,
    "start_time": "2025-04-15T13:38:04.308Z"
   },
   {
    "duration": 12,
    "start_time": "2025-04-15T13:38:04.331Z"
   },
   {
    "duration": 9,
    "start_time": "2025-04-15T13:38:04.345Z"
   },
   {
    "duration": 70,
    "start_time": "2025-04-15T13:38:04.356Z"
   },
   {
    "duration": 6,
    "start_time": "2025-04-15T13:38:04.428Z"
   },
   {
    "duration": 33,
    "start_time": "2025-04-15T13:38:04.435Z"
   },
   {
    "duration": 157,
    "start_time": "2025-04-15T13:38:04.469Z"
   },
   {
    "duration": 10,
    "start_time": "2025-04-15T13:38:04.628Z"
   },
   {
    "duration": 121,
    "start_time": "2025-04-15T13:38:04.640Z"
   },
   {
    "duration": 57,
    "start_time": "2025-04-15T13:38:04.766Z"
   },
   {
    "duration": 59,
    "start_time": "2025-04-15T13:38:04.825Z"
   },
   {
    "duration": 50,
    "start_time": "2025-04-15T13:38:04.886Z"
   },
   {
    "duration": 49,
    "start_time": "2025-04-15T13:38:04.938Z"
   },
   {
    "duration": 44,
    "start_time": "2025-04-15T13:38:04.990Z"
   },
   {
    "duration": 28,
    "start_time": "2025-04-15T13:38:05.036Z"
   },
   {
    "duration": 64,
    "start_time": "2025-04-15T13:38:05.066Z"
   },
   {
    "duration": 34,
    "start_time": "2025-04-15T13:38:05.132Z"
   },
   {
    "duration": 47,
    "start_time": "2025-04-15T13:38:05.168Z"
   },
   {
    "duration": 23,
    "start_time": "2025-04-15T13:38:05.218Z"
   },
   {
    "duration": 30,
    "start_time": "2025-04-15T13:38:05.243Z"
   },
   {
    "duration": 145,
    "start_time": "2025-04-15T13:38:05.274Z"
   },
   {
    "duration": 171,
    "start_time": "2025-04-15T13:38:05.421Z"
   },
   {
    "duration": 58,
    "start_time": "2025-04-15T13:38:05.594Z"
   },
   {
    "duration": 310,
    "start_time": "2025-04-15T13:38:05.654Z"
   },
   {
    "duration": 31,
    "start_time": "2025-04-15T13:38:05.966Z"
   },
   {
    "duration": 378,
    "start_time": "2025-04-15T13:38:05.999Z"
   },
   {
    "duration": 46,
    "start_time": "2025-04-15T13:38:06.378Z"
   },
   {
    "duration": 114,
    "start_time": "2025-04-15T13:38:06.426Z"
   },
   {
    "duration": 189,
    "start_time": "2025-04-15T13:38:06.542Z"
   },
   {
    "duration": 9,
    "start_time": "2025-04-15T13:38:06.734Z"
   },
   {
    "duration": 118,
    "start_time": "2025-04-15T13:38:06.745Z"
   },
   {
    "duration": 60,
    "start_time": "2025-04-15T13:38:06.864Z"
   },
   {
    "duration": 69,
    "start_time": "2025-04-15T13:38:06.926Z"
   },
   {
    "duration": 23,
    "start_time": "2025-04-15T13:38:06.997Z"
   },
   {
    "duration": 62,
    "start_time": "2025-04-15T13:38:07.022Z"
   },
   {
    "duration": 41,
    "start_time": "2025-04-15T13:38:07.086Z"
   },
   {
    "duration": 342,
    "start_time": "2025-04-15T13:38:07.132Z"
   },
   {
    "duration": 407,
    "start_time": "2025-04-15T13:38:07.475Z"
   },
   {
    "duration": 7,
    "start_time": "2025-04-15T13:38:07.883Z"
   },
   {
    "duration": 145,
    "start_time": "2025-04-15T13:38:07.892Z"
   },
   {
    "duration": 95,
    "start_time": "2025-04-15T13:38:08.039Z"
   },
   {
    "duration": 12,
    "start_time": "2025-04-15T13:38:08.136Z"
   },
   {
    "duration": 370,
    "start_time": "2025-04-15T13:38:08.149Z"
   },
   {
    "duration": 228,
    "start_time": "2025-04-15T13:38:08.522Z"
   },
   {
    "duration": 8,
    "start_time": "2025-04-15T13:38:08.752Z"
   },
   {
    "duration": 199,
    "start_time": "2025-04-15T13:38:08.761Z"
   },
   {
    "duration": 78,
    "start_time": "2025-04-15T13:38:08.961Z"
   },
   {
    "duration": 441,
    "start_time": "2025-04-15T13:38:09.041Z"
   },
   {
    "duration": 39,
    "start_time": "2025-04-15T13:38:09.484Z"
   },
   {
    "duration": 114,
    "start_time": "2025-04-15T13:38:09.525Z"
   },
   {
    "duration": 22,
    "start_time": "2025-04-15T13:38:09.641Z"
   },
   {
    "duration": 8,
    "start_time": "2025-04-15T13:38:09.665Z"
   },
   {
    "duration": 28,
    "start_time": "2025-04-15T13:38:09.675Z"
   },
   {
    "duration": 40,
    "start_time": "2025-04-15T13:38:09.704Z"
   },
   {
    "duration": 216,
    "start_time": "2025-04-15T13:38:09.746Z"
   },
   {
    "duration": 13,
    "start_time": "2025-04-15T13:38:09.964Z"
   },
   {
    "duration": 93,
    "start_time": "2025-04-15T13:38:09.979Z"
   },
   {
    "duration": 37,
    "start_time": "2025-04-15T13:38:10.074Z"
   },
   {
    "duration": 189,
    "start_time": "2025-04-15T13:38:10.114Z"
   },
   {
    "duration": 13,
    "start_time": "2025-04-15T13:38:10.304Z"
   },
   {
    "duration": 208,
    "start_time": "2025-04-15T13:38:10.321Z"
   },
   {
    "duration": 3731,
    "start_time": "2025-04-15T13:38:10.531Z"
   },
   {
    "duration": 21,
    "start_time": "2025-04-15T13:38:14.263Z"
   },
   {
    "duration": 50,
    "start_time": "2025-04-15T13:38:14.286Z"
   },
   {
    "duration": 48,
    "start_time": "2025-04-15T13:38:14.338Z"
   },
   {
    "duration": 93,
    "start_time": "2025-04-15T13:38:14.389Z"
   },
   {
    "duration": 60,
    "start_time": "2025-04-15T13:38:14.484Z"
   },
   {
    "duration": 15,
    "start_time": "2025-04-15T13:38:14.545Z"
   },
   {
    "duration": 99,
    "start_time": "2025-04-15T13:38:14.561Z"
   },
   {
    "duration": 30,
    "start_time": "2025-04-15T13:38:14.662Z"
   },
   {
    "duration": 356,
    "start_time": "2025-04-15T13:38:14.694Z"
   },
   {
    "duration": 275,
    "start_time": "2025-04-15T13:38:15.052Z"
   },
   {
    "duration": 94,
    "start_time": "2025-04-15T13:38:15.329Z"
   },
   {
    "duration": 24,
    "start_time": "2025-04-15T13:38:15.426Z"
   },
   {
    "duration": 182,
    "start_time": "2025-04-15T13:38:15.452Z"
   },
   {
    "duration": 178,
    "start_time": "2025-04-15T13:38:15.636Z"
   },
   {
    "duration": 168,
    "start_time": "2025-04-15T13:38:15.818Z"
   },
   {
    "duration": 32,
    "start_time": "2025-04-15T13:38:15.988Z"
   },
   {
    "duration": 73,
    "start_time": "2025-04-15T13:38:16.023Z"
   },
   {
    "duration": 59,
    "start_time": "2025-04-15T13:38:16.109Z"
   },
   {
    "duration": 157,
    "start_time": "2025-04-15T13:38:16.171Z"
   },
   {
    "duration": 26,
    "start_time": "2025-04-15T13:38:16.330Z"
   },
   {
    "duration": 25,
    "start_time": "2025-04-15T13:38:16.358Z"
   },
   {
    "duration": 28,
    "start_time": "2025-04-15T13:38:16.385Z"
   },
   {
    "duration": 24,
    "start_time": "2025-04-15T13:38:16.421Z"
   },
   {
    "duration": 27,
    "start_time": "2025-04-15T13:38:16.446Z"
   },
   {
    "duration": 44,
    "start_time": "2025-04-15T13:38:16.475Z"
   },
   {
    "duration": 18,
    "start_time": "2025-04-15T13:38:16.521Z"
   },
   {
    "duration": 179,
    "start_time": "2025-04-15T13:38:16.540Z"
   }
  ],
  "colab": {
   "provenance": []
  },
  "kernelspec": {
   "display_name": "Python 3 (ipykernel)",
   "language": "python",
   "name": "python3"
  },
  "language_info": {
   "codemirror_mode": {
    "name": "ipython",
    "version": 3
   },
   "file_extension": ".py",
   "mimetype": "text/x-python",
   "name": "python",
   "nbconvert_exporter": "python",
   "pygments_lexer": "ipython3",
   "version": "3.9.5"
  },
  "toc": {
   "base_numbering": 1,
   "nav_menu": {},
   "number_sections": true,
   "sideBar": true,
   "skip_h1_title": true,
   "title_cell": "Table of Contents",
   "title_sidebar": "Contents",
   "toc_cell": false,
   "toc_position": {
    "height": "calc(100% - 180px)",
    "left": "10px",
    "top": "150px",
    "width": "371.188px"
   },
   "toc_section_display": true,
   "toc_window_display": false
  }
 },
 "nbformat": 4,
 "nbformat_minor": 1
}

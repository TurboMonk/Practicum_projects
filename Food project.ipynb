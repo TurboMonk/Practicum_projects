{
 "cells": [
  {
   "cell_type": "markdown",
   "id": "2a43918f",
   "metadata": {},
   "source": [
    "# Изучение рынка заведений общественного питания Москвы"
   ]
  },
  {
   "cell_type": "markdown",
   "id": "680e11a9",
   "metadata": {},
   "source": [
    "## Цель и задачи  \n",
    "\n",
    "**Цель:** Провести исследовательский анализ данных с заведениями общественного питания Москвы. \n",
    "\n",
    "**Задачи**\n",
    "1. Загрузить данные и ознакомиться с содержимым.\n",
    "2. Провести предобработку данных.\n",
    "3. Провести исследовательский анализ данных.\n",
    "4. Сформулировать выводы по проведённому анализу.\n",
    "\n",
    "\n",
    "## Данные\n",
    "\n",
    "Для анализа предоставлены данные с заведениями общественного питания Москвы, составленные на основе данных сервисов Яндекс Карты и Яндекс Бизнес на лето 2022 года.\n",
    "\n",
    "- `rest_info.csv`\n",
    "- `rest_price.csv`\n",
    "\n",
    "### Описание дата сета `rest_info.csv`\n",
    "\n",
    "- `name` — название заведения;\n",
    "- `address` — адрес заведения;\n",
    "- `district` — административный район;\n",
    "- `category` — категория заведения;\n",
    "- `hours` — информация о днях и часах работы;\n",
    "- `rating` — рейтинг заведения по оценкам пользователей в Яндекс Картах;\n",
    "- `chain` — считается ли заведение сетевым;\n",
    "- `seats` — количество посадочных мест.\n",
    "\n",
    "\n",
    "### Описание дата сета `rest_price.csv`\n",
    "\n",
    "- `price` — категория цен в заведении;\n",
    "- `avg_bill` — средняя стоимость заказа (диапазон);\n",
    "- `middle_avg_bill` — число с оценкой среднего чека;\n",
    "- `middle_coffee_cup` — число с оценкой одной чашки капучино.\n",
    "\n",
    "\n",
    "## Структура проекта\n",
    "\n",
    "1. Загрузка данных и знакомство с ними.\n",
    "2. Предобработка данных.\n",
    "3. Исследовательский анализ данных.\n",
    "4. Итоговые выводы.\n",
    "---"
   ]
  },
  {
   "cell_type": "markdown",
   "id": "c0760686",
   "metadata": {},
   "source": [
    "## Загрузка и ознакомление с данными\n",
    "\n",
    "Начнём с загрузки библиотек и датасетов `rest_info.csv` и `rest_price.csv`. Будем использовать pandas и библиотеки визуализации данных matplotlib и seaborn, а также phik для построения матрицы корреляции. Данные датасетов сохраним в двух переменных: `rest_df` и `price_df`."
   ]
  },
  {
   "cell_type": "code",
   "execution_count": 1,
   "id": "24c4b7ca",
   "metadata": {},
   "outputs": [
    {
     "name": "stdout",
     "output_type": "stream",
     "text": [
      "Collecting phik\n",
      "  Downloading phik-0.12.4-cp39-cp39-manylinux_2_17_x86_64.manylinux2014_x86_64.whl (686 kB)\n",
      "\u001b[K     |████████████████████████████████| 686 kB 1.3 MB/s eta 0:00:01\n",
      "\u001b[?25hRequirement already satisfied: joblib>=0.14.1 in /opt/conda/lib/python3.9/site-packages (from phik) (1.1.0)\n",
      "Requirement already satisfied: scipy>=1.5.2 in /opt/conda/lib/python3.9/site-packages (from phik) (1.9.1)\n",
      "Requirement already satisfied: matplotlib>=2.2.3 in /opt/conda/lib/python3.9/site-packages (from phik) (3.3.4)\n",
      "Requirement already satisfied: pandas>=0.25.1 in /opt/conda/lib/python3.9/site-packages (from phik) (1.2.4)\n",
      "Requirement already satisfied: numpy>=1.18.0 in /opt/conda/lib/python3.9/site-packages (from phik) (1.21.1)\n",
      "Requirement already satisfied: kiwisolver>=1.0.1 in /opt/conda/lib/python3.9/site-packages (from matplotlib>=2.2.3->phik) (1.4.4)\n",
      "Requirement already satisfied: pyparsing!=2.0.4,!=2.1.2,!=2.1.6,>=2.0.3 in /opt/conda/lib/python3.9/site-packages (from matplotlib>=2.2.3->phik) (2.4.7)\n",
      "Requirement already satisfied: cycler>=0.10 in /opt/conda/lib/python3.9/site-packages (from matplotlib>=2.2.3->phik) (0.11.0)\n",
      "Requirement already satisfied: pillow>=6.2.0 in /opt/conda/lib/python3.9/site-packages (from matplotlib>=2.2.3->phik) (8.4.0)\n",
      "Requirement already satisfied: python-dateutil>=2.1 in /opt/conda/lib/python3.9/site-packages (from matplotlib>=2.2.3->phik) (2.8.1)\n",
      "Requirement already satisfied: pytz>=2017.3 in /opt/conda/lib/python3.9/site-packages (from pandas>=0.25.1->phik) (2021.1)\n",
      "Requirement already satisfied: six>=1.5 in /opt/conda/lib/python3.9/site-packages (from python-dateutil>=2.1->matplotlib>=2.2.3->phik) (1.16.0)\n",
      "Installing collected packages: phik\n",
      "Successfully installed phik-0.12.4\n"
     ]
    }
   ],
   "source": [
    "# Импортируем библиотеки\n",
    "import pandas as pd\n",
    "\n",
    "# Загружаем библиотеки для визуализации данных\n",
    "import matplotlib.pyplot as plt\n",
    "import seaborn as sns\n",
    "\n",
    "# Загружаем библиотеку для расчёта коэффициента корреляции phi_k\n",
    "!pip install phik\n",
    "from phik import phik_matrix"
   ]
  },
  {
   "cell_type": "code",
   "execution_count": 2,
   "id": "4b4ba202",
   "metadata": {},
   "outputs": [],
   "source": [
    "# Выгружаем данные в переменные bank_df и clients_df\n",
    "rest_df = pd.read_csv('https://code.s3.yandex.net/datasets/rest_info.csv')\n",
    "price_df = pd.read_csv('https://code.s3.yandex.net/datasets/rest_price.csv')"
   ]
  },
  {
   "cell_type": "markdown",
   "id": "f9cfd75f",
   "metadata": {},
   "source": [
    "Познакомимся с данными датасета `rest_info.csv` — выведем первые строки методом `head()`, а информацию о датафрейме методом `info()`"
   ]
  },
  {
   "cell_type": "code",
   "execution_count": 3,
   "id": "787fc300",
   "metadata": {},
   "outputs": [
    {
     "data": {
      "text/html": [
       "<div>\n",
       "<style scoped>\n",
       "    .dataframe tbody tr th:only-of-type {\n",
       "        vertical-align: middle;\n",
       "    }\n",
       "\n",
       "    .dataframe tbody tr th {\n",
       "        vertical-align: top;\n",
       "    }\n",
       "\n",
       "    .dataframe thead th {\n",
       "        text-align: right;\n",
       "    }\n",
       "</style>\n",
       "<table border=\"1\" class=\"dataframe\">\n",
       "  <thead>\n",
       "    <tr style=\"text-align: right;\">\n",
       "      <th></th>\n",
       "      <th>id</th>\n",
       "      <th>name</th>\n",
       "      <th>category</th>\n",
       "      <th>address</th>\n",
       "      <th>district</th>\n",
       "      <th>hours</th>\n",
       "      <th>rating</th>\n",
       "      <th>chain</th>\n",
       "      <th>seats</th>\n",
       "    </tr>\n",
       "  </thead>\n",
       "  <tbody>\n",
       "    <tr>\n",
       "      <th>0</th>\n",
       "      <td>0c3e3439a8c64ea5bf6ecd6ca6ae19f0</td>\n",
       "      <td>WoWфли</td>\n",
       "      <td>кафе</td>\n",
       "      <td>Москва, улица Дыбенко, 7/1</td>\n",
       "      <td>Северный административный округ</td>\n",
       "      <td>ежедневно, 10:00–22:00</td>\n",
       "      <td>5.0</td>\n",
       "      <td>0</td>\n",
       "      <td>NaN</td>\n",
       "    </tr>\n",
       "    <tr>\n",
       "      <th>1</th>\n",
       "      <td>045780ada3474c57a2112e505d74b633</td>\n",
       "      <td>Четыре комнаты</td>\n",
       "      <td>ресторан</td>\n",
       "      <td>Москва, улица Дыбенко, 36, корп. 1</td>\n",
       "      <td>Северный административный округ</td>\n",
       "      <td>ежедневно, 10:00–22:00</td>\n",
       "      <td>4.5</td>\n",
       "      <td>0</td>\n",
       "      <td>4.0</td>\n",
       "    </tr>\n",
       "    <tr>\n",
       "      <th>2</th>\n",
       "      <td>1070b6b59144425896c65889347fcff6</td>\n",
       "      <td>Хазри</td>\n",
       "      <td>кафе</td>\n",
       "      <td>Москва, Клязьминская улица, 15</td>\n",
       "      <td>Северный административный округ</td>\n",
       "      <td>пн-чт 11:00–02:00; пт,сб 11:00–05:00; вс 11:00...</td>\n",
       "      <td>4.6</td>\n",
       "      <td>0</td>\n",
       "      <td>45.0</td>\n",
       "    </tr>\n",
       "    <tr>\n",
       "      <th>3</th>\n",
       "      <td>03ac7cd772104f65b58b349dc59f03ee</td>\n",
       "      <td>Dormouse Coffee Shop</td>\n",
       "      <td>кофейня</td>\n",
       "      <td>Москва, улица Маршала Федоренко, 12</td>\n",
       "      <td>Северный административный округ</td>\n",
       "      <td>ежедневно, 09:00–22:00</td>\n",
       "      <td>5.0</td>\n",
       "      <td>0</td>\n",
       "      <td>NaN</td>\n",
       "    </tr>\n",
       "    <tr>\n",
       "      <th>4</th>\n",
       "      <td>a163aada139c4c7f87b0b1c0b466a50f</td>\n",
       "      <td>Иль Марко</td>\n",
       "      <td>пиццерия</td>\n",
       "      <td>Москва, Правобережная улица, 1Б</td>\n",
       "      <td>Северный административный округ</td>\n",
       "      <td>ежедневно, 10:00–22:00</td>\n",
       "      <td>5.0</td>\n",
       "      <td>1</td>\n",
       "      <td>148.0</td>\n",
       "    </tr>\n",
       "  </tbody>\n",
       "</table>\n",
       "</div>"
      ],
      "text/plain": [
       "                                 id                  name  category  \\\n",
       "0  0c3e3439a8c64ea5bf6ecd6ca6ae19f0                WoWфли      кафе   \n",
       "1  045780ada3474c57a2112e505d74b633        Четыре комнаты  ресторан   \n",
       "2  1070b6b59144425896c65889347fcff6                 Хазри      кафе   \n",
       "3  03ac7cd772104f65b58b349dc59f03ee  Dormouse Coffee Shop   кофейня   \n",
       "4  a163aada139c4c7f87b0b1c0b466a50f             Иль Марко  пиццерия   \n",
       "\n",
       "                               address                         district  \\\n",
       "0           Москва, улица Дыбенко, 7/1  Северный административный округ   \n",
       "1   Москва, улица Дыбенко, 36, корп. 1  Северный административный округ   \n",
       "2       Москва, Клязьминская улица, 15  Северный административный округ   \n",
       "3  Москва, улица Маршала Федоренко, 12  Северный административный округ   \n",
       "4      Москва, Правобережная улица, 1Б  Северный административный округ   \n",
       "\n",
       "                                               hours  rating  chain  seats  \n",
       "0                             ежедневно, 10:00–22:00     5.0      0    NaN  \n",
       "1                             ежедневно, 10:00–22:00     4.5      0    4.0  \n",
       "2  пн-чт 11:00–02:00; пт,сб 11:00–05:00; вс 11:00...     4.6      0   45.0  \n",
       "3                             ежедневно, 09:00–22:00     5.0      0    NaN  \n",
       "4                             ежедневно, 10:00–22:00     5.0      1  148.0  "
      ]
     },
     "execution_count": 3,
     "metadata": {},
     "output_type": "execute_result"
    }
   ],
   "source": [
    "# Выводим первые строки датафрейма на экран\n",
    "rest_df.head()"
   ]
  },
  {
   "cell_type": "code",
   "execution_count": 4,
   "id": "e9cfbf32",
   "metadata": {},
   "outputs": [
    {
     "name": "stdout",
     "output_type": "stream",
     "text": [
      "<class 'pandas.core.frame.DataFrame'>\n",
      "RangeIndex: 8406 entries, 0 to 8405\n",
      "Data columns (total 9 columns):\n",
      " #   Column    Non-Null Count  Dtype  \n",
      "---  ------    --------------  -----  \n",
      " 0   id        8406 non-null   object \n",
      " 1   name      8406 non-null   object \n",
      " 2   category  8406 non-null   object \n",
      " 3   address   8406 non-null   object \n",
      " 4   district  8406 non-null   object \n",
      " 5   hours     7870 non-null   object \n",
      " 6   rating    8406 non-null   float64\n",
      " 7   chain     8406 non-null   int64  \n",
      " 8   seats     4795 non-null   float64\n",
      "dtypes: float64(2), int64(1), object(6)\n",
      "memory usage: 591.2+ KB\n"
     ]
    }
   ],
   "source": [
    "# Выводим информацию о датафрейме\n",
    "rest_df.info()"
   ]
  },
  {
   "cell_type": "markdown",
   "id": "8f753963",
   "metadata": {},
   "source": [
    "Датасет содержит 9 столбцов и 8406 строк с информацией о заведениях общепита Москвы.\n",
    "\n",
    "Выводы первичного анализа:\n",
    "- Названия столбцов представлены в нижнем регистре — это подходящий формат для работы;\n",
    "- Данные хранятся в типах `float64`, `int64`, `object`. Столбец `chain` показывает является ли заведение сетевым и представлено 1 или 0 — размерность этих данных можно оптимизировать;\n",
    "- Пропуски содержатся в столбцах `hours` и `seats`. Так же выполним проверку других столбцов на наличие значений-индикаторов о наличии пропусков.\n",
    "- По первому анализу данные в столбцах соответствуют названию.\n",
    "\n",
    "Ознакомимся  с данными датасета `rest_price.csv`."
   ]
  },
  {
   "cell_type": "code",
   "execution_count": 5,
   "id": "6251afe3",
   "metadata": {},
   "outputs": [
    {
     "data": {
      "text/html": [
       "<div>\n",
       "<style scoped>\n",
       "    .dataframe tbody tr th:only-of-type {\n",
       "        vertical-align: middle;\n",
       "    }\n",
       "\n",
       "    .dataframe tbody tr th {\n",
       "        vertical-align: top;\n",
       "    }\n",
       "\n",
       "    .dataframe thead th {\n",
       "        text-align: right;\n",
       "    }\n",
       "</style>\n",
       "<table border=\"1\" class=\"dataframe\">\n",
       "  <thead>\n",
       "    <tr style=\"text-align: right;\">\n",
       "      <th></th>\n",
       "      <th>id</th>\n",
       "      <th>price</th>\n",
       "      <th>avg_bill</th>\n",
       "      <th>middle_avg_bill</th>\n",
       "      <th>middle_coffee_cup</th>\n",
       "    </tr>\n",
       "  </thead>\n",
       "  <tbody>\n",
       "    <tr>\n",
       "      <th>0</th>\n",
       "      <td>045780ada3474c57a2112e505d74b633</td>\n",
       "      <td>выше среднего</td>\n",
       "      <td>Средний счёт:1500–1600 ₽</td>\n",
       "      <td>1550.0</td>\n",
       "      <td>NaN</td>\n",
       "    </tr>\n",
       "    <tr>\n",
       "      <th>1</th>\n",
       "      <td>1070b6b59144425896c65889347fcff6</td>\n",
       "      <td>средние</td>\n",
       "      <td>Средний счёт:от 1000 ₽</td>\n",
       "      <td>1000.0</td>\n",
       "      <td>NaN</td>\n",
       "    </tr>\n",
       "    <tr>\n",
       "      <th>2</th>\n",
       "      <td>03ac7cd772104f65b58b349dc59f03ee</td>\n",
       "      <td>NaN</td>\n",
       "      <td>Цена чашки капучино:155–185 ₽</td>\n",
       "      <td>NaN</td>\n",
       "      <td>170.0</td>\n",
       "    </tr>\n",
       "    <tr>\n",
       "      <th>3</th>\n",
       "      <td>a163aada139c4c7f87b0b1c0b466a50f</td>\n",
       "      <td>средние</td>\n",
       "      <td>Средний счёт:400–600 ₽</td>\n",
       "      <td>500.0</td>\n",
       "      <td>NaN</td>\n",
       "    </tr>\n",
       "    <tr>\n",
       "      <th>4</th>\n",
       "      <td>8a343546b24e4a499ad96eb7d0797a8a</td>\n",
       "      <td>средние</td>\n",
       "      <td>NaN</td>\n",
       "      <td>NaN</td>\n",
       "      <td>NaN</td>\n",
       "    </tr>\n",
       "  </tbody>\n",
       "</table>\n",
       "</div>"
      ],
      "text/plain": [
       "                                 id          price  \\\n",
       "0  045780ada3474c57a2112e505d74b633  выше среднего   \n",
       "1  1070b6b59144425896c65889347fcff6        средние   \n",
       "2  03ac7cd772104f65b58b349dc59f03ee            NaN   \n",
       "3  a163aada139c4c7f87b0b1c0b466a50f        средние   \n",
       "4  8a343546b24e4a499ad96eb7d0797a8a        средние   \n",
       "\n",
       "                        avg_bill  middle_avg_bill  middle_coffee_cup  \n",
       "0       Средний счёт:1500–1600 ₽           1550.0                NaN  \n",
       "1         Средний счёт:от 1000 ₽           1000.0                NaN  \n",
       "2  Цена чашки капучино:155–185 ₽              NaN              170.0  \n",
       "3         Средний счёт:400–600 ₽            500.0                NaN  \n",
       "4                            NaN              NaN                NaN  "
      ]
     },
     "execution_count": 5,
     "metadata": {},
     "output_type": "execute_result"
    }
   ],
   "source": [
    "# Выводим первые строки датафрейма на экран\n",
    "price_df.head()"
   ]
  },
  {
   "cell_type": "code",
   "execution_count": 6,
   "id": "a3daabd4",
   "metadata": {},
   "outputs": [
    {
     "name": "stdout",
     "output_type": "stream",
     "text": [
      "<class 'pandas.core.frame.DataFrame'>\n",
      "RangeIndex: 4058 entries, 0 to 4057\n",
      "Data columns (total 5 columns):\n",
      " #   Column             Non-Null Count  Dtype  \n",
      "---  ------             --------------  -----  \n",
      " 0   id                 4058 non-null   object \n",
      " 1   price              3315 non-null   object \n",
      " 2   avg_bill           3816 non-null   object \n",
      " 3   middle_avg_bill    3149 non-null   float64\n",
      " 4   middle_coffee_cup  535 non-null    float64\n",
      "dtypes: float64(2), object(3)\n",
      "memory usage: 158.6+ KB\n"
     ]
    }
   ],
   "source": [
    "# Выводим информацию о датафрейме\n",
    "price_df.info()"
   ]
  },
  {
   "cell_type": "markdown",
   "id": "e2d87987",
   "metadata": {},
   "source": [
    "Датасет содержит 5 столбцов и 4058 строк с информацией о ценах в заведениях общепита Москвы.\n",
    "\n",
    "Выводы первичного анализа:\n",
    "- Названия столбцов представлены в формате snake_case — это рабочий формат, изменения не нужны;\n",
    "- В датасете используются корректные типы данных `float64`, `object`;\n",
    "- Пропуски содержатся в столбцах `price`, `avg_bill`, `middle_avg_bill`, `middle_coffee_cup`;\n",
    "- По первому анализу данные в столбцах соответствуют названию.\n",
    "\n",
    "Первичный анализ показал, что данные хорошего качества — они соответствуют описанию, содержание столбцов корректное, однако присутвует значительное колличество пропусков.\n",
    "\n",
    "Выполним объединение датасетов для дальнейшей работы."
   ]
  },
  {
   "cell_type": "code",
   "execution_count": 7,
   "id": "fa5a9f3c",
   "metadata": {},
   "outputs": [
    {
     "name": "stdout",
     "output_type": "stream",
     "text": [
      "<class 'pandas.core.frame.DataFrame'>\n",
      "Int64Index: 8406 entries, 0 to 8405\n",
      "Data columns (total 13 columns):\n",
      " #   Column             Non-Null Count  Dtype  \n",
      "---  ------             --------------  -----  \n",
      " 0   id                 8406 non-null   object \n",
      " 1   name               8406 non-null   object \n",
      " 2   category           8406 non-null   object \n",
      " 3   address            8406 non-null   object \n",
      " 4   district           8406 non-null   object \n",
      " 5   hours              7870 non-null   object \n",
      " 6   rating             8406 non-null   float64\n",
      " 7   chain              8406 non-null   int64  \n",
      " 8   seats              4795 non-null   float64\n",
      " 9   price              3315 non-null   object \n",
      " 10  avg_bill           3816 non-null   object \n",
      " 11  middle_avg_bill    3149 non-null   float64\n",
      " 12  middle_coffee_cup  535 non-null    float64\n",
      "dtypes: float64(4), int64(1), object(8)\n",
      "memory usage: 919.4+ KB\n"
     ]
    }
   ],
   "source": [
    "# Объединим датасеты и сохраним в новой переменной\n",
    "merged_df = rest_df.merge(price_df, on = 'id', how = 'left')\n",
    "\n",
    "# Выводим информацию об объединённом датасете\n",
    "merged_df.info()"
   ]
  },
  {
   "cell_type": "code",
   "execution_count": 8,
   "id": "4a46930e",
   "metadata": {
    "scrolled": true
   },
   "outputs": [
    {
     "data": {
      "text/html": [
       "<div>\n",
       "<style scoped>\n",
       "    .dataframe tbody tr th:only-of-type {\n",
       "        vertical-align: middle;\n",
       "    }\n",
       "\n",
       "    .dataframe tbody tr th {\n",
       "        vertical-align: top;\n",
       "    }\n",
       "\n",
       "    .dataframe thead th {\n",
       "        text-align: right;\n",
       "    }\n",
       "</style>\n",
       "<table border=\"1\" class=\"dataframe\">\n",
       "  <thead>\n",
       "    <tr style=\"text-align: right;\">\n",
       "      <th></th>\n",
       "      <th>id</th>\n",
       "      <th>name</th>\n",
       "      <th>category</th>\n",
       "      <th>address</th>\n",
       "      <th>district</th>\n",
       "      <th>hours</th>\n",
       "      <th>rating</th>\n",
       "      <th>chain</th>\n",
       "      <th>seats</th>\n",
       "      <th>price</th>\n",
       "      <th>avg_bill</th>\n",
       "      <th>middle_avg_bill</th>\n",
       "      <th>middle_coffee_cup</th>\n",
       "    </tr>\n",
       "  </thead>\n",
       "  <tbody>\n",
       "    <tr>\n",
       "      <th>0</th>\n",
       "      <td>0c3e3439a8c64ea5bf6ecd6ca6ae19f0</td>\n",
       "      <td>WoWфли</td>\n",
       "      <td>кафе</td>\n",
       "      <td>Москва, улица Дыбенко, 7/1</td>\n",
       "      <td>Северный административный округ</td>\n",
       "      <td>ежедневно, 10:00–22:00</td>\n",
       "      <td>5.0</td>\n",
       "      <td>0</td>\n",
       "      <td>NaN</td>\n",
       "      <td>NaN</td>\n",
       "      <td>NaN</td>\n",
       "      <td>NaN</td>\n",
       "      <td>NaN</td>\n",
       "    </tr>\n",
       "    <tr>\n",
       "      <th>1</th>\n",
       "      <td>045780ada3474c57a2112e505d74b633</td>\n",
       "      <td>Четыре комнаты</td>\n",
       "      <td>ресторан</td>\n",
       "      <td>Москва, улица Дыбенко, 36, корп. 1</td>\n",
       "      <td>Северный административный округ</td>\n",
       "      <td>ежедневно, 10:00–22:00</td>\n",
       "      <td>4.5</td>\n",
       "      <td>0</td>\n",
       "      <td>4.0</td>\n",
       "      <td>выше среднего</td>\n",
       "      <td>Средний счёт:1500–1600 ₽</td>\n",
       "      <td>1550.0</td>\n",
       "      <td>NaN</td>\n",
       "    </tr>\n",
       "    <tr>\n",
       "      <th>2</th>\n",
       "      <td>1070b6b59144425896c65889347fcff6</td>\n",
       "      <td>Хазри</td>\n",
       "      <td>кафе</td>\n",
       "      <td>Москва, Клязьминская улица, 15</td>\n",
       "      <td>Северный административный округ</td>\n",
       "      <td>пн-чт 11:00–02:00; пт,сб 11:00–05:00; вс 11:00...</td>\n",
       "      <td>4.6</td>\n",
       "      <td>0</td>\n",
       "      <td>45.0</td>\n",
       "      <td>средние</td>\n",
       "      <td>Средний счёт:от 1000 ₽</td>\n",
       "      <td>1000.0</td>\n",
       "      <td>NaN</td>\n",
       "    </tr>\n",
       "    <tr>\n",
       "      <th>3</th>\n",
       "      <td>03ac7cd772104f65b58b349dc59f03ee</td>\n",
       "      <td>Dormouse Coffee Shop</td>\n",
       "      <td>кофейня</td>\n",
       "      <td>Москва, улица Маршала Федоренко, 12</td>\n",
       "      <td>Северный административный округ</td>\n",
       "      <td>ежедневно, 09:00–22:00</td>\n",
       "      <td>5.0</td>\n",
       "      <td>0</td>\n",
       "      <td>NaN</td>\n",
       "      <td>NaN</td>\n",
       "      <td>Цена чашки капучино:155–185 ₽</td>\n",
       "      <td>NaN</td>\n",
       "      <td>170.0</td>\n",
       "    </tr>\n",
       "    <tr>\n",
       "      <th>4</th>\n",
       "      <td>a163aada139c4c7f87b0b1c0b466a50f</td>\n",
       "      <td>Иль Марко</td>\n",
       "      <td>пиццерия</td>\n",
       "      <td>Москва, Правобережная улица, 1Б</td>\n",
       "      <td>Северный административный округ</td>\n",
       "      <td>ежедневно, 10:00–22:00</td>\n",
       "      <td>5.0</td>\n",
       "      <td>1</td>\n",
       "      <td>148.0</td>\n",
       "      <td>средние</td>\n",
       "      <td>Средний счёт:400–600 ₽</td>\n",
       "      <td>500.0</td>\n",
       "      <td>NaN</td>\n",
       "    </tr>\n",
       "  </tbody>\n",
       "</table>\n",
       "</div>"
      ],
      "text/plain": [
       "                                 id                  name  category  \\\n",
       "0  0c3e3439a8c64ea5bf6ecd6ca6ae19f0                WoWфли      кафе   \n",
       "1  045780ada3474c57a2112e505d74b633        Четыре комнаты  ресторан   \n",
       "2  1070b6b59144425896c65889347fcff6                 Хазри      кафе   \n",
       "3  03ac7cd772104f65b58b349dc59f03ee  Dormouse Coffee Shop   кофейня   \n",
       "4  a163aada139c4c7f87b0b1c0b466a50f             Иль Марко  пиццерия   \n",
       "\n",
       "                               address                         district  \\\n",
       "0           Москва, улица Дыбенко, 7/1  Северный административный округ   \n",
       "1   Москва, улица Дыбенко, 36, корп. 1  Северный административный округ   \n",
       "2       Москва, Клязьминская улица, 15  Северный административный округ   \n",
       "3  Москва, улица Маршала Федоренко, 12  Северный административный округ   \n",
       "4      Москва, Правобережная улица, 1Б  Северный административный округ   \n",
       "\n",
       "                                               hours  rating  chain  seats  \\\n",
       "0                             ежедневно, 10:00–22:00     5.0      0    NaN   \n",
       "1                             ежедневно, 10:00–22:00     4.5      0    4.0   \n",
       "2  пн-чт 11:00–02:00; пт,сб 11:00–05:00; вс 11:00...     4.6      0   45.0   \n",
       "3                             ежедневно, 09:00–22:00     5.0      0    NaN   \n",
       "4                             ежедневно, 10:00–22:00     5.0      1  148.0   \n",
       "\n",
       "           price                       avg_bill  middle_avg_bill  \\\n",
       "0            NaN                            NaN              NaN   \n",
       "1  выше среднего       Средний счёт:1500–1600 ₽           1550.0   \n",
       "2        средние         Средний счёт:от 1000 ₽           1000.0   \n",
       "3            NaN  Цена чашки капучино:155–185 ₽              NaN   \n",
       "4        средние         Средний счёт:400–600 ₽            500.0   \n",
       "\n",
       "   middle_coffee_cup  \n",
       "0                NaN  \n",
       "1                NaN  \n",
       "2                NaN  \n",
       "3              170.0  \n",
       "4                NaN  "
      ]
     },
     "execution_count": 8,
     "metadata": {},
     "output_type": "execute_result"
    }
   ],
   "source": [
    "# Выводим первые строки датафрейма на экран\n",
    "merged_df.head()"
   ]
  },
  {
   "cell_type": "markdown",
   "id": "1f603437",
   "metadata": {},
   "source": [
    "Итоговый датасет имеет 13 столбцов и 8406 строк.\n",
    "Использован метод объединения `left`, чтобы не потерять данные заведений, о которых нет информации по ценам в датасете `rest_price.csv`.\n",
    "\n",
    "Приступаем к предобработке данных.\n",
    "\n",
    "---"
   ]
  },
  {
   "cell_type": "markdown",
   "id": "0a9215d0",
   "metadata": {},
   "source": [
    "## Предобработка данных\n",
    "\n",
    "### Оптимизация типов данных\n",
    "\n",
    "На данном этапе планируется:\n",
    "- Оптимизировать целочисленный формат столбца `chain`."
   ]
  },
  {
   "cell_type": "code",
   "execution_count": 9,
   "id": "4510e8c5",
   "metadata": {},
   "outputs": [],
   "source": [
    "# Оптимизируем целочисленный тип данных в столбце chain\n",
    "merged_df['chain'] = pd.to_numeric(merged_df['chain'], downcast='integer')"
   ]
  },
  {
   "cell_type": "code",
   "execution_count": 10,
   "id": "513aceb8",
   "metadata": {},
   "outputs": [
    {
     "data": {
      "text/plain": [
       "dtype('int8')"
      ]
     },
     "execution_count": 10,
     "metadata": {},
     "output_type": "execute_result"
    }
   ],
   "source": [
    "# Проверим тип данных\n",
    "merged_df['chain'].dtypes"
   ]
  },
  {
   "cell_type": "markdown",
   "id": "fbd0d0d5",
   "metadata": {},
   "source": [
    "Тип данных был успешно оптимизирован с понижением размерности целочисленных данных.\n",
    "\n",
    "---"
   ]
  },
  {
   "cell_type": "markdown",
   "id": "9059495d",
   "metadata": {},
   "source": [
    "### Работа с пропусками\n",
    "\n",
    "Для начала узнаем абсолютное и относительное колличество пропусков в датасете."
   ]
  },
  {
   "cell_type": "code",
   "execution_count": 11,
   "id": "236d2209",
   "metadata": {},
   "outputs": [
    {
     "name": "stdout",
     "output_type": "stream",
     "text": [
      "Количество пропусков в каждом столбце:\n",
      "id                      0\n",
      "name                    0\n",
      "category                0\n",
      "address                 0\n",
      "district                0\n",
      "hours                 536\n",
      "rating                  0\n",
      "chain                   0\n",
      "seats                3611\n",
      "price                5091\n",
      "avg_bill             4590\n",
      "middle_avg_bill      5257\n",
      "middle_coffee_cup    7871\n",
      "dtype: int64\n",
      "\n",
      "Доля пропусков в каждом столбце:\n",
      "id                   0.000000\n",
      "name                 0.000000\n",
      "category             0.000000\n",
      "address              0.000000\n",
      "district             0.000000\n",
      "hours                0.063764\n",
      "rating               0.000000\n",
      "chain                0.000000\n",
      "seats                0.429574\n",
      "price                0.605639\n",
      "avg_bill             0.546039\n",
      "middle_avg_bill      0.625387\n",
      "middle_coffee_cup    0.936355\n",
      "dtype: float64\n"
     ]
    }
   ],
   "source": [
    "# Выводим на экран количество пропусков в каждом столбце и их долю\n",
    "print('Количество пропусков в каждом столбце:')\n",
    "print(merged_df.isna().sum())\n",
    "print()\n",
    "print('Доля пропусков в каждом столбце:')\n",
    "print(merged_df.isna().mean())"
   ]
  },
  {
   "cell_type": "markdown",
   "id": "b1facebf",
   "metadata": {},
   "source": [
    "В датафрейме `merged_df` обнаружено:\n",
    "- 536 пропусков в столбце `hours` — это 6% данных;\n",
    "- 3611 пропусков в стобце `seats` — это 43% данных;\n",
    "- 5091 пропусков в стобце `price` — это 60% данных;\n",
    "- 4590 пропусков в стобце `avg_bill` — это 55% данных;\n",
    "- 5257 пропусков в стобце `middle_avg_bill` — это 63% данных;\n",
    "- 7871 пропусков в стобце `middle_coffee_cup` — это 94% данных.\n",
    "\n",
    "Для столбца `hours` пропуски могут быть вызваны:\n",
    "- Ошибкой при выгрузке данных;\n",
    "- Владелец заведения мог не указать информацию на платформе.\n",
    "\n",
    "Причины пропусков для столбца `seats`:\n",
    "- В заведениях может не быть посадочных мест;\n",
    "- Владелец заведения мог не указать информацию на платформе;\n",
    "- Ошибка при выгрузке данных.\n",
    "\n",
    "Для столбца `price` категория может быть не присвоена ввиду отсутствия цен заведения на платформе.\n",
    "Пропуски в столбцах `avg_bill`, `middle_avg_bill`, `middle_coffee_cup` зависят от наличия данных в столбце `price`.\n",
    "\n",
    "Замена пропусков на средние значения может исказить итоговые значения, замена на \"заглушки\" потребует дополнительной обработки. Для дальнейшей иследовательской работы пропуски не помешают, поэтому оставим их как есть."
   ]
  },
  {
   "cell_type": "markdown",
   "id": "65cee2ba",
   "metadata": {},
   "source": [
    "### Явные и неявные дубликаты\n",
    "\n",
    "Проверим наличие явных и неявных дубликатов. Начнём с явных."
   ]
  },
  {
   "cell_type": "code",
   "execution_count": 12,
   "id": "92bfa074",
   "metadata": {},
   "outputs": [],
   "source": [
    "# Приведём названия заведений к нижнему регистру\n",
    "merged_df['name'] = merged_df['name'].str.lower()"
   ]
  },
  {
   "cell_type": "code",
   "execution_count": 13,
   "id": "5f22a977",
   "metadata": {},
   "outputs": [
    {
     "data": {
      "text/plain": [
       "0"
      ]
     },
     "execution_count": 13,
     "metadata": {},
     "output_type": "execute_result"
    }
   ],
   "source": [
    "# Проверим явные дубликаты в merged_df\n",
    "merged_df.duplicated().sum()"
   ]
  },
  {
   "cell_type": "markdown",
   "id": "60b845a6",
   "metadata": {},
   "source": [
    "В датасете отсутствуют явные дубликаты строк. Проверим явные дубликаты в столбце `id` где все значения должны быть уникальными."
   ]
  },
  {
   "cell_type": "code",
   "execution_count": 14,
   "id": "2bd0a9c3",
   "metadata": {},
   "outputs": [
    {
     "data": {
      "text/plain": [
       "0"
      ]
     },
     "execution_count": 14,
     "metadata": {},
     "output_type": "execute_result"
    }
   ],
   "source": [
    "# Проверим явные дубликаты в столбце id\n",
    "merged_df['id'].duplicated().sum()"
   ]
  },
  {
   "cell_type": "markdown",
   "id": "5e90fe91",
   "metadata": {},
   "source": [
    "Каждая строка соответствует уникальному заведению. Проверим категориальные данные на наличия неявных дубликатов."
   ]
  },
  {
   "cell_type": "code",
   "execution_count": 15,
   "id": "f2570c10",
   "metadata": {},
   "outputs": [
    {
     "data": {
      "text/plain": [
       "3"
      ]
     },
     "execution_count": 15,
     "metadata": {},
     "output_type": "execute_result"
    }
   ],
   "source": [
    "# Проверим дубликаты в комбинации имя и адрес\n",
    "merged_df.duplicated(subset=['name', 'address'], keep='first').sum()"
   ]
  },
  {
   "cell_type": "markdown",
   "id": "713ef7df",
   "metadata": {},
   "source": [
    "Обнаружилось 3 заведения с одинаковыми названиями и адресом, скорее всего данные брались из нескольких источников."
   ]
  },
  {
   "cell_type": "code",
   "execution_count": 16,
   "id": "abb3bb3c",
   "metadata": {},
   "outputs": [],
   "source": [
    "# Удаляем дубликаты, оставляя первую строку\n",
    "prep_df = merged_df.drop_duplicates(subset=['name', 'address'], keep = 'first')"
   ]
  },
  {
   "cell_type": "code",
   "execution_count": 17,
   "id": "14be5a77",
   "metadata": {},
   "outputs": [
    {
     "name": "stdout",
     "output_type": "stream",
     "text": [
      "Уникальные значения в столбце category:\n",
      "['бар,паб' 'булочная' 'быстрое питание' 'кафе' 'кофейня' 'пиццерия'\n",
      " 'ресторан' 'столовая']\n",
      "\n",
      "Уникальные значения в столбце district:\n",
      "['Восточный административный округ' 'Западный административный округ'\n",
      " 'Северный административный округ'\n",
      " 'Северо-Восточный административный округ'\n",
      " 'Северо-Западный административный округ'\n",
      " 'Центральный административный округ'\n",
      " 'Юго-Восточный административный округ'\n",
      " 'Юго-Западный административный округ' 'Южный административный округ']\n",
      "\n",
      "Уникальные значения в столбце price:\n",
      "['высокие' 'выше среднего' 'низкие' 'средние' nan]\n",
      "\n"
     ]
    }
   ],
   "source": [
    "# Проверяем уникальные значения в категориальных столбцах\n",
    "for column in ['category', 'district', 'price']:\n",
    "    print(f'Уникальные значения в столбце {column}:')\n",
    "    print(prep_df[column].sort_values().unique())\n",
    "    print()"
   ]
  },
  {
   "cell_type": "markdown",
   "id": "0dff0bbb",
   "metadata": {},
   "source": [
    "В категориальных данных ошибок нет."
   ]
  },
  {
   "cell_type": "code",
   "execution_count": 18,
   "id": "1acef3e9",
   "metadata": {},
   "outputs": [
    {
     "name": "stdout",
     "output_type": "stream",
     "text": [
      "Колличество удалённых пропусков: 3\n",
      "Доля удалённых пропусков: 0.0004\n"
     ]
    }
   ],
   "source": [
    "# Вычисляем колличество удалённых строк и долю от исходного набора данных\n",
    "count = len(merged_df) - len(prep_df)\n",
    "rat = round(1 - (len(prep_df) / len(merged_df)), 4)\n",
    "print(f'Колличество удалённых пропусков: {count}')\n",
    "print(f'Доля удалённых пропусков: {rat}')"
   ]
  },
  {
   "cell_type": "markdown",
   "id": "b80b798f",
   "metadata": {},
   "source": [
    "### Создаём логическую маску"
   ]
  },
  {
   "cell_type": "markdown",
   "id": "e1d609a4",
   "metadata": {},
   "source": [
    "Добавим новый столбец `is_24_7` с обозначением того, что заведение работает ежедневно и круглосуточно."
   ]
  },
  {
   "cell_type": "code",
   "execution_count": 19,
   "id": "dd0123bf",
   "metadata": {},
   "outputs": [],
   "source": [
    "# Напишем функцию которая создаст логическую маску\n",
    "def create_is_24(hours):\n",
    "    try:\n",
    "        if 'круглосуточно' in hours and 'ежедневно' in hours:\n",
    "            return True\n",
    "        else:\n",
    "            return False\n",
    "    except TypeError:\n",
    "        return False"
   ]
  },
  {
   "cell_type": "code",
   "execution_count": 20,
   "id": "b340b22d",
   "metadata": {},
   "outputs": [
    {
     "name": "stderr",
     "output_type": "stream",
     "text": [
      "/tmp/ipykernel_63/3154038738.py:2: SettingWithCopyWarning: \n",
      "A value is trying to be set on a copy of a slice from a DataFrame.\n",
      "Try using .loc[row_indexer,col_indexer] = value instead\n",
      "\n",
      "See the caveats in the documentation: https://pandas.pydata.org/pandas-docs/stable/user_guide/indexing.html#returning-a-view-versus-a-copy\n",
      "  prep_df['is_24_7'] = prep_df['hours'].apply(create_is_24)\n"
     ]
    }
   ],
   "source": [
    "# Создадим новый столбец\n",
    "prep_df['is_24_7'] = prep_df['hours'].apply(create_is_24)"
   ]
  },
  {
   "cell_type": "code",
   "execution_count": 21,
   "id": "cd271f60",
   "metadata": {},
   "outputs": [
    {
     "data": {
      "text/plain": [
       "730"
      ]
     },
     "execution_count": 21,
     "metadata": {},
     "output_type": "execute_result"
    }
   ],
   "source": [
    "# Проверяем результат\n",
    "prep_df['is_24_7'].sum()"
   ]
  },
  {
   "cell_type": "markdown",
   "id": "c31a2cb1",
   "metadata": {},
   "source": [
    "730 заведений работают круглосуточно или ежедневно"
   ]
  },
  {
   "cell_type": "markdown",
   "id": "81c82c02",
   "metadata": {},
   "source": [
    "### Промежуточные выводы после предобработки\n",
    "\n",
    "Данные предоставлены в хорошем качестве и не потребовали много действий по предобработке.\n",
    "\n",
    "В результате предобработки выполнялись следующие действия:\n",
    "- Оптимизирован тип данных для столбца `chain`;\n",
    "- Изучены пропуски в данных. Пропуски обнаружились в столбцах `hours`, `seats`, `price`, `avg_bill`, `middle_avg_bill`, `middle_coffee_cup`. Замена пропусков может привести к искажениям, а удаление к потере большого количества данных. Было решено оставить пропуски в изначальном виде;\n",
    "- Данные проверены на явные и неявные дубликаты. Среди явных обнаружились 3 одинаковых сторки в комбинации `name` / `address` — удалены, неявных дубликатов не обнаружено;\n",
    "- Создан новый столбец с логической маской отражающей работает ли заведение круглосуточно или ежедневно.\n",
    "\n",
    "По итогам предобработки было удалено 3 строки, доля составляет 0.0004.\n",
    "\n",
    "---"
   ]
  },
  {
   "cell_type": "markdown",
   "id": "b54306b7",
   "metadata": {},
   "source": [
    "## Исследовательский анализ данных"
   ]
  },
  {
   "cell_type": "markdown",
   "id": "e89ca559",
   "metadata": {},
   "source": [
    "### Категории заведений"
   ]
  },
  {
   "cell_type": "code",
   "execution_count": 22,
   "id": "fa9741aa",
   "metadata": {},
   "outputs": [
    {
     "data": {
      "text/plain": [
       "category\n",
       "кафе               2377\n",
       "ресторан           2042\n",
       "кофейня            1413\n",
       "бар,паб             764\n",
       "пиццерия            633\n",
       "быстрое питание     603\n",
       "столовая            315\n",
       "булочная            256\n",
       "Name: id, dtype: int64"
      ]
     },
     "execution_count": 22,
     "metadata": {},
     "output_type": "execute_result"
    }
   ],
   "source": [
    "# Выделим категории заведений и найдём их количество в каждой\n",
    "cat_group = prep_df.groupby('category')['id'].count()\n",
    "cat_group.sort_values(ascending = False)"
   ]
  },
  {
   "cell_type": "markdown",
   "id": "320b1655",
   "metadata": {},
   "source": [
    "Кафе, рестораны и кофейни наиболее распространены среди всех категорий - это может указывать на их популярность. Значительно меньшее количество по остальным видам заведений."
   ]
  },
  {
   "cell_type": "code",
   "execution_count": 23,
   "id": "0851a333",
   "metadata": {
    "scrolled": false
   },
   "outputs": [
    {
     "data": {
      "image/png": "[encoded data removed]",
      "text/plain": [
       "<Figure size 720x432 with 1 Axes>"
      ]
     },
     "metadata": {
      "needs_background": "light"
     },
     "output_type": "display_data"
    }
   ],
   "source": [
    "# Построим визуализацию по количеству заведений в каждой категории\n",
    "plt.figure(figsize=(10, 6))\n",
    "\n",
    "cat_group.sort_values().plot(\n",
    "               kind='barh', \n",
    "               rot=0, \n",
    "               legend=False, \n",
    "               title=f'Количество заведений общепита в каждой категории')\n",
    "\n",
    "plt.xlabel('Категория заведения')\n",
    "plt.ylabel('Количество заведений')\n",
    "plt.grid()\n",
    "\n",
    "plt.show()"
   ]
  },
  {
   "cell_type": "markdown",
   "id": "91484bb3",
   "metadata": {},
   "source": [
    "По всем категориям три преобладают"
   ]
  },
  {
   "cell_type": "markdown",
   "id": "9f6c6a2c",
   "metadata": {},
   "source": [
    "### Распределение по районам"
   ]
  },
  {
   "cell_type": "markdown",
   "id": "ba7f285f",
   "metadata": {},
   "source": [
    "Сгруппируем данные по районам, найдём количество заведений в каждом районе. Так же распределение по категориям в центральном округе."
   ]
  },
  {
   "cell_type": "code",
   "execution_count": 24,
   "id": "f3807a61",
   "metadata": {},
   "outputs": [
    {
     "data": {
      "text/plain": [
       "district\n",
       "Центральный административный округ         2242\n",
       "Северный административный округ             899\n",
       "Южный административный округ                892\n",
       "Северо-Восточный административный округ     890\n",
       "Западный административный округ             850\n",
       "Восточный административный округ            798\n",
       "Юго-Восточный административный округ        714\n",
       "Юго-Западный административный округ         709\n",
       "Северо-Западный административный округ      409\n",
       "Name: id, dtype: int64"
      ]
     },
     "execution_count": 24,
     "metadata": {},
     "output_type": "execute_result"
    }
   ],
   "source": [
    "# Выделяем районы и количество заведений по каждому\n",
    "dist_group = prep_df.groupby('district')['id'].count()\n",
    "dist_group.sort_values(ascending = False)"
   ]
  },
  {
   "cell_type": "code",
   "execution_count": 25,
   "id": "a7182e43",
   "metadata": {},
   "outputs": [
    {
     "data": {
      "image/png": "[encoded data removed]",
      "text/plain": [
       "<Figure size 720x432 with 1 Axes>"
      ]
     },
     "metadata": {
      "needs_background": "light"
     },
     "output_type": "display_data"
    }
   ],
   "source": [
    "plt.figure(figsize=(10, 6))\n",
    "\n",
    "dist_group.sort_values().plot(\n",
    "               kind='barh', \n",
    "               rot=0, \n",
    "               legend=False, \n",
    "               title=f'Количество заведений общепита в каждом районе')\n",
    "\n",
    "plt.xlabel('Район')\n",
    "plt.ylabel('Количество заведений')\n",
    "plt.grid()\n",
    "\n",
    "plt.show()"
   ]
  },
  {
   "cell_type": "markdown",
   "id": "761368ab",
   "metadata": {},
   "source": [
    "В центре наибольшее количество заведений"
   ]
  },
  {
   "cell_type": "code",
   "execution_count": 26,
   "id": "880c6b6d",
   "metadata": {},
   "outputs": [
    {
     "data": {
      "text/plain": [
       "category\n",
       "ресторан           670\n",
       "кафе               464\n",
       "кофейня            428\n",
       "бар,паб            364\n",
       "пиццерия           113\n",
       "быстрое питание     87\n",
       "столовая            66\n",
       "булочная            50\n",
       "Name: id, dtype: int64"
      ]
     },
     "execution_count": 26,
     "metadata": {},
     "output_type": "execute_result"
    }
   ],
   "source": [
    "# Найдём распределение по категориям в центральном округе\n",
    "centre_group = prep_df[prep_df['district'] == 'Центральный административный округ'].groupby('category')['id'].count()\n",
    "centre_group.sort_values(ascending = False)"
   ]
  },
  {
   "cell_type": "code",
   "execution_count": 27,
   "id": "b7a37396",
   "metadata": {},
   "outputs": [
    {
     "data": {
      "image/png": "[encoded data removed]",
      "text/plain": [
       "<Figure size 720x432 with 1 Axes>"
      ]
     },
     "metadata": {
      "needs_background": "light"
     },
     "output_type": "display_data"
    }
   ],
   "source": [
    "# Визуализируем полученные результаты\n",
    "plt.figure(figsize=(10, 6))\n",
    "\n",
    "centre_group.sort_values().plot(\n",
    "               kind='barh', \n",
    "               rot=0, \n",
    "               legend=False, \n",
    "               title=f'Количество заведений общепита в центре')\n",
    "\n",
    "plt.xlabel('Категория заведения')\n",
    "plt.ylabel('Количество заведений')\n",
    "plt.grid()\n",
    "\n",
    "plt.show()"
   ]
  },
  {
   "cell_type": "markdown",
   "id": "688798de",
   "metadata": {},
   "source": [
    "Ресторанов в центре больше всего. Кафе, кофейни и бары тоже преобладают. "
   ]
  },
  {
   "cell_type": "markdown",
   "id": "b6814643",
   "metadata": {},
   "source": [
    "### Исследование сетевых заведений"
   ]
  },
  {
   "cell_type": "code",
   "execution_count": 28,
   "id": "8a3b41c8",
   "metadata": {},
   "outputs": [
    {
     "data": {
      "text/plain": [
       "chain\n",
       "0    5200\n",
       "1    3203\n",
       "Name: id, dtype: int64"
      ]
     },
     "execution_count": 28,
     "metadata": {},
     "output_type": "execute_result"
    }
   ],
   "source": [
    "prep_df.groupby('chain')['id'].count()"
   ]
  },
  {
   "cell_type": "code",
   "execution_count": 50,
   "id": "30db67d7",
   "metadata": {},
   "outputs": [
    {
     "data": {
      "image/png": "[encoded data removed]",
      "text/plain": [
       "<Figure size 432x288 with 1 Axes>"
      ]
     },
     "metadata": {},
     "output_type": "display_data"
    }
   ],
   "source": [
    "ax = prep_df.groupby('chain')['id'].count().plot(\n",
    "    kind='pie',\n",
    "    autopct='%.1f%%',  # Формат отображения процентов (1 знак после запятой)\n",
    "    rot=0, \n",
    "    legend=False, \n",
    "    title=f'Количество сетевых/несетевых заведений',\n",
    "    ylabel=''  # Убираем label по оси Y, так как для pie chart он не нужен\n",
    ")\n",
    "\n",
    "# Убираем xlabel, так как для pie chart он не нужен\n",
    "plt.xlabel('')\n",
    "plt.grid()\n",
    "\n",
    "plt.show()"
   ]
  },
  {
   "cell_type": "code",
   "execution_count": 30,
   "id": "bfd81d4b",
   "metadata": {},
   "outputs": [],
   "source": [
    "# Cоотношение сетевых и несетевых заведений по категориям\n",
    "chain_cat_gr = prep_df.loc[prep_df['chain'] == 1].groupby('category')['id'].count()\n",
    "category_group = prep_df.groupby(['category'])['id'].count()"
   ]
  },
  {
   "cell_type": "code",
   "execution_count": 31,
   "id": "92d29ed0",
   "metadata": {},
   "outputs": [
    {
     "data": {
      "text/plain": [
       "category\n",
       "бар,паб            0.219895\n",
       "булочная           0.613281\n",
       "быстрое питание    0.384743\n",
       "кафе               0.327724\n",
       "кофейня            0.509554\n",
       "пиццерия           0.521327\n",
       "ресторан           0.357003\n",
       "столовая           0.279365\n",
       "Name: id, dtype: float64"
      ]
     },
     "execution_count": 31,
     "metadata": {},
     "output_type": "execute_result"
    }
   ],
   "source": [
    "rat_chain = chain_cat_gr / category_group\n",
    "rat_chain"
   ]
  },
  {
   "cell_type": "code",
   "execution_count": 32,
   "id": "75990888",
   "metadata": {},
   "outputs": [
    {
     "data": {
      "image/png": "[encoded data removed]",
      "text/plain": [
       "<Figure size 720x432 with 1 Axes>"
      ]
     },
     "metadata": {
      "needs_background": "light"
     },
     "output_type": "display_data"
    }
   ],
   "source": [
    "# Построим визуализацию соотношения сетевых и несетевых заведений по категориям\n",
    "rat_chain.sort_values(ascending = False).plot(\n",
    "               kind='bar', \n",
    "               rot=45,\n",
    "               legend=True, \n",
    "               title=f'Доля сетевых заведений',\n",
    "               figsize=(10,6))\n",
    "\n",
    "plt.xlabel('Категория заведения')\n",
    "plt.ylabel('Доля сетевых заведений')\n",
    "plt.grid()\n",
    "\n",
    "plt.show()"
   ]
  },
  {
   "cell_type": "markdown",
   "id": "bbffea04",
   "metadata": {},
   "source": [
    "По итогам можно сделать выводы что сетевых заведений меньше. Наибольшее количество сетевых заведений встречается булочных, пиццерий и кофеен."
   ]
  },
  {
   "cell_type": "markdown",
   "id": "a85f14d2",
   "metadata": {},
   "source": [
    "### Исследование посадочных мест"
   ]
  },
  {
   "cell_type": "code",
   "execution_count": 33,
   "id": "881ff1f3",
   "metadata": {},
   "outputs": [
    {
     "data": {
      "text/plain": [
       "count    4792.000000\n",
       "mean      108.361436\n",
       "std       122.841130\n",
       "min         0.000000\n",
       "25%        40.000000\n",
       "50%        75.000000\n",
       "75%       140.000000\n",
       "max      1288.000000\n",
       "Name: seats, dtype: float64"
      ]
     },
     "execution_count": 33,
     "metadata": {},
     "output_type": "execute_result"
    }
   ],
   "source": [
    "# Выведем статистические показатели кол-ва посадочных мест\n",
    "prep_df['seats'].describe()"
   ]
  },
  {
   "cell_type": "markdown",
   "id": "7f04aa15",
   "metadata": {},
   "source": [
    "Можно предположить что имеются выбросы высокий значений, об этом говорит разница между средним и медианным значением, а так же максимальное количество посадочных мест — 1288, скорее всего это какой-нибудь престижный ресторан. Распределение данных может быть смещенно вправо, об этом говорит стандартное отклонение — 122, при среднем значении — 108."
   ]
  },
  {
   "cell_type": "code",
   "execution_count": 34,
   "id": "270fe18a",
   "metadata": {},
   "outputs": [
    {
     "data": {
      "image/png": "[encoded data removed]",
      "text/plain": [
       "<Figure size 720x432 with 1 Axes>"
      ]
     },
     "metadata": {
      "needs_background": "light"
     },
     "output_type": "display_data"
    }
   ],
   "source": [
    "# Построим гистограмму распределения значений\n",
    "plt.figure(figsize=(10, 6))\n",
    "\n",
    "prep_df['seats'].plot(\n",
    "                kind='hist',\n",
    "                bins=60,\n",
    "                alpha=0.75,\n",
    "                edgecolor='black',\n",
    "                rot=0)\n",
    "\n",
    "plt.title('Распределение посадочных мест')\n",
    "plt.xlabel('Количество посадочных мест')\n",
    "plt.ylabel('Частота')\n",
    "\n",
    "plt.grid()\n",
    "\n",
    "plt.show()"
   ]
  },
  {
   "cell_type": "code",
   "execution_count": 35,
   "id": "32309bdf",
   "metadata": {},
   "outputs": [
    {
     "data": {
      "image/png": "[encoded data removed]",
      "text/plain": [
       "<Figure size 576x144 with 1 Axes>"
      ]
     },
     "metadata": {
      "needs_background": "light"
     },
     "output_type": "display_data"
    }
   ],
   "source": [
    "# Строим диаграмму размаха\n",
    "plt.figure(figsize=(8,2))\n",
    "\n",
    "prep_df.boxplot(column='seats', vert=False)\n",
    "\n",
    "plt.title('Распределение значений посадочных мест')\n",
    "plt.xlabel('Посадочные места')\n",
    "\n",
    "plt.show()"
   ]
  },
  {
   "cell_type": "markdown",
   "id": "52cf54fd",
   "metadata": {},
   "source": [
    "Визуализация подтвердила предположения. Распределение смещено вправо с \"хвостами\". Высокие значения можно отнести к выбросам и они не выглядят ошибкой, могут быть рестораны с таким количеством посадочных мест.\n",
    "\n",
    "Определим медианое значение посадочных мест для каждой категории заведений, так как среднее нам не подойдёт для \"типичного\" количества посадочных мест по категории, слишком много выбросов."
   ]
  },
  {
   "cell_type": "code",
   "execution_count": 36,
   "id": "fe63cdd2",
   "metadata": {},
   "outputs": [
    {
     "data": {
      "text/plain": [
       "category\n",
       "ресторан           86.0\n",
       "бар,паб            82.0\n",
       "кофейня            80.0\n",
       "столовая           75.5\n",
       "быстрое питание    65.0\n",
       "кафе               60.0\n",
       "пиццерия           55.0\n",
       "булочная           50.0\n",
       "Name: seats, dtype: float64"
      ]
     },
     "execution_count": 36,
     "metadata": {},
     "output_type": "execute_result"
    }
   ],
   "source": [
    "# Определяем медиану для каждой категории\n",
    "cat_mode = prep_df.groupby('category')['seats'].median()\n",
    "cat_mode = cat_mode.sort_values(ascending = False)\n",
    "cat_mode"
   ]
  },
  {
   "cell_type": "code",
   "execution_count": 37,
   "id": "adf8abb2",
   "metadata": {},
   "outputs": [
    {
     "data": {
      "image/png": "[encoded data removed]",
      "text/plain": [
       "<Figure size 720x432 with 1 Axes>"
      ]
     },
     "metadata": {
      "needs_background": "light"
     },
     "output_type": "display_data"
    }
   ],
   "source": [
    "# Визуализируем результат\n",
    "cat_mode.plot(\n",
    "               kind='bar', \n",
    "               rot=45, \n",
    "               legend=True, \n",
    "               title=f'Количество сетевых/несетевых заведений',\n",
    "               figsize=(10,6))\n",
    "\n",
    "plt.xlabel('Категория заведения')\n",
    "plt.ylabel('Количество заведений')\n",
    "plt.grid()\n",
    "\n",
    "plt.show()"
   ]
  },
  {
   "cell_type": "markdown",
   "id": "2f0f309b",
   "metadata": {},
   "source": [
    "Типичное количество посадочных мест для каждой категории заведения."
   ]
  },
  {
   "cell_type": "markdown",
   "id": "d6619191",
   "metadata": {},
   "source": [
    "### Иследование рейтингов заведений\n",
    "\n",
    "Определим средний рейтинг для каждой категории заведений и построим визуализацию"
   ]
  },
  {
   "cell_type": "code",
   "execution_count": 38,
   "id": "d83f6f9a",
   "metadata": {},
   "outputs": [
    {
     "data": {
      "text/plain": [
       "category\n",
       "бар,паб            4.387696\n",
       "пиццерия           4.301264\n",
       "ресторан           4.290402\n",
       "кофейня            4.277282\n",
       "булочная           4.268359\n",
       "столовая           4.211429\n",
       "кафе               4.123896\n",
       "быстрое питание    4.050249\n",
       "Name: rating, dtype: float64"
      ]
     },
     "execution_count": 38,
     "metadata": {},
     "output_type": "execute_result"
    }
   ],
   "source": [
    "# Находим средний рейтиг для каждой категории заведений\n",
    "rating_cat = prep_df.groupby('category')['rating'].mean()\n",
    "rating_cat.sort_values(ascending = False)"
   ]
  },
  {
   "cell_type": "code",
   "execution_count": 39,
   "id": "2eb8b255",
   "metadata": {},
   "outputs": [
    {
     "data": {
      "image/png": "[encoded data removed]",
      "text/plain": [
       "<Figure size 720x432 with 1 Axes>"
      ]
     },
     "metadata": {
      "needs_background": "light"
     },
     "output_type": "display_data"
    }
   ],
   "source": [
    "# Построим визуализацию по среднему рейтингу заведений в каждой категории\n",
    "plt.figure(figsize=(10, 6))\n",
    "\n",
    "rating_cat.sort_values(ascending = False).plot(\n",
    "               kind='bar', \n",
    "               rot=0, \n",
    "               legend=False, \n",
    "               title=f'Средний рейтинг заведений каждой категории')\n",
    "\n",
    "plt.xlabel('Категория заведения')\n",
    "plt.ylabel('Средний рейтинг')\n",
    "plt.grid()\n",
    "\n",
    "plt.show()"
   ]
  },
  {
   "cell_type": "markdown",
   "id": "bde5c0f2",
   "metadata": {},
   "source": [
    "Разброс значений незначительный, все оценки около 4. Лидирующая позиция у баров/пабов, скорее всего посетители ставят оценки в разгар веселья."
   ]
  },
  {
   "cell_type": "markdown",
   "id": "2e91ccb1",
   "metadata": {},
   "source": [
    "### Корреляция рейтинга заведений"
   ]
  },
  {
   "cell_type": "code",
   "execution_count": 40,
   "id": "be71d2d9",
   "metadata": {},
   "outputs": [
    {
     "name": "stdout",
     "output_type": "stream",
     "text": [
      "interval columns not set, guessing: ['chain', 'seats', 'rating']\n",
      "Корреляционная матрица с коэффициентом phi_k для переменной rating\n"
     ]
    },
    {
     "data": {
      "text/html": [
       "<div>\n",
       "<style scoped>\n",
       "    .dataframe tbody tr th:only-of-type {\n",
       "        vertical-align: middle;\n",
       "    }\n",
       "\n",
       "    .dataframe tbody tr th {\n",
       "        vertical-align: top;\n",
       "    }\n",
       "\n",
       "    .dataframe thead th {\n",
       "        text-align: right;\n",
       "    }\n",
       "</style>\n",
       "<table border=\"1\" class=\"dataframe\">\n",
       "  <thead>\n",
       "    <tr style=\"text-align: right;\">\n",
       "      <th></th>\n",
       "      <th>rating</th>\n",
       "    </tr>\n",
       "  </thead>\n",
       "  <tbody>\n",
       "    <tr>\n",
       "      <th>price</th>\n",
       "      <td>0.220295</td>\n",
       "    </tr>\n",
       "    <tr>\n",
       "      <th>district</th>\n",
       "      <td>0.200701</td>\n",
       "    </tr>\n",
       "    <tr>\n",
       "      <th>category</th>\n",
       "      <td>0.189904</td>\n",
       "    </tr>\n",
       "    <tr>\n",
       "      <th>is_24_7</th>\n",
       "      <td>0.150210</td>\n",
       "    </tr>\n",
       "    <tr>\n",
       "      <th>chain</th>\n",
       "      <td>0.108060</td>\n",
       "    </tr>\n",
       "    <tr>\n",
       "      <th>seats</th>\n",
       "      <td>0.000000</td>\n",
       "    </tr>\n",
       "  </tbody>\n",
       "</table>\n",
       "</div>"
      ],
      "text/plain": [
       "            rating\n",
       "price     0.220295\n",
       "district  0.200701\n",
       "category  0.189904\n",
       "is_24_7   0.150210\n",
       "chain     0.108060\n",
       "seats     0.000000"
      ]
     },
     "execution_count": 40,
     "metadata": {},
     "output_type": "execute_result"
    }
   ],
   "source": [
    "# Вычисляем корреляционную матрицу с использованием phi_k\n",
    "correlation_matrix = prep_df[['category', 'district', 'chain', 'seats', 'price', 'is_24_7', 'rating']].phik_matrix()\n",
    "\n",
    "print('Корреляционная матрица с коэффициентом phi_k для переменной rating')\n",
    "correlation_matrix.loc[correlation_matrix.index != 'rating'][['rating']].sort_values(by='rating', ascending=False)"
   ]
  },
  {
   "cell_type": "code",
   "execution_count": 41,
   "id": "04428217",
   "metadata": {},
   "outputs": [
    {
     "data": {
      "image/png": "[encoded data removed]",
      "text/plain": [
       "<Figure size 144x432 with 2 Axes>"
      ]
     },
     "metadata": {
      "needs_background": "light"
     },
     "output_type": "display_data"
    }
   ],
   "source": [
    "# Строим тепловую карту\n",
    "plt.figure(figsize=(2, 6))\n",
    "\n",
    "data_heatmap = correlation_matrix.loc[correlation_matrix.index != 'rating'][['rating']].sort_values(by='rating', ascending=False)\n",
    "sns.heatmap(data_heatmap,\n",
    "            annot=True,\n",
    "            fmt='.2f',\n",
    "            cmap='coolwarm',\n",
    "            linewidths=0.5,\n",
    "            cbar=True)\n",
    "\n",
    "plt.title('Тепловая карта коэффициента phi_k \\n для rating')\n",
    "\n",
    "plt.show()"
   ]
  },
  {
   "cell_type": "markdown",
   "id": "5c8bd4f2",
   "metadata": {},
   "source": [
    "Самая сильная корреляция наблюдается для ценовой категории, рассмотрим её подробнее."
   ]
  },
  {
   "cell_type": "markdown",
   "id": "06dda74e",
   "metadata": {},
   "source": [
    "#### Проверка зависимости рейтинга от категории цены"
   ]
  },
  {
   "cell_type": "code",
   "execution_count": 42,
   "id": "bc3b171c",
   "metadata": {},
   "outputs": [
    {
     "data": {
      "text/plain": [
       "price\n",
       "высокие          4.436611\n",
       "выше среднего    4.386348\n",
       "средние          4.297874\n",
       "низкие           4.173077\n",
       "Name: rating, dtype: float64"
      ]
     },
     "execution_count": 42,
     "metadata": {},
     "output_type": "execute_result"
    }
   ],
   "source": [
    "# Выведем средние значения рейтинга по ценовым категориям\n",
    "price_rat = prep_df.groupby('price')['rating'].mean()\n",
    "price_rat.sort_values(ascending = False)"
   ]
  },
  {
   "cell_type": "code",
   "execution_count": 43,
   "id": "9298c2b5",
   "metadata": {},
   "outputs": [
    {
     "data": {
      "image/png": "[encoded data removed]",
      "text/plain": [
       "<Figure size 576x288 with 1 Axes>"
      ]
     },
     "metadata": {
      "needs_background": "light"
     },
     "output_type": "display_data"
    }
   ],
   "source": [
    "# Построим визуализацию по полученым результатам\n",
    "plt.figure(figsize=(8, 4))\n",
    "\n",
    "price_rat.sort_values(ascending = False).plot(\n",
    "               kind='bar', \n",
    "               rot=0, \n",
    "               legend=False, \n",
    "               title=f'Средний рейтинг заведений по ценовой категории')\n",
    "\n",
    "plt.xlabel('Ценовая категория заведения')\n",
    "plt.ylabel('Средний рейтинг')\n",
    "plt.grid()\n",
    "\n",
    "plt.show()"
   ]
  },
  {
   "cell_type": "markdown",
   "id": "cff076e1",
   "metadata": {},
   "source": [
    "По полученым результатам видно что самые высокие рейтинги у заведений с ценовой категорией \"высокие\" — 4.44. Разброс по категориям незначительный, однако прослеживается повышение среднего рейтинга к более высоким категориям по цене."
   ]
  },
  {
   "cell_type": "markdown",
   "id": "07521e01",
   "metadata": {},
   "source": [
    "### 15 самых популярных заведений"
   ]
  },
  {
   "cell_type": "code",
   "execution_count": 44,
   "id": "40c1772d",
   "metadata": {},
   "outputs": [
    {
     "data": {
      "text/html": [
       "<div>\n",
       "<style scoped>\n",
       "    .dataframe tbody tr th:only-of-type {\n",
       "        vertical-align: middle;\n",
       "    }\n",
       "\n",
       "    .dataframe tbody tr th {\n",
       "        vertical-align: top;\n",
       "    }\n",
       "\n",
       "    .dataframe thead th {\n",
       "        text-align: right;\n",
       "    }\n",
       "</style>\n",
       "<table border=\"1\" class=\"dataframe\">\n",
       "  <thead>\n",
       "    <tr style=\"text-align: right;\">\n",
       "      <th></th>\n",
       "      <th>id</th>\n",
       "      <th>rating</th>\n",
       "    </tr>\n",
       "    <tr>\n",
       "      <th>name</th>\n",
       "      <th></th>\n",
       "      <th></th>\n",
       "    </tr>\n",
       "  </thead>\n",
       "  <tbody>\n",
       "    <tr>\n",
       "      <th>кафе</th>\n",
       "      <td>189</td>\n",
       "      <td>3.880952</td>\n",
       "    </tr>\n",
       "    <tr>\n",
       "      <th>шоколадница</th>\n",
       "      <td>120</td>\n",
       "      <td>4.177500</td>\n",
       "    </tr>\n",
       "    <tr>\n",
       "      <th>домино'с пицца</th>\n",
       "      <td>77</td>\n",
       "      <td>4.171429</td>\n",
       "    </tr>\n",
       "    <tr>\n",
       "      <th>додо пицца</th>\n",
       "      <td>74</td>\n",
       "      <td>4.286486</td>\n",
       "    </tr>\n",
       "    <tr>\n",
       "      <th>one price coffee</th>\n",
       "      <td>72</td>\n",
       "      <td>4.069444</td>\n",
       "    </tr>\n",
       "    <tr>\n",
       "      <th>яндекс лавка</th>\n",
       "      <td>69</td>\n",
       "      <td>3.872464</td>\n",
       "    </tr>\n",
       "    <tr>\n",
       "      <th>cofix</th>\n",
       "      <td>65</td>\n",
       "      <td>4.075385</td>\n",
       "    </tr>\n",
       "    <tr>\n",
       "      <th>prime</th>\n",
       "      <td>50</td>\n",
       "      <td>4.116000</td>\n",
       "    </tr>\n",
       "    <tr>\n",
       "      <th>хинкальная</th>\n",
       "      <td>44</td>\n",
       "      <td>4.322727</td>\n",
       "    </tr>\n",
       "    <tr>\n",
       "      <th>шаурма</th>\n",
       "      <td>43</td>\n",
       "      <td>3.909302</td>\n",
       "    </tr>\n",
       "    <tr>\n",
       "      <th>кофепорт</th>\n",
       "      <td>42</td>\n",
       "      <td>4.147619</td>\n",
       "    </tr>\n",
       "    <tr>\n",
       "      <th>кулинарная лавка братьев караваевых</th>\n",
       "      <td>39</td>\n",
       "      <td>4.394872</td>\n",
       "    </tr>\n",
       "    <tr>\n",
       "      <th>теремок</th>\n",
       "      <td>38</td>\n",
       "      <td>4.123684</td>\n",
       "    </tr>\n",
       "    <tr>\n",
       "      <th>чайхана</th>\n",
       "      <td>37</td>\n",
       "      <td>3.924324</td>\n",
       "    </tr>\n",
       "    <tr>\n",
       "      <th>ресторан</th>\n",
       "      <td>34</td>\n",
       "      <td>4.314706</td>\n",
       "    </tr>\n",
       "  </tbody>\n",
       "</table>\n",
       "</div>"
      ],
      "text/plain": [
       "                                      id    rating\n",
       "name                                              \n",
       "кафе                                 189  3.880952\n",
       "шоколадница                          120  4.177500\n",
       "домино'с пицца                        77  4.171429\n",
       "додо пицца                            74  4.286486\n",
       "one price coffee                      72  4.069444\n",
       "яндекс лавка                          69  3.872464\n",
       "cofix                                 65  4.075385\n",
       "prime                                 50  4.116000\n",
       "хинкальная                            44  4.322727\n",
       "шаурма                                43  3.909302\n",
       "кофепорт                              42  4.147619\n",
       "кулинарная лавка братьев караваевых   39  4.394872\n",
       "теремок                               38  4.123684\n",
       "чайхана                               37  3.924324\n",
       "ресторан                              34  4.314706"
      ]
     },
     "execution_count": 44,
     "metadata": {},
     "output_type": "execute_result"
    }
   ],
   "source": [
    "# Выведем количество популярных заведений с рейтингом\n",
    "# Группируем только по name согласно постановке задачи\n",
    "# Категории добавим с помощью присоединения\n",
    "name_count = merged_df.groupby(['name']).agg({'id': 'count',\n",
    "                                            'rating': 'mean'})\n",
    "\n",
    "name_count = name_count.sort_values(by = 'id', ascending = False).head(15)\n",
    "name_count"
   ]
  },
  {
   "cell_type": "code",
   "execution_count": 45,
   "id": "2eacbeb4",
   "metadata": {},
   "outputs": [
    {
     "data": {
      "image/png": "[encoded data removed]",
      "text/plain": [
       "<Figure size 864x576 with 1 Axes>"
      ]
     },
     "metadata": {
      "needs_background": "light"
     },
     "output_type": "display_data"
    }
   ],
   "source": [
    "# Визуализируем полученые данные по кол-ву заведений\n",
    "name_count.sort_values(by = 'id').plot(kind='barh',\n",
    "                y='id',                \n",
    "                rot=0, \n",
    "                legend=False, \n",
    "                title=f'15 самых популярных заведений',\n",
    "                figsize=(12, 8))\n",
    "\n",
    "plt.xlabel('Количество заведений')\n",
    "plt.ylabel('Название заведения')\n",
    "plt.grid()\n",
    "\n",
    "plt.show()"
   ]
  },
  {
   "cell_type": "code",
   "execution_count": 46,
   "id": "cbd50070",
   "metadata": {},
   "outputs": [
    {
     "data": {
      "image/png": "[encoded data removed]",
      "text/plain": [
       "<Figure size 864x576 with 1 Axes>"
      ]
     },
     "metadata": {
      "needs_background": "light"
     },
     "output_type": "display_data"
    }
   ],
   "source": [
    "# Визуализируем данные по рейтингу\n",
    "name_count.sort_values(by = 'rating').plot(kind='barh',\n",
    "                y='rating',                \n",
    "                rot=0, \n",
    "                legend=False, \n",
    "                title=f'15 самых популярных заведений',\n",
    "                figsize=(12, 8))\n",
    "\n",
    "plt.xlabel('Рейтинг')\n",
    "plt.ylabel('Название заведения')\n",
    "plt.grid()\n",
    "\n",
    "plt.show()"
   ]
  },
  {
   "cell_type": "code",
   "execution_count": 47,
   "id": "b6bc52aa",
   "metadata": {},
   "outputs": [
    {
     "data": {
      "text/html": [
       "<div>\n",
       "<style scoped>\n",
       "    .dataframe tbody tr th:only-of-type {\n",
       "        vertical-align: middle;\n",
       "    }\n",
       "\n",
       "    .dataframe tbody tr th {\n",
       "        vertical-align: top;\n",
       "    }\n",
       "\n",
       "    .dataframe thead th {\n",
       "        text-align: right;\n",
       "    }\n",
       "</style>\n",
       "<table border=\"1\" class=\"dataframe\">\n",
       "  <thead>\n",
       "    <tr style=\"text-align: right;\">\n",
       "      <th></th>\n",
       "      <th>id</th>\n",
       "      <th>rating</th>\n",
       "      <th>category</th>\n",
       "    </tr>\n",
       "    <tr>\n",
       "      <th>name</th>\n",
       "      <th></th>\n",
       "      <th></th>\n",
       "      <th></th>\n",
       "    </tr>\n",
       "  </thead>\n",
       "  <tbody>\n",
       "    <tr>\n",
       "      <th>кафе</th>\n",
       "      <td>189</td>\n",
       "      <td>3.880952</td>\n",
       "      <td>кафе</td>\n",
       "    </tr>\n",
       "    <tr>\n",
       "      <th>шоколадница</th>\n",
       "      <td>120</td>\n",
       "      <td>4.177500</td>\n",
       "      <td>кофейня</td>\n",
       "    </tr>\n",
       "    <tr>\n",
       "      <th>домино'с пицца</th>\n",
       "      <td>77</td>\n",
       "      <td>4.171429</td>\n",
       "      <td>пиццерия</td>\n",
       "    </tr>\n",
       "    <tr>\n",
       "      <th>додо пицца</th>\n",
       "      <td>74</td>\n",
       "      <td>4.286486</td>\n",
       "      <td>пиццерия</td>\n",
       "    </tr>\n",
       "    <tr>\n",
       "      <th>one price coffee</th>\n",
       "      <td>72</td>\n",
       "      <td>4.069444</td>\n",
       "      <td>кофейня</td>\n",
       "    </tr>\n",
       "    <tr>\n",
       "      <th>яндекс лавка</th>\n",
       "      <td>69</td>\n",
       "      <td>3.872464</td>\n",
       "      <td>ресторан</td>\n",
       "    </tr>\n",
       "    <tr>\n",
       "      <th>cofix</th>\n",
       "      <td>65</td>\n",
       "      <td>4.075385</td>\n",
       "      <td>кофейня</td>\n",
       "    </tr>\n",
       "    <tr>\n",
       "      <th>prime</th>\n",
       "      <td>50</td>\n",
       "      <td>4.116000</td>\n",
       "      <td>ресторан</td>\n",
       "    </tr>\n",
       "    <tr>\n",
       "      <th>хинкальная</th>\n",
       "      <td>44</td>\n",
       "      <td>4.322727</td>\n",
       "      <td>быстрое питание</td>\n",
       "    </tr>\n",
       "    <tr>\n",
       "      <th>шаурма</th>\n",
       "      <td>43</td>\n",
       "      <td>3.909302</td>\n",
       "      <td>быстрое питание</td>\n",
       "    </tr>\n",
       "    <tr>\n",
       "      <th>кофепорт</th>\n",
       "      <td>42</td>\n",
       "      <td>4.147619</td>\n",
       "      <td>кофейня</td>\n",
       "    </tr>\n",
       "    <tr>\n",
       "      <th>кулинарная лавка братьев караваевых</th>\n",
       "      <td>39</td>\n",
       "      <td>4.394872</td>\n",
       "      <td>кафе</td>\n",
       "    </tr>\n",
       "    <tr>\n",
       "      <th>теремок</th>\n",
       "      <td>38</td>\n",
       "      <td>4.123684</td>\n",
       "      <td>ресторан</td>\n",
       "    </tr>\n",
       "    <tr>\n",
       "      <th>чайхана</th>\n",
       "      <td>37</td>\n",
       "      <td>3.924324</td>\n",
       "      <td>кафе</td>\n",
       "    </tr>\n",
       "    <tr>\n",
       "      <th>ресторан</th>\n",
       "      <td>34</td>\n",
       "      <td>4.314706</td>\n",
       "      <td>ресторан</td>\n",
       "    </tr>\n",
       "  </tbody>\n",
       "</table>\n",
       "</div>"
      ],
      "text/plain": [
       "                                      id    rating         category\n",
       "name                                                               \n",
       "кафе                                 189  3.880952             кафе\n",
       "шоколадница                          120  4.177500          кофейня\n",
       "домино'с пицца                        77  4.171429         пиццерия\n",
       "додо пицца                            74  4.286486         пиццерия\n",
       "one price coffee                      72  4.069444          кофейня\n",
       "яндекс лавка                          69  3.872464         ресторан\n",
       "cofix                                 65  4.075385          кофейня\n",
       "prime                                 50  4.116000         ресторан\n",
       "хинкальная                            44  4.322727  быстрое питание\n",
       "шаурма                                43  3.909302  быстрое питание\n",
       "кофепорт                              42  4.147619          кофейня\n",
       "кулинарная лавка братьев караваевых   39  4.394872             кафе\n",
       "теремок                               38  4.123684         ресторан\n",
       "чайхана                               37  3.924324             кафе\n",
       "ресторан                              34  4.314706         ресторан"
      ]
     },
     "execution_count": 47,
     "metadata": {},
     "output_type": "execute_result"
    }
   ],
   "source": [
    "# Добавим столбец с категорией\n",
    "name_count = name_count.merge(merged_df[['category','name']], how='left', on = 'name')\n",
    "name_count = name_count.drop_duplicates(subset='name', keep = 'first')\n",
    "name_count.set_index('name')"
   ]
  },
  {
   "cell_type": "markdown",
   "id": "d3a415f5",
   "metadata": {},
   "source": [
    "Самыми популярными заведениями оказались \"Кафе\" — 189 заведений и \"Шоколадница\" — 120 заведений. Средний рейтинг заведений ~4 балла, для некоторых заведений целое число рейтинга — 3, что может оттолкнуть потенциального клиента. Так как рейтинг — 4.1 воспринимается куда благоприятнее, чем рейтинг — 3.9. Среди 15 популярных заведений выделяются категории кафе, ресторан, кофейня и быстрое питание."
   ]
  },
  {
   "cell_type": "markdown",
   "id": "d067c111",
   "metadata": {},
   "source": [
    "### Вариация среднего чека"
   ]
  },
  {
   "cell_type": "code",
   "execution_count": 48,
   "id": "3a62d3f4",
   "metadata": {},
   "outputs": [
    {
     "data": {
      "text/html": [
       "<div>\n",
       "<style scoped>\n",
       "    .dataframe tbody tr th:only-of-type {\n",
       "        vertical-align: middle;\n",
       "    }\n",
       "\n",
       "    .dataframe tbody tr th {\n",
       "        vertical-align: top;\n",
       "    }\n",
       "\n",
       "    .dataframe thead th {\n",
       "        text-align: right;\n",
       "    }\n",
       "</style>\n",
       "<table border=\"1\" class=\"dataframe\">\n",
       "  <thead>\n",
       "    <tr style=\"text-align: right;\">\n",
       "      <th></th>\n",
       "      <th>mean</th>\n",
       "      <th>median</th>\n",
       "      <th>max</th>\n",
       "      <th>min</th>\n",
       "      <th>std</th>\n",
       "    </tr>\n",
       "    <tr>\n",
       "      <th>district</th>\n",
       "      <th></th>\n",
       "      <th></th>\n",
       "      <th></th>\n",
       "      <th></th>\n",
       "      <th></th>\n",
       "    </tr>\n",
       "  </thead>\n",
       "  <tbody>\n",
       "    <tr>\n",
       "      <th>Центральный административный округ</th>\n",
       "      <td>1191.057547</td>\n",
       "      <td>1000.0</td>\n",
       "      <td>7250.0</td>\n",
       "      <td>0.0</td>\n",
       "      <td>920.014707</td>\n",
       "    </tr>\n",
       "    <tr>\n",
       "      <th>Западный административный округ</th>\n",
       "      <td>1053.225490</td>\n",
       "      <td>1000.0</td>\n",
       "      <td>5250.0</td>\n",
       "      <td>50.0</td>\n",
       "      <td>779.008536</td>\n",
       "    </tr>\n",
       "    <tr>\n",
       "      <th>Северный административный округ</th>\n",
       "      <td>927.959627</td>\n",
       "      <td>650.0</td>\n",
       "      <td>11000.0</td>\n",
       "      <td>130.0</td>\n",
       "      <td>912.609221</td>\n",
       "    </tr>\n",
       "    <tr>\n",
       "      <th>Южный административный округ</th>\n",
       "      <td>834.398089</td>\n",
       "      <td>500.0</td>\n",
       "      <td>35000.0</td>\n",
       "      <td>100.0</td>\n",
       "      <td>2008.640596</td>\n",
       "    </tr>\n",
       "    <tr>\n",
       "      <th>Северо-Западный административный округ</th>\n",
       "      <td>822.222930</td>\n",
       "      <td>700.0</td>\n",
       "      <td>2900.0</td>\n",
       "      <td>120.0</td>\n",
       "      <td>595.055218</td>\n",
       "    </tr>\n",
       "    <tr>\n",
       "      <th>Восточный административный округ</th>\n",
       "      <td>820.626923</td>\n",
       "      <td>575.0</td>\n",
       "      <td>10000.0</td>\n",
       "      <td>50.0</td>\n",
       "      <td>850.903310</td>\n",
       "    </tr>\n",
       "    <tr>\n",
       "      <th>Юго-Западный административный округ</th>\n",
       "      <td>792.561702</td>\n",
       "      <td>600.0</td>\n",
       "      <td>2750.0</td>\n",
       "      <td>100.0</td>\n",
       "      <td>559.173122</td>\n",
       "    </tr>\n",
       "    <tr>\n",
       "      <th>Северо-Восточный административный округ</th>\n",
       "      <td>716.611296</td>\n",
       "      <td>500.0</td>\n",
       "      <td>4500.0</td>\n",
       "      <td>50.0</td>\n",
       "      <td>591.232153</td>\n",
       "    </tr>\n",
       "    <tr>\n",
       "      <th>Юго-Восточный административный округ</th>\n",
       "      <td>654.097938</td>\n",
       "      <td>450.0</td>\n",
       "      <td>3750.0</td>\n",
       "      <td>30.0</td>\n",
       "      <td>566.825663</td>\n",
       "    </tr>\n",
       "  </tbody>\n",
       "</table>\n",
       "</div>"
      ],
      "text/plain": [
       "                                                mean  median      max    min  \\\n",
       "district                                                                       \n",
       "Центральный административный округ       1191.057547  1000.0   7250.0    0.0   \n",
       "Западный административный округ          1053.225490  1000.0   5250.0   50.0   \n",
       "Северный административный округ           927.959627   650.0  11000.0  130.0   \n",
       "Южный административный округ              834.398089   500.0  35000.0  100.0   \n",
       "Северо-Западный административный округ    822.222930   700.0   2900.0  120.0   \n",
       "Восточный административный округ          820.626923   575.0  10000.0   50.0   \n",
       "Юго-Западный административный округ       792.561702   600.0   2750.0  100.0   \n",
       "Северо-Восточный административный округ   716.611296   500.0   4500.0   50.0   \n",
       "Юго-Восточный административный округ      654.097938   450.0   3750.0   30.0   \n",
       "\n",
       "                                                 std  \n",
       "district                                              \n",
       "Центральный административный округ        920.014707  \n",
       "Западный административный округ           779.008536  \n",
       "Северный административный округ           912.609221  \n",
       "Южный административный округ             2008.640596  \n",
       "Северо-Западный административный округ    595.055218  \n",
       "Восточный административный округ          850.903310  \n",
       "Юго-Западный административный округ       559.173122  \n",
       "Северо-Восточный административный округ   591.232153  \n",
       "Юго-Восточный административный округ      566.825663  "
      ]
     },
     "execution_count": 48,
     "metadata": {},
     "output_type": "execute_result"
    }
   ],
   "source": [
    "# Расчитаем параметры среднего чека по каждому району\n",
    "distr_price = merged_df[merged_df['middle_avg_bill'].notna()]\n",
    "distr_price = distr_price[['district', 'middle_avg_bill']]\n",
    "distr_price = distr_price.groupby('district')['middle_avg_bill'].agg(['mean', 'median', 'max', 'min', 'std'])\n",
    "distr_price.sort_values(by='mean', ascending = False)"
   ]
  },
  {
   "cell_type": "code",
   "execution_count": 49,
   "id": "1c48f915",
   "metadata": {},
   "outputs": [
    {
     "data": {
      "image/png": "[encoded data removed]",
      "text/plain": [
       "<Figure size 864x576 with 1 Axes>"
      ]
     },
     "metadata": {
      "needs_background": "light"
     },
     "output_type": "display_data"
    }
   ],
   "source": [
    "# Визуализируем данные по рейтингу\n",
    "distr_price.sort_values(by = 'median').plot(kind='barh',\n",
    "                y=['mean', 'median'],                \n",
    "                rot=0, \n",
    "                legend=True, \n",
    "                title=f'Средний чек по районам Москвы',\n",
    "                figsize=(12, 8))\n",
    "\n",
    "plt.xlabel('Средний чек')\n",
    "plt.ylabel('Название района')\n",
    "plt.grid()\n",
    "\n",
    "plt.show()"
   ]
  },
  {
   "cell_type": "markdown",
   "id": "406d94c8",
   "metadata": {},
   "source": [
    "Как и ожидалось в центре самый большой средний чек — 1191. Это говорит о большем количестве дорогих заведений при равных медианных значениях с западным районом — 1000. Самое дорогое в южном районе со средним чеком — 35000. По графику прослеживается спад среднего чека в зависимости удаления от центра."
   ]
  },
  {
   "cell_type": "markdown",
   "id": "9cef09c6",
   "metadata": {},
   "source": [
    "## Итоговые выводы"
   ]
  },
  {
   "cell_type": "markdown",
   "id": "f68ceea0",
   "metadata": {},
   "source": [
    "Предоставленные данные объеденены в общий датасет `merged_df` с последующей предобработкой данных:\n",
    "- Оптимизирован тип данных столбца `chain`;\n",
    "- Изучены пропуски в данных. Пропуски обнаружились в столбцах `hours`, `seats`, `price`, `avg_bill`, `middle_avg_bill`, `middle_coffee_cup`. Принято решение оставить пропуски в изначальном виде;\n",
    "- Данные проверены на явные и неявные дубликаты. Среди явных обнаружились 3 одинаковых сторки в комбинации `name` / `address` — удалены, неявных дубликатов не обнаружено;\n",
    "- Создан новый столбец `is_24_7` с логической маской, отражающей работает ли заведение круглосуточно или ежедневно.\n",
    "\n",
    "По итогам предобработки было удалено 3 строки, доля составляет 0.0004.\n",
    "\n",
    "---\n",
    "\n",
    "Проведен исследовательский анализ данных по вопросам:\n",
    "- Самыми популярными категориями оказались кафе, кофейни и рестораны, данные по всем категориям п.6.1;\n",
    "- Заведения распологаются во всех районах Москвы, наибольшее количество заведений в центральном районе;\n",
    "- Преобладают несетевые заведения. Наибольшая доля сетевых заведений среди булочных, пиццерий и кофеен;\n",
    "- При анализе посадочных мест обнаружились выбросы, максимальное значение — 1288 мест, за ошибку не приняты. Крупные рестораны с подобным кол-вом посадочных мест вполне допустимы. Наиболее типичное кол-во посадочных мест для каждой категории заведения см. п. 6.4;\n",
    "- Среди категорий сильных различий оценок не наблюдается, все значения около 4. Лидирующая позиция у баров — 4.39;\n",
    "- По итогам анализа самая сильная корреляция рейтинга оказалась с ценовой категорией заведения — 0.22. Произведена проверка корреляции. Разброс среднего рейтинка по категориям незначительный, однако прослеживается повышение среднего рейтинга к более высоким категориям по цене.\n",
    "- Среди 15 популярных сетевых заведений выделяются категории кафе, ресторан, кофейня и быстрое питание.\n",
    "- По удалению от центра виден спад среднего чека. Западная часть Москвы выделяется повышеным средним чеком по отношению к восточной.\n",
    "\n",
    "Ввиду того что заказчики ещё не определились с критериями заведения, сложно дать рекомендации.\n",
    "Самыми простыми для начала заведением может быть кофейня. Среди кофеен больше всего конкурентов, однако много сетевых заведений и большая часть сосредоточена в центре. Предложить клиентам хорошую классику качество которой часто страдает в сетевых заведених будет хорошим вариантом. Выбор размещения сделать в оптимальном районе с наименьшим колличеством конкурентов и средним чеком подходящему к заведению."
   ]
  }
 ],
 "metadata": {
  "ExecuteTimeLog": [
   {
    "duration": 1446,
    "start_time": "2025-04-01T04:10:21.434Z"
   },
   {
    "duration": 9,
    "start_time": "2025-04-01T04:11:03.873Z"
   },
   {
    "duration": 12,
    "start_time": "2025-04-01T04:11:21.520Z"
   },
   {
    "duration": 8,
    "start_time": "2025-04-01T04:11:31.713Z"
   },
   {
    "duration": 8,
    "start_time": "2025-04-01T04:15:43.924Z"
   },
   {
    "duration": 106,
    "start_time": "2025-04-01T04:19:34.009Z"
   },
   {
    "duration": 62,
    "start_time": "2025-04-01T04:19:42.944Z"
   },
   {
    "duration": 9,
    "start_time": "2025-04-01T04:19:51.208Z"
   },
   {
    "duration": 4,
    "start_time": "2025-04-01T04:19:56.959Z"
   },
   {
    "duration": 9,
    "start_time": "2025-04-01T04:20:14.711Z"
   },
   {
    "duration": 8,
    "start_time": "2025-04-01T04:20:27.784Z"
   },
   {
    "duration": 3,
    "start_time": "2025-04-01T04:20:35.359Z"
   },
   {
    "duration": 76,
    "start_time": "2025-04-01T04:21:07.158Z"
   },
   {
    "duration": 3,
    "start_time": "2025-04-01T04:22:14.077Z"
   },
   {
    "duration": 3635,
    "start_time": "2025-04-01T04:23:10.388Z"
   },
   {
    "duration": 2433,
    "start_time": "2025-04-01T04:23:50.715Z"
   },
   {
    "duration": 161,
    "start_time": "2025-04-01T04:24:07.075Z"
   },
   {
    "duration": 3524,
    "start_time": "2025-04-01T04:44:31.636Z"
   },
   {
    "duration": 353,
    "start_time": "2025-04-01T04:44:35.163Z"
   },
   {
    "duration": 16,
    "start_time": "2025-04-01T04:44:35.518Z"
   },
   {
    "duration": 21,
    "start_time": "2025-04-01T04:44:35.535Z"
   },
   {
    "duration": 11,
    "start_time": "2025-04-01T05:07:12.623Z"
   },
   {
    "duration": 9,
    "start_time": "2025-04-01T05:07:15.967Z"
   },
   {
    "duration": 20,
    "start_time": "2025-04-01T05:48:47.769Z"
   },
   {
    "duration": 21,
    "start_time": "2025-04-01T05:49:48.904Z"
   },
   {
    "duration": 19,
    "start_time": "2025-04-01T05:50:10.672Z"
   },
   {
    "duration": 21,
    "start_time": "2025-04-01T05:50:25.399Z"
   },
   {
    "duration": 14,
    "start_time": "2025-04-01T05:53:29.501Z"
   },
   {
    "duration": 4,
    "start_time": "2025-04-01T06:21:59.403Z"
   },
   {
    "duration": 5,
    "start_time": "2025-04-01T06:22:30.355Z"
   },
   {
    "duration": 4,
    "start_time": "2025-04-01T06:22:48.458Z"
   },
   {
    "duration": 5,
    "start_time": "2025-04-01T06:22:49.634Z"
   },
   {
    "duration": 4,
    "start_time": "2025-04-01T06:23:17.530Z"
   },
   {
    "duration": 17,
    "start_time": "2025-04-01T06:31:37.355Z"
   },
   {
    "duration": 18,
    "start_time": "2025-04-01T08:03:17.789Z"
   },
   {
    "duration": 14,
    "start_time": "2025-04-01T08:03:25.355Z"
   },
   {
    "duration": 5,
    "start_time": "2025-04-01T08:04:55.058Z"
   },
   {
    "duration": 4,
    "start_time": "2025-04-01T08:05:03.354Z"
   },
   {
    "duration": 16,
    "start_time": "2025-04-01T08:12:09.208Z"
   },
   {
    "duration": 2909,
    "start_time": "2025-04-01T09:25:22.267Z"
   },
   {
    "duration": 2690,
    "start_time": "2025-04-01T09:26:13.274Z"
   },
   {
    "duration": 13,
    "start_time": "2025-04-01T10:26:56.144Z"
   },
   {
    "duration": 70,
    "start_time": "2025-04-01T10:29:37.997Z"
   },
   {
    "duration": 163,
    "start_time": "2025-04-01T10:30:05.956Z"
   },
   {
    "duration": 70,
    "start_time": "2025-04-01T10:30:35.245Z"
   },
   {
    "duration": 71,
    "start_time": "2025-04-01T10:30:43.140Z"
   },
   {
    "duration": 108,
    "start_time": "2025-04-01T10:39:20.333Z"
   },
   {
    "duration": 3,
    "start_time": "2025-04-01T10:40:42.220Z"
   },
   {
    "duration": 1415,
    "start_time": "2025-04-01T10:41:47.036Z"
   },
   {
    "duration": 6,
    "start_time": "2025-04-01T10:42:18.939Z"
   },
   {
    "duration": 6,
    "start_time": "2025-04-01T10:42:29.459Z"
   },
   {
    "duration": 4,
    "start_time": "2025-04-01T10:42:45.858Z"
   },
   {
    "duration": 3590,
    "start_time": "2025-04-01T10:43:35.238Z"
   },
   {
    "duration": 289,
    "start_time": "2025-04-01T10:43:38.830Z"
   },
   {
    "duration": 16,
    "start_time": "2025-04-01T10:43:39.121Z"
   },
   {
    "duration": 14,
    "start_time": "2025-04-01T10:43:39.139Z"
   },
   {
    "duration": 9,
    "start_time": "2025-04-01T10:43:39.156Z"
   },
   {
    "duration": 11,
    "start_time": "2025-04-01T10:43:39.167Z"
   },
   {
    "duration": 21,
    "start_time": "2025-04-01T10:43:39.180Z"
   },
   {
    "duration": 15,
    "start_time": "2025-04-01T10:43:39.203Z"
   },
   {
    "duration": 6,
    "start_time": "2025-04-01T10:43:39.219Z"
   },
   {
    "duration": 4,
    "start_time": "2025-04-01T10:43:39.257Z"
   },
   {
    "duration": 20,
    "start_time": "2025-04-01T10:43:39.263Z"
   },
   {
    "duration": 81,
    "start_time": "2025-04-01T10:43:39.284Z"
   },
   {
    "duration": 38,
    "start_time": "2025-04-01T10:43:39.367Z"
   },
   {
    "duration": 17,
    "start_time": "2025-04-01T10:43:39.407Z"
   },
   {
    "duration": 3,
    "start_time": "2025-04-01T10:43:39.425Z"
   },
   {
    "duration": 402,
    "start_time": "2025-04-01T10:43:39.429Z"
   },
   {
    "duration": 0,
    "start_time": "2025-04-01T10:43:39.833Z"
   },
   {
    "duration": 3616,
    "start_time": "2025-04-01T10:44:38.280Z"
   },
   {
    "duration": 161,
    "start_time": "2025-04-01T10:44:41.899Z"
   },
   {
    "duration": 17,
    "start_time": "2025-04-01T10:44:42.061Z"
   },
   {
    "duration": 15,
    "start_time": "2025-04-01T10:44:42.079Z"
   },
   {
    "duration": 9,
    "start_time": "2025-04-01T10:44:42.097Z"
   },
   {
    "duration": 11,
    "start_time": "2025-04-01T10:44:42.107Z"
   },
   {
    "duration": 113,
    "start_time": "2025-04-01T10:44:42.120Z"
   },
   {
    "duration": 15,
    "start_time": "2025-04-01T10:44:42.234Z"
   },
   {
    "duration": 135,
    "start_time": "2025-04-01T10:44:42.251Z"
   },
   {
    "duration": 4,
    "start_time": "2025-04-01T10:44:42.388Z"
   },
   {
    "duration": 24,
    "start_time": "2025-04-01T10:44:42.393Z"
   },
   {
    "duration": 18,
    "start_time": "2025-04-01T10:44:42.419Z"
   },
   {
    "duration": 5,
    "start_time": "2025-04-01T10:44:42.439Z"
   },
   {
    "duration": 16,
    "start_time": "2025-04-01T10:44:42.446Z"
   },
   {
    "duration": 2,
    "start_time": "2025-04-01T10:44:42.464Z"
   },
   {
    "duration": 414,
    "start_time": "2025-04-01T10:44:42.468Z"
   },
   {
    "duration": 0,
    "start_time": "2025-04-01T10:44:42.884Z"
   },
   {
    "duration": 3,
    "start_time": "2025-04-01T10:47:11.699Z"
   },
   {
    "duration": 290,
    "start_time": "2025-04-01T10:47:13.043Z"
   },
   {
    "duration": 12,
    "start_time": "2025-04-01T10:55:14.042Z"
   },
   {
    "duration": 10,
    "start_time": "2025-04-01T10:55:44.720Z"
   },
   {
    "duration": 10,
    "start_time": "2025-04-01T10:56:04.944Z"
   },
   {
    "duration": 77,
    "start_time": "2025-04-01T10:59:29.679Z"
   },
   {
    "duration": 316,
    "start_time": "2025-04-01T10:59:31.767Z"
   },
   {
    "duration": 63,
    "start_time": "2025-04-01T10:59:49.910Z"
   },
   {
    "duration": 3,
    "start_time": "2025-04-01T10:59:59.828Z"
   },
   {
    "duration": 5,
    "start_time": "2025-04-01T11:00:01.582Z"
   },
   {
    "duration": 6,
    "start_time": "2025-04-01T11:00:11.244Z"
   },
   {
    "duration": 8,
    "start_time": "2025-04-02T02:35:15.735Z"
   },
   {
    "duration": 4917,
    "start_time": "2025-04-02T02:35:23.169Z"
   },
   {
    "duration": 396,
    "start_time": "2025-04-02T02:35:28.089Z"
   },
   {
    "duration": 18,
    "start_time": "2025-04-02T02:35:28.487Z"
   },
   {
    "duration": 15,
    "start_time": "2025-04-02T02:35:28.507Z"
   },
   {
    "duration": 9,
    "start_time": "2025-04-02T02:35:28.524Z"
   },
   {
    "duration": 20,
    "start_time": "2025-04-02T02:35:28.535Z"
   },
   {
    "duration": 23,
    "start_time": "2025-04-02T02:35:28.556Z"
   },
   {
    "duration": 37,
    "start_time": "2025-04-02T02:35:28.580Z"
   },
   {
    "duration": 5,
    "start_time": "2025-04-02T02:35:28.620Z"
   },
   {
    "duration": 4,
    "start_time": "2025-04-02T02:35:28.626Z"
   },
   {
    "duration": 17,
    "start_time": "2025-04-02T02:35:28.632Z"
   },
   {
    "duration": 55,
    "start_time": "2025-04-02T02:35:28.650Z"
   },
   {
    "duration": 5,
    "start_time": "2025-04-02T02:35:28.706Z"
   },
   {
    "duration": 20,
    "start_time": "2025-04-02T02:35:28.714Z"
   },
   {
    "duration": 4,
    "start_time": "2025-04-02T02:35:28.735Z"
   },
   {
    "duration": 619,
    "start_time": "2025-04-02T02:35:28.740Z"
   },
   {
    "duration": 0,
    "start_time": "2025-04-02T02:35:29.361Z"
   },
   {
    "duration": 317,
    "start_time": "2025-04-02T02:36:18.704Z"
   },
   {
    "duration": 42,
    "start_time": "2025-04-02T02:37:28.087Z"
   },
   {
    "duration": 6,
    "start_time": "2025-04-02T02:37:30.495Z"
   },
   {
    "duration": 5,
    "start_time": "2025-04-02T02:37:39.055Z"
   },
   {
    "duration": 4,
    "start_time": "2025-04-02T02:37:42.543Z"
   },
   {
    "duration": 308,
    "start_time": "2025-04-02T02:38:18.678Z"
   },
   {
    "duration": 3,
    "start_time": "2025-04-02T02:39:07.445Z"
   },
   {
    "duration": 20,
    "start_time": "2025-04-02T02:39:08.574Z"
   },
   {
    "duration": 5,
    "start_time": "2025-04-02T02:40:38.769Z"
   },
   {
    "duration": 35,
    "start_time": "2025-04-02T02:40:39.964Z"
   },
   {
    "duration": 3,
    "start_time": "2025-04-02T02:41:21.458Z"
   },
   {
    "duration": 334,
    "start_time": "2025-04-02T02:41:22.339Z"
   },
   {
    "duration": 351,
    "start_time": "2025-04-02T02:41:30.235Z"
   },
   {
    "duration": 3,
    "start_time": "2025-04-02T02:41:42.514Z"
   },
   {
    "duration": 309,
    "start_time": "2025-04-02T02:41:43.363Z"
   },
   {
    "duration": 93,
    "start_time": "2025-04-02T02:45:50.114Z"
   },
   {
    "duration": 101,
    "start_time": "2025-04-02T02:46:06.229Z"
   },
   {
    "duration": 4,
    "start_time": "2025-04-02T02:46:24.302Z"
   },
   {
    "duration": 7,
    "start_time": "2025-04-02T02:46:26.901Z"
   },
   {
    "duration": 19,
    "start_time": "2025-04-02T02:46:31.366Z"
   },
   {
    "duration": 5,
    "start_time": "2025-04-02T02:46:37.693Z"
   },
   {
    "duration": 3699,
    "start_time": "2025-04-02T02:46:44.316Z"
   },
   {
    "duration": 239,
    "start_time": "2025-04-02T02:46:48.017Z"
   },
   {
    "duration": 17,
    "start_time": "2025-04-02T02:46:48.260Z"
   },
   {
    "duration": 15,
    "start_time": "2025-04-02T02:46:48.279Z"
   },
   {
    "duration": 10,
    "start_time": "2025-04-02T02:46:48.296Z"
   },
   {
    "duration": 12,
    "start_time": "2025-04-02T02:46:48.308Z"
   },
   {
    "duration": 24,
    "start_time": "2025-04-02T02:46:48.322Z"
   },
   {
    "duration": 15,
    "start_time": "2025-04-02T02:46:48.348Z"
   },
   {
    "duration": 5,
    "start_time": "2025-04-02T02:46:48.364Z"
   },
   {
    "duration": 35,
    "start_time": "2025-04-02T02:46:48.370Z"
   },
   {
    "duration": 22,
    "start_time": "2025-04-02T02:46:48.407Z"
   },
   {
    "duration": 20,
    "start_time": "2025-04-02T02:46:48.431Z"
   },
   {
    "duration": 4,
    "start_time": "2025-04-02T02:46:48.454Z"
   },
   {
    "duration": 18,
    "start_time": "2025-04-02T02:46:48.460Z"
   },
   {
    "duration": 4,
    "start_time": "2025-04-02T02:46:48.505Z"
   },
   {
    "duration": 8,
    "start_time": "2025-04-02T02:46:48.510Z"
   },
   {
    "duration": 5,
    "start_time": "2025-04-02T02:46:48.520Z"
   },
   {
    "duration": 452,
    "start_time": "2025-04-02T02:50:55.732Z"
   },
   {
    "duration": 7,
    "start_time": "2025-04-02T02:51:05.376Z"
   },
   {
    "duration": 15,
    "start_time": "2025-04-02T02:54:35.448Z"
   },
   {
    "duration": 36,
    "start_time": "2025-04-02T03:34:08.197Z"
   },
   {
    "duration": 9,
    "start_time": "2025-04-02T03:34:25.765Z"
   },
   {
    "duration": 37,
    "start_time": "2025-04-02T03:34:47.173Z"
   },
   {
    "duration": 11,
    "start_time": "2025-04-02T03:34:56.972Z"
   },
   {
    "duration": 12,
    "start_time": "2025-04-02T03:35:03.806Z"
   },
   {
    "duration": 16,
    "start_time": "2025-04-02T03:36:02.807Z"
   },
   {
    "duration": 11,
    "start_time": "2025-04-02T03:37:02.510Z"
   },
   {
    "duration": 7,
    "start_time": "2025-04-02T03:37:06.874Z"
   },
   {
    "duration": 207,
    "start_time": "2025-04-02T03:45:35.303Z"
   },
   {
    "duration": 157,
    "start_time": "2025-04-02T03:45:46.825Z"
   },
   {
    "duration": 165,
    "start_time": "2025-04-02T03:45:56.673Z"
   },
   {
    "duration": 166,
    "start_time": "2025-04-02T03:46:33.617Z"
   },
   {
    "duration": 66,
    "start_time": "2025-04-02T03:51:03.880Z"
   },
   {
    "duration": 13,
    "start_time": "2025-04-02T03:56:43.065Z"
   },
   {
    "duration": 10,
    "start_time": "2025-04-02T03:57:00.814Z"
   },
   {
    "duration": 219,
    "start_time": "2025-04-02T03:57:53.520Z"
   },
   {
    "duration": 213,
    "start_time": "2025-04-02T03:58:08.261Z"
   },
   {
    "duration": 207,
    "start_time": "2025-04-02T03:58:23.796Z"
   },
   {
    "duration": 371,
    "start_time": "2025-04-02T04:00:41.644Z"
   },
   {
    "duration": 197,
    "start_time": "2025-04-02T04:00:45.978Z"
   },
   {
    "duration": 193,
    "start_time": "2025-04-02T04:00:54.610Z"
   },
   {
    "duration": 205,
    "start_time": "2025-04-02T04:01:04.537Z"
   },
   {
    "duration": 163,
    "start_time": "2025-04-02T04:01:17.585Z"
   },
   {
    "duration": 201,
    "start_time": "2025-04-02T04:01:21.849Z"
   },
   {
    "duration": 161,
    "start_time": "2025-04-02T04:01:25.985Z"
   },
   {
    "duration": 78,
    "start_time": "2025-04-02T04:02:15.097Z"
   },
   {
    "duration": 75,
    "start_time": "2025-04-02T04:07:31.856Z"
   },
   {
    "duration": 16,
    "start_time": "2025-04-02T04:10:33.281Z"
   },
   {
    "duration": 9,
    "start_time": "2025-04-02T04:10:48.344Z"
   },
   {
    "duration": 191,
    "start_time": "2025-04-02T04:12:08.719Z"
   },
   {
    "duration": 95,
    "start_time": "2025-04-02T04:13:14.726Z"
   },
   {
    "duration": 32,
    "start_time": "2025-04-02T04:37:05.473Z"
   },
   {
    "duration": 11,
    "start_time": "2025-04-02T04:37:17.228Z"
   },
   {
    "duration": 139,
    "start_time": "2025-04-02T04:38:28.541Z"
   },
   {
    "duration": 111,
    "start_time": "2025-04-02T04:40:12.930Z"
   },
   {
    "duration": 14,
    "start_time": "2025-04-02T04:42:37.032Z"
   },
   {
    "duration": 11,
    "start_time": "2025-04-02T04:42:49.112Z"
   },
   {
    "duration": 11,
    "start_time": "2025-04-02T04:43:27.312Z"
   },
   {
    "duration": 9,
    "start_time": "2025-04-02T04:44:56.430Z"
   },
   {
    "duration": 231,
    "start_time": "2025-04-02T04:45:08.141Z"
   },
   {
    "duration": 351,
    "start_time": "2025-04-02T04:45:13.725Z"
   },
   {
    "duration": 238,
    "start_time": "2025-04-02T04:45:28.725Z"
   },
   {
    "duration": 235,
    "start_time": "2025-04-02T04:46:45.228Z"
   },
   {
    "duration": 15,
    "start_time": "2025-04-02T04:47:30.364Z"
   },
   {
    "duration": 177,
    "start_time": "2025-04-02T04:47:45.731Z"
   },
   {
    "duration": 186,
    "start_time": "2025-04-02T04:47:52.010Z"
   },
   {
    "duration": 18,
    "start_time": "2025-04-02T04:48:52.986Z"
   },
   {
    "duration": 20,
    "start_time": "2025-04-02T04:49:06.098Z"
   },
   {
    "duration": 12,
    "start_time": "2025-04-02T04:49:20.722Z"
   },
   {
    "duration": 19,
    "start_time": "2025-04-02T04:50:50.657Z"
   },
   {
    "duration": 174,
    "start_time": "2025-04-02T04:50:59.216Z"
   },
   {
    "duration": 183,
    "start_time": "2025-04-02T04:51:08.695Z"
   },
   {
    "duration": 192,
    "start_time": "2025-04-02T04:51:21.119Z"
   },
   {
    "duration": 279,
    "start_time": "2025-04-02T04:51:30.864Z"
   },
   {
    "duration": 206,
    "start_time": "2025-04-02T04:51:44.462Z"
   },
   {
    "duration": 210,
    "start_time": "2025-04-02T04:52:19.831Z"
   },
   {
    "duration": 218,
    "start_time": "2025-04-02T04:52:58.510Z"
   },
   {
    "duration": 57,
    "start_time": "2025-04-02T04:53:50.893Z"
   },
   {
    "duration": 7,
    "start_time": "2025-04-02T04:55:40.275Z"
   },
   {
    "duration": 7,
    "start_time": "2025-04-02T04:56:57.881Z"
   },
   {
    "duration": 16,
    "start_time": "2025-04-02T04:57:31.056Z"
   },
   {
    "duration": 72,
    "start_time": "2025-04-02T04:57:45.411Z"
   },
   {
    "duration": 13,
    "start_time": "2025-04-02T04:58:29.077Z"
   },
   {
    "duration": 15,
    "start_time": "2025-04-02T04:59:21.558Z"
   },
   {
    "duration": 18,
    "start_time": "2025-04-02T06:04:51.206Z"
   },
   {
    "duration": 17,
    "start_time": "2025-04-02T06:06:33.133Z"
   },
   {
    "duration": 371,
    "start_time": "2025-04-02T06:08:04.569Z"
   },
   {
    "duration": 296,
    "start_time": "2025-04-02T06:09:13.785Z"
   },
   {
    "duration": 335,
    "start_time": "2025-04-02T06:10:11.377Z"
   },
   {
    "duration": 338,
    "start_time": "2025-04-02T06:11:23.431Z"
   },
   {
    "duration": 362,
    "start_time": "2025-04-02T06:11:57.782Z"
   },
   {
    "duration": 343,
    "start_time": "2025-04-02T06:12:08.856Z"
   },
   {
    "duration": 336,
    "start_time": "2025-04-02T06:12:13.195Z"
   },
   {
    "duration": 343,
    "start_time": "2025-04-02T06:12:16.176Z"
   },
   {
    "duration": 377,
    "start_time": "2025-04-02T06:12:50.935Z"
   },
   {
    "duration": 529,
    "start_time": "2025-04-02T06:13:11.664Z"
   },
   {
    "duration": 391,
    "start_time": "2025-04-02T06:13:17.162Z"
   },
   {
    "duration": 20,
    "start_time": "2025-04-02T06:13:50.821Z"
   },
   {
    "duration": 17,
    "start_time": "2025-04-02T06:13:57.025Z"
   },
   {
    "duration": 398,
    "start_time": "2025-04-02T06:14:12.199Z"
   },
   {
    "duration": 355,
    "start_time": "2025-04-02T06:14:21.713Z"
   },
   {
    "duration": 20,
    "start_time": "2025-04-02T06:14:26.441Z"
   },
   {
    "duration": 23,
    "start_time": "2025-04-02T06:14:39.036Z"
   },
   {
    "duration": 361,
    "start_time": "2025-04-02T06:15:01.095Z"
   },
   {
    "duration": 37,
    "start_time": "2025-04-02T06:16:55.076Z"
   },
   {
    "duration": 25,
    "start_time": "2025-04-02T06:17:01.566Z"
   },
   {
    "duration": 70,
    "start_time": "2025-04-02T06:17:14.032Z"
   },
   {
    "duration": 20,
    "start_time": "2025-04-02T06:17:21.301Z"
   },
   {
    "duration": 21,
    "start_time": "2025-04-02T06:19:52.904Z"
   },
   {
    "duration": 20,
    "start_time": "2025-04-02T06:20:56.287Z"
   },
   {
    "duration": 18,
    "start_time": "2025-04-02T06:21:21.925Z"
   },
   {
    "duration": 1487,
    "start_time": "2025-04-02T06:21:29.889Z"
   },
   {
    "duration": 1419,
    "start_time": "2025-04-02T06:21:59.949Z"
   },
   {
    "duration": 17,
    "start_time": "2025-04-02T06:22:42.854Z"
   },
   {
    "duration": 21,
    "start_time": "2025-04-02T06:24:26.221Z"
   },
   {
    "duration": 24,
    "start_time": "2025-04-02T06:24:34.339Z"
   },
   {
    "duration": 15,
    "start_time": "2025-04-02T06:24:51.923Z"
   },
   {
    "duration": 69,
    "start_time": "2025-04-02T06:26:57.594Z"
   },
   {
    "duration": 12,
    "start_time": "2025-04-02T06:27:08.615Z"
   },
   {
    "duration": 14,
    "start_time": "2025-04-02T06:27:22.028Z"
   },
   {
    "duration": 16,
    "start_time": "2025-04-02T06:29:26.798Z"
   },
   {
    "duration": 7,
    "start_time": "2025-04-02T06:30:46.636Z"
   },
   {
    "duration": 6,
    "start_time": "2025-04-02T06:30:58.092Z"
   },
   {
    "duration": 6,
    "start_time": "2025-04-02T06:31:03.292Z"
   },
   {
    "duration": 28,
    "start_time": "2025-04-02T06:33:00.429Z"
   },
   {
    "duration": 1852,
    "start_time": "2025-04-02T06:33:22.825Z"
   },
   {
    "duration": 6,
    "start_time": "2025-04-02T06:34:42.396Z"
   },
   {
    "duration": 17,
    "start_time": "2025-04-02T06:36:58.716Z"
   },
   {
    "duration": 24,
    "start_time": "2025-04-02T06:44:59.309Z"
   },
   {
    "duration": 3748,
    "start_time": "2025-04-02T08:20:38.689Z"
   },
   {
    "duration": 160,
    "start_time": "2025-04-02T08:20:42.440Z"
   },
   {
    "duration": 15,
    "start_time": "2025-04-02T08:20:42.602Z"
   },
   {
    "duration": 26,
    "start_time": "2025-04-02T08:20:42.619Z"
   },
   {
    "duration": 14,
    "start_time": "2025-04-02T08:20:42.647Z"
   },
   {
    "duration": 11,
    "start_time": "2025-04-02T08:20:42.662Z"
   },
   {
    "duration": 32,
    "start_time": "2025-04-02T08:20:42.674Z"
   },
   {
    "duration": 15,
    "start_time": "2025-04-02T08:20:42.707Z"
   },
   {
    "duration": 8,
    "start_time": "2025-04-02T08:20:42.723Z"
   },
   {
    "duration": 12,
    "start_time": "2025-04-02T08:20:42.733Z"
   },
   {
    "duration": 28,
    "start_time": "2025-04-02T08:20:42.747Z"
   },
   {
    "duration": 28,
    "start_time": "2025-04-02T08:20:42.776Z"
   },
   {
    "duration": 4,
    "start_time": "2025-04-02T08:20:42.806Z"
   },
   {
    "duration": 33,
    "start_time": "2025-04-02T08:20:42.813Z"
   },
   {
    "duration": 3,
    "start_time": "2025-04-02T08:20:42.848Z"
   },
   {
    "duration": 7,
    "start_time": "2025-04-02T08:20:42.852Z"
   },
   {
    "duration": 11,
    "start_time": "2025-04-02T08:20:42.861Z"
   },
   {
    "duration": 7,
    "start_time": "2025-04-02T08:20:42.874Z"
   },
   {
    "duration": 188,
    "start_time": "2025-04-02T08:20:42.883Z"
   },
   {
    "duration": 7,
    "start_time": "2025-04-02T08:20:43.073Z"
   },
   {
    "duration": 223,
    "start_time": "2025-04-02T08:20:43.081Z"
   },
   {
    "duration": 11,
    "start_time": "2025-04-02T08:20:43.305Z"
   },
   {
    "duration": 187,
    "start_time": "2025-04-02T08:20:43.318Z"
   },
   {
    "duration": 7,
    "start_time": "2025-04-02T08:20:43.507Z"
   },
   {
    "duration": 139,
    "start_time": "2025-04-02T08:20:43.516Z"
   },
   {
    "duration": 229,
    "start_time": "2025-04-02T08:20:43.656Z"
   },
   {
    "duration": 22,
    "start_time": "2025-04-02T08:20:43.886Z"
   },
   {
    "duration": 173,
    "start_time": "2025-04-02T08:32:12.267Z"
   },
   {
    "duration": 176,
    "start_time": "2025-04-02T08:32:20.314Z"
   },
   {
    "duration": 246,
    "start_time": "2025-04-02T08:32:34.211Z"
   },
   {
    "duration": 200,
    "start_time": "2025-04-02T08:32:46.754Z"
   },
   {
    "duration": 194,
    "start_time": "2025-04-02T08:34:34.376Z"
   },
   {
    "duration": 219,
    "start_time": "2025-04-02T08:34:45.160Z"
   },
   {
    "duration": 212,
    "start_time": "2025-04-02T08:34:49.833Z"
   },
   {
    "duration": 216,
    "start_time": "2025-04-02T08:34:53.441Z"
   },
   {
    "duration": 107,
    "start_time": "2025-04-02T08:36:52.085Z"
   },
   {
    "duration": 112,
    "start_time": "2025-04-02T08:36:52.269Z"
   },
   {
    "duration": 113,
    "start_time": "2025-04-02T08:36:59.781Z"
   },
   {
    "duration": 196,
    "start_time": "2025-04-02T08:37:04.598Z"
   },
   {
    "duration": 107,
    "start_time": "2025-04-02T08:48:00.555Z"
   },
   {
    "duration": 4,
    "start_time": "2025-04-02T08:49:27.345Z"
   },
   {
    "duration": 4,
    "start_time": "2025-04-02T08:49:36.217Z"
   },
   {
    "duration": 13,
    "start_time": "2025-04-02T08:49:42.908Z"
   },
   {
    "duration": 64,
    "start_time": "2025-04-02T08:56:08.698Z"
   },
   {
    "duration": 11,
    "start_time": "2025-04-02T08:56:12.898Z"
   },
   {
    "duration": 13,
    "start_time": "2025-04-02T08:58:52.480Z"
   },
   {
    "duration": 8,
    "start_time": "2025-04-02T09:02:11.683Z"
   },
   {
    "duration": 11,
    "start_time": "2025-04-02T09:06:33.016Z"
   },
   {
    "duration": 8,
    "start_time": "2025-04-02T09:06:37.175Z"
   },
   {
    "duration": 7,
    "start_time": "2025-04-02T10:21:38.885Z"
   },
   {
    "duration": 161,
    "start_time": "2025-04-02T10:23:50.570Z"
   },
   {
    "duration": 160,
    "start_time": "2025-04-02T10:24:12.162Z"
   },
   {
    "duration": 158,
    "start_time": "2025-04-02T10:24:28.689Z"
   },
   {
    "duration": 161,
    "start_time": "2025-04-02T10:25:54.536Z"
   },
   {
    "duration": 228,
    "start_time": "2025-04-02T10:28:48.021Z"
   },
   {
    "duration": 25,
    "start_time": "2025-04-02T10:35:31.854Z"
   },
   {
    "duration": 10,
    "start_time": "2025-04-02T10:47:03.418Z"
   },
   {
    "duration": 188,
    "start_time": "2025-04-02T10:47:13.737Z"
   },
   {
    "duration": 20,
    "start_time": "2025-04-02T10:50:32.127Z"
   },
   {
    "duration": 268,
    "start_time": "2025-04-02T10:50:48.918Z"
   },
   {
    "duration": 308,
    "start_time": "2025-04-02T10:52:36.461Z"
   },
   {
    "duration": 65,
    "start_time": "2025-04-02T10:53:40.020Z"
   },
   {
    "duration": 3712,
    "start_time": "2025-04-02T10:55:41.073Z"
   },
   {
    "duration": 231,
    "start_time": "2025-04-02T10:55:44.787Z"
   },
   {
    "duration": 16,
    "start_time": "2025-04-02T10:55:45.020Z"
   },
   {
    "duration": 29,
    "start_time": "2025-04-02T10:55:45.037Z"
   },
   {
    "duration": 40,
    "start_time": "2025-04-02T10:55:45.068Z"
   },
   {
    "duration": 55,
    "start_time": "2025-04-02T10:55:45.110Z"
   },
   {
    "duration": 53,
    "start_time": "2025-04-02T10:55:45.167Z"
   },
   {
    "duration": 15,
    "start_time": "2025-04-02T10:55:45.221Z"
   },
   {
    "duration": 9,
    "start_time": "2025-04-02T10:55:45.238Z"
   },
   {
    "duration": 22,
    "start_time": "2025-04-02T10:55:45.248Z"
   },
   {
    "duration": 66,
    "start_time": "2025-04-02T10:55:45.271Z"
   },
   {
    "duration": 40,
    "start_time": "2025-04-02T10:55:45.339Z"
   },
   {
    "duration": 25,
    "start_time": "2025-04-02T10:55:45.381Z"
   },
   {
    "duration": 47,
    "start_time": "2025-04-02T10:55:45.409Z"
   },
   {
    "duration": 3,
    "start_time": "2025-04-02T10:55:45.458Z"
   },
   {
    "duration": 33,
    "start_time": "2025-04-02T10:55:45.463Z"
   },
   {
    "duration": 22,
    "start_time": "2025-04-02T10:55:45.498Z"
   },
   {
    "duration": 28,
    "start_time": "2025-04-02T10:55:45.522Z"
   },
   {
    "duration": 203,
    "start_time": "2025-04-02T10:55:45.552Z"
   },
   {
    "duration": 7,
    "start_time": "2025-04-02T10:55:45.757Z"
   },
   {
    "duration": 282,
    "start_time": "2025-04-02T10:55:45.766Z"
   },
   {
    "duration": 10,
    "start_time": "2025-04-02T10:55:46.050Z"
   },
   {
    "duration": 198,
    "start_time": "2025-04-02T10:55:46.062Z"
   },
   {
    "duration": 6,
    "start_time": "2025-04-02T10:55:46.262Z"
   },
   {
    "duration": 147,
    "start_time": "2025-04-02T10:55:46.270Z"
   },
   {
    "duration": 238,
    "start_time": "2025-04-02T10:55:46.419Z"
   },
   {
    "duration": 8,
    "start_time": "2025-04-02T10:55:46.659Z"
   },
   {
    "duration": 244,
    "start_time": "2025-04-02T10:55:46.669Z"
   },
   {
    "duration": 213,
    "start_time": "2025-04-02T10:55:46.915Z"
   },
   {
    "duration": 7,
    "start_time": "2025-04-02T10:55:47.130Z"
   },
   {
    "duration": 33,
    "start_time": "2025-04-02T10:55:47.138Z"
   },
   {
    "duration": 184,
    "start_time": "2025-04-02T10:55:47.173Z"
   },
   {
    "duration": 223,
    "start_time": "2025-04-02T10:55:47.359Z"
   },
   {
    "duration": 370,
    "start_time": "2025-04-02T10:55:47.585Z"
   },
   {
    "duration": 224,
    "start_time": "2025-04-02T10:59:50.585Z"
   },
   {
    "duration": 132,
    "start_time": "2025-04-02T11:02:14.023Z"
   },
   {
    "duration": 9,
    "start_time": "2025-04-02T11:07:08.090Z"
   },
   {
    "duration": 8,
    "start_time": "2025-04-02T11:07:37.017Z"
   },
   {
    "duration": 9,
    "start_time": "2025-04-02T11:07:38.000Z"
   },
   {
    "duration": 7,
    "start_time": "2025-04-02T11:19:17.743Z"
   },
   {
    "duration": 7,
    "start_time": "2025-04-02T11:20:08.909Z"
   },
   {
    "duration": 138,
    "start_time": "2025-04-02T11:20:55.540Z"
   },
   {
    "duration": 124,
    "start_time": "2025-04-02T11:21:01.340Z"
   },
   {
    "duration": 129,
    "start_time": "2025-04-02T11:21:30.292Z"
   },
   {
    "duration": 125,
    "start_time": "2025-04-02T11:21:43.787Z"
   },
   {
    "duration": 52,
    "start_time": "2025-04-03T03:34:59.558Z"
   },
   {
    "duration": 6,
    "start_time": "2025-04-03T03:35:30.725Z"
   },
   {
    "duration": 5392,
    "start_time": "2025-04-03T03:36:04.734Z"
   },
   {
    "duration": 155,
    "start_time": "2025-04-03T03:36:10.128Z"
   },
   {
    "duration": 19,
    "start_time": "2025-04-03T03:36:10.285Z"
   },
   {
    "duration": 18,
    "start_time": "2025-04-03T03:36:10.306Z"
   },
   {
    "duration": 11,
    "start_time": "2025-04-03T03:36:10.327Z"
   },
   {
    "duration": 19,
    "start_time": "2025-04-03T03:36:10.339Z"
   },
   {
    "duration": 45,
    "start_time": "2025-04-03T03:36:10.360Z"
   },
   {
    "duration": 19,
    "start_time": "2025-04-03T03:36:10.407Z"
   },
   {
    "duration": 18,
    "start_time": "2025-04-03T03:36:10.428Z"
   },
   {
    "duration": 27,
    "start_time": "2025-04-03T03:36:10.448Z"
   },
   {
    "duration": 26,
    "start_time": "2025-04-03T03:36:10.477Z"
   },
   {
    "duration": 62,
    "start_time": "2025-04-03T03:36:10.505Z"
   },
   {
    "duration": 21,
    "start_time": "2025-04-03T03:36:10.569Z"
   },
   {
    "duration": 38,
    "start_time": "2025-04-03T03:36:10.593Z"
   },
   {
    "duration": 7,
    "start_time": "2025-04-03T03:36:10.633Z"
   },
   {
    "duration": 60,
    "start_time": "2025-04-03T03:36:10.642Z"
   },
   {
    "duration": 68,
    "start_time": "2025-04-03T03:36:10.704Z"
   },
   {
    "duration": 25,
    "start_time": "2025-04-03T03:36:10.774Z"
   },
   {
    "duration": 220,
    "start_time": "2025-04-03T03:36:10.801Z"
   },
   {
    "duration": 8,
    "start_time": "2025-04-03T03:36:11.022Z"
   },
   {
    "duration": 231,
    "start_time": "2025-04-03T03:36:11.032Z"
   },
   {
    "duration": 10,
    "start_time": "2025-04-03T03:36:11.265Z"
   },
   {
    "duration": 203,
    "start_time": "2025-04-03T03:36:11.277Z"
   },
   {
    "duration": 7,
    "start_time": "2025-04-03T03:36:11.481Z"
   },
   {
    "duration": 148,
    "start_time": "2025-04-03T03:36:11.490Z"
   },
   {
    "duration": 250,
    "start_time": "2025-04-03T03:36:11.639Z"
   },
   {
    "duration": 18,
    "start_time": "2025-04-03T03:36:11.890Z"
   },
   {
    "duration": 269,
    "start_time": "2025-04-03T03:36:11.910Z"
   },
   {
    "duration": 217,
    "start_time": "2025-04-03T03:36:12.181Z"
   },
   {
    "duration": 7,
    "start_time": "2025-04-03T03:36:12.406Z"
   },
   {
    "duration": 40,
    "start_time": "2025-04-03T03:36:12.415Z"
   },
   {
    "duration": 173,
    "start_time": "2025-04-03T03:36:12.457Z"
   },
   {
    "duration": 217,
    "start_time": "2025-04-03T03:36:12.632Z"
   },
   {
    "duration": 409,
    "start_time": "2025-04-03T03:36:12.850Z"
   },
   {
    "duration": 8,
    "start_time": "2025-04-03T03:36:13.261Z"
   },
   {
    "duration": 177,
    "start_time": "2025-04-03T03:36:13.271Z"
   },
   {
    "duration": 12,
    "start_time": "2025-04-03T03:36:13.450Z"
   },
   {
    "duration": 14,
    "start_time": "2025-04-03T03:38:27.124Z"
   },
   {
    "duration": 20,
    "start_time": "2025-04-03T03:38:36.027Z"
   },
   {
    "duration": 13,
    "start_time": "2025-04-03T03:38:49.635Z"
   },
   {
    "duration": 119,
    "start_time": "2025-04-03T03:51:10.865Z"
   },
   {
    "duration": 19,
    "start_time": "2025-04-03T03:54:27.238Z"
   },
   {
    "duration": 23,
    "start_time": "2025-04-03T03:54:53.077Z"
   },
   {
    "duration": 17,
    "start_time": "2025-04-03T03:55:06.814Z"
   },
   {
    "duration": 19,
    "start_time": "2025-04-03T03:55:17.749Z"
   },
   {
    "duration": 24,
    "start_time": "2025-04-03T03:56:23.947Z"
   },
   {
    "duration": 26,
    "start_time": "2025-04-03T03:56:44.947Z"
   },
   {
    "duration": 22,
    "start_time": "2025-04-03T03:57:02.948Z"
   },
   {
    "duration": 19,
    "start_time": "2025-04-03T03:58:38.977Z"
   },
   {
    "duration": 56,
    "start_time": "2025-04-03T04:05:19.022Z"
   },
   {
    "duration": 26,
    "start_time": "2025-04-03T04:05:25.995Z"
   },
   {
    "duration": 20,
    "start_time": "2025-04-03T04:05:40.476Z"
   },
   {
    "duration": 19,
    "start_time": "2025-04-03T04:05:57.618Z"
   },
   {
    "duration": 12,
    "start_time": "2025-04-03T04:07:36.434Z"
   },
   {
    "duration": 84,
    "start_time": "2025-04-03T04:07:44.369Z"
   },
   {
    "duration": 24,
    "start_time": "2025-04-03T04:07:47.697Z"
   },
   {
    "duration": 19,
    "start_time": "2025-04-03T04:08:26.200Z"
   },
   {
    "duration": 240,
    "start_time": "2025-04-03T04:09:10.584Z"
   },
   {
    "duration": 259,
    "start_time": "2025-04-03T04:09:18.207Z"
   },
   {
    "duration": 312,
    "start_time": "2025-04-03T04:09:31.696Z"
   },
   {
    "duration": 249,
    "start_time": "2025-04-03T04:10:15.198Z"
   },
   {
    "duration": 249,
    "start_time": "2025-04-03T04:12:05.013Z"
   },
   {
    "duration": 1176,
    "start_time": "2025-04-03T04:16:34.938Z"
   },
   {
    "duration": 1164,
    "start_time": "2025-04-03T04:16:57.409Z"
   },
   {
    "duration": 1216,
    "start_time": "2025-04-03T04:17:26.177Z"
   },
   {
    "duration": 3874,
    "start_time": "2025-04-03T04:19:03.545Z"
   },
   {
    "duration": 157,
    "start_time": "2025-04-03T04:19:07.422Z"
   },
   {
    "duration": 17,
    "start_time": "2025-04-03T04:19:07.581Z"
   },
   {
    "duration": 34,
    "start_time": "2025-04-03T04:19:07.600Z"
   },
   {
    "duration": 10,
    "start_time": "2025-04-03T04:19:07.636Z"
   },
   {
    "duration": 16,
    "start_time": "2025-04-03T04:19:07.648Z"
   },
   {
    "duration": 24,
    "start_time": "2025-04-03T04:19:07.666Z"
   },
   {
    "duration": 20,
    "start_time": "2025-04-03T04:19:07.691Z"
   },
   {
    "duration": 13,
    "start_time": "2025-04-03T04:19:07.713Z"
   },
   {
    "duration": 22,
    "start_time": "2025-04-03T04:19:07.727Z"
   },
   {
    "duration": 136,
    "start_time": "2025-04-03T04:19:07.751Z"
   },
   {
    "duration": 123,
    "start_time": "2025-04-03T04:19:07.888Z"
   },
   {
    "duration": 4,
    "start_time": "2025-04-03T04:19:08.013Z"
   },
   {
    "duration": 29,
    "start_time": "2025-04-03T04:19:08.021Z"
   },
   {
    "duration": 4,
    "start_time": "2025-04-03T04:19:08.051Z"
   },
   {
    "duration": 19,
    "start_time": "2025-04-03T04:19:08.056Z"
   },
   {
    "duration": 19,
    "start_time": "2025-04-03T04:19:08.077Z"
   },
   {
    "duration": 11,
    "start_time": "2025-04-03T04:19:08.098Z"
   },
   {
    "duration": 205,
    "start_time": "2025-04-03T04:19:08.111Z"
   },
   {
    "duration": 8,
    "start_time": "2025-04-03T04:19:08.318Z"
   },
   {
    "duration": 231,
    "start_time": "2025-04-03T04:19:08.327Z"
   },
   {
    "duration": 10,
    "start_time": "2025-04-03T04:19:08.560Z"
   },
   {
    "duration": 212,
    "start_time": "2025-04-03T04:19:08.571Z"
   },
   {
    "duration": 21,
    "start_time": "2025-04-03T04:19:08.785Z"
   },
   {
    "duration": 135,
    "start_time": "2025-04-03T04:19:08.807Z"
   },
   {
    "duration": 244,
    "start_time": "2025-04-03T04:19:08.944Z"
   },
   {
    "duration": 17,
    "start_time": "2025-04-03T04:19:09.189Z"
   },
   {
    "duration": 259,
    "start_time": "2025-04-03T04:19:09.208Z"
   },
   {
    "duration": 227,
    "start_time": "2025-04-03T04:19:09.469Z"
   },
   {
    "duration": 12,
    "start_time": "2025-04-03T04:19:09.698Z"
   },
   {
    "duration": 7,
    "start_time": "2025-04-03T04:19:09.711Z"
   },
   {
    "duration": 181,
    "start_time": "2025-04-03T04:19:09.720Z"
   },
   {
    "duration": 217,
    "start_time": "2025-04-03T04:19:09.905Z"
   },
   {
    "duration": 376,
    "start_time": "2025-04-03T04:19:10.124Z"
   },
   {
    "duration": 8,
    "start_time": "2025-04-03T04:19:10.505Z"
   },
   {
    "duration": 144,
    "start_time": "2025-04-03T04:19:10.514Z"
   },
   {
    "duration": 129,
    "start_time": "2025-04-03T04:19:10.659Z"
   },
   {
    "duration": 0,
    "start_time": "2025-04-03T04:19:10.790Z"
   },
   {
    "duration": 18,
    "start_time": "2025-04-03T04:19:35.638Z"
   },
   {
    "duration": 19,
    "start_time": "2025-04-03T04:19:48.822Z"
   },
   {
    "duration": 1276,
    "start_time": "2025-04-03T04:21:00.157Z"
   },
   {
    "duration": 16,
    "start_time": "2025-04-03T04:22:26.061Z"
   },
   {
    "duration": 1113,
    "start_time": "2025-04-03T04:22:37.948Z"
   },
   {
    "duration": 1152,
    "start_time": "2025-04-03T04:23:03.212Z"
   },
   {
    "duration": 1200,
    "start_time": "2025-04-03T04:23:14.931Z"
   },
   {
    "duration": 1123,
    "start_time": "2025-04-03T04:27:40.935Z"
   },
   {
    "duration": 3844,
    "start_time": "2025-04-03T04:28:17.232Z"
   },
   {
    "duration": 155,
    "start_time": "2025-04-03T04:28:21.079Z"
   },
   {
    "duration": 17,
    "start_time": "2025-04-03T04:28:21.236Z"
   },
   {
    "duration": 14,
    "start_time": "2025-04-03T04:28:21.254Z"
   },
   {
    "duration": 17,
    "start_time": "2025-04-03T04:28:21.271Z"
   },
   {
    "duration": 32,
    "start_time": "2025-04-03T04:28:21.289Z"
   },
   {
    "duration": 23,
    "start_time": "2025-04-03T04:28:21.322Z"
   },
   {
    "duration": 30,
    "start_time": "2025-04-03T04:28:21.347Z"
   },
   {
    "duration": 9,
    "start_time": "2025-04-03T04:28:21.378Z"
   },
   {
    "duration": 13,
    "start_time": "2025-04-03T04:28:21.389Z"
   },
   {
    "duration": 18,
    "start_time": "2025-04-03T04:28:21.403Z"
   },
   {
    "duration": 17,
    "start_time": "2025-04-03T04:28:21.423Z"
   },
   {
    "duration": 4,
    "start_time": "2025-04-03T04:28:21.442Z"
   },
   {
    "duration": 24,
    "start_time": "2025-04-03T04:28:21.449Z"
   },
   {
    "duration": 4,
    "start_time": "2025-04-03T04:28:21.475Z"
   },
   {
    "duration": 10,
    "start_time": "2025-04-03T04:28:21.506Z"
   },
   {
    "duration": 16,
    "start_time": "2025-04-03T04:28:21.517Z"
   },
   {
    "duration": 8,
    "start_time": "2025-04-03T04:28:21.535Z"
   },
   {
    "duration": 208,
    "start_time": "2025-04-03T04:28:21.544Z"
   },
   {
    "duration": 8,
    "start_time": "2025-04-03T04:28:21.753Z"
   },
   {
    "duration": 227,
    "start_time": "2025-04-03T04:28:21.763Z"
   },
   {
    "duration": 19,
    "start_time": "2025-04-03T04:28:21.992Z"
   },
   {
    "duration": 201,
    "start_time": "2025-04-03T04:28:22.012Z"
   },
   {
    "duration": 7,
    "start_time": "2025-04-03T04:28:22.214Z"
   },
   {
    "duration": 133,
    "start_time": "2025-04-03T04:28:22.223Z"
   },
   {
    "duration": 256,
    "start_time": "2025-04-03T04:28:22.358Z"
   },
   {
    "duration": 9,
    "start_time": "2025-04-03T04:28:22.615Z"
   },
   {
    "duration": 261,
    "start_time": "2025-04-03T04:28:22.626Z"
   },
   {
    "duration": 212,
    "start_time": "2025-04-03T04:28:22.889Z"
   },
   {
    "duration": 8,
    "start_time": "2025-04-03T04:28:23.105Z"
   },
   {
    "duration": 8,
    "start_time": "2025-04-03T04:28:23.115Z"
   },
   {
    "duration": 184,
    "start_time": "2025-04-03T04:28:23.125Z"
   },
   {
    "duration": 222,
    "start_time": "2025-04-03T04:28:23.311Z"
   },
   {
    "duration": 362,
    "start_time": "2025-04-03T04:28:23.535Z"
   },
   {
    "duration": 10,
    "start_time": "2025-04-03T04:28:23.899Z"
   },
   {
    "duration": 211,
    "start_time": "2025-04-03T04:28:23.911Z"
   },
   {
    "duration": 21,
    "start_time": "2025-04-03T04:28:24.124Z"
   },
   {
    "duration": 3902,
    "start_time": "2025-04-03T04:29:38.580Z"
   },
   {
    "duration": 161,
    "start_time": "2025-04-03T04:29:42.485Z"
   },
   {
    "duration": 18,
    "start_time": "2025-04-03T04:29:42.648Z"
   },
   {
    "duration": 23,
    "start_time": "2025-04-03T04:29:42.668Z"
   },
   {
    "duration": 13,
    "start_time": "2025-04-03T04:29:42.693Z"
   },
   {
    "duration": 22,
    "start_time": "2025-04-03T04:29:42.707Z"
   },
   {
    "duration": 31,
    "start_time": "2025-04-03T04:29:42.730Z"
   },
   {
    "duration": 15,
    "start_time": "2025-04-03T04:29:42.763Z"
   },
   {
    "duration": 5,
    "start_time": "2025-04-03T04:29:42.779Z"
   },
   {
    "duration": 5,
    "start_time": "2025-04-03T04:29:42.786Z"
   },
   {
    "duration": 19,
    "start_time": "2025-04-03T04:29:42.804Z"
   },
   {
    "duration": 20,
    "start_time": "2025-04-03T04:29:42.824Z"
   },
   {
    "duration": 31,
    "start_time": "2025-04-03T04:29:42.846Z"
   },
   {
    "duration": 68,
    "start_time": "2025-04-03T04:29:42.880Z"
   },
   {
    "duration": 3,
    "start_time": "2025-04-03T04:29:42.950Z"
   },
   {
    "duration": 7,
    "start_time": "2025-04-03T04:29:42.955Z"
   },
   {
    "duration": 24,
    "start_time": "2025-04-03T04:29:42.963Z"
   },
   {
    "duration": 8,
    "start_time": "2025-04-03T04:29:42.989Z"
   },
   {
    "duration": 199,
    "start_time": "2025-04-03T04:29:42.999Z"
   },
   {
    "duration": 11,
    "start_time": "2025-04-03T04:29:43.199Z"
   },
   {
    "duration": 228,
    "start_time": "2025-04-03T04:29:43.211Z"
   },
   {
    "duration": 11,
    "start_time": "2025-04-03T04:29:43.441Z"
   },
   {
    "duration": 202,
    "start_time": "2025-04-03T04:29:43.453Z"
   },
   {
    "duration": 7,
    "start_time": "2025-04-03T04:29:43.657Z"
   },
   {
    "duration": 147,
    "start_time": "2025-04-03T04:29:43.665Z"
   },
   {
    "duration": 258,
    "start_time": "2025-04-03T04:29:43.814Z"
   },
   {
    "duration": 9,
    "start_time": "2025-04-03T04:29:44.074Z"
   },
   {
    "duration": 267,
    "start_time": "2025-04-03T04:29:44.084Z"
   },
   {
    "duration": 214,
    "start_time": "2025-04-03T04:29:44.353Z"
   },
   {
    "duration": 7,
    "start_time": "2025-04-03T04:29:44.569Z"
   },
   {
    "duration": 9,
    "start_time": "2025-04-03T04:29:44.578Z"
   },
   {
    "duration": 186,
    "start_time": "2025-04-03T04:29:44.605Z"
   },
   {
    "duration": 240,
    "start_time": "2025-04-03T04:29:44.793Z"
   },
   {
    "duration": 366,
    "start_time": "2025-04-03T04:29:45.035Z"
   },
   {
    "duration": 8,
    "start_time": "2025-04-03T04:29:45.404Z"
   },
   {
    "duration": 164,
    "start_time": "2025-04-03T04:29:45.414Z"
   },
   {
    "duration": 29,
    "start_time": "2025-04-03T04:29:45.580Z"
   },
   {
    "duration": 78,
    "start_time": "2025-04-03T04:29:45.612Z"
   },
   {
    "duration": 3853,
    "start_time": "2025-04-03T04:32:28.432Z"
   },
   {
    "duration": 211,
    "start_time": "2025-04-03T04:32:32.287Z"
   },
   {
    "duration": 17,
    "start_time": "2025-04-03T04:32:32.499Z"
   },
   {
    "duration": 19,
    "start_time": "2025-04-03T04:32:32.518Z"
   },
   {
    "duration": 9,
    "start_time": "2025-04-03T04:32:32.539Z"
   },
   {
    "duration": 22,
    "start_time": "2025-04-03T04:32:32.550Z"
   },
   {
    "duration": 35,
    "start_time": "2025-04-03T04:32:32.574Z"
   },
   {
    "duration": 22,
    "start_time": "2025-04-03T04:32:32.610Z"
   },
   {
    "duration": 4,
    "start_time": "2025-04-03T04:32:32.634Z"
   },
   {
    "duration": 21,
    "start_time": "2025-04-03T04:32:32.640Z"
   },
   {
    "duration": 29,
    "start_time": "2025-04-03T04:32:32.663Z"
   },
   {
    "duration": 29,
    "start_time": "2025-04-03T04:32:32.693Z"
   },
   {
    "duration": 8,
    "start_time": "2025-04-03T04:32:32.724Z"
   },
   {
    "duration": 18,
    "start_time": "2025-04-03T04:32:32.735Z"
   },
   {
    "duration": 15,
    "start_time": "2025-04-03T04:32:32.755Z"
   },
   {
    "duration": 27,
    "start_time": "2025-04-03T04:32:32.772Z"
   },
   {
    "duration": 28,
    "start_time": "2025-04-03T04:32:32.800Z"
   },
   {
    "duration": 15,
    "start_time": "2025-04-03T04:32:32.830Z"
   },
   {
    "duration": 198,
    "start_time": "2025-04-03T04:32:32.847Z"
   },
   {
    "duration": 10,
    "start_time": "2025-04-03T04:32:33.047Z"
   },
   {
    "duration": 235,
    "start_time": "2025-04-03T04:32:33.059Z"
   },
   {
    "duration": 16,
    "start_time": "2025-04-03T04:32:33.297Z"
   },
   {
    "duration": 207,
    "start_time": "2025-04-03T04:32:33.315Z"
   },
   {
    "duration": 8,
    "start_time": "2025-04-03T04:32:33.525Z"
   },
   {
    "duration": 144,
    "start_time": "2025-04-03T04:32:33.535Z"
   },
   {
    "duration": 257,
    "start_time": "2025-04-03T04:32:33.681Z"
   },
   {
    "duration": 9,
    "start_time": "2025-04-03T04:32:33.940Z"
   },
   {
    "duration": 305,
    "start_time": "2025-04-03T04:32:33.951Z"
   },
   {
    "duration": 237,
    "start_time": "2025-04-03T04:32:34.258Z"
   },
   {
    "duration": 9,
    "start_time": "2025-04-03T04:32:34.505Z"
   },
   {
    "duration": 11,
    "start_time": "2025-04-03T04:32:34.515Z"
   },
   {
    "duration": 187,
    "start_time": "2025-04-03T04:32:34.528Z"
   },
   {
    "duration": 227,
    "start_time": "2025-04-03T04:32:34.717Z"
   },
   {
    "duration": 415,
    "start_time": "2025-04-03T04:32:34.946Z"
   },
   {
    "duration": 8,
    "start_time": "2025-04-03T04:32:35.362Z"
   },
   {
    "duration": 206,
    "start_time": "2025-04-03T04:32:35.372Z"
   },
   {
    "duration": 13,
    "start_time": "2025-04-03T04:32:35.580Z"
   },
   {
    "duration": 348,
    "start_time": "2025-04-03T04:32:35.595Z"
   },
   {
    "duration": 249,
    "start_time": "2025-04-03T04:32:43.206Z"
   },
   {
    "duration": 20,
    "start_time": "2025-04-03T04:33:10.381Z"
   },
   {
    "duration": 247,
    "start_time": "2025-04-03T04:33:12.941Z"
   },
   {
    "duration": 259,
    "start_time": "2025-04-03T04:33:25.109Z"
   },
   {
    "duration": 261,
    "start_time": "2025-04-03T04:33:39.397Z"
   },
   {
    "duration": 253,
    "start_time": "2025-04-03T04:34:31.909Z"
   },
   {
    "duration": 247,
    "start_time": "2025-04-03T04:34:55.539Z"
   },
   {
    "duration": 66,
    "start_time": "2025-04-03T04:35:50.131Z"
   },
   {
    "duration": 1512,
    "start_time": "2025-04-03T04:35:55.563Z"
   },
   {
    "duration": 296,
    "start_time": "2025-04-03T04:36:40.130Z"
   },
   {
    "duration": 234,
    "start_time": "2025-04-03T04:36:53.594Z"
   },
   {
    "duration": 264,
    "start_time": "2025-04-03T04:37:22.210Z"
   },
   {
    "duration": 254,
    "start_time": "2025-04-03T04:37:48.562Z"
   },
   {
    "duration": 260,
    "start_time": "2025-04-03T04:38:42.793Z"
   },
   {
    "duration": 252,
    "start_time": "2025-04-03T04:41:09.238Z"
   },
   {
    "duration": 258,
    "start_time": "2025-04-03T04:41:45.926Z"
   },
   {
    "duration": 19,
    "start_time": "2025-04-03T04:42:10.134Z"
   },
   {
    "duration": 20,
    "start_time": "2025-04-03T04:42:43.012Z"
   },
   {
    "duration": 19,
    "start_time": "2025-04-03T04:43:31.220Z"
   },
   {
    "duration": 20,
    "start_time": "2025-04-03T04:43:40.739Z"
   },
   {
    "duration": 20,
    "start_time": "2025-04-03T04:44:38.091Z"
   },
   {
    "duration": 69,
    "start_time": "2025-04-03T04:46:06.809Z"
   },
   {
    "duration": 58,
    "start_time": "2025-04-03T04:46:11.473Z"
   },
   {
    "duration": 59,
    "start_time": "2025-04-03T04:46:25.720Z"
   },
   {
    "duration": 20,
    "start_time": "2025-04-03T04:48:44.542Z"
   },
   {
    "duration": 1383,
    "start_time": "2025-04-03T04:48:52.734Z"
   },
   {
    "duration": 18,
    "start_time": "2025-04-03T04:49:07.894Z"
   },
   {
    "duration": 19,
    "start_time": "2025-04-03T04:52:46.721Z"
   },
   {
    "duration": 46,
    "start_time": "2025-04-03T04:53:11.480Z"
   },
   {
    "duration": 4303,
    "start_time": "2025-04-03T04:53:19.736Z"
   },
   {
    "duration": 11,
    "start_time": "2025-04-03T04:54:25.663Z"
   },
   {
    "duration": 24,
    "start_time": "2025-04-03T04:54:34.503Z"
   },
   {
    "duration": 23,
    "start_time": "2025-04-03T04:55:05.399Z"
   },
   {
    "duration": 3855,
    "start_time": "2025-04-03T04:55:12.158Z"
   },
   {
    "duration": 173,
    "start_time": "2025-04-03T04:55:16.016Z"
   },
   {
    "duration": 18,
    "start_time": "2025-04-03T04:55:16.191Z"
   },
   {
    "duration": 18,
    "start_time": "2025-04-03T04:55:16.211Z"
   },
   {
    "duration": 10,
    "start_time": "2025-04-03T04:55:16.231Z"
   },
   {
    "duration": 12,
    "start_time": "2025-04-03T04:55:16.243Z"
   },
   {
    "duration": 23,
    "start_time": "2025-04-03T04:55:16.257Z"
   },
   {
    "duration": 36,
    "start_time": "2025-04-03T04:55:16.281Z"
   },
   {
    "duration": 27,
    "start_time": "2025-04-03T04:55:16.319Z"
   },
   {
    "duration": 8,
    "start_time": "2025-04-03T04:55:16.347Z"
   },
   {
    "duration": 18,
    "start_time": "2025-04-03T04:55:16.357Z"
   },
   {
    "duration": 29,
    "start_time": "2025-04-03T04:55:16.377Z"
   },
   {
    "duration": 5,
    "start_time": "2025-04-03T04:55:16.407Z"
   },
   {
    "duration": 22,
    "start_time": "2025-04-03T04:55:16.415Z"
   },
   {
    "duration": 3,
    "start_time": "2025-04-03T04:55:16.439Z"
   },
   {
    "duration": 7,
    "start_time": "2025-04-03T04:55:16.443Z"
   },
   {
    "duration": 8,
    "start_time": "2025-04-03T04:55:16.451Z"
   },
   {
    "duration": 7,
    "start_time": "2025-04-03T04:55:16.461Z"
   },
   {
    "duration": 251,
    "start_time": "2025-04-03T04:55:16.469Z"
   },
   {
    "duration": 10,
    "start_time": "2025-04-03T04:55:16.722Z"
   },
   {
    "duration": 237,
    "start_time": "2025-04-03T04:55:16.733Z"
   },
   {
    "duration": 11,
    "start_time": "2025-04-03T04:55:16.971Z"
   },
   {
    "duration": 201,
    "start_time": "2025-04-03T04:55:16.983Z"
   },
   {
    "duration": 7,
    "start_time": "2025-04-03T04:55:17.185Z"
   },
   {
    "duration": 134,
    "start_time": "2025-04-03T04:55:17.193Z"
   },
   {
    "duration": 244,
    "start_time": "2025-04-03T04:55:17.328Z"
   },
   {
    "duration": 10,
    "start_time": "2025-04-03T04:55:17.573Z"
   },
   {
    "duration": 265,
    "start_time": "2025-04-03T04:55:17.585Z"
   },
   {
    "duration": 218,
    "start_time": "2025-04-03T04:55:17.852Z"
   },
   {
    "duration": 7,
    "start_time": "2025-04-03T04:55:18.072Z"
   },
   {
    "duration": 95,
    "start_time": "2025-04-03T04:55:18.081Z"
   },
   {
    "duration": 170,
    "start_time": "2025-04-03T04:55:18.178Z"
   },
   {
    "duration": 203,
    "start_time": "2025-04-03T04:55:18.349Z"
   },
   {
    "duration": 402,
    "start_time": "2025-04-03T04:55:18.553Z"
   },
   {
    "duration": 7,
    "start_time": "2025-04-03T04:55:18.957Z"
   },
   {
    "duration": 159,
    "start_time": "2025-04-03T04:55:18.966Z"
   },
   {
    "duration": 18,
    "start_time": "2025-04-03T04:55:19.127Z"
   },
   {
    "duration": 265,
    "start_time": "2025-04-03T04:55:19.146Z"
   },
   {
    "duration": 254,
    "start_time": "2025-04-03T04:55:19.412Z"
   },
   {
    "duration": 19,
    "start_time": "2025-04-03T04:55:19.668Z"
   },
   {
    "duration": 6,
    "start_time": "2025-04-03T05:06:28.776Z"
   },
   {
    "duration": 25,
    "start_time": "2025-04-03T05:22:18.744Z"
   },
   {
    "duration": 1279,
    "start_time": "2025-04-03T05:22:52.376Z"
   },
   {
    "duration": 12,
    "start_time": "2025-04-03T05:23:07.983Z"
   },
   {
    "duration": 5,
    "start_time": "2025-04-03T05:25:31.677Z"
   },
   {
    "duration": 13,
    "start_time": "2025-04-03T05:25:40.125Z"
   },
   {
    "duration": 11,
    "start_time": "2025-04-03T05:25:58.725Z"
   },
   {
    "duration": 11,
    "start_time": "2025-04-03T05:26:05.909Z"
   },
   {
    "duration": 1450,
    "start_time": "2025-04-03T05:26:44.580Z"
   },
   {
    "duration": 24,
    "start_time": "2025-04-03T05:27:28.547Z"
   },
   {
    "duration": 1139,
    "start_time": "2025-04-03T05:28:06.251Z"
   },
   {
    "duration": 11,
    "start_time": "2025-04-03T05:28:26.764Z"
   },
   {
    "duration": 1123,
    "start_time": "2025-04-03T05:29:07.258Z"
   },
   {
    "duration": 5,
    "start_time": "2025-04-03T05:29:16.618Z"
   },
   {
    "duration": 25,
    "start_time": "2025-04-03T05:29:22.457Z"
   },
   {
    "duration": 12,
    "start_time": "2025-04-03T05:29:48.778Z"
   },
   {
    "duration": 6,
    "start_time": "2025-04-03T05:30:15.625Z"
   },
   {
    "duration": 20,
    "start_time": "2025-04-03T05:32:41.038Z"
   },
   {
    "duration": 19,
    "start_time": "2025-04-03T05:32:53.470Z"
   },
   {
    "duration": 19,
    "start_time": "2025-04-03T05:34:39.181Z"
   },
   {
    "duration": 20,
    "start_time": "2025-04-03T05:38:15.577Z"
   },
   {
    "duration": 243,
    "start_time": "2025-04-03T05:53:05.739Z"
   },
   {
    "duration": 271,
    "start_time": "2025-04-03T05:53:11.211Z"
   },
   {
    "duration": 271,
    "start_time": "2025-04-03T05:53:21.578Z"
   },
   {
    "duration": 278,
    "start_time": "2025-04-03T06:07:14.156Z"
   },
   {
    "duration": 196,
    "start_time": "2025-04-03T06:32:01.320Z"
   },
   {
    "duration": 7,
    "start_time": "2025-04-03T06:32:16.553Z"
   },
   {
    "duration": 293,
    "start_time": "2025-04-03T06:32:18.992Z"
   },
   {
    "duration": 8,
    "start_time": "2025-04-03T06:32:28.104Z"
   },
   {
    "duration": 9,
    "start_time": "2025-04-03T07:01:59.473Z"
   },
   {
    "duration": 4030,
    "start_time": "2025-04-03T07:41:47.170Z"
   },
   {
    "duration": 355,
    "start_time": "2025-04-03T07:41:51.203Z"
   },
   {
    "duration": 18,
    "start_time": "2025-04-03T07:41:51.559Z"
   },
   {
    "duration": 15,
    "start_time": "2025-04-03T07:41:51.580Z"
   },
   {
    "duration": 17,
    "start_time": "2025-04-03T07:41:51.597Z"
   },
   {
    "duration": 12,
    "start_time": "2025-04-03T07:41:51.616Z"
   },
   {
    "duration": 35,
    "start_time": "2025-04-03T07:41:51.630Z"
   },
   {
    "duration": 16,
    "start_time": "2025-04-03T07:41:51.667Z"
   },
   {
    "duration": 26,
    "start_time": "2025-04-03T07:41:51.684Z"
   },
   {
    "duration": 35,
    "start_time": "2025-04-03T07:41:51.713Z"
   },
   {
    "duration": 26,
    "start_time": "2025-04-03T07:41:51.749Z"
   },
   {
    "duration": 21,
    "start_time": "2025-04-03T07:41:51.776Z"
   },
   {
    "duration": 7,
    "start_time": "2025-04-03T07:41:51.799Z"
   },
   {
    "duration": 30,
    "start_time": "2025-04-03T07:41:51.808Z"
   },
   {
    "duration": 6,
    "start_time": "2025-04-03T07:41:51.840Z"
   },
   {
    "duration": 16,
    "start_time": "2025-04-03T07:41:51.847Z"
   },
   {
    "duration": 19,
    "start_time": "2025-04-03T07:41:51.865Z"
   },
   {
    "duration": 12,
    "start_time": "2025-04-03T07:41:51.885Z"
   },
   {
    "duration": 220,
    "start_time": "2025-04-03T07:41:51.898Z"
   },
   {
    "duration": 7,
    "start_time": "2025-04-03T07:41:52.120Z"
   },
   {
    "duration": 236,
    "start_time": "2025-04-03T07:41:52.129Z"
   },
   {
    "duration": 10,
    "start_time": "2025-04-03T07:41:52.367Z"
   },
   {
    "duration": 199,
    "start_time": "2025-04-03T07:41:52.379Z"
   },
   {
    "duration": 8,
    "start_time": "2025-04-03T07:41:52.580Z"
   },
   {
    "duration": 143,
    "start_time": "2025-04-03T07:41:52.589Z"
   },
   {
    "duration": 10,
    "start_time": "2025-04-03T07:41:52.734Z"
   },
   {
    "duration": 247,
    "start_time": "2025-04-03T07:41:52.746Z"
   },
   {
    "duration": 13,
    "start_time": "2025-04-03T07:41:52.996Z"
   },
   {
    "duration": 253,
    "start_time": "2025-04-03T07:41:53.011Z"
   },
   {
    "duration": 203,
    "start_time": "2025-04-03T07:41:53.266Z"
   },
   {
    "duration": 7,
    "start_time": "2025-04-03T07:41:53.471Z"
   },
   {
    "duration": 194,
    "start_time": "2025-04-03T07:41:53.479Z"
   },
   {
    "duration": 7,
    "start_time": "2025-04-03T07:41:53.675Z"
   },
   {
    "duration": 170,
    "start_time": "2025-04-03T07:41:53.683Z"
   },
   {
    "duration": 202,
    "start_time": "2025-04-03T07:41:53.854Z"
   },
   {
    "duration": 393,
    "start_time": "2025-04-03T07:41:54.058Z"
   },
   {
    "duration": 8,
    "start_time": "2025-04-03T07:41:54.452Z"
   },
   {
    "duration": 143,
    "start_time": "2025-04-03T07:41:54.462Z"
   },
   {
    "duration": 20,
    "start_time": "2025-04-03T07:41:54.606Z"
   },
   {
    "duration": 259,
    "start_time": "2025-04-03T07:41:54.628Z"
   },
   {
    "duration": 238,
    "start_time": "2025-04-03T07:41:54.889Z"
   },
   {
    "duration": 18,
    "start_time": "2025-04-03T07:41:55.129Z"
   },
   {
    "duration": 19,
    "start_time": "2025-04-03T07:41:55.149Z"
   },
   {
    "duration": 302,
    "start_time": "2025-04-03T07:41:55.170Z"
   },
   {
    "duration": 4733,
    "start_time": "2025-04-03T14:34:59.591Z"
   },
   {
    "duration": 158,
    "start_time": "2025-04-03T14:35:04.327Z"
   },
   {
    "duration": 15,
    "start_time": "2025-04-03T14:35:04.486Z"
   },
   {
    "duration": 13,
    "start_time": "2025-04-03T14:35:04.502Z"
   },
   {
    "duration": 22,
    "start_time": "2025-04-03T14:35:04.517Z"
   },
   {
    "duration": 10,
    "start_time": "2025-04-03T14:35:04.540Z"
   },
   {
    "duration": 21,
    "start_time": "2025-04-03T14:35:04.551Z"
   },
   {
    "duration": 14,
    "start_time": "2025-04-03T14:35:04.574Z"
   },
   {
    "duration": 6,
    "start_time": "2025-04-03T14:35:04.589Z"
   },
   {
    "duration": 4,
    "start_time": "2025-04-03T14:35:04.597Z"
   },
   {
    "duration": 46,
    "start_time": "2025-04-03T14:35:04.602Z"
   },
   {
    "duration": 16,
    "start_time": "2025-04-03T14:35:04.650Z"
   },
   {
    "duration": 5,
    "start_time": "2025-04-03T14:35:04.667Z"
   },
   {
    "duration": 27,
    "start_time": "2025-04-03T14:35:04.675Z"
   },
   {
    "duration": 3,
    "start_time": "2025-04-03T14:35:04.703Z"
   },
   {
    "duration": 28,
    "start_time": "2025-04-03T14:35:04.708Z"
   },
   {
    "duration": 4,
    "start_time": "2025-04-03T14:35:04.737Z"
   },
   {
    "duration": 9,
    "start_time": "2025-04-03T14:35:04.742Z"
   },
   {
    "duration": 175,
    "start_time": "2025-04-03T14:35:04.753Z"
   },
   {
    "duration": 11,
    "start_time": "2025-04-03T14:35:04.929Z"
   },
   {
    "duration": 188,
    "start_time": "2025-04-03T14:35:04.941Z"
   },
   {
    "duration": 13,
    "start_time": "2025-04-03T14:35:05.130Z"
   },
   {
    "duration": 176,
    "start_time": "2025-04-03T14:35:05.145Z"
   },
   {
    "duration": 6,
    "start_time": "2025-04-03T14:35:05.323Z"
   },
   {
    "duration": 269,
    "start_time": "2025-04-03T14:35:05.330Z"
   },
   {
    "duration": 8,
    "start_time": "2025-04-03T14:35:05.601Z"
   },
   {
    "duration": 213,
    "start_time": "2025-04-03T14:35:05.610Z"
   },
   {
    "duration": 17,
    "start_time": "2025-04-03T14:35:05.826Z"
   },
   {
    "duration": 216,
    "start_time": "2025-04-03T14:35:05.844Z"
   },
   {
    "duration": 185,
    "start_time": "2025-04-03T14:35:06.062Z"
   },
   {
    "duration": 8,
    "start_time": "2025-04-03T14:35:06.249Z"
   },
   {
    "duration": 180,
    "start_time": "2025-04-03T14:35:06.259Z"
   },
   {
    "duration": 8,
    "start_time": "2025-04-03T14:35:06.441Z"
   },
   {
    "duration": 206,
    "start_time": "2025-04-03T14:35:06.450Z"
   },
   {
    "duration": 185,
    "start_time": "2025-04-03T14:35:06.658Z"
   },
   {
    "duration": 332,
    "start_time": "2025-04-03T14:35:06.844Z"
   },
   {
    "duration": 7,
    "start_time": "2025-04-03T14:35:07.179Z"
   },
   {
    "duration": 130,
    "start_time": "2025-04-03T14:35:07.188Z"
   },
   {
    "duration": 25,
    "start_time": "2025-04-03T14:35:07.319Z"
   },
   {
    "duration": 251,
    "start_time": "2025-04-03T14:35:07.345Z"
   },
   {
    "duration": 218,
    "start_time": "2025-04-03T14:35:07.600Z"
   },
   {
    "duration": 20,
    "start_time": "2025-04-03T14:35:07.819Z"
   },
   {
    "duration": 16,
    "start_time": "2025-04-03T14:35:07.840Z"
   },
   {
    "duration": 252,
    "start_time": "2025-04-03T14:35:07.858Z"
   },
   {
    "duration": 10,
    "start_time": "2025-04-04T03:34:38.060Z"
   },
   {
    "duration": 48,
    "start_time": "2025-04-04T03:34:42.411Z"
   },
   {
    "duration": 5111,
    "start_time": "2025-04-04T03:34:58.821Z"
   },
   {
    "duration": 250,
    "start_time": "2025-04-04T03:35:03.935Z"
   },
   {
    "duration": 21,
    "start_time": "2025-04-04T03:35:04.187Z"
   },
   {
    "duration": 16,
    "start_time": "2025-04-04T03:35:04.210Z"
   },
   {
    "duration": 11,
    "start_time": "2025-04-04T03:35:04.228Z"
   },
   {
    "duration": 12,
    "start_time": "2025-04-04T03:35:04.241Z"
   },
   {
    "duration": 24,
    "start_time": "2025-04-04T03:35:04.255Z"
   },
   {
    "duration": 17,
    "start_time": "2025-04-04T03:35:04.280Z"
   },
   {
    "duration": 39,
    "start_time": "2025-04-04T03:35:04.299Z"
   },
   {
    "duration": 65,
    "start_time": "2025-04-04T03:35:04.339Z"
   },
   {
    "duration": 17,
    "start_time": "2025-04-04T03:35:04.406Z"
   },
   {
    "duration": 17,
    "start_time": "2025-04-04T03:35:04.425Z"
   },
   {
    "duration": 78,
    "start_time": "2025-04-04T03:35:04.444Z"
   },
   {
    "duration": 27,
    "start_time": "2025-04-04T03:35:04.526Z"
   },
   {
    "duration": 4,
    "start_time": "2025-04-04T03:35:04.554Z"
   },
   {
    "duration": 10,
    "start_time": "2025-04-04T03:35:04.560Z"
   },
   {
    "duration": 13,
    "start_time": "2025-04-04T03:35:04.572Z"
   },
   {
    "duration": 23,
    "start_time": "2025-04-04T03:35:04.587Z"
   },
   {
    "duration": 207,
    "start_time": "2025-04-04T03:35:04.611Z"
   },
   {
    "duration": 19,
    "start_time": "2025-04-04T03:35:04.821Z"
   },
   {
    "duration": 216,
    "start_time": "2025-04-04T03:35:04.843Z"
   },
   {
    "duration": 13,
    "start_time": "2025-04-04T03:35:05.062Z"
   },
   {
    "duration": 223,
    "start_time": "2025-04-04T03:35:05.077Z"
   },
   {
    "duration": 8,
    "start_time": "2025-04-04T03:35:05.303Z"
   },
   {
    "duration": 142,
    "start_time": "2025-04-04T03:35:05.313Z"
   },
   {
    "duration": 10,
    "start_time": "2025-04-04T03:35:05.457Z"
   },
   {
    "duration": 277,
    "start_time": "2025-04-04T03:35:05.469Z"
   },
   {
    "duration": 12,
    "start_time": "2025-04-04T03:35:05.748Z"
   },
   {
    "duration": 254,
    "start_time": "2025-04-04T03:35:05.762Z"
   },
   {
    "duration": 217,
    "start_time": "2025-04-04T03:35:06.018Z"
   },
   {
    "duration": 9,
    "start_time": "2025-04-04T03:35:06.236Z"
   },
   {
    "duration": 211,
    "start_time": "2025-04-04T03:35:06.246Z"
   },
   {
    "duration": 8,
    "start_time": "2025-04-04T03:35:06.459Z"
   },
   {
    "duration": 245,
    "start_time": "2025-04-04T03:35:06.469Z"
   },
   {
    "duration": 231,
    "start_time": "2025-04-04T03:35:06.715Z"
   },
   {
    "duration": 343,
    "start_time": "2025-04-04T03:35:06.952Z"
   },
   {
    "duration": 8,
    "start_time": "2025-04-04T03:35:07.298Z"
   },
   {
    "duration": 158,
    "start_time": "2025-04-04T03:35:07.308Z"
   },
   {
    "duration": 19,
    "start_time": "2025-04-04T03:35:07.468Z"
   },
   {
    "duration": 284,
    "start_time": "2025-04-04T03:35:07.488Z"
   },
   {
    "duration": 254,
    "start_time": "2025-04-04T03:35:07.776Z"
   },
   {
    "duration": 29,
    "start_time": "2025-04-04T03:35:08.032Z"
   },
   {
    "duration": 19,
    "start_time": "2025-04-04T03:35:08.063Z"
   },
   {
    "duration": 289,
    "start_time": "2025-04-04T03:35:08.083Z"
   },
   {
    "duration": 4759,
    "start_time": "2025-04-04T03:38:59.248Z"
   },
   {
    "duration": 197,
    "start_time": "2025-04-04T03:39:04.009Z"
   },
   {
    "duration": 18,
    "start_time": "2025-04-04T03:39:04.209Z"
   },
   {
    "duration": 25,
    "start_time": "2025-04-04T03:39:04.229Z"
   },
   {
    "duration": 11,
    "start_time": "2025-04-04T03:39:04.256Z"
   },
   {
    "duration": 11,
    "start_time": "2025-04-04T03:39:04.269Z"
   },
   {
    "duration": 52,
    "start_time": "2025-04-04T03:39:04.282Z"
   },
   {
    "duration": 19,
    "start_time": "2025-04-04T03:39:04.335Z"
   },
   {
    "duration": 4,
    "start_time": "2025-04-04T03:39:04.356Z"
   },
   {
    "duration": 5,
    "start_time": "2025-04-04T03:39:04.362Z"
   },
   {
    "duration": 17,
    "start_time": "2025-04-04T03:39:04.369Z"
   },
   {
    "duration": 143,
    "start_time": "2025-04-04T03:39:04.387Z"
   },
   {
    "duration": 0,
    "start_time": "2025-04-04T03:39:04.548Z"
   },
   {
    "duration": 0,
    "start_time": "2025-04-04T03:39:04.550Z"
   },
   {
    "duration": 0,
    "start_time": "2025-04-04T03:39:04.551Z"
   },
   {
    "duration": 0,
    "start_time": "2025-04-04T03:39:04.552Z"
   },
   {
    "duration": 0,
    "start_time": "2025-04-04T03:39:04.553Z"
   },
   {
    "duration": 0,
    "start_time": "2025-04-04T03:39:04.554Z"
   },
   {
    "duration": 0,
    "start_time": "2025-04-04T03:39:04.555Z"
   },
   {
    "duration": 0,
    "start_time": "2025-04-04T03:39:04.556Z"
   },
   {
    "duration": 0,
    "start_time": "2025-04-04T03:39:04.557Z"
   },
   {
    "duration": 0,
    "start_time": "2025-04-04T03:39:04.558Z"
   },
   {
    "duration": 0,
    "start_time": "2025-04-04T03:39:04.559Z"
   },
   {
    "duration": 0,
    "start_time": "2025-04-04T03:39:04.559Z"
   },
   {
    "duration": 0,
    "start_time": "2025-04-04T03:39:04.561Z"
   },
   {
    "duration": 0,
    "start_time": "2025-04-04T03:39:04.562Z"
   },
   {
    "duration": 0,
    "start_time": "2025-04-04T03:39:04.563Z"
   },
   {
    "duration": 0,
    "start_time": "2025-04-04T03:39:04.564Z"
   },
   {
    "duration": 0,
    "start_time": "2025-04-04T03:39:04.565Z"
   },
   {
    "duration": 0,
    "start_time": "2025-04-04T03:39:04.566Z"
   },
   {
    "duration": 0,
    "start_time": "2025-04-04T03:39:04.567Z"
   },
   {
    "duration": 0,
    "start_time": "2025-04-04T03:39:04.568Z"
   },
   {
    "duration": 0,
    "start_time": "2025-04-04T03:39:04.569Z"
   },
   {
    "duration": 0,
    "start_time": "2025-04-04T03:39:04.570Z"
   },
   {
    "duration": 0,
    "start_time": "2025-04-04T03:39:04.571Z"
   },
   {
    "duration": 0,
    "start_time": "2025-04-04T03:39:04.572Z"
   },
   {
    "duration": 0,
    "start_time": "2025-04-04T03:39:04.573Z"
   },
   {
    "duration": 0,
    "start_time": "2025-04-04T03:39:04.574Z"
   },
   {
    "duration": 0,
    "start_time": "2025-04-04T03:39:04.575Z"
   },
   {
    "duration": 0,
    "start_time": "2025-04-04T03:39:04.576Z"
   },
   {
    "duration": 0,
    "start_time": "2025-04-04T03:39:04.577Z"
   },
   {
    "duration": 1,
    "start_time": "2025-04-04T03:39:04.577Z"
   },
   {
    "duration": 1,
    "start_time": "2025-04-04T03:39:04.578Z"
   },
   {
    "duration": 0,
    "start_time": "2025-04-04T03:39:04.579Z"
   },
   {
    "duration": 0,
    "start_time": "2025-04-04T03:39:04.580Z"
   },
   {
    "duration": 7,
    "start_time": "2025-04-04T03:40:21.721Z"
   },
   {
    "duration": 4628,
    "start_time": "2025-04-04T03:40:27.284Z"
   },
   {
    "duration": 167,
    "start_time": "2025-04-04T03:40:31.914Z"
   },
   {
    "duration": 18,
    "start_time": "2025-04-04T03:40:32.083Z"
   },
   {
    "duration": 14,
    "start_time": "2025-04-04T03:40:32.102Z"
   },
   {
    "duration": 9,
    "start_time": "2025-04-04T03:40:32.119Z"
   },
   {
    "duration": 71,
    "start_time": "2025-04-04T03:40:32.129Z"
   },
   {
    "duration": 29,
    "start_time": "2025-04-04T03:40:32.201Z"
   },
   {
    "duration": 30,
    "start_time": "2025-04-04T03:40:32.231Z"
   },
   {
    "duration": 5,
    "start_time": "2025-04-04T03:40:32.263Z"
   },
   {
    "duration": 4,
    "start_time": "2025-04-04T03:40:32.269Z"
   },
   {
    "duration": 18,
    "start_time": "2025-04-04T03:40:32.275Z"
   },
   {
    "duration": 13,
    "start_time": "2025-04-04T03:40:32.294Z"
   },
   {
    "duration": 40,
    "start_time": "2025-04-04T03:40:32.309Z"
   },
   {
    "duration": 5,
    "start_time": "2025-04-04T03:40:32.352Z"
   },
   {
    "duration": 76,
    "start_time": "2025-04-04T03:40:32.358Z"
   },
   {
    "duration": 9,
    "start_time": "2025-04-04T03:40:32.436Z"
   },
   {
    "duration": 91,
    "start_time": "2025-04-04T03:40:32.447Z"
   },
   {
    "duration": 6,
    "start_time": "2025-04-04T03:40:32.548Z"
   },
   {
    "duration": 8,
    "start_time": "2025-04-04T03:40:32.556Z"
   },
   {
    "duration": 199,
    "start_time": "2025-04-04T03:40:32.566Z"
   },
   {
    "duration": 10,
    "start_time": "2025-04-04T03:40:32.768Z"
   },
   {
    "duration": 233,
    "start_time": "2025-04-04T03:40:32.780Z"
   },
   {
    "duration": 20,
    "start_time": "2025-04-04T03:40:33.015Z"
   },
   {
    "duration": 189,
    "start_time": "2025-04-04T03:40:33.038Z"
   },
   {
    "duration": 23,
    "start_time": "2025-04-04T03:40:33.229Z"
   },
   {
    "duration": 121,
    "start_time": "2025-04-04T03:40:33.254Z"
   },
   {
    "duration": 9,
    "start_time": "2025-04-04T03:40:33.377Z"
   },
   {
    "duration": 239,
    "start_time": "2025-04-04T03:40:33.388Z"
   },
   {
    "duration": 21,
    "start_time": "2025-04-04T03:40:33.628Z"
   },
   {
    "duration": 383,
    "start_time": "2025-04-04T03:40:33.650Z"
   },
   {
    "duration": 241,
    "start_time": "2025-04-04T03:40:34.035Z"
   },
   {
    "duration": 8,
    "start_time": "2025-04-04T03:40:34.278Z"
   },
   {
    "duration": 297,
    "start_time": "2025-04-04T03:40:34.287Z"
   },
   {
    "duration": 7,
    "start_time": "2025-04-04T03:40:34.586Z"
   },
   {
    "duration": 181,
    "start_time": "2025-04-04T03:40:34.594Z"
   },
   {
    "duration": 223,
    "start_time": "2025-04-04T03:40:34.777Z"
   },
   {
    "duration": 376,
    "start_time": "2025-04-04T03:40:35.002Z"
   },
   {
    "duration": 8,
    "start_time": "2025-04-04T03:40:35.379Z"
   },
   {
    "duration": 160,
    "start_time": "2025-04-04T03:40:35.389Z"
   },
   {
    "duration": 20,
    "start_time": "2025-04-04T03:40:35.551Z"
   },
   {
    "duration": 277,
    "start_time": "2025-04-04T03:40:35.574Z"
   },
   {
    "duration": 237,
    "start_time": "2025-04-04T03:40:35.853Z"
   },
   {
    "duration": 19,
    "start_time": "2025-04-04T03:40:36.092Z"
   },
   {
    "duration": 39,
    "start_time": "2025-04-04T03:40:36.113Z"
   },
   {
    "duration": 327,
    "start_time": "2025-04-04T03:40:36.155Z"
   },
   {
    "duration": 10,
    "start_time": "2025-04-04T03:43:05.098Z"
   },
   {
    "duration": 9,
    "start_time": "2025-04-04T03:43:13.602Z"
   },
   {
    "duration": 4145,
    "start_time": "2025-04-04T03:46:38.224Z"
   },
   {
    "duration": 239,
    "start_time": "2025-04-04T03:46:42.371Z"
   },
   {
    "duration": 17,
    "start_time": "2025-04-04T03:46:42.611Z"
   },
   {
    "duration": 14,
    "start_time": "2025-04-04T03:46:42.630Z"
   },
   {
    "duration": 9,
    "start_time": "2025-04-04T03:46:42.646Z"
   },
   {
    "duration": 14,
    "start_time": "2025-04-04T03:46:42.656Z"
   },
   {
    "duration": 20,
    "start_time": "2025-04-04T03:46:42.672Z"
   },
   {
    "duration": 43,
    "start_time": "2025-04-04T03:46:42.694Z"
   },
   {
    "duration": 7,
    "start_time": "2025-04-04T03:46:42.739Z"
   },
   {
    "duration": 6,
    "start_time": "2025-04-04T03:46:42.747Z"
   },
   {
    "duration": 17,
    "start_time": "2025-04-04T03:46:42.755Z"
   },
   {
    "duration": 7,
    "start_time": "2025-04-04T03:46:42.774Z"
   },
   {
    "duration": 53,
    "start_time": "2025-04-04T03:46:42.783Z"
   },
   {
    "duration": 4,
    "start_time": "2025-04-04T03:46:42.839Z"
   },
   {
    "duration": 10,
    "start_time": "2025-04-04T03:46:42.845Z"
   },
   {
    "duration": 27,
    "start_time": "2025-04-04T03:46:42.857Z"
   },
   {
    "duration": 17,
    "start_time": "2025-04-04T03:46:42.886Z"
   },
   {
    "duration": 32,
    "start_time": "2025-04-04T03:46:42.905Z"
   },
   {
    "duration": 8,
    "start_time": "2025-04-04T03:46:42.939Z"
   },
   {
    "duration": 8,
    "start_time": "2025-04-04T03:46:42.948Z"
   },
   {
    "duration": 8,
    "start_time": "2025-04-04T03:46:42.957Z"
   },
   {
    "duration": 211,
    "start_time": "2025-04-04T03:46:42.967Z"
   },
   {
    "duration": 8,
    "start_time": "2025-04-04T03:46:43.179Z"
   },
   {
    "duration": 215,
    "start_time": "2025-04-04T03:46:43.188Z"
   },
   {
    "duration": 10,
    "start_time": "2025-04-04T03:46:43.404Z"
   },
   {
    "duration": 190,
    "start_time": "2025-04-04T03:46:43.415Z"
   },
   {
    "duration": 7,
    "start_time": "2025-04-04T03:46:43.607Z"
   },
   {
    "duration": 128,
    "start_time": "2025-04-04T03:46:43.616Z"
   },
   {
    "duration": 8,
    "start_time": "2025-04-04T03:46:43.746Z"
   },
   {
    "duration": 267,
    "start_time": "2025-04-04T03:46:43.755Z"
   },
   {
    "duration": 18,
    "start_time": "2025-04-04T03:46:44.023Z"
   },
   {
    "duration": 256,
    "start_time": "2025-04-04T03:46:44.043Z"
   },
   {
    "duration": 192,
    "start_time": "2025-04-04T03:46:44.300Z"
   },
   {
    "duration": 9,
    "start_time": "2025-04-04T03:46:44.494Z"
   },
   {
    "duration": 212,
    "start_time": "2025-04-04T03:46:44.504Z"
   },
   {
    "duration": 16,
    "start_time": "2025-04-04T03:46:44.719Z"
   },
   {
    "duration": 155,
    "start_time": "2025-04-04T03:46:44.736Z"
   },
   {
    "duration": 196,
    "start_time": "2025-04-04T03:46:44.892Z"
   },
   {
    "duration": 381,
    "start_time": "2025-04-04T03:46:45.090Z"
   },
   {
    "duration": 7,
    "start_time": "2025-04-04T03:46:45.472Z"
   },
   {
    "duration": 175,
    "start_time": "2025-04-04T03:46:45.483Z"
   },
   {
    "duration": 17,
    "start_time": "2025-04-04T03:46:45.660Z"
   },
   {
    "duration": 316,
    "start_time": "2025-04-04T03:46:45.679Z"
   },
   {
    "duration": 228,
    "start_time": "2025-04-04T03:46:45.997Z"
   },
   {
    "duration": 17,
    "start_time": "2025-04-04T03:46:46.235Z"
   },
   {
    "duration": 17,
    "start_time": "2025-04-04T03:46:46.254Z"
   },
   {
    "duration": 283,
    "start_time": "2025-04-04T03:46:46.272Z"
   },
   {
    "duration": 3718,
    "start_time": "2025-04-04T03:56:39.493Z"
   },
   {
    "duration": 175,
    "start_time": "2025-04-04T03:56:43.214Z"
   },
   {
    "duration": 17,
    "start_time": "2025-04-04T03:56:43.391Z"
   },
   {
    "duration": 15,
    "start_time": "2025-04-04T03:56:43.410Z"
   },
   {
    "duration": 18,
    "start_time": "2025-04-04T03:56:43.427Z"
   },
   {
    "duration": 14,
    "start_time": "2025-04-04T03:56:43.447Z"
   },
   {
    "duration": 23,
    "start_time": "2025-04-04T03:56:43.463Z"
   },
   {
    "duration": 26,
    "start_time": "2025-04-04T03:56:43.488Z"
   },
   {
    "duration": 55,
    "start_time": "2025-04-04T03:56:43.516Z"
   },
   {
    "duration": 4,
    "start_time": "2025-04-04T03:56:43.573Z"
   },
   {
    "duration": 25,
    "start_time": "2025-04-04T03:56:43.579Z"
   },
   {
    "duration": 8,
    "start_time": "2025-04-04T03:56:43.606Z"
   },
   {
    "duration": 28,
    "start_time": "2025-04-04T03:56:43.615Z"
   },
   {
    "duration": 6,
    "start_time": "2025-04-04T03:56:43.646Z"
   },
   {
    "duration": 62,
    "start_time": "2025-04-04T03:56:43.653Z"
   },
   {
    "duration": 26,
    "start_time": "2025-04-04T03:56:43.716Z"
   },
   {
    "duration": 110,
    "start_time": "2025-04-04T03:56:43.751Z"
   },
   {
    "duration": 4,
    "start_time": "2025-04-04T03:56:43.863Z"
   },
   {
    "duration": 8,
    "start_time": "2025-04-04T03:56:43.868Z"
   },
   {
    "duration": 4,
    "start_time": "2025-04-04T03:56:43.877Z"
   },
   {
    "duration": 8,
    "start_time": "2025-04-04T03:56:43.883Z"
   },
   {
    "duration": 225,
    "start_time": "2025-04-04T03:56:43.892Z"
   },
   {
    "duration": 7,
    "start_time": "2025-04-04T03:56:44.119Z"
   },
   {
    "duration": 244,
    "start_time": "2025-04-04T03:56:44.135Z"
   },
   {
    "duration": 9,
    "start_time": "2025-04-04T03:56:44.381Z"
   },
   {
    "duration": 198,
    "start_time": "2025-04-04T03:56:44.392Z"
   },
   {
    "duration": 7,
    "start_time": "2025-04-04T03:56:44.592Z"
   },
   {
    "duration": 167,
    "start_time": "2025-04-04T03:56:44.600Z"
   },
   {
    "duration": 8,
    "start_time": "2025-04-04T03:56:44.768Z"
   },
   {
    "duration": 246,
    "start_time": "2025-04-04T03:56:44.778Z"
   },
   {
    "duration": 28,
    "start_time": "2025-04-04T03:56:45.026Z"
   },
   {
    "duration": 258,
    "start_time": "2025-04-04T03:56:45.056Z"
   },
   {
    "duration": 215,
    "start_time": "2025-04-04T03:56:45.315Z"
   },
   {
    "duration": 15,
    "start_time": "2025-04-04T03:56:45.535Z"
   },
   {
    "duration": 206,
    "start_time": "2025-04-04T03:56:45.552Z"
   },
   {
    "duration": 8,
    "start_time": "2025-04-04T03:56:45.759Z"
   },
   {
    "duration": 238,
    "start_time": "2025-04-04T03:56:45.768Z"
   },
   {
    "duration": 236,
    "start_time": "2025-04-04T03:56:46.008Z"
   },
   {
    "duration": 506,
    "start_time": "2025-04-04T03:56:46.245Z"
   },
   {
    "duration": 8,
    "start_time": "2025-04-04T03:56:46.755Z"
   },
   {
    "duration": 303,
    "start_time": "2025-04-04T03:56:46.768Z"
   },
   {
    "duration": 81,
    "start_time": "2025-04-04T03:56:47.073Z"
   },
   {
    "duration": 521,
    "start_time": "2025-04-04T03:56:47.156Z"
   },
   {
    "duration": 503,
    "start_time": "2025-04-04T03:56:47.678Z"
   },
   {
    "duration": 16,
    "start_time": "2025-04-04T03:56:48.183Z"
   },
   {
    "duration": 59,
    "start_time": "2025-04-04T03:56:48.201Z"
   },
   {
    "duration": 276,
    "start_time": "2025-04-04T03:56:48.262Z"
   },
   {
    "duration": 4867,
    "start_time": "2025-04-04T03:59:59.229Z"
   },
   {
    "duration": 195,
    "start_time": "2025-04-04T04:00:04.099Z"
   },
   {
    "duration": 17,
    "start_time": "2025-04-04T04:00:04.296Z"
   },
   {
    "duration": 14,
    "start_time": "2025-04-04T04:00:04.314Z"
   },
   {
    "duration": 31,
    "start_time": "2025-04-04T04:00:04.330Z"
   },
   {
    "duration": 14,
    "start_time": "2025-04-04T04:00:04.363Z"
   },
   {
    "duration": 36,
    "start_time": "2025-04-04T04:00:04.379Z"
   },
   {
    "duration": 17,
    "start_time": "2025-04-04T04:00:04.417Z"
   },
   {
    "duration": 74,
    "start_time": "2025-04-04T04:00:04.436Z"
   },
   {
    "duration": 92,
    "start_time": "2025-04-04T04:00:04.511Z"
   },
   {
    "duration": 23,
    "start_time": "2025-04-04T04:00:04.604Z"
   },
   {
    "duration": 16,
    "start_time": "2025-04-04T04:00:04.629Z"
   },
   {
    "duration": 23,
    "start_time": "2025-04-04T04:00:04.651Z"
   },
   {
    "duration": 5,
    "start_time": "2025-04-04T04:00:04.677Z"
   },
   {
    "duration": 25,
    "start_time": "2025-04-04T04:00:04.683Z"
   },
   {
    "duration": 10,
    "start_time": "2025-04-04T04:00:04.710Z"
   },
   {
    "duration": 31,
    "start_time": "2025-04-04T04:00:04.721Z"
   },
   {
    "duration": 4,
    "start_time": "2025-04-04T04:00:04.753Z"
   },
   {
    "duration": 7,
    "start_time": "2025-04-04T04:00:04.758Z"
   },
   {
    "duration": 5,
    "start_time": "2025-04-04T04:00:04.767Z"
   },
   {
    "duration": 30,
    "start_time": "2025-04-04T04:00:04.773Z"
   },
   {
    "duration": 196,
    "start_time": "2025-04-04T04:00:04.804Z"
   },
   {
    "duration": 8,
    "start_time": "2025-04-04T04:00:05.002Z"
   },
   {
    "duration": 244,
    "start_time": "2025-04-04T04:00:05.012Z"
   },
   {
    "duration": 10,
    "start_time": "2025-04-04T04:00:05.258Z"
   },
   {
    "duration": 209,
    "start_time": "2025-04-04T04:00:05.270Z"
   },
   {
    "duration": 7,
    "start_time": "2025-04-04T04:00:05.480Z"
   },
   {
    "duration": 244,
    "start_time": "2025-04-04T04:00:05.489Z"
   },
   {
    "duration": 15,
    "start_time": "2025-04-04T04:00:05.734Z"
   },
   {
    "duration": 352,
    "start_time": "2025-04-04T04:00:05.755Z"
   },
   {
    "duration": 9,
    "start_time": "2025-04-04T04:00:06.109Z"
   },
   {
    "duration": 268,
    "start_time": "2025-04-04T04:00:06.119Z"
   },
   {
    "duration": 242,
    "start_time": "2025-04-04T04:00:06.389Z"
   },
   {
    "duration": 19,
    "start_time": "2025-04-04T04:00:06.634Z"
   },
   {
    "duration": 207,
    "start_time": "2025-04-04T04:00:06.655Z"
   },
   {
    "duration": 8,
    "start_time": "2025-04-04T04:00:06.864Z"
   },
   {
    "duration": 184,
    "start_time": "2025-04-04T04:00:06.873Z"
   },
   {
    "duration": 230,
    "start_time": "2025-04-04T04:00:07.059Z"
   },
   {
    "duration": 389,
    "start_time": "2025-04-04T04:00:07.290Z"
   },
   {
    "duration": 7,
    "start_time": "2025-04-04T04:00:07.681Z"
   },
   {
    "duration": 261,
    "start_time": "2025-04-04T04:00:07.691Z"
   },
   {
    "duration": 19,
    "start_time": "2025-04-04T04:00:07.955Z"
   },
   {
    "duration": 248,
    "start_time": "2025-04-04T04:00:07.975Z"
   },
   {
    "duration": 247,
    "start_time": "2025-04-04T04:00:08.225Z"
   },
   {
    "duration": 17,
    "start_time": "2025-04-04T04:00:08.474Z"
   },
   {
    "duration": 24,
    "start_time": "2025-04-04T04:00:08.492Z"
   },
   {
    "duration": 291,
    "start_time": "2025-04-04T04:00:08.518Z"
   },
   {
    "duration": 4,
    "start_time": "2025-04-04T04:01:46.952Z"
   },
   {
    "duration": 4,
    "start_time": "2025-04-04T04:01:56.351Z"
   },
   {
    "duration": 4,
    "start_time": "2025-04-04T04:02:03.768Z"
   },
   {
    "duration": 4,
    "start_time": "2025-04-04T04:02:19.448Z"
   },
   {
    "duration": 141,
    "start_time": "2025-04-04T04:08:01.802Z"
   },
   {
    "duration": 78,
    "start_time": "2025-04-04T04:08:10.690Z"
   },
   {
    "duration": 205,
    "start_time": "2025-04-04T04:11:42.006Z"
   },
   {
    "duration": 203,
    "start_time": "2025-04-04T04:11:45.423Z"
   },
   {
    "duration": 79,
    "start_time": "2025-04-04T04:11:48.414Z"
   },
   {
    "duration": 8,
    "start_time": "2025-04-04T04:25:47.256Z"
   },
   {
    "duration": 1126,
    "start_time": "2025-04-04T04:26:05.464Z"
   },
   {
    "duration": 1128,
    "start_time": "2025-04-04T04:26:20.817Z"
   },
   {
    "duration": 11,
    "start_time": "2025-04-04T04:28:09.127Z"
   },
   {
    "duration": 7,
    "start_time": "2025-04-04T04:28:13.142Z"
   },
   {
    "duration": 7,
    "start_time": "2025-04-04T04:28:53.868Z"
   },
   {
    "duration": 214,
    "start_time": "2025-04-04T04:30:15.204Z"
   },
   {
    "duration": 223,
    "start_time": "2025-04-04T04:30:28.628Z"
   },
   {
    "duration": 23,
    "start_time": "2025-04-04T04:32:05.626Z"
   },
   {
    "duration": 1427,
    "start_time": "2025-04-04T04:32:09.090Z"
   },
   {
    "duration": 4,
    "start_time": "2025-04-04T04:32:23.066Z"
   },
   {
    "duration": 6,
    "start_time": "2025-04-04T04:32:28.105Z"
   },
   {
    "duration": 72,
    "start_time": "2025-04-04T04:33:17.312Z"
   },
   {
    "duration": 217,
    "start_time": "2025-04-04T04:33:21.369Z"
   },
   {
    "duration": 14,
    "start_time": "2025-04-04T04:34:13.489Z"
   },
   {
    "duration": 1022,
    "start_time": "2025-04-04T04:35:13.327Z"
   },
   {
    "duration": 210,
    "start_time": "2025-04-04T04:35:19.144Z"
   },
   {
    "duration": 213,
    "start_time": "2025-04-04T04:35:24.495Z"
   },
   {
    "duration": 203,
    "start_time": "2025-04-04T04:35:32.783Z"
   },
   {
    "duration": 8,
    "start_time": "2025-04-04T04:35:55.063Z"
   },
   {
    "duration": 5,
    "start_time": "2025-04-04T04:35:56.095Z"
   },
   {
    "duration": 195,
    "start_time": "2025-04-04T04:36:03.558Z"
   },
   {
    "duration": 3991,
    "start_time": "2025-04-04T04:36:09.650Z"
   },
   {
    "duration": 312,
    "start_time": "2025-04-04T04:36:13.645Z"
   },
   {
    "duration": 16,
    "start_time": "2025-04-04T04:36:13.959Z"
   },
   {
    "duration": 75,
    "start_time": "2025-04-04T04:36:13.976Z"
   },
   {
    "duration": 8,
    "start_time": "2025-04-04T04:36:14.054Z"
   },
   {
    "duration": 10,
    "start_time": "2025-04-04T04:36:14.063Z"
   },
   {
    "duration": 71,
    "start_time": "2025-04-04T04:36:14.075Z"
   },
   {
    "duration": 22,
    "start_time": "2025-04-04T04:36:14.154Z"
   },
   {
    "duration": 6,
    "start_time": "2025-04-04T04:36:14.178Z"
   },
   {
    "duration": 55,
    "start_time": "2025-04-04T04:36:14.186Z"
   },
   {
    "duration": 30,
    "start_time": "2025-04-04T04:36:14.243Z"
   },
   {
    "duration": 11,
    "start_time": "2025-04-04T04:36:14.275Z"
   },
   {
    "duration": 74,
    "start_time": "2025-04-04T04:36:14.287Z"
   },
   {
    "duration": 5,
    "start_time": "2025-04-04T04:36:14.364Z"
   },
   {
    "duration": 11,
    "start_time": "2025-04-04T04:36:14.370Z"
   },
   {
    "duration": 68,
    "start_time": "2025-04-04T04:36:14.383Z"
   },
   {
    "duration": 19,
    "start_time": "2025-04-04T04:36:14.453Z"
   },
   {
    "duration": 4,
    "start_time": "2025-04-04T04:36:14.474Z"
   },
   {
    "duration": 4,
    "start_time": "2025-04-04T04:36:14.480Z"
   },
   {
    "duration": 14,
    "start_time": "2025-04-04T04:36:14.485Z"
   },
   {
    "duration": 45,
    "start_time": "2025-04-04T04:36:14.501Z"
   },
   {
    "duration": 8,
    "start_time": "2025-04-04T04:36:14.548Z"
   },
   {
    "duration": 255,
    "start_time": "2025-04-04T04:36:14.558Z"
   },
   {
    "duration": 8,
    "start_time": "2025-04-04T04:36:14.814Z"
   },
   {
    "duration": 224,
    "start_time": "2025-04-04T04:36:14.823Z"
   },
   {
    "duration": 8,
    "start_time": "2025-04-04T04:36:15.049Z"
   },
   {
    "duration": 198,
    "start_time": "2025-04-04T04:36:15.059Z"
   },
   {
    "duration": 7,
    "start_time": "2025-04-04T04:36:15.258Z"
   },
   {
    "duration": 97,
    "start_time": "2025-04-04T04:36:15.266Z"
   },
   {
    "duration": 7,
    "start_time": "2025-04-04T04:36:15.365Z"
   },
   {
    "duration": 11,
    "start_time": "2025-04-04T04:36:15.374Z"
   },
   {
    "duration": 201,
    "start_time": "2025-04-04T04:36:15.387Z"
   },
   {
    "duration": 8,
    "start_time": "2025-04-04T04:36:15.590Z"
   },
   {
    "duration": 250,
    "start_time": "2025-04-04T04:36:15.599Z"
   },
   {
    "duration": 420,
    "start_time": "2025-04-04T04:36:15.851Z"
   },
   {
    "duration": 8,
    "start_time": "2025-04-04T04:36:16.273Z"
   },
   {
    "duration": 475,
    "start_time": "2025-04-04T04:36:16.282Z"
   },
   {
    "duration": 7,
    "start_time": "2025-04-04T04:36:16.759Z"
   },
   {
    "duration": 386,
    "start_time": "2025-04-04T04:36:16.768Z"
   },
   {
    "duration": 495,
    "start_time": "2025-04-04T04:36:17.155Z"
   },
   {
    "duration": 370,
    "start_time": "2025-04-04T04:36:17.654Z"
   },
   {
    "duration": 23,
    "start_time": "2025-04-04T04:36:18.026Z"
   },
   {
    "duration": 129,
    "start_time": "2025-04-04T04:36:18.051Z"
   },
   {
    "duration": 19,
    "start_time": "2025-04-04T04:36:18.181Z"
   },
   {
    "duration": 272,
    "start_time": "2025-04-04T04:36:18.201Z"
   },
   {
    "duration": 236,
    "start_time": "2025-04-04T04:36:18.475Z"
   },
   {
    "duration": 36,
    "start_time": "2025-04-04T04:36:18.713Z"
   },
   {
    "duration": 17,
    "start_time": "2025-04-04T04:36:18.751Z"
   },
   {
    "duration": 272,
    "start_time": "2025-04-04T04:36:18.770Z"
   },
   {
    "duration": 107,
    "start_time": "2025-04-04T04:37:20.301Z"
   },
   {
    "duration": 189,
    "start_time": "2025-04-04T04:37:25.101Z"
   },
   {
    "duration": 208,
    "start_time": "2025-04-04T04:37:41.932Z"
   },
   {
    "duration": 5359,
    "start_time": "2025-04-04T07:25:50.072Z"
   },
   {
    "duration": 431,
    "start_time": "2025-04-04T07:25:55.434Z"
   },
   {
    "duration": 16,
    "start_time": "2025-04-04T07:25:55.869Z"
   },
   {
    "duration": 14,
    "start_time": "2025-04-04T07:25:55.887Z"
   },
   {
    "duration": 9,
    "start_time": "2025-04-04T07:25:55.903Z"
   },
   {
    "duration": 27,
    "start_time": "2025-04-04T07:25:55.913Z"
   },
   {
    "duration": 26,
    "start_time": "2025-04-04T07:25:55.941Z"
   },
   {
    "duration": 15,
    "start_time": "2025-04-04T07:25:55.968Z"
   },
   {
    "duration": 4,
    "start_time": "2025-04-04T07:25:55.984Z"
   },
   {
    "duration": 5,
    "start_time": "2025-04-04T07:25:55.989Z"
   },
   {
    "duration": 15,
    "start_time": "2025-04-04T07:25:55.995Z"
   },
   {
    "duration": 7,
    "start_time": "2025-04-04T07:25:56.035Z"
   },
   {
    "duration": 19,
    "start_time": "2025-04-04T07:25:56.045Z"
   },
   {
    "duration": 4,
    "start_time": "2025-04-04T07:25:56.066Z"
   },
   {
    "duration": 10,
    "start_time": "2025-04-04T07:25:56.071Z"
   },
   {
    "duration": 8,
    "start_time": "2025-04-04T07:25:56.083Z"
   },
   {
    "duration": 50,
    "start_time": "2025-04-04T07:25:56.093Z"
   },
   {
    "duration": 4,
    "start_time": "2025-04-04T07:25:56.144Z"
   },
   {
    "duration": 3,
    "start_time": "2025-04-04T07:25:56.149Z"
   },
   {
    "duration": 7,
    "start_time": "2025-04-04T07:25:56.154Z"
   },
   {
    "duration": 5,
    "start_time": "2025-04-04T07:25:56.162Z"
   },
   {
    "duration": 10,
    "start_time": "2025-04-04T07:25:56.168Z"
   },
   {
    "duration": 209,
    "start_time": "2025-04-04T07:25:56.180Z"
   },
   {
    "duration": 7,
    "start_time": "2025-04-04T07:25:56.391Z"
   },
   {
    "duration": 267,
    "start_time": "2025-04-04T07:25:56.400Z"
   },
   {
    "duration": 9,
    "start_time": "2025-04-04T07:25:56.668Z"
   },
   {
    "duration": 177,
    "start_time": "2025-04-04T07:25:56.678Z"
   },
   {
    "duration": 6,
    "start_time": "2025-04-04T07:25:56.857Z"
   },
   {
    "duration": 96,
    "start_time": "2025-04-04T07:25:56.864Z"
   },
   {
    "duration": 8,
    "start_time": "2025-04-04T07:25:56.962Z"
   },
   {
    "duration": 5,
    "start_time": "2025-04-04T07:25:56.971Z"
   },
   {
    "duration": 205,
    "start_time": "2025-04-04T07:25:56.977Z"
   },
   {
    "duration": 10,
    "start_time": "2025-04-04T07:25:57.184Z"
   },
   {
    "duration": 266,
    "start_time": "2025-04-04T07:25:57.196Z"
   },
   {
    "duration": 196,
    "start_time": "2025-04-04T07:25:57.464Z"
   },
   {
    "duration": 7,
    "start_time": "2025-04-04T07:25:57.661Z"
   },
   {
    "duration": 186,
    "start_time": "2025-04-04T07:25:57.669Z"
   },
   {
    "duration": 8,
    "start_time": "2025-04-04T07:25:57.857Z"
   },
   {
    "duration": 172,
    "start_time": "2025-04-04T07:25:57.866Z"
   },
   {
    "duration": 304,
    "start_time": "2025-04-04T07:25:58.042Z"
   },
   {
    "duration": 492,
    "start_time": "2025-04-04T07:25:58.347Z"
   },
   {
    "duration": 10,
    "start_time": "2025-04-04T07:25:58.841Z"
   },
   {
    "duration": 302,
    "start_time": "2025-04-04T07:25:58.852Z"
   },
   {
    "duration": 18,
    "start_time": "2025-04-04T07:25:59.155Z"
   },
   {
    "duration": 377,
    "start_time": "2025-04-04T07:25:59.174Z"
   },
   {
    "duration": 311,
    "start_time": "2025-04-04T07:25:59.553Z"
   },
   {
    "duration": 16,
    "start_time": "2025-04-04T07:25:59.865Z"
   },
   {
    "duration": 17,
    "start_time": "2025-04-04T07:25:59.883Z"
   },
   {
    "duration": 386,
    "start_time": "2025-04-04T07:25:59.901Z"
   },
   {
    "duration": 84,
    "start_time": "2025-04-04T07:28:49.865Z"
   }
  ],
  "kernelspec": {
   "display_name": "Python 3 (ipykernel)",
   "language": "python",
   "name": "python3"
  },
  "language_info": {
   "codemirror_mode": {
    "name": "ipython",
    "version": 3
   },
   "file_extension": ".py",
   "mimetype": "text/x-python",
   "name": "python",
   "nbconvert_exporter": "python",
   "pygments_lexer": "ipython3",
   "version": "3.9.5"
  },
  "toc": {
   "base_numbering": 1,
   "nav_menu": {},
   "number_sections": true,
   "sideBar": true,
   "skip_h1_title": true,
   "title_cell": "Table of Contents",
   "title_sidebar": "Contents",
   "toc_cell": false,
   "toc_position": {
    "height": "calc(100% - 180px)",
    "left": "10px",
    "top": "150px",
    "width": "384px"
   },
   "toc_section_display": true,
   "toc_window_display": false
  }
 },
 "nbformat": 4,
 "nbformat_minor": 5
}
